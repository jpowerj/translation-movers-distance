{
 "cells": [
  {
   "cell_type": "code",
   "execution_count": 1,
   "metadata": {
    "collapsed": true
   },
   "outputs": [],
   "source": [
    "%load_ext autoreload\n",
    "%autoreload 2"
   ]
  },
  {
   "cell_type": "markdown",
   "source": [
    "[https://github.com/christos-c/bible-corpus](https://github.com/christos-c/bible-corpus)"
   ],
   "metadata": {
    "collapsed": false,
    "pycharm": {
     "name": "#%% md\n"
    }
   }
  },
  {
   "cell_type": "code",
   "execution_count": 2,
   "outputs": [],
   "source": [
    "import joblib\n",
    "import xmltodict\n",
    "\n",
    "import pandas as pd\n",
    "import numpy as np\n",
    "\n",
    "import trglobals"
   ],
   "metadata": {
    "collapsed": false,
    "pycharm": {
     "name": "#%%\n"
    }
   }
  },
  {
   "cell_type": "code",
   "execution_count": 3,
   "outputs": [],
   "source": [
    "import xml.etree.ElementTree as ET"
   ],
   "metadata": {
    "collapsed": false,
    "pycharm": {
     "name": "#%%\n"
    }
   }
  },
  {
   "cell_type": "code",
   "execution_count": 4,
   "outputs": [],
   "source": [
    "lang_fpath = f\"../Texts/bible-corpus/bibles/Chinese.xml\"\n",
    "all_segs = []\n",
    "root = ET.fromstring(open(lang_fpath, 'r', encoding='utf-8').read())"
   ],
   "metadata": {
    "collapsed": false,
    "pycharm": {
     "name": "#%%\n"
    }
   }
  },
  {
   "cell_type": "code",
   "execution_count": 5,
   "outputs": [],
   "source": [
    "segs = list(root.iter('seg'))"
   ],
   "metadata": {
    "collapsed": false,
    "pycharm": {
     "name": "#%%\n"
    }
   }
  },
  {
   "cell_type": "code",
   "execution_count": 6,
   "outputs": [
    {
     "data": {
      "text/plain": "[('id', 'b.GEN.1.1'), ('type', 'verse')]"
     },
     "execution_count": 6,
     "metadata": {},
     "output_type": "execute_result"
    }
   ],
   "source": [
    "segs[0].items()"
   ],
   "metadata": {
    "collapsed": false,
    "pycharm": {
     "name": "#%%\n"
    }
   }
  },
  {
   "cell_type": "code",
   "execution_count": 7,
   "outputs": [],
   "source": [
    "def get_bible_lines(lang):\n",
    "    lang_fpath = f\"../Texts/bible-corpus/bibles/{lang}.xml\"\n",
    "    all_seg_data = []\n",
    "    root = ET.fromstring(open(lang_fpath, 'r', encoding='utf-8').read())\n",
    "    for n in root.iter('seg'):\n",
    "        cur_seg_id = n.items()[0][1]\n",
    "        cur_seg = n.text.strip()\n",
    "        all_seg_data.append({'seg_id': cur_seg_id, 'seg': cur_seg})\n",
    "    return all_seg_data"
   ],
   "metadata": {
    "collapsed": false,
    "pycharm": {
     "name": "#%%\n"
    }
   }
  },
  {
   "cell_type": "code",
   "execution_count": 8,
   "outputs": [],
   "source": [
    "zh_seg_data = get_bible_lines(\"Chinese-tok\")"
   ],
   "metadata": {
    "collapsed": false,
    "pycharm": {
     "name": "#%%\n"
    }
   }
  },
  {
   "cell_type": "code",
   "execution_count": 9,
   "outputs": [],
   "source": [
    "zh_df = pd.DataFrame(zh_seg_data)"
   ],
   "metadata": {
    "collapsed": false,
    "pycharm": {
     "name": "#%%\n"
    }
   }
  },
  {
   "cell_type": "code",
   "execution_count": 10,
   "outputs": [],
   "source": [
    "lang_map = {\n",
    "    \"de\": \"German\",\n",
    "    \"en\": \"English\",\n",
    "    \"ru\": \"Russian\",\n",
    "    \"vi\": \"Vietnamese\",\n",
    "    'zh': \"Chinese-tok\",\n",
    "}"
   ],
   "metadata": {
    "collapsed": false,
    "pycharm": {
     "name": "#%%\n"
    }
   }
  },
  {
   "cell_type": "code",
   "execution_count": 11,
   "outputs": [],
   "source": [
    "bible_map = {short: pd.DataFrame(get_bible_lines(full)) for short, full in lang_map.items()}"
   ],
   "metadata": {
    "collapsed": false,
    "pycharm": {
     "name": "#%%\n"
    }
   }
  },
  {
   "cell_type": "code",
   "execution_count": 12,
   "outputs": [
    {
     "data": {
      "text/plain": "dict_keys(['de', 'en', 'ru', 'vi', 'zh'])"
     },
     "execution_count": 12,
     "metadata": {},
     "output_type": "execute_result"
    }
   ],
   "source": [
    "bible_map.keys()"
   ],
   "metadata": {
    "collapsed": false,
    "pycharm": {
     "name": "#%%\n"
    }
   }
  },
  {
   "cell_type": "code",
   "execution_count": 13,
   "outputs": [
    {
     "data": {
      "text/plain": "       seg_id                                                seg\n0   b.GEN.1.1           Ban đầu Ðức Chúa Trời dựng nên trời đất.\n1   b.GEN.1.2  Vả, đất là vô hình và trống không, sự mờ tối ở...\n2   b.GEN.1.3  Ðức Chúa Trời phán rằng: Phải có sự sáng; thì ...\n3   b.GEN.1.4  Ðức Chúa Trời thấy sự sáng là tốt lành, bèn ph...\n4   b.GEN.1.5  Ðức Chúa Trời đặt tên sự sáng là ngày; sự tối ...\n5   b.GEN.1.6  Ðức Chúa Trời lại phán rằng: Phải có một khoản...\n6   b.GEN.1.7  Ngài làm nên khoảng không, phân rẽ nước ở dưới...\n7   b.GEN.1.8  Ðức Chúa Trời đặt tên khoảng không là trời. Vậ...\n8   b.GEN.1.9  Ðức Chúa Trời lại phán rằng: Những nước ở dưới...\n9  b.GEN.1.10  Ðức Chúa Trời đặt tên chỗ khô cạn là đất, còn ...",
      "text/html": "<div>\n<style scoped>\n    .dataframe tbody tr th:only-of-type {\n        vertical-align: middle;\n    }\n\n    .dataframe tbody tr th {\n        vertical-align: top;\n    }\n\n    .dataframe thead th {\n        text-align: right;\n    }\n</style>\n<table border=\"1\" class=\"dataframe\">\n  <thead>\n    <tr style=\"text-align: right;\">\n      <th></th>\n      <th>seg_id</th>\n      <th>seg</th>\n    </tr>\n  </thead>\n  <tbody>\n    <tr>\n      <th>0</th>\n      <td>b.GEN.1.1</td>\n      <td>Ban đầu Ðức Chúa Trời dựng nên trời đất.</td>\n    </tr>\n    <tr>\n      <th>1</th>\n      <td>b.GEN.1.2</td>\n      <td>Vả, đất là vô hình và trống không, sự mờ tối ở...</td>\n    </tr>\n    <tr>\n      <th>2</th>\n      <td>b.GEN.1.3</td>\n      <td>Ðức Chúa Trời phán rằng: Phải có sự sáng; thì ...</td>\n    </tr>\n    <tr>\n      <th>3</th>\n      <td>b.GEN.1.4</td>\n      <td>Ðức Chúa Trời thấy sự sáng là tốt lành, bèn ph...</td>\n    </tr>\n    <tr>\n      <th>4</th>\n      <td>b.GEN.1.5</td>\n      <td>Ðức Chúa Trời đặt tên sự sáng là ngày; sự tối ...</td>\n    </tr>\n    <tr>\n      <th>5</th>\n      <td>b.GEN.1.6</td>\n      <td>Ðức Chúa Trời lại phán rằng: Phải có một khoản...</td>\n    </tr>\n    <tr>\n      <th>6</th>\n      <td>b.GEN.1.7</td>\n      <td>Ngài làm nên khoảng không, phân rẽ nước ở dưới...</td>\n    </tr>\n    <tr>\n      <th>7</th>\n      <td>b.GEN.1.8</td>\n      <td>Ðức Chúa Trời đặt tên khoảng không là trời. Vậ...</td>\n    </tr>\n    <tr>\n      <th>8</th>\n      <td>b.GEN.1.9</td>\n      <td>Ðức Chúa Trời lại phán rằng: Những nước ở dưới...</td>\n    </tr>\n    <tr>\n      <th>9</th>\n      <td>b.GEN.1.10</td>\n      <td>Ðức Chúa Trời đặt tên chỗ khô cạn là đất, còn ...</td>\n    </tr>\n  </tbody>\n</table>\n</div>"
     },
     "execution_count": 13,
     "metadata": {},
     "output_type": "execute_result"
    }
   ],
   "source": [
    "bible_map['vi'][:10]"
   ],
   "metadata": {
    "collapsed": false,
    "pycharm": {
     "name": "#%%\n"
    }
   }
  },
  {
   "cell_type": "code",
   "execution_count": 14,
   "outputs": [],
   "source": [
    "def get_bib_lens(bib_map):\n",
    "    return {lang: len(bib) for lang, bib in bib_map.items()}"
   ],
   "metadata": {
    "collapsed": false,
    "pycharm": {
     "name": "#%%\n"
    }
   }
  },
  {
   "cell_type": "code",
   "execution_count": 15,
   "outputs": [
    {
     "data": {
      "text/plain": "{'de': 31102, 'en': 31102, 'ru': 31102, 'vi': 31102, 'zh': 31101}"
     },
     "execution_count": 15,
     "metadata": {},
     "output_type": "execute_result"
    }
   ],
   "source": [
    "get_bib_lens(bible_map)"
   ],
   "metadata": {
    "collapsed": false,
    "pycharm": {
     "name": "#%%\n"
    }
   }
  },
  {
   "cell_type": "markdown",
   "source": [
    "### Find the gap in zh"
   ],
   "metadata": {
    "collapsed": false,
    "pycharm": {
     "name": "#%% md\n"
    }
   }
  },
  {
   "cell_type": "code",
   "execution_count": 82,
   "outputs": [],
   "source": [
    "de_df = bible_map['de']\n",
    "de_df['lang'] = 'de'\n",
    "zh_df = bible_map['zh']\n",
    "zh_df['lang'] = 'zh'"
   ],
   "metadata": {
    "collapsed": false,
    "pycharm": {
     "name": "#%%\n"
    }
   }
  },
  {
   "cell_type": "code",
   "execution_count": 83,
   "outputs": [],
   "source": [
    "merged_df = de_df.merge(zh_df, on=\"seg_id\", how='left')"
   ],
   "metadata": {
    "collapsed": false,
    "pycharm": {
     "name": "#%%\n"
    }
   }
  },
  {
   "cell_type": "code",
   "execution_count": 84,
   "outputs": [
    {
     "data": {
      "text/plain": "            seg_id                                              seg_x lang_x  \\\n0        b.GEN.1.1              Am Anfang schuf Gott Himmel und Erde.     de   \n1        b.GEN.1.2  Und die Erde war wüst und leer, und es war fin...     de   \n2        b.GEN.1.3  Und Gott sprach: Es werde Licht! und es ward L...     de   \n3        b.GEN.1.4  Und Gott sah, daß das Licht gut war. Da schied...     de   \n4        b.GEN.1.5  und nannte das Licht Tag und die Finsternis Na...     de   \n...            ...                                                ...    ...   \n31097  b.REV.22.17  Und der Geist und die Braut sprechen: Komm! Un...     de   \n31098  b.REV.22.18  Ich bezeuge allen, die da hören die Worte der ...     de   \n31099  b.REV.22.19  Und so jemand davontut von den Worten des Buch...     de   \n31100  b.REV.22.20  Es spricht, der solches bezeugt: Ja, ich komme...     de   \n31101  b.REV.22.21  Die Gnade unsers HERRN Jesu Christi sei mit eu...     de   \n\n                                                   seg_y lang_y  \n0                                             起初 神 創造 天地     zh  \n1                       地是 空虛 混沌 ． 淵面 黑暗 ． 神 的 靈運 行在 水面上     zh  \n2                                   神說 、 要 有 光 、 就 有 了 光     zh  \n3                               神 看 光是 好 的 、 就 把 光 暗 分開了     zh  \n4                    神稱光為晝 、 稱暗為夜 ． 有 晚上 、 有 早晨 、 這是 頭一日     zh  \n...                                                  ...    ...  \n31097  聖靈 和 新婦 都 說來 。 聽見 的 人 也 該說來 。 口渴 的 人 也 當來 ． 願意...     zh  \n31098  我 向 一切 聽見這書 上 豫 言 的 作見證 、 若 有 人 在 這豫 言 上 加添 甚 ...     zh  \n31099  這書 上 的 豫言 、 若 有 人 刪 去 甚麼 、 神必從這書 上 所 寫 的 生命樹 、...     zh  \n31100       證明 這事 的 說 、 是 了 ． 我 必 快來 。 阿們 。 主耶 穌阿 、 我願你來     zh  \n31101                        願主 耶穌 的 恩惠 、 常與眾 聖徒 同在 。 阿們     zh  \n\n[31102 rows x 5 columns]",
      "text/html": "<div>\n<style scoped>\n    .dataframe tbody tr th:only-of-type {\n        vertical-align: middle;\n    }\n\n    .dataframe tbody tr th {\n        vertical-align: top;\n    }\n\n    .dataframe thead th {\n        text-align: right;\n    }\n</style>\n<table border=\"1\" class=\"dataframe\">\n  <thead>\n    <tr style=\"text-align: right;\">\n      <th></th>\n      <th>seg_id</th>\n      <th>seg_x</th>\n      <th>lang_x</th>\n      <th>seg_y</th>\n      <th>lang_y</th>\n    </tr>\n  </thead>\n  <tbody>\n    <tr>\n      <th>0</th>\n      <td>b.GEN.1.1</td>\n      <td>Am Anfang schuf Gott Himmel und Erde.</td>\n      <td>de</td>\n      <td>起初 神 創造 天地</td>\n      <td>zh</td>\n    </tr>\n    <tr>\n      <th>1</th>\n      <td>b.GEN.1.2</td>\n      <td>Und die Erde war wüst und leer, und es war fin...</td>\n      <td>de</td>\n      <td>地是 空虛 混沌 ． 淵面 黑暗 ． 神 的 靈運 行在 水面上</td>\n      <td>zh</td>\n    </tr>\n    <tr>\n      <th>2</th>\n      <td>b.GEN.1.3</td>\n      <td>Und Gott sprach: Es werde Licht! und es ward L...</td>\n      <td>de</td>\n      <td>神說 、 要 有 光 、 就 有 了 光</td>\n      <td>zh</td>\n    </tr>\n    <tr>\n      <th>3</th>\n      <td>b.GEN.1.4</td>\n      <td>Und Gott sah, daß das Licht gut war. Da schied...</td>\n      <td>de</td>\n      <td>神 看 光是 好 的 、 就 把 光 暗 分開了</td>\n      <td>zh</td>\n    </tr>\n    <tr>\n      <th>4</th>\n      <td>b.GEN.1.5</td>\n      <td>und nannte das Licht Tag und die Finsternis Na...</td>\n      <td>de</td>\n      <td>神稱光為晝 、 稱暗為夜 ． 有 晚上 、 有 早晨 、 這是 頭一日</td>\n      <td>zh</td>\n    </tr>\n    <tr>\n      <th>...</th>\n      <td>...</td>\n      <td>...</td>\n      <td>...</td>\n      <td>...</td>\n      <td>...</td>\n    </tr>\n    <tr>\n      <th>31097</th>\n      <td>b.REV.22.17</td>\n      <td>Und der Geist und die Braut sprechen: Komm! Un...</td>\n      <td>de</td>\n      <td>聖靈 和 新婦 都 說來 。 聽見 的 人 也 該說來 。 口渴 的 人 也 當來 ． 願意...</td>\n      <td>zh</td>\n    </tr>\n    <tr>\n      <th>31098</th>\n      <td>b.REV.22.18</td>\n      <td>Ich bezeuge allen, die da hören die Worte der ...</td>\n      <td>de</td>\n      <td>我 向 一切 聽見這書 上 豫 言 的 作見證 、 若 有 人 在 這豫 言 上 加添 甚 ...</td>\n      <td>zh</td>\n    </tr>\n    <tr>\n      <th>31099</th>\n      <td>b.REV.22.19</td>\n      <td>Und so jemand davontut von den Worten des Buch...</td>\n      <td>de</td>\n      <td>這書 上 的 豫言 、 若 有 人 刪 去 甚麼 、 神必從這書 上 所 寫 的 生命樹 、...</td>\n      <td>zh</td>\n    </tr>\n    <tr>\n      <th>31100</th>\n      <td>b.REV.22.20</td>\n      <td>Es spricht, der solches bezeugt: Ja, ich komme...</td>\n      <td>de</td>\n      <td>證明 這事 的 說 、 是 了 ． 我 必 快來 。 阿們 。 主耶 穌阿 、 我願你來</td>\n      <td>zh</td>\n    </tr>\n    <tr>\n      <th>31101</th>\n      <td>b.REV.22.21</td>\n      <td>Die Gnade unsers HERRN Jesu Christi sei mit eu...</td>\n      <td>de</td>\n      <td>願主 耶穌 的 恩惠 、 常與眾 聖徒 同在 。 阿們</td>\n      <td>zh</td>\n    </tr>\n  </tbody>\n</table>\n<p>31102 rows × 5 columns</p>\n</div>"
     },
     "execution_count": 84,
     "metadata": {},
     "output_type": "execute_result"
    }
   ],
   "source": [
    "merged_df"
   ],
   "metadata": {
    "collapsed": false,
    "pycharm": {
     "name": "#%%\n"
    }
   }
  },
  {
   "cell_type": "code",
   "execution_count": 85,
   "outputs": [
    {
     "data": {
      "text/plain": "            seg_id                                              seg_x lang_x  \\\n1983   b.EXO.16.36     Ein Gomer aber ist der zehnte Teil eines Epha.     de   \n10983  b.1CH.22.19  So richtet nun euer Herz und eure Seele, den H...     de   \n26381   b.JOH.7.53                  Und ein jeglicher ging also heim.     de   \n\n      seg_y lang_y  \n1983    NaN    NaN  \n10983   NaN    NaN  \n26381   NaN    NaN  ",
      "text/html": "<div>\n<style scoped>\n    .dataframe tbody tr th:only-of-type {\n        vertical-align: middle;\n    }\n\n    .dataframe tbody tr th {\n        vertical-align: top;\n    }\n\n    .dataframe thead th {\n        text-align: right;\n    }\n</style>\n<table border=\"1\" class=\"dataframe\">\n  <thead>\n    <tr style=\"text-align: right;\">\n      <th></th>\n      <th>seg_id</th>\n      <th>seg_x</th>\n      <th>lang_x</th>\n      <th>seg_y</th>\n      <th>lang_y</th>\n    </tr>\n  </thead>\n  <tbody>\n    <tr>\n      <th>1983</th>\n      <td>b.EXO.16.36</td>\n      <td>Ein Gomer aber ist der zehnte Teil eines Epha.</td>\n      <td>de</td>\n      <td>NaN</td>\n      <td>NaN</td>\n    </tr>\n    <tr>\n      <th>10983</th>\n      <td>b.1CH.22.19</td>\n      <td>So richtet nun euer Herz und eure Seele, den H...</td>\n      <td>de</td>\n      <td>NaN</td>\n      <td>NaN</td>\n    </tr>\n    <tr>\n      <th>26381</th>\n      <td>b.JOH.7.53</td>\n      <td>Und ein jeglicher ging also heim.</td>\n      <td>de</td>\n      <td>NaN</td>\n      <td>NaN</td>\n    </tr>\n  </tbody>\n</table>\n</div>"
     },
     "execution_count": 85,
     "metadata": {},
     "output_type": "execute_result"
    }
   ],
   "source": [
    "de_only = merged_df[pd.isna(merged_df['seg_y'])]\n",
    "de_only"
   ],
   "metadata": {
    "collapsed": false,
    "pycharm": {
     "name": "#%%\n"
    }
   }
  },
  {
   "cell_type": "code",
   "execution_count": 86,
   "outputs": [],
   "source": [
    "rev_merged_df = zh_df.merge(de_df, on='seg_id', how='left')"
   ],
   "metadata": {
    "collapsed": false,
    "pycharm": {
     "name": "#%%\n"
    }
   }
  },
  {
   "cell_type": "code",
   "execution_count": 89,
   "outputs": [
    {
     "data": {
      "text/plain": "['b.1CH.21.31', 'b.3JO.1.15']"
     },
     "execution_count": 89,
     "metadata": {},
     "output_type": "execute_result"
    }
   ],
   "source": [
    "zh_only = list(rev_merged_df[pd.isna(rev_merged_df['seg_y'])]['seg_id'].values)\n",
    "zh_only"
   ],
   "metadata": {
    "collapsed": false,
    "pycharm": {
     "name": "#%%\n"
    }
   }
  },
  {
   "cell_type": "code",
   "execution_count": 91,
   "outputs": [],
   "source": [
    "merged_df.rename(columns={'seg_x':'de', 'seg_y': 'zh'}, inplace=True)"
   ],
   "metadata": {
    "collapsed": false,
    "pycharm": {
     "name": "#%%\n"
    }
   }
  },
  {
   "cell_type": "code",
   "execution_count": 93,
   "outputs": [],
   "source": [
    "merged_df.drop(columns=['lang_x','lang_y'], inplace=True)"
   ],
   "metadata": {
    "collapsed": false,
    "pycharm": {
     "name": "#%%\n"
    }
   }
  },
  {
   "cell_type": "code",
   "execution_count": 95,
   "outputs": [],
   "source": [
    "merged_df = merged_df[[\"de\",\"zh\",\"seg_id\"]]"
   ],
   "metadata": {
    "collapsed": false,
    "pycharm": {
     "name": "#%%\n"
    }
   }
  },
  {
   "cell_type": "code",
   "execution_count": 96,
   "outputs": [
    {
     "data": {
      "text/plain": "                                                      de  \\\n0                  Am Anfang schuf Gott Himmel und Erde.   \n1      Und die Erde war wüst und leer, und es war fin...   \n2      Und Gott sprach: Es werde Licht! und es ward L...   \n3      Und Gott sah, daß das Licht gut war. Da schied...   \n4      und nannte das Licht Tag und die Finsternis Na...   \n...                                                  ...   \n31097  Und der Geist und die Braut sprechen: Komm! Un...   \n31098  Ich bezeuge allen, die da hören die Worte der ...   \n31099  Und so jemand davontut von den Worten des Buch...   \n31100  Es spricht, der solches bezeugt: Ja, ich komme...   \n31101  Die Gnade unsers HERRN Jesu Christi sei mit eu...   \n\n                                                      zh       seg_id  \n0                                             起初 神 創造 天地    b.GEN.1.1  \n1                       地是 空虛 混沌 ． 淵面 黑暗 ． 神 的 靈運 行在 水面上    b.GEN.1.2  \n2                                   神說 、 要 有 光 、 就 有 了 光    b.GEN.1.3  \n3                               神 看 光是 好 的 、 就 把 光 暗 分開了    b.GEN.1.4  \n4                    神稱光為晝 、 稱暗為夜 ． 有 晚上 、 有 早晨 、 這是 頭一日    b.GEN.1.5  \n...                                                  ...          ...  \n31097  聖靈 和 新婦 都 說來 。 聽見 的 人 也 該說來 。 口渴 的 人 也 當來 ． 願意...  b.REV.22.17  \n31098  我 向 一切 聽見這書 上 豫 言 的 作見證 、 若 有 人 在 這豫 言 上 加添 甚 ...  b.REV.22.18  \n31099  這書 上 的 豫言 、 若 有 人 刪 去 甚麼 、 神必從這書 上 所 寫 的 生命樹 、...  b.REV.22.19  \n31100       證明 這事 的 說 、 是 了 ． 我 必 快來 。 阿們 。 主耶 穌阿 、 我願你來  b.REV.22.20  \n31101                        願主 耶穌 的 恩惠 、 常與眾 聖徒 同在 。 阿們  b.REV.22.21  \n\n[31102 rows x 3 columns]",
      "text/html": "<div>\n<style scoped>\n    .dataframe tbody tr th:only-of-type {\n        vertical-align: middle;\n    }\n\n    .dataframe tbody tr th {\n        vertical-align: top;\n    }\n\n    .dataframe thead th {\n        text-align: right;\n    }\n</style>\n<table border=\"1\" class=\"dataframe\">\n  <thead>\n    <tr style=\"text-align: right;\">\n      <th></th>\n      <th>de</th>\n      <th>zh</th>\n      <th>seg_id</th>\n    </tr>\n  </thead>\n  <tbody>\n    <tr>\n      <th>0</th>\n      <td>Am Anfang schuf Gott Himmel und Erde.</td>\n      <td>起初 神 創造 天地</td>\n      <td>b.GEN.1.1</td>\n    </tr>\n    <tr>\n      <th>1</th>\n      <td>Und die Erde war wüst und leer, und es war fin...</td>\n      <td>地是 空虛 混沌 ． 淵面 黑暗 ． 神 的 靈運 行在 水面上</td>\n      <td>b.GEN.1.2</td>\n    </tr>\n    <tr>\n      <th>2</th>\n      <td>Und Gott sprach: Es werde Licht! und es ward L...</td>\n      <td>神說 、 要 有 光 、 就 有 了 光</td>\n      <td>b.GEN.1.3</td>\n    </tr>\n    <tr>\n      <th>3</th>\n      <td>Und Gott sah, daß das Licht gut war. Da schied...</td>\n      <td>神 看 光是 好 的 、 就 把 光 暗 分開了</td>\n      <td>b.GEN.1.4</td>\n    </tr>\n    <tr>\n      <th>4</th>\n      <td>und nannte das Licht Tag und die Finsternis Na...</td>\n      <td>神稱光為晝 、 稱暗為夜 ． 有 晚上 、 有 早晨 、 這是 頭一日</td>\n      <td>b.GEN.1.5</td>\n    </tr>\n    <tr>\n      <th>...</th>\n      <td>...</td>\n      <td>...</td>\n      <td>...</td>\n    </tr>\n    <tr>\n      <th>31097</th>\n      <td>Und der Geist und die Braut sprechen: Komm! Un...</td>\n      <td>聖靈 和 新婦 都 說來 。 聽見 的 人 也 該說來 。 口渴 的 人 也 當來 ． 願意...</td>\n      <td>b.REV.22.17</td>\n    </tr>\n    <tr>\n      <th>31098</th>\n      <td>Ich bezeuge allen, die da hören die Worte der ...</td>\n      <td>我 向 一切 聽見這書 上 豫 言 的 作見證 、 若 有 人 在 這豫 言 上 加添 甚 ...</td>\n      <td>b.REV.22.18</td>\n    </tr>\n    <tr>\n      <th>31099</th>\n      <td>Und so jemand davontut von den Worten des Buch...</td>\n      <td>這書 上 的 豫言 、 若 有 人 刪 去 甚麼 、 神必從這書 上 所 寫 的 生命樹 、...</td>\n      <td>b.REV.22.19</td>\n    </tr>\n    <tr>\n      <th>31100</th>\n      <td>Es spricht, der solches bezeugt: Ja, ich komme...</td>\n      <td>證明 這事 的 說 、 是 了 ． 我 必 快來 。 阿們 。 主耶 穌阿 、 我願你來</td>\n      <td>b.REV.22.20</td>\n    </tr>\n    <tr>\n      <th>31101</th>\n      <td>Die Gnade unsers HERRN Jesu Christi sei mit eu...</td>\n      <td>願主 耶穌 的 恩惠 、 常與眾 聖徒 同在 。 阿們</td>\n      <td>b.REV.22.21</td>\n    </tr>\n  </tbody>\n</table>\n<p>31102 rows × 3 columns</p>\n</div>"
     },
     "execution_count": 96,
     "metadata": {},
     "output_type": "execute_result"
    }
   ],
   "source": [
    "merged_df"
   ],
   "metadata": {
    "collapsed": false,
    "pycharm": {
     "name": "#%%\n"
    }
   }
  },
  {
   "cell_type": "markdown",
   "source": [
    "### And compute Chinese TMD"
   ],
   "metadata": {
    "collapsed": false,
    "pycharm": {
     "name": "#%% md\n"
    }
   }
  },
  {
   "cell_type": "code",
   "execution_count": 99,
   "outputs": [
    {
     "name": "stdout",
     "output_type": "stream",
     "text": [
      "xlang_model initialized\n"
     ]
    }
   ],
   "source": [
    "trglobals.init_embedding_model()"
   ],
   "metadata": {
    "collapsed": false,
    "pycharm": {
     "name": "#%%\n"
    }
   }
  },
  {
   "cell_type": "code",
   "execution_count": 100,
   "outputs": [
    {
     "name": "stderr",
     "output_type": "stream",
     "text": [
      "100%|██████████| 31102/31102 [04:40<00:00, 110.90it/s]\n",
      "C:\\Users\\jpjac\\AppData\\Local\\Temp\\ipykernel_3404\\3034185770.py:1: SettingWithCopyWarning: \n",
      "A value is trying to be set on a copy of a slice from a DataFrame.\n",
      "Try using .loc[row_indexer,col_indexer] = value instead\n",
      "\n",
      "See the caveats in the documentation: https://pandas.pydata.org/pandas-docs/stable/user_guide/indexing.html#returning-a-view-versus-a-copy\n",
      "  merged_df['tmd'] = trglobals.compute_tmd_df(merged_df)\n"
     ]
    }
   ],
   "source": [
    "merged_df['tmd'] = trglobals.compute_tmd_df(merged_df)"
   ],
   "metadata": {
    "collapsed": false,
    "pycharm": {
     "name": "#%%\n"
    }
   }
  },
  {
   "cell_type": "code",
   "execution_count": 101,
   "outputs": [
    {
     "data": {
      "text/plain": "                                                      de  \\\n0                  Am Anfang schuf Gott Himmel und Erde.   \n1      Und die Erde war wüst und leer, und es war fin...   \n2      Und Gott sprach: Es werde Licht! und es ward L...   \n3      Und Gott sah, daß das Licht gut war. Da schied...   \n4      und nannte das Licht Tag und die Finsternis Na...   \n...                                                  ...   \n31097  Und der Geist und die Braut sprechen: Komm! Un...   \n31098  Ich bezeuge allen, die da hören die Worte der ...   \n31099  Und so jemand davontut von den Worten des Buch...   \n31100  Es spricht, der solches bezeugt: Ja, ich komme...   \n31101  Die Gnade unsers HERRN Jesu Christi sei mit eu...   \n\n                                                      zh       seg_id  \\\n0                                             起初 神 創造 天地    b.GEN.1.1   \n1                       地是 空虛 混沌 ． 淵面 黑暗 ． 神 的 靈運 行在 水面上    b.GEN.1.2   \n2                                   神說 、 要 有 光 、 就 有 了 光    b.GEN.1.3   \n3                               神 看 光是 好 的 、 就 把 光 暗 分開了    b.GEN.1.4   \n4                    神稱光為晝 、 稱暗為夜 ． 有 晚上 、 有 早晨 、 這是 頭一日    b.GEN.1.5   \n...                                                  ...          ...   \n31097  聖靈 和 新婦 都 說來 。 聽見 的 人 也 該說來 。 口渴 的 人 也 當來 ． 願意...  b.REV.22.17   \n31098  我 向 一切 聽見這書 上 豫 言 的 作見證 、 若 有 人 在 這豫 言 上 加添 甚 ...  b.REV.22.18   \n31099  這書 上 的 豫言 、 若 有 人 刪 去 甚麼 、 神必從這書 上 所 寫 的 生命樹 、...  b.REV.22.19   \n31100       證明 這事 的 說 、 是 了 ． 我 必 快來 。 阿們 。 主耶 穌阿 、 我願你來  b.REV.22.20   \n31101                        願主 耶穌 的 恩惠 、 常與眾 聖徒 同在 。 阿們  b.REV.22.21   \n\n            tmd  \n0      1.014973  \n1      1.087618  \n2      1.041614  \n3      1.011653  \n4      1.025686  \n...         ...  \n31097  1.067367  \n31098  1.067616  \n31099  1.115010  \n31100  0.960952  \n31101  0.971520  \n\n[31102 rows x 4 columns]",
      "text/html": "<div>\n<style scoped>\n    .dataframe tbody tr th:only-of-type {\n        vertical-align: middle;\n    }\n\n    .dataframe tbody tr th {\n        vertical-align: top;\n    }\n\n    .dataframe thead th {\n        text-align: right;\n    }\n</style>\n<table border=\"1\" class=\"dataframe\">\n  <thead>\n    <tr style=\"text-align: right;\">\n      <th></th>\n      <th>de</th>\n      <th>zh</th>\n      <th>seg_id</th>\n      <th>tmd</th>\n    </tr>\n  </thead>\n  <tbody>\n    <tr>\n      <th>0</th>\n      <td>Am Anfang schuf Gott Himmel und Erde.</td>\n      <td>起初 神 創造 天地</td>\n      <td>b.GEN.1.1</td>\n      <td>1.014973</td>\n    </tr>\n    <tr>\n      <th>1</th>\n      <td>Und die Erde war wüst und leer, und es war fin...</td>\n      <td>地是 空虛 混沌 ． 淵面 黑暗 ． 神 的 靈運 行在 水面上</td>\n      <td>b.GEN.1.2</td>\n      <td>1.087618</td>\n    </tr>\n    <tr>\n      <th>2</th>\n      <td>Und Gott sprach: Es werde Licht! und es ward L...</td>\n      <td>神說 、 要 有 光 、 就 有 了 光</td>\n      <td>b.GEN.1.3</td>\n      <td>1.041614</td>\n    </tr>\n    <tr>\n      <th>3</th>\n      <td>Und Gott sah, daß das Licht gut war. Da schied...</td>\n      <td>神 看 光是 好 的 、 就 把 光 暗 分開了</td>\n      <td>b.GEN.1.4</td>\n      <td>1.011653</td>\n    </tr>\n    <tr>\n      <th>4</th>\n      <td>und nannte das Licht Tag und die Finsternis Na...</td>\n      <td>神稱光為晝 、 稱暗為夜 ． 有 晚上 、 有 早晨 、 這是 頭一日</td>\n      <td>b.GEN.1.5</td>\n      <td>1.025686</td>\n    </tr>\n    <tr>\n      <th>...</th>\n      <td>...</td>\n      <td>...</td>\n      <td>...</td>\n      <td>...</td>\n    </tr>\n    <tr>\n      <th>31097</th>\n      <td>Und der Geist und die Braut sprechen: Komm! Un...</td>\n      <td>聖靈 和 新婦 都 說來 。 聽見 的 人 也 該說來 。 口渴 的 人 也 當來 ． 願意...</td>\n      <td>b.REV.22.17</td>\n      <td>1.067367</td>\n    </tr>\n    <tr>\n      <th>31098</th>\n      <td>Ich bezeuge allen, die da hören die Worte der ...</td>\n      <td>我 向 一切 聽見這書 上 豫 言 的 作見證 、 若 有 人 在 這豫 言 上 加添 甚 ...</td>\n      <td>b.REV.22.18</td>\n      <td>1.067616</td>\n    </tr>\n    <tr>\n      <th>31099</th>\n      <td>Und so jemand davontut von den Worten des Buch...</td>\n      <td>這書 上 的 豫言 、 若 有 人 刪 去 甚麼 、 神必從這書 上 所 寫 的 生命樹 、...</td>\n      <td>b.REV.22.19</td>\n      <td>1.115010</td>\n    </tr>\n    <tr>\n      <th>31100</th>\n      <td>Es spricht, der solches bezeugt: Ja, ich komme...</td>\n      <td>證明 這事 的 說 、 是 了 ． 我 必 快來 。 阿們 。 主耶 穌阿 、 我願你來</td>\n      <td>b.REV.22.20</td>\n      <td>0.960952</td>\n    </tr>\n    <tr>\n      <th>31101</th>\n      <td>Die Gnade unsers HERRN Jesu Christi sei mit eu...</td>\n      <td>願主 耶穌 的 恩惠 、 常與眾 聖徒 同在 。 阿們</td>\n      <td>b.REV.22.21</td>\n      <td>0.971520</td>\n    </tr>\n  </tbody>\n</table>\n<p>31102 rows × 4 columns</p>\n</div>"
     },
     "execution_count": 101,
     "metadata": {},
     "output_type": "execute_result"
    }
   ],
   "source": [
    "merged_df"
   ],
   "metadata": {
    "collapsed": false,
    "pycharm": {
     "name": "#%%\n"
    }
   }
  },
  {
   "cell_type": "code",
   "execution_count": 106,
   "outputs": [
    {
     "data": {
      "text/plain": "1.0696386263149718"
     },
     "execution_count": 106,
     "metadata": {},
     "output_type": "execute_result"
    }
   ],
   "source": [
    "zh_mean = merged_df[~np.isinf(merged_df['tmd'])]['tmd'].mean()\n",
    "zh_mean"
   ],
   "metadata": {
    "collapsed": false,
    "pycharm": {
     "name": "#%%\n"
    }
   }
  },
  {
   "cell_type": "code",
   "execution_count": 107,
   "outputs": [
    {
     "data": {
      "text/plain": "['./lang_stats/bible_zh_mean.pkl']"
     },
     "execution_count": 107,
     "metadata": {},
     "output_type": "execute_result"
    }
   ],
   "source": [
    "joblib.dump(zh_mean, './lang_stats/bible_zh_mean.pkl')"
   ],
   "metadata": {
    "collapsed": false,
    "pycharm": {
     "name": "#%%\n"
    }
   }
  },
  {
   "cell_type": "markdown",
   "source": [
    "### Vietnamese"
   ],
   "metadata": {
    "collapsed": false,
    "pycharm": {
     "name": "#%% md\n"
    }
   }
  },
  {
   "cell_type": "code",
   "execution_count": 21,
   "outputs": [],
   "source": [
    "de_df = bible_map['de']\n",
    "de_df['lang'] = 'de'\n",
    "vi_df = bible_map['vi']\n",
    "vi_df['lang'] = 'vi'"
   ],
   "metadata": {
    "collapsed": false,
    "pycharm": {
     "name": "#%%\n"
    }
   }
  },
  {
   "cell_type": "code",
   "execution_count": 22,
   "outputs": [],
   "source": [
    "merged_df = de_df.merge(vi_df, on=\"seg_id\", how='left')"
   ],
   "metadata": {
    "collapsed": false,
    "pycharm": {
     "name": "#%%\n"
    }
   }
  },
  {
   "cell_type": "code",
   "execution_count": 23,
   "outputs": [
    {
     "data": {
      "text/plain": "            seg_id                                              seg_x lang_x  \\\n0        b.GEN.1.1              Am Anfang schuf Gott Himmel und Erde.     de   \n1        b.GEN.1.2  Und die Erde war wüst und leer, und es war fin...     de   \n2        b.GEN.1.3  Und Gott sprach: Es werde Licht! und es ward L...     de   \n3        b.GEN.1.4  Und Gott sah, daß das Licht gut war. Da schied...     de   \n4        b.GEN.1.5  und nannte das Licht Tag und die Finsternis Na...     de   \n...            ...                                                ...    ...   \n31097  b.REV.22.17  Und der Geist und die Braut sprechen: Komm! Un...     de   \n31098  b.REV.22.18  Ich bezeuge allen, die da hören die Worte der ...     de   \n31099  b.REV.22.19  Und so jemand davontut von den Worten des Buch...     de   \n31100  b.REV.22.20  Es spricht, der solches bezeugt: Ja, ich komme...     de   \n31101  b.REV.22.21  Die Gnade unsers HERRN Jesu Christi sei mit eu...     de   \n\n                                                   seg_y lang_y  \n0               Ban đầu Ðức Chúa Trời dựng nên trời đất.     vi  \n1      Vả, đất là vô hình và trống không, sự mờ tối ở...     vi  \n2      Ðức Chúa Trời phán rằng: Phải có sự sáng; thì ...     vi  \n3      Ðức Chúa Trời thấy sự sáng là tốt lành, bèn ph...     vi  \n4      Ðức Chúa Trời đặt tên sự sáng là ngày; sự tối ...     vi  \n...                                                  ...    ...  \n31097  Thánh Linh và vợ mới cùng nói: Hãy đến! Kẻ nào...     vi  \n31098  Tôi ngỏ cho kẻ nào nghe lời tiên tri trong sác...     vi  \n31099  Và kẻ nào bớt điều gì trong những lời ở sách t...     vi  \n31100  Ðấng làm chứng cho những điều ấy, phán rằng: P...     vi  \n31101  Nguyền xin ân điển của Ðức Chúa Jêsus ở với mọ...     vi  \n\n[31102 rows x 5 columns]",
      "text/html": "<div>\n<style scoped>\n    .dataframe tbody tr th:only-of-type {\n        vertical-align: middle;\n    }\n\n    .dataframe tbody tr th {\n        vertical-align: top;\n    }\n\n    .dataframe thead th {\n        text-align: right;\n    }\n</style>\n<table border=\"1\" class=\"dataframe\">\n  <thead>\n    <tr style=\"text-align: right;\">\n      <th></th>\n      <th>seg_id</th>\n      <th>seg_x</th>\n      <th>lang_x</th>\n      <th>seg_y</th>\n      <th>lang_y</th>\n    </tr>\n  </thead>\n  <tbody>\n    <tr>\n      <th>0</th>\n      <td>b.GEN.1.1</td>\n      <td>Am Anfang schuf Gott Himmel und Erde.</td>\n      <td>de</td>\n      <td>Ban đầu Ðức Chúa Trời dựng nên trời đất.</td>\n      <td>vi</td>\n    </tr>\n    <tr>\n      <th>1</th>\n      <td>b.GEN.1.2</td>\n      <td>Und die Erde war wüst und leer, und es war fin...</td>\n      <td>de</td>\n      <td>Vả, đất là vô hình và trống không, sự mờ tối ở...</td>\n      <td>vi</td>\n    </tr>\n    <tr>\n      <th>2</th>\n      <td>b.GEN.1.3</td>\n      <td>Und Gott sprach: Es werde Licht! und es ward L...</td>\n      <td>de</td>\n      <td>Ðức Chúa Trời phán rằng: Phải có sự sáng; thì ...</td>\n      <td>vi</td>\n    </tr>\n    <tr>\n      <th>3</th>\n      <td>b.GEN.1.4</td>\n      <td>Und Gott sah, daß das Licht gut war. Da schied...</td>\n      <td>de</td>\n      <td>Ðức Chúa Trời thấy sự sáng là tốt lành, bèn ph...</td>\n      <td>vi</td>\n    </tr>\n    <tr>\n      <th>4</th>\n      <td>b.GEN.1.5</td>\n      <td>und nannte das Licht Tag und die Finsternis Na...</td>\n      <td>de</td>\n      <td>Ðức Chúa Trời đặt tên sự sáng là ngày; sự tối ...</td>\n      <td>vi</td>\n    </tr>\n    <tr>\n      <th>...</th>\n      <td>...</td>\n      <td>...</td>\n      <td>...</td>\n      <td>...</td>\n      <td>...</td>\n    </tr>\n    <tr>\n      <th>31097</th>\n      <td>b.REV.22.17</td>\n      <td>Und der Geist und die Braut sprechen: Komm! Un...</td>\n      <td>de</td>\n      <td>Thánh Linh và vợ mới cùng nói: Hãy đến! Kẻ nào...</td>\n      <td>vi</td>\n    </tr>\n    <tr>\n      <th>31098</th>\n      <td>b.REV.22.18</td>\n      <td>Ich bezeuge allen, die da hören die Worte der ...</td>\n      <td>de</td>\n      <td>Tôi ngỏ cho kẻ nào nghe lời tiên tri trong sác...</td>\n      <td>vi</td>\n    </tr>\n    <tr>\n      <th>31099</th>\n      <td>b.REV.22.19</td>\n      <td>Und so jemand davontut von den Worten des Buch...</td>\n      <td>de</td>\n      <td>Và kẻ nào bớt điều gì trong những lời ở sách t...</td>\n      <td>vi</td>\n    </tr>\n    <tr>\n      <th>31100</th>\n      <td>b.REV.22.20</td>\n      <td>Es spricht, der solches bezeugt: Ja, ich komme...</td>\n      <td>de</td>\n      <td>Ðấng làm chứng cho những điều ấy, phán rằng: P...</td>\n      <td>vi</td>\n    </tr>\n    <tr>\n      <th>31101</th>\n      <td>b.REV.22.21</td>\n      <td>Die Gnade unsers HERRN Jesu Christi sei mit eu...</td>\n      <td>de</td>\n      <td>Nguyền xin ân điển của Ðức Chúa Jêsus ở với mọ...</td>\n      <td>vi</td>\n    </tr>\n  </tbody>\n</table>\n<p>31102 rows × 5 columns</p>\n</div>"
     },
     "execution_count": 23,
     "metadata": {},
     "output_type": "execute_result"
    }
   ],
   "source": [
    "merged_df"
   ],
   "metadata": {
    "collapsed": false,
    "pycharm": {
     "name": "#%%\n"
    }
   }
  },
  {
   "cell_type": "code",
   "execution_count": 24,
   "outputs": [],
   "source": [
    "merged_df.rename(columns={'seg_x':'de', 'seg_y': 'vi'}, inplace=True)"
   ],
   "metadata": {
    "collapsed": false,
    "pycharm": {
     "name": "#%%\n"
    }
   }
  },
  {
   "cell_type": "code",
   "execution_count": 25,
   "outputs": [],
   "source": [
    "merged_df.drop(columns=['lang_x', 'lang_y'], inplace=True)"
   ],
   "metadata": {
    "collapsed": false,
    "pycharm": {
     "name": "#%%\n"
    }
   }
  },
  {
   "cell_type": "code",
   "execution_count": 26,
   "outputs": [
    {
     "data": {
      "text/plain": "            seg_id                                                 de  \\\n0        b.GEN.1.1              Am Anfang schuf Gott Himmel und Erde.   \n1        b.GEN.1.2  Und die Erde war wüst und leer, und es war fin...   \n2        b.GEN.1.3  Und Gott sprach: Es werde Licht! und es ward L...   \n3        b.GEN.1.4  Und Gott sah, daß das Licht gut war. Da schied...   \n4        b.GEN.1.5  und nannte das Licht Tag und die Finsternis Na...   \n...            ...                                                ...   \n31097  b.REV.22.17  Und der Geist und die Braut sprechen: Komm! Un...   \n31098  b.REV.22.18  Ich bezeuge allen, die da hören die Worte der ...   \n31099  b.REV.22.19  Und so jemand davontut von den Worten des Buch...   \n31100  b.REV.22.20  Es spricht, der solches bezeugt: Ja, ich komme...   \n31101  b.REV.22.21  Die Gnade unsers HERRN Jesu Christi sei mit eu...   \n\n                                                      vi  \n0               Ban đầu Ðức Chúa Trời dựng nên trời đất.  \n1      Vả, đất là vô hình và trống không, sự mờ tối ở...  \n2      Ðức Chúa Trời phán rằng: Phải có sự sáng; thì ...  \n3      Ðức Chúa Trời thấy sự sáng là tốt lành, bèn ph...  \n4      Ðức Chúa Trời đặt tên sự sáng là ngày; sự tối ...  \n...                                                  ...  \n31097  Thánh Linh và vợ mới cùng nói: Hãy đến! Kẻ nào...  \n31098  Tôi ngỏ cho kẻ nào nghe lời tiên tri trong sác...  \n31099  Và kẻ nào bớt điều gì trong những lời ở sách t...  \n31100  Ðấng làm chứng cho những điều ấy, phán rằng: P...  \n31101  Nguyền xin ân điển của Ðức Chúa Jêsus ở với mọ...  \n\n[31102 rows x 3 columns]",
      "text/html": "<div>\n<style scoped>\n    .dataframe tbody tr th:only-of-type {\n        vertical-align: middle;\n    }\n\n    .dataframe tbody tr th {\n        vertical-align: top;\n    }\n\n    .dataframe thead th {\n        text-align: right;\n    }\n</style>\n<table border=\"1\" class=\"dataframe\">\n  <thead>\n    <tr style=\"text-align: right;\">\n      <th></th>\n      <th>seg_id</th>\n      <th>de</th>\n      <th>vi</th>\n    </tr>\n  </thead>\n  <tbody>\n    <tr>\n      <th>0</th>\n      <td>b.GEN.1.1</td>\n      <td>Am Anfang schuf Gott Himmel und Erde.</td>\n      <td>Ban đầu Ðức Chúa Trời dựng nên trời đất.</td>\n    </tr>\n    <tr>\n      <th>1</th>\n      <td>b.GEN.1.2</td>\n      <td>Und die Erde war wüst und leer, und es war fin...</td>\n      <td>Vả, đất là vô hình và trống không, sự mờ tối ở...</td>\n    </tr>\n    <tr>\n      <th>2</th>\n      <td>b.GEN.1.3</td>\n      <td>Und Gott sprach: Es werde Licht! und es ward L...</td>\n      <td>Ðức Chúa Trời phán rằng: Phải có sự sáng; thì ...</td>\n    </tr>\n    <tr>\n      <th>3</th>\n      <td>b.GEN.1.4</td>\n      <td>Und Gott sah, daß das Licht gut war. Da schied...</td>\n      <td>Ðức Chúa Trời thấy sự sáng là tốt lành, bèn ph...</td>\n    </tr>\n    <tr>\n      <th>4</th>\n      <td>b.GEN.1.5</td>\n      <td>und nannte das Licht Tag und die Finsternis Na...</td>\n      <td>Ðức Chúa Trời đặt tên sự sáng là ngày; sự tối ...</td>\n    </tr>\n    <tr>\n      <th>...</th>\n      <td>...</td>\n      <td>...</td>\n      <td>...</td>\n    </tr>\n    <tr>\n      <th>31097</th>\n      <td>b.REV.22.17</td>\n      <td>Und der Geist und die Braut sprechen: Komm! Un...</td>\n      <td>Thánh Linh và vợ mới cùng nói: Hãy đến! Kẻ nào...</td>\n    </tr>\n    <tr>\n      <th>31098</th>\n      <td>b.REV.22.18</td>\n      <td>Ich bezeuge allen, die da hören die Worte der ...</td>\n      <td>Tôi ngỏ cho kẻ nào nghe lời tiên tri trong sác...</td>\n    </tr>\n    <tr>\n      <th>31099</th>\n      <td>b.REV.22.19</td>\n      <td>Und so jemand davontut von den Worten des Buch...</td>\n      <td>Và kẻ nào bớt điều gì trong những lời ở sách t...</td>\n    </tr>\n    <tr>\n      <th>31100</th>\n      <td>b.REV.22.20</td>\n      <td>Es spricht, der solches bezeugt: Ja, ich komme...</td>\n      <td>Ðấng làm chứng cho những điều ấy, phán rằng: P...</td>\n    </tr>\n    <tr>\n      <th>31101</th>\n      <td>b.REV.22.21</td>\n      <td>Die Gnade unsers HERRN Jesu Christi sei mit eu...</td>\n      <td>Nguyền xin ân điển của Ðức Chúa Jêsus ở với mọ...</td>\n    </tr>\n  </tbody>\n</table>\n<p>31102 rows × 3 columns</p>\n</div>"
     },
     "execution_count": 26,
     "metadata": {},
     "output_type": "execute_result"
    }
   ],
   "source": [
    "merged_df"
   ],
   "metadata": {
    "collapsed": false,
    "pycharm": {
     "name": "#%%\n"
    }
   }
  },
  {
   "cell_type": "code",
   "execution_count": 29,
   "outputs": [],
   "source": [
    "# Rearrange the cols\n",
    "merged_df = merged_df[[\"de\",\"vi\",\"seg_id\"]].copy()"
   ],
   "metadata": {
    "collapsed": false,
    "pycharm": {
     "name": "#%%\n"
    }
   }
  },
  {
   "cell_type": "code",
   "execution_count": 30,
   "outputs": [
    {
     "data": {
      "text/plain": "                                                      de  \\\n0                  Am Anfang schuf Gott Himmel und Erde.   \n1      Und die Erde war wüst und leer, und es war fin...   \n2      Und Gott sprach: Es werde Licht! und es ward L...   \n3      Und Gott sah, daß das Licht gut war. Da schied...   \n4      und nannte das Licht Tag und die Finsternis Na...   \n...                                                  ...   \n31097  Und der Geist und die Braut sprechen: Komm! Un...   \n31098  Ich bezeuge allen, die da hören die Worte der ...   \n31099  Und so jemand davontut von den Worten des Buch...   \n31100  Es spricht, der solches bezeugt: Ja, ich komme...   \n31101  Die Gnade unsers HERRN Jesu Christi sei mit eu...   \n\n                                                      vi       seg_id  \n0               Ban đầu Ðức Chúa Trời dựng nên trời đất.    b.GEN.1.1  \n1      Vả, đất là vô hình và trống không, sự mờ tối ở...    b.GEN.1.2  \n2      Ðức Chúa Trời phán rằng: Phải có sự sáng; thì ...    b.GEN.1.3  \n3      Ðức Chúa Trời thấy sự sáng là tốt lành, bèn ph...    b.GEN.1.4  \n4      Ðức Chúa Trời đặt tên sự sáng là ngày; sự tối ...    b.GEN.1.5  \n...                                                  ...          ...  \n31097  Thánh Linh và vợ mới cùng nói: Hãy đến! Kẻ nào...  b.REV.22.17  \n31098  Tôi ngỏ cho kẻ nào nghe lời tiên tri trong sác...  b.REV.22.18  \n31099  Và kẻ nào bớt điều gì trong những lời ở sách t...  b.REV.22.19  \n31100  Ðấng làm chứng cho những điều ấy, phán rằng: P...  b.REV.22.20  \n31101  Nguyền xin ân điển của Ðức Chúa Jêsus ở với mọ...  b.REV.22.21  \n\n[31102 rows x 3 columns]",
      "text/html": "<div>\n<style scoped>\n    .dataframe tbody tr th:only-of-type {\n        vertical-align: middle;\n    }\n\n    .dataframe tbody tr th {\n        vertical-align: top;\n    }\n\n    .dataframe thead th {\n        text-align: right;\n    }\n</style>\n<table border=\"1\" class=\"dataframe\">\n  <thead>\n    <tr style=\"text-align: right;\">\n      <th></th>\n      <th>de</th>\n      <th>vi</th>\n      <th>seg_id</th>\n    </tr>\n  </thead>\n  <tbody>\n    <tr>\n      <th>0</th>\n      <td>Am Anfang schuf Gott Himmel und Erde.</td>\n      <td>Ban đầu Ðức Chúa Trời dựng nên trời đất.</td>\n      <td>b.GEN.1.1</td>\n    </tr>\n    <tr>\n      <th>1</th>\n      <td>Und die Erde war wüst und leer, und es war fin...</td>\n      <td>Vả, đất là vô hình và trống không, sự mờ tối ở...</td>\n      <td>b.GEN.1.2</td>\n    </tr>\n    <tr>\n      <th>2</th>\n      <td>Und Gott sprach: Es werde Licht! und es ward L...</td>\n      <td>Ðức Chúa Trời phán rằng: Phải có sự sáng; thì ...</td>\n      <td>b.GEN.1.3</td>\n    </tr>\n    <tr>\n      <th>3</th>\n      <td>Und Gott sah, daß das Licht gut war. Da schied...</td>\n      <td>Ðức Chúa Trời thấy sự sáng là tốt lành, bèn ph...</td>\n      <td>b.GEN.1.4</td>\n    </tr>\n    <tr>\n      <th>4</th>\n      <td>und nannte das Licht Tag und die Finsternis Na...</td>\n      <td>Ðức Chúa Trời đặt tên sự sáng là ngày; sự tối ...</td>\n      <td>b.GEN.1.5</td>\n    </tr>\n    <tr>\n      <th>...</th>\n      <td>...</td>\n      <td>...</td>\n      <td>...</td>\n    </tr>\n    <tr>\n      <th>31097</th>\n      <td>Und der Geist und die Braut sprechen: Komm! Un...</td>\n      <td>Thánh Linh và vợ mới cùng nói: Hãy đến! Kẻ nào...</td>\n      <td>b.REV.22.17</td>\n    </tr>\n    <tr>\n      <th>31098</th>\n      <td>Ich bezeuge allen, die da hören die Worte der ...</td>\n      <td>Tôi ngỏ cho kẻ nào nghe lời tiên tri trong sác...</td>\n      <td>b.REV.22.18</td>\n    </tr>\n    <tr>\n      <th>31099</th>\n      <td>Und so jemand davontut von den Worten des Buch...</td>\n      <td>Và kẻ nào bớt điều gì trong những lời ở sách t...</td>\n      <td>b.REV.22.19</td>\n    </tr>\n    <tr>\n      <th>31100</th>\n      <td>Es spricht, der solches bezeugt: Ja, ich komme...</td>\n      <td>Ðấng làm chứng cho những điều ấy, phán rằng: P...</td>\n      <td>b.REV.22.20</td>\n    </tr>\n    <tr>\n      <th>31101</th>\n      <td>Die Gnade unsers HERRN Jesu Christi sei mit eu...</td>\n      <td>Nguyền xin ân điển của Ðức Chúa Jêsus ở với mọ...</td>\n      <td>b.REV.22.21</td>\n    </tr>\n  </tbody>\n</table>\n<p>31102 rows × 3 columns</p>\n</div>"
     },
     "execution_count": 30,
     "metadata": {},
     "output_type": "execute_result"
    }
   ],
   "source": [
    "merged_df"
   ],
   "metadata": {
    "collapsed": false,
    "pycharm": {
     "name": "#%%\n"
    }
   }
  },
  {
   "cell_type": "code",
   "execution_count": 31,
   "outputs": [
    {
     "name": "stderr",
     "output_type": "stream",
     "text": [
      "100%|██████████| 31102/31102 [02:59<00:00, 173.29it/s]\n"
     ]
    }
   ],
   "source": [
    "merged_df['tmd'] = trglobals.compute_tmd_df(merged_df)"
   ],
   "metadata": {
    "collapsed": false,
    "pycharm": {
     "name": "#%%\n"
    }
   }
  },
  {
   "cell_type": "code",
   "execution_count": 34,
   "outputs": [],
   "source": [
    "vi_noninf_df = merged_df[~np.isinf(merged_df['tmd'])].copy()"
   ],
   "metadata": {
    "collapsed": false,
    "pycharm": {
     "name": "#%%\n"
    }
   }
  },
  {
   "cell_type": "code",
   "execution_count": 37,
   "outputs": [
    {
     "data": {
      "text/plain": "1.0661334938727538"
     },
     "execution_count": 37,
     "metadata": {},
     "output_type": "execute_result"
    }
   ],
   "source": [
    "vi_mean = vi_noninf_df['tmd'].mean()\n",
    "vi_mean"
   ],
   "metadata": {
    "collapsed": false,
    "pycharm": {
     "name": "#%%\n"
    }
   }
  },
  {
   "cell_type": "code",
   "execution_count": 38,
   "outputs": [
    {
     "data": {
      "text/plain": "['./lang_stats/bible_vi_mean.pkl']"
     },
     "execution_count": 38,
     "metadata": {},
     "output_type": "execute_result"
    }
   ],
   "source": [
    "joblib.dump(vi_mean, \"./lang_stats/bible_vi_mean.pkl\")"
   ],
   "metadata": {
    "collapsed": false,
    "pycharm": {
     "name": "#%%\n"
    }
   }
  },
  {
   "cell_type": "markdown",
   "source": [
    "### And now compute the TMDs"
   ],
   "metadata": {
    "collapsed": false,
    "pycharm": {
     "name": "#%% md\n"
    }
   }
  },
  {
   "cell_type": "code",
   "execution_count": 32,
   "outputs": [],
   "source": [
    "import trglobals\n",
    "from tqdm import tqdm\n",
    "tqdm.pandas()"
   ],
   "metadata": {
    "collapsed": false,
    "pycharm": {
     "name": "#%%\n"
    }
   }
  },
  {
   "cell_type": "code",
   "execution_count": 17,
   "outputs": [
    {
     "name": "stdout",
     "output_type": "stream",
     "text": [
      "xlang_model initialized\n"
     ]
    }
   ],
   "source": [
    "trglobals.init_embedding_model()"
   ],
   "metadata": {
    "collapsed": false,
    "pycharm": {
     "name": "#%%\n"
    }
   }
  },
  {
   "cell_type": "code",
   "execution_count": 16,
   "outputs": [],
   "source": [
    "en_df = bib_df[['de','en']].copy()"
   ],
   "metadata": {
    "collapsed": false,
    "pycharm": {
     "name": "#%%\n"
    }
   }
  },
  {
   "cell_type": "code",
   "execution_count": 17,
   "outputs": [],
   "source": [
    "lang1 = 'de'\n",
    "lang2 = 'en'\n",
    "compute_tmd_partial = lambda cur_row: trglobals.compute_tmd(cur_row, lang1, lang2)"
   ],
   "metadata": {
    "collapsed": false,
    "pycharm": {
     "name": "#%%\n"
    }
   }
  },
  {
   "cell_type": "code",
   "execution_count": 18,
   "outputs": [
    {
     "name": "stderr",
     "output_type": "stream",
     "text": [
      "100%|██████████| 31102/31102 [02:24<00:00, 215.72it/s]\n"
     ]
    }
   ],
   "source": [
    "en_df['tmd'] = en_df.progress_apply(compute_tmd_partial, axis=1)"
   ],
   "metadata": {
    "collapsed": false,
    "pycharm": {
     "name": "#%%\n"
    }
   }
  },
  {
   "cell_type": "code",
   "execution_count": 19,
   "outputs": [],
   "source": [
    "en_df.to_csv(\"../Texts_Aligned/de_bib.en_bib.csv\")"
   ],
   "metadata": {
    "collapsed": false,
    "pycharm": {
     "name": "#%%\n"
    }
   }
  },
  {
   "cell_type": "markdown",
   "source": [
    "### English (non-inf) mean"
   ],
   "metadata": {
    "collapsed": false,
    "pycharm": {
     "name": "#%% md\n"
    }
   }
  },
  {
   "cell_type": "code",
   "execution_count": 42,
   "outputs": [],
   "source": [
    "en_noninf_df = en_df[~np.isinf(en_df['tmd'])].copy()"
   ],
   "metadata": {
    "collapsed": false,
    "pycharm": {
     "name": "#%%\n"
    }
   }
  },
  {
   "cell_type": "code",
   "execution_count": 45,
   "outputs": [
    {
     "data": {
      "text/plain": "0.8841099582814969"
     },
     "execution_count": 45,
     "metadata": {},
     "output_type": "execute_result"
    }
   ],
   "source": [
    "bib_en_mean = en_noninf_df['tmd'].mean()\n",
    "bib_en_mean"
   ],
   "metadata": {
    "collapsed": false,
    "pycharm": {
     "name": "#%%\n"
    }
   }
  },
  {
   "cell_type": "code",
   "execution_count": 46,
   "outputs": [
    {
     "data": {
      "text/plain": "['./lang_stats/bible_en_mean.pkl']"
     },
     "execution_count": 46,
     "metadata": {},
     "output_type": "execute_result"
    }
   ],
   "source": [
    "joblib.dump(bib_en_mean, './lang_stats/bible_en_mean.pkl')"
   ],
   "metadata": {
    "collapsed": false,
    "pycharm": {
     "name": "#%%\n"
    }
   }
  },
  {
   "cell_type": "markdown",
   "source": [
    "### Russian mean"
   ],
   "metadata": {
    "collapsed": false,
    "pycharm": {
     "name": "#%% md\n"
    }
   }
  },
  {
   "cell_type": "code",
   "execution_count": 20,
   "outputs": [],
   "source": [
    "lang1 = 'de'\n",
    "lang2 = 'ru'\n",
    "ru_df = bib_df[[lang1,lang2]].copy()"
   ],
   "metadata": {
    "collapsed": false,
    "pycharm": {
     "name": "#%%\n"
    }
   }
  },
  {
   "cell_type": "code",
   "execution_count": 21,
   "outputs": [
    {
     "name": "stderr",
     "output_type": "stream",
     "text": [
      "100%|██████████| 31102/31102 [01:52<00:00, 276.25it/s]\n"
     ]
    }
   ],
   "source": [
    "compute_tmd_partial = lambda cur_row: trglobals.compute_tmd(cur_row, lang1, lang2)\n",
    "ru_df['tmd'] = ru_df.progress_apply(compute_tmd_partial, axis=1)"
   ],
   "metadata": {
    "collapsed": false,
    "pycharm": {
     "name": "#%%\n"
    }
   }
  },
  {
   "cell_type": "code",
   "execution_count": 22,
   "outputs": [
    {
     "data": {
      "text/plain": "                                                      de  \\\n0                  Am Anfang schuf Gott Himmel und Erde.   \n1      Und die Erde war wüst und leer, und es war fin...   \n2      Und Gott sprach: Es werde Licht! und es ward L...   \n3      Und Gott sah, daß das Licht gut war. Da schied...   \n4      und nannte das Licht Tag und die Finsternis Na...   \n...                                                  ...   \n31097  Und der Geist und die Braut sprechen: Komm! Un...   \n31098  Ich bezeuge allen, die da hören die Worte der ...   \n31099  Und so jemand davontut von den Worten des Buch...   \n31100  Es spricht, der solches bezeugt: Ja, ich komme...   \n31101  Die Gnade unsers HERRN Jesu Christi sei mit eu...   \n\n                                                      ru       tmd  \n0                    В начале сотворил Бог небо и землю.  0.612842  \n1      Земля же была безвидна и пуста, и тьма над без...  0.917743  \n2               И сказал Бог: да будет свет. И сталсвет.  0.858099  \n3      И увидел Бог свет, что он хорош, и отделил Бог...  0.785763  \n4      И назвал Бог свет днем, а тьму ночью. И был ве...  0.775576  \n...                                                  ...       ...  \n31097  И Дух и невеста говорят: прииди! И слышавший д...  0.965954  \n31098  И я также свидетельствую всякому слышащему сло...  0.892177  \n31099  и если кто отнимет что от слов книги пророчест...  0.930664  \n31100  Свидетельствующий сие говорит: ей, гряду скоро...  0.938942  \n31101  Благодать Господа нашего Иисуса Христа со всем...  0.811668  \n\n[31102 rows x 3 columns]",
      "text/html": "<div>\n<style scoped>\n    .dataframe tbody tr th:only-of-type {\n        vertical-align: middle;\n    }\n\n    .dataframe tbody tr th {\n        vertical-align: top;\n    }\n\n    .dataframe thead th {\n        text-align: right;\n    }\n</style>\n<table border=\"1\" class=\"dataframe\">\n  <thead>\n    <tr style=\"text-align: right;\">\n      <th></th>\n      <th>de</th>\n      <th>ru</th>\n      <th>tmd</th>\n    </tr>\n  </thead>\n  <tbody>\n    <tr>\n      <th>0</th>\n      <td>Am Anfang schuf Gott Himmel und Erde.</td>\n      <td>В начале сотворил Бог небо и землю.</td>\n      <td>0.612842</td>\n    </tr>\n    <tr>\n      <th>1</th>\n      <td>Und die Erde war wüst und leer, und es war fin...</td>\n      <td>Земля же была безвидна и пуста, и тьма над без...</td>\n      <td>0.917743</td>\n    </tr>\n    <tr>\n      <th>2</th>\n      <td>Und Gott sprach: Es werde Licht! und es ward L...</td>\n      <td>И сказал Бог: да будет свет. И сталсвет.</td>\n      <td>0.858099</td>\n    </tr>\n    <tr>\n      <th>3</th>\n      <td>Und Gott sah, daß das Licht gut war. Da schied...</td>\n      <td>И увидел Бог свет, что он хорош, и отделил Бог...</td>\n      <td>0.785763</td>\n    </tr>\n    <tr>\n      <th>4</th>\n      <td>und nannte das Licht Tag und die Finsternis Na...</td>\n      <td>И назвал Бог свет днем, а тьму ночью. И был ве...</td>\n      <td>0.775576</td>\n    </tr>\n    <tr>\n      <th>...</th>\n      <td>...</td>\n      <td>...</td>\n      <td>...</td>\n    </tr>\n    <tr>\n      <th>31097</th>\n      <td>Und der Geist und die Braut sprechen: Komm! Un...</td>\n      <td>И Дух и невеста говорят: прииди! И слышавший д...</td>\n      <td>0.965954</td>\n    </tr>\n    <tr>\n      <th>31098</th>\n      <td>Ich bezeuge allen, die da hören die Worte der ...</td>\n      <td>И я также свидетельствую всякому слышащему сло...</td>\n      <td>0.892177</td>\n    </tr>\n    <tr>\n      <th>31099</th>\n      <td>Und so jemand davontut von den Worten des Buch...</td>\n      <td>и если кто отнимет что от слов книги пророчест...</td>\n      <td>0.930664</td>\n    </tr>\n    <tr>\n      <th>31100</th>\n      <td>Es spricht, der solches bezeugt: Ja, ich komme...</td>\n      <td>Свидетельствующий сие говорит: ей, гряду скоро...</td>\n      <td>0.938942</td>\n    </tr>\n    <tr>\n      <th>31101</th>\n      <td>Die Gnade unsers HERRN Jesu Christi sei mit eu...</td>\n      <td>Благодать Господа нашего Иисуса Христа со всем...</td>\n      <td>0.811668</td>\n    </tr>\n  </tbody>\n</table>\n<p>31102 rows × 3 columns</p>\n</div>"
     },
     "execution_count": 22,
     "metadata": {},
     "output_type": "execute_result"
    }
   ],
   "source": [
    "ru_df"
   ],
   "metadata": {
    "collapsed": false,
    "pycharm": {
     "name": "#%%\n"
    }
   }
  },
  {
   "cell_type": "code",
   "execution_count": 23,
   "outputs": [
    {
     "data": {
      "text/plain": "tmd    inf\ndtype: float64"
     },
     "execution_count": 23,
     "metadata": {},
     "output_type": "execute_result"
    }
   ],
   "source": [
    "ru_df.mean(numeric_only=True)"
   ],
   "metadata": {
    "collapsed": false,
    "pycharm": {
     "name": "#%%\n"
    }
   }
  },
  {
   "cell_type": "code",
   "execution_count": 24,
   "outputs": [],
   "source": [
    "ru_df.to_csv(\"../Texts_Aligned/de_bib.ru_bib.csv\")"
   ],
   "metadata": {
    "collapsed": false,
    "pycharm": {
     "name": "#%%\n"
    }
   }
  },
  {
   "cell_type": "code",
   "execution_count": 25,
   "outputs": [],
   "source": [
    "import pandas as pd\n",
    "import numpy as np"
   ],
   "metadata": {
    "collapsed": false,
    "pycharm": {
     "name": "#%%\n"
    }
   }
  },
  {
   "cell_type": "code",
   "execution_count": 26,
   "outputs": [],
   "source": [
    "ru_df = pd.read_csv(\"../Texts_Aligned/de_bib.ru_bib.csv\")"
   ],
   "metadata": {
    "collapsed": false,
    "pycharm": {
     "name": "#%%\n"
    }
   }
  },
  {
   "cell_type": "code",
   "execution_count": 27,
   "outputs": [
    {
     "data": {
      "text/plain": "       Unnamed: 0                                                 de  \\\n0               0              Am Anfang schuf Gott Himmel und Erde.   \n1               1  Und die Erde war wüst und leer, und es war fin...   \n2               2  Und Gott sprach: Es werde Licht! und es ward L...   \n3               3  Und Gott sah, daß das Licht gut war. Da schied...   \n4               4  und nannte das Licht Tag und die Finsternis Na...   \n...           ...                                                ...   \n31097       31097  Und der Geist und die Braut sprechen: Komm! Un...   \n31098       31098  Ich bezeuge allen, die da hören die Worte der ...   \n31099       31099  Und so jemand davontut von den Worten des Buch...   \n31100       31100  Es spricht, der solches bezeugt: Ja, ich komme...   \n31101       31101  Die Gnade unsers HERRN Jesu Christi sei mit eu...   \n\n                                                      ru       tmd  \n0                    В начале сотворил Бог небо и землю.  0.612842  \n1      Земля же была безвидна и пуста, и тьма над без...  0.917743  \n2               И сказал Бог: да будет свет. И сталсвет.  0.858099  \n3      И увидел Бог свет, что он хорош, и отделил Бог...  0.785763  \n4      И назвал Бог свет днем, а тьму ночью. И был ве...  0.775576  \n...                                                  ...       ...  \n31097  И Дух и невеста говорят: прииди! И слышавший д...  0.965954  \n31098  И я также свидетельствую всякому слышащему сло...  0.892177  \n31099  и если кто отнимет что от слов книги пророчест...  0.930664  \n31100  Свидетельствующий сие говорит: ей, гряду скоро...  0.938942  \n31101  Благодать Господа нашего Иисуса Христа со всем...  0.811668  \n\n[31102 rows x 4 columns]",
      "text/html": "<div>\n<style scoped>\n    .dataframe tbody tr th:only-of-type {\n        vertical-align: middle;\n    }\n\n    .dataframe tbody tr th {\n        vertical-align: top;\n    }\n\n    .dataframe thead th {\n        text-align: right;\n    }\n</style>\n<table border=\"1\" class=\"dataframe\">\n  <thead>\n    <tr style=\"text-align: right;\">\n      <th></th>\n      <th>Unnamed: 0</th>\n      <th>de</th>\n      <th>ru</th>\n      <th>tmd</th>\n    </tr>\n  </thead>\n  <tbody>\n    <tr>\n      <th>0</th>\n      <td>0</td>\n      <td>Am Anfang schuf Gott Himmel und Erde.</td>\n      <td>В начале сотворил Бог небо и землю.</td>\n      <td>0.612842</td>\n    </tr>\n    <tr>\n      <th>1</th>\n      <td>1</td>\n      <td>Und die Erde war wüst und leer, und es war fin...</td>\n      <td>Земля же была безвидна и пуста, и тьма над без...</td>\n      <td>0.917743</td>\n    </tr>\n    <tr>\n      <th>2</th>\n      <td>2</td>\n      <td>Und Gott sprach: Es werde Licht! und es ward L...</td>\n      <td>И сказал Бог: да будет свет. И сталсвет.</td>\n      <td>0.858099</td>\n    </tr>\n    <tr>\n      <th>3</th>\n      <td>3</td>\n      <td>Und Gott sah, daß das Licht gut war. Da schied...</td>\n      <td>И увидел Бог свет, что он хорош, и отделил Бог...</td>\n      <td>0.785763</td>\n    </tr>\n    <tr>\n      <th>4</th>\n      <td>4</td>\n      <td>und nannte das Licht Tag und die Finsternis Na...</td>\n      <td>И назвал Бог свет днем, а тьму ночью. И был ве...</td>\n      <td>0.775576</td>\n    </tr>\n    <tr>\n      <th>...</th>\n      <td>...</td>\n      <td>...</td>\n      <td>...</td>\n      <td>...</td>\n    </tr>\n    <tr>\n      <th>31097</th>\n      <td>31097</td>\n      <td>Und der Geist und die Braut sprechen: Komm! Un...</td>\n      <td>И Дух и невеста говорят: прииди! И слышавший д...</td>\n      <td>0.965954</td>\n    </tr>\n    <tr>\n      <th>31098</th>\n      <td>31098</td>\n      <td>Ich bezeuge allen, die da hören die Worte der ...</td>\n      <td>И я также свидетельствую всякому слышащему сло...</td>\n      <td>0.892177</td>\n    </tr>\n    <tr>\n      <th>31099</th>\n      <td>31099</td>\n      <td>Und so jemand davontut von den Worten des Buch...</td>\n      <td>и если кто отнимет что от слов книги пророчест...</td>\n      <td>0.930664</td>\n    </tr>\n    <tr>\n      <th>31100</th>\n      <td>31100</td>\n      <td>Es spricht, der solches bezeugt: Ja, ich komme...</td>\n      <td>Свидетельствующий сие говорит: ей, гряду скоро...</td>\n      <td>0.938942</td>\n    </tr>\n    <tr>\n      <th>31101</th>\n      <td>31101</td>\n      <td>Die Gnade unsers HERRN Jesu Christi sei mit eu...</td>\n      <td>Благодать Господа нашего Иисуса Христа со всем...</td>\n      <td>0.811668</td>\n    </tr>\n  </tbody>\n</table>\n<p>31102 rows × 4 columns</p>\n</div>"
     },
     "execution_count": 27,
     "metadata": {},
     "output_type": "execute_result"
    }
   ],
   "source": [
    "ru_df"
   ],
   "metadata": {
    "collapsed": false,
    "pycharm": {
     "name": "#%%\n"
    }
   }
  },
  {
   "cell_type": "code",
   "execution_count": 28,
   "outputs": [],
   "source": [
    "ru_df_finite = ru_df[~np.isinf(ru_df['tmd'])].copy()"
   ],
   "metadata": {
    "collapsed": false,
    "pycharm": {
     "name": "#%%\n"
    }
   }
  },
  {
   "cell_type": "code",
   "execution_count": 29,
   "outputs": [],
   "source": [
    "ru_mean = ru_df_finite['tmd'].mean()"
   ],
   "metadata": {
    "collapsed": false,
    "pycharm": {
     "name": "#%%\n"
    }
   }
  },
  {
   "cell_type": "code",
   "execution_count": 30,
   "outputs": [
    {
     "data": {
      "text/plain": "0.929112058449112"
     },
     "execution_count": 30,
     "metadata": {},
     "output_type": "execute_result"
    }
   ],
   "source": [
    "ru_mean"
   ],
   "metadata": {
    "collapsed": false,
    "pycharm": {
     "name": "#%%\n"
    }
   }
  },
  {
   "cell_type": "code",
   "execution_count": 33,
   "outputs": [
    {
     "data": {
      "text/plain": "['./lang_stats/bible_ru_mean.pkl']"
     },
     "execution_count": 33,
     "metadata": {},
     "output_type": "execute_result"
    }
   ],
   "source": [
    "joblib.dump(ru_mean, './lang_stats/bible_ru_mean.pkl')"
   ],
   "metadata": {
    "collapsed": false,
    "pycharm": {
     "name": "#%%\n"
    }
   }
  },
  {
   "cell_type": "markdown",
   "source": [
    "### Vietnamese mean"
   ],
   "metadata": {
    "collapsed": false,
    "pycharm": {
     "name": "#%% md\n"
    }
   }
  },
  {
   "cell_type": "code",
   "execution_count": 19,
   "outputs": [
    {
     "ename": "NameError",
     "evalue": "name 'bib_df' is not defined",
     "output_type": "error",
     "traceback": [
      "\u001B[1;31m---------------------------------------------------------------------------\u001B[0m",
      "\u001B[1;31mNameError\u001B[0m                                 Traceback (most recent call last)",
      "Input \u001B[1;32mIn [19]\u001B[0m, in \u001B[0;36m<cell line: 3>\u001B[1;34m()\u001B[0m\n\u001B[0;32m      1\u001B[0m lang1 \u001B[38;5;241m=\u001B[39m \u001B[38;5;124m'\u001B[39m\u001B[38;5;124mde\u001B[39m\u001B[38;5;124m'\u001B[39m\n\u001B[0;32m      2\u001B[0m lang2 \u001B[38;5;241m=\u001B[39m \u001B[38;5;124m'\u001B[39m\u001B[38;5;124mvi\u001B[39m\u001B[38;5;124m'\u001B[39m\n\u001B[1;32m----> 3\u001B[0m vi_df \u001B[38;5;241m=\u001B[39m \u001B[43mbib_df\u001B[49m[[lang1,lang2]]\u001B[38;5;241m.\u001B[39mcopy()\n",
      "\u001B[1;31mNameError\u001B[0m: name 'bib_df' is not defined"
     ]
    }
   ],
   "source": [
    "lang1 = 'de'\n",
    "lang2 = 'vi'\n",
    "vi_df = bib_df[[lang1,lang2]].copy()"
   ],
   "metadata": {
    "collapsed": false,
    "pycharm": {
     "name": "#%%\n"
    }
   }
  },
  {
   "cell_type": "code",
   "execution_count": null,
   "outputs": [],
   "source": [],
   "metadata": {
    "collapsed": false,
    "pycharm": {
     "name": "#%%\n"
    }
   }
  }
 ],
 "metadata": {
  "kernelspec": {
   "display_name": "Python 3",
   "language": "python",
   "name": "python3"
  },
  "language_info": {
   "codemirror_mode": {
    "name": "ipython",
    "version": 2
   },
   "file_extension": ".py",
   "mimetype": "text/x-python",
   "name": "python",
   "nbconvert_exporter": "python",
   "pygments_lexer": "ipython2",
   "version": "2.7.6"
  }
 },
 "nbformat": 4,
 "nbformat_minor": 0
}