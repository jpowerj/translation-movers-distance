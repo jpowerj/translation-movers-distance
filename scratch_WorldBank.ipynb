{
 "cells": [
  {
   "cell_type": "code",
   "execution_count": 1,
   "metadata": {
    "collapsed": true
   },
   "outputs": [],
   "source": [
    "%load_ext autoreload\n",
    "%autoreload 2"
   ]
  },
  {
   "cell_type": "code",
   "execution_count": 2,
   "outputs": [],
   "source": [
    "import os\n",
    "\n",
    "import pandas as pd"
   ],
   "metadata": {
    "collapsed": false,
    "pycharm": {
     "name": "#%%\n"
    }
   }
  },
  {
   "cell_type": "code",
   "execution_count": 3,
   "outputs": [],
   "source": [
    "gdp_fpath = \"../data01_Raw/GDP/Agriculture_GDP_World_Bank.xlsx\""
   ],
   "metadata": {
    "collapsed": false,
    "pycharm": {
     "name": "#%%\n"
    }
   }
  },
  {
   "cell_type": "code",
   "execution_count": 4,
   "outputs": [],
   "source": [
    "gdp_df = pd.read_excel(gdp_fpath)"
   ],
   "metadata": {
    "collapsed": false,
    "pycharm": {
     "name": "#%%\n"
    }
   }
  },
  {
   "cell_type": "code",
   "execution_count": 5,
   "outputs": [
    {
     "data": {
      "text/plain": "                                         Country Name Country Code  \\\n0                                         Afghanistan          AFG   \n1                         Africa Eastern and Southern          AFE   \n2                          Africa Western and Central          AFW   \n3                                             Albania          ALB   \n4                                             Algeria          DZA   \n..                                                ...          ...   \n266                                               NaN          NaN   \n267                                               NaN          NaN   \n268                                               NaN          NaN   \n269  Data from database: World Development Indicators          NaN   \n270                          Last Updated: 04/27/2022          NaN   \n\n                                           Series Name     Series Code  \\\n0    Agriculture, forestry, and fishing, value adde...  NV.AGR.TOTL.ZS   \n1    Agriculture, forestry, and fishing, value adde...  NV.AGR.TOTL.ZS   \n2    Agriculture, forestry, and fishing, value adde...  NV.AGR.TOTL.ZS   \n3    Agriculture, forestry, and fishing, value adde...  NV.AGR.TOTL.ZS   \n4    Agriculture, forestry, and fishing, value adde...  NV.AGR.TOTL.ZS   \n..                                                 ...             ...   \n266                                                NaN             NaN   \n267                                                NaN             NaN   \n268                                                NaN             NaN   \n269                                                NaN             NaN   \n270                                                NaN             NaN   \n\n    1960 [YR1960] 1961 [YR1961] 1962 [YR1962] 1963 [YR1963] 1964 [YR1964]  \\\n0              ..            ..            ..            ..            ..   \n1              ..            ..            ..            ..            ..   \n2              ..            ..            ..            ..            ..   \n3              ..            ..            ..            ..            ..   \n4              ..            ..            ..            ..            ..   \n..            ...           ...           ...           ...           ...   \n266           NaN           NaN           NaN           NaN           NaN   \n267           NaN           NaN           NaN           NaN           NaN   \n268           NaN           NaN           NaN           NaN           NaN   \n269           NaN           NaN           NaN           NaN           NaN   \n270           NaN           NaN           NaN           NaN           NaN   \n\n    1965 [YR1965]  ... 2012 [YR2012] 2013 [YR2013] 2014 [YR2014]  \\\n0              ..  ...     24.390874     22.810663     22.137041   \n1              ..  ...     10.809624     11.139972      11.91545   \n2              ..  ...     21.080401     20.126763     19.652742   \n3              ..  ...     18.766802     19.565158     19.990181   \n4              ..  ...      8.770686      9.851117     10.286397   \n..            ...  ...           ...           ...           ...   \n266           NaN  ...           NaN           NaN           NaN   \n267           NaN  ...           NaN           NaN           NaN   \n268           NaN  ...           NaN           NaN           NaN   \n269           NaN  ...           NaN           NaN           NaN   \n270           NaN  ...           NaN           NaN           NaN   \n\n    2015 [YR2015] 2016 [YR2016] 2017 [YR2017] 2018 [YR2018] 2019 [YR2019]  \\\n0       20.634323     25.740314     26.420199     22.042897     25.773971   \n1       12.762394     12.847244     12.545027     11.987675     12.502325   \n2       20.590106     21.006218     20.805289     20.931406     21.257161   \n3       19.780214     19.849994     19.022149     18.429479     18.391244   \n4       11.578707     12.220095     11.755903     11.874201     12.336212   \n..            ...           ...           ...           ...           ...   \n266           NaN           NaN           NaN           NaN           NaN   \n267           NaN           NaN           NaN           NaN           NaN   \n268           NaN           NaN           NaN           NaN           NaN   \n269           NaN           NaN           NaN           NaN           NaN   \n270           NaN           NaN           NaN           NaN           NaN   \n\n    2020 [YR2020] 2021 [YR2021]  \n0         26.8206            ..  \n1       14.665698            ..  \n2       23.004831            ..  \n3       19.121963            ..  \n4       14.134793            ..  \n..            ...           ...  \n266           NaN           NaN  \n267           NaN           NaN  \n268           NaN           NaN  \n269           NaN           NaN  \n270           NaN           NaN  \n\n[271 rows x 66 columns]",
      "text/html": "<div>\n<style scoped>\n    .dataframe tbody tr th:only-of-type {\n        vertical-align: middle;\n    }\n\n    .dataframe tbody tr th {\n        vertical-align: top;\n    }\n\n    .dataframe thead th {\n        text-align: right;\n    }\n</style>\n<table border=\"1\" class=\"dataframe\">\n  <thead>\n    <tr style=\"text-align: right;\">\n      <th></th>\n      <th>Country Name</th>\n      <th>Country Code</th>\n      <th>Series Name</th>\n      <th>Series Code</th>\n      <th>1960 [YR1960]</th>\n      <th>1961 [YR1961]</th>\n      <th>1962 [YR1962]</th>\n      <th>1963 [YR1963]</th>\n      <th>1964 [YR1964]</th>\n      <th>1965 [YR1965]</th>\n      <th>...</th>\n      <th>2012 [YR2012]</th>\n      <th>2013 [YR2013]</th>\n      <th>2014 [YR2014]</th>\n      <th>2015 [YR2015]</th>\n      <th>2016 [YR2016]</th>\n      <th>2017 [YR2017]</th>\n      <th>2018 [YR2018]</th>\n      <th>2019 [YR2019]</th>\n      <th>2020 [YR2020]</th>\n      <th>2021 [YR2021]</th>\n    </tr>\n  </thead>\n  <tbody>\n    <tr>\n      <th>0</th>\n      <td>Afghanistan</td>\n      <td>AFG</td>\n      <td>Agriculture, forestry, and fishing, value adde...</td>\n      <td>NV.AGR.TOTL.ZS</td>\n      <td>..</td>\n      <td>..</td>\n      <td>..</td>\n      <td>..</td>\n      <td>..</td>\n      <td>..</td>\n      <td>...</td>\n      <td>24.390874</td>\n      <td>22.810663</td>\n      <td>22.137041</td>\n      <td>20.634323</td>\n      <td>25.740314</td>\n      <td>26.420199</td>\n      <td>22.042897</td>\n      <td>25.773971</td>\n      <td>26.8206</td>\n      <td>..</td>\n    </tr>\n    <tr>\n      <th>1</th>\n      <td>Africa Eastern and Southern</td>\n      <td>AFE</td>\n      <td>Agriculture, forestry, and fishing, value adde...</td>\n      <td>NV.AGR.TOTL.ZS</td>\n      <td>..</td>\n      <td>..</td>\n      <td>..</td>\n      <td>..</td>\n      <td>..</td>\n      <td>..</td>\n      <td>...</td>\n      <td>10.809624</td>\n      <td>11.139972</td>\n      <td>11.91545</td>\n      <td>12.762394</td>\n      <td>12.847244</td>\n      <td>12.545027</td>\n      <td>11.987675</td>\n      <td>12.502325</td>\n      <td>14.665698</td>\n      <td>..</td>\n    </tr>\n    <tr>\n      <th>2</th>\n      <td>Africa Western and Central</td>\n      <td>AFW</td>\n      <td>Agriculture, forestry, and fishing, value adde...</td>\n      <td>NV.AGR.TOTL.ZS</td>\n      <td>..</td>\n      <td>..</td>\n      <td>..</td>\n      <td>..</td>\n      <td>..</td>\n      <td>..</td>\n      <td>...</td>\n      <td>21.080401</td>\n      <td>20.126763</td>\n      <td>19.652742</td>\n      <td>20.590106</td>\n      <td>21.006218</td>\n      <td>20.805289</td>\n      <td>20.931406</td>\n      <td>21.257161</td>\n      <td>23.004831</td>\n      <td>..</td>\n    </tr>\n    <tr>\n      <th>3</th>\n      <td>Albania</td>\n      <td>ALB</td>\n      <td>Agriculture, forestry, and fishing, value adde...</td>\n      <td>NV.AGR.TOTL.ZS</td>\n      <td>..</td>\n      <td>..</td>\n      <td>..</td>\n      <td>..</td>\n      <td>..</td>\n      <td>..</td>\n      <td>...</td>\n      <td>18.766802</td>\n      <td>19.565158</td>\n      <td>19.990181</td>\n      <td>19.780214</td>\n      <td>19.849994</td>\n      <td>19.022149</td>\n      <td>18.429479</td>\n      <td>18.391244</td>\n      <td>19.121963</td>\n      <td>..</td>\n    </tr>\n    <tr>\n      <th>4</th>\n      <td>Algeria</td>\n      <td>DZA</td>\n      <td>Agriculture, forestry, and fishing, value adde...</td>\n      <td>NV.AGR.TOTL.ZS</td>\n      <td>..</td>\n      <td>..</td>\n      <td>..</td>\n      <td>..</td>\n      <td>..</td>\n      <td>..</td>\n      <td>...</td>\n      <td>8.770686</td>\n      <td>9.851117</td>\n      <td>10.286397</td>\n      <td>11.578707</td>\n      <td>12.220095</td>\n      <td>11.755903</td>\n      <td>11.874201</td>\n      <td>12.336212</td>\n      <td>14.134793</td>\n      <td>..</td>\n    </tr>\n    <tr>\n      <th>...</th>\n      <td>...</td>\n      <td>...</td>\n      <td>...</td>\n      <td>...</td>\n      <td>...</td>\n      <td>...</td>\n      <td>...</td>\n      <td>...</td>\n      <td>...</td>\n      <td>...</td>\n      <td>...</td>\n      <td>...</td>\n      <td>...</td>\n      <td>...</td>\n      <td>...</td>\n      <td>...</td>\n      <td>...</td>\n      <td>...</td>\n      <td>...</td>\n      <td>...</td>\n      <td>...</td>\n    </tr>\n    <tr>\n      <th>266</th>\n      <td>NaN</td>\n      <td>NaN</td>\n      <td>NaN</td>\n      <td>NaN</td>\n      <td>NaN</td>\n      <td>NaN</td>\n      <td>NaN</td>\n      <td>NaN</td>\n      <td>NaN</td>\n      <td>NaN</td>\n      <td>...</td>\n      <td>NaN</td>\n      <td>NaN</td>\n      <td>NaN</td>\n      <td>NaN</td>\n      <td>NaN</td>\n      <td>NaN</td>\n      <td>NaN</td>\n      <td>NaN</td>\n      <td>NaN</td>\n      <td>NaN</td>\n    </tr>\n    <tr>\n      <th>267</th>\n      <td>NaN</td>\n      <td>NaN</td>\n      <td>NaN</td>\n      <td>NaN</td>\n      <td>NaN</td>\n      <td>NaN</td>\n      <td>NaN</td>\n      <td>NaN</td>\n      <td>NaN</td>\n      <td>NaN</td>\n      <td>...</td>\n      <td>NaN</td>\n      <td>NaN</td>\n      <td>NaN</td>\n      <td>NaN</td>\n      <td>NaN</td>\n      <td>NaN</td>\n      <td>NaN</td>\n      <td>NaN</td>\n      <td>NaN</td>\n      <td>NaN</td>\n    </tr>\n    <tr>\n      <th>268</th>\n      <td>NaN</td>\n      <td>NaN</td>\n      <td>NaN</td>\n      <td>NaN</td>\n      <td>NaN</td>\n      <td>NaN</td>\n      <td>NaN</td>\n      <td>NaN</td>\n      <td>NaN</td>\n      <td>NaN</td>\n      <td>...</td>\n      <td>NaN</td>\n      <td>NaN</td>\n      <td>NaN</td>\n      <td>NaN</td>\n      <td>NaN</td>\n      <td>NaN</td>\n      <td>NaN</td>\n      <td>NaN</td>\n      <td>NaN</td>\n      <td>NaN</td>\n    </tr>\n    <tr>\n      <th>269</th>\n      <td>Data from database: World Development Indicators</td>\n      <td>NaN</td>\n      <td>NaN</td>\n      <td>NaN</td>\n      <td>NaN</td>\n      <td>NaN</td>\n      <td>NaN</td>\n      <td>NaN</td>\n      <td>NaN</td>\n      <td>NaN</td>\n      <td>...</td>\n      <td>NaN</td>\n      <td>NaN</td>\n      <td>NaN</td>\n      <td>NaN</td>\n      <td>NaN</td>\n      <td>NaN</td>\n      <td>NaN</td>\n      <td>NaN</td>\n      <td>NaN</td>\n      <td>NaN</td>\n    </tr>\n    <tr>\n      <th>270</th>\n      <td>Last Updated: 04/27/2022</td>\n      <td>NaN</td>\n      <td>NaN</td>\n      <td>NaN</td>\n      <td>NaN</td>\n      <td>NaN</td>\n      <td>NaN</td>\n      <td>NaN</td>\n      <td>NaN</td>\n      <td>NaN</td>\n      <td>...</td>\n      <td>NaN</td>\n      <td>NaN</td>\n      <td>NaN</td>\n      <td>NaN</td>\n      <td>NaN</td>\n      <td>NaN</td>\n      <td>NaN</td>\n      <td>NaN</td>\n      <td>NaN</td>\n      <td>NaN</td>\n    </tr>\n  </tbody>\n</table>\n<p>271 rows × 66 columns</p>\n</div>"
     },
     "execution_count": 5,
     "metadata": {},
     "output_type": "execute_result"
    }
   ],
   "source": [
    "gdp_df"
   ],
   "metadata": {
    "collapsed": false,
    "pycharm": {
     "name": "#%%\n"
    }
   }
  },
  {
   "cell_type": "code",
   "execution_count": 6,
   "outputs": [],
   "source": [
    "# Find the first entry for all countries\n",
    "first_data = {}\n",
    "for row_index, row in gdp_df.iterrows():\n",
    "    # I know this is brute force but... oh well\n",
    "    country_name = row['Country Name']\n",
    "    #if country_name != \"Burkina Faso\":\n",
    "    #    continue\n",
    "    for cur_yr in range(1960, 2022):\n",
    "        col_str = f\"{cur_yr} [YR{cur_yr}]\"\n",
    "        row_val = row[col_str]\n",
    "        #print(f\"{country_name} {col_str} = {row_val}\")\n",
    "        if row_val != \"..\":\n",
    "            # We found the first non-missing entry\n",
    "            first_data[country_name] = (cur_yr, row_val)\n",
    "            break"
   ],
   "metadata": {
    "collapsed": false,
    "pycharm": {
     "name": "#%%\n"
    }
   }
  },
  {
   "cell_type": "code",
   "execution_count": 7,
   "outputs": [],
   "source": [
    "first_df = pd.DataFrame.from_dict(first_data, orient=\"index\")"
   ],
   "metadata": {
    "collapsed": false,
    "pycharm": {
     "name": "#%%\n"
    }
   }
  },
  {
   "cell_type": "code",
   "execution_count": 8,
   "outputs": [],
   "source": [
    "first_df.columns = ['year', 'ag_pct']"
   ],
   "metadata": {
    "collapsed": false,
    "pycharm": {
     "name": "#%%\n"
    }
   }
  },
  {
   "cell_type": "code",
   "execution_count": 9,
   "outputs": [
    {
     "data": {
      "text/plain": "                                                  year     ag_pct\nLesotho                                           1960  88.184615\nLiberia                                           2000  76.074542\nNiger                                             1960  75.324070\nRwanda                                            1965  74.791704\nOman                                              1961  74.233129\n...                                                ...        ...\nHong Kong SAR, China                              2000   0.087327\nSan Marino                                        2015   0.020054\nNaN                                               1960        NaN\nData from database: World Development Indicators  1960        NaN\nLast Updated: 04/27/2022                          1960        NaN\n\n[255 rows x 2 columns]",
      "text/html": "<div>\n<style scoped>\n    .dataframe tbody tr th:only-of-type {\n        vertical-align: middle;\n    }\n\n    .dataframe tbody tr th {\n        vertical-align: top;\n    }\n\n    .dataframe thead th {\n        text-align: right;\n    }\n</style>\n<table border=\"1\" class=\"dataframe\">\n  <thead>\n    <tr style=\"text-align: right;\">\n      <th></th>\n      <th>year</th>\n      <th>ag_pct</th>\n    </tr>\n  </thead>\n  <tbody>\n    <tr>\n      <th>Lesotho</th>\n      <td>1960</td>\n      <td>88.184615</td>\n    </tr>\n    <tr>\n      <th>Liberia</th>\n      <td>2000</td>\n      <td>76.074542</td>\n    </tr>\n    <tr>\n      <th>Niger</th>\n      <td>1960</td>\n      <td>75.324070</td>\n    </tr>\n    <tr>\n      <th>Rwanda</th>\n      <td>1965</td>\n      <td>74.791704</td>\n    </tr>\n    <tr>\n      <th>Oman</th>\n      <td>1961</td>\n      <td>74.233129</td>\n    </tr>\n    <tr>\n      <th>...</th>\n      <td>...</td>\n      <td>...</td>\n    </tr>\n    <tr>\n      <th>Hong Kong SAR, China</th>\n      <td>2000</td>\n      <td>0.087327</td>\n    </tr>\n    <tr>\n      <th>San Marino</th>\n      <td>2015</td>\n      <td>0.020054</td>\n    </tr>\n    <tr>\n      <th>NaN</th>\n      <td>1960</td>\n      <td>NaN</td>\n    </tr>\n    <tr>\n      <th>Data from database: World Development Indicators</th>\n      <td>1960</td>\n      <td>NaN</td>\n    </tr>\n    <tr>\n      <th>Last Updated: 04/27/2022</th>\n      <td>1960</td>\n      <td>NaN</td>\n    </tr>\n  </tbody>\n</table>\n<p>255 rows × 2 columns</p>\n</div>"
     },
     "execution_count": 9,
     "metadata": {},
     "output_type": "execute_result"
    }
   ],
   "source": [
    "first_df.sort_values(by='ag_pct', ascending=False)"
   ],
   "metadata": {
    "collapsed": false,
    "pycharm": {
     "name": "#%%\n"
    }
   }
  },
  {
   "cell_type": "code",
   "execution_count": 11,
   "outputs": [],
   "source": [
    "ranked_fpath = \"../data01_Raw/GDP/GDP_first_ranked.csv\"\n",
    "first_df.to_csv(ranked_fpath)\n",
    "first_df.to_pickle(ranked_fpath.replace(\".csv\",\".pkl\"))"
   ],
   "metadata": {
    "collapsed": false,
    "pycharm": {
     "name": "#%%\n"
    }
   }
  },
  {
   "cell_type": "code",
   "execution_count": 27,
   "outputs": [],
   "source": [
    "def get_country_data(df, country_name):\n",
    "    print(country_name)\n",
    "    # Keep just one country\n",
    "    country_df = gdp_df[gdp_df['Country Name'] == country_name].copy().melt()\n",
    "    # Transform to long format\n",
    "    country_df = country_df[country_df['value'] != \"..\"].copy()\n",
    "    # Keep just year and value rows\n",
    "    country_df = country_df.loc[country_df['variable'].str.startswith('19') | country_df['variable'].str.startswith('20')].copy()\n",
    "    first_row = country_df.iloc[0]\n",
    "    last_row = country_df.iloc[-1]\n",
    "    first_yr = first_row['variable'].split()[0]\n",
    "    last_yr = last_row['variable'].split()[0]\n",
    "    first_ag = first_row['value']\n",
    "    last_ag = last_row['value']\n",
    "    country_data = {\n",
    "        'name': country_name,\n",
    "        'df': country_df,\n",
    "        'first_year': first_yr,\n",
    "        'first_ag': first_ag,\n",
    "        'last_year': last_yr,\n",
    "        'last_ag': last_ag,\n",
    "    }\n",
    "    return country_data"
   ],
   "metadata": {
    "collapsed": false,
    "pycharm": {
     "name": "#%%\n"
    }
   }
  },
  {
   "cell_type": "code",
   "execution_count": 28,
   "outputs": [
    {
     "name": "stdout",
     "output_type": "stream",
     "text": [
      "Ethiopia\n",
      "Germany\n",
      "Greece\n",
      "United States\n",
      "Cuba\n",
      "Iran, Islamic Rep.\n",
      "Hungary\n",
      "Armenia\n",
      "Italy\n",
      "Georgia\n",
      "Mongolia\n",
      "Romania\n",
      "Russian Federation\n",
      "Vietnam\n",
      "China\n"
     ]
    }
   ],
   "source": [
    "data_map = {langcode: get_country_data(gdp_df, country) for langcode, country in country_map.items()}"
   ],
   "metadata": {
    "collapsed": false,
    "pycharm": {
     "name": "#%%\n"
    }
   }
  },
  {
   "cell_type": "code",
   "execution_count": 29,
   "outputs": [],
   "source": [
    "ag_estimates = {langcode: (data['first_year'],data['first_ag']) for langcode, data in data_map.items()}"
   ],
   "metadata": {
    "collapsed": false,
    "pycharm": {
     "name": "#%%\n"
    }
   }
  },
  {
   "cell_type": "code",
   "execution_count": 30,
   "outputs": [
    {
     "data": {
      "text/plain": "{'am': ('1981', 54.73913635210796),\n 'de': ('1991', 1.101526043637281),\n 'el': ('1995', 7.375806358492404),\n 'en': ('1997', 1.3369117103816948),\n 'es': ('1970', 12.121357275415804),\n 'fa': ('1960', 25.900601532239886),\n 'hu': ('1995', 7.178038555068181),\n 'hy': ('2012', 17.912681952639666),\n 'it': ('1990', 3.182368676759932),\n 'ka': ('1980', 23.008849557522122),\n 'mn': ('1981', 16.742788220643867),\n 'ro': ('1990', 21.809068656020518),\n 'ru': ('1989', 15.602094240837697),\n 'vi': ('1985', 40.17093765286004),\n 'zh': ('1960', 23.175294197673626)}"
     },
     "execution_count": 30,
     "metadata": {},
     "output_type": "execute_result"
    }
   ],
   "source": [
    "ag_estimates"
   ],
   "metadata": {
    "collapsed": false,
    "pycharm": {
     "name": "#%%\n"
    }
   }
  },
  {
   "cell_type": "code",
   "execution_count": 14,
   "outputs": [],
   "source": [
    "# Now convert to df\n",
    "ag_df = pd.DataFrame.from_dict(ag_estimates, orient='index')"
   ],
   "metadata": {
    "collapsed": false,
    "pycharm": {
     "name": "#%%\n"
    }
   }
  },
  {
   "cell_type": "code",
   "execution_count": 15,
   "outputs": [],
   "source": [
    "ag_df.columns = [\"year\",\"ag_pct\"]"
   ],
   "metadata": {
    "collapsed": false,
    "pycharm": {
     "name": "#%%\n"
    }
   }
  },
  {
   "cell_type": "code",
   "execution_count": 16,
   "outputs": [],
   "source": [
    "gdp_path = \"./gdp_stats/\"\n",
    "if not os.path.isdir(gdp_path):\n",
    "    os.mkdir(gdp_path)"
   ],
   "metadata": {
    "collapsed": false,
    "pycharm": {
     "name": "#%%\n"
    }
   }
  },
  {
   "cell_type": "code",
   "execution_count": 17,
   "outputs": [],
   "source": [
    "ag_df.to_pickle(\"./gdp_stats/ag_pct.pkl\")"
   ],
   "metadata": {
    "collapsed": false,
    "pycharm": {
     "name": "#%%\n"
    }
   }
  },
  {
   "cell_type": "code",
   "execution_count": 18,
   "outputs": [
    {
     "data": {
      "text/plain": "'1985'"
     },
     "execution_count": 18,
     "metadata": {},
     "output_type": "execute_result"
    }
   ],
   "source": [
    "data_map['vi']['first_year']"
   ],
   "metadata": {
    "collapsed": false,
    "pycharm": {
     "name": "#%%\n"
    }
   }
  },
  {
   "cell_type": "code",
   "execution_count": 19,
   "outputs": [
    {
     "data": {
      "text/plain": "40.17093765286004"
     },
     "execution_count": 19,
     "metadata": {},
     "output_type": "execute_result"
    }
   ],
   "source": [
    "data_map['vi']['first_ag']"
   ],
   "metadata": {
    "collapsed": false,
    "pycharm": {
     "name": "#%%\n"
    }
   }
  },
  {
   "cell_type": "code",
   "execution_count": 20,
   "outputs": [
    {
     "data": {
      "text/plain": "{'am': {'name': 'Ethiopia',\n  'df':          variable      value\n  25  1981 [YR1981]  54.739136\n  26  1982 [YR1982]   53.25651\n  27  1983 [YR1983]  54.377092\n  28  1984 [YR1984]  47.898258\n  29  1985 [YR1985]  52.578448\n  30  1986 [YR1986]  50.986366\n  31  1987 [YR1987]   49.12477\n  32  1988 [YR1988]  48.593054\n  33  1989 [YR1989]  48.390914\n  34  1990 [YR1990]  49.491248\n  35  1991 [YR1991]  58.666062\n  36  1992 [YR1992]  63.831336\n  37  1993 [YR1993]  59.945298\n  38  1994 [YR1994]  52.699451\n  39  1995 [YR1995]  51.924704\n  40  1996 [YR1996]  51.165368\n  41  1997 [YR1997]  54.028989\n  42  1998 [YR1998]  49.061908\n  43  1999 [YR1999]  45.485463\n  44  2000 [YR2000]  44.666018\n  45  2001 [YR2001]  42.340571\n  46  2002 [YR2002]  38.692372\n  47  2003 [YR2003]  37.285055\n  48  2004 [YR2004]  38.679755\n  49  2005 [YR2005]  41.174499\n  50  2006 [YR2006]   42.52417\n  51  2007 [YR2007]  42.265012\n  52  2008 [YR2008]  45.184558\n  53  2009 [YR2009]  45.882694\n  54  2010 [YR2010]   41.44682\n  55  2011 [YR2011]  41.249964\n  56  2012 [YR2012]  44.330943\n  57  2013 [YR2013]  41.239506\n  58  2014 [YR2014]   38.52045\n  59  2015 [YR2015]  36.056975\n  60  2016 [YR2016]   34.69888\n  61  2017 [YR2017]  33.779281\n  62  2018 [YR2018]  31.111929\n  63  2019 [YR2019]  33.521072\n  64  2020 [YR2020]  35.451406,\n  'first_year': '1981',\n  'first_ag': 54.73913635210796,\n  'last_year': '2020',\n  'last_ag': 35.45140633052479},\n 'de': {'name': 'Germany',\n  'df':          variable     value\n  35  1991 [YR1991]  1.101526\n  36  1992 [YR1992]  1.005429\n  37  1993 [YR1993]  0.961568\n  38  1994 [YR1994]   0.97554\n  39  1995 [YR1995]  0.995456\n  40  1996 [YR1996]  1.042168\n  41  1997 [YR1997]  1.031385\n  42  1998 [YR1998]  0.975318\n  43  1999 [YR1999]  0.958397\n  44  2000 [YR2000]  0.994789\n  45  2001 [YR2001]  1.083432\n  46  2002 [YR2002]  0.900497\n  47  2003 [YR2003]  0.832259\n  48  2004 [YR2004]  0.951063\n  49  2005 [YR2005]  0.726956\n  50  2006 [YR2006]  0.737585\n  51  2007 [YR2007]   0.77886\n  52  2008 [YR2008]   0.83833\n  53  2009 [YR2009]  0.695334\n  54  2010 [YR2010]  0.803697\n  55  2011 [YR2011]  0.910022\n  56  2012 [YR2012]  0.847919\n  57  2013 [YR2013]  0.942643\n  58  2014 [YR2014]  0.904548\n  59  2015 [YR2015]  0.684692\n  60  2016 [YR2016]  0.698431\n  61  2017 [YR2017]  0.851749\n  62  2018 [YR2018]  0.689013\n  63  2019 [YR2019]  0.778989\n  64  2020 [YR2020]   0.73531,\n  'first_year': '1991',\n  'first_ag': 1.101526043637281,\n  'last_year': '2020',\n  'last_ag': 0.7353098385774864},\n 'el': {'name': 'Greece',\n  'df':          variable     value\n  39  1995 [YR1995]  7.375806\n  40  1996 [YR1996]  6.584926\n  41  1997 [YR1997]  6.241636\n  42  1998 [YR1998]  5.965048\n  43  1999 [YR1999]  5.783495\n  44  2000 [YR2000]  5.435248\n  45  2001 [YR2001]  5.202702\n  46  2002 [YR2002]  4.987114\n  47  2003 [YR2003]  4.999784\n  48  2004 [YR2004]  4.275408\n  49  2005 [YR2005]  4.284224\n  50  2006 [YR2006]  3.201238\n  51  2007 [YR2007]  3.037348\n  52  2008 [YR2008]   2.80725\n  53  2009 [YR2009]  2.804954\n  54  2010 [YR2010]  2.988333\n  55  2011 [YR2011]  3.113752\n  56  2012 [YR2012]  3.441069\n  57  2013 [YR2013]  3.382603\n  58  2014 [YR2014]  3.584134\n  59  2015 [YR2015]  3.864703\n  60  2016 [YR2016]   3.51534\n  61  2017 [YR2017]  3.856389\n  62  2018 [YR2018]  3.635408\n  63  2019 [YR2019]  3.779625\n  64  2020 [YR2020]  4.230805,\n  'first_year': '1995',\n  'first_ag': 7.375806358492404,\n  'last_year': '2020',\n  'last_ag': 4.2308045524990385},\n 'en': {'name': 'United States',\n  'df':          variable     value\n  41  1997 [YR1997]  1.336912\n  42  1998 [YR1998]  1.213997\n  43  1999 [YR1999]  1.151183\n  44  2000 [YR2000]  1.150456\n  45  2001 [YR2001]  1.129326\n  46  2002 [YR2002]  0.970431\n  47  2003 [YR2003]  1.115257\n  48  2004 [YR2004]   1.25866\n  49  2005 [YR2005]  1.142255\n  50  2006 [YR2006]  1.000678\n  51  2007 [YR2007]  1.066822\n  52  2008 [YR2008]  1.065783\n  53  2009 [YR2009]  0.968573\n  54  2010 [YR2010]  1.042481\n  55  2011 [YR2011]  1.216488\n  56  2012 [YR2012]  1.158829\n  57  2013 [YR2013]  1.333514\n  58  2014 [YR2014]  1.185571\n  59  2015 [YR2015]  1.043866\n  60  2016 [YR2016]  0.943989\n  61  2017 [YR2017]  0.949806\n  62  2018 [YR2018]   0.92056\n  63  2019 [YR2019]  0.916865,\n  'first_year': '1997',\n  'first_ag': 1.3369117103816948,\n  'last_year': '2019',\n  'last_ag': 0.9168652210672991},\n 'es': {'name': 'Cuba',\n  'df':          variable      value\n  14  1970 [YR1970]  12.121357\n  15  1971 [YR1971]  12.119041\n  16  1972 [YR1972]  12.118914\n  17  1973 [YR1973]  12.123242\n  18  1974 [YR1974]  12.132595\n  19  1975 [YR1975]  12.112992\n  20  1976 [YR1976]  12.107465\n  21  1977 [YR1977]  12.118276\n  22  1978 [YR1978]  12.144883\n  23  1979 [YR1979]  12.179363\n  24  1980 [YR1980]  12.014972\n  25  1981 [YR1981]  12.079831\n  26  1982 [YR1982]   12.17233\n  27  1983 [YR1983]  12.277919\n  28  1984 [YR1984]  12.351761\n  29  1985 [YR1985]  11.193022\n  30  1986 [YR1986]  12.404123\n  31  1987 [YR1987]  12.634828\n  32  1988 [YR1988]   12.80586\n  33  1989 [YR1989]  12.720974\n  34  1990 [YR1990]  13.040549\n  35  1991 [YR1991]  12.775947\n  36  1992 [YR1992]  12.426619\n  37  1993 [YR1993]   9.571153\n  38  1994 [YR1994]   7.899808\n  39  1995 [YR1995]   6.883298\n  40  1996 [YR1996]   7.133444\n  41  1997 [YR1997]   7.186811\n  42  1998 [YR1998]   6.117422\n  43  1999 [YR1999]    6.12418\n  44  2000 [YR2000]   6.601255\n  45  2001 [YR2001]   6.379567\n  46  2002 [YR2002]   5.945729\n  47  2003 [YR2003]   5.745212\n  48  2004 [YR2004]   5.474439\n  49  2005 [YR2005]   4.363652\n  50  2006 [YR2006]   3.405015\n  51  2007 [YR2007]   3.908102\n  52  2008 [YR2008]   3.817039\n  53  2009 [YR2009]   3.930412\n  54  2010 [YR2010]   3.614289\n  55  2011 [YR2011]    3.60487\n  56  2012 [YR2012]   3.850098\n  57  2013 [YR2013]   3.924924\n  58  2014 [YR2014]   3.937711\n  59  2015 [YR2015]   3.835516\n  60  2016 [YR2016]    3.93893\n  61  2017 [YR2017]   3.800684\n  62  2018 [YR2018]   3.783108\n  63  2019 [YR2019]   3.567699\n  64  2020 [YR2020]   2.761942,\n  'first_year': '1970',\n  'first_ag': 12.121357275415804,\n  'last_year': '2020',\n  'last_ag': 2.7619420225054028},\n 'fa': {'name': 'Iran, Islamic Rep.',\n  'df':          variable      value\n  4   1960 [YR1960]  25.900602\n  5   1961 [YR1961]  24.902568\n  6   1962 [YR1962]  23.827496\n  7   1963 [YR1963]  22.257218\n  8   1964 [YR1964]  20.766066\n  ..            ...        ...\n  60  2016 [YR2016]   9.637365\n  61  2017 [YR2017]   9.499745\n  62  2018 [YR2018]   9.936335\n  63  2019 [YR2019]   12.18188\n  64  2020 [YR2020]  11.318761\n  \n  [61 rows x 2 columns],\n  'first_year': '1960',\n  'first_ag': 25.900601532239886,\n  'last_year': '2020',\n  'last_ag': 11.318761122702565},\n 'hy': {'name': 'Armenia',\n  'df':          variable      value\n  56  2012 [YR2012]  17.912682\n  57  2013 [YR2013]  18.434763\n  58  2014 [YR2014]  18.072036\n  59  2015 [YR2015]   17.22312\n  60  2016 [YR2016]  16.390474\n  61  2017 [YR2017]   14.99426\n  62  2018 [YR2018]  13.942312\n  63  2019 [YR2019]  11.525611\n  64  2020 [YR2020]  11.213424,\n  'first_year': '2012',\n  'first_ag': 17.912681952639666,\n  'last_year': '2020',\n  'last_ag': 11.21342390635557},\n 'it': {'name': 'Italy',\n  'df':          variable     value\n  34  1990 [YR1990]  3.182369\n  35  1991 [YR1991]  3.239189\n  36  1992 [YR1992]  3.117911\n  37  1993 [YR1993]  2.998568\n  38  1994 [YR1994]  2.991601\n  39  1995 [YR1995]  2.977708\n  40  1996 [YR1996]  2.974588\n  41  1997 [YR1997]  2.861912\n  42  1998 [YR1998]  2.768857\n  43  1999 [YR1999]  2.722232\n  44  2000 [YR2000]  2.563614\n  45  2001 [YR2001]  2.489631\n  46  2002 [YR2002]  2.371382\n  47  2003 [YR2003]  2.357959\n  48  2004 [YR2004]  2.347033\n  49  2005 [YR2005]  2.033595\n  50  2006 [YR2006]   1.94584\n  51  2007 [YR2007]  1.896287\n  52  2008 [YR2008]  1.874624\n  53  2009 [YR2009]  1.802739\n  54  2010 [YR2010]  1.775515\n  55  2011 [YR2011]  1.883426\n  56  2012 [YR2012]  1.970753\n  57  2013 [YR2013]   2.14459\n  58  2014 [YR2014]  1.997861\n  59  2015 [YR2015]  2.065237\n  60  2016 [YR2016]  1.928373\n  61  2017 [YR2017]  1.972685\n  62  2018 [YR2018]   1.94542\n  63  2019 [YR2019]  1.908381\n  64  2020 [YR2020]  1.987092,\n  'first_year': '1990',\n  'first_ag': 3.182368676759932,\n  'last_year': '2020',\n  'last_ag': 1.9870919845774362},\n 'ka': {'name': 'Georgia',\n  'df':          variable      value\n  24  1980 [YR1980]   23.00885\n  25  1981 [YR1981]  23.577236\n  26  1982 [YR1982]  21.538462\n  27  1983 [YR1983]  21.969697\n  28  1984 [YR1984]  24.285714\n  29  1985 [YR1985]  24.285714\n  30  1986 [YR1986]  24.817518\n  31  1987 [YR1987]  22.535211\n  32  1988 [YR1988]   22.60274\n  33  1989 [YR1989]  21.527778\n  34  1990 [YR1990]         30\n  35  1991 [YR1991]    26.5625\n  36  1992 [YR1992]  52.345845\n  40  1996 [YR1996]  33.152385\n  41  1997 [YR1997]  27.506641\n  42  1998 [YR1998]  26.244002\n  43  1999 [YR1999]  24.721718\n  44  2000 [YR2000]  20.602009\n  45  2001 [YR2001]  20.961942\n  46  2002 [YR2002]   19.24088\n  47  2003 [YR2003]  19.301503\n  48  2004 [YR2004]  16.395061\n  49  2005 [YR2005]   14.76994\n  50  2006 [YR2006]  11.198776\n  51  2007 [YR2007]   9.195707\n  52  2008 [YR2008]   8.131628\n  53  2009 [YR2009]   8.101301\n  54  2010 [YR2010]   8.450801\n  55  2011 [YR2011]   9.131942\n  56  2012 [YR2012]   8.175618\n  57  2013 [YR2013]   8.616414\n  58  2014 [YR2014]   8.526218\n  59  2015 [YR2015]   7.813762\n  60  2016 [YR2016]   7.296573\n  61  2017 [YR2017]   6.240187\n  62  2018 [YR2018]   6.762199\n  63  2019 [YR2019]   6.504589\n  64  2020 [YR2020]   7.288668,\n  'first_year': '1980',\n  'first_ag': 23.008849557522122,\n  'last_year': '2020',\n  'last_ag': 7.28866812979586},\n 'mn': {'name': 'Mongolia',\n  'df':          variable      value\n  25  1981 [YR1981]  16.742788\n  26  1982 [YR1982]  18.036415\n  27  1983 [YR1983]  18.415364\n  28  1984 [YR1984]  17.200929\n  29  1985 [YR1985]  16.400703\n  30  1986 [YR1986]  18.669528\n  31  1987 [YR1987]  16.417568\n  32  1988 [YR1988]   16.62938\n  33  1989 [YR1989]  15.515007\n  34  1990 [YR1990]  12.473837\n  35  1991 [YR1991]   11.81157\n  36  1992 [YR1992]  25.557106\n  37  1993 [YR1993]  25.709365\n  38  1994 [YR1994]  27.482614\n  39  1995 [YR1995]  32.542825\n  40  1996 [YR1996]  38.477005\n  41  1997 [YR1997]  32.236884\n  42  1998 [YR1998]  32.433369\n  43  1999 [YR1999]  31.697833\n  44  2000 [YR2000]  27.422531\n  45  2001 [YR2001]  22.968888\n  46  2002 [YR2002]  18.919125\n  47  2003 [YR2003]  18.439517\n  48  2004 [YR2004]  20.029777\n  49  2005 [YR2005]   19.79796\n  50  2006 [YR2006]  17.643671\n  51  2007 [YR2007]  18.427965\n  52  2008 [YR2008]  19.215125\n  53  2009 [YR2009]  17.864438\n  54  2010 [YR2010]  11.732563\n  55  2011 [YR2011]  10.307357\n  56  2012 [YR2012]  11.258025\n  57  2013 [YR2013]  13.414062\n  58  2014 [YR2014]  13.341221\n  59  2015 [YR2015]  14.079203\n  60  2016 [YR2016]  12.627844\n  61  2017 [YR2017]  11.137233\n  62  2018 [YR2018]  11.428005\n  63  2019 [YR2019]  11.558383\n  64  2020 [YR2020]  12.965656,\n  'first_year': '1981',\n  'first_ag': 16.742788220643867,\n  'last_year': '2020',\n  'last_ag': 12.965656303285922},\n 'ru': {'name': 'Russian Federation',\n  'df':          variable      value\n  33  1989 [YR1989]  15.602094\n  34  1990 [YR1990]  15.461037\n  35  1991 [YR1991]  13.771898\n  36  1992 [YR1992]   7.263364\n  37  1993 [YR1993]   7.557204\n  38  1994 [YR1994]   6.109561\n  39  1995 [YR1995]   6.692231\n  40  1996 [YR1996]   6.549375\n  41  1997 [YR1997]   5.869762\n  42  1998 [YR1998]   5.103393\n  43  1999 [YR1999]   6.580648\n  44  2000 [YR2000]   5.751716\n  45  2001 [YR2001]   5.875722\n  46  2002 [YR2002]   5.565714\n  47  2003 [YR2003]   5.502946\n  48  2004 [YR2004]   4.904442\n  49  2005 [YR2005]   4.255916\n  50  2006 [YR2006]   3.861312\n  51  2007 [YR2007]   3.778902\n  52  2008 [YR2008]   3.753341\n  53  2009 [YR2009]   4.084449\n  54  2010 [YR2010]   3.343898\n  55  2011 [YR2011]   3.150726\n  56  2012 [YR2012]   2.926031\n  57  2013 [YR2013]     2.9936\n  58  2014 [YR2014]   3.360605\n  59  2015 [YR2015]   3.873104\n  60  2016 [YR2016]   3.840217\n  61  2017 [YR2017]   3.553632\n  62  2018 [YR2018]   3.394255\n  63  2019 [YR2019]   3.495567\n  64  2020 [YR2020]   3.700196,\n  'first_year': '1989',\n  'first_ag': 15.602094240837697,\n  'last_year': '2020',\n  'last_ag': 3.7001961201672184},\n 'vi': {'name': 'Vietnam',\n  'df':          variable      value\n  29  1985 [YR1985]  40.170938\n  30  1986 [YR1986]  38.063439\n  31  1987 [YR1987]  40.557491\n  32  1988 [YR1988]  46.297017\n  33  1989 [YR1989]  42.067419\n  34  1990 [YR1990]  38.736742\n  35  1991 [YR1991]  40.489134\n  36  1992 [YR1992]  33.938588\n  37  1993 [YR1993]  29.869954\n  38  1994 [YR1994]  27.427829\n  39  1995 [YR1995]  27.182689\n  40  1996 [YR1996]  27.758826\n  41  1997 [YR1997]  25.771707\n  42  1998 [YR1998]   25.78078\n  43  1999 [YR1999]  25.434438\n  44  2000 [YR2000]  24.534582\n  45  2001 [YR2001]  23.241048\n  46  2002 [YR2002]  23.029442\n  47  2003 [YR2003]  22.542437\n  48  2004 [YR2004]  21.807699\n  49  2005 [YR2005]  19.299979\n  50  2006 [YR2006]  18.726785\n  51  2007 [YR2007]    18.6551\n  52  2008 [YR2008]  20.413144\n  53  2009 [YR2009]   19.16846\n  54  2010 [YR2010]  18.378481\n  55  2011 [YR2011]  19.567751\n  56  2012 [YR2012]  19.221401\n  57  2013 [YR2013]  17.963586\n  58  2014 [YR2014]    17.6992\n  59  2015 [YR2015]  16.992212\n  60  2016 [YR2016]  16.319644\n  61  2017 [YR2017]  15.344883\n  62  2018 [YR2018]  14.681979\n  63  2019 [YR2019]  13.956476\n  64  2020 [YR2020]  14.853162,\n  'first_year': '1985',\n  'first_ag': 40.17093765286004,\n  'last_year': '2020',\n  'last_ag': 14.853161654466884},\n 'zh': {'name': 'China',\n  'df':          variable      value\n  4   1960 [YR1960]  23.175294\n  5   1961 [YR1961]  35.794855\n  6   1962 [YR1962]  38.986405\n  7   1963 [YR1963]  39.854202\n  8   1964 [YR1964]  38.029798\n  ..            ...        ...\n  60  2016 [YR2016]   8.057288\n  61  2017 [YR2017]   7.463565\n  62  2018 [YR2018]    7.04302\n  63  2019 [YR2019]   7.143691\n  64  2020 [YR2020]   7.653067\n  \n  [61 rows x 2 columns],\n  'first_year': '1960',\n  'first_ag': 23.175294197673626,\n  'last_year': '2020',\n  'last_ag': 7.653066547557437}}"
     },
     "execution_count": 20,
     "metadata": {},
     "output_type": "execute_result"
    }
   ],
   "source": [
    "data_map"
   ],
   "metadata": {
    "collapsed": false,
    "pycharm": {
     "name": "#%%\n"
    }
   }
  },
  {
   "cell_type": "code",
   "execution_count": null,
   "outputs": [],
   "source": [],
   "metadata": {
    "collapsed": false,
    "pycharm": {
     "name": "#%%\n"
    }
   }
  }
 ],
 "metadata": {
  "kernelspec": {
   "display_name": "Python 3",
   "language": "python",
   "name": "python3"
  },
  "language_info": {
   "codemirror_mode": {
    "name": "ipython",
    "version": 2
   },
   "file_extension": ".py",
   "mimetype": "text/x-python",
   "name": "python",
   "nbconvert_exporter": "python",
   "pygments_lexer": "ipython2",
   "version": "2.7.6"
  }
 },
 "nbformat": 4,
 "nbformat_minor": 0
}