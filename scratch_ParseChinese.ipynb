{
 "cells": [
  {
   "cell_type": "code",
   "execution_count": 62,
   "outputs": [],
   "source": [
    "import os\n",
    "import re\n",
    "\n",
    "html_reg = re.compile(r'<[!a-zA-Z =\"\\-,\\\\/\\.\\' 0-9;_#:%]+>')\n",
    "zh_fn_reg = re.compile(r'【[0-9]+】')\n",
    "fn_reg = re.compile(r'\\[[0-9]+\\]')"
   ],
   "metadata": {
    "collapsed": false,
    "pycharm": {
     "name": "#%%\n"
    }
   }
  },
  {
   "cell_type": "code",
   "execution_count": 63,
   "outputs": [],
   "source": [
    "tnum_start = 1\n",
    "tnum_end = 25"
   ],
   "metadata": {
    "collapsed": false,
    "pycharm": {
     "name": "#%%\n"
    }
   }
  },
  {
   "cell_type": "code",
   "execution_count": 64,
   "outputs": [],
   "source": [
    "fname_template = '../../Translation_Documents/Raw_Capital/html/ZH_marxists.org/{tnum}.htm'\n",
    "out_fpath_template = '../../Translation_Documents/Raw_Capital/txt/ZH_clean/{tnum}.txt'\n",
    "full_output_fpath = '../../Translation_Documents/Raw_Capital/txt/ZH_clean.txt'"
   ],
   "metadata": {
    "collapsed": false,
    "pycharm": {
     "name": "#%%\n"
    }
   }
  },
  {
   "cell_type": "code",
   "execution_count": 65,
   "outputs": [],
   "source": [
    "clean_texts = []"
   ],
   "metadata": {
    "collapsed": false,
    "pycharm": {
     "name": "#%%\n"
    }
   }
  },
  {
   "cell_type": "code",
   "execution_count": 66,
   "outputs": [],
   "source": [
    "for i in range(tnum_start, tnum_end+1):\n",
    "    cur_tnum = str(i).zfill(2)\n",
    "    cur_fpath = fname_template.format(tnum=cur_tnum)\n",
    "    with open(cur_fpath, 'r', encoding='gb2312', errors='replace') as infile:\n",
    "        text = infile.read()\n",
    "    clean_text = html_reg.sub(\"\", text)\n",
    "    clean_text = zh_fn_reg.sub(\"\", clean_text)\n",
    "    clean_text = fn_reg.sub(\"\", clean_text)\n",
    "    clean_text = clean_text.replace(\"\\u3000\",\"\")\n",
    "    clean_text = clean_text.replace(\"&gt;\",\">\")\n",
    "    # Save individually\n",
    "    cur_output_fpath = out_fpath_template.format(tnum=cur_tnum)\n",
    "    with open(cur_output_fpath, 'w', encoding='utf-8') as outfile:\n",
    "        outfile.write(clean_text)\n",
    "    clean_texts.append(clean_text)"
   ],
   "metadata": {
    "collapsed": false,
    "pycharm": {
     "name": "#%%\n"
    }
   }
  },
  {
   "cell_type": "code",
   "execution_count": 67,
   "outputs": [
    {
     "data": {
      "text/plain": "'\\n\\n第一章商品\\n\\n中文马克思主义文库 -> 马克思 -> 《资本论》第一卷：资本的生产过程(1867)\\n第一卷资本的生产过程\\n\\n第一篇商品和货币\\n\\n第一章商品\\n\\n\\n\\n1、商品的两个因素：使用价值和价值(价值实体，价值量)\\n2、体现在商品中的劳动的二重性\\n3、价值形式或交换价值\\n A、简单的、个别的或偶然的价值形式\\n(1)价值表现的两极：相对价值形式和等价形式\\n(2)相对价值形式\\n(a)相对价值形式'"
     },
     "execution_count": 67,
     "metadata": {},
     "output_type": "execute_result"
    }
   ],
   "source": [
    "clean_texts[0][:200]"
   ],
   "metadata": {
    "collapsed": false,
    "pycharm": {
     "name": "#%%\n"
    }
   }
  },
  {
   "cell_type": "code",
   "execution_count": 68,
   "outputs": [],
   "source": [
    "full_text = \"\\n\\n\\n\".join(clean_texts)"
   ],
   "metadata": {
    "collapsed": false,
    "pycharm": {
     "name": "#%%\n"
    }
   }
  },
  {
   "cell_type": "code",
   "execution_count": 69,
   "outputs": [],
   "source": [
    "with open(full_output_fpath, 'w', encoding='utf-8') as outfile:\n",
    "    outfile.write(full_text)"
   ],
   "metadata": {
    "collapsed": false,
    "pycharm": {
     "name": "#%%\n"
    }
   }
  },
  {
   "cell_type": "code",
   "execution_count": 61,
   "outputs": [],
   "source": [],
   "metadata": {
    "collapsed": false,
    "pycharm": {
     "name": "#%%\n"
    }
   }
  },
  {
   "cell_type": "code",
   "execution_count": null,
   "outputs": [],
   "source": [],
   "metadata": {
    "collapsed": false,
    "pycharm": {
     "name": "#%%\n"
    }
   }
  }
 ],
 "metadata": {
  "kernelspec": {
   "display_name": "Python 3",
   "language": "python",
   "name": "python3"
  },
  "language_info": {
   "codemirror_mode": {
    "name": "ipython",
    "version": 2
   },
   "file_extension": ".py",
   "mimetype": "text/x-python",
   "name": "python",
   "nbconvert_exporter": "python",
   "pygments_lexer": "ipython2",
   "version": "2.7.6"
  }
 },
 "nbformat": 4,
 "nbformat_minor": 0
}