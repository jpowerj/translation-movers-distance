{
 "cells": [
  {
   "cell_type": "markdown",
   "metadata": {
    "collapsed": true,
    "pycharm": {
     "name": "#%% md\n"
    }
   },
   "source": [
    "### Basically collect all the TMD experiments in the different langs"
   ]
  },
  {
   "cell_type": "code",
   "execution_count": 4,
   "outputs": [
    {
     "name": "stdout",
     "output_type": "stream",
     "text": [
      "The autoreload extension is already loaded. To reload it, use:\n",
      "  %reload_ext autoreload\n"
     ]
    }
   ],
   "source": [
    "%load_ext autoreload\n",
    "%autoreload 2"
   ],
   "metadata": {
    "collapsed": false,
    "pycharm": {
     "name": "#%%\n"
    }
   }
  },
  {
   "cell_type": "code",
   "execution_count": 6,
   "outputs": [],
   "source": [
    "import glob\n",
    "import os\n",
    "\n",
    "import joblib\n",
    "import pandas as pd\n",
    "import numpy as np\n",
    "\n",
    "import tmdglobals"
   ],
   "metadata": {
    "collapsed": false,
    "pycharm": {
     "name": "#%%\n"
    }
   }
  },
  {
   "cell_type": "markdown",
   "source": [
    "## Alice in Wonderland"
   ],
   "metadata": {
    "collapsed": false,
    "pycharm": {
     "name": "#%% md\n"
    }
   }
  },
  {
   "cell_type": "code",
   "execution_count": 7,
   "outputs": [],
   "source": [
    "def gen_alice_df():\n",
    "    alice_path = \"../Texts_Output/Alice/\"\n",
    "    alice_langs = ['el','en','ru','vi','zh']\n",
    "    alice_map = {lang: joblib.load(f\"./lang_stats/alice_{lang}_mean.pkl\") for lang in alice_langs}\n",
    "    alice_df = pd.DataFrame(alice_map, index=[\"Alice in Wonderland\"])\n",
    "    return alice_df"
   ],
   "metadata": {
    "collapsed": false,
    "pycharm": {
     "name": "#%%\n"
    }
   }
  },
  {
   "cell_type": "markdown",
   "source": [
    "## Bible"
   ],
   "metadata": {
    "collapsed": false,
    "pycharm": {
     "name": "#%% md\n"
    }
   }
  },
  {
   "cell_type": "code",
   "execution_count": 8,
   "outputs": [],
   "source": [
    "def gen_bible_df():\n",
    "    bib_path = \"../Texts_Output/Bible/\"\n",
    "    en_mean = joblib.load('./lang_stats/bible_en_mean.pkl')\n",
    "    ru_mean = joblib.load('./lang_stats/bible_ru_mean.pkl')\n",
    "    vi_mean = joblib.load('./lang_stats/bible_vi_mean.pkl')\n",
    "    zh_mean = joblib.load('./lang_stats/bible_zh_mean.pkl')\n",
    "    bible_map = {\n",
    "        'en': en_mean,\n",
    "        'ru': ru_mean,\n",
    "        'vi': vi_mean,\n",
    "        'zh': zh_mean,\n",
    "    }\n",
    "    bib_df = pd.DataFrame({key: [val] for key, val in bible_map.items()}, index=[\"Bible\"])\n",
    "    return bib_df"
   ],
   "metadata": {
    "collapsed": false,
    "pycharm": {
     "name": "#%%\n"
    }
   }
  },
  {
   "cell_type": "markdown",
   "source": [
    "## UDHR"
   ],
   "metadata": {
    "collapsed": false,
    "pycharm": {
     "name": "#%% md\n"
    }
   }
  },
  {
   "cell_type": "code",
   "execution_count": 9,
   "outputs": [],
   "source": [
    "udhr_path = \"../Texts_Output/UDHR/\"\n",
    "def load_udhr_df(lang):\n",
    "    lang_df = pd.read_csv(os.path.join(udhr_path, f\"tmd_de_{lang}.csv\"))\n",
    "    return lang_df"
   ],
   "metadata": {
    "collapsed": false,
    "pycharm": {
     "name": "#%%\n"
    }
   }
  },
  {
   "cell_type": "code",
   "execution_count": 10,
   "outputs": [],
   "source": [
    "def gen_udhr_df(verbose=False):\n",
    "    vprint = print if verbose else lambda x: None\n",
    "    # UDHR\n",
    "    udhr_langs = ['el','en','kk','ru','vi','zh']\n",
    "    udhr_means = {}\n",
    "    for cur_lang in udhr_langs:\n",
    "        vprint(f\"{cur_lang}\")\n",
    "        cur_df = load_udhr_df(cur_lang)\n",
    "        cur_mean = cur_df['tmd'].mean()\n",
    "        udhr_means[cur_lang] = cur_mean\n",
    "    #udhr_dfs = {lang: load_udhr_df(lang) for lang in udhr_langs}\n",
    "    #udhr_means = {lang: udhr_dfs[lang]['tmd'].mean() for lang in udhr_langs}\n",
    "    combined_df = pd.DataFrame(udhr_means, index=[\"UDHR\"])\n",
    "    return combined_df"
   ],
   "metadata": {
    "collapsed": false,
    "pycharm": {
     "name": "#%%\n"
    }
   }
  },
  {
   "cell_type": "markdown",
   "source": [
    "## And the Capital TMDs"
   ],
   "metadata": {
    "collapsed": false,
    "pycharm": {
     "name": "#%% md\n"
    }
   }
  },
  {
   "cell_type": "code",
   "execution_count": 11,
   "outputs": [],
   "source": [
    "cap_df = tmdglobals.gen_cap_df()"
   ],
   "metadata": {
    "collapsed": false,
    "pycharm": {
     "name": "#%%\n"
    }
   }
  },
  {
   "cell_type": "code",
   "execution_count": 12,
   "outputs": [],
   "source": [
    "cap_df['en'] = np.mean([cap_df['en_aveling'], cap_df['en_fowkes']])"
   ],
   "metadata": {
    "collapsed": false,
    "pycharm": {
     "name": "#%%\n"
    }
   }
  },
  {
   "cell_type": "code",
   "execution_count": 13,
   "outputs": [
    {
     "data": {
      "text/plain": "                  el  en_aveling  en_fowkes        kk        ru        vi  \\\nCapital V1  1.166985    1.128425   1.121938  1.338835  0.966975  1.139451   \n\n                  zh        en  \nCapital V1  1.154967  1.125182  ",
      "text/html": "<div>\n<style scoped>\n    .dataframe tbody tr th:only-of-type {\n        vertical-align: middle;\n    }\n\n    .dataframe tbody tr th {\n        vertical-align: top;\n    }\n\n    .dataframe thead th {\n        text-align: right;\n    }\n</style>\n<table border=\"1\" class=\"dataframe\">\n  <thead>\n    <tr style=\"text-align: right;\">\n      <th></th>\n      <th>el</th>\n      <th>en_aveling</th>\n      <th>en_fowkes</th>\n      <th>kk</th>\n      <th>ru</th>\n      <th>vi</th>\n      <th>zh</th>\n      <th>en</th>\n    </tr>\n  </thead>\n  <tbody>\n    <tr>\n      <th>Capital V1</th>\n      <td>1.166985</td>\n      <td>1.128425</td>\n      <td>1.121938</td>\n      <td>1.338835</td>\n      <td>0.966975</td>\n      <td>1.139451</td>\n      <td>1.154967</td>\n      <td>1.125182</td>\n    </tr>\n  </tbody>\n</table>\n</div>"
     },
     "execution_count": 13,
     "metadata": {},
     "output_type": "execute_result"
    }
   ],
   "source": [
    "cap_df"
   ],
   "metadata": {
    "collapsed": false,
    "pycharm": {
     "name": "#%%\n"
    }
   }
  },
  {
   "cell_type": "markdown",
   "source": [
    "## Now combining everything into one DF"
   ],
   "metadata": {
    "collapsed": false,
    "pycharm": {
     "name": "#%% md\n"
    }
   }
  },
  {
   "cell_type": "code",
   "execution_count": 14,
   "outputs": [
    {
     "name": "stdout",
     "output_type": "stream",
     "text": [
      "el\n",
      "en\n",
      "kk\n",
      "ru\n",
      "vi\n",
      "zh\n"
     ]
    }
   ],
   "source": [
    "alice_df = gen_alice_df()\n",
    "bib_df = gen_bible_df()\n",
    "udhr_df = gen_udhr_df(verbose=True)"
   ],
   "metadata": {
    "collapsed": false,
    "pycharm": {
     "name": "#%%\n"
    }
   }
  },
  {
   "cell_type": "code",
   "execution_count": 15,
   "outputs": [],
   "source": [
    "full_df = pd.concat([alice_df, bib_df, cap_df, udhr_df])"
   ],
   "metadata": {
    "collapsed": false,
    "pycharm": {
     "name": "#%%\n"
    }
   }
  },
  {
   "cell_type": "code",
   "execution_count": 16,
   "outputs": [],
   "source": [
    "full_df.reset_index(inplace=True)"
   ],
   "metadata": {
    "collapsed": false,
    "pycharm": {
     "name": "#%%\n"
    }
   }
  },
  {
   "cell_type": "code",
   "execution_count": 17,
   "outputs": [],
   "source": [
    "full_df.rename(columns={'index':'title'}, inplace=True)"
   ],
   "metadata": {
    "collapsed": false,
    "pycharm": {
     "name": "#%%\n"
    }
   }
  },
  {
   "cell_type": "code",
   "execution_count": 18,
   "outputs": [],
   "source": [
    "full_df = full_df[['title','el','en','kk','ru','vi','zh']].copy()"
   ],
   "metadata": {
    "collapsed": false,
    "pycharm": {
     "name": "#%%\n"
    }
   }
  },
  {
   "cell_type": "code",
   "execution_count": 19,
   "outputs": [
    {
     "data": {
      "text/plain": "                 title        el        en        kk        ru        vi  \\\n0  Alice in Wonderland  1.068903  1.016049       NaN  1.039452  1.136765   \n1                Bible       NaN  0.884110       NaN  0.929112  1.066133   \n2           Capital V1  1.166985  1.125182  1.338835  0.966975  1.139451   \n3                 UDHR  0.948562  0.806510  1.367059  0.891848  1.040473   \n\n         zh  \n0  1.131740  \n1  1.069639  \n2  1.154967  \n3  0.951665  ",
      "text/html": "<div>\n<style scoped>\n    .dataframe tbody tr th:only-of-type {\n        vertical-align: middle;\n    }\n\n    .dataframe tbody tr th {\n        vertical-align: top;\n    }\n\n    .dataframe thead th {\n        text-align: right;\n    }\n</style>\n<table border=\"1\" class=\"dataframe\">\n  <thead>\n    <tr style=\"text-align: right;\">\n      <th></th>\n      <th>title</th>\n      <th>el</th>\n      <th>en</th>\n      <th>kk</th>\n      <th>ru</th>\n      <th>vi</th>\n      <th>zh</th>\n    </tr>\n  </thead>\n  <tbody>\n    <tr>\n      <th>0</th>\n      <td>Alice in Wonderland</td>\n      <td>1.068903</td>\n      <td>1.016049</td>\n      <td>NaN</td>\n      <td>1.039452</td>\n      <td>1.136765</td>\n      <td>1.131740</td>\n    </tr>\n    <tr>\n      <th>1</th>\n      <td>Bible</td>\n      <td>NaN</td>\n      <td>0.884110</td>\n      <td>NaN</td>\n      <td>0.929112</td>\n      <td>1.066133</td>\n      <td>1.069639</td>\n    </tr>\n    <tr>\n      <th>2</th>\n      <td>Capital V1</td>\n      <td>1.166985</td>\n      <td>1.125182</td>\n      <td>1.338835</td>\n      <td>0.966975</td>\n      <td>1.139451</td>\n      <td>1.154967</td>\n    </tr>\n    <tr>\n      <th>3</th>\n      <td>UDHR</td>\n      <td>0.948562</td>\n      <td>0.806510</td>\n      <td>1.367059</td>\n      <td>0.891848</td>\n      <td>1.040473</td>\n      <td>0.951665</td>\n    </tr>\n  </tbody>\n</table>\n</div>"
     },
     "execution_count": 19,
     "metadata": {},
     "output_type": "execute_result"
    }
   ],
   "source": [
    "full_df"
   ],
   "metadata": {
    "collapsed": false,
    "pycharm": {
     "name": "#%%\n"
    }
   }
  },
  {
   "cell_type": "code",
   "execution_count": 20,
   "outputs": [],
   "source": [
    "melt_df = full_df.melt(id_vars=['title'])"
   ],
   "metadata": {
    "collapsed": false,
    "pycharm": {
     "name": "#%%\n"
    }
   }
  },
  {
   "cell_type": "code",
   "execution_count": 21,
   "outputs": [],
   "source": [
    "melt_df.rename(columns={'variable':'lang', 'value':'tmd'}, inplace=True)"
   ],
   "metadata": {
    "collapsed": false,
    "pycharm": {
     "name": "#%%\n"
    }
   }
  },
  {
   "cell_type": "code",
   "execution_count": 22,
   "outputs": [
    {
     "data": {
      "text/plain": "                  title lang       tmd  size\n0   Alice in Wonderland   el  1.068903    10\n1                 Bible   el       NaN    10\n2            Capital V1   el  1.166985    10\n3                  UDHR   el  0.948562    10\n4   Alice in Wonderland   en  1.016049    10\n5                 Bible   en  0.884110    10\n6            Capital V1   en  1.125182    10\n7                  UDHR   en  0.806510    10\n8   Alice in Wonderland   kk       NaN    10\n9                 Bible   kk       NaN    10\n10           Capital V1   kk  1.338835    10\n11                 UDHR   kk  1.367059    10\n12  Alice in Wonderland   ru  1.039452    10\n13                Bible   ru  0.929112    10\n14           Capital V1   ru  0.966975    10\n15                 UDHR   ru  0.891848    10\n16  Alice in Wonderland   vi  1.136765    10\n17                Bible   vi  1.066133    10\n18           Capital V1   vi  1.139451    10\n19                 UDHR   vi  1.040473    10\n20  Alice in Wonderland   zh  1.131740    10\n21                Bible   zh  1.069639    10\n22           Capital V1   zh  1.154967    10\n23                 UDHR   zh  0.951665    10",
      "text/html": "<div>\n<style scoped>\n    .dataframe tbody tr th:only-of-type {\n        vertical-align: middle;\n    }\n\n    .dataframe tbody tr th {\n        vertical-align: top;\n    }\n\n    .dataframe thead th {\n        text-align: right;\n    }\n</style>\n<table border=\"1\" class=\"dataframe\">\n  <thead>\n    <tr style=\"text-align: right;\">\n      <th></th>\n      <th>title</th>\n      <th>lang</th>\n      <th>tmd</th>\n      <th>size</th>\n    </tr>\n  </thead>\n  <tbody>\n    <tr>\n      <th>0</th>\n      <td>Alice in Wonderland</td>\n      <td>el</td>\n      <td>1.068903</td>\n      <td>10</td>\n    </tr>\n    <tr>\n      <th>1</th>\n      <td>Bible</td>\n      <td>el</td>\n      <td>NaN</td>\n      <td>10</td>\n    </tr>\n    <tr>\n      <th>2</th>\n      <td>Capital V1</td>\n      <td>el</td>\n      <td>1.166985</td>\n      <td>10</td>\n    </tr>\n    <tr>\n      <th>3</th>\n      <td>UDHR</td>\n      <td>el</td>\n      <td>0.948562</td>\n      <td>10</td>\n    </tr>\n    <tr>\n      <th>4</th>\n      <td>Alice in Wonderland</td>\n      <td>en</td>\n      <td>1.016049</td>\n      <td>10</td>\n    </tr>\n    <tr>\n      <th>5</th>\n      <td>Bible</td>\n      <td>en</td>\n      <td>0.884110</td>\n      <td>10</td>\n    </tr>\n    <tr>\n      <th>6</th>\n      <td>Capital V1</td>\n      <td>en</td>\n      <td>1.125182</td>\n      <td>10</td>\n    </tr>\n    <tr>\n      <th>7</th>\n      <td>UDHR</td>\n      <td>en</td>\n      <td>0.806510</td>\n      <td>10</td>\n    </tr>\n    <tr>\n      <th>8</th>\n      <td>Alice in Wonderland</td>\n      <td>kk</td>\n      <td>NaN</td>\n      <td>10</td>\n    </tr>\n    <tr>\n      <th>9</th>\n      <td>Bible</td>\n      <td>kk</td>\n      <td>NaN</td>\n      <td>10</td>\n    </tr>\n    <tr>\n      <th>10</th>\n      <td>Capital V1</td>\n      <td>kk</td>\n      <td>1.338835</td>\n      <td>10</td>\n    </tr>\n    <tr>\n      <th>11</th>\n      <td>UDHR</td>\n      <td>kk</td>\n      <td>1.367059</td>\n      <td>10</td>\n    </tr>\n    <tr>\n      <th>12</th>\n      <td>Alice in Wonderland</td>\n      <td>ru</td>\n      <td>1.039452</td>\n      <td>10</td>\n    </tr>\n    <tr>\n      <th>13</th>\n      <td>Bible</td>\n      <td>ru</td>\n      <td>0.929112</td>\n      <td>10</td>\n    </tr>\n    <tr>\n      <th>14</th>\n      <td>Capital V1</td>\n      <td>ru</td>\n      <td>0.966975</td>\n      <td>10</td>\n    </tr>\n    <tr>\n      <th>15</th>\n      <td>UDHR</td>\n      <td>ru</td>\n      <td>0.891848</td>\n      <td>10</td>\n    </tr>\n    <tr>\n      <th>16</th>\n      <td>Alice in Wonderland</td>\n      <td>vi</td>\n      <td>1.136765</td>\n      <td>10</td>\n    </tr>\n    <tr>\n      <th>17</th>\n      <td>Bible</td>\n      <td>vi</td>\n      <td>1.066133</td>\n      <td>10</td>\n    </tr>\n    <tr>\n      <th>18</th>\n      <td>Capital V1</td>\n      <td>vi</td>\n      <td>1.139451</td>\n      <td>10</td>\n    </tr>\n    <tr>\n      <th>19</th>\n      <td>UDHR</td>\n      <td>vi</td>\n      <td>1.040473</td>\n      <td>10</td>\n    </tr>\n    <tr>\n      <th>20</th>\n      <td>Alice in Wonderland</td>\n      <td>zh</td>\n      <td>1.131740</td>\n      <td>10</td>\n    </tr>\n    <tr>\n      <th>21</th>\n      <td>Bible</td>\n      <td>zh</td>\n      <td>1.069639</td>\n      <td>10</td>\n    </tr>\n    <tr>\n      <th>22</th>\n      <td>Capital V1</td>\n      <td>zh</td>\n      <td>1.154967</td>\n      <td>10</td>\n    </tr>\n    <tr>\n      <th>23</th>\n      <td>UDHR</td>\n      <td>zh</td>\n      <td>0.951665</td>\n      <td>10</td>\n    </tr>\n  </tbody>\n</table>\n</div>"
     },
     "execution_count": 22,
     "metadata": {},
     "output_type": "execute_result"
    }
   ],
   "source": [
    "melt_df['size'] = 10\n",
    "melt_df"
   ],
   "metadata": {
    "collapsed": false,
    "pycharm": {
     "name": "#%%\n"
    }
   }
  },
  {
   "cell_type": "code",
   "execution_count": 23,
   "outputs": [],
   "source": [
    "melt_df.loc[melt_df['title'] == \"Capital V1\", \"size\"] = 15"
   ],
   "metadata": {
    "collapsed": false,
    "pycharm": {
     "name": "#%%\n"
    }
   }
  },
  {
   "cell_type": "code",
   "execution_count": 24,
   "outputs": [
    {
     "data": {
      "text/plain": "                  title lang       tmd  size\n0   Alice in Wonderland   el  1.068903    10\n1                 Bible   el       NaN    10\n2            Capital V1   el  1.166985    15\n3                  UDHR   el  0.948562    10\n4   Alice in Wonderland   en  1.016049    10\n5                 Bible   en  0.884110    10\n6            Capital V1   en  1.125182    15\n7                  UDHR   en  0.806510    10\n8   Alice in Wonderland   kk       NaN    10\n9                 Bible   kk       NaN    10\n10           Capital V1   kk  1.338835    15\n11                 UDHR   kk  1.367059    10\n12  Alice in Wonderland   ru  1.039452    10\n13                Bible   ru  0.929112    10\n14           Capital V1   ru  0.966975    15\n15                 UDHR   ru  0.891848    10\n16  Alice in Wonderland   vi  1.136765    10\n17                Bible   vi  1.066133    10\n18           Capital V1   vi  1.139451    15\n19                 UDHR   vi  1.040473    10\n20  Alice in Wonderland   zh  1.131740    10\n21                Bible   zh  1.069639    10\n22           Capital V1   zh  1.154967    15\n23                 UDHR   zh  0.951665    10",
      "text/html": "<div>\n<style scoped>\n    .dataframe tbody tr th:only-of-type {\n        vertical-align: middle;\n    }\n\n    .dataframe tbody tr th {\n        vertical-align: top;\n    }\n\n    .dataframe thead th {\n        text-align: right;\n    }\n</style>\n<table border=\"1\" class=\"dataframe\">\n  <thead>\n    <tr style=\"text-align: right;\">\n      <th></th>\n      <th>title</th>\n      <th>lang</th>\n      <th>tmd</th>\n      <th>size</th>\n    </tr>\n  </thead>\n  <tbody>\n    <tr>\n      <th>0</th>\n      <td>Alice in Wonderland</td>\n      <td>el</td>\n      <td>1.068903</td>\n      <td>10</td>\n    </tr>\n    <tr>\n      <th>1</th>\n      <td>Bible</td>\n      <td>el</td>\n      <td>NaN</td>\n      <td>10</td>\n    </tr>\n    <tr>\n      <th>2</th>\n      <td>Capital V1</td>\n      <td>el</td>\n      <td>1.166985</td>\n      <td>15</td>\n    </tr>\n    <tr>\n      <th>3</th>\n      <td>UDHR</td>\n      <td>el</td>\n      <td>0.948562</td>\n      <td>10</td>\n    </tr>\n    <tr>\n      <th>4</th>\n      <td>Alice in Wonderland</td>\n      <td>en</td>\n      <td>1.016049</td>\n      <td>10</td>\n    </tr>\n    <tr>\n      <th>5</th>\n      <td>Bible</td>\n      <td>en</td>\n      <td>0.884110</td>\n      <td>10</td>\n    </tr>\n    <tr>\n      <th>6</th>\n      <td>Capital V1</td>\n      <td>en</td>\n      <td>1.125182</td>\n      <td>15</td>\n    </tr>\n    <tr>\n      <th>7</th>\n      <td>UDHR</td>\n      <td>en</td>\n      <td>0.806510</td>\n      <td>10</td>\n    </tr>\n    <tr>\n      <th>8</th>\n      <td>Alice in Wonderland</td>\n      <td>kk</td>\n      <td>NaN</td>\n      <td>10</td>\n    </tr>\n    <tr>\n      <th>9</th>\n      <td>Bible</td>\n      <td>kk</td>\n      <td>NaN</td>\n      <td>10</td>\n    </tr>\n    <tr>\n      <th>10</th>\n      <td>Capital V1</td>\n      <td>kk</td>\n      <td>1.338835</td>\n      <td>15</td>\n    </tr>\n    <tr>\n      <th>11</th>\n      <td>UDHR</td>\n      <td>kk</td>\n      <td>1.367059</td>\n      <td>10</td>\n    </tr>\n    <tr>\n      <th>12</th>\n      <td>Alice in Wonderland</td>\n      <td>ru</td>\n      <td>1.039452</td>\n      <td>10</td>\n    </tr>\n    <tr>\n      <th>13</th>\n      <td>Bible</td>\n      <td>ru</td>\n      <td>0.929112</td>\n      <td>10</td>\n    </tr>\n    <tr>\n      <th>14</th>\n      <td>Capital V1</td>\n      <td>ru</td>\n      <td>0.966975</td>\n      <td>15</td>\n    </tr>\n    <tr>\n      <th>15</th>\n      <td>UDHR</td>\n      <td>ru</td>\n      <td>0.891848</td>\n      <td>10</td>\n    </tr>\n    <tr>\n      <th>16</th>\n      <td>Alice in Wonderland</td>\n      <td>vi</td>\n      <td>1.136765</td>\n      <td>10</td>\n    </tr>\n    <tr>\n      <th>17</th>\n      <td>Bible</td>\n      <td>vi</td>\n      <td>1.066133</td>\n      <td>10</td>\n    </tr>\n    <tr>\n      <th>18</th>\n      <td>Capital V1</td>\n      <td>vi</td>\n      <td>1.139451</td>\n      <td>15</td>\n    </tr>\n    <tr>\n      <th>19</th>\n      <td>UDHR</td>\n      <td>vi</td>\n      <td>1.040473</td>\n      <td>10</td>\n    </tr>\n    <tr>\n      <th>20</th>\n      <td>Alice in Wonderland</td>\n      <td>zh</td>\n      <td>1.131740</td>\n      <td>10</td>\n    </tr>\n    <tr>\n      <th>21</th>\n      <td>Bible</td>\n      <td>zh</td>\n      <td>1.069639</td>\n      <td>10</td>\n    </tr>\n    <tr>\n      <th>22</th>\n      <td>Capital V1</td>\n      <td>zh</td>\n      <td>1.154967</td>\n      <td>15</td>\n    </tr>\n    <tr>\n      <th>23</th>\n      <td>UDHR</td>\n      <td>zh</td>\n      <td>0.951665</td>\n      <td>10</td>\n    </tr>\n  </tbody>\n</table>\n</div>"
     },
     "execution_count": 24,
     "metadata": {},
     "output_type": "execute_result"
    }
   ],
   "source": [
    "melt_df"
   ],
   "metadata": {
    "collapsed": false,
    "pycharm": {
     "name": "#%%\n"
    }
   }
  },
  {
   "cell_type": "code",
   "execution_count": 25,
   "outputs": [],
   "source": [
    "import seaborn as sns\n",
    "import matplotlib.pyplot as plt"
   ],
   "metadata": {
    "collapsed": false,
    "pycharm": {
     "name": "#%%\n"
    }
   }
  },
  {
   "cell_type": "code",
   "execution_count": 26,
   "outputs": [],
   "source": [
    "titles = list(melt_df['title'].unique())\n",
    "num_titles = len(titles)"
   ],
   "metadata": {
    "collapsed": false,
    "pycharm": {
     "name": "#%%\n"
    }
   }
  },
  {
   "cell_type": "code",
   "execution_count": 27,
   "outputs": [
    {
     "data": {
      "text/plain": "6"
     },
     "execution_count": 27,
     "metadata": {},
     "output_type": "execute_result"
    }
   ],
   "source": [
    "num_langs = len(melt_df['lang'].unique())\n",
    "num_langs"
   ],
   "metadata": {
    "collapsed": false,
    "pycharm": {
     "name": "#%%\n"
    }
   }
  },
  {
   "cell_type": "code",
   "execution_count": 35,
   "outputs": [
    {
     "name": "stderr",
     "output_type": "stream",
     "text": [
      "posx and posy should be finite values\n",
      "posx and posy should be finite values\n",
      "posx and posy should be finite values\n",
      "posx and posy should be finite values\n",
      "posx and posy should be finite values\n",
      "posx and posy should be finite values\n",
      "posx and posy should be finite values\n",
      "posx and posy should be finite values\n",
      "posx and posy should be finite values\n",
      "posx and posy should be finite values\n",
      "posx and posy should be finite values\n",
      "posx and posy should be finite values\n"
     ]
    },
    {
     "data": {
      "text/plain": "<Figure size 792x288 with 1 Axes>",
      "image/png": "[encoded data removed]"
     },
     "metadata": {},
     "output_type": "display_data"
    }
   ],
   "source": [
    "sns.set_theme(style=\"whitegrid\", rc={'figure.figsize':(11,4)}, font_scale=1.3)\n",
    "#sizes = [10] * (num_titles * num_langs)\n",
    "dot_plot = sns.stripplot(y=\"lang\", x=\"tmd\", hue=\"title\", data=melt_df,\n",
    "              jitter=False, dodge=False, orient='h', s=15, linewidth=2,\n",
    "                         edgecolor=\"w\")\n",
    "#dot_plot = plt.scatter(y=\"lang\", x=\"tmd\", s=\"size\", data=melt_df)\n",
    "#dot_plot = sns.relplot(y=\"lang\", x=\"tmd\", hue=\"title\", size=\"size\", data=melt_df,\n",
    "#                       legend=\"brief\", edgecolor=\"w\")\n",
    "dot_plot.yaxis.grid(True)\n",
    "dot_plot.xaxis.grid(False)\n",
    "dot_plot.set_title(\"Mean Per-Sentence TMD by Language\")\n",
    "# This removes the title from the legend\n",
    "handles, labels = dot_plot.get_legend_handles_labels()\n",
    "dot_plot.legend(handles=handles, labels=labels)\n",
    "y_map = {'el': 0.0, 'en':1.0, 'kk': 2.0, 'ru': 3.0, 'vi': 4.0, 'zh': 5.0}\n",
    "xshift = 0.0\n",
    "#yshift = -0.075\n",
    "yshift = -0.225\n",
    "\n",
    "for row_index, row in melt_df.iterrows():\n",
    "    #print(row)\n",
    "    cur_x = row['tmd']\n",
    "    x_str = \"{:0.2f}\".format(cur_x)\n",
    "    cur_lang = row['lang']\n",
    "    #print(cur_lang)\n",
    "    dot_plot.text(x=cur_x+xshift, y=y_map[cur_lang]+yshift, s=x_str,\n",
    "                  ha='center', size='small')\n",
    "\n",
    "#dot_plot.set_sizes([1,2,3,4,5,6,7,8,9,10,11,12])\n",
    "plt.tight_layout()\n",
    "#ax_ch = plt.gca().get_children()\n",
    "#ax_ch[0].set_sizes(500)\n",
    "#dir(dot_plot)\n",
    "plt.savefig(\"tmd_calibration.svg\")"
   ],
   "metadata": {
    "collapsed": false,
    "pycharm": {
     "name": "#%%\n"
    }
   }
  },
  {
   "cell_type": "code",
   "execution_count": 34,
   "outputs": [
    {
     "data": {
      "text/plain": "'C:\\\\Dropbox\\\\Translation\\\\code00_tmd'"
     },
     "execution_count": 34,
     "metadata": {},
     "output_type": "execute_result"
    }
   ],
   "source": [
    "os.getcwd()"
   ],
   "metadata": {
    "collapsed": false,
    "pycharm": {
     "name": "#%%\n"
    }
   }
  },
  {
   "cell_type": "markdown",
   "source": [
    "## Now plot with ag % gdp"
   ],
   "metadata": {
    "collapsed": false,
    "pycharm": {
     "name": "#%% md\n"
    }
   }
  },
  {
   "cell_type": "code",
   "execution_count": 36,
   "outputs": [],
   "source": [
    "import pandas as pd"
   ],
   "metadata": {
    "collapsed": false,
    "pycharm": {
     "name": "#%%\n"
    }
   }
  },
  {
   "cell_type": "code",
   "execution_count": 37,
   "outputs": [],
   "source": [
    "ag_df = pd.read_pickle(\"./gdp_stats/ag_pct.pkl\")"
   ],
   "metadata": {
    "collapsed": false,
    "pycharm": {
     "name": "#%%\n"
    }
   }
  },
  {
   "cell_type": "code",
   "execution_count": 38,
   "outputs": [
    {
     "data": {
      "text/plain": "    year     ag_pct\nam  1981  54.739136\nde  1991   1.101526\nel  1995   7.375806\nen  1997   1.336912\nes  1970  12.121357\nfa  1960  25.900602\nhy  2012  17.912682\nit  1990   3.182369\nka  1980  23.008850\nmn  1981  16.742788\nru  1989  15.602094\nvi  1985  40.170938\nzh  1960  23.175294",
      "text/html": "<div>\n<style scoped>\n    .dataframe tbody tr th:only-of-type {\n        vertical-align: middle;\n    }\n\n    .dataframe tbody tr th {\n        vertical-align: top;\n    }\n\n    .dataframe thead th {\n        text-align: right;\n    }\n</style>\n<table border=\"1\" class=\"dataframe\">\n  <thead>\n    <tr style=\"text-align: right;\">\n      <th></th>\n      <th>year</th>\n      <th>ag_pct</th>\n    </tr>\n  </thead>\n  <tbody>\n    <tr>\n      <th>am</th>\n      <td>1981</td>\n      <td>54.739136</td>\n    </tr>\n    <tr>\n      <th>de</th>\n      <td>1991</td>\n      <td>1.101526</td>\n    </tr>\n    <tr>\n      <th>el</th>\n      <td>1995</td>\n      <td>7.375806</td>\n    </tr>\n    <tr>\n      <th>en</th>\n      <td>1997</td>\n      <td>1.336912</td>\n    </tr>\n    <tr>\n      <th>es</th>\n      <td>1970</td>\n      <td>12.121357</td>\n    </tr>\n    <tr>\n      <th>fa</th>\n      <td>1960</td>\n      <td>25.900602</td>\n    </tr>\n    <tr>\n      <th>hy</th>\n      <td>2012</td>\n      <td>17.912682</td>\n    </tr>\n    <tr>\n      <th>it</th>\n      <td>1990</td>\n      <td>3.182369</td>\n    </tr>\n    <tr>\n      <th>ka</th>\n      <td>1980</td>\n      <td>23.008850</td>\n    </tr>\n    <tr>\n      <th>mn</th>\n      <td>1981</td>\n      <td>16.742788</td>\n    </tr>\n    <tr>\n      <th>ru</th>\n      <td>1989</td>\n      <td>15.602094</td>\n    </tr>\n    <tr>\n      <th>vi</th>\n      <td>1985</td>\n      <td>40.170938</td>\n    </tr>\n    <tr>\n      <th>zh</th>\n      <td>1960</td>\n      <td>23.175294</td>\n    </tr>\n  </tbody>\n</table>\n</div>"
     },
     "execution_count": 38,
     "metadata": {},
     "output_type": "execute_result"
    }
   ],
   "source": [
    "ag_df"
   ],
   "metadata": {
    "collapsed": false,
    "pycharm": {
     "name": "#%%\n"
    }
   }
  },
  {
   "cell_type": "markdown",
   "source": [
    "Here we merge in the Soviet-republic-specific dataset"
   ],
   "metadata": {
    "collapsed": false,
    "pycharm": {
     "name": "#%% md\n"
    }
   }
  },
  {
   "cell_type": "code",
   "execution_count": 39,
   "outputs": [],
   "source": [
    "ag_df.loc[\"az\"] = [int(1959), 52.22]\n",
    "ag_df.loc[\"kk\"] = [int(1959), 56.25]"
   ],
   "metadata": {
    "collapsed": false,
    "pycharm": {
     "name": "#%%\n"
    }
   }
  },
  {
   "cell_type": "code",
   "execution_count": 40,
   "outputs": [],
   "source": [
    "ag_df.sort_index(inplace=True)"
   ],
   "metadata": {
    "collapsed": false,
    "pycharm": {
     "name": "#%%\n"
    }
   }
  },
  {
   "cell_type": "code",
   "execution_count": 41,
   "outputs": [
    {
     "data": {
      "text/plain": "      year     ag_pct\nam    1981  54.739136\naz  1959.0  52.220000\nde    1991   1.101526\nel    1995   7.375806\nen    1997   1.336912\nes    1970  12.121357\nfa    1960  25.900602\nhy    2012  17.912682\nit    1990   3.182369\nka    1980  23.008850\nkk  1959.0  56.250000\nmn    1981  16.742788\nru    1989  15.602094\nvi    1985  40.170938\nzh    1960  23.175294",
      "text/html": "<div>\n<style scoped>\n    .dataframe tbody tr th:only-of-type {\n        vertical-align: middle;\n    }\n\n    .dataframe tbody tr th {\n        vertical-align: top;\n    }\n\n    .dataframe thead th {\n        text-align: right;\n    }\n</style>\n<table border=\"1\" class=\"dataframe\">\n  <thead>\n    <tr style=\"text-align: right;\">\n      <th></th>\n      <th>year</th>\n      <th>ag_pct</th>\n    </tr>\n  </thead>\n  <tbody>\n    <tr>\n      <th>am</th>\n      <td>1981</td>\n      <td>54.739136</td>\n    </tr>\n    <tr>\n      <th>az</th>\n      <td>1959.0</td>\n      <td>52.220000</td>\n    </tr>\n    <tr>\n      <th>de</th>\n      <td>1991</td>\n      <td>1.101526</td>\n    </tr>\n    <tr>\n      <th>el</th>\n      <td>1995</td>\n      <td>7.375806</td>\n    </tr>\n    <tr>\n      <th>en</th>\n      <td>1997</td>\n      <td>1.336912</td>\n    </tr>\n    <tr>\n      <th>es</th>\n      <td>1970</td>\n      <td>12.121357</td>\n    </tr>\n    <tr>\n      <th>fa</th>\n      <td>1960</td>\n      <td>25.900602</td>\n    </tr>\n    <tr>\n      <th>hy</th>\n      <td>2012</td>\n      <td>17.912682</td>\n    </tr>\n    <tr>\n      <th>it</th>\n      <td>1990</td>\n      <td>3.182369</td>\n    </tr>\n    <tr>\n      <th>ka</th>\n      <td>1980</td>\n      <td>23.008850</td>\n    </tr>\n    <tr>\n      <th>kk</th>\n      <td>1959.0</td>\n      <td>56.250000</td>\n    </tr>\n    <tr>\n      <th>mn</th>\n      <td>1981</td>\n      <td>16.742788</td>\n    </tr>\n    <tr>\n      <th>ru</th>\n      <td>1989</td>\n      <td>15.602094</td>\n    </tr>\n    <tr>\n      <th>vi</th>\n      <td>1985</td>\n      <td>40.170938</td>\n    </tr>\n    <tr>\n      <th>zh</th>\n      <td>1960</td>\n      <td>23.175294</td>\n    </tr>\n  </tbody>\n</table>\n</div>"
     },
     "execution_count": 41,
     "metadata": {},
     "output_type": "execute_result"
    }
   ],
   "source": [
    "ag_df"
   ],
   "metadata": {
    "collapsed": false,
    "pycharm": {
     "name": "#%%\n"
    }
   }
  },
  {
   "cell_type": "code",
   "execution_count": 41,
   "outputs": [],
   "source": [],
   "metadata": {
    "collapsed": false,
    "pycharm": {
     "name": "#%%\n"
    }
   }
  },
  {
   "cell_type": "markdown",
   "source": [
    "### And merge"
   ],
   "metadata": {
    "collapsed": false,
    "pycharm": {
     "name": "#%% md\n"
    }
   }
  },
  {
   "cell_type": "code",
   "execution_count": 42,
   "outputs": [],
   "source": [
    "merged_df = ag_df.merge(cap_df.T, left_index=True, right_index=True, how=\"left\")"
   ],
   "metadata": {
    "collapsed": false,
    "pycharm": {
     "name": "#%%\n"
    }
   }
  },
  {
   "cell_type": "code",
   "execution_count": 43,
   "outputs": [],
   "source": [
    "merged_df.reset_index(inplace=True)"
   ],
   "metadata": {
    "collapsed": false,
    "pycharm": {
     "name": "#%%\n"
    }
   }
  },
  {
   "cell_type": "code",
   "execution_count": 44,
   "outputs": [],
   "source": [
    "merged_df.rename(columns={'index':'lang'}, inplace=True)"
   ],
   "metadata": {
    "collapsed": false,
    "pycharm": {
     "name": "#%%\n"
    }
   }
  },
  {
   "cell_type": "code",
   "execution_count": 45,
   "outputs": [
    {
     "name": "stderr",
     "output_type": "stream",
     "text": [
      "*c* argument looks like a single numeric RGB or RGBA sequence, which should be avoided as value-mapping will have precedence in case its length matches with *x* & *y*.  Please use the *color* keyword-argument or provide a 2D array with a single row if you intend to specify the same RGB or RGBA value for all points.\n"
     ]
    },
    {
     "data": {
      "text/plain": "<AxesSubplot:xlabel='ag_pct', ylabel='Capital V1'>"
     },
     "execution_count": 45,
     "metadata": {},
     "output_type": "execute_result"
    },
    {
     "data": {
      "text/plain": "<Figure size 792x288 with 1 Axes>",
      "image/png": "[encoded data removed]"
     },
     "metadata": {},
     "output_type": "display_data"
    }
   ],
   "source": [
    "merged_df.plot(kind='scatter', x='ag_pct', y='Capital V1')"
   ],
   "metadata": {
    "collapsed": false,
    "pycharm": {
     "name": "#%%\n"
    }
   }
  },
  {
   "cell_type": "code",
   "execution_count": 46,
   "outputs": [],
   "source": [
    "import seaborn as sns"
   ],
   "metadata": {
    "collapsed": false,
    "pycharm": {
     "name": "#%%\n"
    }
   }
  },
  {
   "cell_type": "code",
   "execution_count": 76,
   "outputs": [
    {
     "name": "stderr",
     "output_type": "stream",
     "text": [
      "posx and posy should be finite values\n",
      "posx and posy should be finite values\n",
      "posx and posy should be finite values\n",
      "posx and posy should be finite values\n",
      "posx and posy should be finite values\n",
      "posx and posy should be finite values\n",
      "posx and posy should be finite values\n",
      "posx and posy should be finite values\n",
      "posx and posy should be finite values\n",
      "posx and posy should be finite values\n",
      "posx and posy should be finite values\n",
      "posx and posy should be finite values\n",
      "posx and posy should be finite values\n",
      "posx and posy should be finite values\n",
      "posx and posy should be finite values\n",
      "posx and posy should be finite values\n",
      "posx and posy should be finite values\n",
      "posx and posy should be finite values\n",
      "posx and posy should be finite values\n",
      "posx and posy should be finite values\n",
      "posx and posy should be finite values\n",
      "posx and posy should be finite values\n",
      "posx and posy should be finite values\n",
      "posx and posy should be finite values\n",
      "posx and posy should be finite values\n",
      "posx and posy should be finite values\n",
      "posx and posy should be finite values\n",
      "posx and posy should be finite values\n",
      "posx and posy should be finite values\n",
      "posx and posy should be finite values\n",
      "posx and posy should be finite values\n",
      "posx and posy should be finite values\n",
      "posx and posy should be finite values\n",
      "posx and posy should be finite values\n",
      "posx and posy should be finite values\n",
      "posx and posy should be finite values\n"
     ]
    },
    {
     "data": {
      "text/plain": "<Figure size 792x288 with 1 Axes>",
      "image/png": "[encoded data removed]"
     },
     "metadata": {},
     "output_type": "display_data"
    }
   ],
   "source": [
    "cap_plot = sns.regplot(data=merged_df, x='ag_pct', y='Capital V1')\n",
    "cap_plot.set_title(\"Translations of Capital V1\")\n",
    "cap_plot.set_xlabel(\"Agriculture as % of GDP\")\n",
    "cap_plot.set_ylabel(\"TMD (Capital V1)\")\n",
    "def label_point(x, y, val, ax):\n",
    "    a = pd.concat({'x': x, 'y': y, 'val': val}, axis=1)\n",
    "    for i, point in a.iterrows():\n",
    "        ax.text(point['x']+.02, point['y'], str(point['val']))\n",
    "\n",
    "label_point(merged_df['ag_pct'], merged_df['Capital V1'], merged_df['lang'], plt.gca())\n",
    "plt.tight_layout()\n",
    "plt.savefig(\"cap_tmd.svg\")"
   ],
   "metadata": {
    "collapsed": false,
    "pycharm": {
     "name": "#%%\n"
    }
   }
  },
  {
   "cell_type": "markdown",
   "source": [
    "# Try UDHR as \"control\""
   ],
   "metadata": {
    "collapsed": false,
    "pycharm": {
     "name": "#%% md\n"
    }
   }
  },
  {
   "cell_type": "code",
   "execution_count": 77,
   "outputs": [],
   "source": [
    "merged_udhr_df = ag_df.merge(udhr_df.T, left_index=True, right_index=True, how=\"left\")"
   ],
   "metadata": {
    "collapsed": false,
    "pycharm": {
     "name": "#%%\n"
    }
   }
  },
  {
   "cell_type": "code",
   "execution_count": 78,
   "outputs": [
    {
     "data": {
      "text/plain": "      year     ag_pct      UDHR\nam    1981  54.739136       NaN\naz  1959.0  52.220000       NaN\nde    1991   1.101526       NaN\nel    1995   7.375806  0.948562\nen    1997   1.336912  0.806510\nes    1970  12.121357       NaN\nfa    1960  25.900602       NaN\nhy    2012  17.912682       NaN\nit    1990   3.182369       NaN\nka    1980  23.008850       NaN\nkk  1959.0  56.250000  1.367059\nmn    1981  16.742788       NaN\nru    1989  15.602094  0.891848\nvi    1985  40.170938  1.040473\nzh    1960  23.175294  0.951665",
      "text/html": "<div>\n<style scoped>\n    .dataframe tbody tr th:only-of-type {\n        vertical-align: middle;\n    }\n\n    .dataframe tbody tr th {\n        vertical-align: top;\n    }\n\n    .dataframe thead th {\n        text-align: right;\n    }\n</style>\n<table border=\"1\" class=\"dataframe\">\n  <thead>\n    <tr style=\"text-align: right;\">\n      <th></th>\n      <th>year</th>\n      <th>ag_pct</th>\n      <th>UDHR</th>\n    </tr>\n  </thead>\n  <tbody>\n    <tr>\n      <th>am</th>\n      <td>1981</td>\n      <td>54.739136</td>\n      <td>NaN</td>\n    </tr>\n    <tr>\n      <th>az</th>\n      <td>1959.0</td>\n      <td>52.220000</td>\n      <td>NaN</td>\n    </tr>\n    <tr>\n      <th>de</th>\n      <td>1991</td>\n      <td>1.101526</td>\n      <td>NaN</td>\n    </tr>\n    <tr>\n      <th>el</th>\n      <td>1995</td>\n      <td>7.375806</td>\n      <td>0.948562</td>\n    </tr>\n    <tr>\n      <th>en</th>\n      <td>1997</td>\n      <td>1.336912</td>\n      <td>0.806510</td>\n    </tr>\n    <tr>\n      <th>es</th>\n      <td>1970</td>\n      <td>12.121357</td>\n      <td>NaN</td>\n    </tr>\n    <tr>\n      <th>fa</th>\n      <td>1960</td>\n      <td>25.900602</td>\n      <td>NaN</td>\n    </tr>\n    <tr>\n      <th>hy</th>\n      <td>2012</td>\n      <td>17.912682</td>\n      <td>NaN</td>\n    </tr>\n    <tr>\n      <th>it</th>\n      <td>1990</td>\n      <td>3.182369</td>\n      <td>NaN</td>\n    </tr>\n    <tr>\n      <th>ka</th>\n      <td>1980</td>\n      <td>23.008850</td>\n      <td>NaN</td>\n    </tr>\n    <tr>\n      <th>kk</th>\n      <td>1959.0</td>\n      <td>56.250000</td>\n      <td>1.367059</td>\n    </tr>\n    <tr>\n      <th>mn</th>\n      <td>1981</td>\n      <td>16.742788</td>\n      <td>NaN</td>\n    </tr>\n    <tr>\n      <th>ru</th>\n      <td>1989</td>\n      <td>15.602094</td>\n      <td>0.891848</td>\n    </tr>\n    <tr>\n      <th>vi</th>\n      <td>1985</td>\n      <td>40.170938</td>\n      <td>1.040473</td>\n    </tr>\n    <tr>\n      <th>zh</th>\n      <td>1960</td>\n      <td>23.175294</td>\n      <td>0.951665</td>\n    </tr>\n  </tbody>\n</table>\n</div>"
     },
     "execution_count": 78,
     "metadata": {},
     "output_type": "execute_result"
    }
   ],
   "source": [
    "merged_udhr_df"
   ],
   "metadata": {
    "collapsed": false,
    "pycharm": {
     "name": "#%%\n"
    }
   }
  },
  {
   "cell_type": "code",
   "execution_count": 79,
   "outputs": [],
   "source": [
    "merged_udhr_df.reset_index(inplace=True)"
   ],
   "metadata": {
    "collapsed": false,
    "pycharm": {
     "name": "#%%\n"
    }
   }
  },
  {
   "cell_type": "code",
   "execution_count": 80,
   "outputs": [],
   "source": [
    "merged_udhr_df.rename(columns={'index':'lang'}, inplace=True)"
   ],
   "metadata": {
    "collapsed": false,
    "pycharm": {
     "name": "#%%\n"
    }
   }
  },
  {
   "cell_type": "code",
   "execution_count": 81,
   "outputs": [
    {
     "name": "stderr",
     "output_type": "stream",
     "text": [
      "posx and posy should be finite values\n",
      "posx and posy should be finite values\n",
      "posx and posy should be finite values\n",
      "posx and posy should be finite values\n",
      "posx and posy should be finite values\n",
      "posx and posy should be finite values\n",
      "posx and posy should be finite values\n",
      "posx and posy should be finite values\n",
      "posx and posy should be finite values\n",
      "posx and posy should be finite values\n",
      "posx and posy should be finite values\n",
      "posx and posy should be finite values\n",
      "posx and posy should be finite values\n",
      "posx and posy should be finite values\n",
      "posx and posy should be finite values\n",
      "posx and posy should be finite values\n",
      "posx and posy should be finite values\n",
      "posx and posy should be finite values\n",
      "posx and posy should be finite values\n",
      "posx and posy should be finite values\n",
      "posx and posy should be finite values\n",
      "posx and posy should be finite values\n",
      "posx and posy should be finite values\n",
      "posx and posy should be finite values\n",
      "posx and posy should be finite values\n",
      "posx and posy should be finite values\n",
      "posx and posy should be finite values\n",
      "posx and posy should be finite values\n",
      "posx and posy should be finite values\n",
      "posx and posy should be finite values\n",
      "posx and posy should be finite values\n",
      "posx and posy should be finite values\n",
      "posx and posy should be finite values\n",
      "posx and posy should be finite values\n",
      "posx and posy should be finite values\n",
      "posx and posy should be finite values\n"
     ]
    },
    {
     "data": {
      "text/plain": "<Figure size 792x288 with 1 Axes>",
      "image/png": "[encoded data removed]"
     },
     "metadata": {},
     "output_type": "display_data"
    }
   ],
   "source": [
    "udhr_plot = sns.regplot(data=merged_udhr_df, x='ag_pct', y='UDHR')\n",
    "udhr_plot.set_title(\"Translations of Universal Declaration of Human Rights\")\n",
    "udhr_plot.set_xlabel(\"Agriculture as % of GDP\")\n",
    "udhr_plot.set_ylabel(\"TMD (UDHR)\")\n",
    "def label_point(x, y, val, ax):\n",
    "    a = pd.concat({'x': x, 'y': y, 'val': val}, axis=1)\n",
    "    for i, point in a.iterrows():\n",
    "        ax.text(point['x']+.02, point['y'], str(point['val']))\n",
    "\n",
    "label_point(merged_udhr_df['ag_pct'], merged_udhr_df['UDHR'], merged_udhr_df['lang'], plt.gca())\n",
    "plt.tight_layout()\n",
    "plt.savefig(\"udhr_tmd.svg\")"
   ],
   "metadata": {
    "collapsed": false,
    "pycharm": {
     "name": "#%%\n"
    }
   }
  },
  {
   "cell_type": "markdown",
   "source": [
    "### Or Alice"
   ],
   "metadata": {
    "collapsed": false,
    "pycharm": {
     "name": "#%% md\n"
    }
   }
  },
  {
   "cell_type": "code",
   "execution_count": 68,
   "outputs": [],
   "source": [
    "merged_alice_df = ag_df.merge(alice_df.T, left_index=True, right_index=True, how=\"left\")"
   ],
   "metadata": {
    "collapsed": false,
    "pycharm": {
     "name": "#%%\n"
    }
   }
  },
  {
   "cell_type": "code",
   "execution_count": 69,
   "outputs": [
    {
     "data": {
      "text/plain": "      year     ag_pct  Alice in Wonderland\nam    1981  54.739136                  NaN\naz  1959.0  52.220000                  NaN\nde    1991   1.101526                  NaN\nel    1995   7.375806             1.068903\nen    1997   1.336912             1.016049\nes    1970  12.121357                  NaN\nfa    1960  25.900602                  NaN\nhy    2012  17.912682                  NaN\nit    1990   3.182369                  NaN\nka    1980  23.008850                  NaN\nkk  1959.0  56.250000                  NaN\nmn    1981  16.742788                  NaN\nru    1989  15.602094             1.039452\nvi    1985  40.170938             1.136765\nzh    1960  23.175294             1.131740",
      "text/html": "<div>\n<style scoped>\n    .dataframe tbody tr th:only-of-type {\n        vertical-align: middle;\n    }\n\n    .dataframe tbody tr th {\n        vertical-align: top;\n    }\n\n    .dataframe thead th {\n        text-align: right;\n    }\n</style>\n<table border=\"1\" class=\"dataframe\">\n  <thead>\n    <tr style=\"text-align: right;\">\n      <th></th>\n      <th>year</th>\n      <th>ag_pct</th>\n      <th>Alice in Wonderland</th>\n    </tr>\n  </thead>\n  <tbody>\n    <tr>\n      <th>am</th>\n      <td>1981</td>\n      <td>54.739136</td>\n      <td>NaN</td>\n    </tr>\n    <tr>\n      <th>az</th>\n      <td>1959.0</td>\n      <td>52.220000</td>\n      <td>NaN</td>\n    </tr>\n    <tr>\n      <th>de</th>\n      <td>1991</td>\n      <td>1.101526</td>\n      <td>NaN</td>\n    </tr>\n    <tr>\n      <th>el</th>\n      <td>1995</td>\n      <td>7.375806</td>\n      <td>1.068903</td>\n    </tr>\n    <tr>\n      <th>en</th>\n      <td>1997</td>\n      <td>1.336912</td>\n      <td>1.016049</td>\n    </tr>\n    <tr>\n      <th>es</th>\n      <td>1970</td>\n      <td>12.121357</td>\n      <td>NaN</td>\n    </tr>\n    <tr>\n      <th>fa</th>\n      <td>1960</td>\n      <td>25.900602</td>\n      <td>NaN</td>\n    </tr>\n    <tr>\n      <th>hy</th>\n      <td>2012</td>\n      <td>17.912682</td>\n      <td>NaN</td>\n    </tr>\n    <tr>\n      <th>it</th>\n      <td>1990</td>\n      <td>3.182369</td>\n      <td>NaN</td>\n    </tr>\n    <tr>\n      <th>ka</th>\n      <td>1980</td>\n      <td>23.008850</td>\n      <td>NaN</td>\n    </tr>\n    <tr>\n      <th>kk</th>\n      <td>1959.0</td>\n      <td>56.250000</td>\n      <td>NaN</td>\n    </tr>\n    <tr>\n      <th>mn</th>\n      <td>1981</td>\n      <td>16.742788</td>\n      <td>NaN</td>\n    </tr>\n    <tr>\n      <th>ru</th>\n      <td>1989</td>\n      <td>15.602094</td>\n      <td>1.039452</td>\n    </tr>\n    <tr>\n      <th>vi</th>\n      <td>1985</td>\n      <td>40.170938</td>\n      <td>1.136765</td>\n    </tr>\n    <tr>\n      <th>zh</th>\n      <td>1960</td>\n      <td>23.175294</td>\n      <td>1.131740</td>\n    </tr>\n  </tbody>\n</table>\n</div>"
     },
     "execution_count": 69,
     "metadata": {},
     "output_type": "execute_result"
    }
   ],
   "source": [
    "merged_alice_df"
   ],
   "metadata": {
    "collapsed": false,
    "pycharm": {
     "name": "#%%\n"
    }
   }
  },
  {
   "cell_type": "code",
   "execution_count": 70,
   "outputs": [],
   "source": [
    "merged_alice_df.reset_index(inplace=True)\n",
    "merged_alice_df.rename(columns={'index':'lang'}, inplace=True)"
   ],
   "metadata": {
    "collapsed": false,
    "pycharm": {
     "name": "#%%\n"
    }
   }
  },
  {
   "cell_type": "code",
   "execution_count": 72,
   "outputs": [
    {
     "name": "stderr",
     "output_type": "stream",
     "text": [
      "posx and posy should be finite values\n",
      "posx and posy should be finite values\n",
      "posx and posy should be finite values\n",
      "posx and posy should be finite values\n",
      "posx and posy should be finite values\n",
      "posx and posy should be finite values\n",
      "posx and posy should be finite values\n",
      "posx and posy should be finite values\n",
      "posx and posy should be finite values\n",
      "posx and posy should be finite values\n",
      "posx and posy should be finite values\n",
      "posx and posy should be finite values\n",
      "posx and posy should be finite values\n",
      "posx and posy should be finite values\n",
      "posx and posy should be finite values\n",
      "posx and posy should be finite values\n",
      "posx and posy should be finite values\n",
      "posx and posy should be finite values\n",
      "posx and posy should be finite values\n",
      "posx and posy should be finite values\n"
     ]
    },
    {
     "data": {
      "text/plain": "<Figure size 792x288 with 1 Axes>",
      "image/png": "[encoded data removed]"
     },
     "metadata": {},
     "output_type": "display_data"
    }
   ],
   "source": [
    "alice_plot = sns.regplot(data=merged_alice_df, x='ag_pct', y='Alice in Wonderland')\n",
    "def label_point(x, y, val, ax):\n",
    "    a = pd.concat({'x': x, 'y': y, 'val': val}, axis=1)\n",
    "    for i, point in a.iterrows():\n",
    "        ax.text(point['x']+.02, point['y'], str(point['val']))\n",
    "\n",
    "label_point(merged_alice_df['ag_pct'], merged_alice_df['Alice in Wonderland'], merged_alice_df['lang'], plt.gca())\n",
    "plt.tight_layout()"
   ],
   "metadata": {
    "collapsed": false,
    "pycharm": {
     "name": "#%%\n"
    }
   }
  },
  {
   "cell_type": "code",
   "execution_count": null,
   "outputs": [],
   "source": [],
   "metadata": {
    "collapsed": false,
    "pycharm": {
     "name": "#%%\n"
    }
   }
  }
 ],
 "metadata": {
  "kernelspec": {
   "display_name": "Python 3",
   "language": "python",
   "name": "python3"
  },
  "language_info": {
   "codemirror_mode": {
    "name": "ipython",
    "version": 2
   },
   "file_extension": ".py",
   "mimetype": "text/x-python",
   "name": "python",
   "nbconvert_exporter": "python",
   "pygments_lexer": "ipython2",
   "version": "2.7.6"
  }
 },
 "nbformat": 4,
 "nbformat_minor": 0
}