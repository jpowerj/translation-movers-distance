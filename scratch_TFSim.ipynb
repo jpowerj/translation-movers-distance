{
 "cells": [
  {
   "cell_type": "markdown",
   "metadata": {
    "collapsed": true,
    "pycharm": {
     "name": "#%% md\n"
    }
   },
   "source": [
    "### Cross-lingual sentence similarity using TensorFlow\n",
    "\n",
    "Based on https://colab.research.google.com/github/tensorflow/hub/blob/master/examples/colab/cross_lingual_similarity_with_tf_hub_multilingual_universal_encoder.ipynb#scrollTo=MSeY-MUQo2Ha"
   ]
  },
  {
   "cell_type": "code",
   "execution_count": 2,
   "outputs": [],
   "source": [
    "%load_ext autoreload\n",
    "%autoreload 2"
   ],
   "metadata": {
    "collapsed": false,
    "pycharm": {
     "name": "#%%\n"
    }
   }
  },
  {
   "cell_type": "code",
   "execution_count": null,
   "outputs": [],
   "source": [
    "%%capture\n",
    "#@title Setup Environment\n",
    "# Install the latest Tensorflow version.\n",
    "#!pip install \"tensorflow-text==2.8.*\"\n",
    "#!pip install bokeh\n",
    "#!pip install simpleneighbors[annoy]\n",
    "#!pip install tqdm"
   ],
   "metadata": {
    "collapsed": false,
    "pycharm": {
     "name": "#%%\n"
    }
   }
  },
  {
   "cell_type": "code",
   "execution_count": 5,
   "outputs": [],
   "source": [
    "#@title Setup common imports and functions\n",
    "import bokeh\n",
    "import bokeh.models\n",
    "import bokeh.plotting\n",
    "import numpy as np\n",
    "import os\n",
    "import pandas as pd\n",
    "import tensorflow.compat.v2 as tf\n",
    "import tensorflow_hub as hub\n",
    "from tensorflow_text import SentencepieceTokenizer\n",
    "import sklearn.metrics.pairwise\n",
    "\n",
    "#from simpleneighbors import SimpleNeighbors\n",
    "from tqdm import tqdm\n",
    "from tqdm import trange\n",
    "\n",
    "def visualize_similarity(embeddings_1, embeddings_2, labels_1, labels_2,\n",
    "                         plot_title,\n",
    "                         plot_width=1200, plot_height=600,\n",
    "                         xaxis_font_size='12pt', yaxis_font_size='12pt'):\n",
    "\n",
    "    assert len(embeddings_1) == len(labels_1)\n",
    "    assert len(embeddings_2) == len(labels_2)\n",
    "\n",
    "    # arccos based text similarity (Yang et al. 2019; Cer et al. 2019)\n",
    "    sim = 1 - np.arccos(\n",
    "        sklearn.metrics.pairwise.cosine_similarity(embeddings_1,\n",
    "                                                   embeddings_2))/np.pi\n",
    "\n",
    "    embeddings_1_col, embeddings_2_col, sim_col = [], [], []\n",
    "    for i in range(len(embeddings_1)):\n",
    "        for j in range(len(embeddings_2)):\n",
    "            embeddings_1_col.append(labels_1[i])\n",
    "            embeddings_2_col.append(labels_2[j])\n",
    "            sim_col.append(sim[i][j])\n",
    "    df = pd.DataFrame(zip(embeddings_1_col, embeddings_2_col, sim_col),\n",
    "                      columns=['embeddings_1', 'embeddings_2', 'sim'])\n",
    "\n",
    "    mapper = bokeh.models.LinearColorMapper(\n",
    "        palette=[*reversed(bokeh.palettes.YlOrRd[9])], low=df.sim.min(),\n",
    "        high=df.sim.max())\n",
    "\n",
    "    p = bokeh.plotting.figure(title=plot_title, x_range=labels_1,\n",
    "                              x_axis_location=\"above\",\n",
    "                              y_range=[*reversed(labels_2)],\n",
    "                              plot_width=plot_width, plot_height=plot_height,\n",
    "                              tools=\"save\",toolbar_location='below', tooltips=[\n",
    "            ('pair', '@embeddings_1 ||| @embeddings_2'),\n",
    "            ('sim', '@sim')])\n",
    "    p.rect(x=\"embeddings_1\", y=\"embeddings_2\", width=1, height=1, source=df,\n",
    "           fill_color={'field': 'sim', 'transform': mapper}, line_color=None)\n",
    "\n",
    "    p.title.text_font_size = '12pt'\n",
    "    p.axis.axis_line_color = None\n",
    "    p.axis.major_tick_line_color = None\n",
    "    p.axis.major_label_standoff = 16\n",
    "    p.xaxis.major_label_text_font_size = xaxis_font_size\n",
    "    p.xaxis.major_label_orientation = 0.25 * np.pi\n",
    "    p.yaxis.major_label_text_font_size = yaxis_font_size\n",
    "    p.min_border_right = 300\n",
    "\n",
    "    bokeh.io.output_notebook()\n",
    "    bokeh.io.show(p)"
   ],
   "metadata": {
    "collapsed": false,
    "pycharm": {
     "name": "#%%\n"
    }
   }
  },
  {
   "cell_type": "code",
   "execution_count": 67,
   "outputs": [],
   "source": [
    "tqdm.pandas()"
   ],
   "metadata": {
    "collapsed": false,
    "pycharm": {
     "name": "#%%\n"
    }
   }
  },
  {
   "cell_type": "code",
   "execution_count": 71,
   "outputs": [],
   "source": [
    "# The 16-language multilingual module is the default but feel free\n",
    "# to pick others from the list and compare the results.\n",
    "#module_url = 'https://tfhub.dev/google/universal-sentence-encoder-multilingual/3'\n",
    "#@param ['https://tfhub.dev/google/universal-sentence-encoder-multilingual/3', 'https://tfhub.dev/google/universal-sentence-encoder-multilingual-large/3']\n",
    "\n",
    "module_url = \"https://tfhub.dev/google/LaBSE/2\"\n",
    "\n",
    "model = hub.load(module_url)\n",
    "\n",
    "def embed_text(input):\n",
    "    return model(input)"
   ],
   "metadata": {
    "collapsed": false,
    "pycharm": {
     "name": "#%%\n"
    }
   }
  },
  {
   "cell_type": "code",
   "execution_count": 75,
   "outputs": [
    {
     "ename": "ValueError",
     "evalue": "Could not find matching concrete function to call loaded from the SavedModel. Got:\n  Positional arguments (3 total):\n    * Testing 123\n    * False\n    * None\n  Keyword arguments: {}\n\n Expected these arguments to match one of the following 4 option(s):\n\nOption 1:\n  Positional arguments (3 total):\n    * {'input_type_ids': TensorSpec(shape=(None, None), dtype=tf.int32, name='input_type_ids'), 'input_mask': TensorSpec(shape=(None, None), dtype=tf.int32, name='input_mask'), 'input_word_ids': TensorSpec(shape=(None, None), dtype=tf.int32, name='input_word_ids')}\n    * True\n    * None\n  Keyword arguments: {}\n\nOption 2:\n  Positional arguments (3 total):\n    * {'input_type_ids': TensorSpec(shape=(None, None), dtype=tf.int32, name='input_type_ids'), 'input_mask': TensorSpec(shape=(None, None), dtype=tf.int32, name='input_mask'), 'input_word_ids': TensorSpec(shape=(None, None), dtype=tf.int32, name='input_word_ids')}\n    * False\n    * None\n  Keyword arguments: {}\n\nOption 3:\n  Positional arguments (3 total):\n    * {'input_type_ids': TensorSpec(shape=(None, None), dtype=tf.int32, name='inputs/input_type_ids'), 'input_word_ids': TensorSpec(shape=(None, None), dtype=tf.int32, name='inputs/input_word_ids'), 'input_mask': TensorSpec(shape=(None, None), dtype=tf.int32, name='inputs/input_mask')}\n    * True\n    * None\n  Keyword arguments: {}\n\nOption 4:\n  Positional arguments (3 total):\n    * {'input_type_ids': TensorSpec(shape=(None, None), dtype=tf.int32, name='inputs/input_type_ids'), 'input_word_ids': TensorSpec(shape=(None, None), dtype=tf.int32, name='inputs/input_word_ids'), 'input_mask': TensorSpec(shape=(None, None), dtype=tf.int32, name='inputs/input_mask')}\n    * False\n    * None\n  Keyword arguments: {}",
     "output_type": "error",
     "traceback": [
      "\u001B[1;31m---------------------------------------------------------------------------\u001B[0m",
      "\u001B[1;31mValueError\u001B[0m                                Traceback (most recent call last)",
      "Input \u001B[1;32mIn [75]\u001B[0m, in \u001B[0;36m<cell line: 1>\u001B[1;34m()\u001B[0m\n\u001B[1;32m----> 1\u001B[0m \u001B[43mmodel\u001B[49m\u001B[43m(\u001B[49m\u001B[38;5;124;43m\"\u001B[39;49m\u001B[38;5;124;43mTesting 123\u001B[39;49m\u001B[38;5;124;43m\"\u001B[39;49m\u001B[43m)\u001B[49m\n",
      "File \u001B[1;32mC:\\Python310\\lib\\site-packages\\tensorflow\\python\\saved_model\\load.py:744\u001B[0m, in \u001B[0;36m_call_attribute\u001B[1;34m(instance, *args, **kwargs)\u001B[0m\n\u001B[0;32m    743\u001B[0m \u001B[38;5;28;01mdef\u001B[39;00m \u001B[38;5;21m_call_attribute\u001B[39m(instance, \u001B[38;5;241m*\u001B[39margs, \u001B[38;5;241m*\u001B[39m\u001B[38;5;241m*\u001B[39mkwargs):\n\u001B[1;32m--> 744\u001B[0m   \u001B[38;5;28;01mreturn\u001B[39;00m instance\u001B[38;5;241m.\u001B[39m\u001B[38;5;21m__call__\u001B[39m(\u001B[38;5;241m*\u001B[39margs, \u001B[38;5;241m*\u001B[39m\u001B[38;5;241m*\u001B[39mkwargs)\n",
      "File \u001B[1;32mC:\\Python310\\lib\\site-packages\\tensorflow\\python\\util\\traceback_utils.py:153\u001B[0m, in \u001B[0;36mfilter_traceback.<locals>.error_handler\u001B[1;34m(*args, **kwargs)\u001B[0m\n\u001B[0;32m    151\u001B[0m \u001B[38;5;28;01mexcept\u001B[39;00m \u001B[38;5;167;01mException\u001B[39;00m \u001B[38;5;28;01mas\u001B[39;00m e:\n\u001B[0;32m    152\u001B[0m   filtered_tb \u001B[38;5;241m=\u001B[39m _process_traceback_frames(e\u001B[38;5;241m.\u001B[39m__traceback__)\n\u001B[1;32m--> 153\u001B[0m   \u001B[38;5;28;01mraise\u001B[39;00m e\u001B[38;5;241m.\u001B[39mwith_traceback(filtered_tb) \u001B[38;5;28;01mfrom\u001B[39;00m \u001B[38;5;28mNone\u001B[39m\n\u001B[0;32m    154\u001B[0m \u001B[38;5;28;01mfinally\u001B[39;00m:\n\u001B[0;32m    155\u001B[0m   \u001B[38;5;28;01mdel\u001B[39;00m filtered_tb\n",
      "File \u001B[1;32mC:\\Python310\\lib\\site-packages\\tensorflow\\python\\saved_model\\function_deserialization.py:283\u001B[0m, in \u001B[0;36mrecreate_function.<locals>.restored_function_body\u001B[1;34m(*args, **kwargs)\u001B[0m\n\u001B[0;32m    279\u001B[0m   positional, keyword \u001B[38;5;241m=\u001B[39m concrete_function\u001B[38;5;241m.\u001B[39mstructured_input_signature\n\u001B[0;32m    280\u001B[0m   signature_descriptions\u001B[38;5;241m.\u001B[39mappend(\n\u001B[0;32m    281\u001B[0m       \u001B[38;5;124m\"\u001B[39m\u001B[38;5;124mOption \u001B[39m\u001B[38;5;132;01m{}\u001B[39;00m\u001B[38;5;124m:\u001B[39m\u001B[38;5;130;01m\\n\u001B[39;00m\u001B[38;5;124m  \u001B[39m\u001B[38;5;132;01m{}\u001B[39;00m\u001B[38;5;130;01m\\n\u001B[39;00m\u001B[38;5;124m  Keyword arguments: \u001B[39m\u001B[38;5;132;01m{}\u001B[39;00m\u001B[38;5;124m\"\u001B[39m\n\u001B[0;32m    282\u001B[0m       \u001B[38;5;241m.\u001B[39mformat(index \u001B[38;5;241m+\u001B[39m \u001B[38;5;241m1\u001B[39m, _pretty_format_positional(positional), keyword))\n\u001B[1;32m--> 283\u001B[0m \u001B[38;5;28;01mraise\u001B[39;00m \u001B[38;5;167;01mValueError\u001B[39;00m(\n\u001B[0;32m    284\u001B[0m     \u001B[38;5;124m\"\u001B[39m\u001B[38;5;124mCould not find matching concrete function to call loaded from the \u001B[39m\u001B[38;5;124m\"\u001B[39m\n\u001B[0;32m    285\u001B[0m     \u001B[38;5;124mf\u001B[39m\u001B[38;5;124m\"\u001B[39m\u001B[38;5;124mSavedModel. Got:\u001B[39m\u001B[38;5;130;01m\\n\u001B[39;00m\u001B[38;5;124m  \u001B[39m\u001B[38;5;132;01m{\u001B[39;00m_pretty_format_positional(args)\u001B[38;5;132;01m}\u001B[39;00m\u001B[38;5;130;01m\\n\u001B[39;00m\u001B[38;5;124m  Keyword \u001B[39m\u001B[38;5;124m\"\u001B[39m\n\u001B[0;32m    286\u001B[0m     \u001B[38;5;124mf\u001B[39m\u001B[38;5;124m\"\u001B[39m\u001B[38;5;124marguments: \u001B[39m\u001B[38;5;132;01m{\u001B[39;00mkwargs\u001B[38;5;132;01m}\u001B[39;00m\u001B[38;5;130;01m\\n\u001B[39;00m\u001B[38;5;130;01m\\n\u001B[39;00m\u001B[38;5;124m Expected these arguments to match one of the \u001B[39m\u001B[38;5;124m\"\u001B[39m\n\u001B[0;32m    287\u001B[0m     \u001B[38;5;124mf\u001B[39m\u001B[38;5;124m\"\u001B[39m\u001B[38;5;124mfollowing \u001B[39m\u001B[38;5;132;01m{\u001B[39;00m\u001B[38;5;28mlen\u001B[39m(saved_function\u001B[38;5;241m.\u001B[39mconcrete_functions)\u001B[38;5;132;01m}\u001B[39;00m\u001B[38;5;124m option(s):\u001B[39m\u001B[38;5;130;01m\\n\u001B[39;00m\u001B[38;5;130;01m\\n\u001B[39;00m\u001B[38;5;124m\"\u001B[39m\n\u001B[0;32m    288\u001B[0m     \u001B[38;5;124mf\u001B[39m\u001B[38;5;124m\"\u001B[39m\u001B[38;5;132;01m{\u001B[39;00m(\u001B[38;5;28mchr\u001B[39m(\u001B[38;5;241m10\u001B[39m)\u001B[38;5;241m+\u001B[39m\u001B[38;5;28mchr\u001B[39m(\u001B[38;5;241m10\u001B[39m))\u001B[38;5;241m.\u001B[39mjoin(signature_descriptions)\u001B[38;5;132;01m}\u001B[39;00m\u001B[38;5;124m\"\u001B[39m)\n",
      "\u001B[1;31mValueError\u001B[0m: Could not find matching concrete function to call loaded from the SavedModel. Got:\n  Positional arguments (3 total):\n    * Testing 123\n    * False\n    * None\n  Keyword arguments: {}\n\n Expected these arguments to match one of the following 4 option(s):\n\nOption 1:\n  Positional arguments (3 total):\n    * {'input_type_ids': TensorSpec(shape=(None, None), dtype=tf.int32, name='input_type_ids'), 'input_mask': TensorSpec(shape=(None, None), dtype=tf.int32, name='input_mask'), 'input_word_ids': TensorSpec(shape=(None, None), dtype=tf.int32, name='input_word_ids')}\n    * True\n    * None\n  Keyword arguments: {}\n\nOption 2:\n  Positional arguments (3 total):\n    * {'input_type_ids': TensorSpec(shape=(None, None), dtype=tf.int32, name='input_type_ids'), 'input_mask': TensorSpec(shape=(None, None), dtype=tf.int32, name='input_mask'), 'input_word_ids': TensorSpec(shape=(None, None), dtype=tf.int32, name='input_word_ids')}\n    * False\n    * None\n  Keyword arguments: {}\n\nOption 3:\n  Positional arguments (3 total):\n    * {'input_type_ids': TensorSpec(shape=(None, None), dtype=tf.int32, name='inputs/input_type_ids'), 'input_word_ids': TensorSpec(shape=(None, None), dtype=tf.int32, name='inputs/input_word_ids'), 'input_mask': TensorSpec(shape=(None, None), dtype=tf.int32, name='inputs/input_mask')}\n    * True\n    * None\n  Keyword arguments: {}\n\nOption 4:\n  Positional arguments (3 total):\n    * {'input_type_ids': TensorSpec(shape=(None, None), dtype=tf.int32, name='inputs/input_type_ids'), 'input_word_ids': TensorSpec(shape=(None, None), dtype=tf.int32, name='inputs/input_word_ids'), 'input_mask': TensorSpec(shape=(None, None), dtype=tf.int32, name='inputs/input_mask')}\n    * False\n    * None\n  Keyword arguments: {}"
     ]
    }
   ],
   "source": [
    "model(\"Testing 123\")"
   ],
   "metadata": {
    "collapsed": false,
    "pycharm": {
     "name": "#%%\n"
    }
   }
  },
  {
   "cell_type": "code",
   "execution_count": 72,
   "outputs": [],
   "source": [
    "# Some texts of different lengths in different languages.\n",
    "arabic_sentences = ['كلب', 'الجراء لطيفة.', 'أستمتع بالمشي لمسافات طويلة على طول الشاطئ مع كلبي.']\n",
    "chinese_sentences = ['狗', '小狗很好。', '我喜欢和我的狗一起沿着海滩散步。']\n",
    "english_sentences = ['dog', 'Puppies are nice.', 'I enjoy taking long walks along the beach with my dog.']\n",
    "french_sentences = ['chien', 'Les chiots sont gentils.', 'J\\'aime faire de longues promenades sur la plage avec mon chien.']\n",
    "german_sentences = ['Hund', 'Welpen sind nett.', 'Ich genieße lange Spaziergänge am Strand entlang mit meinem Hund.']\n",
    "italian_sentences = ['cane', 'I cuccioli sono carini.', 'Mi piace fare lunghe passeggiate lungo la spiaggia con il mio cane.']\n",
    "japanese_sentences = ['犬', '子犬はいいです', '私は犬と一緒にビーチを散歩するのが好きです']\n",
    "korean_sentences = ['개', '강아지가 좋다.', '나는 나의 개와 해변을 따라 길게 산책하는 것을 즐긴다.']\n",
    "russian_sentences = ['собака', 'Милые щенки.', 'Мне нравится подолгу гулять по пляжу со своей собакой.']\n",
    "spanish_sentences = ['perro', 'Los cachorros son agradables.', 'Disfruto de dar largos paseos por la playa con mi perro.']\n",
    "\n",
    "# Multilingual example\n",
    "multilingual_example = [\"Willkommen zu einfachen, aber\", \"verrassend krachtige\", \"multilingüe\", \"compréhension du langage naturel\", \"модели.\", \"大家是什么意思\" , \"보다 중요한\", \".اللغة التي يتحدثونها\"]\n",
    "multilingual_example_in_en =  [\"Welcome to simple yet\", \"surprisingly powerful\", \"multilingual\", \"natural language understanding\", \"models.\", \"What people mean\", \"matters more than\", \"the language they speak.\"]"
   ],
   "metadata": {
    "collapsed": false,
    "pycharm": {
     "name": "#%%\n"
    }
   }
  },
  {
   "cell_type": "code",
   "execution_count": 73,
   "outputs": [
    {
     "ename": "ValueError",
     "evalue": "Could not find matching concrete function to call loaded from the SavedModel. Got:\n  Positional arguments (3 total):\n    * ['كلب', 'الجراء لطيفة.', 'أستمتع بالمشي لمسافات طويلة على طول الشاطئ مع كلبي.']\n    * False\n    * None\n  Keyword arguments: {}\n\n Expected these arguments to match one of the following 4 option(s):\n\nOption 1:\n  Positional arguments (3 total):\n    * {'input_type_ids': TensorSpec(shape=(None, None), dtype=tf.int32, name='input_type_ids'), 'input_mask': TensorSpec(shape=(None, None), dtype=tf.int32, name='input_mask'), 'input_word_ids': TensorSpec(shape=(None, None), dtype=tf.int32, name='input_word_ids')}\n    * True\n    * None\n  Keyword arguments: {}\n\nOption 2:\n  Positional arguments (3 total):\n    * {'input_type_ids': TensorSpec(shape=(None, None), dtype=tf.int32, name='input_type_ids'), 'input_mask': TensorSpec(shape=(None, None), dtype=tf.int32, name='input_mask'), 'input_word_ids': TensorSpec(shape=(None, None), dtype=tf.int32, name='input_word_ids')}\n    * False\n    * None\n  Keyword arguments: {}\n\nOption 3:\n  Positional arguments (3 total):\n    * {'input_type_ids': TensorSpec(shape=(None, None), dtype=tf.int32, name='inputs/input_type_ids'), 'input_word_ids': TensorSpec(shape=(None, None), dtype=tf.int32, name='inputs/input_word_ids'), 'input_mask': TensorSpec(shape=(None, None), dtype=tf.int32, name='inputs/input_mask')}\n    * True\n    * None\n  Keyword arguments: {}\n\nOption 4:\n  Positional arguments (3 total):\n    * {'input_type_ids': TensorSpec(shape=(None, None), dtype=tf.int32, name='inputs/input_type_ids'), 'input_word_ids': TensorSpec(shape=(None, None), dtype=tf.int32, name='inputs/input_word_ids'), 'input_mask': TensorSpec(shape=(None, None), dtype=tf.int32, name='inputs/input_mask')}\n    * False\n    * None\n  Keyword arguments: {}",
     "output_type": "error",
     "traceback": [
      "\u001B[1;31m---------------------------------------------------------------------------\u001B[0m",
      "\u001B[1;31mValueError\u001B[0m                                Traceback (most recent call last)",
      "Input \u001B[1;32mIn [73]\u001B[0m, in \u001B[0;36m<cell line: 2>\u001B[1;34m()\u001B[0m\n\u001B[0;32m      1\u001B[0m \u001B[38;5;66;03m# Compute embeddings.\u001B[39;00m\n\u001B[1;32m----> 2\u001B[0m ar_result \u001B[38;5;241m=\u001B[39m \u001B[43membed_text\u001B[49m\u001B[43m(\u001B[49m\u001B[43marabic_sentences\u001B[49m\u001B[43m)\u001B[49m\n\u001B[0;32m      3\u001B[0m en_result \u001B[38;5;241m=\u001B[39m embed_text(english_sentences)\n\u001B[0;32m      4\u001B[0m es_result \u001B[38;5;241m=\u001B[39m embed_text(spanish_sentences)\n",
      "Input \u001B[1;32mIn [71]\u001B[0m, in \u001B[0;36membed_text\u001B[1;34m(input)\u001B[0m\n\u001B[0;32m     10\u001B[0m \u001B[38;5;28;01mdef\u001B[39;00m \u001B[38;5;21membed_text\u001B[39m(\u001B[38;5;28minput\u001B[39m):\n\u001B[1;32m---> 11\u001B[0m     \u001B[38;5;28;01mreturn\u001B[39;00m \u001B[43mmodel\u001B[49m\u001B[43m(\u001B[49m\u001B[38;5;28;43minput\u001B[39;49m\u001B[43m)\u001B[49m\n",
      "File \u001B[1;32mC:\\Python310\\lib\\site-packages\\tensorflow\\python\\saved_model\\load.py:744\u001B[0m, in \u001B[0;36m_call_attribute\u001B[1;34m(instance, *args, **kwargs)\u001B[0m\n\u001B[0;32m    743\u001B[0m \u001B[38;5;28;01mdef\u001B[39;00m \u001B[38;5;21m_call_attribute\u001B[39m(instance, \u001B[38;5;241m*\u001B[39margs, \u001B[38;5;241m*\u001B[39m\u001B[38;5;241m*\u001B[39mkwargs):\n\u001B[1;32m--> 744\u001B[0m   \u001B[38;5;28;01mreturn\u001B[39;00m instance\u001B[38;5;241m.\u001B[39m\u001B[38;5;21m__call__\u001B[39m(\u001B[38;5;241m*\u001B[39margs, \u001B[38;5;241m*\u001B[39m\u001B[38;5;241m*\u001B[39mkwargs)\n",
      "File \u001B[1;32mC:\\Python310\\lib\\site-packages\\tensorflow\\python\\util\\traceback_utils.py:153\u001B[0m, in \u001B[0;36mfilter_traceback.<locals>.error_handler\u001B[1;34m(*args, **kwargs)\u001B[0m\n\u001B[0;32m    151\u001B[0m \u001B[38;5;28;01mexcept\u001B[39;00m \u001B[38;5;167;01mException\u001B[39;00m \u001B[38;5;28;01mas\u001B[39;00m e:\n\u001B[0;32m    152\u001B[0m   filtered_tb \u001B[38;5;241m=\u001B[39m _process_traceback_frames(e\u001B[38;5;241m.\u001B[39m__traceback__)\n\u001B[1;32m--> 153\u001B[0m   \u001B[38;5;28;01mraise\u001B[39;00m e\u001B[38;5;241m.\u001B[39mwith_traceback(filtered_tb) \u001B[38;5;28;01mfrom\u001B[39;00m \u001B[38;5;28mNone\u001B[39m\n\u001B[0;32m    154\u001B[0m \u001B[38;5;28;01mfinally\u001B[39;00m:\n\u001B[0;32m    155\u001B[0m   \u001B[38;5;28;01mdel\u001B[39;00m filtered_tb\n",
      "File \u001B[1;32mC:\\Python310\\lib\\site-packages\\tensorflow\\python\\saved_model\\function_deserialization.py:283\u001B[0m, in \u001B[0;36mrecreate_function.<locals>.restored_function_body\u001B[1;34m(*args, **kwargs)\u001B[0m\n\u001B[0;32m    279\u001B[0m   positional, keyword \u001B[38;5;241m=\u001B[39m concrete_function\u001B[38;5;241m.\u001B[39mstructured_input_signature\n\u001B[0;32m    280\u001B[0m   signature_descriptions\u001B[38;5;241m.\u001B[39mappend(\n\u001B[0;32m    281\u001B[0m       \u001B[38;5;124m\"\u001B[39m\u001B[38;5;124mOption \u001B[39m\u001B[38;5;132;01m{}\u001B[39;00m\u001B[38;5;124m:\u001B[39m\u001B[38;5;130;01m\\n\u001B[39;00m\u001B[38;5;124m  \u001B[39m\u001B[38;5;132;01m{}\u001B[39;00m\u001B[38;5;130;01m\\n\u001B[39;00m\u001B[38;5;124m  Keyword arguments: \u001B[39m\u001B[38;5;132;01m{}\u001B[39;00m\u001B[38;5;124m\"\u001B[39m\n\u001B[0;32m    282\u001B[0m       \u001B[38;5;241m.\u001B[39mformat(index \u001B[38;5;241m+\u001B[39m \u001B[38;5;241m1\u001B[39m, _pretty_format_positional(positional), keyword))\n\u001B[1;32m--> 283\u001B[0m \u001B[38;5;28;01mraise\u001B[39;00m \u001B[38;5;167;01mValueError\u001B[39;00m(\n\u001B[0;32m    284\u001B[0m     \u001B[38;5;124m\"\u001B[39m\u001B[38;5;124mCould not find matching concrete function to call loaded from the \u001B[39m\u001B[38;5;124m\"\u001B[39m\n\u001B[0;32m    285\u001B[0m     \u001B[38;5;124mf\u001B[39m\u001B[38;5;124m\"\u001B[39m\u001B[38;5;124mSavedModel. Got:\u001B[39m\u001B[38;5;130;01m\\n\u001B[39;00m\u001B[38;5;124m  \u001B[39m\u001B[38;5;132;01m{\u001B[39;00m_pretty_format_positional(args)\u001B[38;5;132;01m}\u001B[39;00m\u001B[38;5;130;01m\\n\u001B[39;00m\u001B[38;5;124m  Keyword \u001B[39m\u001B[38;5;124m\"\u001B[39m\n\u001B[0;32m    286\u001B[0m     \u001B[38;5;124mf\u001B[39m\u001B[38;5;124m\"\u001B[39m\u001B[38;5;124marguments: \u001B[39m\u001B[38;5;132;01m{\u001B[39;00mkwargs\u001B[38;5;132;01m}\u001B[39;00m\u001B[38;5;130;01m\\n\u001B[39;00m\u001B[38;5;130;01m\\n\u001B[39;00m\u001B[38;5;124m Expected these arguments to match one of the \u001B[39m\u001B[38;5;124m\"\u001B[39m\n\u001B[0;32m    287\u001B[0m     \u001B[38;5;124mf\u001B[39m\u001B[38;5;124m\"\u001B[39m\u001B[38;5;124mfollowing \u001B[39m\u001B[38;5;132;01m{\u001B[39;00m\u001B[38;5;28mlen\u001B[39m(saved_function\u001B[38;5;241m.\u001B[39mconcrete_functions)\u001B[38;5;132;01m}\u001B[39;00m\u001B[38;5;124m option(s):\u001B[39m\u001B[38;5;130;01m\\n\u001B[39;00m\u001B[38;5;130;01m\\n\u001B[39;00m\u001B[38;5;124m\"\u001B[39m\n\u001B[0;32m    288\u001B[0m     \u001B[38;5;124mf\u001B[39m\u001B[38;5;124m\"\u001B[39m\u001B[38;5;132;01m{\u001B[39;00m(\u001B[38;5;28mchr\u001B[39m(\u001B[38;5;241m10\u001B[39m)\u001B[38;5;241m+\u001B[39m\u001B[38;5;28mchr\u001B[39m(\u001B[38;5;241m10\u001B[39m))\u001B[38;5;241m.\u001B[39mjoin(signature_descriptions)\u001B[38;5;132;01m}\u001B[39;00m\u001B[38;5;124m\"\u001B[39m)\n",
      "\u001B[1;31mValueError\u001B[0m: Could not find matching concrete function to call loaded from the SavedModel. Got:\n  Positional arguments (3 total):\n    * ['كلب', 'الجراء لطيفة.', 'أستمتع بالمشي لمسافات طويلة على طول الشاطئ مع كلبي.']\n    * False\n    * None\n  Keyword arguments: {}\n\n Expected these arguments to match one of the following 4 option(s):\n\nOption 1:\n  Positional arguments (3 total):\n    * {'input_type_ids': TensorSpec(shape=(None, None), dtype=tf.int32, name='input_type_ids'), 'input_mask': TensorSpec(shape=(None, None), dtype=tf.int32, name='input_mask'), 'input_word_ids': TensorSpec(shape=(None, None), dtype=tf.int32, name='input_word_ids')}\n    * True\n    * None\n  Keyword arguments: {}\n\nOption 2:\n  Positional arguments (3 total):\n    * {'input_type_ids': TensorSpec(shape=(None, None), dtype=tf.int32, name='input_type_ids'), 'input_mask': TensorSpec(shape=(None, None), dtype=tf.int32, name='input_mask'), 'input_word_ids': TensorSpec(shape=(None, None), dtype=tf.int32, name='input_word_ids')}\n    * False\n    * None\n  Keyword arguments: {}\n\nOption 3:\n  Positional arguments (3 total):\n    * {'input_type_ids': TensorSpec(shape=(None, None), dtype=tf.int32, name='inputs/input_type_ids'), 'input_word_ids': TensorSpec(shape=(None, None), dtype=tf.int32, name='inputs/input_word_ids'), 'input_mask': TensorSpec(shape=(None, None), dtype=tf.int32, name='inputs/input_mask')}\n    * True\n    * None\n  Keyword arguments: {}\n\nOption 4:\n  Positional arguments (3 total):\n    * {'input_type_ids': TensorSpec(shape=(None, None), dtype=tf.int32, name='inputs/input_type_ids'), 'input_word_ids': TensorSpec(shape=(None, None), dtype=tf.int32, name='inputs/input_word_ids'), 'input_mask': TensorSpec(shape=(None, None), dtype=tf.int32, name='inputs/input_mask')}\n    * False\n    * None\n  Keyword arguments: {}"
     ]
    }
   ],
   "source": [
    "# Compute embeddings.\n",
    "ar_result = embed_text(arabic_sentences)\n",
    "en_result = embed_text(english_sentences)\n",
    "es_result = embed_text(spanish_sentences)\n",
    "de_result = embed_text(german_sentences)\n",
    "fr_result = embed_text(french_sentences)\n",
    "it_result = embed_text(italian_sentences)\n",
    "ja_result = embed_text(japanese_sentences)\n",
    "ko_result = embed_text(korean_sentences)\n",
    "ru_result = embed_text(russian_sentences)\n",
    "zh_result = embed_text(chinese_sentences)\n",
    "\n",
    "multilingual_result = embed_text(multilingual_example)\n",
    "multilingual_in_en_result = embed_text(multilingual_example_in_en)"
   ],
   "metadata": {
    "collapsed": false,
    "pycharm": {
     "name": "#%%\n"
    }
   }
  },
  {
   "cell_type": "code",
   "execution_count": null,
   "outputs": [],
   "source": [
    "visualize_similarity(multilingual_in_en_result, multilingual_result,\n",
    "                     multilingual_example_in_en, multilingual_example,\n",
    "                     \"Multilingual Universal Sentence Encoder for Semantic Retrieval (Yang et al., 2019)\")"
   ],
   "metadata": {
    "collapsed": false,
    "pycharm": {
     "name": "#%%\n"
    }
   }
  },
  {
   "cell_type": "code",
   "execution_count": 23,
   "outputs": [],
   "source": [
    "#visualize_similarity(zh_result, ko_result, chinese_sentences, korean_sentences, 'Chinese-Korean Similarity')"
   ],
   "metadata": {
    "collapsed": false,
    "pycharm": {
     "name": "#%%\n"
    }
   }
  },
  {
   "cell_type": "code",
   "execution_count": 11,
   "outputs": [],
   "source": [
    "# So now try it with aligned texts"
   ],
   "metadata": {
    "collapsed": false,
    "pycharm": {
     "name": "#%%\n"
    }
   }
  },
  {
   "cell_type": "code",
   "execution_count": 12,
   "outputs": [],
   "source": [
    "aligned_path = \"../Texts_Aligned/de_tge.en_fowkes/\""
   ],
   "metadata": {
    "collapsed": false,
    "pycharm": {
     "name": "#%%\n"
    }
   }
  },
  {
   "cell_type": "code",
   "execution_count": 15,
   "outputs": [],
   "source": [
    "cur_fpath = os.path.join(aligned_path, \"ch01.align.txt\")"
   ],
   "metadata": {
    "collapsed": false,
    "pycharm": {
     "name": "#%%\n"
    }
   }
  },
  {
   "cell_type": "code",
   "execution_count": 20,
   "outputs": [],
   "source": [
    "cur_df = pd.read_csv(cur_fpath, delimiter='\\t', header=None, names=['de','en','alignment_id'])"
   ],
   "metadata": {
    "collapsed": false,
    "pycharm": {
     "name": "#%%\n"
    }
   }
  },
  {
   "cell_type": "code",
   "execution_count": 43,
   "outputs": [],
   "source": [
    "cur_df.fillna(\"\", inplace=True)"
   ],
   "metadata": {
    "collapsed": false,
    "pycharm": {
     "name": "#%%\n"
    }
   }
  },
  {
   "cell_type": "code",
   "execution_count": 45,
   "outputs": [
    {
     "data": {
      "text/plain": "de                                                    \nen                         Chapter 1: The Commodity 1.\nalignment_id    ch01_clean.de_tge-ch01_clean.en_fowkes\nName: 0, dtype: object"
     },
     "execution_count": 45,
     "metadata": {},
     "output_type": "execute_result"
    }
   ],
   "source": [
    "cur_df.iloc[0]"
   ],
   "metadata": {
    "collapsed": false,
    "pycharm": {
     "name": "#%%\n"
    }
   }
  },
  {
   "cell_type": "code",
   "execution_count": 46,
   "outputs": [],
   "source": [
    "de_result = embed_text(cur_df.iloc[2]['de'])\n",
    "en_result = embed_text(cur_df.iloc[2]['en'])"
   ],
   "metadata": {
    "collapsed": false,
    "pycharm": {
     "name": "#%%\n"
    }
   }
  },
  {
   "cell_type": "code",
   "execution_count": 36,
   "outputs": [],
   "source": [
    "def compute_sim(l1_tensor, l2_tensor):\n",
    "    # arccos based text similarity (Yang et al. 2019; Cer et al. 2019)\n",
    "    sim = 1 - np.arccos(sklearn.metrics.pairwise.cosine_similarity(l1_tensor, l2_tensor))/np.pi\n",
    "    return float(sim)"
   ],
   "metadata": {
    "collapsed": false,
    "pycharm": {
     "name": "#%%\n"
    }
   }
  },
  {
   "cell_type": "code",
   "execution_count": 48,
   "outputs": [],
   "source": [
    "compute_row_sim = lambda row: compute_sim(embed_text(row['de']), embed_text(row['en']))"
   ],
   "metadata": {
    "collapsed": false,
    "pycharm": {
     "name": "#%%\n"
    }
   }
  },
  {
   "cell_type": "code",
   "execution_count": 49,
   "outputs": [],
   "source": [
    "cur_df['sim'] = cur_df.apply(compute_row_sim, axis=1)"
   ],
   "metadata": {
    "collapsed": false,
    "pycharm": {
     "name": "#%%\n"
    }
   }
  },
  {
   "cell_type": "code",
   "execution_count": 50,
   "outputs": [
    {
     "data": {
      "text/plain": "                                                    de  \\\n0                                                        \n1    ERSTES KAPITEL Die Ware 1. Die zwei Faktoren d...   \n2    Unsere Untersuchung beginnt daher mit der Anal...   \n3    Die Ware ist zunächst ein äußerer Gegenstand, ...   \n4    Die Natur dieser Bedürfnisse, ob sie z.B. dem ...   \n..                                                 ...   \n613  Ein Mensch oder ein Gemeinwesen ist reich; ein...   \n614  Bisher hat noch kein Chemiker Tauschwert in Pe...   \n615  Die ökonomischen Entdecker dieser chemischen S...   \n616  Was sie hierin bestätigt, ist der sonderbare U...   \n617  Wer erinnert sich hier nicht des guten Dogberr...   \n\n                                                    en  \\\n0                          Chapter 1: The Commodity 1.   \n1    THE TWO FACTORS OF THE COMMODITY: USE-VALUE AN...   \n2    Our investigation therefore begins with the an...   \n3    The commodity is, first of all, an external ob...   \n4    The nature of these needs, whether they arise,...   \n..                                                 ...   \n613  A man or a community is rich, a pearl or a dia...   \n614  So far no chemist has ever discovered exchange...   \n615  The economists who have discovered this chemic...   \n616  What confirms them in this view is the peculia...   \n617  Who would not call to mind at this point the a...   \n\n                               alignment_id       sim  \n0    ch01_clean.de_tge-ch01_clean.en_fowkes  0.497484  \n1    ch01_clean.de_tge-ch01_clean.en_fowkes  0.757847  \n2    ch01_clean.de_tge-ch01_clean.en_fowkes  0.859049  \n3    ch01_clean.de_tge-ch01_clean.en_fowkes  0.812498  \n4    ch01_clean.de_tge-ch01_clean.en_fowkes  0.753188  \n..                                      ...       ...  \n613  ch01_clean.de_tge-ch01_clean.en_fowkes  0.813036  \n614  ch01_clean.de_tge-ch01_clean.en_fowkes  0.734134  \n615  ch01_clean.de_tge-ch01_clean.en_fowkes  0.762967  \n616  ch01_clean.de_tge-ch01_clean.en_fowkes  0.748863  \n617  ch01_clean.de_tge-ch01_clean.en_fowkes  0.748236  \n\n[618 rows x 4 columns]",
      "text/html": "<div>\n<style scoped>\n    .dataframe tbody tr th:only-of-type {\n        vertical-align: middle;\n    }\n\n    .dataframe tbody tr th {\n        vertical-align: top;\n    }\n\n    .dataframe thead th {\n        text-align: right;\n    }\n</style>\n<table border=\"1\" class=\"dataframe\">\n  <thead>\n    <tr style=\"text-align: right;\">\n      <th></th>\n      <th>de</th>\n      <th>en</th>\n      <th>alignment_id</th>\n      <th>sim</th>\n    </tr>\n  </thead>\n  <tbody>\n    <tr>\n      <th>0</th>\n      <td></td>\n      <td>Chapter 1: The Commodity 1.</td>\n      <td>ch01_clean.de_tge-ch01_clean.en_fowkes</td>\n      <td>0.497484</td>\n    </tr>\n    <tr>\n      <th>1</th>\n      <td>ERSTES KAPITEL Die Ware 1. Die zwei Faktoren d...</td>\n      <td>THE TWO FACTORS OF THE COMMODITY: USE-VALUE AN...</td>\n      <td>ch01_clean.de_tge-ch01_clean.en_fowkes</td>\n      <td>0.757847</td>\n    </tr>\n    <tr>\n      <th>2</th>\n      <td>Unsere Untersuchung beginnt daher mit der Anal...</td>\n      <td>Our investigation therefore begins with the an...</td>\n      <td>ch01_clean.de_tge-ch01_clean.en_fowkes</td>\n      <td>0.859049</td>\n    </tr>\n    <tr>\n      <th>3</th>\n      <td>Die Ware ist zunächst ein äußerer Gegenstand, ...</td>\n      <td>The commodity is, first of all, an external ob...</td>\n      <td>ch01_clean.de_tge-ch01_clean.en_fowkes</td>\n      <td>0.812498</td>\n    </tr>\n    <tr>\n      <th>4</th>\n      <td>Die Natur dieser Bedürfnisse, ob sie z.B. dem ...</td>\n      <td>The nature of these needs, whether they arise,...</td>\n      <td>ch01_clean.de_tge-ch01_clean.en_fowkes</td>\n      <td>0.753188</td>\n    </tr>\n    <tr>\n      <th>...</th>\n      <td>...</td>\n      <td>...</td>\n      <td>...</td>\n      <td>...</td>\n    </tr>\n    <tr>\n      <th>613</th>\n      <td>Ein Mensch oder ein Gemeinwesen ist reich; ein...</td>\n      <td>A man or a community is rich, a pearl or a dia...</td>\n      <td>ch01_clean.de_tge-ch01_clean.en_fowkes</td>\n      <td>0.813036</td>\n    </tr>\n    <tr>\n      <th>614</th>\n      <td>Bisher hat noch kein Chemiker Tauschwert in Pe...</td>\n      <td>So far no chemist has ever discovered exchange...</td>\n      <td>ch01_clean.de_tge-ch01_clean.en_fowkes</td>\n      <td>0.734134</td>\n    </tr>\n    <tr>\n      <th>615</th>\n      <td>Die ökonomischen Entdecker dieser chemischen S...</td>\n      <td>The economists who have discovered this chemic...</td>\n      <td>ch01_clean.de_tge-ch01_clean.en_fowkes</td>\n      <td>0.762967</td>\n    </tr>\n    <tr>\n      <th>616</th>\n      <td>Was sie hierin bestätigt, ist der sonderbare U...</td>\n      <td>What confirms them in this view is the peculia...</td>\n      <td>ch01_clean.de_tge-ch01_clean.en_fowkes</td>\n      <td>0.748863</td>\n    </tr>\n    <tr>\n      <th>617</th>\n      <td>Wer erinnert sich hier nicht des guten Dogberr...</td>\n      <td>Who would not call to mind at this point the a...</td>\n      <td>ch01_clean.de_tge-ch01_clean.en_fowkes</td>\n      <td>0.748236</td>\n    </tr>\n  </tbody>\n</table>\n<p>618 rows × 4 columns</p>\n</div>"
     },
     "execution_count": 50,
     "metadata": {},
     "output_type": "execute_result"
    }
   ],
   "source": [
    "cur_df"
   ],
   "metadata": {
    "collapsed": false,
    "pycharm": {
     "name": "#%%\n"
    }
   }
  },
  {
   "cell_type": "code",
   "execution_count": 51,
   "outputs": [
    {
     "data": {
      "text/plain": "0.7231409977940679"
     },
     "execution_count": 51,
     "metadata": {},
     "output_type": "execute_result"
    }
   ],
   "source": [
    "cur_df['sim'].mean()"
   ],
   "metadata": {
    "collapsed": false,
    "pycharm": {
     "name": "#%%\n"
    }
   }
  },
  {
   "cell_type": "code",
   "execution_count": 58,
   "outputs": [],
   "source": [
    "v2_fpath = \"../Texts_Aligned/de_tge.en_aveling/ch01.align.txt\""
   ],
   "metadata": {
    "collapsed": false,
    "pycharm": {
     "name": "#%%\n"
    }
   }
  },
  {
   "cell_type": "code",
   "execution_count": 61,
   "outputs": [],
   "source": [
    "v2_df = pd.read_csv(v2_fpath, delimiter='\\t', header=None, names=['de','en','alignment_id'])"
   ],
   "metadata": {
    "collapsed": false,
    "pycharm": {
     "name": "#%%\n"
    }
   }
  },
  {
   "cell_type": "code",
   "execution_count": 64,
   "outputs": [],
   "source": [
    "v2_df.fillna(\"\", inplace=True)"
   ],
   "metadata": {
    "collapsed": false,
    "pycharm": {
     "name": "#%%\n"
    }
   }
  },
  {
   "cell_type": "code",
   "execution_count": 68,
   "outputs": [
    {
     "name": "stderr",
     "output_type": "stream",
     "text": [
      "100%|██████████| 625/625 [00:08<00:00, 77.74it/s]\n"
     ]
    }
   ],
   "source": [
    "v2_df['sim'] = v2_df.progress_apply(compute_row_sim, axis=1)"
   ],
   "metadata": {
    "collapsed": false,
    "pycharm": {
     "name": "#%%\n"
    }
   }
  },
  {
   "cell_type": "code",
   "execution_count": 69,
   "outputs": [
    {
     "data": {
      "text/plain": "                                                    de  \\\n0    ERSTES KAPITEL Die Ware 1. Die zwei Faktoren d...   \n1    Unsere Untersuchung beginnt daher mit der Anal...   \n2    Die Ware ist zunachst ein ausserer Gegenstand,...   \n3    Die Natur dieser Bedurfnisse, ob sie z.B. dem ...   \n4    Es handelt sich hier auch nicht darum, wie die...   \n..                                                 ...   \n620  Eine Perle oder ein Diamant hat Wert als Perle...   \n621  Bisher hat noch kein Chemiker Tauschwert in Pe...   \n622  Die okonomischen Entdecker dieser chemischen S...   \n623  Was sie hierin bestatigt, ist der sonderbare U...   \n624  Wer erinnert sich hier nicht des guten Dogberr...   \n\n                                                    en  \\\n0    Chapter 1: Commodities Section 1: The Two Fact...   \n1    Our investigation must therefore begin with th...   \n2    A commodity is, in the first place, an object ...   \n3    The nature of such wants, whether, for instanc...   \n4    Neither are we here concerned to know how the ...   \n..                                                 ...   \n620  A pearl or a diamond is valuable as a pearl or...   \n621  So far no chemist has ever discovered exchange...   \n622  The economic discoverers of this chemical elem...   \n623  What confirms them in this view, is the peculi...   \n624  Who fails here to call to mind our good friend...   \n\n                                alignment_id       sim  \n0    ch01_clean.de_tge-ch01_clean.en_aveling  0.799426  \n1    ch01_clean.de_tge-ch01_clean.en_aveling  0.805118  \n2    ch01_clean.de_tge-ch01_clean.en_aveling  0.742811  \n3    ch01_clean.de_tge-ch01_clean.en_aveling  0.732976  \n4    ch01_clean.de_tge-ch01_clean.en_aveling  0.685437  \n..                                       ...       ...  \n620  ch01_clean.de_tge-ch01_clean.en_aveling  0.789187  \n621  ch01_clean.de_tge-ch01_clean.en_aveling  0.732880  \n622  ch01_clean.de_tge-ch01_clean.en_aveling  0.699186  \n623  ch01_clean.de_tge-ch01_clean.en_aveling  0.733851  \n624  ch01_clean.de_tge-ch01_clean.en_aveling  0.737231  \n\n[625 rows x 4 columns]",
      "text/html": "<div>\n<style scoped>\n    .dataframe tbody tr th:only-of-type {\n        vertical-align: middle;\n    }\n\n    .dataframe tbody tr th {\n        vertical-align: top;\n    }\n\n    .dataframe thead th {\n        text-align: right;\n    }\n</style>\n<table border=\"1\" class=\"dataframe\">\n  <thead>\n    <tr style=\"text-align: right;\">\n      <th></th>\n      <th>de</th>\n      <th>en</th>\n      <th>alignment_id</th>\n      <th>sim</th>\n    </tr>\n  </thead>\n  <tbody>\n    <tr>\n      <th>0</th>\n      <td>ERSTES KAPITEL Die Ware 1. Die zwei Faktoren d...</td>\n      <td>Chapter 1: Commodities Section 1: The Two Fact...</td>\n      <td>ch01_clean.de_tge-ch01_clean.en_aveling</td>\n      <td>0.799426</td>\n    </tr>\n    <tr>\n      <th>1</th>\n      <td>Unsere Untersuchung beginnt daher mit der Anal...</td>\n      <td>Our investigation must therefore begin with th...</td>\n      <td>ch01_clean.de_tge-ch01_clean.en_aveling</td>\n      <td>0.805118</td>\n    </tr>\n    <tr>\n      <th>2</th>\n      <td>Die Ware ist zunachst ein ausserer Gegenstand,...</td>\n      <td>A commodity is, in the first place, an object ...</td>\n      <td>ch01_clean.de_tge-ch01_clean.en_aveling</td>\n      <td>0.742811</td>\n    </tr>\n    <tr>\n      <th>3</th>\n      <td>Die Natur dieser Bedurfnisse, ob sie z.B. dem ...</td>\n      <td>The nature of such wants, whether, for instanc...</td>\n      <td>ch01_clean.de_tge-ch01_clean.en_aveling</td>\n      <td>0.732976</td>\n    </tr>\n    <tr>\n      <th>4</th>\n      <td>Es handelt sich hier auch nicht darum, wie die...</td>\n      <td>Neither are we here concerned to know how the ...</td>\n      <td>ch01_clean.de_tge-ch01_clean.en_aveling</td>\n      <td>0.685437</td>\n    </tr>\n    <tr>\n      <th>...</th>\n      <td>...</td>\n      <td>...</td>\n      <td>...</td>\n      <td>...</td>\n    </tr>\n    <tr>\n      <th>620</th>\n      <td>Eine Perle oder ein Diamant hat Wert als Perle...</td>\n      <td>A pearl or a diamond is valuable as a pearl or...</td>\n      <td>ch01_clean.de_tge-ch01_clean.en_aveling</td>\n      <td>0.789187</td>\n    </tr>\n    <tr>\n      <th>621</th>\n      <td>Bisher hat noch kein Chemiker Tauschwert in Pe...</td>\n      <td>So far no chemist has ever discovered exchange...</td>\n      <td>ch01_clean.de_tge-ch01_clean.en_aveling</td>\n      <td>0.732880</td>\n    </tr>\n    <tr>\n      <th>622</th>\n      <td>Die okonomischen Entdecker dieser chemischen S...</td>\n      <td>The economic discoverers of this chemical elem...</td>\n      <td>ch01_clean.de_tge-ch01_clean.en_aveling</td>\n      <td>0.699186</td>\n    </tr>\n    <tr>\n      <th>623</th>\n      <td>Was sie hierin bestatigt, ist der sonderbare U...</td>\n      <td>What confirms them in this view, is the peculi...</td>\n      <td>ch01_clean.de_tge-ch01_clean.en_aveling</td>\n      <td>0.733851</td>\n    </tr>\n    <tr>\n      <th>624</th>\n      <td>Wer erinnert sich hier nicht des guten Dogberr...</td>\n      <td>Who fails here to call to mind our good friend...</td>\n      <td>ch01_clean.de_tge-ch01_clean.en_aveling</td>\n      <td>0.737231</td>\n    </tr>\n  </tbody>\n</table>\n<p>625 rows × 4 columns</p>\n</div>"
     },
     "execution_count": 69,
     "metadata": {},
     "output_type": "execute_result"
    }
   ],
   "source": [
    "v2_df"
   ],
   "metadata": {
    "collapsed": false,
    "pycharm": {
     "name": "#%%\n"
    }
   }
  },
  {
   "cell_type": "code",
   "execution_count": 70,
   "outputs": [
    {
     "data": {
      "text/plain": "0.7033427904129028"
     },
     "execution_count": 70,
     "metadata": {},
     "output_type": "execute_result"
    }
   ],
   "source": [
    "v2_df['sim'].mean()"
   ],
   "metadata": {
    "collapsed": false,
    "pycharm": {
     "name": "#%%\n"
    }
   }
  },
  {
   "cell_type": "code",
   "execution_count": null,
   "outputs": [],
   "source": [],
   "metadata": {
    "collapsed": false,
    "pycharm": {
     "name": "#%%\n"
    }
   }
  }
 ],
 "metadata": {
  "kernelspec": {
   "display_name": "Python 3",
   "language": "python",
   "name": "python3"
  },
  "language_info": {
   "codemirror_mode": {
    "name": "ipython",
    "version": 2
   },
   "file_extension": ".py",
   "mimetype": "text/x-python",
   "name": "python",
   "nbconvert_exporter": "python",
   "pygments_lexer": "ipython2",
   "version": "2.7.6"
  }
 },
 "nbformat": 4,
 "nbformat_minor": 0
}