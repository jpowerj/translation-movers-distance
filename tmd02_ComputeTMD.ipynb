{
 "cells": [
  {
   "cell_type": "markdown",
   "source": [
    "### Final version"
   ],
   "metadata": {
    "collapsed": false,
    "pycharm": {
     "name": "#%% md\n"
    }
   }
  },
  {
   "cell_type": "code",
   "execution_count": 9,
   "outputs": [
    {
     "name": "stdout",
     "output_type": "stream",
     "text": [
      "The autoreload extension is already loaded. To reload it, use:\n",
      "  %reload_ext autoreload\n"
     ]
    }
   ],
   "source": [
    "%load_ext autoreload\n",
    "%autoreload 2"
   ],
   "metadata": {
    "collapsed": false,
    "pycharm": {
     "name": "#%%\n"
    }
   }
  },
  {
   "cell_type": "code",
   "execution_count": 10,
   "outputs": [],
   "source": [
    "import glob\n",
    "import os\n",
    "\n",
    "import pandas as pd\n",
    "import numpy as np\n",
    "from tqdm import tqdm\n",
    "tqdm.pandas()\n",
    "\n",
    "import tmdglobals"
   ],
   "metadata": {
    "collapsed": false,
    "pycharm": {
     "name": "#%%\n"
    }
   }
  },
  {
   "cell_type": "code",
   "execution_count": 13,
   "outputs": [
    {
     "name": "stdout",
     "output_type": "stream",
     "text": [
      "en model initialized\n",
      "de model initialized\n"
     ]
    }
   ],
   "source": [
    "# Load the model ONCE, at the beginning\n",
    "tmdglobals.init_embedding_model(langs=['en','de'])"
   ],
   "metadata": {
    "collapsed": false,
    "pycharm": {
     "name": "#%%\n"
    }
   }
  },
  {
   "cell_type": "code",
   "execution_count": 15,
   "outputs": [
    {
     "data": {
      "text/plain": "EmbeddingModel with 2 langs: en, de"
     },
     "execution_count": 15,
     "metadata": {},
     "output_type": "execute_result"
    }
   ],
   "source": [
    "tmdglobals.xlang_model"
   ],
   "metadata": {
    "collapsed": false,
    "pycharm": {
     "name": "#%%\n"
    }
   }
  },
  {
   "cell_type": "code",
   "execution_count": 16,
   "outputs": [],
   "source": [
    "def load_chapter(ch_fpath, delimiter='\\t'):\n",
    "    # First annoying thing: need to escape the quote characters, otherwise\n",
    "    # loading with Pandas will fail\n",
    "    with open(ch_fpath, 'r', encoding='utf-8') as infile:\n",
    "        orig_text = infile.read()\n",
    "    new_text = orig_text.replace(\"\\\"\", \"\\\\\\\"\")\n",
    "    with open(ch_fpath, 'w', encoding='utf-8') as outfile:\n",
    "        outfile.write(new_text)\n",
    "    # Now we can load with Pandas\n",
    "    ch_df = pd.read_csv(ch_fpath, delimiter=delimiter, header=None, encoding=\"utf8\")\n",
    "    return ch_df"
   ],
   "metadata": {
    "collapsed": false,
    "pycharm": {
     "name": "#%%\n"
    }
   }
  },
  {
   "cell_type": "code",
   "execution_count": 17,
   "outputs": [],
   "source": [
    "def output_wmds(output_path, ch_name, wmd_df):\n",
    "    # Make sure the output_path exists\n",
    "    if not os.path.isdir(output_path):\n",
    "        os.mkdir(output_path)\n",
    "    output_fname = f\"{ch_name}.wmd.csv\"\n",
    "    wmd_fpath = os.path.join(output_path, output_fname)\n",
    "    wmd_df.to_csv(wmd_fpath)\n",
    "    return wmd_fpath"
   ],
   "metadata": {
    "collapsed": false,
    "pycharm": {
     "name": "#%%\n"
    }
   }
  },
  {
   "cell_type": "code",
   "execution_count": 18,
   "outputs": [],
   "source": [
    "verbose = True\n",
    "vprint = print if verbose else lambda x: None"
   ],
   "metadata": {
    "collapsed": false,
    "pycharm": {
     "name": "#%%\n"
    }
   }
  },
  {
   "cell_type": "code",
   "execution_count": 21,
   "metadata": {
    "pycharm": {
     "name": "#%%\n"
    }
   },
   "outputs": [],
   "source": [
    "doc1 = \"de_tge\"\n",
    "lang1 = tmdglobals.get_lang_code(doc1)\n",
    "doc2 = \"en_reitter\"\n",
    "lang2 = tmdglobals.get_lang_code(doc2)\n",
    "alignment_code = tmdglobals.get_alignment_code(doc1, doc2)"
   ]
  },
  {
   "cell_type": "code",
   "execution_count": 22,
   "metadata": {
    "pycharm": {
     "name": "#%%\n"
    }
   },
   "outputs": [
    {
     "data": {
      "text/plain": "'de_tge.en_reitter'"
     },
     "execution_count": 22,
     "metadata": {},
     "output_type": "execute_result"
    }
   ],
   "source": [
    "alignment_code"
   ]
  },
  {
   "cell_type": "code",
   "execution_count": 24,
   "metadata": {
    "pycharm": {
     "name": "#%%\n"
    }
   },
   "outputs": [
    {
     "name": "stdout",
     "output_type": "stream",
     "text": [
      "..\\Texts_Aligned\\de_tge.en_reitter\n",
      "..\\Texts_Aligned\\de_tge.en_reitter\\*.txt\n"
     ]
    }
   ],
   "source": [
    "## Load the chapters\n",
    "if alignment_code == \"de_tge.kk_prog\":\n",
    "    # Special case for Kazakh\n",
    "    alignment_path = tmdglobals.get_alignment_path(alignment_code + \".pickled\")\n",
    "else:\n",
    "    alignment_path = tmdglobals.get_alignment_path(alignment_code)\n",
    "print(alignment_path)\n",
    "if alignment_code == \"de_tge.kk_prog\":\n",
    "    glob_ext = \"*.pkl\"\n",
    "else:\n",
    "    glob_ext = \"*.txt\"\n",
    "alignment_glob = os.path.join(alignment_path, glob_ext)\n",
    "print(alignment_glob)\n",
    "all_ch_fpaths = sorted(glob.glob(alignment_glob))"
   ]
  },
  {
   "cell_type": "code",
   "execution_count": 25,
   "outputs": [
    {
     "data": {
      "text/plain": "['..\\\\Texts_Aligned\\\\de_tge.en_reitter\\\\ch01.align.txt',\n '..\\\\Texts_Aligned\\\\de_tge.en_reitter\\\\ch02.align.txt',\n '..\\\\Texts_Aligned\\\\de_tge.en_reitter\\\\ch03.align.txt',\n '..\\\\Texts_Aligned\\\\de_tge.en_reitter\\\\ch04.align.txt',\n '..\\\\Texts_Aligned\\\\de_tge.en_reitter\\\\ch05.align.txt',\n '..\\\\Texts_Aligned\\\\de_tge.en_reitter\\\\ch06.align.txt',\n '..\\\\Texts_Aligned\\\\de_tge.en_reitter\\\\ch07.align.txt',\n '..\\\\Texts_Aligned\\\\de_tge.en_reitter\\\\ch08.align.txt',\n '..\\\\Texts_Aligned\\\\de_tge.en_reitter\\\\ch09.align.txt',\n '..\\\\Texts_Aligned\\\\de_tge.en_reitter\\\\ch10.align.txt',\n '..\\\\Texts_Aligned\\\\de_tge.en_reitter\\\\ch11.align.txt',\n '..\\\\Texts_Aligned\\\\de_tge.en_reitter\\\\ch12.align.txt',\n '..\\\\Texts_Aligned\\\\de_tge.en_reitter\\\\ch13.align.txt',\n '..\\\\Texts_Aligned\\\\de_tge.en_reitter\\\\ch14.align.txt',\n '..\\\\Texts_Aligned\\\\de_tge.en_reitter\\\\ch15a.align.txt',\n '..\\\\Texts_Aligned\\\\de_tge.en_reitter\\\\ch15b.align.txt',\n '..\\\\Texts_Aligned\\\\de_tge.en_reitter\\\\ch16.align.txt',\n '..\\\\Texts_Aligned\\\\de_tge.en_reitter\\\\ch17.align.txt',\n '..\\\\Texts_Aligned\\\\de_tge.en_reitter\\\\ch18.align.txt',\n '..\\\\Texts_Aligned\\\\de_tge.en_reitter\\\\ch19.align.txt',\n '..\\\\Texts_Aligned\\\\de_tge.en_reitter\\\\ch20.align.txt',\n '..\\\\Texts_Aligned\\\\de_tge.en_reitter\\\\ch21.align.txt',\n '..\\\\Texts_Aligned\\\\de_tge.en_reitter\\\\ch22.align.txt',\n '..\\\\Texts_Aligned\\\\de_tge.en_reitter\\\\ch23.align.txt',\n '..\\\\Texts_Aligned\\\\de_tge.en_reitter\\\\ch24.align.txt',\n '..\\\\Texts_Aligned\\\\de_tge.en_reitter\\\\ch25.align.txt',\n '..\\\\Texts_Aligned\\\\de_tge.en_reitter\\\\ch26.align.txt',\n '..\\\\Texts_Aligned\\\\de_tge.en_reitter\\\\ch27.align.txt',\n '..\\\\Texts_Aligned\\\\de_tge.en_reitter\\\\ch28.align.txt',\n '..\\\\Texts_Aligned\\\\de_tge.en_reitter\\\\ch29.align.txt',\n '..\\\\Texts_Aligned\\\\de_tge.en_reitter\\\\ch30.align.txt',\n '..\\\\Texts_Aligned\\\\de_tge.en_reitter\\\\ch31.align.txt',\n '..\\\\Texts_Aligned\\\\de_tge.en_reitter\\\\ch32.align.txt',\n '..\\\\Texts_Aligned\\\\de_tge.en_reitter\\\\ch33.align.txt']"
     },
     "execution_count": 25,
     "metadata": {},
     "output_type": "execute_result"
    }
   ],
   "source": [
    "all_ch_fpaths"
   ],
   "metadata": {
    "collapsed": false,
    "pycharm": {
     "name": "#%%\n"
    }
   }
  },
  {
   "cell_type": "code",
   "execution_count": 26,
   "metadata": {
    "pycharm": {
     "name": "#%%\n"
    }
   },
   "outputs": [
    {
     "data": {
      "text/plain": "'..\\\\data_tmd\\\\de_tge.en_reitter'"
     },
     "execution_count": 26,
     "metadata": {},
     "output_type": "execute_result"
    }
   ],
   "source": [
    "alignment_data_path = tmdglobals.get_data_path(alignment_code)\n",
    "if not os.path.isdir(alignment_data_path):\n",
    "    os.mkdir(alignment_data_path)\n",
    "alignment_data_path"
   ]
  },
  {
   "cell_type": "code",
   "execution_count": 31,
   "outputs": [
    {
     "name": "stdout",
     "output_type": "stream",
     "text": [
      "Collecting pyemd\n",
      "  Downloading pyemd-0.5.1.tar.gz (91 kB)\n",
      "     ---------------------------------------- 91.5/91.5 kB 2.5 MB/s eta 0:00:00\n",
      "  Preparing metadata (setup.py): started\n",
      "  Preparing metadata (setup.py): finished with status 'done'\n",
      "Requirement already satisfied: numpy<2.0.0,>=1.9.0 in c:\\users\\jpjac\\lib\\site-packages (from pyemd) (1.22.4)\n",
      "Building wheels for collected packages: pyemd\n",
      "  Building wheel for pyemd (setup.py): started\n",
      "  Building wheel for pyemd (setup.py): finished with status 'error'\n",
      "  Running setup.py clean for pyemd\n",
      "Failed to build pyemd\n",
      "Installing collected packages: pyemd\n",
      "  Running setup.py install for pyemd: started\n",
      "  Running setup.py install for pyemd: finished with status 'error'\n"
     ]
    },
    {
     "name": "stderr",
     "output_type": "stream",
     "text": [
      "  error: subprocess-exited-with-error\n",
      "  \n",
      "  python setup.py bdist_wheel did not run successfully.\n",
      "  exit code: 1\n",
      "  \n",
      "  [16 lines of output]\n",
      "  running bdist_wheel\n",
      "  running build\n",
      "  running build_py\n",
      "  creating build\n",
      "  creating build\\lib.win-amd64-3.10\n",
      "  creating build\\lib.win-amd64-3.10\\pyemd\n",
      "  copying pyemd\\__about__.py -> build\\lib.win-amd64-3.10\\pyemd\n",
      "  copying pyemd\\__init__.py -> build\\lib.win-amd64-3.10\\pyemd\n",
      "  running build_ext\n",
      "  creating build\\temp.win-amd64-3.10\n",
      "  creating build\\temp.win-amd64-3.10\\Release\n",
      "  creating build\\temp.win-amd64-3.10\\Release\\pyemd\n",
      "  \"C:\\Program Files (x86)\\Microsoft Visual Studio\\2022\\BuildTools\\VC\\Tools\\MSVC\\14.32.31326\\bin\\HostX86\\x64\\cl.exe\" /c /nologo /O2 /W3 /GL /DNDEBUG /MD -Ipyemd -IC:\\Users\\jpjac\\include -IC:\\Python310\\include -IC:\\Python310\\Include -IC:\\Users\\jpjac\\lib\\site-packages\\numpy\\core\\include \"-IC:\\Program Files (x86)\\Microsoft Visual Studio\\2022\\BuildTools\\VC\\Tools\\MSVC\\14.32.31326\\include\" /EHsc /Tppyemd/emd.cpp /Fobuild\\temp.win-amd64-3.10\\Release\\pyemd/emd.obj\n",
      "  emd.cpp\n",
      "  C:\\Python310\\include\\pyconfig.h(59): fatal error C1083: Cannot open include file: 'io.h': No such file or directory\n",
      "  error: command 'C:\\\\Program Files (x86)\\\\Microsoft Visual Studio\\\\2022\\\\BuildTools\\\\VC\\\\Tools\\\\MSVC\\\\14.32.31326\\\\bin\\\\HostX86\\\\x64\\\\cl.exe' failed with exit code 2\n",
      "  [end of output]\n",
      "  \n",
      "  note: This error originates from a subprocess, and is likely not a problem with pip.\n",
      "  ERROR: Failed building wheel for pyemd\n",
      "  error: subprocess-exited-with-error\n",
      "  \n",
      "  Running setup.py install for pyemd did not run successfully.\n",
      "  exit code: 1\n",
      "  \n",
      "  [18 lines of output]\n",
      "  running install\n",
      "  C:\\Users\\jpjac\\lib\\site-packages\\setuptools\\command\\install.py:34: SetuptoolsDeprecationWarning: setup.py install is deprecated. Use build and pip and other standards-based tools.\n",
      "    warnings.warn(\n",
      "  running build\n",
      "  running build_py\n",
      "  creating build\n",
      "  creating build\\lib.win-amd64-3.10\n",
      "  creating build\\lib.win-amd64-3.10\\pyemd\n",
      "  copying pyemd\\__about__.py -> build\\lib.win-amd64-3.10\\pyemd\n",
      "  copying pyemd\\__init__.py -> build\\lib.win-amd64-3.10\\pyemd\n",
      "  running build_ext\n",
      "  creating build\\temp.win-amd64-3.10\n",
      "  creating build\\temp.win-amd64-3.10\\Release\n",
      "  creating build\\temp.win-amd64-3.10\\Release\\pyemd\n",
      "  \"C:\\Program Files (x86)\\Microsoft Visual Studio\\2022\\BuildTools\\VC\\Tools\\MSVC\\14.32.31326\\bin\\HostX86\\x64\\cl.exe\" /c /nologo /O2 /W3 /GL /DNDEBUG /MD -Ipyemd -IC:\\Users\\jpjac\\include -IC:\\Python310\\include -IC:\\Python310\\Include -IC:\\Users\\jpjac\\lib\\site-packages\\numpy\\core\\include \"-IC:\\Program Files (x86)\\Microsoft Visual Studio\\2022\\BuildTools\\VC\\Tools\\MSVC\\14.32.31326\\include\" /EHsc /Tppyemd/emd.cpp /Fobuild\\temp.win-amd64-3.10\\Release\\pyemd/emd.obj\n",
      "  emd.cpp\n",
      "  C:\\Python310\\include\\pyconfig.h(59): fatal error C1083: Cannot open include file: 'io.h': No such file or directory\n",
      "  error: command 'C:\\\\Program Files (x86)\\\\Microsoft Visual Studio\\\\2022\\\\BuildTools\\\\VC\\\\Tools\\\\MSVC\\\\14.32.31326\\\\bin\\\\HostX86\\\\x64\\\\cl.exe' failed with exit code 2\n",
      "  [end of output]\n",
      "  \n",
      "  note: This error originates from a subprocess, and is likely not a problem with pip.\n",
      "error: legacy-install-failure\n",
      "\n",
      "Encountered error while trying to install package.\n",
      "\n",
      "pyemd\n",
      "\n",
      "note: This is an issue with the package mentioned above, not pip.\n",
      "hint: See above for output from the failure.\n"
     ]
    }
   ],
   "source": [
    "!pip install pyemd"
   ],
   "metadata": {
    "collapsed": false,
    "pycharm": {
     "name": "#%%\n"
    }
   }
  },
  {
   "cell_type": "code",
   "execution_count": 30,
   "outputs": [
    {
     "name": "stdout",
     "output_type": "stream",
     "text": [
      "***** Processing 01\n"
     ]
    },
    {
     "name": "stderr",
     "output_type": "stream",
     "text": [
      "  0%|          | 1/587 [00:00<01:50,  5.31it/s]\n"
     ]
    },
    {
     "ename": "ImportError",
     "evalue": "Please install pyemd Python package to compute WMD.",
     "output_type": "error",
     "traceback": [
      "\u001B[1;31m---------------------------------------------------------------------------\u001B[0m",
      "\u001B[1;31mImportError\u001B[0m                               Traceback (most recent call last)",
      "Input \u001B[1;32mIn [30]\u001B[0m, in \u001B[0;36m<cell line: 11>\u001B[1;34m()\u001B[0m\n\u001B[0;32m      9\u001B[0m cur_df[\u001B[38;5;124m'\u001B[39m\u001B[38;5;124mchapter\u001B[39m\u001B[38;5;124m'\u001B[39m] \u001B[38;5;241m=\u001B[39m ch_name\n\u001B[0;32m     10\u001B[0m \u001B[38;5;66;03m# Computation\u001B[39;00m\n\u001B[1;32m---> 11\u001B[0m cur_df[\u001B[38;5;124m'\u001B[39m\u001B[38;5;124mwmd\u001B[39m\u001B[38;5;124m'\u001B[39m] \u001B[38;5;241m=\u001B[39m \u001B[43mcur_df\u001B[49m\u001B[38;5;241;43m.\u001B[39;49m\u001B[43mprogress_apply\u001B[49m\u001B[43m(\u001B[49m\u001B[43mcompute_wmd_partial\u001B[49m\u001B[43m,\u001B[49m\u001B[43m \u001B[49m\u001B[43maxis\u001B[49m\u001B[38;5;241;43m=\u001B[39;49m\u001B[38;5;241;43m1\u001B[39;49m\u001B[43m)\u001B[49m\n",
      "File \u001B[1;32m~\\lib\\site-packages\\tqdm\\std.py:814\u001B[0m, in \u001B[0;36mtqdm.pandas.<locals>.inner_generator.<locals>.inner\u001B[1;34m(df, func, *args, **kwargs)\u001B[0m\n\u001B[0;32m    811\u001B[0m \u001B[38;5;66;03m# Apply the provided function (in **kwargs)\u001B[39;00m\n\u001B[0;32m    812\u001B[0m \u001B[38;5;66;03m# on the df using our wrapper (which provides bar updating)\u001B[39;00m\n\u001B[0;32m    813\u001B[0m \u001B[38;5;28;01mtry\u001B[39;00m:\n\u001B[1;32m--> 814\u001B[0m     \u001B[38;5;28;01mreturn\u001B[39;00m \u001B[38;5;28mgetattr\u001B[39m(df, df_function)(wrapper, \u001B[38;5;241m*\u001B[39m\u001B[38;5;241m*\u001B[39mkwargs)\n\u001B[0;32m    815\u001B[0m \u001B[38;5;28;01mfinally\u001B[39;00m:\n\u001B[0;32m    816\u001B[0m     t\u001B[38;5;241m.\u001B[39mclose()\n",
      "File \u001B[1;32m~\\lib\\site-packages\\pandas\\core\\frame.py:8839\u001B[0m, in \u001B[0;36mDataFrame.apply\u001B[1;34m(self, func, axis, raw, result_type, args, **kwargs)\u001B[0m\n\u001B[0;32m   8828\u001B[0m \u001B[38;5;28;01mfrom\u001B[39;00m \u001B[38;5;21;01mpandas\u001B[39;00m\u001B[38;5;21;01m.\u001B[39;00m\u001B[38;5;21;01mcore\u001B[39;00m\u001B[38;5;21;01m.\u001B[39;00m\u001B[38;5;21;01mapply\u001B[39;00m \u001B[38;5;28;01mimport\u001B[39;00m frame_apply\n\u001B[0;32m   8830\u001B[0m op \u001B[38;5;241m=\u001B[39m frame_apply(\n\u001B[0;32m   8831\u001B[0m     \u001B[38;5;28mself\u001B[39m,\n\u001B[0;32m   8832\u001B[0m     func\u001B[38;5;241m=\u001B[39mfunc,\n\u001B[1;32m   (...)\u001B[0m\n\u001B[0;32m   8837\u001B[0m     kwargs\u001B[38;5;241m=\u001B[39mkwargs,\n\u001B[0;32m   8838\u001B[0m )\n\u001B[1;32m-> 8839\u001B[0m \u001B[38;5;28;01mreturn\u001B[39;00m \u001B[43mop\u001B[49m\u001B[38;5;241;43m.\u001B[39;49m\u001B[43mapply\u001B[49m\u001B[43m(\u001B[49m\u001B[43m)\u001B[49m\u001B[38;5;241m.\u001B[39m__finalize__(\u001B[38;5;28mself\u001B[39m, method\u001B[38;5;241m=\u001B[39m\u001B[38;5;124m\"\u001B[39m\u001B[38;5;124mapply\u001B[39m\u001B[38;5;124m\"\u001B[39m)\n",
      "File \u001B[1;32m~\\lib\\site-packages\\pandas\\core\\apply.py:727\u001B[0m, in \u001B[0;36mFrameApply.apply\u001B[1;34m(self)\u001B[0m\n\u001B[0;32m    724\u001B[0m \u001B[38;5;28;01melif\u001B[39;00m \u001B[38;5;28mself\u001B[39m\u001B[38;5;241m.\u001B[39mraw:\n\u001B[0;32m    725\u001B[0m     \u001B[38;5;28;01mreturn\u001B[39;00m \u001B[38;5;28mself\u001B[39m\u001B[38;5;241m.\u001B[39mapply_raw()\n\u001B[1;32m--> 727\u001B[0m \u001B[38;5;28;01mreturn\u001B[39;00m \u001B[38;5;28;43mself\u001B[39;49m\u001B[38;5;241;43m.\u001B[39;49m\u001B[43mapply_standard\u001B[49m\u001B[43m(\u001B[49m\u001B[43m)\u001B[49m\n",
      "File \u001B[1;32m~\\lib\\site-packages\\pandas\\core\\apply.py:851\u001B[0m, in \u001B[0;36mFrameApply.apply_standard\u001B[1;34m(self)\u001B[0m\n\u001B[0;32m    850\u001B[0m \u001B[38;5;28;01mdef\u001B[39;00m \u001B[38;5;21mapply_standard\u001B[39m(\u001B[38;5;28mself\u001B[39m):\n\u001B[1;32m--> 851\u001B[0m     results, res_index \u001B[38;5;241m=\u001B[39m \u001B[38;5;28;43mself\u001B[39;49m\u001B[38;5;241;43m.\u001B[39;49m\u001B[43mapply_series_generator\u001B[49m\u001B[43m(\u001B[49m\u001B[43m)\u001B[49m\n\u001B[0;32m    853\u001B[0m     \u001B[38;5;66;03m# wrap results\u001B[39;00m\n\u001B[0;32m    854\u001B[0m     \u001B[38;5;28;01mreturn\u001B[39;00m \u001B[38;5;28mself\u001B[39m\u001B[38;5;241m.\u001B[39mwrap_results(results, res_index)\n",
      "File \u001B[1;32m~\\lib\\site-packages\\pandas\\core\\apply.py:867\u001B[0m, in \u001B[0;36mFrameApply.apply_series_generator\u001B[1;34m(self)\u001B[0m\n\u001B[0;32m    864\u001B[0m \u001B[38;5;28;01mwith\u001B[39;00m option_context(\u001B[38;5;124m\"\u001B[39m\u001B[38;5;124mmode.chained_assignment\u001B[39m\u001B[38;5;124m\"\u001B[39m, \u001B[38;5;28;01mNone\u001B[39;00m):\n\u001B[0;32m    865\u001B[0m     \u001B[38;5;28;01mfor\u001B[39;00m i, v \u001B[38;5;129;01min\u001B[39;00m \u001B[38;5;28menumerate\u001B[39m(series_gen):\n\u001B[0;32m    866\u001B[0m         \u001B[38;5;66;03m# ignore SettingWithCopy here in case the user mutates\u001B[39;00m\n\u001B[1;32m--> 867\u001B[0m         results[i] \u001B[38;5;241m=\u001B[39m \u001B[38;5;28;43mself\u001B[39;49m\u001B[38;5;241;43m.\u001B[39;49m\u001B[43mf\u001B[49m\u001B[43m(\u001B[49m\u001B[43mv\u001B[49m\u001B[43m)\u001B[49m\n\u001B[0;32m    868\u001B[0m         \u001B[38;5;28;01mif\u001B[39;00m \u001B[38;5;28misinstance\u001B[39m(results[i], ABCSeries):\n\u001B[0;32m    869\u001B[0m             \u001B[38;5;66;03m# If we have a view on v, we need to make a copy because\u001B[39;00m\n\u001B[0;32m    870\u001B[0m             \u001B[38;5;66;03m#  series_generator will swap out the underlying data\u001B[39;00m\n\u001B[0;32m    871\u001B[0m             results[i] \u001B[38;5;241m=\u001B[39m results[i]\u001B[38;5;241m.\u001B[39mcopy(deep\u001B[38;5;241m=\u001B[39m\u001B[38;5;28;01mFalse\u001B[39;00m)\n",
      "File \u001B[1;32m~\\lib\\site-packages\\tqdm\\std.py:809\u001B[0m, in \u001B[0;36mtqdm.pandas.<locals>.inner_generator.<locals>.inner.<locals>.wrapper\u001B[1;34m(*args, **kwargs)\u001B[0m\n\u001B[0;32m    803\u001B[0m \u001B[38;5;28;01mdef\u001B[39;00m \u001B[38;5;21mwrapper\u001B[39m(\u001B[38;5;241m*\u001B[39margs, \u001B[38;5;241m*\u001B[39m\u001B[38;5;241m*\u001B[39mkwargs):\n\u001B[0;32m    804\u001B[0m     \u001B[38;5;66;03m# update tbar correctly\u001B[39;00m\n\u001B[0;32m    805\u001B[0m     \u001B[38;5;66;03m# it seems `pandas apply` calls `func` twice\u001B[39;00m\n\u001B[0;32m    806\u001B[0m     \u001B[38;5;66;03m# on the first column/row to decide whether it can\u001B[39;00m\n\u001B[0;32m    807\u001B[0m     \u001B[38;5;66;03m# take a fast or slow code path; so stop when t.total==t.n\u001B[39;00m\n\u001B[0;32m    808\u001B[0m     t\u001B[38;5;241m.\u001B[39mupdate(n\u001B[38;5;241m=\u001B[39m\u001B[38;5;241m1\u001B[39m \u001B[38;5;28;01mif\u001B[39;00m \u001B[38;5;129;01mnot\u001B[39;00m t\u001B[38;5;241m.\u001B[39mtotal \u001B[38;5;129;01mor\u001B[39;00m t\u001B[38;5;241m.\u001B[39mn \u001B[38;5;241m<\u001B[39m t\u001B[38;5;241m.\u001B[39mtotal \u001B[38;5;28;01melse\u001B[39;00m \u001B[38;5;241m0\u001B[39m)\n\u001B[1;32m--> 809\u001B[0m     \u001B[38;5;28;01mreturn\u001B[39;00m func(\u001B[38;5;241m*\u001B[39margs, \u001B[38;5;241m*\u001B[39m\u001B[38;5;241m*\u001B[39mkwargs)\n",
      "Input \u001B[1;32mIn [30]\u001B[0m, in \u001B[0;36m<lambda>\u001B[1;34m(cur_row)\u001B[0m\n\u001B[0;32m      1\u001B[0m \u001B[38;5;66;03m# Test run, one chapter, for debugging\u001B[39;00m\n\u001B[1;32m----> 2\u001B[0m compute_wmd_partial \u001B[38;5;241m=\u001B[39m \u001B[38;5;28;01mlambda\u001B[39;00m cur_row: \u001B[43mtmdglobals\u001B[49m\u001B[38;5;241;43m.\u001B[39;49m\u001B[43mcompute_tmd\u001B[49m\u001B[43m(\u001B[49m\u001B[43mcur_row\u001B[49m\u001B[43m,\u001B[49m\u001B[43m \u001B[49m\u001B[43mlang1\u001B[49m\u001B[43m,\u001B[49m\u001B[43m \u001B[49m\u001B[43mlang2\u001B[49m\u001B[43m,\u001B[49m\u001B[43m \u001B[49m\u001B[43mverbose\u001B[49m\u001B[38;5;241;43m=\u001B[39;49m\u001B[38;5;28;43;01mFalse\u001B[39;49;00m\u001B[43m)\u001B[49m\n\u001B[0;32m      3\u001B[0m cur_ch_fpath \u001B[38;5;241m=\u001B[39m all_ch_fpaths[\u001B[38;5;241m0\u001B[39m]\n\u001B[0;32m      4\u001B[0m cur_fname, fname_prefix, tr_code, ch_name \u001B[38;5;241m=\u001B[39m tmdglobals\u001B[38;5;241m.\u001B[39mget_file_info(cur_ch_fpath)\n",
      "File \u001B[1;32mC:\\Dropbox\\Translation\\code00_tmd\\../code00_globals\\trglobals.py:408\u001B[0m, in \u001B[0;36mcompute_tmd\u001B[1;34m(row, lang1, lang2, verbose)\u001B[0m\n\u001B[0;32m    406\u001B[0m l1_tokenized \u001B[38;5;241m=\u001B[39m [] \u001B[38;5;28;01mif\u001B[39;00m pd\u001B[38;5;241m.\u001B[39misna(l1_doc) \u001B[38;5;28;01melse\u001B[39;00m word_tokenize(l1_doc, lang1)\n\u001B[0;32m    407\u001B[0m l2_tokenized \u001B[38;5;241m=\u001B[39m [] \u001B[38;5;28;01mif\u001B[39;00m pd\u001B[38;5;241m.\u001B[39misna(l2_doc) \u001B[38;5;28;01melse\u001B[39;00m word_tokenize(l2_doc, lang2)\n\u001B[1;32m--> 408\u001B[0m wmd \u001B[38;5;241m=\u001B[39m \u001B[43mbiling_wmd\u001B[49m\u001B[43m(\u001B[49m\u001B[43mlang1\u001B[49m\u001B[43m,\u001B[49m\u001B[43m \u001B[49m\u001B[43mlang2\u001B[49m\u001B[43m,\u001B[49m\u001B[43m \u001B[49m\u001B[43ml1_tokenized\u001B[49m\u001B[43m,\u001B[49m\u001B[43m \u001B[49m\u001B[43ml2_tokenized\u001B[49m\u001B[43m,\u001B[49m\u001B[43m \u001B[49m\u001B[43mverbose\u001B[49m\u001B[38;5;241;43m=\u001B[39;49m\u001B[43mverbose\u001B[49m\u001B[43m)\u001B[49m\n\u001B[0;32m    409\u001B[0m \u001B[38;5;28;01mreturn\u001B[39;00m wmd\n",
      "File \u001B[1;32mC:\\Dropbox\\Translation\\code00_tmd\\../code00_globals\\trglobals.py:308\u001B[0m, in \u001B[0;36mbiling_wmd\u001B[1;34m(lang1, lang2, l1_doc, l2_doc, verbose)\u001B[0m\n\u001B[0;32m    306\u001B[0m \u001B[38;5;66;03m# ADAPTED FROM THE ORIGINAL keyedvectors.py FILE FROM GENSIM\u001B[39;00m\n\u001B[0;32m    307\u001B[0m \u001B[38;5;28;01mif\u001B[39;00m \u001B[38;5;129;01mnot\u001B[39;00m PYEMD_EXT:\n\u001B[1;32m--> 308\u001B[0m     \u001B[38;5;28;01mraise\u001B[39;00m \u001B[38;5;167;01mImportError\u001B[39;00m(\u001B[38;5;124m\"\u001B[39m\u001B[38;5;124mPlease install pyemd Python package to compute WMD.\u001B[39m\u001B[38;5;124m\"\u001B[39m)\n\u001B[0;32m    310\u001B[0m \u001B[38;5;66;03m# Remove out-of-vocabulary words.\u001B[39;00m\n\u001B[0;32m    311\u001B[0m len_pre_oov_l1 \u001B[38;5;241m=\u001B[39m \u001B[38;5;28mlen\u001B[39m(l1_doc)\n",
      "\u001B[1;31mImportError\u001B[0m: Please install pyemd Python package to compute WMD."
     ]
    }
   ],
   "source": [
    "# Test run, one chapter, for debugging\n",
    "compute_wmd_partial = lambda cur_row: tmdglobals.compute_tmd(cur_row, lang1, lang2, verbose=False)\n",
    "cur_ch_fpath = all_ch_fpaths[0]\n",
    "cur_fname, fname_prefix, tr_code, ch_name = tmdglobals.get_file_info(cur_ch_fpath)\n",
    "print(f\"***** Processing {ch_name}\")\n",
    "\n",
    "cur_df = load_chapter(cur_ch_fpath)\n",
    "cur_df.columns = [lang1, lang2, \"alignment_id\"]\n",
    "cur_df['chapter'] = ch_name\n",
    "# Computation\n",
    "cur_df['wmd'] = cur_df.progress_apply(compute_wmd_partial, axis=1)"
   ],
   "metadata": {
    "collapsed": false,
    "pycharm": {
     "name": "#%%\n"
    }
   }
  },
  {
   "cell_type": "code",
   "execution_count": null,
   "outputs": [],
   "source": [
    "# Special case for Kazakh, we need to treat it as Russian\n",
    "if lang2 == \"kk\":\n",
    "    ch_num = 1\n",
    "    ch_num_str = str(ch_num).zfill(2)\n",
    "    first_fpath = f\"../Texts_Aligned/de_tge.kk_prog.pickled/ch{ch_num_str}.pkl\"\n",
    "    kk_df = pd.read_pickle(first_fpath)\n",
    "    kk_df.columns = ['de','ru']\n",
    "    kk_df['chapter'] = f\"ch{ch_num_str}\"\n",
    "    kk_df['tmd'] = trglobals.compute_tmd_df(kk_df)"
   ],
   "metadata": {
    "collapsed": false,
    "pycharm": {
     "name": "#%%\n"
    }
   }
  },
  {
   "cell_type": "code",
   "execution_count": 44,
   "outputs": [
    {
     "data": {
      "text/plain": "['..\\\\Texts_Aligned\\\\de_tge.el_mod\\\\ch01.align.txt',\n '..\\\\Texts_Aligned\\\\de_tge.el_mod\\\\ch02.align.txt',\n '..\\\\Texts_Aligned\\\\de_tge.el_mod\\\\ch03.align.txt',\n '..\\\\Texts_Aligned\\\\de_tge.el_mod\\\\ch04.align.txt',\n '..\\\\Texts_Aligned\\\\de_tge.el_mod\\\\ch05.align.txt',\n '..\\\\Texts_Aligned\\\\de_tge.el_mod\\\\ch06.align.txt',\n '..\\\\Texts_Aligned\\\\de_tge.el_mod\\\\ch07.align.txt',\n '..\\\\Texts_Aligned\\\\de_tge.el_mod\\\\ch08.align.txt',\n '..\\\\Texts_Aligned\\\\de_tge.el_mod\\\\ch09.align.txt',\n '..\\\\Texts_Aligned\\\\de_tge.el_mod\\\\ch10.align.txt',\n '..\\\\Texts_Aligned\\\\de_tge.el_mod\\\\ch11.align.txt',\n '..\\\\Texts_Aligned\\\\de_tge.el_mod\\\\ch12.align.txt',\n '..\\\\Texts_Aligned\\\\de_tge.el_mod\\\\ch13.align.txt',\n '..\\\\Texts_Aligned\\\\de_tge.el_mod\\\\ch14.align.txt',\n '..\\\\Texts_Aligned\\\\de_tge.el_mod\\\\ch15a.align.txt',\n '..\\\\Texts_Aligned\\\\de_tge.el_mod\\\\ch15b.align.txt',\n '..\\\\Texts_Aligned\\\\de_tge.el_mod\\\\ch16.align.txt',\n '..\\\\Texts_Aligned\\\\de_tge.el_mod\\\\ch17.align.txt',\n '..\\\\Texts_Aligned\\\\de_tge.el_mod\\\\ch18.align.txt',\n '..\\\\Texts_Aligned\\\\de_tge.el_mod\\\\ch19.align.txt',\n '..\\\\Texts_Aligned\\\\de_tge.el_mod\\\\ch20.align.txt',\n '..\\\\Texts_Aligned\\\\de_tge.el_mod\\\\ch21.align.txt',\n '..\\\\Texts_Aligned\\\\de_tge.el_mod\\\\ch22.align.txt',\n '..\\\\Texts_Aligned\\\\de_tge.el_mod\\\\ch23.align.txt',\n '..\\\\Texts_Aligned\\\\de_tge.el_mod\\\\ch24.align.txt',\n '..\\\\Texts_Aligned\\\\de_tge.el_mod\\\\ch25.align.txt',\n '..\\\\Texts_Aligned\\\\de_tge.el_mod\\\\ch26.align.txt',\n '..\\\\Texts_Aligned\\\\de_tge.el_mod\\\\ch27.align.txt',\n '..\\\\Texts_Aligned\\\\de_tge.el_mod\\\\ch28.align.txt',\n '..\\\\Texts_Aligned\\\\de_tge.el_mod\\\\ch29.align.txt',\n '..\\\\Texts_Aligned\\\\de_tge.el_mod\\\\ch30.align.txt',\n '..\\\\Texts_Aligned\\\\de_tge.el_mod\\\\ch31.align.txt',\n '..\\\\Texts_Aligned\\\\de_tge.el_mod\\\\ch32.align.txt',\n '..\\\\Texts_Aligned\\\\de_tge.el_mod\\\\ch33.align.txt']"
     },
     "execution_count": 44,
     "metadata": {},
     "output_type": "execute_result"
    }
   ],
   "source": [
    "all_ch_fpaths"
   ],
   "metadata": {
    "collapsed": false,
    "pycharm": {
     "name": "#%%\n"
    }
   }
  },
  {
   "cell_type": "code",
   "execution_count": 45,
   "metadata": {
    "pycharm": {
     "name": "#%%\n"
    }
   },
   "outputs": [
    {
     "name": "stdout",
     "output_type": "stream",
     "text": [
      "****** Processing ch01.align.txt\n"
     ]
    },
    {
     "name": "stderr",
     "output_type": "stream",
     "text": [
      "100%|██████████| 788/788 [00:01<00:00, 538.63it/s]\n"
     ]
    },
    {
     "name": "stdout",
     "output_type": "stream",
     "text": [
      "****** Processing ch02.align.txt\n"
     ]
    },
    {
     "name": "stderr",
     "output_type": "stream",
     "text": [
      "100%|██████████| 152/152 [00:00<00:00, 685.17it/s]\n"
     ]
    },
    {
     "name": "stdout",
     "output_type": "stream",
     "text": [
      "****** Processing ch03.align.txt\n"
     ]
    },
    {
     "name": "stderr",
     "output_type": "stream",
     "text": [
      "100%|██████████| 874/874 [00:01<00:00, 707.93it/s]\n"
     ]
    },
    {
     "name": "stdout",
     "output_type": "stream",
     "text": [
      "****** Processing ch04.align.txt\n"
     ]
    },
    {
     "name": "stderr",
     "output_type": "stream",
     "text": [
      "100%|██████████| 271/271 [00:00<00:00, 369.64it/s]\n"
     ]
    },
    {
     "name": "stdout",
     "output_type": "stream",
     "text": [
      "****** Processing ch05.align.txt\n"
     ]
    },
    {
     "name": "stderr",
     "output_type": "stream",
     "text": [
      "100%|██████████| 207/207 [00:00<00:00, 742.57it/s]\n"
     ]
    },
    {
     "name": "stdout",
     "output_type": "stream",
     "text": [
      "****** Processing ch06.align.txt\n"
     ]
    },
    {
     "name": "stderr",
     "output_type": "stream",
     "text": [
      "100%|██████████| 167/167 [00:00<00:00, 652.35it/s]\n"
     ]
    },
    {
     "name": "stdout",
     "output_type": "stream",
     "text": [
      "****** Processing ch07.align.txt\n"
     ]
    },
    {
     "name": "stderr",
     "output_type": "stream",
     "text": [
      "100%|██████████| 387/387 [00:00<00:00, 598.53it/s]\n"
     ]
    },
    {
     "name": "stdout",
     "output_type": "stream",
     "text": [
      "****** Processing ch08.align.txt\n"
     ]
    },
    {
     "name": "stderr",
     "output_type": "stream",
     "text": [
      "100%|██████████| 181/181 [00:00<00:00, 578.27it/s]\n"
     ]
    },
    {
     "name": "stdout",
     "output_type": "stream",
     "text": [
      "****** Processing ch09.align.txt\n"
     ]
    },
    {
     "name": "stderr",
     "output_type": "stream",
     "text": [
      "100%|██████████| 266/266 [00:00<00:00, 462.04it/s]\n"
     ]
    },
    {
     "name": "stdout",
     "output_type": "stream",
     "text": [
      "****** Processing ch10.align.txt\n"
     ]
    },
    {
     "name": "stderr",
     "output_type": "stream",
     "text": [
      "100%|██████████| 1180/1180 [00:01<00:00, 630.21it/s]\n"
     ]
    },
    {
     "name": "stdout",
     "output_type": "stream",
     "text": [
      "****** Processing ch11.align.txt\n"
     ]
    },
    {
     "name": "stderr",
     "output_type": "stream",
     "text": [
      "100%|██████████| 89/89 [00:00<00:00, 274.11it/s]\n"
     ]
    },
    {
     "name": "stdout",
     "output_type": "stream",
     "text": [
      "****** Processing ch12.align.txt\n"
     ]
    },
    {
     "name": "stderr",
     "output_type": "stream",
     "text": [
      "100%|██████████| 107/107 [00:00<00:00, 360.27it/s]\n"
     ]
    },
    {
     "name": "stdout",
     "output_type": "stream",
     "text": [
      "****** Processing ch13.align.txt\n"
     ]
    },
    {
     "name": "stderr",
     "output_type": "stream",
     "text": [
      "100%|██████████| 141/141 [00:00<00:00, 328.55it/s]\n"
     ]
    },
    {
     "name": "stdout",
     "output_type": "stream",
     "text": [
      "****** Processing ch14.align.txt\n"
     ]
    },
    {
     "name": "stderr",
     "output_type": "stream",
     "text": [
      "100%|██████████| 477/477 [00:00<00:00, 624.91it/s]\n"
     ]
    },
    {
     "name": "stdout",
     "output_type": "stream",
     "text": [
      "****** Processing ch15a.align.txt\n"
     ]
    },
    {
     "name": "stderr",
     "output_type": "stream",
     "text": [
      "100%|██████████| 719/719 [00:02<00:00, 356.55it/s]\n"
     ]
    },
    {
     "name": "stdout",
     "output_type": "stream",
     "text": [
      "****** Processing ch15b.align.txt\n"
     ]
    },
    {
     "name": "stderr",
     "output_type": "stream",
     "text": [
      "100%|██████████| 688/688 [00:01<00:00, 441.38it/s]\n"
     ]
    },
    {
     "name": "stdout",
     "output_type": "stream",
     "text": [
      "****** Processing ch16.align.txt\n"
     ]
    },
    {
     "name": "stderr",
     "output_type": "stream",
     "text": [
      "100%|██████████| 160/160 [00:00<00:00, 545.69it/s]\n"
     ]
    },
    {
     "name": "stdout",
     "output_type": "stream",
     "text": [
      "****** Processing ch17.align.txt\n"
     ]
    },
    {
     "name": "stderr",
     "output_type": "stream",
     "text": [
      "100%|██████████| 157/157 [00:00<00:00, 525.80it/s]\n"
     ]
    },
    {
     "name": "stdout",
     "output_type": "stream",
     "text": [
      "****** Processing ch18.align.txt\n"
     ]
    },
    {
     "name": "stderr",
     "output_type": "stream",
     "text": [
      "100%|██████████| 50/50 [00:00<00:00, 555.54it/s]\n"
     ]
    },
    {
     "name": "stdout",
     "output_type": "stream",
     "text": [
      "****** Processing ch19.align.txt\n"
     ]
    },
    {
     "name": "stderr",
     "output_type": "stream",
     "text": [
      "100%|██████████| 117/117 [00:00<00:00, 506.44it/s]\n"
     ]
    },
    {
     "name": "stdout",
     "output_type": "stream",
     "text": [
      "****** Processing ch20.align.txt\n"
     ]
    },
    {
     "name": "stderr",
     "output_type": "stream",
     "text": [
      "100%|██████████| 120/120 [00:00<00:00, 641.70it/s]\n"
     ]
    },
    {
     "name": "stdout",
     "output_type": "stream",
     "text": [
      "****** Processing ch21.align.txt\n"
     ]
    },
    {
     "name": "stderr",
     "output_type": "stream",
     "text": [
      "100%|██████████| 129/129 [00:00<00:00, 704.93it/s]\n"
     ]
    },
    {
     "name": "stdout",
     "output_type": "stream",
     "text": [
      "****** Processing ch22.align.txt\n"
     ]
    },
    {
     "name": "stderr",
     "output_type": "stream",
     "text": [
      "100%|██████████| 44/44 [00:00<00:00, 273.30it/s]\n"
     ]
    },
    {
     "name": "stdout",
     "output_type": "stream",
     "text": [
      "****** Processing ch23.align.txt\n"
     ]
    },
    {
     "name": "stderr",
     "output_type": "stream",
     "text": [
      "100%|██████████| 190/190 [00:00<00:00, 458.25it/s]\n"
     ]
    },
    {
     "name": "stdout",
     "output_type": "stream",
     "text": [
      "****** Processing ch24.align.txt\n"
     ]
    },
    {
     "name": "stderr",
     "output_type": "stream",
     "text": [
      "100%|██████████| 520/520 [00:00<00:00, 551.50it/s]\n"
     ]
    },
    {
     "name": "stdout",
     "output_type": "stream",
     "text": [
      "****** Processing ch25.align.txt\n"
     ]
    },
    {
     "name": "stderr",
     "output_type": "stream",
     "text": [
      "100%|██████████| 1516/1516 [00:02<00:00, 569.59it/s]\n"
     ]
    },
    {
     "name": "stdout",
     "output_type": "stream",
     "text": [
      "****** Processing ch26.align.txt\n"
     ]
    },
    {
     "name": "stderr",
     "output_type": "stream",
     "text": [
      "100%|██████████| 47/47 [00:00<00:00, 527.73it/s]\n"
     ]
    },
    {
     "name": "stdout",
     "output_type": "stream",
     "text": [
      "****** Processing ch27.align.txt\n"
     ]
    },
    {
     "name": "stderr",
     "output_type": "stream",
     "text": [
      "100%|██████████| 289/289 [00:00<00:00, 923.04it/s]\n"
     ]
    },
    {
     "name": "stdout",
     "output_type": "stream",
     "text": [
      "****** Processing ch28.align.txt\n"
     ]
    },
    {
     "name": "stderr",
     "output_type": "stream",
     "text": [
      "100%|██████████| 148/148 [00:00<00:00, 680.20it/s]\n"
     ]
    },
    {
     "name": "stdout",
     "output_type": "stream",
     "text": [
      "****** Processing ch29.align.txt\n"
     ]
    },
    {
     "name": "stderr",
     "output_type": "stream",
     "text": [
      "100%|██████████| 34/34 [00:00<00:00, 871.79it/s]\n"
     ]
    },
    {
     "name": "stdout",
     "output_type": "stream",
     "text": [
      "****** Processing ch30.align.txt\n"
     ]
    },
    {
     "name": "stderr",
     "output_type": "stream",
     "text": [
      "100%|██████████| 76/76 [00:00<00:00, 826.13it/s]\n"
     ]
    },
    {
     "name": "stdout",
     "output_type": "stream",
     "text": [
      "****** Processing ch31.align.txt\n"
     ]
    },
    {
     "name": "stderr",
     "output_type": "stream",
     "text": [
      "100%|██████████| 162/162 [00:00<00:00, 548.07it/s]\n"
     ]
    },
    {
     "name": "stdout",
     "output_type": "stream",
     "text": [
      "****** Processing ch32.align.txt\n"
     ]
    },
    {
     "name": "stderr",
     "output_type": "stream",
     "text": [
      "100%|██████████| 40/40 [00:00<00:00, 571.43it/s]\n"
     ]
    },
    {
     "name": "stdout",
     "output_type": "stream",
     "text": [
      "****** Processing ch33.align.txt\n"
     ]
    },
    {
     "name": "stderr",
     "output_type": "stream",
     "text": [
      "100%|██████████| 115/115 [00:00<00:00, 412.19it/s]\n"
     ]
    }
   ],
   "source": [
    "# Full run, over all chapters\n",
    "all_dfs = []\n",
    "for cur_ch_fpath in all_ch_fpaths:\n",
    "    cur_fname = os.path.basename(cur_ch_fpath)\n",
    "    print(f\"****** Processing {cur_fname}\")\n",
    "    if lang2 == \"kk\":\n",
    "        # Special case for Kazakh, since it wouldn't load the .csv\n",
    "        cur_df = pd.read_pickle(cur_ch_fpath)\n",
    "    else:\n",
    "        cur_df = load_chapter(cur_ch_fpath)\n",
    "    if lang2 == \"kk\":\n",
    "        cur_df.columns = [lang1, 'ru']\n",
    "    else:\n",
    "        cur_df.columns = [lang1,lang2,'alignment_id']\n",
    "    cur_df['chapter'] = ch_name\n",
    "    # Computation\n",
    "    cur_df['tmd'] = trglobals.compute_tmd_df(cur_df)\n",
    "    # Output current chapter file\n",
    "    ch_data_fpath = os.path.join(alignment_data_path, f\"{ch_name}.pkl\")\n",
    "    cur_df.to_pickle(ch_data_fpath)\n",
    "    #vprint(f\"Saved to {ch_data_fpath}\")\n",
    "    # And append to all_dfs\n",
    "    all_dfs.append(cur_df)"
   ]
  },
  {
   "cell_type": "code",
   "execution_count": 46,
   "metadata": {
    "pycharm": {
     "name": "#%%\n"
    }
   },
   "outputs": [],
   "source": [
    "full_df = pd.concat(all_dfs)"
   ]
  },
  {
   "cell_type": "code",
   "execution_count": 47,
   "metadata": {
    "pycharm": {
     "name": "#%%\n"
    }
   },
   "outputs": [
    {
     "data": {
      "text/plain": "                                                    de  \\\n0                                                  NaN   \n1    ERSTES KAPITEL Die Ware 1. Die zwei Faktoren d...   \n2    Unsere Untersuchung beginnt daher mit der Anal...   \n3    Die Ware ist zunachst ein ausserer Gegenstand,...   \n4    Die Natur dieser Bedurfnisse, ob sie z.B. dem ...   \n..                                                 ...   \n110  Die grosse Republik hat also aufgehort, das ge...   \n111  Die kapitalistische Produktion geht dort mit R...   \n112  Die von Wakefield selbst so laut denunzierte, ...   \n113  Jedoch beschaftigt uns hier nicht der Zustand ...   \n114  Was uns allein interessiert, ist das in der ne...   \n\n                                                    el  \\\n0                                      ΤΟ ΕΜΠΟΡΕΥΜΑ 1.   \n1    ΟΙ ΔΥΟ ΠΑΡΑΓΟΝΤΕΣ ΤΟΥ ΕΜΠΟΡΕΥΜΑΤΟΣ: ΑΞΙΑ ΧΡΗΣΗ...   \n2    Γιαυτό, ή Ερευνά μας αρχίζει μέ την άνάλυση το...   \n3    Τό έμπόρευμα είναι πριν άπ’ όλα ένα εξωτερικό ...   \n4    Ή φύση αυτών τών αναγκών, άν λχ. προέρχονται ά...   \n..                                                 ...   \n110  “Ετσι ή μεγάλη δημοκρατία έπαψε νά είναι ή γή ...   \n111  Ή κεφαλαιοκρατική παραγωγή προχωρεί έκεΐ μέ γι...   \n112  Τό έπαίσχυντο ξεπούλημα σέ έξευτελιστικές τιμέ...   \n113  Ωστόσο τό θέμα πού μάς άπασχολεΐ έδώ δέν είναι...   \n114  Τό μόνο πού μάς ένδιαφέρει έδώ είναι τό μυστικ...   \n\n                            alignment_id chapter       tmd  \n0    ch01_clean.de_tge-ch01_clean.el_mod    ch15       inf  \n1    ch01_clean.de_tge-ch01_clean.el_mod    ch15  0.963290  \n2    ch01_clean.de_tge-ch01_clean.el_mod    ch15  1.214450  \n3    ch01_clean.de_tge-ch01_clean.el_mod    ch15  1.084576  \n4    ch01_clean.de_tge-ch01_clean.el_mod    ch15  0.960944  \n..                                   ...     ...       ...  \n110  ch33_clean.de_tge-ch33_clean.el_mod    ch15  1.134638  \n111  ch33_clean.de_tge-ch33_clean.el_mod    ch15  1.125233  \n112  ch33_clean.de_tge-ch33_clean.el_mod    ch15  1.096947  \n113  ch33_clean.de_tge-ch33_clean.el_mod    ch15  1.027426  \n114  ch33_clean.de_tge-ch33_clean.el_mod    ch15  1.114969  \n\n[10608 rows x 5 columns]",
      "text/html": "<div>\n<style scoped>\n    .dataframe tbody tr th:only-of-type {\n        vertical-align: middle;\n    }\n\n    .dataframe tbody tr th {\n        vertical-align: top;\n    }\n\n    .dataframe thead th {\n        text-align: right;\n    }\n</style>\n<table border=\"1\" class=\"dataframe\">\n  <thead>\n    <tr style=\"text-align: right;\">\n      <th></th>\n      <th>de</th>\n      <th>el</th>\n      <th>alignment_id</th>\n      <th>chapter</th>\n      <th>tmd</th>\n    </tr>\n  </thead>\n  <tbody>\n    <tr>\n      <th>0</th>\n      <td>NaN</td>\n      <td>ΤΟ ΕΜΠΟΡΕΥΜΑ 1.</td>\n      <td>ch01_clean.de_tge-ch01_clean.el_mod</td>\n      <td>ch15</td>\n      <td>inf</td>\n    </tr>\n    <tr>\n      <th>1</th>\n      <td>ERSTES KAPITEL Die Ware 1. Die zwei Faktoren d...</td>\n      <td>ΟΙ ΔΥΟ ΠΑΡΑΓΟΝΤΕΣ ΤΟΥ ΕΜΠΟΡΕΥΜΑΤΟΣ: ΑΞΙΑ ΧΡΗΣΗ...</td>\n      <td>ch01_clean.de_tge-ch01_clean.el_mod</td>\n      <td>ch15</td>\n      <td>0.963290</td>\n    </tr>\n    <tr>\n      <th>2</th>\n      <td>Unsere Untersuchung beginnt daher mit der Anal...</td>\n      <td>Γιαυτό, ή Ερευνά μας αρχίζει μέ την άνάλυση το...</td>\n      <td>ch01_clean.de_tge-ch01_clean.el_mod</td>\n      <td>ch15</td>\n      <td>1.214450</td>\n    </tr>\n    <tr>\n      <th>3</th>\n      <td>Die Ware ist zunachst ein ausserer Gegenstand,...</td>\n      <td>Τό έμπόρευμα είναι πριν άπ’ όλα ένα εξωτερικό ...</td>\n      <td>ch01_clean.de_tge-ch01_clean.el_mod</td>\n      <td>ch15</td>\n      <td>1.084576</td>\n    </tr>\n    <tr>\n      <th>4</th>\n      <td>Die Natur dieser Bedurfnisse, ob sie z.B. dem ...</td>\n      <td>Ή φύση αυτών τών αναγκών, άν λχ. προέρχονται ά...</td>\n      <td>ch01_clean.de_tge-ch01_clean.el_mod</td>\n      <td>ch15</td>\n      <td>0.960944</td>\n    </tr>\n    <tr>\n      <th>...</th>\n      <td>...</td>\n      <td>...</td>\n      <td>...</td>\n      <td>...</td>\n      <td>...</td>\n    </tr>\n    <tr>\n      <th>110</th>\n      <td>Die grosse Republik hat also aufgehort, das ge...</td>\n      <td>“Ετσι ή μεγάλη δημοκρατία έπαψε νά είναι ή γή ...</td>\n      <td>ch33_clean.de_tge-ch33_clean.el_mod</td>\n      <td>ch15</td>\n      <td>1.134638</td>\n    </tr>\n    <tr>\n      <th>111</th>\n      <td>Die kapitalistische Produktion geht dort mit R...</td>\n      <td>Ή κεφαλαιοκρατική παραγωγή προχωρεί έκεΐ μέ γι...</td>\n      <td>ch33_clean.de_tge-ch33_clean.el_mod</td>\n      <td>ch15</td>\n      <td>1.125233</td>\n    </tr>\n    <tr>\n      <th>112</th>\n      <td>Die von Wakefield selbst so laut denunzierte, ...</td>\n      <td>Τό έπαίσχυντο ξεπούλημα σέ έξευτελιστικές τιμέ...</td>\n      <td>ch33_clean.de_tge-ch33_clean.el_mod</td>\n      <td>ch15</td>\n      <td>1.096947</td>\n    </tr>\n    <tr>\n      <th>113</th>\n      <td>Jedoch beschaftigt uns hier nicht der Zustand ...</td>\n      <td>Ωστόσο τό θέμα πού μάς άπασχολεΐ έδώ δέν είναι...</td>\n      <td>ch33_clean.de_tge-ch33_clean.el_mod</td>\n      <td>ch15</td>\n      <td>1.027426</td>\n    </tr>\n    <tr>\n      <th>114</th>\n      <td>Was uns allein interessiert, ist das in der ne...</td>\n      <td>Τό μόνο πού μάς ένδιαφέρει έδώ είναι τό μυστικ...</td>\n      <td>ch33_clean.de_tge-ch33_clean.el_mod</td>\n      <td>ch15</td>\n      <td>1.114969</td>\n    </tr>\n  </tbody>\n</table>\n<p>10608 rows × 5 columns</p>\n</div>"
     },
     "execution_count": 47,
     "metadata": {},
     "output_type": "execute_result"
    }
   ],
   "source": [
    "full_df"
   ]
  },
  {
   "cell_type": "code",
   "execution_count": 49,
   "outputs": [
    {
     "data": {
      "text/plain": "inf"
     },
     "execution_count": 49,
     "metadata": {},
     "output_type": "execute_result"
    }
   ],
   "source": [
    "full_df['tmd'].mean()"
   ],
   "metadata": {
    "collapsed": false,
    "pycharm": {
     "name": "#%%\n"
    }
   }
  },
  {
   "cell_type": "code",
   "execution_count": 50,
   "outputs": [
    {
     "data": {
      "text/plain": "1.1669852750570167"
     },
     "execution_count": 50,
     "metadata": {},
     "output_type": "execute_result"
    }
   ],
   "source": [
    "trglobals.noninf_mean(full_df, 'tmd')"
   ],
   "metadata": {
    "collapsed": false,
    "pycharm": {
     "name": "#%%\n"
    }
   }
  },
  {
   "cell_type": "code",
   "execution_count": 51,
   "metadata": {
    "pycharm": {
     "name": "#%%\n"
    }
   },
   "outputs": [
    {
     "name": "stdout",
     "output_type": "stream",
     "text": [
      "Saved to ..\\data_tmd\\de_tge.el_mod\\full.pkl\n"
     ]
    }
   ],
   "source": [
    "full_fpath = os.path.join(alignment_data_path, \"full.pkl\")\n",
    "full_df.to_pickle(full_fpath)\n",
    "vprint(f\"Saved to {full_fpath}\")"
   ]
  },
  {
   "cell_type": "code",
   "execution_count": 48,
   "outputs": [],
   "source": [],
   "metadata": {
    "collapsed": false,
    "pycharm": {
     "name": "#%%\n"
    }
   }
  },
  {
   "cell_type": "code",
   "execution_count": 48,
   "outputs": [],
   "source": [],
   "metadata": {
    "collapsed": false,
    "pycharm": {
     "name": "#%%\n"
    }
   }
  },
  {
   "cell_type": "code",
   "execution_count": null,
   "outputs": [],
   "source": [],
   "metadata": {
    "collapsed": false,
    "pycharm": {
     "name": "#%%\n"
    }
   }
  }
 ],
 "metadata": {
  "kernelspec": {
   "display_name": "Python 3 (ipykernel)",
   "language": "python",
   "name": "python3"
  },
  "language_info": {
   "codemirror_mode": {
    "name": "ipython",
    "version": 3
   },
   "file_extension": ".py",
   "mimetype": "text/x-python",
   "name": "python",
   "nbconvert_exporter": "python",
   "pygments_lexer": "ipython3",
   "version": "3.10.4"
  }
 },
 "nbformat": 4,
 "nbformat_minor": 1
}