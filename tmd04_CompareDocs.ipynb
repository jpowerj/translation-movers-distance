{
 "cells": [
  {
   "cell_type": "markdown",
   "metadata": {
    "collapsed": true,
    "pycharm": {
     "name": "#%% md\n"
    }
   },
   "source": [
    "### Compare the TMDs of the different translations"
   ]
  },
  {
   "cell_type": "code",
   "execution_count": 1,
   "outputs": [],
   "source": [
    "import glob\n",
    "import os\n",
    "\n",
    "import joblib\n",
    "import pandas as pd"
   ],
   "metadata": {
    "collapsed": false,
    "pycharm": {
     "name": "#%%\n"
    }
   }
  },
  {
   "cell_type": "code",
   "execution_count": 2,
   "outputs": [],
   "source": [
    "result_fpaths = glob.glob(\"../Output/*.pkl\")"
   ],
   "metadata": {
    "collapsed": false,
    "pycharm": {
     "name": "#%%\n"
    }
   }
  },
  {
   "cell_type": "code",
   "execution_count": 3,
   "outputs": [],
   "source": [
    "all_dfs = []\n",
    "for cur_fpath in result_fpaths:\n",
    "    cur_df = pd.read_pickle(cur_fpath)\n",
    "    cur_df['fname'] = os.path.basename(cur_fpath)\n",
    "    all_dfs.append(cur_df)"
   ],
   "metadata": {
    "collapsed": false,
    "pycharm": {
     "name": "#%%\n"
    }
   }
  },
  {
   "cell_type": "code",
   "execution_count": 4,
   "outputs": [],
   "source": [
    "full_df = pd.concat(all_dfs)"
   ],
   "metadata": {
    "collapsed": false,
    "pycharm": {
     "name": "#%%\n"
    }
   }
  },
  {
   "cell_type": "code",
   "execution_count": 5,
   "outputs": [],
   "source": [
    "full_df.reset_index(inplace=True)"
   ],
   "metadata": {
    "collapsed": false,
    "pycharm": {
     "name": "#%%\n"
    }
   }
  },
  {
   "cell_type": "code",
   "execution_count": 6,
   "outputs": [],
   "source": [
    "# Get just the id of the text that was aligned to de_tge\n",
    "full_df['tr_id'] = full_df['fname'].apply(lambda x: x.split(\".\")[1])\n",
    "# And now we can drop the fname\n",
    "full_df.drop(columns=['fname'], inplace=True)"
   ],
   "metadata": {
    "collapsed": false,
    "pycharm": {
     "name": "#%%\n"
    }
   }
  },
  {
   "cell_type": "code",
   "execution_count": 7,
   "outputs": [
    {
     "data": {
      "text/plain": "    chapter         wmd  sent_count      mean       tr_id\n0      ch01  706.839041         625  1.130942  en_aveling\n1      ch02  135.896160         119  1.141985  en_aveling\n2      ch03  707.765809         621  1.139719  en_aveling\n3      ch04  435.702259         367  1.187200  en_aveling\n4      ch05  163.993952         147  1.115605  en_aveling\n..      ...         ...         ...       ...         ...\n127    ch29   27.889255          23  1.212576     zh_morg\n128    ch30   52.724204          46  1.146178     zh_morg\n129    ch31  169.871628         145  1.171528     zh_morg\n130    ch32   41.497848          36  1.152718     zh_morg\n131    ch33  129.273704         113  1.144015     zh_morg\n\n[132 rows x 5 columns]",
      "text/html": "<div>\n<style scoped>\n    .dataframe tbody tr th:only-of-type {\n        vertical-align: middle;\n    }\n\n    .dataframe tbody tr th {\n        vertical-align: top;\n    }\n\n    .dataframe thead th {\n        text-align: right;\n    }\n</style>\n<table border=\"1\" class=\"dataframe\">\n  <thead>\n    <tr style=\"text-align: right;\">\n      <th></th>\n      <th>chapter</th>\n      <th>wmd</th>\n      <th>sent_count</th>\n      <th>mean</th>\n      <th>tr_id</th>\n    </tr>\n  </thead>\n  <tbody>\n    <tr>\n      <th>0</th>\n      <td>ch01</td>\n      <td>706.839041</td>\n      <td>625</td>\n      <td>1.130942</td>\n      <td>en_aveling</td>\n    </tr>\n    <tr>\n      <th>1</th>\n      <td>ch02</td>\n      <td>135.896160</td>\n      <td>119</td>\n      <td>1.141985</td>\n      <td>en_aveling</td>\n    </tr>\n    <tr>\n      <th>2</th>\n      <td>ch03</td>\n      <td>707.765809</td>\n      <td>621</td>\n      <td>1.139719</td>\n      <td>en_aveling</td>\n    </tr>\n    <tr>\n      <th>3</th>\n      <td>ch04</td>\n      <td>435.702259</td>\n      <td>367</td>\n      <td>1.187200</td>\n      <td>en_aveling</td>\n    </tr>\n    <tr>\n      <th>4</th>\n      <td>ch05</td>\n      <td>163.993952</td>\n      <td>147</td>\n      <td>1.115605</td>\n      <td>en_aveling</td>\n    </tr>\n    <tr>\n      <th>...</th>\n      <td>...</td>\n      <td>...</td>\n      <td>...</td>\n      <td>...</td>\n      <td>...</td>\n    </tr>\n    <tr>\n      <th>127</th>\n      <td>ch29</td>\n      <td>27.889255</td>\n      <td>23</td>\n      <td>1.212576</td>\n      <td>zh_morg</td>\n    </tr>\n    <tr>\n      <th>128</th>\n      <td>ch30</td>\n      <td>52.724204</td>\n      <td>46</td>\n      <td>1.146178</td>\n      <td>zh_morg</td>\n    </tr>\n    <tr>\n      <th>129</th>\n      <td>ch31</td>\n      <td>169.871628</td>\n      <td>145</td>\n      <td>1.171528</td>\n      <td>zh_morg</td>\n    </tr>\n    <tr>\n      <th>130</th>\n      <td>ch32</td>\n      <td>41.497848</td>\n      <td>36</td>\n      <td>1.152718</td>\n      <td>zh_morg</td>\n    </tr>\n    <tr>\n      <th>131</th>\n      <td>ch33</td>\n      <td>129.273704</td>\n      <td>113</td>\n      <td>1.144015</td>\n      <td>zh_morg</td>\n    </tr>\n  </tbody>\n</table>\n<p>132 rows × 5 columns</p>\n</div>"
     },
     "execution_count": 7,
     "metadata": {},
     "output_type": "execute_result"
    }
   ],
   "source": [
    "full_df"
   ],
   "metadata": {
    "collapsed": false,
    "pycharm": {
     "name": "#%%\n"
    }
   }
  },
  {
   "cell_type": "code",
   "execution_count": 8,
   "outputs": [
    {
     "data": {
      "text/plain": "    chapter         wmd  sent_count      mean       tr_id\n0      ch01  706.839041         625  1.130942  en_aveling\n1      ch02  135.896160         119  1.141985  en_aveling\n2      ch03  707.765809         621  1.139719  en_aveling\n3      ch04  435.702259         367  1.187200  en_aveling\n4      ch05  163.993952         147  1.115605  en_aveling\n..      ...         ...         ...       ...         ...\n127    ch29   27.889255          23  1.212576     zh_morg\n128    ch30   52.724204          46  1.146178     zh_morg\n129    ch31  169.871628         145  1.171528     zh_morg\n130    ch32   41.497848          36  1.152718     zh_morg\n131    ch33  129.273704         113  1.144015     zh_morg\n\n[132 rows x 5 columns]",
      "text/html": "<div>\n<style scoped>\n    .dataframe tbody tr th:only-of-type {\n        vertical-align: middle;\n    }\n\n    .dataframe tbody tr th {\n        vertical-align: top;\n    }\n\n    .dataframe thead th {\n        text-align: right;\n    }\n</style>\n<table border=\"1\" class=\"dataframe\">\n  <thead>\n    <tr style=\"text-align: right;\">\n      <th></th>\n      <th>chapter</th>\n      <th>wmd</th>\n      <th>sent_count</th>\n      <th>mean</th>\n      <th>tr_id</th>\n    </tr>\n  </thead>\n  <tbody>\n    <tr>\n      <th>0</th>\n      <td>ch01</td>\n      <td>706.839041</td>\n      <td>625</td>\n      <td>1.130942</td>\n      <td>en_aveling</td>\n    </tr>\n    <tr>\n      <th>1</th>\n      <td>ch02</td>\n      <td>135.896160</td>\n      <td>119</td>\n      <td>1.141985</td>\n      <td>en_aveling</td>\n    </tr>\n    <tr>\n      <th>2</th>\n      <td>ch03</td>\n      <td>707.765809</td>\n      <td>621</td>\n      <td>1.139719</td>\n      <td>en_aveling</td>\n    </tr>\n    <tr>\n      <th>3</th>\n      <td>ch04</td>\n      <td>435.702259</td>\n      <td>367</td>\n      <td>1.187200</td>\n      <td>en_aveling</td>\n    </tr>\n    <tr>\n      <th>4</th>\n      <td>ch05</td>\n      <td>163.993952</td>\n      <td>147</td>\n      <td>1.115605</td>\n      <td>en_aveling</td>\n    </tr>\n    <tr>\n      <th>...</th>\n      <td>...</td>\n      <td>...</td>\n      <td>...</td>\n      <td>...</td>\n      <td>...</td>\n    </tr>\n    <tr>\n      <th>127</th>\n      <td>ch29</td>\n      <td>27.889255</td>\n      <td>23</td>\n      <td>1.212576</td>\n      <td>zh_morg</td>\n    </tr>\n    <tr>\n      <th>128</th>\n      <td>ch30</td>\n      <td>52.724204</td>\n      <td>46</td>\n      <td>1.146178</td>\n      <td>zh_morg</td>\n    </tr>\n    <tr>\n      <th>129</th>\n      <td>ch31</td>\n      <td>169.871628</td>\n      <td>145</td>\n      <td>1.171528</td>\n      <td>zh_morg</td>\n    </tr>\n    <tr>\n      <th>130</th>\n      <td>ch32</td>\n      <td>41.497848</td>\n      <td>36</td>\n      <td>1.152718</td>\n      <td>zh_morg</td>\n    </tr>\n    <tr>\n      <th>131</th>\n      <td>ch33</td>\n      <td>129.273704</td>\n      <td>113</td>\n      <td>1.144015</td>\n      <td>zh_morg</td>\n    </tr>\n  </tbody>\n</table>\n<p>132 rows × 5 columns</p>\n</div>"
     },
     "execution_count": 8,
     "metadata": {},
     "output_type": "execute_result"
    }
   ],
   "source": [
    "full_df"
   ],
   "metadata": {
    "collapsed": false,
    "pycharm": {
     "name": "#%%\n"
    }
   }
  },
  {
   "cell_type": "code",
   "execution_count": 8,
   "outputs": [],
   "source": [],
   "metadata": {
    "collapsed": false,
    "pycharm": {
     "name": "#%%\n"
    }
   }
  },
  {
   "cell_type": "markdown",
   "source": [
    "Here we transform to the chapter-by-chapter comparison format"
   ],
   "metadata": {
    "collapsed": false,
    "pycharm": {
     "name": "#%% md\n"
    }
   }
  },
  {
   "cell_type": "code",
   "execution_count": 9,
   "outputs": [],
   "source": [
    "tmd_df = full_df.pivot(index='chapter', columns=['tr_id'], values='mean')"
   ],
   "metadata": {
    "collapsed": false,
    "pycharm": {
     "name": "#%%\n"
    }
   }
  },
  {
   "cell_type": "code",
   "execution_count": 10,
   "outputs": [
    {
     "data": {
      "text/plain": "tr_id    en_aveling  en_fowkes   ru_morg   zh_morg\nchapter                                           \nch01       1.130942   1.121407  0.957840  1.170668\nch02       1.141985   1.118698  0.977748  1.167632\nch03       1.139719   1.123041  0.969497  1.164737\nch04       1.187200   1.191923  0.999243  1.246643\nch05       1.115605   1.097023  0.955909  1.169268\nch06       1.124971   1.114503  0.966722  1.146865\nch07       1.127856   1.111027  0.947608  1.158669\nch08       1.106068   1.100187  0.946214  1.151963\nch09       1.132576   1.125736  0.966237  1.182677\nch10       1.130184   1.119115  0.956786  1.159360\nch11       1.129417   1.118735  0.934343  1.147052\nch12       1.119759   1.114731  0.976904  1.135137\nch13       1.133496   1.124278  0.947281  1.125633\nch14       1.140083   1.135690  0.972062  1.167264\nch15       1.137685   1.130605  0.969198  1.152488\nch16       1.119999   1.113845  0.969475  1.147006\nch17       1.142537   1.140321  0.997525  1.133147\nch18       1.116274   1.094208  0.962583  1.121515\nch19       1.081123   1.084464  0.943406  1.137929\nch20       1.118602   1.105400  0.980661  1.133666\nch21       1.109369   1.124434  0.999119  1.110930\nch22       1.082309   1.129885  0.973507  1.129284\nch23       1.126540   1.114451  0.971221  1.151486\nch24       1.114289   1.110253  0.956368  1.147624\nch25       1.136497   1.132666  0.970888  1.169298\nch26       1.115042   1.111089  0.955638  1.142694\nch27       1.144162   1.137623  0.990888  1.178459\nch28       1.148176   1.132296  0.962583  1.137812\nch29       1.162780   1.151871  0.984199  1.212576\nch30       1.099195   1.088090  0.952318  1.146178\nch31       1.144545   1.136635  0.981848  1.171528\nch32       1.154949   1.156598  0.977907  1.152718\nch33       1.124104   1.113116  0.936453  1.144015",
      "text/html": "<div>\n<style scoped>\n    .dataframe tbody tr th:only-of-type {\n        vertical-align: middle;\n    }\n\n    .dataframe tbody tr th {\n        vertical-align: top;\n    }\n\n    .dataframe thead th {\n        text-align: right;\n    }\n</style>\n<table border=\"1\" class=\"dataframe\">\n  <thead>\n    <tr style=\"text-align: right;\">\n      <th>tr_id</th>\n      <th>en_aveling</th>\n      <th>en_fowkes</th>\n      <th>ru_morg</th>\n      <th>zh_morg</th>\n    </tr>\n    <tr>\n      <th>chapter</th>\n      <th></th>\n      <th></th>\n      <th></th>\n      <th></th>\n    </tr>\n  </thead>\n  <tbody>\n    <tr>\n      <th>ch01</th>\n      <td>1.130942</td>\n      <td>1.121407</td>\n      <td>0.957840</td>\n      <td>1.170668</td>\n    </tr>\n    <tr>\n      <th>ch02</th>\n      <td>1.141985</td>\n      <td>1.118698</td>\n      <td>0.977748</td>\n      <td>1.167632</td>\n    </tr>\n    <tr>\n      <th>ch03</th>\n      <td>1.139719</td>\n      <td>1.123041</td>\n      <td>0.969497</td>\n      <td>1.164737</td>\n    </tr>\n    <tr>\n      <th>ch04</th>\n      <td>1.187200</td>\n      <td>1.191923</td>\n      <td>0.999243</td>\n      <td>1.246643</td>\n    </tr>\n    <tr>\n      <th>ch05</th>\n      <td>1.115605</td>\n      <td>1.097023</td>\n      <td>0.955909</td>\n      <td>1.169268</td>\n    </tr>\n    <tr>\n      <th>ch06</th>\n      <td>1.124971</td>\n      <td>1.114503</td>\n      <td>0.966722</td>\n      <td>1.146865</td>\n    </tr>\n    <tr>\n      <th>ch07</th>\n      <td>1.127856</td>\n      <td>1.111027</td>\n      <td>0.947608</td>\n      <td>1.158669</td>\n    </tr>\n    <tr>\n      <th>ch08</th>\n      <td>1.106068</td>\n      <td>1.100187</td>\n      <td>0.946214</td>\n      <td>1.151963</td>\n    </tr>\n    <tr>\n      <th>ch09</th>\n      <td>1.132576</td>\n      <td>1.125736</td>\n      <td>0.966237</td>\n      <td>1.182677</td>\n    </tr>\n    <tr>\n      <th>ch10</th>\n      <td>1.130184</td>\n      <td>1.119115</td>\n      <td>0.956786</td>\n      <td>1.159360</td>\n    </tr>\n    <tr>\n      <th>ch11</th>\n      <td>1.129417</td>\n      <td>1.118735</td>\n      <td>0.934343</td>\n      <td>1.147052</td>\n    </tr>\n    <tr>\n      <th>ch12</th>\n      <td>1.119759</td>\n      <td>1.114731</td>\n      <td>0.976904</td>\n      <td>1.135137</td>\n    </tr>\n    <tr>\n      <th>ch13</th>\n      <td>1.133496</td>\n      <td>1.124278</td>\n      <td>0.947281</td>\n      <td>1.125633</td>\n    </tr>\n    <tr>\n      <th>ch14</th>\n      <td>1.140083</td>\n      <td>1.135690</td>\n      <td>0.972062</td>\n      <td>1.167264</td>\n    </tr>\n    <tr>\n      <th>ch15</th>\n      <td>1.137685</td>\n      <td>1.130605</td>\n      <td>0.969198</td>\n      <td>1.152488</td>\n    </tr>\n    <tr>\n      <th>ch16</th>\n      <td>1.119999</td>\n      <td>1.113845</td>\n      <td>0.969475</td>\n      <td>1.147006</td>\n    </tr>\n    <tr>\n      <th>ch17</th>\n      <td>1.142537</td>\n      <td>1.140321</td>\n      <td>0.997525</td>\n      <td>1.133147</td>\n    </tr>\n    <tr>\n      <th>ch18</th>\n      <td>1.116274</td>\n      <td>1.094208</td>\n      <td>0.962583</td>\n      <td>1.121515</td>\n    </tr>\n    <tr>\n      <th>ch19</th>\n      <td>1.081123</td>\n      <td>1.084464</td>\n      <td>0.943406</td>\n      <td>1.137929</td>\n    </tr>\n    <tr>\n      <th>ch20</th>\n      <td>1.118602</td>\n      <td>1.105400</td>\n      <td>0.980661</td>\n      <td>1.133666</td>\n    </tr>\n    <tr>\n      <th>ch21</th>\n      <td>1.109369</td>\n      <td>1.124434</td>\n      <td>0.999119</td>\n      <td>1.110930</td>\n    </tr>\n    <tr>\n      <th>ch22</th>\n      <td>1.082309</td>\n      <td>1.129885</td>\n      <td>0.973507</td>\n      <td>1.129284</td>\n    </tr>\n    <tr>\n      <th>ch23</th>\n      <td>1.126540</td>\n      <td>1.114451</td>\n      <td>0.971221</td>\n      <td>1.151486</td>\n    </tr>\n    <tr>\n      <th>ch24</th>\n      <td>1.114289</td>\n      <td>1.110253</td>\n      <td>0.956368</td>\n      <td>1.147624</td>\n    </tr>\n    <tr>\n      <th>ch25</th>\n      <td>1.136497</td>\n      <td>1.132666</td>\n      <td>0.970888</td>\n      <td>1.169298</td>\n    </tr>\n    <tr>\n      <th>ch26</th>\n      <td>1.115042</td>\n      <td>1.111089</td>\n      <td>0.955638</td>\n      <td>1.142694</td>\n    </tr>\n    <tr>\n      <th>ch27</th>\n      <td>1.144162</td>\n      <td>1.137623</td>\n      <td>0.990888</td>\n      <td>1.178459</td>\n    </tr>\n    <tr>\n      <th>ch28</th>\n      <td>1.148176</td>\n      <td>1.132296</td>\n      <td>0.962583</td>\n      <td>1.137812</td>\n    </tr>\n    <tr>\n      <th>ch29</th>\n      <td>1.162780</td>\n      <td>1.151871</td>\n      <td>0.984199</td>\n      <td>1.212576</td>\n    </tr>\n    <tr>\n      <th>ch30</th>\n      <td>1.099195</td>\n      <td>1.088090</td>\n      <td>0.952318</td>\n      <td>1.146178</td>\n    </tr>\n    <tr>\n      <th>ch31</th>\n      <td>1.144545</td>\n      <td>1.136635</td>\n      <td>0.981848</td>\n      <td>1.171528</td>\n    </tr>\n    <tr>\n      <th>ch32</th>\n      <td>1.154949</td>\n      <td>1.156598</td>\n      <td>0.977907</td>\n      <td>1.152718</td>\n    </tr>\n    <tr>\n      <th>ch33</th>\n      <td>1.124104</td>\n      <td>1.113116</td>\n      <td>0.936453</td>\n      <td>1.144015</td>\n    </tr>\n  </tbody>\n</table>\n</div>"
     },
     "execution_count": 10,
     "metadata": {},
     "output_type": "execute_result"
    }
   ],
   "source": [
    "tmd_df"
   ],
   "metadata": {
    "collapsed": false,
    "pycharm": {
     "name": "#%%\n"
    }
   }
  },
  {
   "cell_type": "code",
   "execution_count": 16,
   "outputs": [
    {
     "data": {
      "text/plain": "tr_id\nen_aveling    1.128425\nen_fowkes     1.121938\nru_morg       0.966975\nzh_morg       1.154967\ndtype: float64"
     },
     "execution_count": 16,
     "metadata": {},
     "output_type": "execute_result"
    }
   ],
   "source": [
    "tmd_df.mean(axis=0)"
   ],
   "metadata": {
    "collapsed": false,
    "pycharm": {
     "name": "#%%\n"
    }
   }
  },
  {
   "cell_type": "code",
   "execution_count": 12,
   "outputs": [
    {
     "data": {
      "text/plain": "<AxesSubplot:xlabel='chapter'>"
     },
     "execution_count": 12,
     "metadata": {},
     "output_type": "execute_result"
    },
    {
     "data": {
      "text/plain": "<Figure size 792x576 with 1 Axes>",
      "image/png": "[encoded data removed]"
     },
     "metadata": {
      "needs_background": "light"
     },
     "output_type": "display_data"
    }
   ],
   "source": [
    "tmd_df.plot(kind='bar', figsize=(11,8)) #, legend=None)"
   ],
   "metadata": {
    "collapsed": false,
    "pycharm": {
     "name": "#%%\n"
    }
   }
  },
  {
   "cell_type": "code",
   "execution_count": 28,
   "outputs": [],
   "source": [
    "pa_chs = ['ch26','ch27','ch28','ch29','ch30','ch31','ch32','ch33']"
   ],
   "metadata": {
    "collapsed": false,
    "pycharm": {
     "name": "#%%\n"
    }
   }
  },
  {
   "cell_type": "code",
   "execution_count": 29,
   "outputs": [],
   "source": [
    "pa_df = tmd_df.loc[pa_chs].copy()"
   ],
   "metadata": {
    "collapsed": false,
    "pycharm": {
     "name": "#%%\n"
    }
   }
  },
  {
   "cell_type": "code",
   "execution_count": 32,
   "outputs": [],
   "source": [
    "npa_df = tmd_df.loc[[ch for ch in tmd_df.index if ch not in pa_chs]].copy()"
   ],
   "metadata": {
    "collapsed": false,
    "pycharm": {
     "name": "#%%\n"
    }
   }
  },
  {
   "cell_type": "code",
   "execution_count": 36,
   "outputs": [
    {
     "data": {
      "text/plain": "tr_id\nen_aveling    1.136619\nen_fowkes     1.128415\nzh_morg       1.160748\ndtype: float64"
     },
     "execution_count": 36,
     "metadata": {},
     "output_type": "execute_result"
    }
   ],
   "source": [
    "pa_df.mean()"
   ],
   "metadata": {
    "collapsed": false,
    "pycharm": {
     "name": "#%%\n"
    }
   }
  },
  {
   "cell_type": "code",
   "execution_count": 35,
   "outputs": [
    {
     "data": {
      "text/plain": "tr_id\nen_aveling    1.125803\nen_fowkes     1.119865\nzh_morg       1.153118\ndtype: float64"
     },
     "execution_count": 35,
     "metadata": {},
     "output_type": "execute_result"
    }
   ],
   "source": [
    "npa_df.mean()"
   ],
   "metadata": {
    "collapsed": false,
    "pycharm": {
     "name": "#%%\n"
    }
   }
  },
  {
   "cell_type": "code",
   "execution_count": 37,
   "outputs": [
    {
     "data": {
      "text/plain": "tr_id\nen_aveling    1.009607\nen_fowkes     1.007634\nzh_morg       1.006617\ndtype: float64"
     },
     "execution_count": 37,
     "metadata": {},
     "output_type": "execute_result"
    }
   ],
   "source": [
    "pa_df.mean() / npa_df.mean()"
   ],
   "metadata": {
    "collapsed": false,
    "pycharm": {
     "name": "#%%\n"
    }
   }
  },
  {
   "cell_type": "code",
   "execution_count": 33,
   "outputs": [
    {
     "data": {
      "text/plain": "<AxesSubplot:xlabel='chapter'>"
     },
     "execution_count": 33,
     "metadata": {},
     "output_type": "execute_result"
    },
    {
     "data": {
      "text/plain": "<Figure size 792x576 with 1 Axes>",
      "image/png": "[encoded data removed]"
     },
     "metadata": {
      "needs_background": "light"
     },
     "output_type": "display_data"
    }
   ],
   "source": [
    "pa_df.plot(kind='bar', figsize=(11,8), legend=None)"
   ],
   "metadata": {
    "collapsed": false,
    "pycharm": {
     "name": "#%%\n"
    }
   }
  },
  {
   "cell_type": "code",
   "execution_count": 23,
   "outputs": [
    {
     "data": {
      "text/plain": "tr_id\nen_aveling    1.128425\nen_fowkes     1.121938\nzh_morg       1.154967\ndtype: float64"
     },
     "execution_count": 23,
     "metadata": {},
     "output_type": "execute_result"
    }
   ],
   "source": [
    "tmd_df.mean()"
   ],
   "metadata": {
    "collapsed": false,
    "pycharm": {
     "name": "#%%\n"
    }
   }
  },
  {
   "cell_type": "code",
   "execution_count": 11,
   "outputs": [
    {
     "data": {
      "text/plain": "tr_id\nen_aveling    322.566802\nen_fowkes     329.974969\nzh_morg       373.091260\nName: ch07, dtype: float64"
     },
     "execution_count": 11,
     "metadata": {},
     "output_type": "execute_result"
    }
   ],
   "source": [
    "tmd_df.loc['ch07',]"
   ],
   "metadata": {
    "collapsed": false,
    "pycharm": {
     "name": "#%%\n"
    }
   }
  },
  {
   "cell_type": "code",
   "execution_count": 12,
   "outputs": [
    {
     "data": {
      "text/plain": "tr_id     en_aveling    en_fowkes      zh_morg\nchapter                                       \nch01      706.839041   693.029663   742.203475\nch02      135.896160   124.175460   135.445345\nch03      707.765809   680.562856   715.148235\nch04      435.702259   443.395434   467.490994\nch05      163.993952   153.583162   178.898005\nch06      133.871562   133.740309   143.358178\nch07      322.566802   329.974969   373.091260\nch08      159.273772   163.927924   172.794524\nch09      242.371257   249.913451   261.371512\nch10      865.721227   808.001165   871.838712\nch11      106.165208   104.042342   107.822892\nch12      118.694425   120.390984   121.459662\nch13      163.223374   154.026039   156.463002\nch14      357.986097   345.249896   364.186520\nch15     1597.309582  1476.570178  1548.943908\nch16      148.959895   147.027532   152.551826\nch17      164.525383   166.486835   152.974877\nch18       43.534677    40.485696    42.617584\nch19      103.787825   104.108592   110.379157\nch20       93.962550    87.326620    95.227984\nch21       77.655859    80.959266    81.097868\nch22       45.456965    65.533342    51.947049\nch23      175.740306   163.824309   177.328771\nch24      407.829614   395.250214   425.768327\nch25     1320.609666  1170.044475  1279.212088\nch26       52.406975    53.332250    53.706629\nch27      188.786674   160.404829   179.125702\nch28      112.521222   108.700440   110.367775\nch29       27.906710    26.493031    27.889255\nch30       53.860569    48.964050    52.724204\nch31      157.947239   151.172439   169.871628\nch32       41.578150    40.480915    41.497848\nch33      133.768334   120.216570   129.273704",
      "text/html": "<div>\n<style scoped>\n    .dataframe tbody tr th:only-of-type {\n        vertical-align: middle;\n    }\n\n    .dataframe tbody tr th {\n        vertical-align: top;\n    }\n\n    .dataframe thead th {\n        text-align: right;\n    }\n</style>\n<table border=\"1\" class=\"dataframe\">\n  <thead>\n    <tr style=\"text-align: right;\">\n      <th>tr_id</th>\n      <th>en_aveling</th>\n      <th>en_fowkes</th>\n      <th>zh_morg</th>\n    </tr>\n    <tr>\n      <th>chapter</th>\n      <th></th>\n      <th></th>\n      <th></th>\n    </tr>\n  </thead>\n  <tbody>\n    <tr>\n      <th>ch01</th>\n      <td>706.839041</td>\n      <td>693.029663</td>\n      <td>742.203475</td>\n    </tr>\n    <tr>\n      <th>ch02</th>\n      <td>135.896160</td>\n      <td>124.175460</td>\n      <td>135.445345</td>\n    </tr>\n    <tr>\n      <th>ch03</th>\n      <td>707.765809</td>\n      <td>680.562856</td>\n      <td>715.148235</td>\n    </tr>\n    <tr>\n      <th>ch04</th>\n      <td>435.702259</td>\n      <td>443.395434</td>\n      <td>467.490994</td>\n    </tr>\n    <tr>\n      <th>ch05</th>\n      <td>163.993952</td>\n      <td>153.583162</td>\n      <td>178.898005</td>\n    </tr>\n    <tr>\n      <th>ch06</th>\n      <td>133.871562</td>\n      <td>133.740309</td>\n      <td>143.358178</td>\n    </tr>\n    <tr>\n      <th>ch07</th>\n      <td>322.566802</td>\n      <td>329.974969</td>\n      <td>373.091260</td>\n    </tr>\n    <tr>\n      <th>ch08</th>\n      <td>159.273772</td>\n      <td>163.927924</td>\n      <td>172.794524</td>\n    </tr>\n    <tr>\n      <th>ch09</th>\n      <td>242.371257</td>\n      <td>249.913451</td>\n      <td>261.371512</td>\n    </tr>\n    <tr>\n      <th>ch10</th>\n      <td>865.721227</td>\n      <td>808.001165</td>\n      <td>871.838712</td>\n    </tr>\n    <tr>\n      <th>ch11</th>\n      <td>106.165208</td>\n      <td>104.042342</td>\n      <td>107.822892</td>\n    </tr>\n    <tr>\n      <th>ch12</th>\n      <td>118.694425</td>\n      <td>120.390984</td>\n      <td>121.459662</td>\n    </tr>\n    <tr>\n      <th>ch13</th>\n      <td>163.223374</td>\n      <td>154.026039</td>\n      <td>156.463002</td>\n    </tr>\n    <tr>\n      <th>ch14</th>\n      <td>357.986097</td>\n      <td>345.249896</td>\n      <td>364.186520</td>\n    </tr>\n    <tr>\n      <th>ch15</th>\n      <td>1597.309582</td>\n      <td>1476.570178</td>\n      <td>1548.943908</td>\n    </tr>\n    <tr>\n      <th>ch16</th>\n      <td>148.959895</td>\n      <td>147.027532</td>\n      <td>152.551826</td>\n    </tr>\n    <tr>\n      <th>ch17</th>\n      <td>164.525383</td>\n      <td>166.486835</td>\n      <td>152.974877</td>\n    </tr>\n    <tr>\n      <th>ch18</th>\n      <td>43.534677</td>\n      <td>40.485696</td>\n      <td>42.617584</td>\n    </tr>\n    <tr>\n      <th>ch19</th>\n      <td>103.787825</td>\n      <td>104.108592</td>\n      <td>110.379157</td>\n    </tr>\n    <tr>\n      <th>ch20</th>\n      <td>93.962550</td>\n      <td>87.326620</td>\n      <td>95.227984</td>\n    </tr>\n    <tr>\n      <th>ch21</th>\n      <td>77.655859</td>\n      <td>80.959266</td>\n      <td>81.097868</td>\n    </tr>\n    <tr>\n      <th>ch22</th>\n      <td>45.456965</td>\n      <td>65.533342</td>\n      <td>51.947049</td>\n    </tr>\n    <tr>\n      <th>ch23</th>\n      <td>175.740306</td>\n      <td>163.824309</td>\n      <td>177.328771</td>\n    </tr>\n    <tr>\n      <th>ch24</th>\n      <td>407.829614</td>\n      <td>395.250214</td>\n      <td>425.768327</td>\n    </tr>\n    <tr>\n      <th>ch25</th>\n      <td>1320.609666</td>\n      <td>1170.044475</td>\n      <td>1279.212088</td>\n    </tr>\n    <tr>\n      <th>ch26</th>\n      <td>52.406975</td>\n      <td>53.332250</td>\n      <td>53.706629</td>\n    </tr>\n    <tr>\n      <th>ch27</th>\n      <td>188.786674</td>\n      <td>160.404829</td>\n      <td>179.125702</td>\n    </tr>\n    <tr>\n      <th>ch28</th>\n      <td>112.521222</td>\n      <td>108.700440</td>\n      <td>110.367775</td>\n    </tr>\n    <tr>\n      <th>ch29</th>\n      <td>27.906710</td>\n      <td>26.493031</td>\n      <td>27.889255</td>\n    </tr>\n    <tr>\n      <th>ch30</th>\n      <td>53.860569</td>\n      <td>48.964050</td>\n      <td>52.724204</td>\n    </tr>\n    <tr>\n      <th>ch31</th>\n      <td>157.947239</td>\n      <td>151.172439</td>\n      <td>169.871628</td>\n    </tr>\n    <tr>\n      <th>ch32</th>\n      <td>41.578150</td>\n      <td>40.480915</td>\n      <td>41.497848</td>\n    </tr>\n    <tr>\n      <th>ch33</th>\n      <td>133.768334</td>\n      <td>120.216570</td>\n      <td>129.273704</td>\n    </tr>\n  </tbody>\n</table>\n</div>"
     },
     "execution_count": 12,
     "metadata": {},
     "output_type": "execute_result"
    }
   ],
   "source": [
    "tmd_df"
   ],
   "metadata": {
    "collapsed": false,
    "pycharm": {
     "name": "#%%\n"
    }
   }
  },
  {
   "cell_type": "code",
   "execution_count": 13,
   "outputs": [],
   "source": [
    "tmd_df['zh_en'] = tmd_df['zh_morg'] / tmd_df['en_fowkes']"
   ],
   "metadata": {
    "collapsed": false,
    "pycharm": {
     "name": "#%%\n"
    }
   }
  },
  {
   "cell_type": "code",
   "execution_count": 14,
   "outputs": [
    {
     "data": {
      "text/plain": "tr_id     en_aveling    en_fowkes      zh_morg     zh_en\nchapter                                                 \nch01      706.839041   693.029663   742.203475  1.070955\nch02      135.896160   124.175460   135.445345  1.090758\nch03      707.765809   680.562856   715.148235  1.050819\nch04      435.702259   443.395434   467.490994  1.054343\nch05      163.993952   153.583162   178.898005  1.164828\nch06      133.871562   133.740309   143.358178  1.071915\nch07      322.566802   329.974969   373.091260  1.130665\nch08      159.273772   163.927924   172.794524  1.054088\nch09      242.371257   249.913451   261.371512  1.045848\nch10      865.721227   808.001165   871.838712  1.079007\nch11      106.165208   104.042342   107.822892  1.036337\nch12      118.694425   120.390984   121.459662  1.008877\nch13      163.223374   154.026039   156.463002  1.015822\nch14      357.986097   345.249896   364.186520  1.054849\nch15     1597.309582  1476.570178  1548.943908  1.049015\nch16      148.959895   147.027532   152.551826  1.037573\nch17      164.525383   166.486835   152.974877  0.918841\nch18       43.534677    40.485696    42.617584  1.052658\nch19      103.787825   104.108592   110.379157  1.060231\nch20       93.962550    87.326620    95.227984  1.090481\nch21       77.655859    80.959266    81.097868  1.001712\nch22       45.456965    65.533342    51.947049  0.792681\nch23      175.740306   163.824309   177.328771  1.082433\nch24      407.829614   395.250214   425.768327  1.077212\nch25     1320.609666  1170.044475  1279.212088  1.093302\nch26       52.406975    53.332250    53.706629  1.007020\nch27      188.786674   160.404829   179.125702  1.116710\nch28      112.521222   108.700440   110.367775  1.015339\nch29       27.906710    26.493031    27.889255  1.052702\nch30       53.860569    48.964050    52.724204  1.076794\nch31      157.947239   151.172439   169.871628  1.123694\nch32       41.578150    40.480915    41.497848  1.025121\nch33      133.768334   120.216570   129.273704  1.075340",
      "text/html": "<div>\n<style scoped>\n    .dataframe tbody tr th:only-of-type {\n        vertical-align: middle;\n    }\n\n    .dataframe tbody tr th {\n        vertical-align: top;\n    }\n\n    .dataframe thead th {\n        text-align: right;\n    }\n</style>\n<table border=\"1\" class=\"dataframe\">\n  <thead>\n    <tr style=\"text-align: right;\">\n      <th>tr_id</th>\n      <th>en_aveling</th>\n      <th>en_fowkes</th>\n      <th>zh_morg</th>\n      <th>zh_en</th>\n    </tr>\n    <tr>\n      <th>chapter</th>\n      <th></th>\n      <th></th>\n      <th></th>\n      <th></th>\n    </tr>\n  </thead>\n  <tbody>\n    <tr>\n      <th>ch01</th>\n      <td>706.839041</td>\n      <td>693.029663</td>\n      <td>742.203475</td>\n      <td>1.070955</td>\n    </tr>\n    <tr>\n      <th>ch02</th>\n      <td>135.896160</td>\n      <td>124.175460</td>\n      <td>135.445345</td>\n      <td>1.090758</td>\n    </tr>\n    <tr>\n      <th>ch03</th>\n      <td>707.765809</td>\n      <td>680.562856</td>\n      <td>715.148235</td>\n      <td>1.050819</td>\n    </tr>\n    <tr>\n      <th>ch04</th>\n      <td>435.702259</td>\n      <td>443.395434</td>\n      <td>467.490994</td>\n      <td>1.054343</td>\n    </tr>\n    <tr>\n      <th>ch05</th>\n      <td>163.993952</td>\n      <td>153.583162</td>\n      <td>178.898005</td>\n      <td>1.164828</td>\n    </tr>\n    <tr>\n      <th>ch06</th>\n      <td>133.871562</td>\n      <td>133.740309</td>\n      <td>143.358178</td>\n      <td>1.071915</td>\n    </tr>\n    <tr>\n      <th>ch07</th>\n      <td>322.566802</td>\n      <td>329.974969</td>\n      <td>373.091260</td>\n      <td>1.130665</td>\n    </tr>\n    <tr>\n      <th>ch08</th>\n      <td>159.273772</td>\n      <td>163.927924</td>\n      <td>172.794524</td>\n      <td>1.054088</td>\n    </tr>\n    <tr>\n      <th>ch09</th>\n      <td>242.371257</td>\n      <td>249.913451</td>\n      <td>261.371512</td>\n      <td>1.045848</td>\n    </tr>\n    <tr>\n      <th>ch10</th>\n      <td>865.721227</td>\n      <td>808.001165</td>\n      <td>871.838712</td>\n      <td>1.079007</td>\n    </tr>\n    <tr>\n      <th>ch11</th>\n      <td>106.165208</td>\n      <td>104.042342</td>\n      <td>107.822892</td>\n      <td>1.036337</td>\n    </tr>\n    <tr>\n      <th>ch12</th>\n      <td>118.694425</td>\n      <td>120.390984</td>\n      <td>121.459662</td>\n      <td>1.008877</td>\n    </tr>\n    <tr>\n      <th>ch13</th>\n      <td>163.223374</td>\n      <td>154.026039</td>\n      <td>156.463002</td>\n      <td>1.015822</td>\n    </tr>\n    <tr>\n      <th>ch14</th>\n      <td>357.986097</td>\n      <td>345.249896</td>\n      <td>364.186520</td>\n      <td>1.054849</td>\n    </tr>\n    <tr>\n      <th>ch15</th>\n      <td>1597.309582</td>\n      <td>1476.570178</td>\n      <td>1548.943908</td>\n      <td>1.049015</td>\n    </tr>\n    <tr>\n      <th>ch16</th>\n      <td>148.959895</td>\n      <td>147.027532</td>\n      <td>152.551826</td>\n      <td>1.037573</td>\n    </tr>\n    <tr>\n      <th>ch17</th>\n      <td>164.525383</td>\n      <td>166.486835</td>\n      <td>152.974877</td>\n      <td>0.918841</td>\n    </tr>\n    <tr>\n      <th>ch18</th>\n      <td>43.534677</td>\n      <td>40.485696</td>\n      <td>42.617584</td>\n      <td>1.052658</td>\n    </tr>\n    <tr>\n      <th>ch19</th>\n      <td>103.787825</td>\n      <td>104.108592</td>\n      <td>110.379157</td>\n      <td>1.060231</td>\n    </tr>\n    <tr>\n      <th>ch20</th>\n      <td>93.962550</td>\n      <td>87.326620</td>\n      <td>95.227984</td>\n      <td>1.090481</td>\n    </tr>\n    <tr>\n      <th>ch21</th>\n      <td>77.655859</td>\n      <td>80.959266</td>\n      <td>81.097868</td>\n      <td>1.001712</td>\n    </tr>\n    <tr>\n      <th>ch22</th>\n      <td>45.456965</td>\n      <td>65.533342</td>\n      <td>51.947049</td>\n      <td>0.792681</td>\n    </tr>\n    <tr>\n      <th>ch23</th>\n      <td>175.740306</td>\n      <td>163.824309</td>\n      <td>177.328771</td>\n      <td>1.082433</td>\n    </tr>\n    <tr>\n      <th>ch24</th>\n      <td>407.829614</td>\n      <td>395.250214</td>\n      <td>425.768327</td>\n      <td>1.077212</td>\n    </tr>\n    <tr>\n      <th>ch25</th>\n      <td>1320.609666</td>\n      <td>1170.044475</td>\n      <td>1279.212088</td>\n      <td>1.093302</td>\n    </tr>\n    <tr>\n      <th>ch26</th>\n      <td>52.406975</td>\n      <td>53.332250</td>\n      <td>53.706629</td>\n      <td>1.007020</td>\n    </tr>\n    <tr>\n      <th>ch27</th>\n      <td>188.786674</td>\n      <td>160.404829</td>\n      <td>179.125702</td>\n      <td>1.116710</td>\n    </tr>\n    <tr>\n      <th>ch28</th>\n      <td>112.521222</td>\n      <td>108.700440</td>\n      <td>110.367775</td>\n      <td>1.015339</td>\n    </tr>\n    <tr>\n      <th>ch29</th>\n      <td>27.906710</td>\n      <td>26.493031</td>\n      <td>27.889255</td>\n      <td>1.052702</td>\n    </tr>\n    <tr>\n      <th>ch30</th>\n      <td>53.860569</td>\n      <td>48.964050</td>\n      <td>52.724204</td>\n      <td>1.076794</td>\n    </tr>\n    <tr>\n      <th>ch31</th>\n      <td>157.947239</td>\n      <td>151.172439</td>\n      <td>169.871628</td>\n      <td>1.123694</td>\n    </tr>\n    <tr>\n      <th>ch32</th>\n      <td>41.578150</td>\n      <td>40.480915</td>\n      <td>41.497848</td>\n      <td>1.025121</td>\n    </tr>\n    <tr>\n      <th>ch33</th>\n      <td>133.768334</td>\n      <td>120.216570</td>\n      <td>129.273704</td>\n      <td>1.075340</td>\n    </tr>\n  </tbody>\n</table>\n</div>"
     },
     "execution_count": 14,
     "metadata": {},
     "output_type": "execute_result"
    }
   ],
   "source": [
    "tmd_df"
   ],
   "metadata": {
    "collapsed": false,
    "pycharm": {
     "name": "#%%\n"
    }
   }
  },
  {
   "cell_type": "code",
   "execution_count": 15,
   "outputs": [
    {
     "data": {
      "text/plain": "4"
     },
     "execution_count": 15,
     "metadata": {},
     "output_type": "execute_result"
    }
   ],
   "source": [
    "tmd_df['zh_en'].argmax() # (ch05)"
   ],
   "metadata": {
    "collapsed": false,
    "pycharm": {
     "name": "#%%\n"
    }
   }
  },
  {
   "cell_type": "code",
   "execution_count": 16,
   "outputs": [
    {
     "data": {
      "text/plain": "<AxesSubplot:xlabel='chapter'>"
     },
     "execution_count": 16,
     "metadata": {},
     "output_type": "execute_result"
    },
    {
     "data": {
      "text/plain": "<Figure size 792x576 with 1 Axes>",
      "image/png": "[encoded data removed]"
     },
     "metadata": {
      "needs_background": "light"
     },
     "output_type": "display_data"
    }
   ],
   "source": [
    "tmd_df['zh_en'].plot(kind='bar', figsize=(11,8))"
   ],
   "metadata": {
    "collapsed": false,
    "pycharm": {
     "name": "#%%\n"
    }
   }
  },
  {
   "cell_type": "code",
   "execution_count": 17,
   "outputs": [],
   "source": [
    "# Trying with en-zh correction\n",
    "en_zh_ratio = joblib.load(\"./lang_stats/en_zh_ratio.pkl\")"
   ],
   "metadata": {
    "collapsed": false,
    "pycharm": {
     "name": "#%%\n"
    }
   }
  },
  {
   "cell_type": "code",
   "execution_count": 18,
   "outputs": [
    {
     "data": {
      "text/plain": "0.7885142967339772"
     },
     "execution_count": 18,
     "metadata": {},
     "output_type": "execute_result"
    }
   ],
   "source": [
    "en_zh_ratio"
   ],
   "metadata": {
    "collapsed": false,
    "pycharm": {
     "name": "#%%\n"
    }
   }
  },
  {
   "cell_type": "code",
   "execution_count": 20,
   "outputs": [
    {
     "data": {
      "text/plain": "tr_id     en_aveling    en_fowkes      zh_morg     zh_en\nchapter                                                 \nch01      706.839041   693.029663   742.203475  1.070955\nch02      135.896160   124.175460   135.445345  1.090758\nch03      707.765809   680.562856   715.148235  1.050819\nch04      435.702259   443.395434   467.490994  1.054343\nch05      163.993952   153.583162   178.898005  1.164828\nch06      133.871562   133.740309   143.358178  1.071915\nch07      322.566802   329.974969   373.091260  1.130665\nch08      159.273772   163.927924   172.794524  1.054088\nch09      242.371257   249.913451   261.371512  1.045848\nch10      865.721227   808.001165   871.838712  1.079007\nch11      106.165208   104.042342   107.822892  1.036337\nch12      118.694425   120.390984   121.459662  1.008877\nch13      163.223374   154.026039   156.463002  1.015822\nch14      357.986097   345.249896   364.186520  1.054849\nch15     1597.309582  1476.570178  1548.943908  1.049015\nch16      148.959895   147.027532   152.551826  1.037573\nch17      164.525383   166.486835   152.974877  0.918841\nch18       43.534677    40.485696    42.617584  1.052658\nch19      103.787825   104.108592   110.379157  1.060231\nch20       93.962550    87.326620    95.227984  1.090481\nch21       77.655859    80.959266    81.097868  1.001712\nch22       45.456965    65.533342    51.947049  0.792681\nch23      175.740306   163.824309   177.328771  1.082433\nch24      407.829614   395.250214   425.768327  1.077212\nch25     1320.609666  1170.044475  1279.212088  1.093302\nch26       52.406975    53.332250    53.706629  1.007020\nch27      188.786674   160.404829   179.125702  1.116710\nch28      112.521222   108.700440   110.367775  1.015339\nch29       27.906710    26.493031    27.889255  1.052702\nch30       53.860569    48.964050    52.724204  1.076794\nch31      157.947239   151.172439   169.871628  1.123694\nch32       41.578150    40.480915    41.497848  1.025121\nch33      133.768334   120.216570   129.273704  1.075340",
      "text/html": "<div>\n<style scoped>\n    .dataframe tbody tr th:only-of-type {\n        vertical-align: middle;\n    }\n\n    .dataframe tbody tr th {\n        vertical-align: top;\n    }\n\n    .dataframe thead th {\n        text-align: right;\n    }\n</style>\n<table border=\"1\" class=\"dataframe\">\n  <thead>\n    <tr style=\"text-align: right;\">\n      <th>tr_id</th>\n      <th>en_aveling</th>\n      <th>en_fowkes</th>\n      <th>zh_morg</th>\n      <th>zh_en</th>\n    </tr>\n    <tr>\n      <th>chapter</th>\n      <th></th>\n      <th></th>\n      <th></th>\n      <th></th>\n    </tr>\n  </thead>\n  <tbody>\n    <tr>\n      <th>ch01</th>\n      <td>706.839041</td>\n      <td>693.029663</td>\n      <td>742.203475</td>\n      <td>1.070955</td>\n    </tr>\n    <tr>\n      <th>ch02</th>\n      <td>135.896160</td>\n      <td>124.175460</td>\n      <td>135.445345</td>\n      <td>1.090758</td>\n    </tr>\n    <tr>\n      <th>ch03</th>\n      <td>707.765809</td>\n      <td>680.562856</td>\n      <td>715.148235</td>\n      <td>1.050819</td>\n    </tr>\n    <tr>\n      <th>ch04</th>\n      <td>435.702259</td>\n      <td>443.395434</td>\n      <td>467.490994</td>\n      <td>1.054343</td>\n    </tr>\n    <tr>\n      <th>ch05</th>\n      <td>163.993952</td>\n      <td>153.583162</td>\n      <td>178.898005</td>\n      <td>1.164828</td>\n    </tr>\n    <tr>\n      <th>ch06</th>\n      <td>133.871562</td>\n      <td>133.740309</td>\n      <td>143.358178</td>\n      <td>1.071915</td>\n    </tr>\n    <tr>\n      <th>ch07</th>\n      <td>322.566802</td>\n      <td>329.974969</td>\n      <td>373.091260</td>\n      <td>1.130665</td>\n    </tr>\n    <tr>\n      <th>ch08</th>\n      <td>159.273772</td>\n      <td>163.927924</td>\n      <td>172.794524</td>\n      <td>1.054088</td>\n    </tr>\n    <tr>\n      <th>ch09</th>\n      <td>242.371257</td>\n      <td>249.913451</td>\n      <td>261.371512</td>\n      <td>1.045848</td>\n    </tr>\n    <tr>\n      <th>ch10</th>\n      <td>865.721227</td>\n      <td>808.001165</td>\n      <td>871.838712</td>\n      <td>1.079007</td>\n    </tr>\n    <tr>\n      <th>ch11</th>\n      <td>106.165208</td>\n      <td>104.042342</td>\n      <td>107.822892</td>\n      <td>1.036337</td>\n    </tr>\n    <tr>\n      <th>ch12</th>\n      <td>118.694425</td>\n      <td>120.390984</td>\n      <td>121.459662</td>\n      <td>1.008877</td>\n    </tr>\n    <tr>\n      <th>ch13</th>\n      <td>163.223374</td>\n      <td>154.026039</td>\n      <td>156.463002</td>\n      <td>1.015822</td>\n    </tr>\n    <tr>\n      <th>ch14</th>\n      <td>357.986097</td>\n      <td>345.249896</td>\n      <td>364.186520</td>\n      <td>1.054849</td>\n    </tr>\n    <tr>\n      <th>ch15</th>\n      <td>1597.309582</td>\n      <td>1476.570178</td>\n      <td>1548.943908</td>\n      <td>1.049015</td>\n    </tr>\n    <tr>\n      <th>ch16</th>\n      <td>148.959895</td>\n      <td>147.027532</td>\n      <td>152.551826</td>\n      <td>1.037573</td>\n    </tr>\n    <tr>\n      <th>ch17</th>\n      <td>164.525383</td>\n      <td>166.486835</td>\n      <td>152.974877</td>\n      <td>0.918841</td>\n    </tr>\n    <tr>\n      <th>ch18</th>\n      <td>43.534677</td>\n      <td>40.485696</td>\n      <td>42.617584</td>\n      <td>1.052658</td>\n    </tr>\n    <tr>\n      <th>ch19</th>\n      <td>103.787825</td>\n      <td>104.108592</td>\n      <td>110.379157</td>\n      <td>1.060231</td>\n    </tr>\n    <tr>\n      <th>ch20</th>\n      <td>93.962550</td>\n      <td>87.326620</td>\n      <td>95.227984</td>\n      <td>1.090481</td>\n    </tr>\n    <tr>\n      <th>ch21</th>\n      <td>77.655859</td>\n      <td>80.959266</td>\n      <td>81.097868</td>\n      <td>1.001712</td>\n    </tr>\n    <tr>\n      <th>ch22</th>\n      <td>45.456965</td>\n      <td>65.533342</td>\n      <td>51.947049</td>\n      <td>0.792681</td>\n    </tr>\n    <tr>\n      <th>ch23</th>\n      <td>175.740306</td>\n      <td>163.824309</td>\n      <td>177.328771</td>\n      <td>1.082433</td>\n    </tr>\n    <tr>\n      <th>ch24</th>\n      <td>407.829614</td>\n      <td>395.250214</td>\n      <td>425.768327</td>\n      <td>1.077212</td>\n    </tr>\n    <tr>\n      <th>ch25</th>\n      <td>1320.609666</td>\n      <td>1170.044475</td>\n      <td>1279.212088</td>\n      <td>1.093302</td>\n    </tr>\n    <tr>\n      <th>ch26</th>\n      <td>52.406975</td>\n      <td>53.332250</td>\n      <td>53.706629</td>\n      <td>1.007020</td>\n    </tr>\n    <tr>\n      <th>ch27</th>\n      <td>188.786674</td>\n      <td>160.404829</td>\n      <td>179.125702</td>\n      <td>1.116710</td>\n    </tr>\n    <tr>\n      <th>ch28</th>\n      <td>112.521222</td>\n      <td>108.700440</td>\n      <td>110.367775</td>\n      <td>1.015339</td>\n    </tr>\n    <tr>\n      <th>ch29</th>\n      <td>27.906710</td>\n      <td>26.493031</td>\n      <td>27.889255</td>\n      <td>1.052702</td>\n    </tr>\n    <tr>\n      <th>ch30</th>\n      <td>53.860569</td>\n      <td>48.964050</td>\n      <td>52.724204</td>\n      <td>1.076794</td>\n    </tr>\n    <tr>\n      <th>ch31</th>\n      <td>157.947239</td>\n      <td>151.172439</td>\n      <td>169.871628</td>\n      <td>1.123694</td>\n    </tr>\n    <tr>\n      <th>ch32</th>\n      <td>41.578150</td>\n      <td>40.480915</td>\n      <td>41.497848</td>\n      <td>1.025121</td>\n    </tr>\n    <tr>\n      <th>ch33</th>\n      <td>133.768334</td>\n      <td>120.216570</td>\n      <td>129.273704</td>\n      <td>1.075340</td>\n    </tr>\n  </tbody>\n</table>\n</div>"
     },
     "execution_count": 20,
     "metadata": {},
     "output_type": "execute_result"
    }
   ],
   "source": [
    "tmd_df"
   ],
   "metadata": {
    "collapsed": false,
    "pycharm": {
     "name": "#%%\n"
    }
   }
  },
  {
   "cell_type": "code",
   "execution_count": 21,
   "outputs": [],
   "source": [
    "tmd_df['zh_corrected'] = tmd_df['zh_morg'] * en_zh_ratio"
   ],
   "metadata": {
    "collapsed": false,
    "pycharm": {
     "name": "#%%\n"
    }
   }
  },
  {
   "cell_type": "code",
   "execution_count": 22,
   "outputs": [
    {
     "data": {
      "text/plain": "<AxesSubplot:xlabel='chapter'>"
     },
     "execution_count": 22,
     "metadata": {},
     "output_type": "execute_result"
    },
    {
     "data": {
      "text/plain": "<Figure size 792x576 with 1 Axes>",
      "image/png": "[encoded data removed]"
     },
     "metadata": {
      "needs_background": "light"
     },
     "output_type": "display_data"
    }
   ],
   "source": [
    "tmd_df.plot(kind='bar', figsize=(11,8))"
   ],
   "metadata": {
    "collapsed": false,
    "pycharm": {
     "name": "#%%\n"
    }
   }
  },
  {
   "cell_type": "markdown",
   "source": [
    "### Now checking section-by-section"
   ],
   "metadata": {
    "collapsed": false,
    "pycharm": {
     "name": "#%% md\n"
    }
   }
  },
  {
   "cell_type": "code",
   "execution_count": 18,
   "outputs": [],
   "source": [],
   "metadata": {
    "collapsed": false,
    "pycharm": {
     "name": "#%%\n"
    }
   }
  },
  {
   "cell_type": "code",
   "execution_count": 19,
   "outputs": [],
   "source": [
    "section_map = {\n",
    "\n",
    "}"
   ],
   "metadata": {
    "collapsed": false,
    "pycharm": {
     "name": "#%%\n"
    }
   }
  },
  {
   "cell_type": "code",
   "execution_count": null,
   "outputs": [],
   "source": [],
   "metadata": {
    "collapsed": false,
    "pycharm": {
     "name": "#%%\n"
    }
   }
  }
 ],
 "metadata": {
  "kernelspec": {
   "display_name": "Python 3",
   "language": "python",
   "name": "python3"
  },
  "language_info": {
   "codemirror_mode": {
    "name": "ipython",
    "version": 2
   },
   "file_extension": ".py",
   "mimetype": "text/x-python",
   "name": "python",
   "nbconvert_exporter": "python",
   "pygments_lexer": "ipython2",
   "version": "2.7.6"
  }
 },
 "nbformat": 4,
 "nbformat_minor": 0
}