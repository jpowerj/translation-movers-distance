{
 "cells": [
  {
   "cell_type": "markdown",
   "metadata": {
    "collapsed": true,
    "pycharm": {
     "name": "#%% md\n"
    }
   },
   "source": [
    "## Alice in Wonderland TMDs"
   ]
  },
  {
   "cell_type": "markdown",
   "source": [
    "K, note to self here: the auto-aligner isn't aligning the full text correctly (at least, not for DE-ZH), so split into chapters and then align"
   ],
   "metadata": {
    "collapsed": false,
    "pycharm": {
     "name": "#%% md\n"
    }
   }
  },
  {
   "cell_type": "code",
   "execution_count": 14,
   "outputs": [
    {
     "name": "stdout",
     "output_type": "stream",
     "text": [
      "The autoreload extension is already loaded. To reload it, use:\n",
      "  %reload_ext autoreload\n"
     ]
    }
   ],
   "source": [
    "%load_ext autoreload\n",
    "%autoreload 2"
   ],
   "metadata": {
    "collapsed": false,
    "pycharm": {
     "name": "#%%\n"
    }
   }
  },
  {
   "cell_type": "code",
   "execution_count": 15,
   "outputs": [],
   "source": [
    "import glob\n",
    "import os\n",
    "import subprocess\n",
    "\n",
    "import joblib\n",
    "import pandas as pd\n",
    "import numpy as np\n",
    "\n",
    "import trglobals"
   ],
   "metadata": {
    "collapsed": false,
    "pycharm": {
     "name": "#%%\n"
    }
   }
  },
  {
   "cell_type": "code",
   "execution_count": 16,
   "outputs": [
    {
     "data": {
      "text/plain": "'C:\\\\Dropbox\\\\Translation\\\\code00_tmd'"
     },
     "execution_count": 16,
     "metadata": {},
     "output_type": "execute_result"
    }
   ],
   "source": [
    "os.getcwd()"
   ],
   "metadata": {
    "collapsed": false,
    "pycharm": {
     "name": "#%%\n"
    }
   }
  },
  {
   "cell_type": "code",
   "execution_count": 17,
   "outputs": [
    {
     "name": "stdout",
     "output_type": "stream",
     "text": [
      "No model available for am\n",
      "de model already initialized\n",
      "el model already initialized\n",
      "en model already initialized\n",
      "it model already initialized\n",
      "No model available for kk\n",
      "ru model already initialized\n",
      "vi model already initialized\n",
      "zh model already initialized\n"
     ]
    }
   ],
   "source": [
    "trglobals.init_embedding_model()"
   ],
   "metadata": {
    "collapsed": false,
    "pycharm": {
     "name": "#%%\n"
    }
   }
  },
  {
   "cell_type": "code",
   "execution_count": 18,
   "outputs": [],
   "source": [
    "alice_path = \"../Texts/Alice/\"\n",
    "de_path = os.path.join(alice_path, \"alice_de\")\n",
    "de_cleaned_path = os.path.join(alice_path, \"alice_de_cleaned\")\n",
    "if not os.path.isdir(de_cleaned_path):\n",
    "    os.mkdir(de_cleaned_path)"
   ],
   "metadata": {
    "collapsed": false,
    "pycharm": {
     "name": "#%%\n"
    }
   }
  },
  {
   "cell_type": "code",
   "execution_count": 19,
   "outputs": [],
   "source": [
    "def read_text(fpath):\n",
    "    with open(fpath, 'r', encoding='utf-8') as infile:\n",
    "        text = infile.read()\n",
    "    return text"
   ],
   "metadata": {
    "collapsed": false,
    "pycharm": {
     "name": "#%%\n"
    }
   }
  },
  {
   "cell_type": "code",
   "execution_count": 20,
   "outputs": [],
   "source": [
    "de_fpaths = glob.glob(os.path.join(de_path, \"*.txt\"))"
   ],
   "metadata": {
    "collapsed": false,
    "pycharm": {
     "name": "#%%\n"
    }
   }
  },
  {
   "cell_type": "code",
   "execution_count": 21,
   "outputs": [],
   "source": [
    "def custom_clean(text, lang):\n",
    "    if lang == \"de\":\n",
    "        text_clean = text.replace(\"_\",\"\").replace(\"\\n\",\" \").strip()\n",
    "    elif lang == \"el\":\n",
    "        text_clean = text.strip()\n",
    "    elif lang == \"en\":\n",
    "        text_clean = text.replace(\"_\",\"\").replace(\"*\",\"\").strip()\n",
    "    elif lang == \"ru\":\n",
    "        text_clean = text.strip()\n",
    "    elif lang == \"vi\":\n",
    "        text_clean = text.strip()\n",
    "    elif lang == \"zh\":\n",
    "        text_clean = text.replace(\"\\u3000\",\" \").strip()\n",
    "    else:\n",
    "        print(f\"Warning: custom_clean() called with an invalid lang: {lang}\")\n",
    "        text_clean = text\n",
    "    return text_clean\n"
   ],
   "metadata": {
    "collapsed": false,
    "pycharm": {
     "name": "#%%\n"
    }
   }
  },
  {
   "cell_type": "code",
   "execution_count": 22,
   "outputs": [],
   "source": [
    "for cur_de_fpath in de_fpaths:\n",
    "    cur_de_fname = os.path.basename(cur_de_fpath)\n",
    "    de_text = read_text(cur_de_fpath)\n",
    "    de_text_clean = custom_clean(de_text, \"de\")\n",
    "    de_clean_fpath = os.path.join(de_cleaned_path, cur_de_fname)\n"
   ],
   "metadata": {
    "collapsed": false,
    "pycharm": {
     "name": "#%%\n"
    }
   }
  },
  {
   "cell_type": "code",
   "execution_count": 23,
   "outputs": [],
   "source": [
    "lang2 = \"el\""
   ],
   "metadata": {
    "collapsed": false,
    "pycharm": {
     "name": "#%%\n"
    }
   }
  },
  {
   "cell_type": "code",
   "execution_count": 24,
   "outputs": [
    {
     "data": {
      "text/plain": "'../Texts/Alice/alice_el_cleaned'"
     },
     "execution_count": 24,
     "metadata": {},
     "output_type": "execute_result"
    }
   ],
   "source": [
    "l2_path = os.path.join(alice_path, f\"alice_{lang2}\")\n",
    "l2_cleaned_path = os.path.join(alice_path, f\"alice_{lang2}_cleaned\")\n",
    "if not os.path.isdir(l2_cleaned_path):\n",
    "    os.mkdir(l2_cleaned_path)\n",
    "l2_cleaned_path"
   ],
   "metadata": {
    "collapsed": false,
    "pycharm": {
     "name": "#%%\n"
    }
   }
  },
  {
   "cell_type": "code",
   "execution_count": 25,
   "outputs": [
    {
     "data": {
      "text/plain": "['../Texts/Alice/alice_el\\\\ch01.alice_el.txt',\n '../Texts/Alice/alice_el\\\\ch02.alice_el.txt',\n '../Texts/Alice/alice_el\\\\ch03.alice_el.txt',\n '../Texts/Alice/alice_el\\\\ch04.alice_el.txt',\n '../Texts/Alice/alice_el\\\\ch05.alice_el.txt',\n '../Texts/Alice/alice_el\\\\ch06.alice_el.txt',\n '../Texts/Alice/alice_el\\\\ch07.alice_el.txt',\n '../Texts/Alice/alice_el\\\\ch08.alice_el.txt',\n '../Texts/Alice/alice_el\\\\ch09.alice_el.txt',\n '../Texts/Alice/alice_el\\\\ch10.alice_el.txt',\n '../Texts/Alice/alice_el\\\\ch11.alice_el.txt',\n '../Texts/Alice/alice_el\\\\ch12.alice_el.txt']"
     },
     "execution_count": 25,
     "metadata": {},
     "output_type": "execute_result"
    }
   ],
   "source": [
    "l2_fpaths = glob.glob(os.path.join(l2_path, \"*.txt\"))\n",
    "l2_fpaths"
   ],
   "metadata": {
    "collapsed": false,
    "pycharm": {
     "name": "#%%\n"
    }
   }
  },
  {
   "cell_type": "code",
   "execution_count": 26,
   "outputs": [],
   "source": [
    "for cur_l2_fpath in l2_fpaths:\n",
    "    cur_l2_fname = os.path.basename(cur_l2_fpath)\n",
    "    l2_text = read_text(cur_l2_fpath)\n",
    "    l2_text_clean = custom_clean(l2_text, lang2)\n",
    "    l2_clean_fpath = os.path.join(l2_cleaned_path, cur_l2_fname)\n",
    "    with open(l2_clean_fpath, 'w', encoding='utf-8') as outfile:\n",
    "        outfile.write(l2_text_clean)"
   ],
   "metadata": {
    "collapsed": false,
    "pycharm": {
     "name": "#%%\n"
    }
   }
  },
  {
   "cell_type": "code",
   "execution_count": 27,
   "outputs": [
    {
     "data": {
      "text/plain": "'Κεφάλαιο 12\\n\\nΗ κατάθεση της Αλίκης\\n\\n- Παρούσα! φώναξε η Αλίκη, ξεχνώντας ολότελα, μέσα στην\\nταραχή της, πόσο πολύ είχε ψηλώσει τα τελευταία λίγα λεπτά\\nκαι πετάχτηκε όρθια τόσο βιαστικά, που αναποδογύρισε το έδρανο των ενόρκων με την άκρη της φούστας της, γκρεμίζοντας\\nόλους τους ενόρκους πάνω στα κεφάλια του κόσμου, που καθόταν από κάτω. Όπως τους είδε σκορπισμένους εδώ κι εκεί, της\\n\\nθύμισαν έντονα μια γυάλα με χρυσόψαρα που είχε αναποδογυρίσει κατά λάθος την προηγούμενη βδομάδα.\\n\\n- Αχ, σας ζητώ συγνώμη! φώναξε φοβερά συγχυσμένη κι\\nάρχισε να μαζεύει από χάμω τους ενόρκους όσο πιο γρήγορα\\nμπορούσε, γιατί το ατύχημα με τα χρυσόψαρα δεν έλεγε να\\nφύγει από το μυαλό της κι είχε μιαν αόριστη εντύπωση πως\\nέπρεπε να τους μαζέψει αμέσως και να τους ξαναβάλει στο\\nέδρανο, αλλιώς θα πέθαιναν.\\n\\n- Η δίκη δεν μπορεί να συνεχιστεί, είπε ο Βασιλιάς με πολύ\\nσοβαρή φωνή, μέχρι να επιστρέφουν όλοι οι ένορκοι στις κανονικές τους θέσεις. Είπα όλοι! επανέλαβε με πολλή έμφαση,\\nκοιτάζοντας την Αλίκη αυστηρά, καθώς μιλούσε.\\n\\nΗ Αλίκη έριξε μια ματιά στο έδρανο των ενόρκων και είδε,\\nότι στη βιασύνη της, είχε τοποθετήσει τη σαύρα ανάποδα, με\\nτο κεφάλι κάτω- το δύστυχο το ζωάκι ανέμιζε μελαγχολικά την\\nουρά του, καθώς του ήταν αδύνατο να κάνει άλλη κίνηση. Την\\nξανασήκωσε, λοιπόν, γρήγορα και την τοποθέτησε σωστά- «όχι πως έχει και μεγάλη σημασία, είπε μέσα της- μου φαίνεται\\nπως θα είναι για τη δίκη το ίδιο χρήσιμη, κι απ’ την καλή κι\\nαπ’ την ανάποδη».\\n\\nΜόλις συνήλθαν λιγάκι οι ένορκοι από την τρομάρα της\\nπτώσης και βρήκαν τις πλάκες και τα κοντύλια τους και τα\\nξαναπήραν, καταπιάστηκαν να γράφουν με μεγάλη επιμέλεια\\nτην ιστορία του ατυχήματος, όλοι εκτός από τη σαύρα, που\\nφαινόταν εξαντλημένη για να κάνει οτιδήποτε άλλο από το να\\nκάθεται με το στόμα ανοιχτό και να κοιτάζει το ταβάνι της\\nαίθουσας.\\n\\n-\\tΤι γνωρίζεις γι’ αυτήν την υπόθεση; είπε ο Βασιλιάς στην\\nΑλίκη.\\n\\n-\\tΤίποτα, είπε η Αλικη.\\n\\n-\\tΑπολύτως τίποτα; επέμεινε ο Βασιλιάς.\\n\\n-\\tΑπολύτως τίποτα, είπε η Αλίκη.\\n\\n-\\tΑυτό είναι πολύ σημαντικό, είπε ο Βασιλιάς, γυρνώντας\\nστους ενόρκους.\\n\\nΜόλις εκείνοι είχαν αρχίσει να το σημειώνουν στις πλάκες\\nτους, το Άσπρο Κουνέλι τους διέκοψε:\\n\\n-\\tΑσήμαντο, θα εννοεί, βέβαια, η Μεγαλειότητα σας, είπε με\\nμεγάλο σεβασμό, όμως ήταν συνοφρυωμένο και του έκανε γκριμάτσες, ενώ μιλούσε.\\n\\n-\\tΒέβαια, ασήμαντο, αυτό εννοούσα, βιάστηκε να πει ο Βασιλιάς και συνέχισε να μονολογεί χαμηλόφωνα: «σημαντικό ασήμαντο - ασήμαντο - σημαντικό -», σαν να προσπαθούσε να\\nβρει ποια από τις δυο λέξεις ηχούσε καλύτερα.\\n\\nΜερικοί από τους ενόρκους σημείωσαν «σημαντικό», και μερικοί «ασήμαντο». Η Αλίκη το είδε, αφού ήταν αρκετά κοντά,\\nώστε να βλέπει τις πλάκες τους· «αλλά δεν έχει καμία σημασία»,\\nείπε μέσα της.\\n\\nΤη στιγμή εκείνη, ο Βασιλιάς, που για κάμποση ώρα ήταν απασχολημένος γράφοντας στο σημειωματάριό του, φώναξε:\\n\\n-\\tΣιωπή! και διάβασε δυνατά από το βιβλίο του: Άρθρο σαραντα δύο. Όλα τα άτομα ψηλότερα από ένα χιλιόμετρο να εγκαταλείψουν την αίθουσα του δικαστηρίου.\\n\\nΌλοι γύρισαν και κοίταξαν την Αλίκη.\\n\\n-\\tΔεν είμαι ένα χιλιόμετρο, είπε η Αλίκη.\\n\\n-\\tΕίσαι, είπε ο Βασιλιάς.\\n\\n-\\tΚοντεύεις να είσαι δύο χιλιόμετρα, πρόσθεσε η Βασίλισσα.\\n\\n-\\tΩραία, αλλά εγώ δεν φεύγω με κανένα τρόπο, είπε η Αλίκη- εξάλλου, αυτό δεν είναι ένα κανονικό άρθρο, τώρα μόλις το\\nσοφιστήκατε.\\n\\n-\\tΕίναι το πιο παλιό άρθρο του βιβλίου, είπε ο Βασιλιάς.\\n\\n-\\tΤότε θα έπρεπε να είναι το άρθρο με το νούμερο Ένα, είπε\\nη Αλίκη.\\n\\nΟ Βασιλιάς χλώμιασε κι έκλεισε γρήγορα το σημειωματάριό\\nτου.:\\n\\n-\\tΕτοιμάστε την ετυμηγορία σας, είπε στους ενόρκους σιγανά, με φωνή που έτρεμε.\\n\\n-\\tΜε την άδεια της Μεγαλειότητάς σας, υπάρχουν κι άλλα\\nαποδεικτικά στοιχεία, είπε το Άσπρο Κουνέλι, που πετάχτηκε\\n\\nπάνω με βιασύνη· αυτό το χαρτί έπεσε τώρα μόλις στα χέρια\\nμας.\\n\\n-\\tΤι γράφει; είπε η Βασίλισσα.\\n\\n-\\tΔεν το έχω ανοίξει ακόμη, είπε το Άσπρο Κουνέλι- αλλά\\nφαίνεται πως είναι κάποιο γράμμα που έγραψε ο φυλακισμένος\\nσε κάποιον.\\n\\n-\\tΑυτό θα πρέπει να είναι, είπε ο Βασιλιάς, εκτός αν το έγραψε σε κανένα, πράγμα που όπως ξέρεις δεν συνηθίζεται.\\n\\n-\\tΣε ποιον απευθύνεται; ρώτησε ένας από τους ενόρκους.\\n\\n-\\tΔεν απευθύνεται καθόλου, είπε το Άσπρο Κουνέλι, κι απ’\\nέξω μάλιστα δεν είναι τίποτα γραμμένο. (Καθώς μιλούσε, ξεδίπλωσε το χαρτί και πρόσθεσε): τελικά δεν είναι γράμμα, είναι\\nμια σειρά από στίχους.\\n\\n-\\tΈχουν το γραφικό χαρακτήρα του φυλακισμένου; ρώτησε\\nκάποιος άλλος από τους ενόρκους.\\n\\n-\\tΌχι, είπε το Άσπρο Κουνέλι, κι αυτό είναι το πιο περίεργο. (Ολοι οι ένορκοι τα είχαν χαμένα).\\n\\n-\\tΘα πρέπει να έχει μιμηθεί το γραφικό χαρακτήρα κάποιου\\nάλλου, είπε ο Βασιλιάς. (Τα πρόσωπα των ενόρκων πάλι φωτίστηκαν).\\n\\n-\\tΜεγαλειότατε, με την άδειά σας, είπε ο Βαλές, δεν το έγραψα εγώ αυτό και κανείς δεν μπορεί να αποδείξει το ενάντιο,\\nμιας και δεν υπάρχει υπογραφή στο τέλος.\\n\\n-\\tΑν δεν το υπέγραψες, είπε ο Βασιλιάς, τότε τα πράγματα\\nχειροτερεύουν. Θα πρέπει να είχες κακό σκοπό, αλλιώς θα είχες\\nυπογράψει με τ’ όνομά σου, σαν έντιμος άνθρωπος.\\n\\nΣτο σημείο αυτό όλοι χειροκρότησαν ήταν η πρώτη, αληθινά\\nέξυπνη κουβέντα που είπε ο Βασιλιάς αυτή τη μέρα.\\n\\n-\\tΑυτό, βέβαια, αποδεικνύει την ενοχή του, είπε η Βασίλισσα, γι’ αυτό, κόψτε του...\\n\\n-\\tΑυτό δεν αποδεικνύει απολύτως τίποτα! είπε η Αλίκη. Δεν\\nξέρετε καν τι λένε αυτοί οι στίχοι!\\n\\n-\\tΔιάβασέ τους, είπε ο Βασιλιάς.\\n\\nΤο Άσπρο Κουνέλι έβαλε τα γυαλιά του.\\n\\n-\\tΑπό πού επιθυμεί η Μεγαλειότης σας να αρχίσω; ρώτησε.\\n\\n-\\tΆρχισε από την αρχή, είπε ο Βασιλιάς πολύ σοβαρά, και\\nσυνέχισε μέχρι να φθάσεις στο τέλος· τότε να σταματήσεις.\\n\\nΤην ώρα που το Άσπρο Κουνέλι διάβαζε τους παρακάτω\\nστίχους, έπεσε νεκρική ησυχία στην αίθουσα:\\n\\nΕίπαν πως πήγες να τη δεις\\nκι ότι της μίλησες για μένα:\\nΔεν ξέρω από κολύμπι είπε εκείνη,\\nαλλά μπορείς να μου ’ χεις εμπιστοσύνη.\\n\\nΈστειλε μήννμα πως είχα μείνει\\nόλοι ξέρουμε πως είν’ αλήθεια\\nκι εκείνη έπρεπε να επιμείνει,\\nάσε λοιπόν τα παραμύθια.\\n\\nΤης έδωσα μια, του έδωσαν δυο\\nμας έδωσαν πάνω από τρεις.\\nΚαι όλες τού τις επέστρεψαν ευθύς,\\nκι ας ήταν δικές μου πρώτα.\\n\\nΕίμαστε για καλά μπλεγμένοι\\nσε τούτη την υπόθεση,\\nνα φύγει εκείνος περιμένει,\\nτου έδωσα υπόσχεση.\\n\\nΚι εγώ το είχα φανταστεί\\nπριν πάθει εκείνη άλλες κρίσεις\\nπως το κακό θ’ αφανιστεί\\nγι’ αυτούς κι εμάς κι εσάς επίσης.\\n\\nΜη μάθει αυτός πόσο της άρεσε\\nμακάρι πάντοτε να μείνει\\nσαν μυστικό που ήρθε και πέρασε\\nανάμεσά μας και σ’ εκείνη.\\n\\n-\\tΑυτό είναι το σημαντικότερο αποδεικτικό στοιχείο που ακούσαμε ως τώρα, είπε ο Βασιλιάς, τρίβοντας τα χέρια του, ας\\nαρχίσουν λοιπόν οι ένορκοι να...\\n\\n-\\tΑν μπορέσει ένας απ’ αυτούς να το εξηγήσει, είπε η Αλίκη,\\n(τα τελευταία λεπτά είχε ψηλώσει τόσο πολύ και δεν φοβόταν\\n\\nκαθόλου να τον διακόψει), θα του βγάλω το καπέλο. Εγώ πιστεύω πως δεν υπάρχει ούτε ίχνος νοήματος σ’ αυτό το πράγμα.\\n\\nΌλοι οι ένορκοι σημείωσαν στις πλάκες τους: «Αυτή πιστεύει πως δεν υπάρχει ούτε ίχνος νοήματος σ’ αυτό το πράγμα»,\\nαλλά κανείς τους δεν έκανε την απόπειρα να ερμηνεύσει τους\\nστίχους.\\n\\n-\\tΑν δεν υπάρχει νόημα, είπε ο Βασιλιάς, αυτό μας βγάζει\\nαπό ένα σωρό μπελάδες, όπως ξέρετε, γιατί δεν χρειάζεται να\\nτο αναζητήσουμε. Όμως, δεν είμαι σίγουρος, συνέχισε, απλώνοντας το χαρτί με τους στίχους πάνω στα γόνατά του και διαβάζοντάς τους λοξά, με το ένα μάτι: μου φαίνεται πως τελικά\\nβλέπω κάποιο νόημα... εγώ δεν ξέρω από κολύμπι... δεν ξέρεις\\nκολύμπι, έτσι δεν είναι; πρόσθεσε γυρνώντας στο Βαλέ.\\n\\nΟ Βαλές κούνησε λυπημένος το κεφάλι του.\\n\\n-\\tΦαίνεται να ξέρω; είπε. (Και σίγουρα δεν φαινόταν, μιας\\nκι ολόκληρος ήταν καμωμένος από χαρτόνι).\\n\\n-\\tΕντάξει ως εδώ, είπε ο Βασιλιάς και συνέχισε να διαβάζει\\nκαι να μουρμουρίζει μόνος του τους στίχους:\\n\\n«Ξέρουμε πως είν’ αλήθεια...» εννοεί, βέβαια, τους ενόρκους\\n-«κι εκείνη έπρεπε να επιμείνει...», εδώ θα εννοεί τη Βασίλισσα\\n...«της έδωσα μια, του έδωσαν δυο...», να, εδώ λέει τι έκανε\\nαυτός με τις τάρτες...\\n\\n-\\tΌμως παρακάτω λέει όλες γύρισαν απ’ εκείνον σ’ εσένα’,\\nείπε η Αλίκη.\\n\\n-\\tΜα βέβαια, νάτες! είπε θριαμβευτικά ο Βασιλιάς κι έδειξε\\nτις τάρτες πάνω στο τραπέζι. Μετά λέει πάλι: «πριν πάθει εκείνη άλλες κρίσεις...», νομίζω πως δεν έχεις πάθει ποτέ κρίσεις,\\nαγαπητή μου! είπε στη Βασίλισσα.\\n\\n-\\tΠοτέ είπε η Βασίλισσα έξαλλη και πέταξε ένα μελανοδοχείο στη σαύρα την ώρα που μιλούσε. (Ο άμοιρος μικρός Μπιλ\\nείχε σταματήσει να γράφει στην πλάκα του με το δάχτυλο, μιας\\nκαι είδε πως δεν άφηνε σημάδια, αλλά ξανάρχισε αμέσως, χρησιμοποιώντας το μελάνι που κατρακυλούσε απ’ το πρόσωπό\\nτου, πριν εκείνο στεγνώσει).\\n\\n-\\tΤότε είσαι πάνω από κάθε κρίση, είπε ο Βασιλιάς, ενώ κοιτούσε χαμογελαστός τριγύρω στην αίθουσα. Είχε γίνει απόλυτη σιγή.\\n\\n-\\tΗταν ένα καλαμπούρι! πρόσθεσε με θυμωμένη φωνή ο Βασιλιάς, κι όλοι γέλασαν. Ας συνεδριάσουν οι ένορκοι για την\\nαπόφαση, είπε ο Βασιλιάς για εικοστή περίπου φορά εκείνη την\\nημέρα.\\n\\n-\\tΟχι, όχι! είπε η Βασίλισσα. Πρώτα η καταδίκη και μετά η\\nαπόφαση!\\n\\n-\\tΚουταμάρες! είπε η Αλίκη δυνατά. Δεν καταδικάζεται κανείς πριν να βγει η απόφαση!\\n\\n-\\tΕσύ να μαζέψεις τη γλώσσα σου! είπε η Βασίλισσα κι έγινε\\nμελιτζανιά.\\n\\n-\\tΔεν την μαζεύω! είπε η Αλίκη.\\n\\n-\\tΚόψτε της το κεφάλι! ούρλιαζε μ’ όλη τη δύναμη της φωνής\\nτης η Βασίλισσα. Κανείς όμως δεν κουνήθηκε.\\n\\n-\\tΠοιος σκοτίζεται για σένα; είπε η Αλίκη. (Στο μεταζύ είχε\\nφτάσει πάλι στο κανονικό της ανάστημα). Δεν είσαστε τίποτα\\nάλλο, παρά τραπουλόχαρτα!\\n\\nΜόλις είπε αυτά τα λόγια, πέταξαν όλα τα χαρτιά στον αέρα\\nκι έπεσαν επάνω της· εκείνη έμπηξε μια φωνή, λίγο από φόβο,\\nλίγο από θυμό, προσπάθησε να τα τινάξει μακριά και βρέθηκε\\nξαπλωμένη στην όχθη, με το κεφάλι της πάνω στα γόνατα της\\nαδελφής της· εκείνη σήκωνε απαλά κάτι ξερά φύλλα που είχαν\\nπέσει από τα δέντρα στο πρόσωπό της.\\n\\n-\\tΑλίκη, χρυσό μου, ξύπνα! είπε η αδελφή της. Δεν φαντάζεσαι τι βαθιά που κοιμόσουν!\\n\\n-\\tΑχ, είδα ένα τόσο παράξενο όνειρο! είπε η Αλίκη. Και\\nδιηγήθηκε στην αδελφή της, όσο καλύτερα μπορούσε να θυμηθεί, όλες αυτές τις παράξενες περιπέτειες, που μόλις διαβάσατε- όταν τελείωσε, η αδελφή της τη φίλησε και της είπε:\\n\\n-\\tΣτ’ αλήθεια, χρυσή μου ήταν ένα παράξενο όνειρο, τώρα\\nόμως τρέξε να πάρεις το τσάι σου, γιατί η ώρα πέρασε.\\n\\nΈτσι σηκώθηκε η Αλίκη κι έφυγε τρεχάτη, χωρίς να σταματήσει να σκέπτεται έντονα πόσο υπέροχο όνειρο είχε δει.\\n\\nΌμως η αδελφή της έμεινε στην ίδια θέση ακίνητη, ακουμπώντας το κεφάλι στο χέρι της, ενώ παρακολουθούσε τον ήλιο\\nνα δύει και σκεπτόταν την μικρή Αλίκη κι όλες τις θαυμάσιες\\nπερπέτειές της, ώσπου άρχισε και η ίδια κατά κάποιο τρόπο να\\nονειρεύεται- και το όνειρό της ήταν αυτό:\\n\\nΠρώτα ονειρεύτηκε την ίδια τη μικρή Αλίκη· για μια ακόμη\\nφορά ήταν τα χέρια της δεμένα γύρω από τα γόνατά της και τα\\nλαμπερά αχόρταγα μάτια της ήταν καρφωμένα στα δικά της·\\nμπόρεσε ν’ ακούσει ακόμα και τον ήχο της φωνής της και να δει\\nεκείνο το παράξενο τίναγμα του κεφαλιού της, όταν ήθελε να\\nσυγκρατήσει τα ατίθασα μαλλιά της, που δεν έπαυαν να της\\nπέφτουν στα μάτια. Κι ένώ την άκουγε ή νόμιζε πως την ακούει,όλος ο τόπος γύρω της ζωντάνεψε με τα παράξενα πλάσματα από τ’ όνειρο της μικρής της αδελφής.\\n\\nΤο ψηλό χορτάρι θρόιζε στα πόδια της, καθώς περνούσε\\nβιαστικό το Άσπρο Κουνέλι- ο τρομαγμένος Ποντικός κολυμπούσε πλατσουρίζοντας στην γειτονική λιμνούλα- άκουγε το\\nθόρυβο από τα φλυτζάνια του τσαγιού, καθώς μοιράζονταν ο\\nΜαρτιάτικος Λαγός και οι φίλοι του το ατέλειωτο τους γεύμα\\nκαι την στριγγιά φωνή της Βασίλισσας, όταν διέταζε την εκτέλεση των άτυχων καλεσμένων της· το γουρουνοπουλάκι φτερνιζόταν για μια ακόμη φορά πάνω στα γόνατα της Δούκισσας,\\nενώ τα πιάτα και οι πιατέλες γίνονταν θρύψαλα γύρω του· για\\nάλλη μια φορά γέμισε τον αέρα το γρύλισμα του Γρύπα, το\\nγρατζούνισμα του κοντυλιού της Σαύρας πάνω στην πλάκα και\\nοι πνιγμένες τσιρίδες των ινδικών χοιριδίων, ανακατεμένες με\\nτους μακρινούς λυγμούς της Ψευτοχελώνας.\\n\\nΈτσι, έμεινε καθισμένη εκεί, με κλειστά μάτια και σχεδόν\\nπίστευε πως βρίσκεται κι η ίδια στη Χώρα των Θαυμάτων, αν\\nκαι ήξερε πως δεν είχε παρά ν’ανοίξει τα μάτια της ξανά, για\\nνα βρεθεί πάλι στη βαρετή πραγματικότητα- το χορτάρι θα\\nθρόιζε μόνο από τον αέρα κι η λιμνούλα θα ρυτιδώνοταν μόνο\\nαπ’το κυμάτισμα των καλαμιών ο θόρυβος από τα φλυτζάνια\\nτου τσαγιού θα ήταν ό ήχος από τα κουδούνια των προβάτων\\nκαι τα ουρλιαχτά της Βασίλισσας η φωνή του μικρού βοσκούκαι το φτέρνισμα του μωρού, το γρύλισμα του Γρύπα κι όλοι οι\\nάλλοι περίεργοι θόρυβοι θα μεταβάλλονταν (το ήξερε καλά)\\nστην συγκεχυμένη φασαρία από το πολυάσχολο αγρόκτημα\\nενώ το βέλασμα των κοπαδιών, πέρα μακριά, θα έπαιρνε τη θέση των βαριών λυγμών της Ψευτοχελώνας.\\n\\nΤέλος, είδε με τη φαντασία της αυτή την ίδια τη μικρή της αδελφή να γίνεται αργότερα γυναίκα και να διατηρεί, ακόμη και\\nστην ώριμη ηλικία της, την απλή και γεμάτη αγάπη καρδιά των\\nπαιδικών της χρόνων και να μαζεύει γύρω της άλλα παιδάκια\\nκαι να κάνει τα δικά τους μάτια να λάμπουν αχόρταγα με ένα\\nσωρό παράξενες ιστορίες, ίσως ακόμη και με το παλιό όνειρο\\nτης Χώρας των Θαυμάτων και θα υπέφερε με όλους τους μικρούς καημούς τους και θα χαιρόταν με τις χαρές τους, ενώ θα\\nθυμόταν τη δική της παιδική ζωή και τις ευτυχισμένες καλοκαιριάτικες μέρες.'"
     },
     "execution_count": 27,
     "metadata": {},
     "output_type": "execute_result"
    }
   ],
   "source": [
    "l2_text_clean"
   ],
   "metadata": {
    "collapsed": false,
    "pycharm": {
     "name": "#%%\n"
    }
   }
  },
  {
   "cell_type": "markdown",
   "source": [
    "### Align"
   ],
   "metadata": {
    "collapsed": false,
    "pycharm": {
     "name": "#%% md\n"
    }
   }
  },
  {
   "cell_type": "code",
   "execution_count": 28,
   "outputs": [
    {
     "data": {
      "text/plain": "'../Texts_Aligned/Alice/de_alice.el_alice'"
     },
     "execution_count": 28,
     "metadata": {},
     "output_type": "execute_result"
    }
   ],
   "source": [
    "aligned_path = \"../Texts_Aligned/Alice/\"\n",
    "if not os.path.isdir(aligned_path):\n",
    "    os.mkdir(aligned_path)\n",
    "cur_aligned_path = os.path.join(aligned_path, f\"de_alice.{lang2}_alice\")\n",
    "if not os.path.isdir(cur_aligned_path):\n",
    "    os.mkdir(cur_aligned_path)\n",
    "cur_aligned_path"
   ],
   "metadata": {
    "collapsed": false,
    "pycharm": {
     "name": "#%%\n"
    }
   }
  },
  {
   "cell_type": "markdown",
   "source": [
    "Load the cleaned texts for each lang"
   ],
   "metadata": {
    "collapsed": false,
    "pycharm": {
     "name": "#%% md\n"
    }
   }
  },
  {
   "cell_type": "code",
   "execution_count": 29,
   "outputs": [],
   "source": [
    "de_cleaned_fpaths = glob.glob(os.path.join(de_cleaned_path, \"*.txt\"))\n",
    "l2_cleaned_fpaths = glob.glob(os.path.join(l2_cleaned_path, \"*.txt\"))"
   ],
   "metadata": {
    "collapsed": false,
    "pycharm": {
     "name": "#%%\n"
    }
   }
  },
  {
   "cell_type": "code",
   "execution_count": 30,
   "outputs": [],
   "source": [
    "def run_align(lf_cmd):\n",
    "    orig_dir = os.getcwd()\n",
    "    os.chdir(trglobals.lf_path)\n",
    "    #print(f\"Running command from {os.getcwd()}\")\n",
    "    print(f\"Running command: {lf_cmd}\")\n",
    "    result = subprocess.check_output(lf_cmd, shell=True)\n",
    "    #align_logs.append(result)\n",
    "    os.chdir(orig_dir)\n",
    "    return result"
   ],
   "metadata": {
    "collapsed": false,
    "pycharm": {
     "name": "#%%\n"
    }
   }
  },
  {
   "cell_type": "code",
   "execution_count": 32,
   "outputs": [
    {
     "name": "stdout",
     "output_type": "stream",
     "text": [
      "Processing ch01\n",
      "Running command: LF_aligner_4.1.exe --filetype=\"t\" --infiles=\"../Texts/Alice/alice_de_cleaned\\ch01.alice_de.txt\",\"../Texts/Alice/alice_el_cleaned\\ch01.alice_el.txt\" --outfile=\"../Texts_Aligned/Alice/de_alice.el_alice\\ch01.tsv\" --languages=\"de\",\"el\" --segment=\"y\" --review=\"n\" --tmx=\"n\"\n",
      "Processing ch02\n",
      "Running command: LF_aligner_4.1.exe --filetype=\"t\" --infiles=\"../Texts/Alice/alice_de_cleaned\\ch02.alice_de.txt\",\"../Texts/Alice/alice_el_cleaned\\ch02.alice_el.txt\" --outfile=\"../Texts_Aligned/Alice/de_alice.el_alice\\ch02.tsv\" --languages=\"de\",\"el\" --segment=\"y\" --review=\"n\" --tmx=\"n\"\n",
      "Processing ch03\n",
      "Running command: LF_aligner_4.1.exe --filetype=\"t\" --infiles=\"../Texts/Alice/alice_de_cleaned\\ch03.alice_de.txt\",\"../Texts/Alice/alice_el_cleaned\\ch03.alice_el.txt\" --outfile=\"../Texts_Aligned/Alice/de_alice.el_alice\\ch03.tsv\" --languages=\"de\",\"el\" --segment=\"y\" --review=\"n\" --tmx=\"n\"\n",
      "Processing ch04\n",
      "Running command: LF_aligner_4.1.exe --filetype=\"t\" --infiles=\"../Texts/Alice/alice_de_cleaned\\ch04.alice_de.txt\",\"../Texts/Alice/alice_el_cleaned\\ch04.alice_el.txt\" --outfile=\"../Texts_Aligned/Alice/de_alice.el_alice\\ch04.tsv\" --languages=\"de\",\"el\" --segment=\"y\" --review=\"n\" --tmx=\"n\"\n",
      "Processing ch05\n",
      "Running command: LF_aligner_4.1.exe --filetype=\"t\" --infiles=\"../Texts/Alice/alice_de_cleaned\\ch05.alice_de.txt\",\"../Texts/Alice/alice_el_cleaned\\ch05.alice_el.txt\" --outfile=\"../Texts_Aligned/Alice/de_alice.el_alice\\ch05.tsv\" --languages=\"de\",\"el\" --segment=\"y\" --review=\"n\" --tmx=\"n\"\n",
      "Processing ch06\n",
      "Running command: LF_aligner_4.1.exe --filetype=\"t\" --infiles=\"../Texts/Alice/alice_de_cleaned\\ch06.alice_de.txt\",\"../Texts/Alice/alice_el_cleaned\\ch06.alice_el.txt\" --outfile=\"../Texts_Aligned/Alice/de_alice.el_alice\\ch06.tsv\" --languages=\"de\",\"el\" --segment=\"y\" --review=\"n\" --tmx=\"n\"\n",
      "Processing ch07\n",
      "Running command: LF_aligner_4.1.exe --filetype=\"t\" --infiles=\"../Texts/Alice/alice_de_cleaned\\ch07.alice_de.txt\",\"../Texts/Alice/alice_el_cleaned\\ch07.alice_el.txt\" --outfile=\"../Texts_Aligned/Alice/de_alice.el_alice\\ch07.tsv\" --languages=\"de\",\"el\" --segment=\"y\" --review=\"n\" --tmx=\"n\"\n",
      "Processing ch08\n",
      "Running command: LF_aligner_4.1.exe --filetype=\"t\" --infiles=\"../Texts/Alice/alice_de_cleaned\\ch08.alice_de.txt\",\"../Texts/Alice/alice_el_cleaned\\ch08.alice_el.txt\" --outfile=\"../Texts_Aligned/Alice/de_alice.el_alice\\ch08.tsv\" --languages=\"de\",\"el\" --segment=\"y\" --review=\"n\" --tmx=\"n\"\n",
      "Processing ch09\n",
      "Running command: LF_aligner_4.1.exe --filetype=\"t\" --infiles=\"../Texts/Alice/alice_de_cleaned\\ch09.alice_de.txt\",\"../Texts/Alice/alice_el_cleaned\\ch09.alice_el.txt\" --outfile=\"../Texts_Aligned/Alice/de_alice.el_alice\\ch09.tsv\" --languages=\"de\",\"el\" --segment=\"y\" --review=\"n\" --tmx=\"n\"\n",
      "Processing ch10\n",
      "Running command: LF_aligner_4.1.exe --filetype=\"t\" --infiles=\"../Texts/Alice/alice_de_cleaned\\ch10.alice_de.txt\",\"../Texts/Alice/alice_el_cleaned\\ch10.alice_el.txt\" --outfile=\"../Texts_Aligned/Alice/de_alice.el_alice\\ch10.tsv\" --languages=\"de\",\"el\" --segment=\"y\" --review=\"n\" --tmx=\"n\"\n",
      "Processing ch11\n",
      "Running command: LF_aligner_4.1.exe --filetype=\"t\" --infiles=\"../Texts/Alice/alice_de_cleaned\\ch11.alice_de.txt\",\"../Texts/Alice/alice_el_cleaned\\ch11.alice_el.txt\" --outfile=\"../Texts_Aligned/Alice/de_alice.el_alice\\ch11.tsv\" --languages=\"de\",\"el\" --segment=\"y\" --review=\"n\" --tmx=\"n\"\n",
      "Processing ch12\n",
      "Running command: LF_aligner_4.1.exe --filetype=\"t\" --infiles=\"../Texts/Alice/alice_de_cleaned\\ch12.alice_de.txt\",\"../Texts/Alice/alice_el_cleaned\\ch12.alice_el.txt\" --outfile=\"../Texts_Aligned/Alice/de_alice.el_alice\\ch12.tsv\" --languages=\"de\",\"el\" --segment=\"y\" --review=\"n\" --tmx=\"n\"\n"
     ]
    }
   ],
   "source": [
    "align_logs = {}\n",
    "for de_fpath, l2_fpath in zip(de_cleaned_fpaths, l2_cleaned_fpaths):\n",
    "    de_fname = os.path.basename(de_fpath)\n",
    "    ch_num_str = de_fname.split(\".\")[0]\n",
    "    print(f\"Processing {ch_num_str}\")\n",
    "    cur_aligned_fpath = os.path.join(cur_aligned_path, f\"{ch_num_str}.tsv\")\n",
    "    lf_cmd = trglobals.get_lf_cmd('de', lang2, de_fpath, l2_fpath, cur_aligned_fpath)\n",
    "    try:\n",
    "        result = run_align(lf_cmd)\n",
    "        align_logs[ch_num_str] = result\n",
    "    except subprocess.CalledProcessError as e:\n",
    "        print(e)\n",
    "        align_logs[ch_num_str] = e\n",
    "        break"
   ],
   "metadata": {
    "collapsed": false,
    "pycharm": {
     "name": "#%%\n"
    }
   }
  },
  {
   "cell_type": "markdown",
   "source": [
    "### TMD on output"
   ],
   "metadata": {
    "collapsed": false,
    "pycharm": {
     "name": "#%% md\n"
    }
   }
  },
  {
   "cell_type": "code",
   "execution_count": 33,
   "outputs": [],
   "source": [
    "# Collect all the chapters into a single df"
   ],
   "metadata": {
    "collapsed": false,
    "pycharm": {
     "name": "#%%\n"
    }
   }
  },
  {
   "cell_type": "code",
   "execution_count": 34,
   "outputs": [
    {
     "data": {
      "text/plain": "['../Texts_Aligned/Alice/de_alice.el_alice\\\\ch01.tsv',\n '../Texts_Aligned/Alice/de_alice.el_alice\\\\ch02.tsv',\n '../Texts_Aligned/Alice/de_alice.el_alice\\\\ch03.tsv',\n '../Texts_Aligned/Alice/de_alice.el_alice\\\\ch04.tsv',\n '../Texts_Aligned/Alice/de_alice.el_alice\\\\ch05.tsv',\n '../Texts_Aligned/Alice/de_alice.el_alice\\\\ch06.tsv',\n '../Texts_Aligned/Alice/de_alice.el_alice\\\\ch07.tsv',\n '../Texts_Aligned/Alice/de_alice.el_alice\\\\ch08.tsv',\n '../Texts_Aligned/Alice/de_alice.el_alice\\\\ch09.tsv',\n '../Texts_Aligned/Alice/de_alice.el_alice\\\\ch10.tsv',\n '../Texts_Aligned/Alice/de_alice.el_alice\\\\ch11.tsv',\n '../Texts_Aligned/Alice/de_alice.el_alice\\\\ch12.tsv']"
     },
     "execution_count": 34,
     "metadata": {},
     "output_type": "execute_result"
    }
   ],
   "source": [
    "aligned_fpaths = glob.glob(os.path.join(cur_aligned_path, \"*.tsv\"))\n",
    "aligned_fpaths"
   ],
   "metadata": {
    "collapsed": false,
    "pycharm": {
     "name": "#%%\n"
    }
   }
  },
  {
   "cell_type": "code",
   "execution_count": 35,
   "outputs": [
    {
     "name": "stdout",
     "output_type": "stream",
     "text": [
      "Computing tmd for ch01.tsv\n"
     ]
    },
    {
     "name": "stderr",
     "output_type": "stream",
     "text": [
      "100%|██████████| 534/534 [00:00<00:00, 584.49it/s]\n"
     ]
    },
    {
     "name": "stdout",
     "output_type": "stream",
     "text": [
      "Computing tmd for ch02.tsv\n"
     ]
    },
    {
     "name": "stderr",
     "output_type": "stream",
     "text": [
      "100%|██████████| 522/522 [00:01<00:00, 502.46it/s]\n"
     ]
    },
    {
     "name": "stdout",
     "output_type": "stream",
     "text": [
      "Computing tmd for ch03.tsv\n"
     ]
    },
    {
     "name": "stderr",
     "output_type": "stream",
     "text": [
      "100%|██████████| 508/508 [00:00<00:00, 623.84it/s]\n"
     ]
    },
    {
     "name": "stdout",
     "output_type": "stream",
     "text": [
      "Computing tmd for ch04.tsv\n"
     ]
    },
    {
     "name": "stderr",
     "output_type": "stream",
     "text": [
      "100%|██████████| 559/559 [00:01<00:00, 503.06it/s]\n"
     ]
    },
    {
     "name": "stdout",
     "output_type": "stream",
     "text": [
      "Computing tmd for ch05.tsv\n"
     ]
    },
    {
     "name": "stderr",
     "output_type": "stream",
     "text": [
      "100%|██████████| 327/327 [00:00<00:00, 486.46it/s]\n"
     ]
    },
    {
     "name": "stdout",
     "output_type": "stream",
     "text": [
      "Computing tmd for ch06.tsv\n"
     ]
    },
    {
     "name": "stderr",
     "output_type": "stream",
     "text": [
      "100%|██████████| 346/346 [00:00<00:00, 475.17it/s]\n"
     ]
    },
    {
     "name": "stdout",
     "output_type": "stream",
     "text": [
      "Computing tmd for ch07.tsv\n"
     ]
    },
    {
     "name": "stderr",
     "output_type": "stream",
     "text": [
      "100%|██████████| 358/358 [00:00<00:00, 526.47it/s]\n"
     ]
    },
    {
     "name": "stdout",
     "output_type": "stream",
     "text": [
      "Computing tmd for ch08.tsv\n"
     ]
    },
    {
     "name": "stderr",
     "output_type": "stream",
     "text": [
      "100%|██████████| 336/336 [00:00<00:00, 439.34it/s]\n"
     ]
    },
    {
     "name": "stdout",
     "output_type": "stream",
     "text": [
      "Computing tmd for ch09.tsv\n"
     ]
    },
    {
     "name": "stderr",
     "output_type": "stream",
     "text": [
      "100%|██████████| 333/333 [00:00<00:00, 438.53it/s]\n"
     ]
    },
    {
     "name": "stdout",
     "output_type": "stream",
     "text": [
      "Computing tmd for ch10.tsv\n"
     ]
    },
    {
     "name": "stderr",
     "output_type": "stream",
     "text": [
      "100%|██████████| 330/330 [00:00<00:00, 507.46it/s]\n"
     ]
    },
    {
     "name": "stdout",
     "output_type": "stream",
     "text": [
      "Computing tmd for ch11.tsv\n"
     ]
    },
    {
     "name": "stderr",
     "output_type": "stream",
     "text": [
      "100%|██████████| 296/296 [00:00<00:00, 478.08it/s]\n"
     ]
    },
    {
     "name": "stdout",
     "output_type": "stream",
     "text": [
      "Computing tmd for ch12.tsv\n"
     ]
    },
    {
     "name": "stderr",
     "output_type": "stream",
     "text": [
      "100%|██████████| 310/310 [00:00<00:00, 439.61it/s]\n"
     ]
    }
   ],
   "source": [
    "all_dfs = []\n",
    "for cur_aligned_fpath in aligned_fpaths:\n",
    "    cur_fname = os.path.basename(cur_aligned_fpath)\n",
    "    print(f\"Computing tmd for {cur_fname}\")\n",
    "    cur_align_df = pd.read_csv(cur_aligned_fpath, delimiter=\"\\t\", header=None)\n",
    "    cur_align_df.columns = ['de',lang2,'alignment_id']\n",
    "    cur_align_df['tmd'] = trglobals.compute_tmd_df(cur_align_df)\n",
    "    all_dfs.append(cur_align_df)"
   ],
   "metadata": {
    "collapsed": false,
    "pycharm": {
     "name": "#%%\n"
    }
   }
  },
  {
   "cell_type": "code",
   "execution_count": 36,
   "outputs": [],
   "source": [
    "full_df = pd.concat(all_dfs)"
   ],
   "metadata": {
    "collapsed": false,
    "pycharm": {
     "name": "#%%\n"
    }
   }
  },
  {
   "cell_type": "code",
   "execution_count": 37,
   "outputs": [
    {
     "data": {
      "text/plain": "1.0689026715169005"
     },
     "execution_count": 37,
     "metadata": {},
     "output_type": "execute_result"
    }
   ],
   "source": [
    "l2_mean = full_df[~np.isinf(full_df['tmd'])]['tmd'].mean()\n",
    "l2_mean"
   ],
   "metadata": {
    "collapsed": false,
    "pycharm": {
     "name": "#%%\n"
    }
   }
  },
  {
   "cell_type": "code",
   "execution_count": 41,
   "outputs": [
    {
     "data": {
      "text/plain": "['./lang_stats/alice_el_mean.pkl']"
     },
     "execution_count": 41,
     "metadata": {},
     "output_type": "execute_result"
    }
   ],
   "source": [
    "joblib.dump(l2_mean, f'./lang_stats/alice_{lang2}_mean.pkl')"
   ],
   "metadata": {
    "collapsed": false,
    "pycharm": {
     "name": "#%%\n"
    }
   }
  },
  {
   "cell_type": "code",
   "execution_count": null,
   "outputs": [],
   "source": [],
   "metadata": {
    "collapsed": false,
    "pycharm": {
     "name": "#%%\n"
    }
   }
  }
 ],
 "metadata": {
  "kernelspec": {
   "display_name": "Python 3",
   "language": "python",
   "name": "python3"
  },
  "language_info": {
   "codemirror_mode": {
    "name": "ipython",
    "version": 2
   },
   "file_extension": ".py",
   "mimetype": "text/x-python",
   "name": "python",
   "nbconvert_exporter": "python",
   "pygments_lexer": "ipython2",
   "version": "2.7.6"
  }
 },
 "nbformat": 4,
 "nbformat_minor": 0
}