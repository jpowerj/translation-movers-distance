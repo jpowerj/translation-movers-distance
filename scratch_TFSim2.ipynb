{
 "cells": [
  {
   "cell_type": "markdown",
   "metadata": {
    "collapsed": true,
    "pycharm": {
     "name": "#%% md\n"
    }
   },
   "source": [
    "### Cross-lingual sentence similarity using TensorFlow\n",
    "\n",
    "Based on https://colab.research.google.com/github/tensorflow/hub/blob/master/examples/colab/cross_lingual_similarity_with_tf_hub_multilingual_universal_encoder.ipynb#scrollTo=MSeY-MUQo2Ha"
   ]
  },
  {
   "cell_type": "markdown",
   "source": [
    "But, this time using LaBSE"
   ],
   "metadata": {
    "collapsed": false,
    "pycharm": {
     "name": "#%% md\n"
    }
   }
  },
  {
   "cell_type": "code",
   "execution_count": 2,
   "outputs": [],
   "source": [
    "%load_ext autoreload\n",
    "%autoreload 2"
   ],
   "metadata": {
    "collapsed": false,
    "pycharm": {
     "name": "#%%\n"
    }
   }
  },
  {
   "cell_type": "code",
   "execution_count": 40,
   "outputs": [],
   "source": [
    "import pandas as pd\n",
    "import numpy as np\n",
    "from sentence_transformers import SentenceTransformer\n",
    "from tqdm import tqdm\n",
    "import sklearn"
   ],
   "metadata": {
    "collapsed": false,
    "pycharm": {
     "name": "#%%\n"
    }
   }
  },
  {
   "cell_type": "code",
   "execution_count": 8,
   "outputs": [],
   "source": [
    "tqdm.pandas()"
   ],
   "metadata": {
    "collapsed": false,
    "pycharm": {
     "name": "#%%\n"
    }
   }
  },
  {
   "cell_type": "code",
   "execution_count": 9,
   "outputs": [],
   "source": [
    "def _layer(lines, num_overlaps, comb=' '):\n",
    "    if num_overlaps < 1:\n",
    "        raise Exception('num_overlaps must be >= 1')\n",
    "    out = ['PAD', ] * min(num_overlaps - 1, len(lines))\n",
    "    for ii in range(len(lines) - num_overlaps + 1):\n",
    "        out.append(comb.join(lines[ii:ii + num_overlaps]))\n",
    "    return out\n",
    "\n",
    "def _preprocess_line(line):\n",
    "    line = line.strip()\n",
    "    if len(line) == 0:\n",
    "        line = 'BLANK_LINE'\n",
    "    return line\n",
    "\n",
    "def yield_overlaps(lines, num_overlaps):\n",
    "    lines = [_preprocess_line(line) for line in lines]\n",
    "    for overlap in range(1, num_overlaps + 1):\n",
    "        for out_line in _layer(lines, overlap):\n",
    "            # check must be here so all outputs are unique\n",
    "            out_line2 = out_line[:10000]  # limit line so dont encode arbitrarily long sentences\n",
    "            yield out_line2"
   ],
   "metadata": {
    "collapsed": false,
    "pycharm": {
     "name": "#%%\n"
    }
   }
  },
  {
   "cell_type": "code",
   "execution_count": 10,
   "outputs": [],
   "source": [
    "class Encoder:\n",
    "    def __init__(self, model_name):\n",
    "        self.model = SentenceTransformer(model_name)\n",
    "        self.model_name = model_name\n",
    "\n",
    "    def transform(self, sents, num_overlaps):\n",
    "        overlaps = []\n",
    "        for line in yield_overlaps(sents, num_overlaps):\n",
    "            overlaps.append(line)\n",
    "\n",
    "        sent_vecs = self.model.encode(overlaps)\n",
    "        embedding_dim = sent_vecs.size // (len(sents) * num_overlaps)\n",
    "        sent_vecs.resize(num_overlaps, len(sents), embedding_dim)\n",
    "\n",
    "        len_vecs = [len(line.encode(\"utf-8\")) for line in overlaps]\n",
    "        len_vecs = np.array(len_vecs)\n",
    "        len_vecs.resize(num_overlaps, len(sents))\n",
    "\n",
    "        return sent_vecs, len_vecs"
   ],
   "metadata": {
    "collapsed": false,
    "pycharm": {
     "name": "#%%\n"
    }
   }
  },
  {
   "cell_type": "code",
   "execution_count": 11,
   "outputs": [
    {
     "data": {
      "text/plain": "Downloading:   0%|          | 0.00/391 [00:00<?, ?B/s]",
      "application/vnd.jupyter.widget-view+json": {
       "version_major": 2,
       "version_minor": 0,
       "model_id": "27d1562c7b3948b8a14d154ee802593f"
      }
     },
     "metadata": {},
     "output_type": "display_data"
    },
    {
     "data": {
      "text/plain": "Downloading:   0%|          | 0.00/190 [00:00<?, ?B/s]",
      "application/vnd.jupyter.widget-view+json": {
       "version_major": 2,
       "version_minor": 0,
       "model_id": "efdba4a1f8e348359bfbe9c4c0bff06a"
      }
     },
     "metadata": {},
     "output_type": "display_data"
    },
    {
     "data": {
      "text/plain": "Downloading:   0%|          | 0.00/114 [00:00<?, ?B/s]",
      "application/vnd.jupyter.widget-view+json": {
       "version_major": 2,
       "version_minor": 0,
       "model_id": "9353a80a09bf481a9236152af2557489"
      }
     },
     "metadata": {},
     "output_type": "display_data"
    },
    {
     "data": {
      "text/plain": "Downloading:   0%|          | 0.00/2.36M [00:00<?, ?B/s]",
      "application/vnd.jupyter.widget-view+json": {
       "version_major": 2,
       "version_minor": 0,
       "model_id": "38850e363c0a4864abf9af0ed0963391"
      }
     },
     "metadata": {},
     "output_type": "display_data"
    },
    {
     "data": {
      "text/plain": "Downloading:   0%|          | 0.00/1.62k [00:00<?, ?B/s]",
      "application/vnd.jupyter.widget-view+json": {
       "version_major": 2,
       "version_minor": 0,
       "model_id": "eb0dd315b77749bfa8a763cd1c6df6dc"
      }
     },
     "metadata": {},
     "output_type": "display_data"
    },
    {
     "data": {
      "text/plain": "Downloading:   0%|          | 0.00/804 [00:00<?, ?B/s]",
      "application/vnd.jupyter.widget-view+json": {
       "version_major": 2,
       "version_minor": 0,
       "model_id": "da2446d0b6c1441e8daef6bc9a08b86e"
      }
     },
     "metadata": {},
     "output_type": "display_data"
    },
    {
     "data": {
      "text/plain": "Downloading:   0%|          | 0.00/122 [00:00<?, ?B/s]",
      "application/vnd.jupyter.widget-view+json": {
       "version_major": 2,
       "version_minor": 0,
       "model_id": "5821a9157b6e4f039e49ba0a8cd0049a"
      }
     },
     "metadata": {},
     "output_type": "display_data"
    },
    {
     "data": {
      "text/plain": "Downloading:   0%|          | 0.00/461 [00:00<?, ?B/s]",
      "application/vnd.jupyter.widget-view+json": {
       "version_major": 2,
       "version_minor": 0,
       "model_id": "99c98112042e40018a63936c235cc0f8"
      }
     },
     "metadata": {},
     "output_type": "display_data"
    },
    {
     "data": {
      "text/plain": "Downloading:   0%|          | 0.00/1.88G [00:00<?, ?B/s]",
      "application/vnd.jupyter.widget-view+json": {
       "version_major": 2,
       "version_minor": 0,
       "model_id": "9430c8a1c0fd4cb6adf40042fdac15ff"
      }
     },
     "metadata": {},
     "output_type": "display_data"
    },
    {
     "data": {
      "text/plain": "Downloading:   0%|          | 0.00/53.0 [00:00<?, ?B/s]",
      "application/vnd.jupyter.widget-view+json": {
       "version_major": 2,
       "version_minor": 0,
       "model_id": "fa029f6d6392467791b39ced118bc46c"
      }
     },
     "metadata": {},
     "output_type": "display_data"
    },
    {
     "data": {
      "text/plain": "Downloading:   0%|          | 0.00/112 [00:00<?, ?B/s]",
      "application/vnd.jupyter.widget-view+json": {
       "version_major": 2,
       "version_minor": 0,
       "model_id": "2b71389c123b4a49b15eaa33fe42f91f"
      }
     },
     "metadata": {},
     "output_type": "display_data"
    },
    {
     "data": {
      "text/plain": "Downloading:   0%|          | 0.00/9.62M [00:00<?, ?B/s]",
      "application/vnd.jupyter.widget-view+json": {
       "version_major": 2,
       "version_minor": 0,
       "model_id": "a9f119e3741a42edbb48ca85f373317e"
      }
     },
     "metadata": {},
     "output_type": "display_data"
    },
    {
     "data": {
      "text/plain": "Downloading:   0%|          | 0.00/411 [00:00<?, ?B/s]",
      "application/vnd.jupyter.widget-view+json": {
       "version_major": 2,
       "version_minor": 0,
       "model_id": "ba4624ce67da465cb3b7a3283d5eb1a7"
      }
     },
     "metadata": {},
     "output_type": "display_data"
    },
    {
     "data": {
      "text/plain": "Downloading:   0%|          | 0.00/5.22M [00:00<?, ?B/s]",
      "application/vnd.jupyter.widget-view+json": {
       "version_major": 2,
       "version_minor": 0,
       "model_id": "fbe545b34158444197b4785ca25a1ac4"
      }
     },
     "metadata": {},
     "output_type": "display_data"
    }
   ],
   "source": [
    "model_name = \"LaBSE\"\n",
    "model = Encoder(model_name)"
   ],
   "metadata": {
    "collapsed": false,
    "pycharm": {
     "name": "#%%\n"
    }
   }
  },
  {
   "cell_type": "code",
   "execution_count": 26,
   "outputs": [],
   "source": [
    "src_sents = [\"That is good.\",\"That is great!\"]\n",
    "tgt_sents = [\"Das ist gut.\", \"Das ist nicht gut.\", \"Ja, ich bin ein Berliner.\"]\n",
    "max_align = 5"
   ],
   "metadata": {
    "collapsed": false,
    "pycharm": {
     "name": "#%%\n"
    }
   }
  },
  {
   "cell_type": "code",
   "execution_count": 27,
   "outputs": [],
   "source": [
    "src_result = model.model.encode(src_sents)\n",
    "tgt_result = model.model.encode(tgt_sents)"
   ],
   "metadata": {
    "collapsed": false,
    "pycharm": {
     "name": "#%%\n"
    }
   }
  },
  {
   "cell_type": "code",
   "execution_count": 28,
   "outputs": [
    {
     "data": {
      "text/plain": "(2, 768)"
     },
     "execution_count": 28,
     "metadata": {},
     "output_type": "execute_result"
    }
   ],
   "source": [
    "src_result.shape"
   ],
   "metadata": {
    "collapsed": false,
    "pycharm": {
     "name": "#%%\n"
    }
   }
  },
  {
   "cell_type": "code",
   "execution_count": 29,
   "outputs": [
    {
     "data": {
      "text/plain": "(3, 768)"
     },
     "execution_count": 29,
     "metadata": {},
     "output_type": "execute_result"
    }
   ],
   "source": [
    "tgt_result.shape"
   ],
   "metadata": {
    "collapsed": false,
    "pycharm": {
     "name": "#%%\n"
    }
   }
  },
  {
   "cell_type": "code",
   "execution_count": 33,
   "outputs": [
    {
     "data": {
      "text/plain": "(768,)"
     },
     "execution_count": 33,
     "metadata": {},
     "output_type": "execute_result"
    }
   ],
   "source": [
    "src_result[0,:].shape"
   ],
   "metadata": {
    "collapsed": false,
    "pycharm": {
     "name": "#%%\n"
    }
   }
  },
  {
   "cell_type": "code",
   "execution_count": 31,
   "outputs": [
    {
     "data": {
      "text/plain": "1.0"
     },
     "execution_count": 31,
     "metadata": {},
     "output_type": "execute_result"
    }
   ],
   "source": [
    "np.linalg.norm(src_result[0,:])"
   ],
   "metadata": {
    "collapsed": false,
    "pycharm": {
     "name": "#%%\n"
    }
   }
  },
  {
   "cell_type": "code",
   "execution_count": 41,
   "outputs": [],
   "source": [
    "def compute_sim(l1_tensor, l2_tensor):\n",
    "    sim = 1 - np.arccos(sklearn.metrics.pairwise.cosine_similarity(l1_tensor, l2_tensor))/np.pi\n",
    "    return float(sim)"
   ],
   "metadata": {
    "collapsed": false,
    "pycharm": {
     "name": "#%%\n"
    }
   }
  },
  {
   "cell_type": "code",
   "execution_count": 42,
   "outputs": [
    {
     "data": {
      "text/plain": "0.93773484"
     },
     "execution_count": 42,
     "metadata": {},
     "output_type": "execute_result"
    }
   ],
   "source": [
    "np.dot(src_result[0,:],tgt_result[0,:])"
   ],
   "metadata": {
    "collapsed": false,
    "pycharm": {
     "name": "#%%\n"
    }
   }
  },
  {
   "cell_type": "code",
   "execution_count": 43,
   "outputs": [
    {
     "data": {
      "text/plain": "0.6652988"
     },
     "execution_count": 43,
     "metadata": {},
     "output_type": "execute_result"
    }
   ],
   "source": [
    "np.dot(src_result[1,:],tgt_result[0,:])"
   ],
   "metadata": {
    "collapsed": false,
    "pycharm": {
     "name": "#%%\n"
    }
   }
  },
  {
   "cell_type": "code",
   "execution_count": 45,
   "outputs": [
    {
     "data": {
      "text/plain": "0.8870809078216553"
     },
     "execution_count": 45,
     "metadata": {},
     "output_type": "execute_result"
    }
   ],
   "source": [
    "compute_sim([src_result[0,:]], [tgt_result[0,:]])"
   ],
   "metadata": {
    "collapsed": false,
    "pycharm": {
     "name": "#%%\n"
    }
   }
  },
  {
   "cell_type": "code",
   "execution_count": 46,
   "outputs": [
    {
     "data": {
      "text/plain": "0.7316958904266357"
     },
     "execution_count": 46,
     "metadata": {},
     "output_type": "execute_result"
    }
   ],
   "source": [
    "compute_sim([src_result[1,:]], [tgt_result[0,:]])"
   ],
   "metadata": {
    "collapsed": false,
    "pycharm": {
     "name": "#%%\n"
    }
   }
  },
  {
   "cell_type": "code",
   "execution_count": 14,
   "outputs": [
    {
     "name": "stdout",
     "output_type": "stream",
     "text": [
      "Embedding source and target text using LaBSE ...\n"
     ]
    }
   ],
   "source": [
    "print(\"Embedding source and target text using {} ...\".format(model.model_name))\n",
    "src_vecs, src_lens = model.transform(src_sents, max_align - 1)\n",
    "tgt_vecs, tgt_lens = model.transform(tgt_sents, max_align - 1)"
   ],
   "metadata": {
    "collapsed": false,
    "pycharm": {
     "name": "#%%\n"
    }
   }
  },
  {
   "cell_type": "code",
   "execution_count": 47,
   "outputs": [
    {
     "ename": "InternalError",
     "evalue": "Failed copying input tensor from /job:localhost/replica:0/task:0/device:CPU:0 to /job:localhost/replica:0/task:0/device:GPU:0 in order to run Identity: Dst tensor is not initialized. [Op:Identity]",
     "output_type": "error",
     "traceback": [
      "\u001B[1;31m---------------------------------------------------------------------------\u001B[0m",
      "\u001B[1;31mInternalError\u001B[0m                             Traceback (most recent call last)",
      "Input \u001B[1;32mIn [47]\u001B[0m, in \u001B[0;36m<cell line: 5>\u001B[1;34m()\u001B[0m\n\u001B[0;32m      1\u001B[0m \u001B[38;5;28;01mimport\u001B[39;00m \u001B[38;5;21;01mtensorflow_hub\u001B[39;00m \u001B[38;5;28;01mas\u001B[39;00m \u001B[38;5;21;01mhub\u001B[39;00m\n\u001B[0;32m      3\u001B[0m module_url \u001B[38;5;241m=\u001B[39m \u001B[38;5;124m\"\u001B[39m\u001B[38;5;124mhttps://tfhub.dev/google/LaBSE/2\u001B[39m\u001B[38;5;124m\"\u001B[39m\n\u001B[1;32m----> 5\u001B[0m model \u001B[38;5;241m=\u001B[39m \u001B[43mhub\u001B[49m\u001B[38;5;241;43m.\u001B[39;49m\u001B[43mload\u001B[49m\u001B[43m(\u001B[49m\u001B[43mmodule_url\u001B[49m\u001B[43m)\u001B[49m\n\u001B[0;32m      7\u001B[0m \u001B[38;5;28;01mdef\u001B[39;00m \u001B[38;5;21membed_text\u001B[39m(\u001B[38;5;28minput\u001B[39m):\n\u001B[0;32m      8\u001B[0m     \u001B[38;5;28;01mreturn\u001B[39;00m model(\u001B[38;5;28minput\u001B[39m)\n",
      "File \u001B[1;32mC:\\Python310\\lib\\site-packages\\tensorflow_hub\\module_v2.py:106\u001B[0m, in \u001B[0;36mload\u001B[1;34m(handle, tags, options)\u001B[0m\n\u001B[0;32m    103\u001B[0m   obj \u001B[38;5;241m=\u001B[39m tf\u001B[38;5;241m.\u001B[39mcompat\u001B[38;5;241m.\u001B[39mv1\u001B[38;5;241m.\u001B[39msaved_model\u001B[38;5;241m.\u001B[39mload_v2(\n\u001B[0;32m    104\u001B[0m       module_path, tags\u001B[38;5;241m=\u001B[39mtags, options\u001B[38;5;241m=\u001B[39moptions)\n\u001B[0;32m    105\u001B[0m \u001B[38;5;28;01melse\u001B[39;00m:\n\u001B[1;32m--> 106\u001B[0m   obj \u001B[38;5;241m=\u001B[39m \u001B[43mtf\u001B[49m\u001B[38;5;241;43m.\u001B[39;49m\u001B[43mcompat\u001B[49m\u001B[38;5;241;43m.\u001B[39;49m\u001B[43mv1\u001B[49m\u001B[38;5;241;43m.\u001B[39;49m\u001B[43msaved_model\u001B[49m\u001B[38;5;241;43m.\u001B[39;49m\u001B[43mload_v2\u001B[49m\u001B[43m(\u001B[49m\u001B[43mmodule_path\u001B[49m\u001B[43m,\u001B[49m\u001B[43m \u001B[49m\u001B[43mtags\u001B[49m\u001B[38;5;241;43m=\u001B[39;49m\u001B[43mtags\u001B[49m\u001B[43m)\u001B[49m\n\u001B[0;32m    107\u001B[0m obj\u001B[38;5;241m.\u001B[39m_is_hub_module_v1 \u001B[38;5;241m=\u001B[39m is_hub_module_v1  \u001B[38;5;66;03m# pylint: disable=protected-access\u001B[39;00m\n\u001B[0;32m    108\u001B[0m \u001B[38;5;28;01mreturn\u001B[39;00m obj\n",
      "File \u001B[1;32mC:\\Python310\\lib\\site-packages\\tensorflow\\python\\saved_model\\load.py:936\u001B[0m, in \u001B[0;36mload\u001B[1;34m(export_dir, tags, options)\u001B[0m\n\u001B[0;32m    845\u001B[0m \u001B[38;5;129m@tf_export\u001B[39m(\u001B[38;5;124m\"\u001B[39m\u001B[38;5;124msaved_model.load\u001B[39m\u001B[38;5;124m\"\u001B[39m, v1\u001B[38;5;241m=\u001B[39m[\u001B[38;5;124m\"\u001B[39m\u001B[38;5;124msaved_model.load_v2\u001B[39m\u001B[38;5;124m\"\u001B[39m])\n\u001B[0;32m    846\u001B[0m \u001B[38;5;28;01mdef\u001B[39;00m \u001B[38;5;21mload\u001B[39m(export_dir, tags\u001B[38;5;241m=\u001B[39m\u001B[38;5;28;01mNone\u001B[39;00m, options\u001B[38;5;241m=\u001B[39m\u001B[38;5;28;01mNone\u001B[39;00m):\n\u001B[0;32m    847\u001B[0m   \u001B[38;5;124;03m\"\"\"Load a SavedModel from `export_dir`.\u001B[39;00m\n\u001B[0;32m    848\u001B[0m \n\u001B[0;32m    849\u001B[0m \u001B[38;5;124;03m  Signatures associated with the SavedModel are available as functions:\u001B[39;00m\n\u001B[1;32m   (...)\u001B[0m\n\u001B[0;32m    934\u001B[0m \u001B[38;5;124;03m    ValueError: If `tags` don't match a MetaGraph in the SavedModel.\u001B[39;00m\n\u001B[0;32m    935\u001B[0m \u001B[38;5;124;03m  \"\"\"\u001B[39;00m\n\u001B[1;32m--> 936\u001B[0m   result \u001B[38;5;241m=\u001B[39m \u001B[43mload_internal\u001B[49m\u001B[43m(\u001B[49m\u001B[43mexport_dir\u001B[49m\u001B[43m,\u001B[49m\u001B[43m \u001B[49m\u001B[43mtags\u001B[49m\u001B[43m,\u001B[49m\u001B[43m \u001B[49m\u001B[43moptions\u001B[49m\u001B[43m)\u001B[49m[\u001B[38;5;124m\"\u001B[39m\u001B[38;5;124mroot\u001B[39m\u001B[38;5;124m\"\u001B[39m]\n\u001B[0;32m    937\u001B[0m   \u001B[38;5;28;01mreturn\u001B[39;00m result\n",
      "File \u001B[1;32mC:\\Python310\\lib\\site-packages\\tensorflow\\python\\saved_model\\load.py:974\u001B[0m, in \u001B[0;36mload_internal\u001B[1;34m(export_dir, tags, options, loader_cls, filters)\u001B[0m\n\u001B[0;32m    972\u001B[0m \u001B[38;5;28;01mwith\u001B[39;00m ops\u001B[38;5;241m.\u001B[39minit_scope():\n\u001B[0;32m    973\u001B[0m   \u001B[38;5;28;01mtry\u001B[39;00m:\n\u001B[1;32m--> 974\u001B[0m     loader \u001B[38;5;241m=\u001B[39m \u001B[43mloader_cls\u001B[49m\u001B[43m(\u001B[49m\u001B[43mobject_graph_proto\u001B[49m\u001B[43m,\u001B[49m\u001B[43m \u001B[49m\u001B[43msaved_model_proto\u001B[49m\u001B[43m,\u001B[49m\u001B[43m \u001B[49m\u001B[43mexport_dir\u001B[49m\u001B[43m,\u001B[49m\n\u001B[0;32m    975\u001B[0m \u001B[43m                        \u001B[49m\u001B[43mckpt_options\u001B[49m\u001B[43m,\u001B[49m\u001B[43m \u001B[49m\u001B[43moptions\u001B[49m\u001B[43m,\u001B[49m\u001B[43m \u001B[49m\u001B[43mfilters\u001B[49m\u001B[43m)\u001B[49m\n\u001B[0;32m    976\u001B[0m   \u001B[38;5;28;01mexcept\u001B[39;00m errors\u001B[38;5;241m.\u001B[39mNotFoundError \u001B[38;5;28;01mas\u001B[39;00m err:\n\u001B[0;32m    977\u001B[0m     \u001B[38;5;28;01mraise\u001B[39;00m \u001B[38;5;167;01mFileNotFoundError\u001B[39;00m(\n\u001B[0;32m    978\u001B[0m         \u001B[38;5;28mstr\u001B[39m(err) \u001B[38;5;241m+\u001B[39m \u001B[38;5;124m\"\u001B[39m\u001B[38;5;130;01m\\n\u001B[39;00m\u001B[38;5;124m You may be trying to load on a different device \u001B[39m\u001B[38;5;124m\"\u001B[39m\n\u001B[0;32m    979\u001B[0m         \u001B[38;5;124m\"\u001B[39m\u001B[38;5;124mfrom the computational device. Consider setting the \u001B[39m\u001B[38;5;124m\"\u001B[39m\n\u001B[0;32m    980\u001B[0m         \u001B[38;5;124m\"\u001B[39m\u001B[38;5;124m`experimental_io_device` option in `tf.saved_model.LoadOptions` \u001B[39m\u001B[38;5;124m\"\u001B[39m\n\u001B[0;32m    981\u001B[0m         \u001B[38;5;124m\"\u001B[39m\u001B[38;5;124mto the io_device such as \u001B[39m\u001B[38;5;124m'\u001B[39m\u001B[38;5;124m/job:localhost\u001B[39m\u001B[38;5;124m'\u001B[39m\u001B[38;5;124m.\u001B[39m\u001B[38;5;124m\"\u001B[39m)\n",
      "File \u001B[1;32mC:\\Python310\\lib\\site-packages\\tensorflow\\python\\saved_model\\load.py:187\u001B[0m, in \u001B[0;36mLoader.__init__\u001B[1;34m(self, object_graph_proto, saved_model_proto, export_dir, ckpt_options, save_options, filters)\u001B[0m\n\u001B[0;32m    184\u001B[0m \u001B[38;5;28mself\u001B[39m\u001B[38;5;241m.\u001B[39m_load_all()\n\u001B[0;32m    186\u001B[0m \u001B[38;5;28;01mif\u001B[39;00m \u001B[38;5;129;01mnot\u001B[39;00m save_options\u001B[38;5;241m.\u001B[39mexperimental_skip_checkpoint:\n\u001B[1;32m--> 187\u001B[0m   \u001B[38;5;28;43mself\u001B[39;49m\u001B[38;5;241;43m.\u001B[39;49m\u001B[43m_restore_checkpoint\u001B[49m\u001B[43m(\u001B[49m\u001B[43m)\u001B[49m\n\u001B[0;32m    188\u001B[0m \u001B[38;5;28;01mfor\u001B[39;00m node \u001B[38;5;129;01min\u001B[39;00m \u001B[38;5;28mself\u001B[39m\u001B[38;5;241m.\u001B[39m_nodes:\n\u001B[0;32m    189\u001B[0m   \u001B[38;5;28;01mif\u001B[39;00m \u001B[38;5;28misinstance\u001B[39m(node, tracking\u001B[38;5;241m.\u001B[39mCapturableResource):\n",
      "File \u001B[1;32mC:\\Python310\\lib\\site-packages\\tensorflow\\python\\saved_model\\load.py:560\u001B[0m, in \u001B[0;36mLoader._restore_checkpoint\u001B[1;34m(self)\u001B[0m\n\u001B[0;32m    558\u001B[0m   load_status\u001B[38;5;241m.\u001B[39massert_nontrivial_match()\n\u001B[0;32m    559\u001B[0m \u001B[38;5;28;01melse\u001B[39;00m:\n\u001B[1;32m--> 560\u001B[0m   load_status \u001B[38;5;241m=\u001B[39m \u001B[43msaver\u001B[49m\u001B[38;5;241;43m.\u001B[39;49m\u001B[43mrestore\u001B[49m\u001B[43m(\u001B[49m\u001B[43mvariables_path\u001B[49m\u001B[43m,\u001B[49m\u001B[43m \u001B[49m\u001B[38;5;28;43mself\u001B[39;49m\u001B[38;5;241;43m.\u001B[39;49m\u001B[43m_checkpoint_options\u001B[49m\u001B[43m)\u001B[49m\n\u001B[0;32m    561\u001B[0m   load_status\u001B[38;5;241m.\u001B[39massert_existing_objects_matched()\n\u001B[0;32m    562\u001B[0m checkpoint \u001B[38;5;241m=\u001B[39m load_status\u001B[38;5;241m.\u001B[39m_checkpoint\n",
      "File \u001B[1;32mC:\\Python310\\lib\\site-packages\\tensorflow\\python\\training\\tracking\\util.py:1390\u001B[0m, in \u001B[0;36mTrackableSaver.restore\u001B[1;34m(self, save_path, options)\u001B[0m\n\u001B[0;32m   1380\u001B[0m object_graph_proto\u001B[38;5;241m.\u001B[39mParseFromString(object_graph_string)\n\u001B[0;32m   1381\u001B[0m checkpoint \u001B[38;5;241m=\u001B[39m _CheckpointRestoreCoordinator(\n\u001B[0;32m   1382\u001B[0m     object_graph_proto\u001B[38;5;241m=\u001B[39mobject_graph_proto,\n\u001B[0;32m   1383\u001B[0m     save_path\u001B[38;5;241m=\u001B[39msave_path,\n\u001B[1;32m   (...)\u001B[0m\n\u001B[0;32m   1387\u001B[0m     graph_view\u001B[38;5;241m=\u001B[39m\u001B[38;5;28mself\u001B[39m\u001B[38;5;241m.\u001B[39m_graph_view,\n\u001B[0;32m   1388\u001B[0m     options\u001B[38;5;241m=\u001B[39moptions)\n\u001B[0;32m   1389\u001B[0m \u001B[43mbase\u001B[49m\u001B[38;5;241;43m.\u001B[39;49m\u001B[43mCheckpointPosition\u001B[49m\u001B[43m(\u001B[49m\n\u001B[1;32m-> 1390\u001B[0m \u001B[43m    \u001B[49m\u001B[43mcheckpoint\u001B[49m\u001B[38;5;241;43m=\u001B[39;49m\u001B[43mcheckpoint\u001B[49m\u001B[43m,\u001B[49m\u001B[43m \u001B[49m\u001B[43mproto_id\u001B[49m\u001B[38;5;241;43m=\u001B[39;49m\u001B[38;5;241;43m0\u001B[39;49m\u001B[43m)\u001B[49m\u001B[38;5;241;43m.\u001B[39;49m\u001B[43mrestore\u001B[49m\u001B[43m(\u001B[49m\u001B[38;5;28;43mself\u001B[39;49m\u001B[38;5;241;43m.\u001B[39;49m\u001B[43m_graph_view\u001B[49m\u001B[38;5;241;43m.\u001B[39;49m\u001B[43mroot\u001B[49m\u001B[43m)\u001B[49m\n\u001B[0;32m   1392\u001B[0m \u001B[38;5;66;03m# Attached dependencies are not attached to the root, so should be restored\u001B[39;00m\n\u001B[0;32m   1393\u001B[0m \u001B[38;5;66;03m# separately.\u001B[39;00m\n\u001B[0;32m   1394\u001B[0m \u001B[38;5;28;01mif\u001B[39;00m \u001B[38;5;28mself\u001B[39m\u001B[38;5;241m.\u001B[39m_graph_view\u001B[38;5;241m.\u001B[39mattached_dependencies:\n",
      "File \u001B[1;32mC:\\Python310\\lib\\site-packages\\tensorflow\\python\\training\\tracking\\base.py:302\u001B[0m, in \u001B[0;36mCheckpointPosition.restore\u001B[1;34m(self, trackable)\u001B[0m\n\u001B[0;32m    298\u001B[0m \u001B[38;5;28;01mwith\u001B[39;00m ops\u001B[38;5;241m.\u001B[39minit_scope():\n\u001B[0;32m    299\u001B[0m   \u001B[38;5;28;01mif\u001B[39;00m \u001B[38;5;28mself\u001B[39m\u001B[38;5;241m.\u001B[39mbind_object(trackable):\n\u001B[0;32m    300\u001B[0m     \u001B[38;5;66;03m# This object's correspondence with a checkpointed object is new, so\u001B[39;00m\n\u001B[0;32m    301\u001B[0m     \u001B[38;5;66;03m# process deferred restorations for it and its dependencies.\u001B[39;00m\n\u001B[1;32m--> 302\u001B[0m     restore_ops \u001B[38;5;241m=\u001B[39m \u001B[43mtrackable\u001B[49m\u001B[38;5;241;43m.\u001B[39;49m\u001B[43m_restore_from_checkpoint_position\u001B[49m\u001B[43m(\u001B[49m\u001B[38;5;28;43mself\u001B[39;49m\u001B[43m)\u001B[49m  \u001B[38;5;66;03m# pylint: disable=protected-access\u001B[39;00m\n\u001B[0;32m    303\u001B[0m     \u001B[38;5;28;01mif\u001B[39;00m restore_ops:\n\u001B[0;32m    304\u001B[0m       \u001B[38;5;28mself\u001B[39m\u001B[38;5;241m.\u001B[39m_checkpoint\u001B[38;5;241m.\u001B[39mnew_restore_ops(restore_ops)\n",
      "File \u001B[1;32mC:\\Python310\\lib\\site-packages\\tensorflow\\python\\training\\tracking\\base.py:1099\u001B[0m, in \u001B[0;36mTrackable._restore_from_checkpoint_position\u001B[1;34m(self, checkpoint_position)\u001B[0m\n\u001B[0;32m   1094\u001B[0m tensor_saveables\u001B[38;5;241m.\u001B[39mupdate(\n\u001B[0;32m   1095\u001B[0m     current_position\u001B[38;5;241m.\u001B[39mcheckpoint\u001B[38;5;241m.\u001B[39mslot_restoration_tensor_saveables)\n\u001B[0;32m   1096\u001B[0m current_position\u001B[38;5;241m.\u001B[39mcheckpoint\u001B[38;5;241m.\u001B[39mslot_restoration_tensor_saveables\u001B[38;5;241m.\u001B[39mclear()\n\u001B[0;32m   1098\u001B[0m restore_ops\u001B[38;5;241m.\u001B[39mextend(\n\u001B[1;32m-> 1099\u001B[0m     \u001B[43mcurrent_position\u001B[49m\u001B[38;5;241;43m.\u001B[39;49m\u001B[43mcheckpoint\u001B[49m\u001B[38;5;241;43m.\u001B[39;49m\u001B[43mrestore_saveables\u001B[49m\u001B[43m(\u001B[49m\u001B[43mtensor_saveables\u001B[49m\u001B[43m,\u001B[49m\n\u001B[0;32m   1100\u001B[0m \u001B[43m                                                  \u001B[49m\u001B[43mpython_saveables\u001B[49m\u001B[43m,\u001B[49m\n\u001B[0;32m   1101\u001B[0m \u001B[43m                                                  \u001B[49m\u001B[43mregistered_savers\u001B[49m\u001B[43m)\u001B[49m)\n\u001B[0;32m   1102\u001B[0m \u001B[38;5;28;01mreturn\u001B[39;00m restore_ops\n",
      "File \u001B[1;32mC:\\Python310\\lib\\site-packages\\tensorflow\\python\\training\\tracking\\util.py:345\u001B[0m, in \u001B[0;36m_CheckpointRestoreCoordinator.restore_saveables\u001B[1;34m(self, tensor_saveables, python_saveables, registered_savers)\u001B[0m\n\u001B[0;32m    339\u001B[0m \u001B[38;5;28;01mif\u001B[39;00m \u001B[38;5;28mset\u001B[39m(tensor_saveables\u001B[38;5;241m.\u001B[39mkeys()) \u001B[38;5;241m!=\u001B[39m validated_names:\n\u001B[0;32m    340\u001B[0m   \u001B[38;5;28;01mraise\u001B[39;00m \u001B[38;5;167;01mAssertionError\u001B[39;00m(\n\u001B[0;32m    341\u001B[0m       \u001B[38;5;124m\"\u001B[39m\u001B[38;5;124mSaveable keys changed when validating. Got back \u001B[39m\u001B[38;5;124m\"\u001B[39m\n\u001B[0;32m    342\u001B[0m       \u001B[38;5;124mf\u001B[39m\u001B[38;5;124m\"\u001B[39m\u001B[38;5;132;01m{\u001B[39;00mtensor_saveables\u001B[38;5;241m.\u001B[39mkeys()\u001B[38;5;132;01m}\u001B[39;00m\u001B[38;5;124m, was expecting \u001B[39m\u001B[38;5;132;01m{\u001B[39;00mvalidated_names\u001B[38;5;132;01m}\u001B[39;00m\u001B[38;5;124m\"\u001B[39m)\n\u001B[0;32m    343\u001B[0m new_restore_ops \u001B[38;5;241m=\u001B[39m \u001B[43mfunctional_saver\u001B[49m\u001B[38;5;241;43m.\u001B[39;49m\u001B[43mMultiDeviceSaver\u001B[49m\u001B[43m(\u001B[49m\n\u001B[0;32m    344\u001B[0m \u001B[43m    \u001B[49m\u001B[43mvalidated_saveables\u001B[49m\u001B[43m,\u001B[49m\n\u001B[1;32m--> 345\u001B[0m \u001B[43m    \u001B[49m\u001B[43mregistered_savers\u001B[49m\u001B[43m)\u001B[49m\u001B[38;5;241;43m.\u001B[39;49m\u001B[43mrestore\u001B[49m\u001B[43m(\u001B[49m\u001B[38;5;28;43mself\u001B[39;49m\u001B[38;5;241;43m.\u001B[39;49m\u001B[43msave_path_tensor\u001B[49m\u001B[43m,\u001B[49m\u001B[43m \u001B[49m\u001B[38;5;28;43mself\u001B[39;49m\u001B[38;5;241;43m.\u001B[39;49m\u001B[43moptions\u001B[49m\u001B[43m)\u001B[49m\n\u001B[0;32m    346\u001B[0m \u001B[38;5;28;01mif\u001B[39;00m \u001B[38;5;129;01mnot\u001B[39;00m context\u001B[38;5;241m.\u001B[39mexecuting_eagerly():\n\u001B[0;32m    347\u001B[0m   \u001B[38;5;28;01mfor\u001B[39;00m name, restore_op \u001B[38;5;129;01min\u001B[39;00m \u001B[38;5;28msorted\u001B[39m(new_restore_ops\u001B[38;5;241m.\u001B[39mitems()):\n",
      "File \u001B[1;32mC:\\Python310\\lib\\site-packages\\tensorflow\\python\\training\\saving\\functional_saver.py:411\u001B[0m, in \u001B[0;36mMultiDeviceSaver.restore\u001B[1;34m(self, file_prefix, options)\u001B[0m\n\u001B[0;32m    409\u001B[0m   restore_ops \u001B[38;5;241m=\u001B[39m tf_function_restore()\n\u001B[0;32m    410\u001B[0m \u001B[38;5;28;01melse\u001B[39;00m:\n\u001B[1;32m--> 411\u001B[0m   restore_ops \u001B[38;5;241m=\u001B[39m \u001B[43mrestore_fn\u001B[49m\u001B[43m(\u001B[49m\u001B[43m)\u001B[49m\n\u001B[0;32m    413\u001B[0m \u001B[38;5;28;01mfor\u001B[39;00m callback \u001B[38;5;129;01min\u001B[39;00m \u001B[38;5;28mself\u001B[39m\u001B[38;5;241m.\u001B[39m_after_restore_callbacks:\n\u001B[0;32m    414\u001B[0m   callback()\n",
      "File \u001B[1;32mC:\\Python310\\lib\\site-packages\\tensorflow\\python\\training\\saving\\functional_saver.py:394\u001B[0m, in \u001B[0;36mMultiDeviceSaver.restore.<locals>.restore_fn\u001B[1;34m()\u001B[0m\n\u001B[0;32m    392\u001B[0m \u001B[38;5;28;01mfor\u001B[39;00m device, saver \u001B[38;5;129;01min\u001B[39;00m \u001B[38;5;28msorted\u001B[39m(\u001B[38;5;28mself\u001B[39m\u001B[38;5;241m.\u001B[39m_single_device_savers\u001B[38;5;241m.\u001B[39mitems()):\n\u001B[0;32m    393\u001B[0m   \u001B[38;5;28;01mwith\u001B[39;00m ops\u001B[38;5;241m.\u001B[39mdevice(device):\n\u001B[1;32m--> 394\u001B[0m     restore_ops\u001B[38;5;241m.\u001B[39mupdate(\u001B[43msaver\u001B[49m\u001B[38;5;241;43m.\u001B[39;49m\u001B[43mrestore\u001B[49m\u001B[43m(\u001B[49m\u001B[43mfile_prefix\u001B[49m\u001B[43m,\u001B[49m\u001B[43m \u001B[49m\u001B[43moptions\u001B[49m\u001B[43m)\u001B[49m)\n\u001B[0;32m    395\u001B[0m \u001B[38;5;28;01mfor\u001B[39;00m _, (_, restore_fn) \u001B[38;5;129;01min\u001B[39;00m \u001B[38;5;28mself\u001B[39m\u001B[38;5;241m.\u001B[39m_registered_savers\u001B[38;5;241m.\u001B[39mitems():\n\u001B[0;32m    396\u001B[0m   restore_fn(file_prefix)\n",
      "File \u001B[1;32mC:\\Python310\\lib\\site-packages\\tensorflow\\python\\training\\saving\\functional_saver.py:112\u001B[0m, in \u001B[0;36m_SingleDeviceSaver.restore\u001B[1;34m(self, file_prefix, options)\u001B[0m\n\u001B[0;32m    109\u001B[0m restore_ops \u001B[38;5;241m=\u001B[39m {}\n\u001B[0;32m    110\u001B[0m \u001B[38;5;28;01mfor\u001B[39;00m saveable, restored_tensors \u001B[38;5;129;01min\u001B[39;00m \u001B[38;5;28mzip\u001B[39m(\u001B[38;5;28mself\u001B[39m\u001B[38;5;241m.\u001B[39m_saveable_objects,\n\u001B[0;32m    111\u001B[0m                                       structured_restored_tensors):\n\u001B[1;32m--> 112\u001B[0m   restore_ops[saveable\u001B[38;5;241m.\u001B[39mname] \u001B[38;5;241m=\u001B[39m \u001B[43msaveable\u001B[49m\u001B[38;5;241;43m.\u001B[39;49m\u001B[43mrestore\u001B[49m\u001B[43m(\u001B[49m\n\u001B[0;32m    113\u001B[0m \u001B[43m      \u001B[49m\u001B[43mrestored_tensors\u001B[49m\u001B[43m,\u001B[49m\u001B[43m \u001B[49m\u001B[43mrestored_shapes\u001B[49m\u001B[38;5;241;43m=\u001B[39;49m\u001B[38;5;28;43;01mNone\u001B[39;49;00m\u001B[43m)\u001B[49m\n\u001B[0;32m    114\u001B[0m \u001B[38;5;28;01mreturn\u001B[39;00m restore_ops\n",
      "File \u001B[1;32mC:\\Python310\\lib\\site-packages\\tensorflow\\python\\training\\saving\\saveable_object_util.py:126\u001B[0m, in \u001B[0;36mResourceVariableSaveable.restore\u001B[1;34m(self, restored_tensors, restored_shapes)\u001B[0m\n\u001B[0;32m    124\u001B[0m \u001B[38;5;66;03m# Copy the restored tensor to the variable's device.\u001B[39;00m\n\u001B[0;32m    125\u001B[0m \u001B[38;5;28;01mwith\u001B[39;00m ops\u001B[38;5;241m.\u001B[39mdevice(\u001B[38;5;28mself\u001B[39m\u001B[38;5;241m.\u001B[39m_var_device):\n\u001B[1;32m--> 126\u001B[0m   restored_tensor \u001B[38;5;241m=\u001B[39m \u001B[43marray_ops\u001B[49m\u001B[38;5;241;43m.\u001B[39;49m\u001B[43midentity\u001B[49m\u001B[43m(\u001B[49m\u001B[43mrestored_tensor\u001B[49m\u001B[43m)\u001B[49m\n\u001B[0;32m    127\u001B[0m   \u001B[38;5;28;01mreturn\u001B[39;00m resource_variable_ops\u001B[38;5;241m.\u001B[39mshape_safe_assign_variable_handle(\n\u001B[0;32m    128\u001B[0m       \u001B[38;5;28mself\u001B[39m\u001B[38;5;241m.\u001B[39mhandle_op, \u001B[38;5;28mself\u001B[39m\u001B[38;5;241m.\u001B[39m_var_shape, restored_tensor)\n",
      "File \u001B[1;32mC:\\Python310\\lib\\site-packages\\tensorflow\\python\\util\\traceback_utils.py:153\u001B[0m, in \u001B[0;36mfilter_traceback.<locals>.error_handler\u001B[1;34m(*args, **kwargs)\u001B[0m\n\u001B[0;32m    151\u001B[0m \u001B[38;5;28;01mexcept\u001B[39;00m \u001B[38;5;167;01mException\u001B[39;00m \u001B[38;5;28;01mas\u001B[39;00m e:\n\u001B[0;32m    152\u001B[0m   filtered_tb \u001B[38;5;241m=\u001B[39m _process_traceback_frames(e\u001B[38;5;241m.\u001B[39m__traceback__)\n\u001B[1;32m--> 153\u001B[0m   \u001B[38;5;28;01mraise\u001B[39;00m e\u001B[38;5;241m.\u001B[39mwith_traceback(filtered_tb) \u001B[38;5;28;01mfrom\u001B[39;00m \u001B[38;5;28mNone\u001B[39m\n\u001B[0;32m    154\u001B[0m \u001B[38;5;28;01mfinally\u001B[39;00m:\n\u001B[0;32m    155\u001B[0m   \u001B[38;5;28;01mdel\u001B[39;00m filtered_tb\n",
      "File \u001B[1;32mC:\\Python310\\lib\\site-packages\\tensorflow\\python\\framework\\ops.py:7186\u001B[0m, in \u001B[0;36mraise_from_not_ok_status\u001B[1;34m(e, name)\u001B[0m\n\u001B[0;32m   7184\u001B[0m \u001B[38;5;28;01mdef\u001B[39;00m \u001B[38;5;21mraise_from_not_ok_status\u001B[39m(e, name):\n\u001B[0;32m   7185\u001B[0m   e\u001B[38;5;241m.\u001B[39mmessage \u001B[38;5;241m+\u001B[39m\u001B[38;5;241m=\u001B[39m (\u001B[38;5;124m\"\u001B[39m\u001B[38;5;124m name: \u001B[39m\u001B[38;5;124m\"\u001B[39m \u001B[38;5;241m+\u001B[39m name \u001B[38;5;28;01mif\u001B[39;00m name \u001B[38;5;129;01mis\u001B[39;00m \u001B[38;5;129;01mnot\u001B[39;00m \u001B[38;5;28;01mNone\u001B[39;00m \u001B[38;5;28;01melse\u001B[39;00m \u001B[38;5;124m\"\u001B[39m\u001B[38;5;124m\"\u001B[39m)\n\u001B[1;32m-> 7186\u001B[0m   \u001B[38;5;28;01mraise\u001B[39;00m core\u001B[38;5;241m.\u001B[39m_status_to_exception(e) \u001B[38;5;28;01mfrom\u001B[39;00m \u001B[38;5;28mNone\u001B[39m\n",
      "\u001B[1;31mInternalError\u001B[0m: Failed copying input tensor from /job:localhost/replica:0/task:0/device:CPU:0 to /job:localhost/replica:0/task:0/device:GPU:0 in order to run Identity: Dst tensor is not initialized. [Op:Identity]"
     ]
    }
   ],
   "source": [
    "import tensorflow_hub as hub\n",
    "\n",
    "module_url = \"https://tfhub.dev/google/LaBSE/2\"\n",
    "\n",
    "model = hub.load(module_url)\n",
    "\n",
    "def embed_text(input):\n",
    "    return model(input)"
   ],
   "metadata": {
    "collapsed": false,
    "pycharm": {
     "name": "#%%\n"
    }
   }
  },
  {
   "cell_type": "code",
   "execution_count": null,
   "outputs": [],
   "source": [
    "model(\"Testing 123\")"
   ],
   "metadata": {
    "collapsed": false,
    "pycharm": {
     "name": "#%%\n"
    }
   }
  },
  {
   "cell_type": "code",
   "execution_count": 37,
   "outputs": [],
   "source": [
    "# Some texts of different lengths in different languages.\n",
    "arabic_sentences = ['كلب', 'الجراء لطيفة.', 'أستمتع بالمشي لمسافات طويلة على طول الشاطئ مع كلبي.']\n",
    "chinese_sentences = ['狗', '小狗很好。', '我喜欢和我的狗一起沿着海滩散步。']\n",
    "english_sentences = ['dog', 'Puppies are nice.', 'I enjoy taking long walks along the beach with my dog.']\n",
    "french_sentences = ['chien', 'Les chiots sont gentils.', 'J\\'aime faire de longues promenades sur la plage avec mon chien.']\n",
    "german_sentences = ['Hund', 'Welpen sind nett.', 'Ich genieße lange Spaziergänge am Strand entlang mit meinem Hund.']\n",
    "italian_sentences = ['cane', 'I cuccioli sono carini.', 'Mi piace fare lunghe passeggiate lungo la spiaggia con il mio cane.']\n",
    "japanese_sentences = ['犬', '子犬はいいです', '私は犬と一緒にビーチを散歩するのが好きです']\n",
    "korean_sentences = ['개', '강아지가 좋다.', '나는 나의 개와 해변을 따라 길게 산책하는 것을 즐긴다.']\n",
    "russian_sentences = ['собака', 'Милые щенки.', 'Мне нравится подолгу гулять по пляжу со своей собакой.']\n",
    "spanish_sentences = ['perro', 'Los cachorros son agradables.', 'Disfruto de dar largos paseos por la playa con mi perro.']\n",
    "\n",
    "# Multilingual example\n",
    "multilingual_example = [\"Willkommen zu einfachen, aber\", \"verrassend krachtige\", \"multilingüe\", \"compréhension du langage naturel\", \"модели.\", \"大家是什么意思\" , \"보다 중요한\", \".اللغة التي يتحدثونها\"]\n",
    "multilingual_example_in_en =  [\"Welcome to simple yet\", \"surprisingly powerful\", \"multilingual\", \"natural language understanding\", \"models.\", \"What people mean\", \"matters more than\", \"the language they speak.\"]"
   ],
   "metadata": {
    "collapsed": false,
    "pycharm": {
     "name": "#%%\n"
    }
   }
  },
  {
   "cell_type": "code",
   "execution_count": 38,
   "outputs": [
    {
     "ename": "NameError",
     "evalue": "name 'embed_text' is not defined",
     "output_type": "error",
     "traceback": [
      "\u001B[1;31m---------------------------------------------------------------------------\u001B[0m",
      "\u001B[1;31mNameError\u001B[0m                                 Traceback (most recent call last)",
      "Input \u001B[1;32mIn [38]\u001B[0m, in \u001B[0;36m<cell line: 2>\u001B[1;34m()\u001B[0m\n\u001B[0;32m      1\u001B[0m \u001B[38;5;66;03m# Compute embeddings.\u001B[39;00m\n\u001B[1;32m----> 2\u001B[0m ar_result \u001B[38;5;241m=\u001B[39m \u001B[43membed_text\u001B[49m(arabic_sentences)\n\u001B[0;32m      3\u001B[0m en_result \u001B[38;5;241m=\u001B[39m embed_text(english_sentences)\n\u001B[0;32m      4\u001B[0m es_result \u001B[38;5;241m=\u001B[39m embed_text(spanish_sentences)\n",
      "\u001B[1;31mNameError\u001B[0m: name 'embed_text' is not defined"
     ]
    }
   ],
   "source": [
    "# Compute embeddings.\n",
    "ar_result = embed_text(arabic_sentences)\n",
    "en_result = embed_text(english_sentences)\n",
    "es_result = embed_text(spanish_sentences)\n",
    "de_result = embed_text(german_sentences)\n",
    "fr_result = embed_text(french_sentences)\n",
    "it_result = embed_text(italian_sentences)\n",
    "ja_result = embed_text(japanese_sentences)\n",
    "ko_result = embed_text(korean_sentences)\n",
    "ru_result = embed_text(russian_sentences)\n",
    "zh_result = embed_text(chinese_sentences)\n",
    "\n",
    "multilingual_result = embed_text(multilingual_example)\n",
    "multilingual_in_en_result = embed_text(multilingual_example_in_en)"
   ],
   "metadata": {
    "collapsed": false,
    "pycharm": {
     "name": "#%%\n"
    }
   }
  },
  {
   "cell_type": "code",
   "execution_count": null,
   "outputs": [],
   "source": [
    "visualize_similarity(multilingual_in_en_result, multilingual_result,\n",
    "                     multilingual_example_in_en, multilingual_example,\n",
    "                     \"Multilingual Universal Sentence Encoder for Semantic Retrieval (Yang et al., 2019)\")"
   ],
   "metadata": {
    "collapsed": false,
    "pycharm": {
     "name": "#%%\n"
    }
   }
  },
  {
   "cell_type": "code",
   "execution_count": 23,
   "outputs": [],
   "source": [
    "#visualize_similarity(zh_result, ko_result, chinese_sentences, korean_sentences, 'Chinese-Korean Similarity')"
   ],
   "metadata": {
    "collapsed": false,
    "pycharm": {
     "name": "#%%\n"
    }
   }
  },
  {
   "cell_type": "code",
   "execution_count": 11,
   "outputs": [],
   "source": [
    "# So now try it with aligned texts"
   ],
   "metadata": {
    "collapsed": false,
    "pycharm": {
     "name": "#%%\n"
    }
   }
  },
  {
   "cell_type": "code",
   "execution_count": 12,
   "outputs": [],
   "source": [
    "aligned_path = \"../Texts_Aligned/de_tge.en_fowkes/\""
   ],
   "metadata": {
    "collapsed": false,
    "pycharm": {
     "name": "#%%\n"
    }
   }
  },
  {
   "cell_type": "code",
   "execution_count": 15,
   "outputs": [],
   "source": [
    "cur_fpath = os.path.join(aligned_path, \"ch01.align.txt\")"
   ],
   "metadata": {
    "collapsed": false,
    "pycharm": {
     "name": "#%%\n"
    }
   }
  },
  {
   "cell_type": "code",
   "execution_count": 20,
   "outputs": [],
   "source": [
    "cur_df = pd.read_csv(cur_fpath, delimiter='\\t', header=None, names=['de','en','alignment_id'])"
   ],
   "metadata": {
    "collapsed": false,
    "pycharm": {
     "name": "#%%\n"
    }
   }
  },
  {
   "cell_type": "code",
   "execution_count": 43,
   "outputs": [],
   "source": [
    "cur_df.fillna(\"\", inplace=True)"
   ],
   "metadata": {
    "collapsed": false,
    "pycharm": {
     "name": "#%%\n"
    }
   }
  },
  {
   "cell_type": "code",
   "execution_count": 45,
   "outputs": [
    {
     "data": {
      "text/plain": "de                                                    \nen                         Chapter 1: The Commodity 1.\nalignment_id    ch01_clean.de_tge-ch01_clean.en_fowkes\nName: 0, dtype: object"
     },
     "execution_count": 45,
     "metadata": {},
     "output_type": "execute_result"
    }
   ],
   "source": [
    "cur_df.iloc[0]"
   ],
   "metadata": {
    "collapsed": false,
    "pycharm": {
     "name": "#%%\n"
    }
   }
  },
  {
   "cell_type": "code",
   "execution_count": 46,
   "outputs": [],
   "source": [
    "de_result = embed_text(cur_df.iloc[2]['de'])\n",
    "en_result = embed_text(cur_df.iloc[2]['en'])"
   ],
   "metadata": {
    "collapsed": false,
    "pycharm": {
     "name": "#%%\n"
    }
   }
  },
  {
   "cell_type": "code",
   "execution_count": 36,
   "outputs": [],
   "source": [
    "def compute_sim(l1_tensor, l2_tensor):\n",
    "    # arccos based text similarity (Yang et al. 2019; Cer et al. 2019)\n",
    "    sim = 1 - np.arccos(sklearn.metrics.pairwise.cosine_similarity(l1_tensor, l2_tensor))/np.pi\n",
    "    return float(sim)"
   ],
   "metadata": {
    "collapsed": false,
    "pycharm": {
     "name": "#%%\n"
    }
   }
  },
  {
   "cell_type": "code",
   "execution_count": 48,
   "outputs": [],
   "source": [
    "compute_row_sim = lambda row: compute_sim(embed_text(row['de']), embed_text(row['en']))"
   ],
   "metadata": {
    "collapsed": false,
    "pycharm": {
     "name": "#%%\n"
    }
   }
  },
  {
   "cell_type": "code",
   "execution_count": 49,
   "outputs": [],
   "source": [
    "cur_df['sim'] = cur_df.apply(compute_row_sim, axis=1)"
   ],
   "metadata": {
    "collapsed": false,
    "pycharm": {
     "name": "#%%\n"
    }
   }
  },
  {
   "cell_type": "code",
   "execution_count": 50,
   "outputs": [
    {
     "data": {
      "text/plain": "                                                    de  \\\n0                                                        \n1    ERSTES KAPITEL Die Ware 1. Die zwei Faktoren d...   \n2    Unsere Untersuchung beginnt daher mit der Anal...   \n3    Die Ware ist zunächst ein äußerer Gegenstand, ...   \n4    Die Natur dieser Bedürfnisse, ob sie z.B. dem ...   \n..                                                 ...   \n613  Ein Mensch oder ein Gemeinwesen ist reich; ein...   \n614  Bisher hat noch kein Chemiker Tauschwert in Pe...   \n615  Die ökonomischen Entdecker dieser chemischen S...   \n616  Was sie hierin bestätigt, ist der sonderbare U...   \n617  Wer erinnert sich hier nicht des guten Dogberr...   \n\n                                                    en  \\\n0                          Chapter 1: The Commodity 1.   \n1    THE TWO FACTORS OF THE COMMODITY: USE-VALUE AN...   \n2    Our investigation therefore begins with the an...   \n3    The commodity is, first of all, an external ob...   \n4    The nature of these needs, whether they arise,...   \n..                                                 ...   \n613  A man or a community is rich, a pearl or a dia...   \n614  So far no chemist has ever discovered exchange...   \n615  The economists who have discovered this chemic...   \n616  What confirms them in this view is the peculia...   \n617  Who would not call to mind at this point the a...   \n\n                               alignment_id       sim  \n0    ch01_clean.de_tge-ch01_clean.en_fowkes  0.497484  \n1    ch01_clean.de_tge-ch01_clean.en_fowkes  0.757847  \n2    ch01_clean.de_tge-ch01_clean.en_fowkes  0.859049  \n3    ch01_clean.de_tge-ch01_clean.en_fowkes  0.812498  \n4    ch01_clean.de_tge-ch01_clean.en_fowkes  0.753188  \n..                                      ...       ...  \n613  ch01_clean.de_tge-ch01_clean.en_fowkes  0.813036  \n614  ch01_clean.de_tge-ch01_clean.en_fowkes  0.734134  \n615  ch01_clean.de_tge-ch01_clean.en_fowkes  0.762967  \n616  ch01_clean.de_tge-ch01_clean.en_fowkes  0.748863  \n617  ch01_clean.de_tge-ch01_clean.en_fowkes  0.748236  \n\n[618 rows x 4 columns]",
      "text/html": "<div>\n<style scoped>\n    .dataframe tbody tr th:only-of-type {\n        vertical-align: middle;\n    }\n\n    .dataframe tbody tr th {\n        vertical-align: top;\n    }\n\n    .dataframe thead th {\n        text-align: right;\n    }\n</style>\n<table border=\"1\" class=\"dataframe\">\n  <thead>\n    <tr style=\"text-align: right;\">\n      <th></th>\n      <th>de</th>\n      <th>en</th>\n      <th>alignment_id</th>\n      <th>sim</th>\n    </tr>\n  </thead>\n  <tbody>\n    <tr>\n      <th>0</th>\n      <td></td>\n      <td>Chapter 1: The Commodity 1.</td>\n      <td>ch01_clean.de_tge-ch01_clean.en_fowkes</td>\n      <td>0.497484</td>\n    </tr>\n    <tr>\n      <th>1</th>\n      <td>ERSTES KAPITEL Die Ware 1. Die zwei Faktoren d...</td>\n      <td>THE TWO FACTORS OF THE COMMODITY: USE-VALUE AN...</td>\n      <td>ch01_clean.de_tge-ch01_clean.en_fowkes</td>\n      <td>0.757847</td>\n    </tr>\n    <tr>\n      <th>2</th>\n      <td>Unsere Untersuchung beginnt daher mit der Anal...</td>\n      <td>Our investigation therefore begins with the an...</td>\n      <td>ch01_clean.de_tge-ch01_clean.en_fowkes</td>\n      <td>0.859049</td>\n    </tr>\n    <tr>\n      <th>3</th>\n      <td>Die Ware ist zunächst ein äußerer Gegenstand, ...</td>\n      <td>The commodity is, first of all, an external ob...</td>\n      <td>ch01_clean.de_tge-ch01_clean.en_fowkes</td>\n      <td>0.812498</td>\n    </tr>\n    <tr>\n      <th>4</th>\n      <td>Die Natur dieser Bedürfnisse, ob sie z.B. dem ...</td>\n      <td>The nature of these needs, whether they arise,...</td>\n      <td>ch01_clean.de_tge-ch01_clean.en_fowkes</td>\n      <td>0.753188</td>\n    </tr>\n    <tr>\n      <th>...</th>\n      <td>...</td>\n      <td>...</td>\n      <td>...</td>\n      <td>...</td>\n    </tr>\n    <tr>\n      <th>613</th>\n      <td>Ein Mensch oder ein Gemeinwesen ist reich; ein...</td>\n      <td>A man or a community is rich, a pearl or a dia...</td>\n      <td>ch01_clean.de_tge-ch01_clean.en_fowkes</td>\n      <td>0.813036</td>\n    </tr>\n    <tr>\n      <th>614</th>\n      <td>Bisher hat noch kein Chemiker Tauschwert in Pe...</td>\n      <td>So far no chemist has ever discovered exchange...</td>\n      <td>ch01_clean.de_tge-ch01_clean.en_fowkes</td>\n      <td>0.734134</td>\n    </tr>\n    <tr>\n      <th>615</th>\n      <td>Die ökonomischen Entdecker dieser chemischen S...</td>\n      <td>The economists who have discovered this chemic...</td>\n      <td>ch01_clean.de_tge-ch01_clean.en_fowkes</td>\n      <td>0.762967</td>\n    </tr>\n    <tr>\n      <th>616</th>\n      <td>Was sie hierin bestätigt, ist der sonderbare U...</td>\n      <td>What confirms them in this view is the peculia...</td>\n      <td>ch01_clean.de_tge-ch01_clean.en_fowkes</td>\n      <td>0.748863</td>\n    </tr>\n    <tr>\n      <th>617</th>\n      <td>Wer erinnert sich hier nicht des guten Dogberr...</td>\n      <td>Who would not call to mind at this point the a...</td>\n      <td>ch01_clean.de_tge-ch01_clean.en_fowkes</td>\n      <td>0.748236</td>\n    </tr>\n  </tbody>\n</table>\n<p>618 rows × 4 columns</p>\n</div>"
     },
     "execution_count": 50,
     "metadata": {},
     "output_type": "execute_result"
    }
   ],
   "source": [
    "cur_df"
   ],
   "metadata": {
    "collapsed": false,
    "pycharm": {
     "name": "#%%\n"
    }
   }
  },
  {
   "cell_type": "code",
   "execution_count": 51,
   "outputs": [
    {
     "data": {
      "text/plain": "0.7231409977940679"
     },
     "execution_count": 51,
     "metadata": {},
     "output_type": "execute_result"
    }
   ],
   "source": [
    "cur_df['sim'].mean()"
   ],
   "metadata": {
    "collapsed": false,
    "pycharm": {
     "name": "#%%\n"
    }
   }
  },
  {
   "cell_type": "code",
   "execution_count": 58,
   "outputs": [],
   "source": [
    "v2_fpath = \"../Texts_Aligned/de_tge.en_aveling/ch01.align.txt\""
   ],
   "metadata": {
    "collapsed": false,
    "pycharm": {
     "name": "#%%\n"
    }
   }
  },
  {
   "cell_type": "code",
   "execution_count": 61,
   "outputs": [],
   "source": [
    "v2_df = pd.read_csv(v2_fpath, delimiter='\\t', header=None, names=['de','en','alignment_id'])"
   ],
   "metadata": {
    "collapsed": false,
    "pycharm": {
     "name": "#%%\n"
    }
   }
  },
  {
   "cell_type": "code",
   "execution_count": 64,
   "outputs": [],
   "source": [
    "v2_df.fillna(\"\", inplace=True)"
   ],
   "metadata": {
    "collapsed": false,
    "pycharm": {
     "name": "#%%\n"
    }
   }
  },
  {
   "cell_type": "code",
   "execution_count": 68,
   "outputs": [
    {
     "name": "stderr",
     "output_type": "stream",
     "text": [
      "100%|██████████| 625/625 [00:08<00:00, 77.74it/s]\n"
     ]
    }
   ],
   "source": [
    "v2_df['sim'] = v2_df.progress_apply(compute_row_sim, axis=1)"
   ],
   "metadata": {
    "collapsed": false,
    "pycharm": {
     "name": "#%%\n"
    }
   }
  },
  {
   "cell_type": "code",
   "execution_count": 69,
   "outputs": [
    {
     "data": {
      "text/plain": "                                                    de  \\\n0    ERSTES KAPITEL Die Ware 1. Die zwei Faktoren d...   \n1    Unsere Untersuchung beginnt daher mit der Anal...   \n2    Die Ware ist zunachst ein ausserer Gegenstand,...   \n3    Die Natur dieser Bedurfnisse, ob sie z.B. dem ...   \n4    Es handelt sich hier auch nicht darum, wie die...   \n..                                                 ...   \n620  Eine Perle oder ein Diamant hat Wert als Perle...   \n621  Bisher hat noch kein Chemiker Tauschwert in Pe...   \n622  Die okonomischen Entdecker dieser chemischen S...   \n623  Was sie hierin bestatigt, ist der sonderbare U...   \n624  Wer erinnert sich hier nicht des guten Dogberr...   \n\n                                                    en  \\\n0    Chapter 1: Commodities Section 1: The Two Fact...   \n1    Our investigation must therefore begin with th...   \n2    A commodity is, in the first place, an object ...   \n3    The nature of such wants, whether, for instanc...   \n4    Neither are we here concerned to know how the ...   \n..                                                 ...   \n620  A pearl or a diamond is valuable as a pearl or...   \n621  So far no chemist has ever discovered exchange...   \n622  The economic discoverers of this chemical elem...   \n623  What confirms them in this view, is the peculi...   \n624  Who fails here to call to mind our good friend...   \n\n                                alignment_id       sim  \n0    ch01_clean.de_tge-ch01_clean.en_aveling  0.799426  \n1    ch01_clean.de_tge-ch01_clean.en_aveling  0.805118  \n2    ch01_clean.de_tge-ch01_clean.en_aveling  0.742811  \n3    ch01_clean.de_tge-ch01_clean.en_aveling  0.732976  \n4    ch01_clean.de_tge-ch01_clean.en_aveling  0.685437  \n..                                       ...       ...  \n620  ch01_clean.de_tge-ch01_clean.en_aveling  0.789187  \n621  ch01_clean.de_tge-ch01_clean.en_aveling  0.732880  \n622  ch01_clean.de_tge-ch01_clean.en_aveling  0.699186  \n623  ch01_clean.de_tge-ch01_clean.en_aveling  0.733851  \n624  ch01_clean.de_tge-ch01_clean.en_aveling  0.737231  \n\n[625 rows x 4 columns]",
      "text/html": "<div>\n<style scoped>\n    .dataframe tbody tr th:only-of-type {\n        vertical-align: middle;\n    }\n\n    .dataframe tbody tr th {\n        vertical-align: top;\n    }\n\n    .dataframe thead th {\n        text-align: right;\n    }\n</style>\n<table border=\"1\" class=\"dataframe\">\n  <thead>\n    <tr style=\"text-align: right;\">\n      <th></th>\n      <th>de</th>\n      <th>en</th>\n      <th>alignment_id</th>\n      <th>sim</th>\n    </tr>\n  </thead>\n  <tbody>\n    <tr>\n      <th>0</th>\n      <td>ERSTES KAPITEL Die Ware 1. Die zwei Faktoren d...</td>\n      <td>Chapter 1: Commodities Section 1: The Two Fact...</td>\n      <td>ch01_clean.de_tge-ch01_clean.en_aveling</td>\n      <td>0.799426</td>\n    </tr>\n    <tr>\n      <th>1</th>\n      <td>Unsere Untersuchung beginnt daher mit der Anal...</td>\n      <td>Our investigation must therefore begin with th...</td>\n      <td>ch01_clean.de_tge-ch01_clean.en_aveling</td>\n      <td>0.805118</td>\n    </tr>\n    <tr>\n      <th>2</th>\n      <td>Die Ware ist zunachst ein ausserer Gegenstand,...</td>\n      <td>A commodity is, in the first place, an object ...</td>\n      <td>ch01_clean.de_tge-ch01_clean.en_aveling</td>\n      <td>0.742811</td>\n    </tr>\n    <tr>\n      <th>3</th>\n      <td>Die Natur dieser Bedurfnisse, ob sie z.B. dem ...</td>\n      <td>The nature of such wants, whether, for instanc...</td>\n      <td>ch01_clean.de_tge-ch01_clean.en_aveling</td>\n      <td>0.732976</td>\n    </tr>\n    <tr>\n      <th>4</th>\n      <td>Es handelt sich hier auch nicht darum, wie die...</td>\n      <td>Neither are we here concerned to know how the ...</td>\n      <td>ch01_clean.de_tge-ch01_clean.en_aveling</td>\n      <td>0.685437</td>\n    </tr>\n    <tr>\n      <th>...</th>\n      <td>...</td>\n      <td>...</td>\n      <td>...</td>\n      <td>...</td>\n    </tr>\n    <tr>\n      <th>620</th>\n      <td>Eine Perle oder ein Diamant hat Wert als Perle...</td>\n      <td>A pearl or a diamond is valuable as a pearl or...</td>\n      <td>ch01_clean.de_tge-ch01_clean.en_aveling</td>\n      <td>0.789187</td>\n    </tr>\n    <tr>\n      <th>621</th>\n      <td>Bisher hat noch kein Chemiker Tauschwert in Pe...</td>\n      <td>So far no chemist has ever discovered exchange...</td>\n      <td>ch01_clean.de_tge-ch01_clean.en_aveling</td>\n      <td>0.732880</td>\n    </tr>\n    <tr>\n      <th>622</th>\n      <td>Die okonomischen Entdecker dieser chemischen S...</td>\n      <td>The economic discoverers of this chemical elem...</td>\n      <td>ch01_clean.de_tge-ch01_clean.en_aveling</td>\n      <td>0.699186</td>\n    </tr>\n    <tr>\n      <th>623</th>\n      <td>Was sie hierin bestatigt, ist der sonderbare U...</td>\n      <td>What confirms them in this view, is the peculi...</td>\n      <td>ch01_clean.de_tge-ch01_clean.en_aveling</td>\n      <td>0.733851</td>\n    </tr>\n    <tr>\n      <th>624</th>\n      <td>Wer erinnert sich hier nicht des guten Dogberr...</td>\n      <td>Who fails here to call to mind our good friend...</td>\n      <td>ch01_clean.de_tge-ch01_clean.en_aveling</td>\n      <td>0.737231</td>\n    </tr>\n  </tbody>\n</table>\n<p>625 rows × 4 columns</p>\n</div>"
     },
     "execution_count": 69,
     "metadata": {},
     "output_type": "execute_result"
    }
   ],
   "source": [
    "v2_df"
   ],
   "metadata": {
    "collapsed": false,
    "pycharm": {
     "name": "#%%\n"
    }
   }
  },
  {
   "cell_type": "code",
   "execution_count": 70,
   "outputs": [
    {
     "data": {
      "text/plain": "0.7033427904129028"
     },
     "execution_count": 70,
     "metadata": {},
     "output_type": "execute_result"
    }
   ],
   "source": [
    "v2_df['sim'].mean()"
   ],
   "metadata": {
    "collapsed": false,
    "pycharm": {
     "name": "#%%\n"
    }
   }
  },
  {
   "cell_type": "code",
   "execution_count": null,
   "outputs": [],
   "source": [],
   "metadata": {
    "collapsed": false,
    "pycharm": {
     "name": "#%%\n"
    }
   }
  }
 ],
 "metadata": {
  "kernelspec": {
   "display_name": "Python 3",
   "language": "python",
   "name": "python3"
  },
  "language_info": {
   "codemirror_mode": {
    "name": "ipython",
    "version": 2
   },
   "file_extension": ".py",
   "mimetype": "text/x-python",
   "name": "python",
   "nbconvert_exporter": "python",
   "pygments_lexer": "ipython2",
   "version": "2.7.6"
  }
 },
 "nbformat": 4,
 "nbformat_minor": 0
}