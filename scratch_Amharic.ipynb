{
 "cells": [
  {
   "cell_type": "code",
   "execution_count": 1,
   "outputs": [],
   "source": [
    "%load_ext autoreload\n",
    "%autoreload 2"
   ],
   "metadata": {
    "collapsed": false,
    "pycharm": {
     "name": "#%%\n"
    }
   }
  },
  {
   "cell_type": "code",
   "execution_count": 2,
   "metadata": {
    "collapsed": true
   },
   "outputs": [],
   "source": [
    "import os\n",
    "\n",
    "import trglobals\n",
    "from amharic_segmenter import AmharicSegmenter"
   ]
  },
  {
   "cell_type": "code",
   "execution_count": 3,
   "outputs": [],
   "source": [
    "sent_punct = []\n",
    "word_punct = []\n",
    "seg = AmharicSegmenter(sent_punct, word_punct)"
   ],
   "metadata": {
    "collapsed": false,
    "pycharm": {
     "name": "#%%\n"
    }
   }
  },
  {
   "cell_type": "code",
   "execution_count": 4,
   "outputs": [
    {
     "data": {
      "text/plain": "<amharic_segmenter.AmharicSegmenter at 0x1cfa72bb340>"
     },
     "execution_count": 4,
     "metadata": {},
     "output_type": "execute_result"
    }
   ],
   "source": [
    "seg"
   ],
   "metadata": {
    "collapsed": false,
    "pycharm": {
     "name": "#%%\n"
    }
   }
  },
  {
   "cell_type": "code",
   "execution_count": 5,
   "outputs": [],
   "source": [
    "test_sent = \"\"\"ምዕራፍ አሥራ አራት\n",
    "የሥራ ክፍፍልና ማፈብረክ\n",
    "1.\n",
    "የማፈብረክ ጥንድ ምንጭ\n",
    "በሥራ ክፍፍል ላይ የተመሠረተ ኅብረትና ትክክለኛ ገጽታው የሚታየው\n",
    "በማፈብረክ ውስጥ ሲሆን º የማፈብረክ ወቅት ተብሎ በሚጠራው ጊዜ ውስጥ\n",
    "ሁሉ የካፒታሊስት የምርት ሂደት ዓይነተኛ መልክ ሆኖ ይገኛል \" በአጠቃላይ\n",
    "አነጋገር ' ያ ወቅት ከ16ኛው ምዕት ዓመት አጋማሽ እስከ 18ኛው ምዕት ዓመት\n",
    "መጨረሻ ሢሶ ድረስ ያለውን ያጠቃልላል ።\"\"\""
   ],
   "metadata": {
    "collapsed": false,
    "pycharm": {
     "name": "#%%\n"
    }
   }
  },
  {
   "cell_type": "code",
   "execution_count": 6,
   "outputs": [],
   "source": [
    "result = seg.tokenize_sentence(test_sent)"
   ],
   "metadata": {
    "collapsed": false,
    "pycharm": {
     "name": "#%%\n"
    }
   }
  },
  {
   "cell_type": "markdown",
   "source": [
    "### Ok, Hunalign dont work for Amharic. So just... manually do it?"
   ],
   "metadata": {
    "collapsed": false,
    "pycharm": {
     "name": "#%% md\n"
    }
   }
  },
  {
   "cell_type": "code",
   "execution_count": 7,
   "outputs": [],
   "source": [
    "import glob\n",
    "\n",
    "import pandas as pd\n",
    "\n",
    "import trglobals"
   ],
   "metadata": {
    "collapsed": false,
    "pycharm": {
     "name": "#%%\n"
    }
   }
  },
  {
   "cell_type": "code",
   "execution_count": 8,
   "outputs": [],
   "source": [
    "# Load another alignment and just drop the Amharic sentences in\n",
    "en_fpaths = glob.glob(\"../Texts_Aligned/de_tge.en_fowkes/*.txt\")"
   ],
   "metadata": {
    "collapsed": false,
    "pycharm": {
     "name": "#%%\n"
    }
   }
  },
  {
   "cell_type": "code",
   "execution_count": 9,
   "outputs": [],
   "source": [
    "cur_fpath = en_fpaths[0]"
   ],
   "metadata": {
    "collapsed": false,
    "pycharm": {
     "name": "#%%\n"
    }
   }
  },
  {
   "cell_type": "code",
   "execution_count": 10,
   "outputs": [],
   "source": [
    "cur_df = pd.read_csv(cur_fpath, delimiter=\"\\t\", header=None)"
   ],
   "metadata": {
    "collapsed": false,
    "pycharm": {
     "name": "#%%\n"
    }
   }
  },
  {
   "cell_type": "code",
   "execution_count": 11,
   "outputs": [],
   "source": [
    "cur_df.columns = ['am','en','alignment_id']"
   ],
   "metadata": {
    "collapsed": false,
    "pycharm": {
     "name": "#%%\n"
    }
   }
  },
  {
   "cell_type": "markdown",
   "source": [
    "### Load Amharic texts"
   ],
   "metadata": {
    "collapsed": false,
    "pycharm": {
     "name": "#%% md\n"
    }
   }
  },
  {
   "cell_type": "code",
   "execution_count": 12,
   "outputs": [],
   "source": [
    "am_fpaths = glob.glob(\"../Texts/Amharic_Capital/cleaned/*.txt\")"
   ],
   "metadata": {
    "collapsed": false,
    "pycharm": {
     "name": "#%%\n"
    }
   }
  },
  {
   "cell_type": "markdown",
   "source": [
    "### But... can do better.\n",
    "\n",
    "The AmharicSegmenter can't detect OCR error punctuation, so here I manually break on that"
   ],
   "metadata": {
    "collapsed": false,
    "pycharm": {
     "name": "#%% md\n"
    }
   }
  },
  {
   "cell_type": "markdown",
   "source": [
    "Cool. So, much closer to the expected # of sents. Now we... force the aligner's hand by just putting the period symbol at the end of each detected sent"
   ],
   "metadata": {
    "collapsed": false,
    "pycharm": {
     "name": "#%% md\n"
    }
   }
  },
  {
   "cell_type": "code",
   "execution_count": 13,
   "outputs": [],
   "source": [
    "custom_output_path = \"../Texts/Amharic_Capital/cleaned_customsplit/\"\n",
    "if not os.path.isdir(custom_output_path):\n",
    "    os.mkdir(custom_output_path)"
   ],
   "metadata": {
    "collapsed": false,
    "pycharm": {
     "name": "#%%\n"
    }
   }
  },
  {
   "cell_type": "code",
   "execution_count": 14,
   "outputs": [],
   "source": [
    "def load_and_tokenize(am_fpath):\n",
    "    with open(am_fpath, 'r', encoding='utf-8') as infile:\n",
    "        am_text = infile.read()\n",
    "    am_sents, am_sents_nocustom = trglobals._am_sent_tokenize(am_text, return_nocustom=True)\n",
    "    return am_sents, am_sents_nocustom"
   ],
   "metadata": {
    "collapsed": false,
    "pycharm": {
     "name": "#%%\n"
    }
   }
  },
  {
   "cell_type": "code",
   "execution_count": 15,
   "outputs": [
    {
     "name": "stdout",
     "output_type": "stream",
     "text": [
      "Written to ../Texts/Amharic_Capital/cleaned_customsplit/ch01_clean.am_iish.txt\n",
      "Written to ../Texts/Amharic_Capital/cleaned_customsplit/ch02_clean.am_iish.txt\n",
      "Written to ../Texts/Amharic_Capital/cleaned_customsplit/ch03_clean.am_iish.txt\n",
      "Written to ../Texts/Amharic_Capital/cleaned_customsplit/ch04_clean.am_iish.txt\n",
      "Written to ../Texts/Amharic_Capital/cleaned_customsplit/ch05_clean.am_iish.txt\n",
      "Written to ../Texts/Amharic_Capital/cleaned_customsplit/ch06_clean.am_iish.txt\n",
      "Written to ../Texts/Amharic_Capital/cleaned_customsplit/ch07_clean.am_iish.txt\n",
      "Written to ../Texts/Amharic_Capital/cleaned_customsplit/ch08_clean.am_iish.txt\n",
      "Written to ../Texts/Amharic_Capital/cleaned_customsplit/ch09_clean.am_iish.txt\n",
      "Written to ../Texts/Amharic_Capital/cleaned_customsplit/ch10_clean.am_iish.txt\n",
      "Written to ../Texts/Amharic_Capital/cleaned_customsplit/ch11_clean.am_iish.txt\n",
      "Written to ../Texts/Amharic_Capital/cleaned_customsplit/ch12_clean.am_iish.txt\n",
      "Written to ../Texts/Amharic_Capital/cleaned_customsplit/ch13_clean.am_iish.txt\n",
      "Written to ../Texts/Amharic_Capital/cleaned_customsplit/ch14_clean.am_iish.txt\n",
      "Written to ../Texts/Amharic_Capital/cleaned_customsplit/ch15_clean.am_iish.txt\n",
      "Written to ../Texts/Amharic_Capital/cleaned_customsplit/ch16_clean.am_iish.txt\n",
      "Written to ../Texts/Amharic_Capital/cleaned_customsplit/ch17_clean.am_iish.txt\n",
      "Written to ../Texts/Amharic_Capital/cleaned_customsplit/ch18_clean.am_iish.txt\n",
      "Written to ../Texts/Amharic_Capital/cleaned_customsplit/ch19_clean.am_iish.txt\n",
      "Written to ../Texts/Amharic_Capital/cleaned_customsplit/ch20_clean.am_iish.txt\n",
      "Written to ../Texts/Amharic_Capital/cleaned_customsplit/ch21_clean.am_iish.txt\n",
      "Written to ../Texts/Amharic_Capital/cleaned_customsplit/ch22_clean.am_iish.txt\n",
      "Written to ../Texts/Amharic_Capital/cleaned_customsplit/ch23_clean.am_iish.txt\n",
      "Written to ../Texts/Amharic_Capital/cleaned_customsplit/ch24_clean.am_iish.txt\n",
      "Written to ../Texts/Amharic_Capital/cleaned_customsplit/ch25_clean.am_iish.txt\n",
      "Written to ../Texts/Amharic_Capital/cleaned_customsplit/ch26_clean.am_iish.txt\n",
      "Written to ../Texts/Amharic_Capital/cleaned_customsplit/ch27_clean.am_iish.txt\n",
      "Written to ../Texts/Amharic_Capital/cleaned_customsplit/ch28_clean.am_iish.txt\n",
      "Written to ../Texts/Amharic_Capital/cleaned_customsplit/ch29_clean.am_iish.txt\n",
      "Written to ../Texts/Amharic_Capital/cleaned_customsplit/ch30_clean.am_iish.txt\n",
      "Written to ../Texts/Amharic_Capital/cleaned_customsplit/ch31_clean.am_iish.txt\n",
      "Written to ../Texts/Amharic_Capital/cleaned_customsplit/ch32_clean.am_iish.txt\n",
      "Written to ../Texts/Amharic_Capital/cleaned_customsplit/ch33_clean.am_iish.txt\n"
     ]
    }
   ],
   "source": [
    "# And now we can make a new custom version of each chapter\n",
    "all_ch_sents_am = []\n",
    "for cur_am_fpath in am_fpaths:\n",
    "    # Get the fname prefix\n",
    "    cur_fname = os.path.basename(cur_am_fpath)\n",
    "    cur_sents, cur_sents_nocustom = load_and_tokenize(cur_am_fpath)\n",
    "    num_sents_tokenized = len(cur_sents)\n",
    "    if num_sents_tokenized > 1500:\n",
    "        print(f\"Tokenization issue: num_sents_tokenized = {num_sents_tokenized}\")\n",
    "        print(f\"Non-custom num sents: {len(cur_sents_nocustom)}\")\n",
    "        # So, in this case, we just use the original non-custom tokenization\n",
    "        cur_sents = cur_sents_nocustom\n",
    "    all_ch_sents_am.append(cur_sents)\n",
    "    sent_str = \"\\n\".join(cur_sents)\n",
    "    cur_output_fpath = os.path.join(custom_output_path, cur_fname)\n",
    "    # And save\n",
    "    with open(cur_output_fpath, 'w', encoding='utf-8') as outfile:\n",
    "        outfile.write(sent_str)\n",
    "    print(f\"Written to {cur_output_fpath}\")"
   ],
   "metadata": {
    "collapsed": false,
    "pycharm": {
     "name": "#%%\n"
    }
   }
  },
  {
   "cell_type": "markdown",
   "source": [
    "### And now, as a test, just try \"aligning\" Amharic and German via sentences"
   ],
   "metadata": {
    "collapsed": false,
    "pycharm": {
     "name": "#%% md\n"
    }
   }
  },
  {
   "cell_type": "code",
   "execution_count": 16,
   "outputs": [
    {
     "data": {
      "text/plain": "dict_keys(['am_iish', 'en_fowkes', 'en_aveling', 'de_tge', 'ru_morg', 'zh_morg'])"
     },
     "execution_count": 16,
     "metadata": {},
     "output_type": "execute_result"
    }
   ],
   "source": [
    "trglobals.text_paths.keys()"
   ],
   "metadata": {
    "collapsed": false,
    "pycharm": {
     "name": "#%%\n"
    }
   }
  },
  {
   "cell_type": "code",
   "execution_count": 17,
   "outputs": [],
   "source": [
    "de_fpaths = glob.glob(os.path.join(trglobals.text_paths['de_tge'], \"*.txt\"))\n",
    "num_de_fpaths = len(de_fpaths)"
   ],
   "metadata": {
    "collapsed": false,
    "pycharm": {
     "name": "#%%\n"
    }
   }
  },
  {
   "cell_type": "code",
   "execution_count": 18,
   "outputs": [],
   "source": [
    "all_ch_sents_de = []\n",
    "all_fnames_de = []\n",
    "for cur_de_fpath in de_fpaths:\n",
    "    cur_de_fname = os.path.basename(cur_de_fpath)\n",
    "    all_fnames_de.append(cur_de_fname)\n",
    "    with open(cur_de_fpath, 'r', encoding='utf-8') as infile:\n",
    "        cur_de_text = infile.read()\n",
    "    cur_de_sents = trglobals.sent_tokenize(cur_de_text, \"de\")\n",
    "    cur_sents_clean = [trglobals.remove_footnotes(cur_sent, \"de\") for cur_sent in cur_de_sents]\n",
    "    all_ch_sents_de.append(cur_sents_clean)\n"
   ],
   "metadata": {
    "collapsed": false,
    "pycharm": {
     "name": "#%%\n"
    }
   }
  },
  {
   "cell_type": "code",
   "execution_count": 19,
   "outputs": [],
   "source": [
    "all_ch_names = [fname.split(\".\")[0] for fname in all_fnames_de]"
   ],
   "metadata": {
    "collapsed": false,
    "pycharm": {
     "name": "#%%\n"
    }
   }
  },
  {
   "cell_type": "code",
   "execution_count": 20,
   "outputs": [
    {
     "name": "stdout",
     "output_type": "stream",
     "text": [
      "Processing ch01\n",
      "de sents: 697\n",
      "am sents: 450\n",
      "Saved ../Texts_Aligned/de_tge.am_iish2/ch01.csv\n",
      "Processing ch02\n",
      "de sents: 122\n",
      "am sents: 114\n",
      "Saved ../Texts_Aligned/de_tge.am_iish2/ch02.csv\n",
      "Processing ch03\n",
      "de sents: 685\n",
      "am sents: 374\n",
      "Saved ../Texts_Aligned/de_tge.am_iish2/ch03.csv\n",
      "Processing ch04\n",
      "de sents: 466\n",
      "am sents: 93\n",
      "Saved ../Texts_Aligned/de_tge.am_iish2/ch04.csv\n",
      "Processing ch05\n",
      "de sents: 168\n",
      "am sents: 85\n",
      "Saved ../Texts_Aligned/de_tge.am_iish2/ch05.csv\n",
      "Processing ch06\n",
      "de sents: 130\n",
      "am sents: 70\n",
      "Saved ../Texts_Aligned/de_tge.am_iish2/ch06.csv\n",
      "Processing ch07\n",
      "de sents: 361\n",
      "am sents: 172\n",
      "Saved ../Texts_Aligned/de_tge.am_iish2/ch07.csv\n",
      "Processing ch08\n",
      "de sents: 162\n",
      "am sents: 79\n",
      "Saved ../Texts_Aligned/de_tge.am_iish2/ch08.csv\n",
      "Processing ch09\n",
      "de sents: 339\n",
      "am sents: 153\n",
      "Saved ../Texts_Aligned/de_tge.am_iish2/ch09.csv\n",
      "Processing ch10\n",
      "de sents: 864\n",
      "am sents: 656\n",
      "Saved ../Texts_Aligned/de_tge.am_iish2/ch10.csv\n",
      "Processing ch11\n",
      "de sents: 106\n",
      "am sents: 42\n",
      "Saved ../Texts_Aligned/de_tge.am_iish2/ch11.csv\n",
      "Processing ch12\n",
      "de sents: 128\n",
      "am sents: 104\n",
      "Saved ../Texts_Aligned/de_tge.am_iish2/ch12.csv\n",
      "Processing ch13\n",
      "de sents: 147\n",
      "am sents: 57\n",
      "Saved ../Texts_Aligned/de_tge.am_iish2/ch13.csv\n",
      "Processing ch14\n",
      "de sents: 325\n",
      "am sents: 223\n",
      "Saved ../Texts_Aligned/de_tge.am_iish2/ch14.csv\n",
      "Processing ch15\n",
      "de sents: 1775\n",
      "am sents: 1310\n",
      "Saved ../Texts_Aligned/de_tge.am_iish2/ch15.csv\n",
      "Processing ch16\n",
      "de sents: 145\n",
      "am sents: 131\n",
      "Saved ../Texts_Aligned/de_tge.am_iish2/ch16.csv\n",
      "Processing ch17\n",
      "de sents: 177\n",
      "am sents: 113\n",
      "Saved ../Texts_Aligned/de_tge.am_iish2/ch17.csv\n",
      "Processing ch18\n",
      "de sents: 49\n",
      "am sents: 16\n",
      "Saved ../Texts_Aligned/de_tge.am_iish2/ch18.csv\n",
      "Processing ch19\n",
      "de sents: 108\n",
      "am sents: 75\n",
      "Saved ../Texts_Aligned/de_tge.am_iish2/ch19.csv\n",
      "Processing ch20\n",
      "de sents: 91\n",
      "am sents: 53\n",
      "Saved ../Texts_Aligned/de_tge.am_iish2/ch20.csv\n",
      "Processing ch21\n",
      "de sents: 93\n",
      "am sents: 39\n",
      "Saved ../Texts_Aligned/de_tge.am_iish2/ch21.csv\n",
      "Processing ch22\n",
      "de sents: 53\n",
      "am sents: 40\n",
      "Saved ../Texts_Aligned/de_tge.am_iish2/ch22.csv\n",
      "Processing ch23\n",
      "de sents: 168\n",
      "am sents: 144\n",
      "Saved ../Texts_Aligned/de_tge.am_iish2/ch23.csv\n",
      "Processing ch24\n",
      "de sents: 426\n",
      "am sents: 279\n",
      "Saved ../Texts_Aligned/de_tge.am_iish2/ch24.csv\n",
      "Processing ch25\n",
      "de sents: 1301\n",
      "am sents: 950\n",
      "Saved ../Texts_Aligned/de_tge.am_iish2/ch25.csv\n",
      "Processing ch26\n",
      "de sents: 50\n",
      "am sents: 37\n",
      "Saved ../Texts_Aligned/de_tge.am_iish2/ch26.csv\n",
      "Processing ch27\n",
      "de sents: 177\n",
      "am sents: 148\n",
      "Saved ../Texts_Aligned/de_tge.am_iish2/ch27.csv\n",
      "Processing ch28\n",
      "de sents: 124\n",
      "am sents: 85\n",
      "Saved ../Texts_Aligned/de_tge.am_iish2/ch28.csv\n",
      "Processing ch29\n",
      "de sents: 26\n",
      "am sents: 24\n",
      "Saved ../Texts_Aligned/de_tge.am_iish2/ch29.csv\n",
      "Processing ch30\n",
      "de sents: 53\n",
      "am sents: 28\n",
      "Saved ../Texts_Aligned/de_tge.am_iish2/ch30.csv\n",
      "Processing ch31\n",
      "de sents: 166\n",
      "am sents: 127\n",
      "Saved ../Texts_Aligned/de_tge.am_iish2/ch31.csv\n",
      "Processing ch32\n",
      "de sents: 38\n",
      "am sents: 27\n",
      "Saved ../Texts_Aligned/de_tge.am_iish2/ch32.csv\n",
      "Processing ch33\n",
      "de sents: 127\n",
      "am sents: 100\n",
      "Saved ../Texts_Aligned/de_tge.am_iish2/ch33.csv\n"
     ]
    }
   ],
   "source": [
    "sent_ratios = {}\n",
    "for cur_ch_index in range(num_de_fpaths):\n",
    "    cur_ch_name = all_ch_names[cur_ch_index]\n",
    "    print(f\"Processing {cur_ch_name}\")\n",
    "    cur_de_sents = all_ch_sents_de[cur_ch_index]\n",
    "    num_de_sents = len(cur_de_sents)\n",
    "    print(f\"de sents: {num_de_sents}\")\n",
    "    cur_am_sents = all_ch_sents_am[cur_ch_index]\n",
    "    num_am_sents = len(cur_am_sents)\n",
    "    print(f\"am sents: {num_am_sents}\")\n",
    "    # Print warning if bad ratio...\n",
    "    sent_ratio = num_am_sents / num_de_sents\n",
    "    sent_ratios[cur_ch_name] = (sent_ratio, num_am_sents, num_de_sents)\n",
    "    if sent_ratio > 1.5:\n",
    "        print(f\"*** sent imbalance: ratio = {sent_ratio} ***\")\n",
    "    # Trying to fix this... try original non-custom split in this case?\n",
    "\n",
    "    longer_len = max(num_de_sents, num_am_sents)\n",
    "    blank_rows = [\"\"] * longer_len\n",
    "    cur_ch_df = pd.DataFrame({'de': blank_rows, 'am': blank_rows})\n",
    "    cur_ch_df.iloc[:num_de_sents, cur_ch_df.columns.get_loc('de')] = cur_de_sents\n",
    "    cur_ch_df.iloc[:num_am_sents, cur_ch_df.columns.get_loc('am')] = cur_am_sents\n",
    "    custom_aligned_path = \"../Texts_Aligned/de_tge.am_iish2/\"\n",
    "    if not os.path.isdir(custom_aligned_path):\n",
    "        os.mkdir(custom_aligned_path)\n",
    "    # And save the \"alignment\"\n",
    "    cur_ch_name = all_ch_names[cur_ch_index]\n",
    "    cur_aligned_fpath = os.path.join(custom_aligned_path, f\"{cur_ch_name}.csv\")\n",
    "    cur_ch_df.to_csv(cur_aligned_fpath)\n",
    "    print(f\"Saved {cur_aligned_fpath}\")"
   ],
   "metadata": {
    "collapsed": false,
    "pycharm": {
     "name": "#%%\n"
    }
   }
  },
  {
   "cell_type": "code",
   "execution_count": 21,
   "outputs": [
    {
     "data": {
      "text/plain": "{'ch01': (0.6456241032998565, 450, 697),\n 'ch02': (0.9344262295081968, 114, 122),\n 'ch03': (0.545985401459854, 374, 685),\n 'ch04': (0.19957081545064378, 93, 466),\n 'ch05': (0.5059523809523809, 85, 168),\n 'ch06': (0.5384615384615384, 70, 130),\n 'ch07': (0.47645429362880887, 172, 361),\n 'ch08': (0.4876543209876543, 79, 162),\n 'ch09': (0.45132743362831856, 153, 339),\n 'ch10': (0.7592592592592593, 656, 864),\n 'ch11': (0.39622641509433965, 42, 106),\n 'ch12': (0.8125, 104, 128),\n 'ch13': (0.3877551020408163, 57, 147),\n 'ch14': (0.6861538461538461, 223, 325),\n 'ch15': (0.7380281690140845, 1310, 1775),\n 'ch16': (0.903448275862069, 131, 145),\n 'ch17': (0.6384180790960452, 113, 177),\n 'ch18': (0.32653061224489793, 16, 49),\n 'ch19': (0.6944444444444444, 75, 108),\n 'ch20': (0.5824175824175825, 53, 91),\n 'ch21': (0.41935483870967744, 39, 93),\n 'ch22': (0.7547169811320755, 40, 53),\n 'ch23': (0.8571428571428571, 144, 168),\n 'ch24': (0.6549295774647887, 279, 426),\n 'ch25': (0.7302075326671791, 950, 1301),\n 'ch26': (0.74, 37, 50),\n 'ch27': (0.8361581920903954, 148, 177),\n 'ch28': (0.6854838709677419, 85, 124),\n 'ch29': (0.9230769230769231, 24, 26),\n 'ch30': (0.5283018867924528, 28, 53),\n 'ch31': (0.7650602409638554, 127, 166),\n 'ch32': (0.7105263157894737, 27, 38),\n 'ch33': (0.7874015748031497, 100, 127)}"
     },
     "execution_count": 21,
     "metadata": {},
     "output_type": "execute_result"
    }
   ],
   "source": [
    "sent_ratios"
   ],
   "metadata": {
    "collapsed": false,
    "pycharm": {
     "name": "#%%\n"
    }
   }
  },
  {
   "cell_type": "code",
   "execution_count": 22,
   "outputs": [],
   "source": [
    "# Sort by ratio\n",
    "ratios_sorted = sorted(sent_ratios.items(), key=lambda x: x[1][0])"
   ],
   "metadata": {
    "collapsed": false,
    "pycharm": {
     "name": "#%%\n"
    }
   }
  },
  {
   "cell_type": "code",
   "execution_count": 23,
   "outputs": [
    {
     "data": {
      "text/plain": "[('ch04', (0.19957081545064378, 93, 466)),\n ('ch18', (0.32653061224489793, 16, 49)),\n ('ch13', (0.3877551020408163, 57, 147)),\n ('ch11', (0.39622641509433965, 42, 106)),\n ('ch21', (0.41935483870967744, 39, 93)),\n ('ch09', (0.45132743362831856, 153, 339)),\n ('ch07', (0.47645429362880887, 172, 361)),\n ('ch08', (0.4876543209876543, 79, 162)),\n ('ch05', (0.5059523809523809, 85, 168)),\n ('ch30', (0.5283018867924528, 28, 53)),\n ('ch06', (0.5384615384615384, 70, 130)),\n ('ch03', (0.545985401459854, 374, 685)),\n ('ch20', (0.5824175824175825, 53, 91)),\n ('ch17', (0.6384180790960452, 113, 177)),\n ('ch01', (0.6456241032998565, 450, 697)),\n ('ch24', (0.6549295774647887, 279, 426)),\n ('ch28', (0.6854838709677419, 85, 124)),\n ('ch14', (0.6861538461538461, 223, 325)),\n ('ch19', (0.6944444444444444, 75, 108)),\n ('ch32', (0.7105263157894737, 27, 38)),\n ('ch25', (0.7302075326671791, 950, 1301)),\n ('ch15', (0.7380281690140845, 1310, 1775)),\n ('ch26', (0.74, 37, 50)),\n ('ch22', (0.7547169811320755, 40, 53)),\n ('ch10', (0.7592592592592593, 656, 864)),\n ('ch31', (0.7650602409638554, 127, 166)),\n ('ch33', (0.7874015748031497, 100, 127)),\n ('ch12', (0.8125, 104, 128)),\n ('ch27', (0.8361581920903954, 148, 177)),\n ('ch23', (0.8571428571428571, 144, 168)),\n ('ch16', (0.903448275862069, 131, 145)),\n ('ch29', (0.9230769230769231, 24, 26)),\n ('ch02', (0.9344262295081968, 114, 122))]"
     },
     "execution_count": 23,
     "metadata": {},
     "output_type": "execute_result"
    }
   ],
   "source": [
    "ratios_sorted"
   ],
   "metadata": {
    "collapsed": false,
    "pycharm": {
     "name": "#%%\n"
    }
   }
  },
  {
   "cell_type": "code",
   "execution_count": 24,
   "outputs": [],
   "source": [
    "# So... for ch12 (ratio 2416:128) and ch19 (ratio 1236:108), prob best to do manually.\n",
    "# Otherwise, not bad!"
   ],
   "metadata": {
    "collapsed": false,
    "pycharm": {
     "name": "#%%\n"
    }
   }
  },
  {
   "cell_type": "code",
   "execution_count": 25,
   "outputs": [],
   "source": [
    "# Loading these chs and just having their am column be a single line, for splitting into chunks manually\n",
    "custom_chs = ['ch12', 'ch19']"
   ],
   "metadata": {
    "collapsed": false,
    "pycharm": {
     "name": "#%%\n"
    }
   }
  },
  {
   "cell_type": "code",
   "execution_count": 26,
   "outputs": [
    {
     "name": "stdout",
     "output_type": "stream",
     "text": [
      "Num periods: 63\n",
      "Num periods: 28\n"
     ]
    }
   ],
   "source": [
    "for cur_custom_ch in custom_chs:\n",
    "    cur_fpath = f\"../Texts/Amharic_Capital/cleaned/{cur_custom_ch}_clean.am_iish.txt\"\n",
    "    with open(cur_fpath, 'r', encoding='utf-8') as infile:\n",
    "        cur_text = infile.read()\n",
    "    print(f\"Num periods: {cur_text.count(trglobals.AM_PERIOD)}\")"
   ],
   "metadata": {
    "collapsed": false,
    "pycharm": {
     "name": "#%%\n"
    }
   }
  },
  {
   "cell_type": "code",
   "execution_count": 27,
   "outputs": [
    {
     "data": {
      "text/plain": "\"ክፍል ስድስት ም ን ዳ ምዕራፍ Gስራ ዘጠኝ የሥራ ኃይል እሴት (እንዲሁም የዋጋ) ወዶ ምንዳ መለወጥ በቡርዧ ኅብረተሰብ ውስጥምንዳ ላይ ላዩን ሲታይ የሥራ ዋጋ ማለትምለተ ወሰነ የሥራ መጠን የተከፈለ የተወሰነ የገንዘብ መጠን ይመስላል = እንዲህም በመሆኑ ሰዎች የሥራኃይል እሴት አድርገውይቆጥሩታል። ገንዛባዊ መልኩንም አስፈላጊ ወይም መደበኛ ዋጋው አድርገው ይቆጥሩታል = በሌላ በኩልም የሥራን የገበያ ዋጋ ከመደበኛ እርከኑ በላይ ወይም በታች የሚዋዥቅ ዋጋ አድ ርገው ይናገራሉ ። ለመሆኑ የአንድ ሸቀጥ እሴት ምንድን ነው ? ሸቀጡን ለማምረት የዋለው የማኅበራዊ ሥራ ነባራዊ መልኩ ነው የዚህን እሴት መጠንስ እንዴት እንለካ ዋለን ? ውስጡ በአለው የሥራ መጠን ታዲያ ለምሳሌ የ12 ሰዓት የሥራ ቀን እሴት የሚወሰነው እንዴት ነው ? በ12 ሰዓት የሥራ ቀን ውስጥ ባሉት 12 የሥራ ሰዓቶች ነው = ይህ ትርጉም የለሽ ድግግሞሽ ነው ። ጉልበት ሸቀጥ ሆኖ ለሽያጭ እንዲቀርብ ከተፈለገ ከመሸጡ በፊት የግድ መኖር አለበት ዳሩ ግን ሠራተኛው ጉልበትን ራሱን የቻለ ነባራዊ ህልውና ያለው ነገር አድርጐ ለማቅረብ ቢችል ኖሮ የሚሸጠው ሸቀጥን እንጂ ጉልበትን አይሆንም ነበር ውን የሚያቃውስ መስሎ የሚታየውን ችግር ሪካርዶ በዴ ያስወደዋል 1ይተወዋል - ይህ መር “ እሴት በምርት ውስጥ በዋለ የሥራ መጠን ላይ የተመሠረተ ነው የሚለውን አስተምህሮ በትhhል ተግባራዊ ከሆነ የሥራ እሴት እሱን ራሱን ለማስገኘት በፈሰሰው የሥራ መጠን ላይ የተ መሠረተ ነው ወደሚል አስቂኝ መደምደሚያ ያመራል ስለዚህም ሪካርዶ ቅልብስ ይልና የሥራን እሴት ምንዳን ለማስገኘት በፈሰሰው የሥራ መጠን ላይ የተመሠረተ ያደርገዋል ወይም በእርሱ አባባል መሠረት የሥራ እሴት የሚወሰነው ምንዳን ለማስገኘት በፈሰሰው ጉልበት መጠን ነው * ይህን ሲልም ለሠራተኛው የሚሰጠውን ገንዘብ ወይም ሸቀጥ ለማስገኘት የዋለውን የሥራ መጠን ልብሱ የሚገዛበትን ብር ከማዕድን ለማውጣት በፈሰሰው የሥራ መጠን ነው እንደማለትይቆጠራል” ማለቱ ነœ ይህም የልብስ እሴት የሚወሰነው ልብሱን ለማምረት በዋለው የሥራ መጠን ሳይሆን (A Critical Dissertation on the Nature, &c., of Value, pp. 50-51) “ ጉልበት ሸቀጥ ነው ከተባለ በመጀመሪያ ላይ ለልውውጥ ሲባል እንደሚመረትና ከዚያም የበያው ሁኔታ በፈቀደº መሠረት ከሌሎች ሸቀጦች ጋር የሚለዋወጥ ሸቀጥ ነው ማለት አይዶ ለም ጉልበት የሚፈጠረው ለገቢያ ሲቀርብ ነው ' እንዲያውም ለገቢያ የሚቀርበው ከመፈጠሩ 0470 Observations on Certain Verbal Disputes, etc., pp. 75,76) የሥራ ኃይል እሴትና ምንዳ ከነዚህ ቅራኔዎች ሌላ የገንዘብ ማለትም የተጠናቀቀ ሥራ ከሕያው ሥራ ጋር በቀጥታ መለዋወጥ በካፒታሊስት አመራረት ውስጥ ብቻ ነጻ በሆነ መን ላይ የተመሠረተውን የካፒታሊስቱን አመራረት ያስወግደዋል የ12 ሰዓት ገድ ማደግ የጀመረውን የእሴትን ሕግ ይሽረዋል ወይም በቀጥታ በቅጥር ሥራ የሥራ ቀን ለምሳሌ በ6 ሽልንግ ገንዘባዊ እሴት ውስጥ የተጠናቀረ ነው እነዚህ በእኩልነት ይለዋወጣሉ ከተባለ ' ሠራተኛው ለ12 ሰዓት ሥራ 6 ሽልንግ ያı ኛል የጉልበቱ ዋጋ ከምርቱ ዋጋ ጋር ተመጣጣኝ ይሆናል ይህ ከሆነ ጉልበ ቱን ለገዛው ምንም ተረፈ እሴት አያመርትም ፤ 6ቱ ሽልንግ ወደካፒታል አል ተቀየረም * በመሆኑም የካፒታሊስቱ አመራረት መሠረት ይጠፋል ነገር ግን ጉልበቱን የሚሸጠውና ሥራውም የምንዳ ሥራ የሚሆነው በራሱ በካፒታ ሊስቱ የአመራረት መሠረት ላይ ነው ። አለያም ለ12 ሰዓት ሥራ ከ6 ሽልንግ ያነሰ ማለትም ከ12 ሰዓት ሥራ ያነሰ ይከፈለዋል የአሥራ ሁለት ሰዓት ሥራ 10 በ6 ወዘተ ... ሰዓት ሥራ ይለወጣል ይህ እኩል ያልሆኑ መጠኖችን እኩል አድርጐ መውሰድ የእሴትን አወሳሰን የሚያስወግድ ብቻ አይሆንም እንደዚህ ዓይነቱ ራሱን በራሱ የሚያጠፋ ቅራኔ በምንም መንገድ እንደ ሕግ ሊገለጽ ወይም ሊቀረጽ አይችልም 1 ካላቸው የቅርጽ ልዩነት ማለትም አንደኛው የተጠናቀቀ ሌላው ደግሞ ሕያው ሥራ ከመሆኑ ተነሥቶ ብዙ የሥራ መጠን በትንሽ የሥራ መጠን ይለወ ጣል ብሎ ማጠቃለል ፋይዳ ቢስ ነው ። 3 ይህን በበለጠ ትርጉም የለሽ የሚያደ ርገው የአንድ ሸቀጥ እሴት የሚወሰነው ቀድሞ በተጠናቀቀ ሥራ ሳይሆን ሸቀጡን ለማምረት አስፈጊ በሆነው የሕያው ሥራ መጠን በመሆኑ ነው ለምሳሌ አንድ ሸቀጥ በስድስት የሥራ ሰዓት ይመረታል እንበል በ3 ሰዓት ውስጥ ሊመረት የሚችልበት አዲስ ዘዴ ቢፈጠር ቀድሞ የተመረተው ሸቀጥ እሴ ትም እንኳ በግማሽ ዝቅ ይላል ። ቀደም ሲል ያስፈልግ በነበረው ስድስት የሥራ ሰዓት ፋንታ አሁን በ3 ሰዓት ማኅበራዊ ሥራ ይመረታል = የአንድ ሸቀጥ እሴት መጠን የሚወሰነው በዚያ ሥራ የተጠናቀቀ ቅርጽ ሳይሆን ሸቀጡን ለማም ረት በሚያስፈልገው የሥራ መጠን ነው ከባለገንዘቡ ጋር ገበያ ውስጥ የሚደራደረው ሥራ ሳይሆን ሠራተኛው ነው 1 ሠራተኛውም የሚሸጠው የሥራ ኃይሉን ነው መሥራት ሲጀምር የሥራ ኃይሉ ባለቤት መሆኑ ያከትማል ስለዚህ ዳግመኛ ሊሸጠው አይችልም * ሥራ የእሴት ባህርይና ዓይነተኛ መመዘኛ ነው = አራሱ ግን አሴት የለOም “ የሥራ እሴት ” በሚለው ሐረግ ውስጥ የእሴት ምንነት መድበስበስ ብቻ ሳይሆን በተቃራኒው ተገልጿል እንደ መሬት እሴት ያለ ምናባዊ አገላለጽ ነው - ሆኖም እነዚህ ምናባዊ አገላለጾች የሚመነጩት ከራሳቸው ከምርት ግን የሁለት ሸቀጦች “ ሥራ እንደ አንድ ሸቀጥ የሥራ ምርት የሆነው ካፒታል ደግሞ እንደሌላ ተቆጥሮ የእነዚህ እሴት በአኩያ የሥራ ን ወሰን የተወሰነ የሥራ መጠን . . . በተመሳሳይ የሥራ መጠን በተመረተው ካፒታል ይለወጣል ያለፈ ጊዜ ሥራ . . ተመሳሳይ መጠን ባለው የአሁን ጊዜ ሥራ ይለወጣል - ከሌሎች ሸቀጦች ጋር ሲነጻጸር የሥራ እሴት በእኩል የሥራ መጠ of Nations, Vol.1., London 1836, p. 231, note) ኖች · · · የሚወሰን አይደለም . G. Wakefield in his edition of Adam Smith's “Wealth “ካፒታሊስቱ የቀድሞ ሥራን በሕያው ሥራ በለወጠ ቁጥር ከሠራተኛው የበለጠ እሴት እን ደሚኖረው መስማማት ግድ ሆኗል 1803, t.I, p. 37. (Sismondi) De la Richesse Commerciale, Genéve, 3 (6 Hodgskin, Popul. Polit. Econ, ሥራ የእሴት ብቸኛ መስፈርት • • • •የሀብት ሁሉ ፈጣሪ እንጂ ሸቀጥ አይደለም = Th. P 186. Scanned by CamScanner ካፒታሊስታዊ አመራረት ኙነቶች ነው መሠረታዊ ለሆኑ ግንኙነቶች የመከሰቻ ፈርጆች ናቸ ነገሮች በገጽታቸው ብዙውን ጊዜ የሚቀርቡት በተገላቢጦሽ መሆኑ ከፖለቲካ ኢኮ ኖሚ በስተቀር በሁሉም ሳይንስ ውስጥ በሚገባ የታወቀ ነው ብሉይ የፖለቲካ ኢኮኖሚ ከዕለት ተዕለት ኑሮ “ የሥራ ዋጋ ” የሚለውን ጥያቄ አነሣ s ወዲያውም በፍላጐትና በአቅርቦት ግንኙነቶች ውስጥ ያለው ያለምንም ምርምር እንዳለ ከወሰደ በኋላ ይህ ዋጋ እንዴት ይወሰናል የሚለውን ለውጥ እንዶሌሎች ሸቀጦች ዋጋ ሁሉ የሥራን ዋጋ በሚመለከት የሚı ልጸው ለውጡን ብቻ ማለትም ከተወሰነ አማካይ በታች መዋዠቁን እንጂ ሌላ አለመሆኑን ተገነዘበ ሌሎች ሁኔታዎች እንደተጠበቁ ሆነው ፍላ ጐትና አቅርቦት ከተመጣጠኑ የዋጋ ውጣ ውረድ ያከትማል ። እንዲህ ከሆነ ፍላጐትና አቅርቦት የሚጠቁሙት ነገር የለም ፍላጐትና አቅር እኩል በሚሆኑበት ወቅት የሥራ ዋጋ ከፍላጐትና ከአቅርቦት ግንኙነት ው የሚወሰን መደበኛ ዋጋ ነው * ቁምነገሩ ይህ ዋጋ እንዴት ይወሰናል ከሚለው ላይ ነው ። ረዘም ላለ ጊዜ ለምሳሌ ለአንድ ዓመት ያህል የገበያን ዋጋ ውጣ ውረድ ብንከታተል ውጣ ውረዱ ይጣጣና አማካይ ደረጃ ማለትም አንጻራዊ ቋሚ መጠን ላይ ይደረሳል ይህ በመሠረቱ መወሰን የነበረበት በራሱ የመጣጣት ሁኔ ሳይሆን በሌላ መንገድ ነበር በፊዚዮክራቶች አባባል “ አስፈላጊ ዋጋ በአዳም ስሚዝ አባባል “መደበኛ ዋጋ” የተባለውና ዞሮ ዞሮ የገበያን ልቅ የአጋ ጣሚ ዋጋ አሸንፎ በመጨረሻም የሚሰፍነው ይህ ዋጋ እንደማንኛውም ሸቀጥ በገንዘብ መልክ የተገለጸ እሴት እንጂ ሌላ ሊሆን አይችልም = በመሆኑም ፖለ ቲካዊ ኢኮኖሚ አጋጣሚ የገበያ ዋጋን ዘልቆ የሥራን እሴት ለመመርመር ጥረት አደረገ = እንደ ሌሎች ሸቀጦች ሁሉ ይህም እሴት የሚወሰነው በማምረቻ ተመኑ ነው ይሁንና ሠራተኛው የሚመረትበት ተመን ማለትም ራሱን ሠራተኛውን የማፍሪያ ወይም የማባዣ ተመን ምንድነው ? ይህ ጥያቄ በፖለቲካዊ ኢኮኖሚ ውስጥ ሳይታወቅ የመጀመሪያውን ጥያቄ ተካ = ሠራተኛውን ለማፍራት የሚወ ጣውን ተመን Gማወቅ የተደረገው ጥረት ውሃ ቅዳ ውሃ መልስ ሆኗልና - ስለ ዚህም ኢኮኖሚስቶች የሥራ እሴት የሚሉት እንደ እውነቱ ከሆነ የሥራ ኃይልን እሴት ነው = ማለትም በሠራተኛው ሰብእና ውስጥ እንዳለ ሆኖ ነው ማሽን ከሚያከናውነው ሥራ የተለየ እንደሆነ ሁሉ የሥራ ኃይልም ቢሆን ከሚያካ ሂደው ተግባር ማለትም ከሥራ የተለየ ነው በጉልበት የገያ ዋጋና የሥራ በሌላ በኩል እንዲህ ያሉትን ዘይቤዎች እንደ የሥነ ግጥም አጻጻፍ ነጻነት ብቻ አድርጐ ለመ ግለጽ መሞከር የሚያሳየው የትንተናውን ደካማነት ብቻ ነው በመሆኑም “ሥራ እሴት ነው ሲባል እሱ ራሱ አንደ ሸቀጥ ተቆጥሮ ሳይን በሥራቱምክንያት እውስጡ እሴት አቅፏል በሚል እም ነት ነው የሥራ እሴት ስንል ዘይቤ ው- ው ሩ ሀረ የሚከተለውን መልስ ሰጥቻ ለሁ - “እጅግ የሚያስፈራ እውነታ በሆነው በሥራ ጽቀ ውስጥ ሱ (ለፕሩዶ) የሚታየው የሰ ስው ግድፈት ብቻ ነው እንግዲህ ራ ቀ መረተው ጠቅላላው የአሁኑ ኅብረ ሰብ በሥነ ግጥም ነጻነት ማለትም በዘይቤ ላይ የተመሠረተ ነው ። ኅብረተሰቡ የሚያስጨንቁትን መለወጥ ነው × ለዚህም የሚያስፈልገው አካዳሚውን የመዝገበ ቃላቱን አዲስ እትም እንዲያዘጋጅ መጠየቅ ብቻ ነው '' (Karl Marx, “Misère de la Philosophic, pp. 34,35.) እሴት ከሚለው ቃል ምንም ነገር አለመረዳት ደግሞ የበለጠውን አመቺ መሆኑ የሚጠበቅ ነው ▪ ያኔ ያለምንም ችግር ሁሉንም ነገር በዚህ ፈርጅ ውስጥ መhተት ይቻላል - ስለዚህም ለምሳሌ ዣ. ቢ. ሴይ አሴት ምን ድነው? ለሚለው Tያቄ መልስ ሲሰጥ“ የአንድ ነገር ጥቅሙ ነው ” ይላል ዋጋ ምንድነው? ለሚ ለው ደግሞ መልሱ “የአንድ ነገር እሴት በገንዘብ ሲገለጽ'' የሚል ነው እና ለምንድነው የእርሻ ሥራ . . . እሴት የሚኖረው ? ዋጋ ስለምናወጣለት ነው * ስለዚህ እሴት የአንድ ነገር ጥቅሙ ነው መሬት “እሴት'' የሚኖራት እሴትዋ “ በገንዘብ' ስለተገለጸ ነው - ዞሮ ዞሮ ይህ ዘዴ የሁኔታዎችን መንሥዔና ምhንያት የምገልጽበት ቀላል መንıድ ነው የሥራ ኃይል እሴትና ምንዳ አማካይነት ከተመረቱት ሸቀጦች እሴቶች ጋር ባለው ግንኙነት ወዘተ . . ላይ እሴት በሚባለው መካከል እንዲሁም ይኸው እሴት ከትርፍ መጣኔ ጋርና በሥራ ሙሉ በሙሉ በማትኮራቸው የትንተናው ሂደት ያመራው ከሥራ የገበያ ዋጋዎች እሴቱ ነው ተብሎ ወደሚገመተው ብቻ ሳይሆን ይህ የሥራ እሴት ራሱ ወደሥራ ኃይል እሴት መወሰን ያመራ መሆኑን አልተረዱም × ብሉይ ኢኮኖሚ የራሱን ትንተና ውጤት ከቶ አልተıነዘበውም × ስለሆነም “ የሥራ እሴት” “ መደበኛ የሥራ ተመን ” ወዘተ... ለተባሉት ፈርጆች የእሴት ግንኙነት መግ ምናየው በማይወጣው ውዥንብርና ቅራኔ ውስጥ የገባ ሲሆን ይህም በመሠረቱ ለጫ በቂና የማያዳግሙ ስያሜዎች አድርጐ ሳያመዛዤን በመቀበሉ በኋላ እንደ ቅርጽን ብቻ ለሚያመልከውና ጥልቀት አልባ ለሆነው የተራ ኢኮኖሚስቶች ተግባር ጽኑ መሠረት ሆነላቸው ቀጥለን የሥራ ኃይል እሴት (እና ዋጋ ) በዚህ በተለወጠ ሁኔታ ውስጥ ራሳቸውን በምንዳነት እንዴት እንደሚያቀርቡ እንመልከት የሥራ ኃይል ዕለታዊ ምንዳ በተወሰነ የሠራተኛው የሕይወት ዘመን ላይ ተመሥርቶ እንደሚሰላና ይህም በተራው የተወሰነ ርዝመት ካለው የሥራ ቀን ጋር እንደሚጣጣም እናውቃለን የተለመደው የሥራ ቀን 12 ሰዓት 6 የሥራ ሰዓት የሚያቅፈው የሥራ ኃይል እሴት ደግሞ በገንዘብ ሲገለጽ3 ሽልንግ ነው እንበል ሠራተኛው 3 ሽልንጉን ከተቀበለ አሥራ ሁለት ሰዓት በሙሉ የሚሠራውን የሥራ ኃይሉን እሴት ተቀበለ ማለት ነው እንግዲህ ይህ የአንድ ቀን የሥራ ኃይል እሴት የራሱ የአንድ ቀን ሥራ እሴት ተደርጐ ቢገለጽ የአሥራ ሁለት ሰዓት ሥራ የ3 ሽልንግ እሴት አለው የሚል ቀ ይሰጠናል * ስለዚህ የሥራ ኃይል እሴት የሥራን እሴት ወይም በገንዘብ ሲገለጽ አስፈላጊ ዋጋውን ይወስናል ። በሌላ በኩል ደግሞ የሥራ ኃይል ዋጋ ከእሴቱ የተለየ ከሆነ በተመ ሳሳይ መንገድ የሥራ ዋጋም የሥራ እሴት ከሚባለው ይለያል የሥራ እሴት የሥራ ኃይል እሴት የተምታታ መግለጫ ብቻ እንደመሆኑ ' ካፒታሊስቱ ምንጊዜም የሥራ ኃይልን የራሱን እሴት ለመተካት ከሚያስ ፈልገው በላይ እንዲሠራ ስለሚያደርገው የሥራ እሴት ሁሌም ከሚያመርተው እሴት ያነሰ መሆን አለበት ማለት ነው። ከላይ በተጠቀሰውምሳሌ መሠረትአሥራ ሁለቱን ሰዓት በሙሉ የሚሠራ የሥራኃይል እሴት ሦስት ሽልንግ ሲሆን ይህን ንም እሴት ለሙተካት ደግሞ የሚያስፈልገው 6 ሰዓት ነው በሌላ በኩል ደግሞ የሥራ ኃይሉ የሚያመርተው እሴት 6 ሽልንግ ነው ምክንያቱም የሚሠራው አሥራሁለቱን ሰዓት ስለሆነና የሚያመርተውም እሴት የሚወሰነው በራሱ እሴት ሳይሆን በተግባር ላይ በቆየበት ጊዜ በመሆኑ ነው እንግዲህ መጀመሪያ ላይ ሲታይ የማይመስል ውጤት እናገኛለን — ይህም 6 ሽልንግ የሚፈጥር ሥራ 3 ሽልንግ ያወጣል የሚል ነው በተጨማሪም ከሥራ ቀን ውስጥ አንዱ ክፍል ብቻ ማለትም የስድስት ሰዓት ሥራ — የተከፈለበት የ3 ሽልንግ እሴት ያልተከፈለበትን የ6 ሰዓት ሥራ ምንዳ • በሥራ ቀን ውስጥ ያሉት የተከፈለበትና ያልተከፈለበት ' የአስፈላጊና ጨምሮ የ12 ሰዓት የሥራ ቀን እሴት ወይም ዋጋ መስሎ ይታየናል ስለሆነም ካፒታልን በሚመለከት በቀረበው ጽሑፍ ውስጥ የሚከተለው ጥያቄ መፍትሔ የሚያኝ ይመልከቱ - « በሥራ ጊዜ ብቻ በሚወሰነው በልውውጥ እሴት ላይ የተመሠረተ ምርት • የሥራየል መሆኑን የገለጽኩበትን “Zur Kritik der Politischen Oekonomie የተሰኘውን መጽሐፍ ገጽ 40 ውውጥ እሴት ሥራው ራሱ ከሚያስኘው ምርት የልውውጥ እሴት ያነሰ ነው ወደሚል መደምደ ሚ እንዴት ሊያመራ ይችላል ? » Scanned by CamScanner ካፒታሊስታዊ አመራረት የትርፍ ሥራ ክፍሎች ተለይተው እንዳይታወቁ ያደርጋል = ሁሉም ሥራ የተከ ፈለበት ሥራ ይመስላል በኮርቬ ውስጥ ሠራተኛው ለራሱ የሚሠራው ሥራና ለባለሁዳዱ የሚያከናውነው የግዳጅ ሥራ በጊዜም ይሁን በቦታ በጉልህ ተለ ይቶ ይታወቃል - በባሪያው ሥራ ውስጥ ባሪያው ጉልበቱን የሚተካበት ማለትም ለራሱ ኑሮ አስፈላጊ የሆኑትን ብቻ የሚያመርትበት የሥራ ቀኑክፍል እንኳን ለጌ ታው የሚሠራ ሥራሆኖ ይታያል = የባሪያው ሥራ በአጠቃላይ ያልተከፈለበት ሥራይመስላል። በተቃራኒው በምንዳ ሥራ ግን ተረፈ ሥራ ወይም ያልተከፈለ በት ሥራ እንኳን የተከፈለበት መስሎ ይታያል በባሪያው ሥርዓት ውስጥ ያለው የንብረት ግንኙነት ባሪያው ለራሱ የሚሠራበት ጊዜ እንዳይታይ ይደብቃል በካፒታሊስቱ ሥርዓት ውስጥ ያለው የገንዘብ ግንኙነት የምንዳ ሠራተኛውን ያልተከፈለበት ሥራ እንዳይታይ ያደርጋል ስለዚህ የሥራ ኃይል እሴትና ዋጋ ወደምንዳ ወይም ወደ ራሱ ወደ ሥራ ዋጋና እሴት የመለወጡን ወሳኝነት ልንረዳ እንችላለን ተጨባጭ ግንኙነቶች እንዳይታዩ ከማድረግ ባሻገር የዚያን ግንኙነት ተቃራኒ የሚያሳየው ይ ክስተታዊ ቅርጽ በካፒታሊስቱና በወዛደሩ መሀል ላለው የሕግ ግንኙነት ለካፒታሊስት ስልተምርት ሽፍንፍኖሽ * ነጻነትን በሚመለከት ለሚያሳድረው ቅዠታዊ አመለካከት * እንዲሁም ተራ ኢኮኖሚስቶች ለሚያናፍሱት ውዳሴ መሠረት ሆኗል ታሪክ የምንዳን ምስጢር ለማወቅ ረጅም ጊዜ የፈጀበት ቢሆንም በሌላ በኩል ደግሞ የዚህን ክስተት አስፈላጊነት ' የህልውናውንም ምክንያት እንደ መገንዘብ የቀለለ ነገር የለም ። በካፒታልና በሥራ መካከል ያለው ልውውጥ በመጀመሪያ ሲታይ የሌሎች ተራ ሸቀጦችን ግዥና ሽያጭ መልክ ይዞ ይቀርባል ዥው የተወሰነ ገንዘብ ሲሰጥ * ሻጩ ደግሞ ከገንዘብ የተለየ ባህርይ ያለው ዕቃ ያቀርባል የሕግ ባለሙያው በዚህ ውስጥ ግፋ ቢል የሚገነዘበው ፡- “Do ut des, do ut facias, facio ut des, facio ut facias.” (ትሰጥ ዘንድ እሰጣለሁ ' ታደርግ ዘንድ እሰጣ ለሁ * ትሰጥ ዘንድ አደርጋለሁ ' ታደርግ ዘንድ አደርጋለሁ) በሚል የሕግ አባ ባል የተገለጸውን ቁሳዊ ልዩነት ነው ከዚህም በላይ ሠራተኛው ክፍያውን የሚያገኘው ከዚህም ሌላ የልውውጥ እሴትና የጠቀሜታ እሴት ይዘታቸው ባንድ መለ ኪያ የሚለኩ መጠኖች ባለመሆናቸው “ የሥራ እሴት ” ' “ የሥራ ዋጋ” የሚሉት አባባሎች “የጥጥ እሴት” ' “የጥጥ ዋጋ” ከሚሉት አነጋገሮች የበ ለጠ የተምታቱ አይመስሉም ግልጋሎት ከሰጠ በኋላ ነው - ገንዘብ በክፍያ መሣሪያነቱ የቀረበውን ዕቃ እሴት ወይም ዋጋ ማለትም አሁን በምንነጋገርበት ሁኔታ የፈሰሰውን ጉልበት እሴት ወይም ዋጋ ይገልጻል በመጨረሻም ሠራተኛው ለካፒታሊስቱ የሚያቀርበው የጠቀሜታ እሴት እንደእውነቱ ከነ የሥራ ኃይሉን ሳይሆን ' የሥራ ኃይሉ የሚያከናውነውን ተግባር _ ነው ይህም በተጨባጭ የልብስ ስፌትን ' የጫማ ሥራን * ፈተላን የመሳሰለ የተወሰነ ጠቀሜታ ያለው ሥራ ነው በሌላ በኩል የለንደን ነጻ ሙያተኞች ልሳን የሆነው « “Morning Star'' » የተሰኘው ጋዜጣ በአሜሪካ የርስ በርስ ጦርነት በተካሄደበት ወቅት በዶቡቡ የአሜሪካ ከፍል ( “Confederate States ) ውስጥ የነበሩ ጥቁሮች የሚሠሩት በነጻ ነው ሲል ይህ ነው በማይባል የዋሀነት ቁጣውን በምሬት ደጋግሞ 7ልጾ ነበር እንዲህ ዓይነቱ ጥቁር የሚያገኘውን የዕለት ቀለብ የለንደን ኢስት ኤንድ ሠራተኛ ከሚያገኘው ጋር ማመዛዘን ነበረበት የሥራ ኃይል እሴትና ምንዳ ለምሳሌ 12 ሰዓት ቢሠራም ሰዓት ሥራ ያመረተውን እሴት ፡ ማለትም ይኸው ሥራ ሁለንተናዊ እሴት ፈጣሪ ስለሆነ ከሌሎች ሸቀጦች ልዩ የሚያደር ገው ባህርይ ያለው መሆኑ ከተራ አእምሮ ግንዛቤ ውጪ ነው ; 3 ሽልንግ የሚያገኘውን ሠራተኛእንውሰድ ። እንደእውነቱ ከሆነ ለእሱ የ12 ሰዓት ድካሙ የዛች የሦስት ሽልንግ መግዣው ነው። የሥራ ኃይሉ እሴትለመደ በኛ ኑሮ ከሚያስፈልጉት ነገሮች እሴት ጋር ሊቀያየር ይችላል ፤ ከ3 ወደ 4 ከፍ ' ከ3 ወደ 2 ዝቅ ሊል ይችላል ወይም የሥራ ኃይሉ እሴት እንዳለ ቢቆይ በፍላ ጐትና በአቅርቦት መካከል ያለው ተለዋዋጭ ግንኙነት በሚያስከትለው ውጤት ዋጋው ወደ 4 ሽልንግ ከፍ ወይም ወደ 2 ሽልንግ ዝቅ ሊል ይችላል የሚሠ ራው ዞሮ ዞሮ 12 ሰዓት ነው ። ስለዚህም በክፍያው ውስጥ የሚከሰት ለውጥ ሁሉ በ12 ሰዓቱ ሥራ እሴት ወይም ዋጋ ላይ የደረሰ ለውጥ መስሎ ይታየዋል ። ለኑሮ አስፈላጊ የሆኑ ነገሮች እሴት ቢለዋወጥና ስለሆነም ያው የሥራ ቀን ሠራተኛው በሚያገኘው ከፍ ወይም ዝቅ ባለ ገንዘብ ራሱን ቢገልጽም ይህ ሁኔታየሥራቀንን እንደቋሚ መጠን አድርጐ የመረመረውን አዳም ስሚዝን የሥራ እሴት ቋሚ ነው ወደሚል የተሳሳተ መደምደሚያ መርቶታል ። አሁን ደግሞ እንውሰድ ። በተቻለ መጠን በጥቂት ገንዘብ የተቻለውን ያህል ብዙ ሥራ ለማግኘት ይመኛል ስለዚህም ያተኩር በት ጉዳይ በሥራ ኃይል ዋጋና ይኸው የሥራ ኃይል በሚፈጥረው እሴት መካከል ያለው ልዩነትላይ ብቻ ነው። ግን ታዲያ ሁሉንም ሸቀጦች በተቻለ መጠን በርካሽ ለመግዛት ይሞክራል ፤ ሁልጊዜም ትርፉን የሚያገኘው በማጭበርበር ብቻ ማለትም ከእሴቱ በታች በመግዛትና ከእሴቱ በላይ በመሸጥ እንደሆነ አድርጎ ይገልzል ። በዚህም ምክንያት የሥራ እሴት የሚባል ነገር በርግጥ ካለና በእርግጥም ይህን እሴት ከከፈለ ካፒታል የሚባል ነገር እንደማይኖር ገንዘቡም ወደካፒታልነት እንደማይለወጥ ከቶውንም አይገነዘብም ። ካፒታሊስቱን በተጨባጭ የሚ ከዚህም በላይ የከፈለው ለሥራ ኃይሉ እሴት ሳይሆን የግልጋሎቱ ውጤት ማለትም ለራሱ ለሥራው መሆኑን በምንዳ ውጣ ውረድ ውስጥ የሚታዩ ክስተ ቶች የሚያረጋግጡ ይመስላል ። እነዚህን ሁኔታዎች በሁለት ትላልቅ ክፍሎች ልናጠቃልላቸው እንችላለን ። (1ኛ) ከሥራ ቀኑ መርዘምና ማጠር ጋር የምንዳም አብሮ መለዋወጥ = እንዲህ ከሆነ አንድን ማሽን ለአንድ ቀን ከመከራየት ይልቅ ለሳምንት መከራየቱ የበለጠ ስለሚጠይቅ የሚከፈለው ለማሽኑ እሴት ሳይሆን ለግልጋሎቱ ነው ብሎ መደምደም ይቻላል = (2ኛ) አንድ ዓይነት ሥራ በሚ ሠሩ በተለያዩ ሠራተኞች መካከል ያለ የክፍያ ልዩነት ። እነዚህ በግለሰቦች መካከል ያሉ ልዩነቶች በባሪያ አሳዳሪው ሥርዓት ውስጥም አሉ iሆኖም ግን እዚያ የሥራ ኃይል ራሱ እቅጩን ለመናገር በግልጽ የሚሸጥ በመሆኑ በዚህ አንታለልም። ልዩነቱ በባሪያ አሳዳሪው ሥርዓት ውስጥ የሥራ ኃይል ከአማካዩ በላይ መሆኑ የሚሰጠው ጥቅም ከአማካዩ በታች መሆኑም የሚጐዳው የባሪያ አሳዳሪውን ሲሆን በምንዳ ሥራ ሥርዓት ግን ራሱን ሠራተኛውን መሆኑ ነው ምክንያቱም የሥራ ኃይሉ የሚሸጠው ባንደኛው ሁኔታ በራሱ በሠራተኛው ሲሆን በሌላው ሁኔታ በሌላ ሦስተኛ ሰው ስለሆነ ነው ። ከዚህ በተረፈ “ የሥራ እሴትና ዋጋ ” ወይም “ ምንዳ ” ያላቸው ቅርጽ በውስጣቸው ከሚታየው መሠረታዊ ግንኙነት ማለትም ከሥራ ኃይል እሴትና - አዳም ስሚዝ የሥራ ሰዓት ተለዋዋጭነትን እንጋጣሚ ጠቀስ አድርጐ ያለፈው የቁርጥ ሥራ ምንጻን ባወሳበት ጊዜ ነው ካፒታሊስታዊ አመራረት ነት ልዩነት ይታይባቸዋል ቅርጽ በወቅቱ ያለው የአስተሳሰብ ስልት በመ ዋጋ ጋር ሲነጻጸር በማንኛውም ነገር ቅርጽና ውስጣዊ ይዘት መሀል ያለው ዓይ ይንስ መታወቅ አለበት = ብሉይ የፖለቲካ ኢኮኖሚ የነገሮችን ትክክለኛ ግንኙ ሆን በቀጥታና በግብታዊነት መልክ ይንጸባረቃል ይዘቱ ግን መጀመሪያ በሳ ነት ለማሳወቅ ይቃረብ እንጂ ንቃት በተሞላበት ሁኔታ አይቀምራቸውም ።\""
     },
     "execution_count": 27,
     "metadata": {},
     "output_type": "execute_result"
    }
   ],
   "source": [
    "cur_text"
   ],
   "metadata": {
    "collapsed": false,
    "pycharm": {
     "name": "#%%\n"
    }
   }
  },
  {
   "cell_type": "code",
   "execution_count": 28,
   "outputs": [],
   "source": [
    "import re"
   ],
   "metadata": {
    "collapsed": false,
    "pycharm": {
     "name": "#%%\n"
    }
   }
  },
  {
   "cell_type": "code",
   "execution_count": 31,
   "outputs": [],
   "source": [
    "am_punct_reg = re.compile(r' \" | = |።|\\?| \" | \\* | “ ', re.UNICODE)"
   ],
   "metadata": {
    "collapsed": false,
    "pycharm": {
     "name": "#%%\n"
    }
   }
  },
  {
   "cell_type": "code",
   "execution_count": 32,
   "outputs": [
    {
     "data": {
      "text/plain": "['ክፍል ስድስት ም ን ዳ ምዕራፍ Gስራ ዘጠኝ የሥራ ኃይል እሴት (እንዲሁም የዋጋ) ወዶ ምንዳ መለወጥ በቡርዧ ኅብረተሰብ ውስጥምንዳ ላይ ላዩን ሲታይ የሥራ ዋጋ ማለትምለተ ወሰነ የሥራ መጠን የተከፈለ የተወሰነ የገንዘብ መጠን ይመስላል',\n 'እንዲህም በመሆኑ ሰዎች የሥራኃይል እሴት አድርገውይቆጥሩታል',\n ' ገንዛባዊ መልኩንም አስፈላጊ ወይም መደበኛ ዋጋው አድርገው ይቆጥሩታል',\n 'በሌላ በኩልም የሥራን የገበያ ዋጋ ከመደበኛ እርከኑ በላይ ወይም በታች የሚዋዥቅ ዋጋ አድ ርገው ይናገራሉ ',\n ' ለመሆኑ የአንድ ሸቀጥ እሴት ምንድን ነው ',\n ' ሸቀጡን ለማምረት የዋለው የማኅበራዊ ሥራ ነባራዊ መልኩ ነው የዚህን እሴት መጠንስ እንዴት እንለካ ዋለን ',\n ' ውስጡ በአለው የሥራ መጠን ታዲያ ለምሳሌ የ12 ሰዓት የሥራ ቀን እሴት የሚወሰነው እንዴት ነው ',\n ' በ12 ሰዓት የሥራ ቀን ውስጥ ባሉት 12 የሥራ ሰዓቶች ነው',\n 'ይህ ትርጉም የለሽ ድግግሞሽ ነው ',\n ' ጉልበት ሸቀጥ ሆኖ ለሽያጭ እንዲቀርብ ከተፈለገ ከመሸጡ በፊት የግድ መኖር አለበት ዳሩ ግን ሠራተኛው ጉልበትን ራሱን የቻለ ነባራዊ ህልውና ያለው ነገር አድርጐ ለማቅረብ ቢችል ኖሮ የሚሸጠው ሸቀጥን እንጂ ጉልበትን አይሆንም ነበር ውን የሚያቃውስ መስሎ የሚታየውን ችግር ሪካርዶ በዴ ያስወደዋል 1ይተወዋል - ይህ መር',\n 'እሴት በምርት ውስጥ በዋለ የሥራ መጠን ላይ የተመሠረተ ነው የሚለውን አስተምህሮ በትhhል ተግባራዊ ከሆነ የሥራ እሴት እሱን ራሱን ለማስገኘት በፈሰሰው የሥራ መጠን ላይ የተ መሠረተ ነው ወደሚል አስቂኝ መደምደሚያ ያመራል ስለዚህም ሪካርዶ ቅልብስ ይልና የሥራን እሴት ምንዳን ለማስገኘት በፈሰሰው የሥራ መጠን ላይ የተመሠረተ ያደርገዋል ወይም በእርሱ አባባል መሠረት የሥራ እሴት የሚወሰነው ምንዳን ለማስገኘት በፈሰሰው ጉልበት መጠን ነው',\n 'ይህን ሲልም ለሠራተኛው የሚሰጠውን ገንዘብ ወይም ሸቀጥ ለማስገኘት የዋለውን የሥራ መጠን ልብሱ የሚገዛበትን ብር ከማዕድን ለማውጣት በፈሰሰው የሥራ መጠን ነው እንደማለትይቆጠራል” ማለቱ ነœ ይህም የልብስ እሴት የሚወሰነው ልብሱን ለማምረት በዋለው የሥራ መጠን ሳይሆን (A Critical Dissertation on the Nature, &c., of Value, pp. 50-51)',\n 'ጉል']"
     },
     "execution_count": 32,
     "metadata": {},
     "output_type": "execute_result"
    }
   ],
   "source": [
    "am_punct_reg.split(\"ክፍል ስድስት ም ን ዳ ምዕራፍ Gስራ ዘጠኝ የሥራ ኃይል እሴት (እንዲሁም የዋጋ) ወዶ ምንዳ መለወጥ በቡርዧ ኅብረተሰብ ውስጥምንዳ ላይ ላዩን ሲታይ የሥራ ዋጋ ማለትምለተ ወሰነ የሥራ መጠን የተከፈለ የተወሰነ የገንዘብ መጠን ይመስላል = እንዲህም በመሆኑ ሰዎች የሥራኃይል እሴት አድርገውይቆጥሩታል። ገንዛባዊ መልኩንም አስፈላጊ ወይም መደበኛ ዋጋው አድርገው ይቆጥሩታል = በሌላ በኩልም የሥራን የገበያ ዋጋ ከመደበኛ እርከኑ በላይ ወይም በታች የሚዋዥቅ ዋጋ አድ ርገው ይናገራሉ ። ለመሆኑ የአንድ ሸቀጥ እሴት ምንድን ነው ? ሸቀጡን ለማምረት የዋለው የማኅበራዊ ሥራ ነባራዊ መልኩ ነው የዚህን እሴት መጠንስ እንዴት እንለካ ዋለን ? ውስጡ በአለው የሥራ መጠን ታዲያ ለምሳሌ የ12 ሰዓት የሥራ ቀን እሴት የሚወሰነው እንዴት ነው ? በ12 ሰዓት የሥራ ቀን ውስጥ ባሉት 12 የሥራ ሰዓቶች ነው = ይህ ትርጉም የለሽ ድግግሞሽ ነው ። ጉልበት ሸቀጥ ሆኖ ለሽያጭ እንዲቀርብ ከተፈለገ ከመሸጡ በፊት የግድ መኖር አለበት ዳሩ ግን ሠራተኛው ጉልበትን ራሱን የቻለ ነባራዊ ህልውና ያለው ነገር አድርጐ ለማቅረብ ቢችል ኖሮ የሚሸጠው ሸቀጥን እንጂ ጉልበትን አይሆንም ነበር ውን የሚያቃውስ መስሎ የሚታየውን ችግር ሪካርዶ በዴ ያስወደዋል 1ይተወዋል - ይህ መር “ እሴት በምርት ውስጥ በዋለ የሥራ መጠን ላይ የተመሠረተ ነው የሚለውን አስተምህሮ በትhhል ተግባራዊ ከሆነ የሥራ እሴት እሱን ራሱን ለማስገኘት በፈሰሰው የሥራ መጠን ላይ የተ መሠረተ ነው ወደሚል አስቂኝ መደምደሚያ ያመራል ስለዚህም ሪካርዶ ቅልብስ ይልና የሥራን እሴት ምንዳን ለማስገኘት በፈሰሰው የሥራ መጠን ላይ የተመሠረተ ያደርገዋል ወይም በእርሱ አባባል መሠረት የሥራ እሴት የሚወሰነው ምንዳን ለማስገኘት በፈሰሰው ጉልበት መጠን ነው * ይህን ሲልም ለሠራተኛው የሚሰጠውን ገንዘብ ወይም ሸቀጥ ለማስገኘት የዋለውን የሥራ መጠን ልብሱ የሚገዛበትን ብር ከማዕድን ለማውጣት በፈሰሰው የሥራ መጠን ነው እንደማለትይቆጠራል” ማለቱ ነœ ይህም የልብስ እሴት የሚወሰነው ልብሱን ለማምረት በዋለው የሥራ መጠን ሳይሆን (A Critical Dissertation on the Nature, &c., of Value, pp. 50-51) “ ጉል\")"
   ],
   "metadata": {
    "collapsed": false,
    "pycharm": {
     "name": "#%%\n"
    }
   }
  },
  {
   "cell_type": "code",
   "execution_count": null,
   "outputs": [],
   "source": [],
   "metadata": {
    "collapsed": false,
    "pycharm": {
     "name": "#%%\n"
    }
   }
  },
  {
   "cell_type": "code",
   "execution_count": null,
   "outputs": [],
   "source": [],
   "metadata": {
    "collapsed": false,
    "pycharm": {
     "name": "#%%\n"
    }
   }
  },
  {
   "cell_type": "code",
   "execution_count": null,
   "outputs": [],
   "source": [],
   "metadata": {
    "collapsed": false,
    "pycharm": {
     "name": "#%%\n"
    }
   }
  }
 ],
 "metadata": {
  "kernelspec": {
   "display_name": "Python 3",
   "language": "python",
   "name": "python3"
  },
  "language_info": {
   "codemirror_mode": {
    "name": "ipython",
    "version": 2
   },
   "file_extension": ".py",
   "mimetype": "text/x-python",
   "name": "python",
   "nbconvert_exporter": "python",
   "pygments_lexer": "ipython2",
   "version": "2.7.6"
  }
 },
 "nbformat": 4,
 "nbformat_minor": 0
}