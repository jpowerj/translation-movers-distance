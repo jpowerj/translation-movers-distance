{
 "cells": [
  {
   "cell_type": "code",
   "execution_count": 3,
   "outputs": [],
   "source": [
    "%load_ext autoreload\n",
    "%autoreload 2"
   ],
   "metadata": {
    "collapsed": false,
    "pycharm": {
     "name": "#%%\n"
    }
   }
  },
  {
   "cell_type": "code",
   "execution_count": 4,
   "outputs": [],
   "source": [
    "import requests"
   ],
   "metadata": {
    "collapsed": false,
    "pycharm": {
     "name": "#%%\n"
    }
   }
  },
  {
   "cell_type": "code",
   "execution_count": 5,
   "metadata": {
    "collapsed": true
   },
   "outputs": [],
   "source": [
    "json_url = \"https://openlibrary.org/publishers/Progress_Publishers.json\""
   ]
  },
  {
   "cell_type": "code",
   "execution_count": 6,
   "outputs": [],
   "source": [
    "response = requests.get(json_url)"
   ],
   "metadata": {
    "collapsed": false,
    "pycharm": {
     "name": "#%%\n"
    }
   }
  },
  {
   "cell_type": "code",
   "execution_count": 9,
   "outputs": [],
   "source": [
    "response_dict = response.json()"
   ],
   "metadata": {
    "collapsed": false,
    "pycharm": {
     "name": "#%%\n"
    }
   }
  },
  {
   "cell_type": "code",
   "execution_count": 10,
   "outputs": [
    {
     "data": {
      "text/plain": "dict_keys(['key', 'name', 'subject_type', 'work_count', 'works', 'ebook_count'])"
     },
     "execution_count": 10,
     "metadata": {},
     "output_type": "execute_result"
    }
   ],
   "source": [
    "response_dict.keys()"
   ],
   "metadata": {
    "collapsed": false,
    "pycharm": {
     "name": "#%%\n"
    }
   }
  },
  {
   "cell_type": "code",
   "execution_count": 12,
   "outputs": [
    {
     "data": {
      "text/plain": "12"
     },
     "execution_count": 12,
     "metadata": {},
     "output_type": "execute_result"
    }
   ],
   "source": [
    "len(response_dict['works'])"
   ],
   "metadata": {
    "collapsed": false,
    "pycharm": {
     "name": "#%%\n"
    }
   }
  },
  {
   "cell_type": "code",
   "execution_count": 13,
   "outputs": [
    {
     "data": {
      "text/plain": "{'key': '/works/OL267096W',\n 'title': 'Anna Karénina',\n 'edition_count': 352,\n 'cover_id': 2560652,\n 'cover_edition_key': 'OL10601812M',\n 'subject': ['Fiction',\n  'Adultery',\n  'Married women',\n  'Social life and customs',\n  'Social conditions',\n  'Upper class women',\n  'Russian literature',\n  'Anna Karenina (Fictitious character)',\n  'Upper class',\n  'Classic Literature',\n  'Literature',\n  'Drama',\n  'Non-English Fiction',\n  'Romance',\n  'Russian fiction',\n  'open_syllabus_project',\n  'Long Now Manual for Civilization',\n  'Reading Level-Grade 11',\n  'Reading Level-Grade 12',\n  'Continental european fiction (fictional works by one author)',\n  'Married people, fiction',\n  'History',\n  'Manners and customs',\n  'Russia',\n  'Love stories',\n  'FICTION / Classics',\n  'FICTION / Literary',\n  'Literary',\n  'Spanish: Adult Fiction',\n  'Slavic philology',\n  'Romance fiction',\n  'love',\n  'marriage',\n  'morals',\n  'Chang pian xiao shuo',\n  'Translations into English',\n  'Translations from Russian',\n  'English fiction',\n  'Mujeres casadas',\n  'Novela',\n  'Adulterio',\n  'Ancient, Classical & Medieval',\n  'Russian Novel And Short Story',\n  'Literature - Classics / Criticism',\n  'Literary Collections',\n  'Classics',\n  'Romance - General',\n  'Cuentos de amor',\n  'Vida social y costumbres',\n  'Ficción',\n  'Literature and fiction, historical fiction',\n  'Fiction, romance, historical, general',\n  'Accessible book'],\n 'ia_collection': ['California-State-Suggested-Reading',\n  'additional_collections',\n  'americana',\n  'americanuniversity-ol',\n  'belmont-ol',\n  'binghamton-ol',\n  'books',\n  'bostonuniversitylibraries-ol',\n  'cdl',\n  'china',\n  'clean_list',\n  'cnusd-ol',\n  'cua-ol',\n  'dartmouthlibrary-ol',\n  'delawarecountydistrictlibrary',\n  'delawarecountydistrictlibrary-ol',\n  'denverpubliclibrary-ol',\n  'drakeuniversity-ol',\n  'duke_libraries',\n  'framingham-ol',\n  'greatbooks',\n  'gwulibraries-ol',\n  'hamiltonpubliclibrary-ol',\n  'inlibrary',\n  'internetarchivebooks',\n  'johnshopkins-ol',\n  'kalamazoocollege-ol',\n  'kellylibrary',\n  'library_of_atlantis',\n  'librarygenesis',\n  'marymount-ol',\n  'nationalyiddishbookcenter',\n  'occidentalcollegelibrary-ol',\n  'openlibrary-d-ol',\n  'popularchinesebooks',\n  'printdisabled',\n  'randolph-macon-college-ol',\n  'riceuniversity-ol',\n  'robarts',\n  'rochester-ol',\n  'stmaryscountylibrary',\n  'the-claremont-colleges-ol',\n  'toronto',\n  'unb-ol',\n  'uni-ol',\n  'universityofarizona-ol',\n  'universityofcoloradoboulder-ol',\n  'universityofoklahoma-ol',\n  'uslprototype',\n  'wilsoncollege-ol',\n  'worthingtonlibraries-ol'],\n 'lendinglibrary': False,\n 'printdisabled': True,\n 'lending_edition': 'OL22876225M',\n 'lending_identifier': 'nybc211555',\n 'authors': [{'key': '/authors/OL26783A', 'name': 'Lev Nikolaevič Tolstoy'}],\n 'first_publish_year': None,\n 'ia': 'nybc211555',\n 'public_scan': True,\n 'has_fulltext': True,\n 'availability': {'status': 'open',\n  'available_to_browse': False,\n  'available_to_borrow': False,\n  'available_to_waitlist': False,\n  'is_printdisabled': False,\n  'is_readable': True,\n  'is_lendable': False,\n  'is_previewable': True,\n  'identifier': 'nybc211555',\n  'isbn': None,\n  'oclc': None,\n  'openlibrary_work': 'OL267096W',\n  'openlibrary_edition': 'OL22876225M',\n  'last_loan_date': None,\n  'num_waitlist': None,\n  'last_waitlist_date': None,\n  'is_restricted': False,\n  'is_browseable': False,\n  '__src__': 'core.models.lending.get_availability'}}"
     },
     "execution_count": 13,
     "metadata": {},
     "output_type": "execute_result"
    }
   ],
   "source": [
    "response_dict['works'][3]"
   ],
   "metadata": {
    "collapsed": false,
    "pycharm": {
     "name": "#%%\n"
    }
   }
  },
  {
   "cell_type": "code",
   "execution_count": null,
   "outputs": [],
   "source": [],
   "metadata": {
    "collapsed": false,
    "pycharm": {
     "name": "#%%\n"
    }
   }
  }
 ],
 "metadata": {
  "kernelspec": {
   "display_name": "Python 3",
   "language": "python",
   "name": "python3"
  },
  "language_info": {
   "codemirror_mode": {
    "name": "ipython",
    "version": 2
   },
   "file_extension": ".py",
   "mimetype": "text/x-python",
   "name": "python",
   "nbconvert_exporter": "python",
   "pygments_lexer": "ipython2",
   "version": "2.7.6"
  }
 },
 "nbformat": 4,
 "nbformat_minor": 0
}