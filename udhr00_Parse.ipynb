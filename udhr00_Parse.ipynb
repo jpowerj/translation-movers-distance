{
 "cells": [
  {
   "cell_type": "code",
   "execution_count": 1,
   "metadata": {
    "collapsed": true
   },
   "outputs": [],
   "source": [
    "%load_ext autoreload\n",
    "%autoreload 2"
   ]
  },
  {
   "cell_type": "code",
   "execution_count": 2,
   "outputs": [],
   "source": [
    "import os\n",
    "import re\n",
    "\n",
    "import pandas as pd\n",
    "\n",
    "import trglobals"
   ],
   "metadata": {
    "collapsed": false,
    "pycharm": {
     "name": "#%%\n"
    }
   }
  },
  {
   "cell_type": "markdown",
   "source": [
    "### Load the texts for all langs"
   ],
   "metadata": {
    "collapsed": false,
    "pycharm": {
     "name": "#%% md\n"
    }
   }
  },
  {
   "cell_type": "code",
   "execution_count": 3,
   "outputs": [],
   "source": [
    "langs = [\"am\",\"de\",\"el\",\"en\",\"kk\",\"ru\",\"vi\",\"zh\"]"
   ],
   "metadata": {
    "collapsed": false,
    "pycharm": {
     "name": "#%%\n"
    }
   }
  },
  {
   "cell_type": "code",
   "execution_count": 4,
   "outputs": [],
   "source": [
    "udhr_path = \"../Texts/UDHR/\""
   ],
   "metadata": {
    "collapsed": false,
    "pycharm": {
     "name": "#%%\n"
    }
   }
  },
  {
   "cell_type": "code",
   "execution_count": 87,
   "outputs": [],
   "source": [
    "fpath_map = {lang: os.path.join(udhr_path, f\"udhr_{lang}.txt\") for lang in langs}"
   ],
   "metadata": {
    "collapsed": false,
    "pycharm": {
     "name": "#%%\n"
    }
   }
  },
  {
   "cell_type": "code",
   "execution_count": 88,
   "outputs": [],
   "source": [
    "def load_udhr(lang):\n",
    "    lang_fpath = fpath_map[lang]\n",
    "    with open(lang_fpath, 'r', encoding='utf-8') as infile:\n",
    "        lang_text = infile.read()\n",
    "    return lang_text"
   ],
   "metadata": {
    "collapsed": false,
    "pycharm": {
     "name": "#%%\n"
    }
   }
  },
  {
   "cell_type": "code",
   "execution_count": 89,
   "outputs": [],
   "source": [
    "lang_map = {lang: load_udhr(lang) for lang in langs}"
   ],
   "metadata": {
    "collapsed": false,
    "pycharm": {
     "name": "#%%\n"
    }
   }
  },
  {
   "cell_type": "markdown",
   "source": [
    "Now align the german one with the other langs"
   ],
   "metadata": {
    "collapsed": false,
    "pycharm": {
     "name": "#%% md\n"
    }
   }
  },
  {
   "cell_type": "markdown",
   "source": [
    "### German - Amharic"
   ],
   "metadata": {
    "collapsed": false,
    "pycharm": {
     "name": "#%% md\n"
    }
   }
  },
  {
   "cell_type": "code",
   "execution_count": 8,
   "outputs": [],
   "source": [
    "de_text = lang_map['de']\n",
    "other_text = lang_map['am']"
   ],
   "metadata": {
    "collapsed": false,
    "pycharm": {
     "name": "#%%\n"
    }
   }
  },
  {
   "cell_type": "code",
   "execution_count": 9,
   "outputs": [],
   "source": [
    "alignment_path = \"../Texts_Aligned/UDHR/\"\n",
    "if not os.path.isdir(alignment_path):\n",
    "    os.mkdir(alignment_path)\n",
    "alignment_fpath = os.path.join(alignment_path, f\"de.am.txt\")"
   ],
   "metadata": {
    "collapsed": false,
    "pycharm": {
     "name": "#%%\n"
    }
   }
  },
  {
   "cell_type": "code",
   "execution_count": 10,
   "outputs": [],
   "source": [
    "# nvm... the structure is always just 30 articles, we can \"align\" manually\n",
    "#lf_cmd = trglobals.get_lf_cmd('de', 'am', fpath_map['de'], fpath_map['am'], alignment_fpath)"
   ],
   "metadata": {
    "collapsed": false,
    "pycharm": {
     "name": "#%%\n"
    }
   }
  },
  {
   "cell_type": "code",
   "execution_count": 11,
   "outputs": [],
   "source": [
    "de_reg = re.compile(r'Artikel ([0-9]+)')"
   ],
   "metadata": {
    "collapsed": false,
    "pycharm": {
     "name": "#%%\n"
    }
   }
  },
  {
   "cell_type": "code",
   "execution_count": 12,
   "outputs": [],
   "source": [
    "de_parts = de_reg.split(de_text)"
   ],
   "metadata": {
    "collapsed": false,
    "pycharm": {
     "name": "#%%\n"
    }
   }
  },
  {
   "cell_type": "code",
   "execution_count": 13,
   "outputs": [
    {
     "data": {
      "text/plain": "1"
     },
     "execution_count": 13,
     "metadata": {},
     "output_type": "execute_result"
    }
   ],
   "source": [
    "start_index = de_parts.index(\"1\")\n",
    "start_index"
   ],
   "metadata": {
    "collapsed": false,
    "pycharm": {
     "name": "#%%\n"
    }
   }
  },
  {
   "cell_type": "code",
   "execution_count": 14,
   "outputs": [],
   "source": [
    "end_index = len(de_parts)"
   ],
   "metadata": {
    "collapsed": false,
    "pycharm": {
     "name": "#%%\n"
    }
   }
  },
  {
   "cell_type": "code",
   "execution_count": 15,
   "outputs": [],
   "source": [
    "de_art_data = []"
   ],
   "metadata": {
    "collapsed": false,
    "pycharm": {
     "name": "#%%\n"
    }
   }
  },
  {
   "cell_type": "code",
   "execution_count": 16,
   "outputs": [],
   "source": [
    "# And now it alternates\n",
    "for cur_index in range(start_index, end_index, 2):\n",
    "    #print(cur_index)\n",
    "    text_at_index = de_parts[cur_index]\n",
    "    art_num = int(text_at_index)\n",
    "    text_after_index = de_parts[cur_index+1]\n",
    "    art_text = text_after_index.replace(\"\\n\",\"\").strip()\n",
    "    de_art_data.append((art_num, art_text))"
   ],
   "metadata": {
    "collapsed": false,
    "pycharm": {
     "name": "#%%\n"
    }
   }
  },
  {
   "cell_type": "code",
   "execution_count": 17,
   "outputs": [
    {
     "data": {
      "text/plain": "[(1,\n  'Alle Menschen sind frei und gleich an Würde und Rechten geboren. Sie sind mit Vernunft und Gewissen begabt und sollen einander im Geist der Brüderlichkeit begegnen.'),\n (2,\n  'Jeder hat Anspruch auf die in dieser Erklärung verkündeten Rechte und Freiheiten ohne irgendeinen Unterschied, etwa nach Rasse, Hautfarbe, Geschlecht, Sprache, Religion, politischer oder sonstiger Überzeugung, nationaler oder sozialer Herkunft, Vermögen, Geburt oder sonstigem Stand.Des weiteren darf kein Unterschied gemacht werden auf Grund der politischen, rechtlichen oder internationalen Stellung des Landes oder Gebiets, dem eine Person angehört, gleichgültig ob dieses unabhängig ist, unter Treuhandschaft steht, keine Selbstregierung besitzt oder sonst in seiner Souveränität eingeschränkt ist.'),\n (3, 'Jeder hat das Recht auf Leben, Freiheit und Sicherheit der Person.'),\n (4,\n  'Niemand darf in Sklaverei oder Leibeigenschaft gehalten werden; Sklaverei und Sklavenhandel sind in allen ihren Formen verboten.'),\n (5,\n  'Niemand darf der Folter oder grausamer, unmenschlicher oder erniedrigender Behandlung oder Strafe unterworfen werden.'),\n (6, 'Jeder hat das Recht, überall als rechtsfähig anerkannt zu werden.'),\n (7,\n  'Alle Menschen sind vor dem Gesetz gleich und haben ohne Unterschied Anspruch auf gleichen Schutz durch das Gesetz. Alle haben Anspruch auf gleichen Schutz gegen jede Diskriminierung, die gegen diese Erklärung verstößt, und gegen jede Aufhetzung zu einer derartigen Diskriminierung.'),\n (8,\n  'Jeder hat Anspruch auf einen wirksamen Rechtsbehelf bei den zuständigen innerstaatlichen Gerichten gegen Handlungen, durch die seine ihm nach der Verfassung oder nach dem Gesetz zustehenen Grundrechte verletzt werden.'),\n (9,\n  'Niemand darf willkürlich festgenommen, in Haft gehalten oder des Landes verwiesen werden.'),\n (10,\n  'Jeder hat bei der Feststellung seiner Rechte und Pflichten sowie bei einer gegen ihn erhobenen strafrechtlichen Beschuldigung in voller Gleichheit Anspruch auf ein gerechtes und öffentliches Verfahren vor einem unabhängigen und unparteiischen Gericht.'),\n (11,\n  'Jeder, der wegen einer strafbaren Handlung beschuldigt wird, hat das Recht, als unschuldig zu gelten, solange seine Schuld nicht in einem öffentlichen Verfahren, in dem er alle für seine Verteidigung notwendigen Garantien gehabt hat, gemäß dem Gesetz nachgewiesen ist.    Niemand darf wegen einer Handlung oder Unterlassung verurteilt werden, die zur Zeit ihrer Begehung nach innerstaatlichem oder internationalem Recht nicht strafbar war. Ebenso darf keine schwerere Strafe als die zum Zeitpunkt der Begehung der strafbaren Handlung angedrohte Strafe verhängt werden.'),\n (12,\n  'Niemand darf willkürlichen Eingriffen in sein Privatleben, seine Familie, seine Wohnung und seinen Schriftverkehr oder Beeinträchtigungen seiner Ehre und seines Rufes ausgesetzt werden. Jeder hat Anspruch auf rechtlichen Schutz gegen solche Eingriffe oder Beeinträchtigungen.'),\n (13,\n  'Jeder hat das Recht, sich innerhalb eines Staates frei zu bewegen und seinen Aufenthaltsort frei zu wählen.    Jeder hat das Recht, jedes Land, einschließlich seines eigenen, zu verlassen und in sein Land zurückzukehren.'),\n (14,\n  'Jeder hat das Recht, in anderen Ländern vor Verfolgung Asyl zu suchen und zu genießen.    Dieses Recht kann nicht in Anspruch genommen werden im Falle einer Strafverfolgung, die tatsächlich auf Grund von Verbrechen nichtpolitischer Art oder auf Grund von Handlungen erfolgt, die gegen die Ziele und Grundsätze der Vereinten Nationen verstoßen.'),\n (15,\n  'Jeder hat das Recht auf eine Staatsangehörigkeit.    Niemandem darf seine Staatsangehörigkeit willkürlich entzogen noch das Recht versagt werden, seine Staatsanghörigkeit zu wechseln.'),\n (16,\n  'Heiratsfähige Frauen und Männer haben ohne Beschränkung auf Grund der Rasse, der Staatsangehörigkeit oder der Religion das Recht zu heiraten und eine Familie zu gründen. Sie haben bei der Eheschließung, während der Ehe und bei deren Auflösung gleiche Rechte.    Eine Ehe darf nur bei freier und uneingeschränkter Willenseinigung der künftigen Ehegatten geschlossen werden.    Die Familie ist die natürliche Grundeinheit der Gesellschaft und hat Anspruch auf Schutz durch Gesellschaft und Staat.'),\n (17,\n  'Jeder hat das Recht, sowohl allein als auch in Gemeinschaft mit anderen Eigentum innezuhaben.    Niemand darf willkürlich seines Eigentums beraubt werden.'),\n (18,\n  'Jeder hat das Recht auf Gedanken-, Gewissens- und Religionsfreiheit; dieses Recht schließt die Freiheit ein, seine Religion oder Überzeugung zu wechseln, sowie die Freiheit, seine Religion oder Weltanschauung allein oder in Gemeinschaft mit anderen, öffentlich oder privat durch Lehre, Ausübung, Gottesdienst und Kulthandlungen zu bekennen.'),\n (19,\n  'Jeder hat das Recht auf Meinungsfreiheit und freie Meinungsäußerung; dieses Recht schließt die Freiheit ein, Meinungen ungehindert anzuhängen sowie über Medien jeder Art und ohne Rücksicht auf Grenzen Informationen und Gedankengut zu suchen, zu empfangen und zu verbreiten.'),\n (20,\n  'Alle Menschen haben das Recht, sich friedlich zu versammeln und zu Vereinigungen zusammenzuschließen.    Niemand darf gezwungen werden, einer Vereinigung anzugehören.'),\n (21,\n  'Jeder hat das Recht, an der Gestaltung der öffentlichen Angelegenheiten seines Landes unmittelbar oder durch frei gewählte Vertreter mitzuwirken.    Jeder hat das Recht auf gleichen Zugang zu öffentlichen Ämtern in seinem Lande.    Der Wille des Volkes bildet die Grundlage für die Autorität der öffentlichen Gewalt; dieser Wille muß durch regelmäßige, unverfälschte, allgemeine und gleiche Wahlen mit geheimer Stimmabgabe oder in einem gleichwertigen freien Wahlverfahren zum Ausdruck kommen.'),\n (22,\n  'Jeder hat als Mitglied der Gesellschaft das Recht auf soziale Sicherheit und Anspruch darauf, durch innerstaatliche Maßnahmen und internationale Zusammenarbeit sowie unter Berücksichtigung der Organisation und der Mittel jedes Staates in den Genuß der wirtschaftlichen, sozialen und kulturellen Rechte zu gelangen, die für seine Würde und die freie Entwicklung seiner Persönlichkeit unentbehrlich sind.'),\n (23,\n  'Jeder hat das Recht auf Arbeit, auf freie Berufswahl, auf gerechte und befriedigende Arbeitsbedingungen sowie auf Schutz vor Arbeitslosigkeit.    Jeder, ohne Unterschied, hat das Recht auf gleichen Lohn für gleiche Arbeit.    Jeder, der arbeitet, hat das Recht auf gerechte und befriedigende Entlohnung, die ihm und seiner Familie eine der menschlichen Würde entsprechende Existenz sichert, gegebenenfalls ergänzt durch andere soziale Schutzmaßnahmen.    Jeder hat das Recht, zum Schutz seiner Interessen Gewerkschaften zu bilden und solchen beizutreten.'),\n (24,\n  'Jeder hat das Recht auf Erholung und Freizeit und insbesondere auf eine vernünftige Begrenzung der Arbeitszeit und regelmäßigen bezahlten Urlaub.'),\n (25,\n  'Jeder hat das Recht auf einen Lebensstandard, der seine und seiner Familie Gesundheit und Wohl gewährleistet, einschließlich Nahrung, Kleidung, Wohnung, ärztliche Versorgung und notwendige soziale Leistungen gewährleistet sowie das Recht auf Sicherheit im Falle von Arbeitslosigkeit, Krankheit, Invalidität oder Verwitwung, im Alter sowie bei anderweitigem Verlust seiner Unterhaltsmittel durch unverschuldete Umstände.    Mütter und Kinder haben Anspruch auf besondere Fürsorge und Unterstützung. Alle Kinder, eheliche wie außereheliche, genießen den gleichen sozialen Schutz.'),\n (26,\n  'Jeder hat das Recht auf Bildung. Die Bildung ist unentgeltlich, zum mindesten der Grundschulunterricht und die grundlegende Bildung. Der Grundschulunterricht ist obligatorisch. Fach- und Berufsschulunterricht müssen allgemein verfügbar gemacht werden, und der Hochschulunterricht muß allen gleichermaßen entsprechend ihren Fähigkeiten offenstehen.    Die Bildung muß auf die volle Entfaltung der menschlichen Persönlichkeit und auf die Stärkung der Achtung vor den Menschenrechten und Grundfreiheiten gerichtet sein. Sie muß zu Verständnis, Toleranz und Freundschaft zwischen allen Nationen und allen rassischen oder religiösen Gruppen beitragen und der Tätigkeit der Vereinten Nationen für die Wahrung des Friedens förderlich sein.    Die Eltern haben ein vorrangiges Recht, die Art der Bildung zu wählen, die ihren Kindern zuteil werden soll.'),\n (27,\n  'Jeder hat das Recht, am kulturellen Leben der Gemeinschaft frei teilzunehmen, sich an den Künsten zu erfreuen und am wissenschaftlichen Fortschritt und dessen Errungenschaften teilzuhaben.    Jeder hat das Recht auf Schutz der geistigen und materiellen Interessen, die ihm als Urheber von Werken der Wissenschaft, Literatur oder Kunst erwachsen.'),\n (28,\n  'Jeder hat Anspruch auf eine soziale und internationale Ordnung, in der die in dieser Erklärung verkündeten Rechte und Freiheiten voll verwirklicht werden können.'),\n (29,\n  'Jeder hat Pflichten gegenüber der Gemeinschaft, in der allein die freie und volle Entfaltung seiner Persönlichkeit möglich ist.    Jeder ist bei der Ausübung seiner Rechte und Freiheiten nur den Beschränkungen unterworfen, die das Gesetz ausschließlich zu dem Zweck vorsieht, die Anerkennung und Achtung der Rechte und Freiheiten anderer zu sichern und den gerechten Anforderungen der Moral, der öffentlichen Ordnung und des allgemeinen Wohles in einer demokratischen Gesellschaft zu genügen.    Diese Rechte und Freiheiten dürfen in keinem Fall im Widerspruch zu den Zielen und Grundsätzen der Vereinten Nationen ausgeübt werden.'),\n (30,\n  'Keine Bestimmung dieser Erklärung darf dahin ausgelegt werden, daß sie für einen Staat, eine Gruppe oder eine Person irgendein Recht begründet, eine Tätigkeit auszuüben oder eine Handlung zu begehen, welche die Beseitigung der in dieser Erklärung verkündeten Rechte und Freiheiten zum Ziel hat.')]"
     },
     "execution_count": 17,
     "metadata": {},
     "output_type": "execute_result"
    }
   ],
   "source": [
    "de_art_data"
   ],
   "metadata": {
    "collapsed": false,
    "pycharm": {
     "name": "#%%\n"
    }
   }
  },
  {
   "cell_type": "code",
   "execution_count": 18,
   "outputs": [],
   "source": [
    "de_arts = [data[1] for data in de_art_data]"
   ],
   "metadata": {
    "collapsed": false,
    "pycharm": {
     "name": "#%%\n"
    }
   }
  },
  {
   "cell_type": "markdown",
   "source": [
    "Now the Amharic"
   ],
   "metadata": {
    "collapsed": false,
    "pycharm": {
     "name": "#%% md\n"
    }
   }
  },
  {
   "cell_type": "code",
   "execution_count": 19,
   "outputs": [],
   "source": [
    "am_reg = re.compile(r'አንቀጽ፡')"
   ],
   "metadata": {
    "collapsed": false,
    "pycharm": {
     "name": "#%%\n"
    }
   }
  },
  {
   "cell_type": "code",
   "execution_count": 20,
   "outputs": [],
   "source": [
    "am_parts = am_reg.split(lang_map['am'])"
   ],
   "metadata": {
    "collapsed": false,
    "pycharm": {
     "name": "#%%\n"
    }
   }
  },
  {
   "cell_type": "code",
   "execution_count": 21,
   "outputs": [
    {
     "data": {
      "text/plain": "31"
     },
     "execution_count": 21,
     "metadata": {},
     "output_type": "execute_result"
    }
   ],
   "source": [
    "len(am_parts)"
   ],
   "metadata": {
    "collapsed": false,
    "pycharm": {
     "name": "#%%\n"
    }
   }
  },
  {
   "cell_type": "code",
   "execution_count": 22,
   "outputs": [],
   "source": [
    "am_arts = am_parts[1:]"
   ],
   "metadata": {
    "collapsed": false,
    "pycharm": {
     "name": "#%%\n"
    }
   }
  },
  {
   "cell_type": "code",
   "execution_count": 23,
   "outputs": [],
   "source": [
    "am_arts = [\" \".join(art.split(\"\\n\\n\")[1:]) for art in am_arts]"
   ],
   "metadata": {
    "collapsed": false,
    "pycharm": {
     "name": "#%%\n"
    }
   }
  },
  {
   "cell_type": "code",
   "execution_count": 24,
   "outputs": [],
   "source": [
    "am_arts = [art.replace(\"\\n\",\"\").strip() for art in am_arts]"
   ],
   "metadata": {
    "collapsed": false,
    "pycharm": {
     "name": "#%%\n"
    }
   }
  },
  {
   "cell_type": "code",
   "execution_count": 25,
   "outputs": [
    {
     "data": {
      "text/plain": "30"
     },
     "execution_count": 25,
     "metadata": {},
     "output_type": "execute_result"
    }
   ],
   "source": [
    "len(am_arts)"
   ],
   "metadata": {
    "collapsed": false,
    "pycharm": {
     "name": "#%%\n"
    }
   }
  },
  {
   "cell_type": "markdown",
   "source": [
    "And now the aligned df"
   ],
   "metadata": {
    "collapsed": false,
    "pycharm": {
     "name": "#%% md\n"
    }
   }
  },
  {
   "cell_type": "code",
   "execution_count": 26,
   "outputs": [],
   "source": [
    "am_df = pd.DataFrame({'de': de_arts, 'am': am_arts})"
   ],
   "metadata": {
    "collapsed": false,
    "pycharm": {
     "name": "#%%\n"
    }
   }
  },
  {
   "cell_type": "code",
   "execution_count": 27,
   "outputs": [
    {
     "data": {
      "text/plain": "                                                   de  \\\n0   Alle Menschen sind frei und gleich an Würde un...   \n1   Jeder hat Anspruch auf die in dieser Erklärung...   \n2   Jeder hat das Recht auf Leben, Freiheit und Si...   \n3   Niemand darf in Sklaverei oder Leibeigenschaft...   \n4   Niemand darf der Folter oder grausamer, unmens...   \n5   Jeder hat das Recht, überall als rechtsfähig a...   \n6   Alle Menschen sind vor dem Gesetz gleich und h...   \n7   Jeder hat Anspruch auf einen wirksamen Rechtsb...   \n8   Niemand darf willkürlich festgenommen, in Haft...   \n9   Jeder hat bei der Feststellung seiner Rechte u...   \n10  Jeder, der wegen einer strafbaren Handlung bes...   \n11  Niemand darf willkürlichen Eingriffen in sein ...   \n12  Jeder hat das Recht, sich innerhalb eines Staa...   \n13  Jeder hat das Recht, in anderen Ländern vor Ve...   \n14  Jeder hat das Recht auf eine Staatsangehörigke...   \n15  Heiratsfähige Frauen und Männer haben ohne Bes...   \n16  Jeder hat das Recht, sowohl allein als auch in...   \n17  Jeder hat das Recht auf Gedanken-, Gewissens- ...   \n18  Jeder hat das Recht auf Meinungsfreiheit und f...   \n19  Alle Menschen haben das Recht, sich friedlich ...   \n20  Jeder hat das Recht, an der Gestaltung der öff...   \n21  Jeder hat als Mitglied der Gesellschaft das Re...   \n22  Jeder hat das Recht auf Arbeit, auf freie Beru...   \n23  Jeder hat das Recht auf Erholung und Freizeit ...   \n24  Jeder hat das Recht auf einen Lebensstandard, ...   \n25  Jeder hat das Recht auf Bildung. Die Bildung i...   \n26  Jeder hat das Recht, am kulturellen Leben der ...   \n27  Jeder hat Anspruch auf eine soziale und intern...   \n28  Jeder hat Pflichten gegenüber der Gemeinschaft...   \n29  Keine Bestimmung dieser Erklärung darf dahin a...   \n\n                                                   am  \n0   የሰው፡ልጅ፡ሁሉ፡ሲወለድ፡ነጻና፡በክብርና፡በመብትም፡እኩልነት፡ያለው፡ነው።፡የ...  \n1   እያንዳንዱ፡ሰው፡የዘር፡የቀለም፡የጾታ፡የቋንቋ፡የሃይማኖት፡የፖለቲካ፡ወይም፡የ...  \n2      እያንዳንዱ፡ሰው፡የመኖር፣፡በነጻነትና፡በሰላም፡የመኖሩ፡መጠበቅ፡መብት፡አለው።  \n3   ማንም፡ሰው፡ቢሆን፡በባርነት፡አይገዛም።፡ባርነትና፡የባሪያ፡ንግድም፡በማንኛውም...  \n4   ማንም፡ሰው፡ቢሆን፡የጭካኔ፡ስቃይ፡እንዳይደርስበት፡ወይም፡ከሰብዓዊ፡አፈጻጸም፡...  \n5            እያንዳንዱ፡ሰው፡በሕግ፡ፊት፡በሰው፡ዘርነቱ፡የመታወቅ፡መብት፡አለው።  \n6   ሰው፡ሁሉ፡በሕግ፡ፊት፡እኩል፡ነው።፡ያለአንዳች፡ልዩነትም፡ሕጉ፡ደህንነቱን፡እን...  \n7   እያንዳንዱ፡ሰው፡በሕገ፡መንግስቱ፡ወይም፡በሕግ፡የተሰጡትን፡መሠረታዊ፡መብቶች፡...  \n8      ማንም፡ሰው፡ያለፍርድ፡ተይዞ፡እንዲታሰር፡ወይም፡በግዛት፡እንዲኖር፡አይደረግም።  \n9   እያንዳንዱ፡ሰው፡በመብቶቹና፡በግዴታዎቹ፡አፈጻጸም፡እንዲሁም፡በሚከሰስበት፡ማን...  \n10  ፩/፡ በወንጀል፡ክስ፡የተከሰሰ፡ማንኛውም፡ሰው፡ለመከላከያው፡አስፈላጊዎች፡የሆ...  \n11  ማንም፡ሰው፡በግል፡ኑሮው፡በቤተሰቡ፡ውስጥ፡በቤቱ፡ወይም፡በሚጻጻፈው፡ደብዳቤ፡በ...  \n12  ፩/፡ እያንዳንዱ፡ሰው፡በየብሔራዊ፡ወሰን፡ክልሉ፡የመዘዋወርና፡የመኖር፡ነጻነት...  \n13  ፩/፡ እያንዳንዱ፡ሰው፡ከጭቆና፡ሸሽቶ፡በሌሎች፡አገሮች፡ጥገኝነትን፡የመጠየቅና...  \n14  ፩/፡ እያንዳንዱ፡ሰው፡የዜግነት፡መብት፡አለው። ፪/፡ ማንም፡ሰው፡ያለፍርድ፡...  \n15  ፩/፡ አካለ፡መጠን፡የደረሱ፡ወንዶችና፡ሴቶች፡በዘር፡በዜግነት፡ወይም፡በሃይማኖ...  \n16  ፩/፡ እያንዳንዱ፡ሰው፡ብቻውን፡ወይም፡ከሌሎች፡ጋር፡በኀብረት፡ሆኖ፡የኀብረት፡...  \n17  እያንዳንዱ፡ሰው፡የሃሳብ፡የሕሊናና፡የሃይማኖት፡ነጻነት፡መብት፡አለው።፡ይህም፡...  \n18  እያንዳንዱ፡ሰው፡የሐሳብና፡ሐሳቡን፡የመግለጽ፡መብት፡አለው።፡ይህም፡መብት፡ያለ...  \n19  ፩/፡ እያንዳንዱ፡ሰው፡በሰላም፡የመሰብሰብና፡ግንኙነት፡የማድረግ፡ነጻነት፡መብ...  \n20  ፩/፡ እያንዳንዱ፡ሰው፡በቀጥታ፡ወይም፡ነጻ፡በሆነ፡መንገድ፡በተመረጡ፡እንደራሴ...  \n21  እያንዳንዱ፡ሰው፡የኀብረ፡ሰብ፡አባል፡እንደመሆኑ፡በኀብረ፡ሰብ፡ደህንነቱ፡እንዲ...  \n22  ፩/፡ እያንዳንዱ፡ሰው፡የመሥራት፡የሥራ፡ነጻ፡ምርጫና፡ለሥራም፡ትክክለኛና፡ተስ...  \n23  እያንዳንዱ፡ሰው፡የዕረፍትና፡የመዝናናት፡እንዲሁም፡በአግባብ፡የተወሰኑ፡የሥራ፡...  \n24  ፩/፡ እያንዳንዱ፡ሰው፡ለእራሱና፡ለቤተሰቡ፡ጤንነትና፡ደህንነት፡ምግብ፣፡ልብስ...  \n25  ፩/፡ እያንዳንዱ፡ሰው፡የመማር፡መብት፡አለው።፡ትምህርት፡ቢያንስ፡ቢያንስ፡በአ...  \n26  ፩/፡ እያንዳንዱ፡ሰው፡በኀብረ፡ሰቡ፡የባህል፡ኑሮ፡በነጻ፡መካፈልና፡በኪነ፡ጥበ...  \n27  እያንዳንዱ፡ሰው፡በዚህ፡ውሳን፡ውስጥ፡የተዘረዘሩት፡መብቶችና፡ነጻነቶች፡በሙሉ፡...  \n28  ፩/፡ እያንዳንዱ፡ሰው፡የራሱ፡ነጻነትና፡ሙሉ፡መሻሻል፡በሚያገኝበት፡ኀብረሰብ፡...  \n29  በዚህ፡ውሳኔ፡ከላይ፡የተዘረዘረው፡ሁሉ፡በዚሁ፡ውስጥ፡የተጠቀሱትን፡ማናቸውም፡መ...  ",
      "text/html": "<div>\n<style scoped>\n    .dataframe tbody tr th:only-of-type {\n        vertical-align: middle;\n    }\n\n    .dataframe tbody tr th {\n        vertical-align: top;\n    }\n\n    .dataframe thead th {\n        text-align: right;\n    }\n</style>\n<table border=\"1\" class=\"dataframe\">\n  <thead>\n    <tr style=\"text-align: right;\">\n      <th></th>\n      <th>de</th>\n      <th>am</th>\n    </tr>\n  </thead>\n  <tbody>\n    <tr>\n      <th>0</th>\n      <td>Alle Menschen sind frei und gleich an Würde un...</td>\n      <td>የሰው፡ልጅ፡ሁሉ፡ሲወለድ፡ነጻና፡በክብርና፡በመብትም፡እኩልነት፡ያለው፡ነው።፡የ...</td>\n    </tr>\n    <tr>\n      <th>1</th>\n      <td>Jeder hat Anspruch auf die in dieser Erklärung...</td>\n      <td>እያንዳንዱ፡ሰው፡የዘር፡የቀለም፡የጾታ፡የቋንቋ፡የሃይማኖት፡የፖለቲካ፡ወይም፡የ...</td>\n    </tr>\n    <tr>\n      <th>2</th>\n      <td>Jeder hat das Recht auf Leben, Freiheit und Si...</td>\n      <td>እያንዳንዱ፡ሰው፡የመኖር፣፡በነጻነትና፡በሰላም፡የመኖሩ፡መጠበቅ፡መብት፡አለው።</td>\n    </tr>\n    <tr>\n      <th>3</th>\n      <td>Niemand darf in Sklaverei oder Leibeigenschaft...</td>\n      <td>ማንም፡ሰው፡ቢሆን፡በባርነት፡አይገዛም።፡ባርነትና፡የባሪያ፡ንግድም፡በማንኛውም...</td>\n    </tr>\n    <tr>\n      <th>4</th>\n      <td>Niemand darf der Folter oder grausamer, unmens...</td>\n      <td>ማንም፡ሰው፡ቢሆን፡የጭካኔ፡ስቃይ፡እንዳይደርስበት፡ወይም፡ከሰብዓዊ፡አፈጻጸም፡...</td>\n    </tr>\n    <tr>\n      <th>5</th>\n      <td>Jeder hat das Recht, überall als rechtsfähig a...</td>\n      <td>እያንዳንዱ፡ሰው፡በሕግ፡ፊት፡በሰው፡ዘርነቱ፡የመታወቅ፡መብት፡አለው።</td>\n    </tr>\n    <tr>\n      <th>6</th>\n      <td>Alle Menschen sind vor dem Gesetz gleich und h...</td>\n      <td>ሰው፡ሁሉ፡በሕግ፡ፊት፡እኩል፡ነው።፡ያለአንዳች፡ልዩነትም፡ሕጉ፡ደህንነቱን፡እን...</td>\n    </tr>\n    <tr>\n      <th>7</th>\n      <td>Jeder hat Anspruch auf einen wirksamen Rechtsb...</td>\n      <td>እያንዳንዱ፡ሰው፡በሕገ፡መንግስቱ፡ወይም፡በሕግ፡የተሰጡትን፡መሠረታዊ፡መብቶች፡...</td>\n    </tr>\n    <tr>\n      <th>8</th>\n      <td>Niemand darf willkürlich festgenommen, in Haft...</td>\n      <td>ማንም፡ሰው፡ያለፍርድ፡ተይዞ፡እንዲታሰር፡ወይም፡በግዛት፡እንዲኖር፡አይደረግም።</td>\n    </tr>\n    <tr>\n      <th>9</th>\n      <td>Jeder hat bei der Feststellung seiner Rechte u...</td>\n      <td>እያንዳንዱ፡ሰው፡በመብቶቹና፡በግዴታዎቹ፡አፈጻጸም፡እንዲሁም፡በሚከሰስበት፡ማን...</td>\n    </tr>\n    <tr>\n      <th>10</th>\n      <td>Jeder, der wegen einer strafbaren Handlung bes...</td>\n      <td>፩/፡ በወንጀል፡ክስ፡የተከሰሰ፡ማንኛውም፡ሰው፡ለመከላከያው፡አስፈላጊዎች፡የሆ...</td>\n    </tr>\n    <tr>\n      <th>11</th>\n      <td>Niemand darf willkürlichen Eingriffen in sein ...</td>\n      <td>ማንም፡ሰው፡በግል፡ኑሮው፡በቤተሰቡ፡ውስጥ፡በቤቱ፡ወይም፡በሚጻጻፈው፡ደብዳቤ፡በ...</td>\n    </tr>\n    <tr>\n      <th>12</th>\n      <td>Jeder hat das Recht, sich innerhalb eines Staa...</td>\n      <td>፩/፡ እያንዳንዱ፡ሰው፡በየብሔራዊ፡ወሰን፡ክልሉ፡የመዘዋወርና፡የመኖር፡ነጻነት...</td>\n    </tr>\n    <tr>\n      <th>13</th>\n      <td>Jeder hat das Recht, in anderen Ländern vor Ve...</td>\n      <td>፩/፡ እያንዳንዱ፡ሰው፡ከጭቆና፡ሸሽቶ፡በሌሎች፡አገሮች፡ጥገኝነትን፡የመጠየቅና...</td>\n    </tr>\n    <tr>\n      <th>14</th>\n      <td>Jeder hat das Recht auf eine Staatsangehörigke...</td>\n      <td>፩/፡ እያንዳንዱ፡ሰው፡የዜግነት፡መብት፡አለው። ፪/፡ ማንም፡ሰው፡ያለፍርድ፡...</td>\n    </tr>\n    <tr>\n      <th>15</th>\n      <td>Heiratsfähige Frauen und Männer haben ohne Bes...</td>\n      <td>፩/፡ አካለ፡መጠን፡የደረሱ፡ወንዶችና፡ሴቶች፡በዘር፡በዜግነት፡ወይም፡በሃይማኖ...</td>\n    </tr>\n    <tr>\n      <th>16</th>\n      <td>Jeder hat das Recht, sowohl allein als auch in...</td>\n      <td>፩/፡ እያንዳንዱ፡ሰው፡ብቻውን፡ወይም፡ከሌሎች፡ጋር፡በኀብረት፡ሆኖ፡የኀብረት፡...</td>\n    </tr>\n    <tr>\n      <th>17</th>\n      <td>Jeder hat das Recht auf Gedanken-, Gewissens- ...</td>\n      <td>እያንዳንዱ፡ሰው፡የሃሳብ፡የሕሊናና፡የሃይማኖት፡ነጻነት፡መብት፡አለው።፡ይህም፡...</td>\n    </tr>\n    <tr>\n      <th>18</th>\n      <td>Jeder hat das Recht auf Meinungsfreiheit und f...</td>\n      <td>እያንዳንዱ፡ሰው፡የሐሳብና፡ሐሳቡን፡የመግለጽ፡መብት፡አለው።፡ይህም፡መብት፡ያለ...</td>\n    </tr>\n    <tr>\n      <th>19</th>\n      <td>Alle Menschen haben das Recht, sich friedlich ...</td>\n      <td>፩/፡ እያንዳንዱ፡ሰው፡በሰላም፡የመሰብሰብና፡ግንኙነት፡የማድረግ፡ነጻነት፡መብ...</td>\n    </tr>\n    <tr>\n      <th>20</th>\n      <td>Jeder hat das Recht, an der Gestaltung der öff...</td>\n      <td>፩/፡ እያንዳንዱ፡ሰው፡በቀጥታ፡ወይም፡ነጻ፡በሆነ፡መንገድ፡በተመረጡ፡እንደራሴ...</td>\n    </tr>\n    <tr>\n      <th>21</th>\n      <td>Jeder hat als Mitglied der Gesellschaft das Re...</td>\n      <td>እያንዳንዱ፡ሰው፡የኀብረ፡ሰብ፡አባል፡እንደመሆኑ፡በኀብረ፡ሰብ፡ደህንነቱ፡እንዲ...</td>\n    </tr>\n    <tr>\n      <th>22</th>\n      <td>Jeder hat das Recht auf Arbeit, auf freie Beru...</td>\n      <td>፩/፡ እያንዳንዱ፡ሰው፡የመሥራት፡የሥራ፡ነጻ፡ምርጫና፡ለሥራም፡ትክክለኛና፡ተስ...</td>\n    </tr>\n    <tr>\n      <th>23</th>\n      <td>Jeder hat das Recht auf Erholung und Freizeit ...</td>\n      <td>እያንዳንዱ፡ሰው፡የዕረፍትና፡የመዝናናት፡እንዲሁም፡በአግባብ፡የተወሰኑ፡የሥራ፡...</td>\n    </tr>\n    <tr>\n      <th>24</th>\n      <td>Jeder hat das Recht auf einen Lebensstandard, ...</td>\n      <td>፩/፡ እያንዳንዱ፡ሰው፡ለእራሱና፡ለቤተሰቡ፡ጤንነትና፡ደህንነት፡ምግብ፣፡ልብስ...</td>\n    </tr>\n    <tr>\n      <th>25</th>\n      <td>Jeder hat das Recht auf Bildung. Die Bildung i...</td>\n      <td>፩/፡ እያንዳንዱ፡ሰው፡የመማር፡መብት፡አለው።፡ትምህርት፡ቢያንስ፡ቢያንስ፡በአ...</td>\n    </tr>\n    <tr>\n      <th>26</th>\n      <td>Jeder hat das Recht, am kulturellen Leben der ...</td>\n      <td>፩/፡ እያንዳንዱ፡ሰው፡በኀብረ፡ሰቡ፡የባህል፡ኑሮ፡በነጻ፡መካፈልና፡በኪነ፡ጥበ...</td>\n    </tr>\n    <tr>\n      <th>27</th>\n      <td>Jeder hat Anspruch auf eine soziale und intern...</td>\n      <td>እያንዳንዱ፡ሰው፡በዚህ፡ውሳን፡ውስጥ፡የተዘረዘሩት፡መብቶችና፡ነጻነቶች፡በሙሉ፡...</td>\n    </tr>\n    <tr>\n      <th>28</th>\n      <td>Jeder hat Pflichten gegenüber der Gemeinschaft...</td>\n      <td>፩/፡ እያንዳንዱ፡ሰው፡የራሱ፡ነጻነትና፡ሙሉ፡መሻሻል፡በሚያገኝበት፡ኀብረሰብ፡...</td>\n    </tr>\n    <tr>\n      <th>29</th>\n      <td>Keine Bestimmung dieser Erklärung darf dahin a...</td>\n      <td>በዚህ፡ውሳኔ፡ከላይ፡የተዘረዘረው፡ሁሉ፡በዚሁ፡ውስጥ፡የተጠቀሱትን፡ማናቸውም፡መ...</td>\n    </tr>\n  </tbody>\n</table>\n</div>"
     },
     "execution_count": 27,
     "metadata": {},
     "output_type": "execute_result"
    }
   ],
   "source": [
    "am_df"
   ],
   "metadata": {
    "collapsed": false,
    "pycharm": {
     "name": "#%%\n"
    }
   }
  },
  {
   "cell_type": "code",
   "execution_count": 28,
   "outputs": [],
   "source": [
    "am_df.to_csv(\"../Texts_Aligned/UDHR/de_am.csv\", encoding='utf8', index=False)"
   ],
   "metadata": {
    "collapsed": false,
    "pycharm": {
     "name": "#%%\n"
    }
   }
  },
  {
   "cell_type": "markdown",
   "source": [
    "### German - English"
   ],
   "metadata": {
    "collapsed": false,
    "pycharm": {
     "name": "#%% md\n"
    }
   }
  },
  {
   "cell_type": "code",
   "execution_count": 29,
   "outputs": [],
   "source": [
    "en_reg = re.compile(r'Article ([0-9]+)')"
   ],
   "metadata": {
    "collapsed": false,
    "pycharm": {
     "name": "#%%\n"
    }
   }
  },
  {
   "cell_type": "code",
   "execution_count": 30,
   "outputs": [],
   "source": [
    "en_parts = en_reg.split(lang_map['en'])"
   ],
   "metadata": {
    "collapsed": false,
    "pycharm": {
     "name": "#%%\n"
    }
   }
  },
  {
   "cell_type": "code",
   "execution_count": 31,
   "outputs": [
    {
     "data": {
      "text/plain": "['1',\n '\\n\\nAll human beings are born free and equal in dignity and rights. They are endowed with reason and conscience and should act towards one another in a spirit of brotherhood.\\n',\n '2',\n '\\n\\nEveryone is entitled to all the rights and freedoms set forth in this Declaration, without distinction of any kind, such as race, colour, sex, language, religion, political or other opinion, national or social origin, property, birth or other status.\\n\\nFurthermore, no distinction shall be made on the basis of the political, jurisdictional or international status of the country or territory to which a person belongs, whether it be independent, trust, non-self-governing or under any other limitation of sovereignty.\\n',\n '3',\n '\\n\\nEveryone has the right to life, liberty and the security of person.\\n',\n '4',\n '\\n\\nNo one shall be held in slavery or servitude; slavery and the slave trade shall be prohibited in all their forms.\\n',\n '5',\n '\\n\\nNo one shall be subjected to torture or to cruel, inhuman or degrading treatment or punishment.\\n',\n '6',\n '\\n\\nEveryone has the right to recognition everywhere as a person before the law.\\n',\n '7',\n '\\n\\nAll are equal before the law and are entitled without any discrimination to equal protection of the law. All are entitled to equal protection against any discrimination in violation of this Declaration and against any incitement to such discrimination.\\n',\n '8',\n '\\n\\nEveryone has the right to an effective remedy by the competent national tribunals for acts violating the fundamental rights granted him by the constitution or by law.\\n',\n '9',\n '\\n\\nNo one shall be subjected to arbitrary arrest, detention or exile.\\n',\n '10',\n '\\n\\nEveryone is entitled in full equality to a fair and public hearing by an independent and impartial tribunal, in the determination of his rights and obligations and of any criminal charge against him.\\n',\n '11',\n '\\n\\n    Everyone charged with a penal offence has the right to be presumed innocent until proved guilty according to law in a public trial at which he has had all the guarantees necessary for his defence.\\n    No one shall be held guilty of any penal offence on account of any act or omission which did not constitute a penal offence, under national or international law, at the time when it was committed. Nor shall a heavier penalty be imposed than the one that was applicable at the time the penal offence was committed.\\n\\n',\n '12',\n '\\n\\nNo one shall be subjected to arbitrary interference with his privacy, family, home or correspondence, nor to attacks upon his honour and reputation. Everyone has the right to the protection of the law against such interference or attacks.\\n',\n '13',\n '\\n\\n    Everyone has the right to freedom of movement and residence within the borders of each State.\\n    Everyone has the right to leave any country, including his own, and to return to his country.\\n\\n',\n '14',\n '\\n\\n    Everyone has the right to seek and to enjoy in other countries asylum from persecution.\\n    This right may not be invoked in the case of prosecutions genuinely arising from non-political crimes or from acts contrary to the purposes and principles of the United Nations.\\n\\n',\n '15',\n '\\n\\n    Everyone has the right to a nationality.\\n    No one shall be arbitrarily deprived of his nationality nor denied the right to change his nationality.\\n\\n',\n '16',\n '\\n\\n    Men and women of full age, without any limitation due to race, nationality or religion, have the right to marry and to found a family. They are entitled to equal rights as to marriage, during marriage and at its dissolution.\\n    Marriage shall be entered into only with the free and full consent of the intending spouses.\\n    The family is the natural and fundamental group unit of society and is entitled to protection by society and the State.\\n\\n',\n '17',\n '\\n\\n    Everyone has the right to own property alone as well as in association with others.\\n    No one shall be arbitrarily deprived of his property.\\n\\n',\n '18',\n '\\n\\nEveryone has the right to freedom of thought, conscience and religion; this right includes freedom to change his religion or belief, and freedom, either alone or in community with others and in public or private, to manifest his religion or belief in teaching, practice, worship and observance.\\n',\n '19',\n '\\n\\nEveryone has the right to freedom of opinion and expression; this right includes freedom to hold opinions without interference and to seek, receive and impart information and ideas through any media and regardless of frontiers.\\n',\n '20',\n '\\n\\n    Everyone has the right to freedom of peaceful assembly and association.\\n    No one may be compelled to belong to an association.\\n\\n',\n '21',\n '\\n\\n    Everyone has the right to take part in the government of his country, directly or through freely chosen representatives.\\n    Everyone has the right to equal access to public service in his country.\\n    The will of the people shall be the basis of the authority of government; this will shall be expressed in periodic and genuine elections which shall be by universal and equal suffrage and shall be held by secret vote or by equivalent free voting procedures.\\n\\n',\n '22',\n '\\n\\nEveryone, as a member of society, has the right to social security and is entitled to realization, through national effort and international co-operation and in accordance with the organization and resources of each State, of the economic, social and cultural rights indispensable for his dignity and the free development of his personality.\\n',\n '23',\n '\\n\\n    Everyone has the right to work, to free choice of employment, to just and favourable conditions of work and to protection against unemployment.\\n    Everyone, without any discrimination, has the right to equal pay for equal work.\\n    Everyone who works has the right to just and favourable remuneration ensuring for himself and his family an existence worthy of human dignity, and supplemented, if necessary, by other means of social protection.\\n    Everyone has the right to form and to join trade unions for the protection of his interests.\\n\\n',\n '24',\n '\\n\\nEveryone has the right to rest and leisure, including reasonable limitation of working hours and periodic holidays with pay.\\n',\n '25',\n '\\n\\n    Everyone has the right to a standard of living adequate for the health and well-being of himself and of his family, including food, clothing, housing and medical care and necessary social services, and the right to security in the event of unemployment, sickness, disability, widowhood, old age or other lack of livelihood in circumstances beyond his control.\\n    Motherhood and childhood are entitled to special care and assistance. All children, whether born in or out of wedlock, shall enjoy the same social protection.\\n\\n',\n '26',\n '\\n\\n    Everyone has the right to education. Education shall be free, at least in the elementary and fundamental stages. Elementary education shall be compulsory. Technical and professional education shall be made generally available and higher education shall be equally accessible to all on the basis of merit.\\n    Education shall be directed to the full development of the human personality and to the strengthening of respect for human rights and fundamental freedoms. It shall promote understanding, tolerance and friendship among all nations, racial or religious groups, and shall further the activities of the United Nations for the maintenance of peace.\\n    Parents have a prior right to choose the kind of education that shall be given to their children.\\n\\n',\n '27',\n '\\n\\n    Everyone has the right freely to participate in the cultural life of the community, to enjoy the arts and to share in scientific advancement and its benefits.\\n    Everyone has the right to the protection of the moral and material interests resulting from any scientific, literary or artistic production of which he is the author.\\n\\n',\n '28',\n '\\n\\nEveryone is entitled to a social and international order in which the rights and freedoms set forth in this Declaration can be fully realized.\\n',\n '29',\n '\\n\\n    Everyone has duties to the community in which alone the free and full development of his personality is possible.\\n    In the exercise of his rights and freedoms, everyone shall be subject only to such limitations as are determined by law solely for the purpose of securing due recognition and respect for the rights and freedoms of others and of meeting the just requirements of morality, public order and the general welfare in a democratic society.\\n    These rights and freedoms may in no case be exercised contrary to the purposes and principles of the United Nations.\\n\\n',\n '30',\n '\\n\\nNothing in this Declaration may be interpreted as implying for any State, group or person any right to engage in any activity or to perform any act aimed at the destruction of any of the rights and freedoms set forth herein.\\n']"
     },
     "execution_count": 31,
     "metadata": {},
     "output_type": "execute_result"
    }
   ],
   "source": [
    "en_parts[1:]"
   ],
   "metadata": {
    "collapsed": false,
    "pycharm": {
     "name": "#%%\n"
    }
   }
  },
  {
   "cell_type": "code",
   "execution_count": 32,
   "outputs": [],
   "source": [
    "en_arts = []"
   ],
   "metadata": {
    "collapsed": false,
    "pycharm": {
     "name": "#%%\n"
    }
   }
  },
  {
   "cell_type": "code",
   "execution_count": 33,
   "outputs": [],
   "source": [
    "for cur_index in range(1, len(en_parts), 2):\n",
    "    art_text = en_parts[cur_index+1]\n",
    "    en_arts.append(art_text.replace(\"\\n\",\"\").strip())"
   ],
   "metadata": {
    "collapsed": false,
    "pycharm": {
     "name": "#%%\n"
    }
   }
  },
  {
   "cell_type": "code",
   "execution_count": 34,
   "outputs": [],
   "source": [
    "en_df = pd.DataFrame({'de': de_arts, 'en': en_arts})"
   ],
   "metadata": {
    "collapsed": false,
    "pycharm": {
     "name": "#%%\n"
    }
   }
  },
  {
   "cell_type": "code",
   "execution_count": 35,
   "outputs": [],
   "source": [
    "en_fpath = os.path.join(alignment_path, \"de.en.csv\")"
   ],
   "metadata": {
    "collapsed": false,
    "pycharm": {
     "name": "#%%\n"
    }
   }
  },
  {
   "cell_type": "code",
   "execution_count": 36,
   "outputs": [],
   "source": [
    "en_df.to_csv(en_fpath, encoding='utf8', index=False)"
   ],
   "metadata": {
    "collapsed": false,
    "pycharm": {
     "name": "#%%\n"
    }
   }
  },
  {
   "cell_type": "markdown",
   "source": [
    "### German - Russian"
   ],
   "metadata": {
    "collapsed": false,
    "pycharm": {
     "name": "#%% md\n"
    }
   }
  },
  {
   "cell_type": "code",
   "execution_count": 37,
   "outputs": [],
   "source": [
    "ru_reg = re.compile(r'Статья [0-9]+')"
   ],
   "metadata": {
    "collapsed": false,
    "pycharm": {
     "name": "#%%\n"
    }
   }
  },
  {
   "cell_type": "code",
   "execution_count": 38,
   "outputs": [],
   "source": [
    "ru_parts = ru_reg.split(lang_map['ru'])"
   ],
   "metadata": {
    "collapsed": false,
    "pycharm": {
     "name": "#%%\n"
    }
   }
  },
  {
   "cell_type": "code",
   "execution_count": 39,
   "outputs": [
    {
     "data": {
      "text/plain": "30"
     },
     "execution_count": 39,
     "metadata": {},
     "output_type": "execute_result"
    }
   ],
   "source": [
    "len(ru_parts[1:])"
   ],
   "metadata": {
    "collapsed": false,
    "pycharm": {
     "name": "#%%\n"
    }
   }
  },
  {
   "cell_type": "code",
   "execution_count": 40,
   "outputs": [],
   "source": [
    "ru_arts = [art.replace(\"\\n\",\"\").strip() for art in ru_parts[1:]]"
   ],
   "metadata": {
    "collapsed": false,
    "pycharm": {
     "name": "#%%\n"
    }
   }
  },
  {
   "cell_type": "code",
   "execution_count": 41,
   "outputs": [],
   "source": [
    "ru_df = pd.DataFrame({'de': de_arts, 'ru': ru_arts})"
   ],
   "metadata": {
    "collapsed": false,
    "pycharm": {
     "name": "#%%\n"
    }
   }
  },
  {
   "cell_type": "code",
   "execution_count": 42,
   "outputs": [
    {
     "data": {
      "text/plain": "                                                   de  \\\n0   Alle Menschen sind frei und gleich an Würde un...   \n1   Jeder hat Anspruch auf die in dieser Erklärung...   \n2   Jeder hat das Recht auf Leben, Freiheit und Si...   \n3   Niemand darf in Sklaverei oder Leibeigenschaft...   \n4   Niemand darf der Folter oder grausamer, unmens...   \n5   Jeder hat das Recht, überall als rechtsfähig a...   \n6   Alle Menschen sind vor dem Gesetz gleich und h...   \n7   Jeder hat Anspruch auf einen wirksamen Rechtsb...   \n8   Niemand darf willkürlich festgenommen, in Haft...   \n9   Jeder hat bei der Feststellung seiner Rechte u...   \n10  Jeder, der wegen einer strafbaren Handlung bes...   \n11  Niemand darf willkürlichen Eingriffen in sein ...   \n12  Jeder hat das Recht, sich innerhalb eines Staa...   \n13  Jeder hat das Recht, in anderen Ländern vor Ve...   \n14  Jeder hat das Recht auf eine Staatsangehörigke...   \n15  Heiratsfähige Frauen und Männer haben ohne Bes...   \n16  Jeder hat das Recht, sowohl allein als auch in...   \n17  Jeder hat das Recht auf Gedanken-, Gewissens- ...   \n18  Jeder hat das Recht auf Meinungsfreiheit und f...   \n19  Alle Menschen haben das Recht, sich friedlich ...   \n20  Jeder hat das Recht, an der Gestaltung der öff...   \n21  Jeder hat als Mitglied der Gesellschaft das Re...   \n22  Jeder hat das Recht auf Arbeit, auf freie Beru...   \n23  Jeder hat das Recht auf Erholung und Freizeit ...   \n24  Jeder hat das Recht auf einen Lebensstandard, ...   \n25  Jeder hat das Recht auf Bildung. Die Bildung i...   \n26  Jeder hat das Recht, am kulturellen Leben der ...   \n27  Jeder hat Anspruch auf eine soziale und intern...   \n28  Jeder hat Pflichten gegenüber der Gemeinschaft...   \n29  Keine Bestimmung dieser Erklärung darf dahin a...   \n\n                                                   ru  \n0   Все люди рождаются свободными и равными в свое...  \n1   Каждый человек должен обладать всеми правами и...  \n2   Каждый человек имеет право на жизнь, на свобод...  \n3   Никто не должен содержаться в рабстве или в по...  \n4   Никто не должен подвергаться пыткам или жесток...  \n5   Каждый человек, где бы он ни находился, имеет ...  \n6   Все люди равны перед законом и имеют право, бе...  \n7   Каждый человек имеет право на эффективное восс...  \n8   Никто не может быть подвергнут произвольному а...  \n9   Каждый человек, для определения его прав и обя...  \n10  Каждый человек, обвиняемый в совершении престу...  \n11  Никто не может подвергаться произвольному вмеш...  \n12  Каждый человек имеет право свободно передвигат...  \n13  Каждый человек имеет право искать убежища от п...  \n14  Каждый человек имеет право на гражданство.    ...  \n15  Мужчины и женщины, достигшие совершеннолетия, ...  \n16  Каждый человек имеет право владеть имуществом ...  \n17  Каждый человек имеет право на свободу мысли, с...  \n18  Каждый человек имеет право на свободу убеждени...  \n19  Каждый человек имеет право на свободу мирных с...  \n20  Каждый человек имеет право принимать участие в...  \n21  Каждый человек, как член общества, имеет право...  \n22  Каждый человек имеет право на труд, на свободн...  \n23  Каждый человек имеет право на отдых и досуг, в...  \n24  Каждый человек имеет право на такой жизненный ...  \n25  Каждый человек имеет право на образование. Обр...  \n26  Каждый человек имеет право свободно участвоват...  \n27  Каждый человек имеет право на социальный и меж...  \n28  Каждый человек имеет обязанности перед обществ...  \n29  Ничто в настоящей Декларации не может быть ист...  ",
      "text/html": "<div>\n<style scoped>\n    .dataframe tbody tr th:only-of-type {\n        vertical-align: middle;\n    }\n\n    .dataframe tbody tr th {\n        vertical-align: top;\n    }\n\n    .dataframe thead th {\n        text-align: right;\n    }\n</style>\n<table border=\"1\" class=\"dataframe\">\n  <thead>\n    <tr style=\"text-align: right;\">\n      <th></th>\n      <th>de</th>\n      <th>ru</th>\n    </tr>\n  </thead>\n  <tbody>\n    <tr>\n      <th>0</th>\n      <td>Alle Menschen sind frei und gleich an Würde un...</td>\n      <td>Все люди рождаются свободными и равными в свое...</td>\n    </tr>\n    <tr>\n      <th>1</th>\n      <td>Jeder hat Anspruch auf die in dieser Erklärung...</td>\n      <td>Каждый человек должен обладать всеми правами и...</td>\n    </tr>\n    <tr>\n      <th>2</th>\n      <td>Jeder hat das Recht auf Leben, Freiheit und Si...</td>\n      <td>Каждый человек имеет право на жизнь, на свобод...</td>\n    </tr>\n    <tr>\n      <th>3</th>\n      <td>Niemand darf in Sklaverei oder Leibeigenschaft...</td>\n      <td>Никто не должен содержаться в рабстве или в по...</td>\n    </tr>\n    <tr>\n      <th>4</th>\n      <td>Niemand darf der Folter oder grausamer, unmens...</td>\n      <td>Никто не должен подвергаться пыткам или жесток...</td>\n    </tr>\n    <tr>\n      <th>5</th>\n      <td>Jeder hat das Recht, überall als rechtsfähig a...</td>\n      <td>Каждый человек, где бы он ни находился, имеет ...</td>\n    </tr>\n    <tr>\n      <th>6</th>\n      <td>Alle Menschen sind vor dem Gesetz gleich und h...</td>\n      <td>Все люди равны перед законом и имеют право, бе...</td>\n    </tr>\n    <tr>\n      <th>7</th>\n      <td>Jeder hat Anspruch auf einen wirksamen Rechtsb...</td>\n      <td>Каждый человек имеет право на эффективное восс...</td>\n    </tr>\n    <tr>\n      <th>8</th>\n      <td>Niemand darf willkürlich festgenommen, in Haft...</td>\n      <td>Никто не может быть подвергнут произвольному а...</td>\n    </tr>\n    <tr>\n      <th>9</th>\n      <td>Jeder hat bei der Feststellung seiner Rechte u...</td>\n      <td>Каждый человек, для определения его прав и обя...</td>\n    </tr>\n    <tr>\n      <th>10</th>\n      <td>Jeder, der wegen einer strafbaren Handlung bes...</td>\n      <td>Каждый человек, обвиняемый в совершении престу...</td>\n    </tr>\n    <tr>\n      <th>11</th>\n      <td>Niemand darf willkürlichen Eingriffen in sein ...</td>\n      <td>Никто не может подвергаться произвольному вмеш...</td>\n    </tr>\n    <tr>\n      <th>12</th>\n      <td>Jeder hat das Recht, sich innerhalb eines Staa...</td>\n      <td>Каждый человек имеет право свободно передвигат...</td>\n    </tr>\n    <tr>\n      <th>13</th>\n      <td>Jeder hat das Recht, in anderen Ländern vor Ve...</td>\n      <td>Каждый человек имеет право искать убежища от п...</td>\n    </tr>\n    <tr>\n      <th>14</th>\n      <td>Jeder hat das Recht auf eine Staatsangehörigke...</td>\n      <td>Каждый человек имеет право на гражданство.    ...</td>\n    </tr>\n    <tr>\n      <th>15</th>\n      <td>Heiratsfähige Frauen und Männer haben ohne Bes...</td>\n      <td>Мужчины и женщины, достигшие совершеннолетия, ...</td>\n    </tr>\n    <tr>\n      <th>16</th>\n      <td>Jeder hat das Recht, sowohl allein als auch in...</td>\n      <td>Каждый человек имеет право владеть имуществом ...</td>\n    </tr>\n    <tr>\n      <th>17</th>\n      <td>Jeder hat das Recht auf Gedanken-, Gewissens- ...</td>\n      <td>Каждый человек имеет право на свободу мысли, с...</td>\n    </tr>\n    <tr>\n      <th>18</th>\n      <td>Jeder hat das Recht auf Meinungsfreiheit und f...</td>\n      <td>Каждый человек имеет право на свободу убеждени...</td>\n    </tr>\n    <tr>\n      <th>19</th>\n      <td>Alle Menschen haben das Recht, sich friedlich ...</td>\n      <td>Каждый человек имеет право на свободу мирных с...</td>\n    </tr>\n    <tr>\n      <th>20</th>\n      <td>Jeder hat das Recht, an der Gestaltung der öff...</td>\n      <td>Каждый человек имеет право принимать участие в...</td>\n    </tr>\n    <tr>\n      <th>21</th>\n      <td>Jeder hat als Mitglied der Gesellschaft das Re...</td>\n      <td>Каждый человек, как член общества, имеет право...</td>\n    </tr>\n    <tr>\n      <th>22</th>\n      <td>Jeder hat das Recht auf Arbeit, auf freie Beru...</td>\n      <td>Каждый человек имеет право на труд, на свободн...</td>\n    </tr>\n    <tr>\n      <th>23</th>\n      <td>Jeder hat das Recht auf Erholung und Freizeit ...</td>\n      <td>Каждый человек имеет право на отдых и досуг, в...</td>\n    </tr>\n    <tr>\n      <th>24</th>\n      <td>Jeder hat das Recht auf einen Lebensstandard, ...</td>\n      <td>Каждый человек имеет право на такой жизненный ...</td>\n    </tr>\n    <tr>\n      <th>25</th>\n      <td>Jeder hat das Recht auf Bildung. Die Bildung i...</td>\n      <td>Каждый человек имеет право на образование. Обр...</td>\n    </tr>\n    <tr>\n      <th>26</th>\n      <td>Jeder hat das Recht, am kulturellen Leben der ...</td>\n      <td>Каждый человек имеет право свободно участвоват...</td>\n    </tr>\n    <tr>\n      <th>27</th>\n      <td>Jeder hat Anspruch auf eine soziale und intern...</td>\n      <td>Каждый человек имеет право на социальный и меж...</td>\n    </tr>\n    <tr>\n      <th>28</th>\n      <td>Jeder hat Pflichten gegenüber der Gemeinschaft...</td>\n      <td>Каждый человек имеет обязанности перед обществ...</td>\n    </tr>\n    <tr>\n      <th>29</th>\n      <td>Keine Bestimmung dieser Erklärung darf dahin a...</td>\n      <td>Ничто в настоящей Декларации не может быть ист...</td>\n    </tr>\n  </tbody>\n</table>\n</div>"
     },
     "execution_count": 42,
     "metadata": {},
     "output_type": "execute_result"
    }
   ],
   "source": [
    "ru_df"
   ],
   "metadata": {
    "collapsed": false,
    "pycharm": {
     "name": "#%%\n"
    }
   }
  },
  {
   "cell_type": "code",
   "execution_count": 43,
   "outputs": [],
   "source": [
    "ru_fpath = os.path.join(alignment_path, \"de.ru.csv\")"
   ],
   "metadata": {
    "collapsed": false,
    "pycharm": {
     "name": "#%%\n"
    }
   }
  },
  {
   "cell_type": "code",
   "execution_count": 44,
   "outputs": [],
   "source": [
    "ru_df.to_csv(ru_fpath, encoding='utf8', index=False)"
   ],
   "metadata": {
    "collapsed": false,
    "pycharm": {
     "name": "#%%\n"
    }
   }
  },
  {
   "cell_type": "markdown",
   "source": [
    "### German - Chinese"
   ],
   "metadata": {
    "collapsed": false,
    "pycharm": {
     "name": "#%% md\n"
    }
   }
  },
  {
   "cell_type": "code",
   "execution_count": 45,
   "outputs": [],
   "source": [
    "zh_reg = re.compile(r'条\\n')"
   ],
   "metadata": {
    "collapsed": false,
    "pycharm": {
     "name": "#%%\n"
    }
   }
  },
  {
   "cell_type": "code",
   "execution_count": 46,
   "outputs": [],
   "source": [
    "zh_parts = zh_reg.split(lang_map['zh'])"
   ],
   "metadata": {
    "collapsed": false,
    "pycharm": {
     "name": "#%%\n"
    }
   }
  },
  {
   "cell_type": "code",
   "execution_count": 47,
   "outputs": [
    {
     "data": {
      "text/plain": "30"
     },
     "execution_count": 47,
     "metadata": {},
     "output_type": "execute_result"
    }
   ],
   "source": [
    "len(zh_parts[1:])"
   ],
   "metadata": {
    "collapsed": false,
    "pycharm": {
     "name": "#%%\n"
    }
   }
  },
  {
   "cell_type": "code",
   "execution_count": 48,
   "outputs": [
    {
     "data": {
      "text/plain": "'\\n人人生而自由,在尊严和权利上一律平等。他们赋有理性和良心,并应以兄弟关系的精神相对待。\\n第二'"
     },
     "execution_count": 48,
     "metadata": {},
     "output_type": "execute_result"
    }
   ],
   "source": [
    "zh_parts[1]"
   ],
   "metadata": {
    "collapsed": false,
    "pycharm": {
     "name": "#%%\n"
    }
   }
  },
  {
   "cell_type": "code",
   "execution_count": 49,
   "outputs": [],
   "source": [
    "zh_arts = [part.replace(\"\\n\",\"\").strip() for part in zh_parts[1:]]"
   ],
   "metadata": {
    "collapsed": false,
    "pycharm": {
     "name": "#%%\n"
    }
   }
  },
  {
   "cell_type": "code",
   "execution_count": 50,
   "outputs": [
    {
     "data": {
      "text/plain": "30"
     },
     "execution_count": 50,
     "metadata": {},
     "output_type": "execute_result"
    }
   ],
   "source": [
    "len(zh_arts)"
   ],
   "metadata": {
    "collapsed": false,
    "pycharm": {
     "name": "#%%\n"
    }
   }
  },
  {
   "cell_type": "code",
   "execution_count": 51,
   "outputs": [],
   "source": [
    "zh_df = pd.DataFrame({'de': de_arts, 'zh': zh_arts})"
   ],
   "metadata": {
    "collapsed": false,
    "pycharm": {
     "name": "#%%\n"
    }
   }
  },
  {
   "cell_type": "code",
   "execution_count": 52,
   "outputs": [
    {
     "data": {
      "text/plain": "                                                   de  \\\n0   Alle Menschen sind frei und gleich an Würde un...   \n1   Jeder hat Anspruch auf die in dieser Erklärung...   \n2   Jeder hat das Recht auf Leben, Freiheit und Si...   \n3   Niemand darf in Sklaverei oder Leibeigenschaft...   \n4   Niemand darf der Folter oder grausamer, unmens...   \n5   Jeder hat das Recht, überall als rechtsfähig a...   \n6   Alle Menschen sind vor dem Gesetz gleich und h...   \n7   Jeder hat Anspruch auf einen wirksamen Rechtsb...   \n8   Niemand darf willkürlich festgenommen, in Haft...   \n9   Jeder hat bei der Feststellung seiner Rechte u...   \n10  Jeder, der wegen einer strafbaren Handlung bes...   \n11  Niemand darf willkürlichen Eingriffen in sein ...   \n12  Jeder hat das Recht, sich innerhalb eines Staa...   \n13  Jeder hat das Recht, in anderen Ländern vor Ve...   \n14  Jeder hat das Recht auf eine Staatsangehörigke...   \n15  Heiratsfähige Frauen und Männer haben ohne Bes...   \n16  Jeder hat das Recht, sowohl allein als auch in...   \n17  Jeder hat das Recht auf Gedanken-, Gewissens- ...   \n18  Jeder hat das Recht auf Meinungsfreiheit und f...   \n19  Alle Menschen haben das Recht, sich friedlich ...   \n20  Jeder hat das Recht, an der Gestaltung der öff...   \n21  Jeder hat als Mitglied der Gesellschaft das Re...   \n22  Jeder hat das Recht auf Arbeit, auf freie Beru...   \n23  Jeder hat das Recht auf Erholung und Freizeit ...   \n24  Jeder hat das Recht auf einen Lebensstandard, ...   \n25  Jeder hat das Recht auf Bildung. Die Bildung i...   \n26  Jeder hat das Recht, am kulturellen Leben der ...   \n27  Jeder hat Anspruch auf eine soziale und intern...   \n28  Jeder hat Pflichten gegenüber der Gemeinschaft...   \n29  Keine Bestimmung dieser Erklärung darf dahin a...   \n\n                                                   zh  \n0       人人生而自由,在尊严和权利上一律平等。他们赋有理性和良心,并应以兄弟关系的精神相对待。第二  \n1   人人有资格享有本宣言所载的一切权利和自由,不分种族、肤色、性别、语言、宗教、政治或其他见解、...  \n2                                 人人有权享有生命、自由和人身安全。第四  \n3               任何人不得使为奴隶或奴役;一切形式的奴隶制度和奴隶买卖,均应予以禁止。第五  \n4                  任何人不得加以酷刑,或施以残忍的、不人道的或侮辱性的待遇或刑罚。第六  \n5                              人人在任何地方有权被承认在法律前的人格。第七  \n6   法律之前人人平等,并有权享受法律的平等保护,不受任何歧视。人人有权享受平等保护,以免受违反本...  \n7   任何人当宪法或法律所赋予他的基本权利遭受侵害时,有权由合格的国家法庭对这种侵害行为作有效的补...  \n8                                任何人不得加以任意逮捕、拘禁或放逐。第十  \n9   人人完全平等地有权由一个独立而无偏倚的法庭进行公正的和公开的审讯,以确定他的权利和义务并判定...  \n10  ㈠凡受刑事控告者,在未经获得辩护上所需的一切保证的公开审判而依法证实有罪以前,有权被视为无罪...  \n11  任何人的私生活、家庭、住宅和通信不得任意干涉,他的荣誉和名誉不得加以攻击。人人有权享受法律保...  \n12  ㈠人人在各国境内有权自由迁徙和居住。    ㈡人人有权离开任何国家,包括其本国在内,并有权返...  \n13  ㈠人人有权在其他国家寻求和享受庇护以避免迫害。    ㈡在真正由于非政治性的罪行或违背联合国...  \n14      ㈠人人有权享有国籍。    ㈡任何人的国籍不得任意剥夺,亦不得否认其改变国籍的权利。第十六  \n15  ㈠成年男女,不受种族、国籍或宗教的任何限制有权婚嫁和成立家庭。他们在婚姻方面,在结婚期间和在...  \n16     ㈠人人得有单独的财产所有权以及同他人合有的所有权。    ㈡任何人的财产不得任意剥夺。第十八  \n17  人人有思想、良心和宗教自由的权利;此项权利包括改变他的宗教或信仰的自由,以及单独或集体、公开...  \n18  人人有权享有主张和发表意见的自由;此项权利包括持有主张而不受干涉的自由,和通过任何媒介和不论...  \n19         ㈠人人有权享有和平集会和结社的自由。    ㈡任何人不得迫使隶属于某一团体。第二十一  \n20  ㈠人人有直接或通过自由选择的代表参与治理本国的权利。    ㈡人人有平等机会参加本国公务的权...  \n21  每个人,作为社会的一员,有权享受社会保障,并有权享受他的个人尊严和人格的自由发展所必需的经济...  \n22  ㈠人人有权工作、自由选择职业、享受公正和合适的工作条件并享受免于失业的保障。    ㈡人人有...  \n23           人人有享有休息和闲暇的权利,包括工作时间有合理限制和定期给薪休假的权利。第二十五  \n24  ㈠人人有权享受为维持他本人和家属的健康和福利所需的生活水准,包括食物、衣着、住房、医疗和必要...  \n25  ㈠人人都有受教育的权利,教育应当免费,至少在初级和基本阶段应如此。初级教育应属义务性质。技术...  \n26  ㈠人人有权自由参加社会的文化生活,享受艺术,并分享科学进步及其产生的福利。    ㈡人人对由...  \n27   人人有权要求一种社会的和国际的秩序,在这种秩序中,本宣言所载的权利和自由能获得充分实现。第二十九  \n28  ㈠人人对社会负有义务,因为只有在社会中他的个性才可能得到自由和充分的发展。    ㈡人人在行...  \n29  本宣言的任何条文,不得解释为默许任何国家、集团或个人有权进行任何旨在破坏本宣言所载的任何权利...  ",
      "text/html": "<div>\n<style scoped>\n    .dataframe tbody tr th:only-of-type {\n        vertical-align: middle;\n    }\n\n    .dataframe tbody tr th {\n        vertical-align: top;\n    }\n\n    .dataframe thead th {\n        text-align: right;\n    }\n</style>\n<table border=\"1\" class=\"dataframe\">\n  <thead>\n    <tr style=\"text-align: right;\">\n      <th></th>\n      <th>de</th>\n      <th>zh</th>\n    </tr>\n  </thead>\n  <tbody>\n    <tr>\n      <th>0</th>\n      <td>Alle Menschen sind frei und gleich an Würde un...</td>\n      <td>人人生而自由,在尊严和权利上一律平等。他们赋有理性和良心,并应以兄弟关系的精神相对待。第二</td>\n    </tr>\n    <tr>\n      <th>1</th>\n      <td>Jeder hat Anspruch auf die in dieser Erklärung...</td>\n      <td>人人有资格享有本宣言所载的一切权利和自由,不分种族、肤色、性别、语言、宗教、政治或其他见解、...</td>\n    </tr>\n    <tr>\n      <th>2</th>\n      <td>Jeder hat das Recht auf Leben, Freiheit und Si...</td>\n      <td>人人有权享有生命、自由和人身安全。第四</td>\n    </tr>\n    <tr>\n      <th>3</th>\n      <td>Niemand darf in Sklaverei oder Leibeigenschaft...</td>\n      <td>任何人不得使为奴隶或奴役;一切形式的奴隶制度和奴隶买卖,均应予以禁止。第五</td>\n    </tr>\n    <tr>\n      <th>4</th>\n      <td>Niemand darf der Folter oder grausamer, unmens...</td>\n      <td>任何人不得加以酷刑,或施以残忍的、不人道的或侮辱性的待遇或刑罚。第六</td>\n    </tr>\n    <tr>\n      <th>5</th>\n      <td>Jeder hat das Recht, überall als rechtsfähig a...</td>\n      <td>人人在任何地方有权被承认在法律前的人格。第七</td>\n    </tr>\n    <tr>\n      <th>6</th>\n      <td>Alle Menschen sind vor dem Gesetz gleich und h...</td>\n      <td>法律之前人人平等,并有权享受法律的平等保护,不受任何歧视。人人有权享受平等保护,以免受违反本...</td>\n    </tr>\n    <tr>\n      <th>7</th>\n      <td>Jeder hat Anspruch auf einen wirksamen Rechtsb...</td>\n      <td>任何人当宪法或法律所赋予他的基本权利遭受侵害时,有权由合格的国家法庭对这种侵害行为作有效的补...</td>\n    </tr>\n    <tr>\n      <th>8</th>\n      <td>Niemand darf willkürlich festgenommen, in Haft...</td>\n      <td>任何人不得加以任意逮捕、拘禁或放逐。第十</td>\n    </tr>\n    <tr>\n      <th>9</th>\n      <td>Jeder hat bei der Feststellung seiner Rechte u...</td>\n      <td>人人完全平等地有权由一个独立而无偏倚的法庭进行公正的和公开的审讯,以确定他的权利和义务并判定...</td>\n    </tr>\n    <tr>\n      <th>10</th>\n      <td>Jeder, der wegen einer strafbaren Handlung bes...</td>\n      <td>㈠凡受刑事控告者,在未经获得辩护上所需的一切保证的公开审判而依法证实有罪以前,有权被视为无罪...</td>\n    </tr>\n    <tr>\n      <th>11</th>\n      <td>Niemand darf willkürlichen Eingriffen in sein ...</td>\n      <td>任何人的私生活、家庭、住宅和通信不得任意干涉,他的荣誉和名誉不得加以攻击。人人有权享受法律保...</td>\n    </tr>\n    <tr>\n      <th>12</th>\n      <td>Jeder hat das Recht, sich innerhalb eines Staa...</td>\n      <td>㈠人人在各国境内有权自由迁徙和居住。    ㈡人人有权离开任何国家,包括其本国在内,并有权返...</td>\n    </tr>\n    <tr>\n      <th>13</th>\n      <td>Jeder hat das Recht, in anderen Ländern vor Ve...</td>\n      <td>㈠人人有权在其他国家寻求和享受庇护以避免迫害。    ㈡在真正由于非政治性的罪行或违背联合国...</td>\n    </tr>\n    <tr>\n      <th>14</th>\n      <td>Jeder hat das Recht auf eine Staatsangehörigke...</td>\n      <td>㈠人人有权享有国籍。    ㈡任何人的国籍不得任意剥夺,亦不得否认其改变国籍的权利。第十六</td>\n    </tr>\n    <tr>\n      <th>15</th>\n      <td>Heiratsfähige Frauen und Männer haben ohne Bes...</td>\n      <td>㈠成年男女,不受种族、国籍或宗教的任何限制有权婚嫁和成立家庭。他们在婚姻方面,在结婚期间和在...</td>\n    </tr>\n    <tr>\n      <th>16</th>\n      <td>Jeder hat das Recht, sowohl allein als auch in...</td>\n      <td>㈠人人得有单独的财产所有权以及同他人合有的所有权。    ㈡任何人的财产不得任意剥夺。第十八</td>\n    </tr>\n    <tr>\n      <th>17</th>\n      <td>Jeder hat das Recht auf Gedanken-, Gewissens- ...</td>\n      <td>人人有思想、良心和宗教自由的权利;此项权利包括改变他的宗教或信仰的自由,以及单独或集体、公开...</td>\n    </tr>\n    <tr>\n      <th>18</th>\n      <td>Jeder hat das Recht auf Meinungsfreiheit und f...</td>\n      <td>人人有权享有主张和发表意见的自由;此项权利包括持有主张而不受干涉的自由,和通过任何媒介和不论...</td>\n    </tr>\n    <tr>\n      <th>19</th>\n      <td>Alle Menschen haben das Recht, sich friedlich ...</td>\n      <td>㈠人人有权享有和平集会和结社的自由。    ㈡任何人不得迫使隶属于某一团体。第二十一</td>\n    </tr>\n    <tr>\n      <th>20</th>\n      <td>Jeder hat das Recht, an der Gestaltung der öff...</td>\n      <td>㈠人人有直接或通过自由选择的代表参与治理本国的权利。    ㈡人人有平等机会参加本国公务的权...</td>\n    </tr>\n    <tr>\n      <th>21</th>\n      <td>Jeder hat als Mitglied der Gesellschaft das Re...</td>\n      <td>每个人,作为社会的一员,有权享受社会保障,并有权享受他的个人尊严和人格的自由发展所必需的经济...</td>\n    </tr>\n    <tr>\n      <th>22</th>\n      <td>Jeder hat das Recht auf Arbeit, auf freie Beru...</td>\n      <td>㈠人人有权工作、自由选择职业、享受公正和合适的工作条件并享受免于失业的保障。    ㈡人人有...</td>\n    </tr>\n    <tr>\n      <th>23</th>\n      <td>Jeder hat das Recht auf Erholung und Freizeit ...</td>\n      <td>人人有享有休息和闲暇的权利,包括工作时间有合理限制和定期给薪休假的权利。第二十五</td>\n    </tr>\n    <tr>\n      <th>24</th>\n      <td>Jeder hat das Recht auf einen Lebensstandard, ...</td>\n      <td>㈠人人有权享受为维持他本人和家属的健康和福利所需的生活水准,包括食物、衣着、住房、医疗和必要...</td>\n    </tr>\n    <tr>\n      <th>25</th>\n      <td>Jeder hat das Recht auf Bildung. Die Bildung i...</td>\n      <td>㈠人人都有受教育的权利,教育应当免费,至少在初级和基本阶段应如此。初级教育应属义务性质。技术...</td>\n    </tr>\n    <tr>\n      <th>26</th>\n      <td>Jeder hat das Recht, am kulturellen Leben der ...</td>\n      <td>㈠人人有权自由参加社会的文化生活,享受艺术,并分享科学进步及其产生的福利。    ㈡人人对由...</td>\n    </tr>\n    <tr>\n      <th>27</th>\n      <td>Jeder hat Anspruch auf eine soziale und intern...</td>\n      <td>人人有权要求一种社会的和国际的秩序,在这种秩序中,本宣言所载的权利和自由能获得充分实现。第二十九</td>\n    </tr>\n    <tr>\n      <th>28</th>\n      <td>Jeder hat Pflichten gegenüber der Gemeinschaft...</td>\n      <td>㈠人人对社会负有义务,因为只有在社会中他的个性才可能得到自由和充分的发展。    ㈡人人在行...</td>\n    </tr>\n    <tr>\n      <th>29</th>\n      <td>Keine Bestimmung dieser Erklärung darf dahin a...</td>\n      <td>本宣言的任何条文,不得解释为默许任何国家、集团或个人有权进行任何旨在破坏本宣言所载的任何权利...</td>\n    </tr>\n  </tbody>\n</table>\n</div>"
     },
     "execution_count": 52,
     "metadata": {},
     "output_type": "execute_result"
    }
   ],
   "source": [
    "zh_df"
   ],
   "metadata": {
    "collapsed": false,
    "pycharm": {
     "name": "#%%\n"
    }
   }
  },
  {
   "cell_type": "code",
   "execution_count": 53,
   "outputs": [],
   "source": [
    "zh_fpath = os.path.join(alignment_path, \"de.zh.csv\")"
   ],
   "metadata": {
    "collapsed": false,
    "pycharm": {
     "name": "#%%\n"
    }
   }
  },
  {
   "cell_type": "code",
   "execution_count": 54,
   "outputs": [],
   "source": [
    "zh_df.to_csv(zh_fpath, encoding='utf8', index=False)"
   ],
   "metadata": {
    "collapsed": false,
    "pycharm": {
     "name": "#%%\n"
    }
   }
  },
  {
   "cell_type": "markdown",
   "source": [
    "### German - Vietnamese"
   ],
   "metadata": {
    "collapsed": false,
    "pycharm": {
     "name": "#%% md\n"
    }
   }
  },
  {
   "cell_type": "code",
   "execution_count": 55,
   "outputs": [],
   "source": [
    "vi_reg = re.compile(r'Điều [0-9]+:')"
   ],
   "metadata": {
    "collapsed": false,
    "pycharm": {
     "name": "#%%\n"
    }
   }
  },
  {
   "cell_type": "code",
   "execution_count": 56,
   "outputs": [],
   "source": [
    "vi_parts = vi_reg.split(lang_map['vi'])"
   ],
   "metadata": {
    "collapsed": false,
    "pycharm": {
     "name": "#%%\n"
    }
   }
  },
  {
   "cell_type": "code",
   "execution_count": 57,
   "outputs": [
    {
     "data": {
      "text/plain": "31"
     },
     "execution_count": 57,
     "metadata": {},
     "output_type": "execute_result"
    }
   ],
   "source": [
    "len(vi_parts)"
   ],
   "metadata": {
    "collapsed": false,
    "pycharm": {
     "name": "#%%\n"
    }
   }
  },
  {
   "cell_type": "code",
   "execution_count": 58,
   "outputs": [],
   "source": [
    "vi_arts = [p.strip() for p in vi_parts[1:]]"
   ],
   "metadata": {
    "collapsed": false,
    "pycharm": {
     "name": "#%%\n"
    }
   }
  },
  {
   "cell_type": "code",
   "execution_count": 59,
   "outputs": [
    {
     "data": {
      "text/plain": "['Tất cả mọi người sinh ra đều được tự do và bình đẳng về nhân phẩm và quyền. Mọi con người đều được tạo hoá ban cho lý trí và lương tâm và cần phải đối xử với nhau trong tình bằng hữu.',\n 'Mọi người đều được hưởng tất cả những quyền và tự do nêu trong Bản tuyên ngôn này, không phân biệt chủng tộc, màu da, giới tính, ngôn ngữ, tôn giáo, quan điểm chính trị hay các quan điểm khác, nguồn gốc quốc gia hay xã hội, tài sản, thành phần xuất thân hay địa vị xã hội.\\n\\nNgoài ra, cũng không có bất cứ sự phân biệt nào về địa vị chính trị, pháp quyền hay quốc tế của quốc gia hay lãnh thổ mà một người xuất thân, cho dù quốc gia hay lãnh thổ đó được độc lập, được đặt dưới chế độ uỷ trị, chưa tự quản hay có chủ quyền hạn chế.',\n 'Mọi người đều có quyền sống, tự do và an toàn cá nhân.',\n 'Không ai phải làm nô lệ hay bị cưỡng bức làm việc như nô lệ; mọi hình thức nô lệ và buôn bán nô lệ đều bị ngăn cấm.',\n 'Không ai bị tra tấn hay bị đối xử, xử phạt một cách tàn bạo, vô nhân đạo hay hạ thấp nhân phẩm.',\n 'Mọi người đều có quyền được thừa nhận tư cách là con người trước pháp luật ở khắp mọi nơi.',\n 'Tất cả mọi người đều bình đẳng trước pháp luật và được pháp luật bảo vệ như nhau không có bất cứ sự phân biệt nào. Tất cả mọi người đều được bảo vệ như nhau chống lại mọi hình thức phân biệt đối xử vi phạm Bản tuyên ngôn này cũng như chống lại mọi hành vi xúi giục phân biệt đối xử như vậy.',\n 'Mọi người đều có quyền được các toà án quốc gia có thẩm quyền bênh vực theo pháp luật trước những hành vi vi phạm các quyền cơ bản do hiến pháp hay luật pháp quy định.',\n 'Không ai bị bắt, giam giữ hay đày đi nơi khác một cách độc đoán.',\n 'Mọi người, với tư cách bình đẳng về mọi phương diện, đều có quyền được một toà án độc lập và vô tư phân xử công bằng và công khai để xác định quyền, nghĩa vụ hoặc bất cứ một lời buộc tội nào đối với người đó.',\n '1. Mọi người, nếu bị quy tội hình sự, đều có quyền được coi là vô tội cho đến khi một toà án công khai, nơi người đó đã có được tất cả những đảm bảo cần thiết để bào chữa cho mình, chứng minh được tội trạng của người đó dựa trên cơ sở luật pháp.\\n\\n2. Không ai bị kết tội hình sự vì một hành vi hay sự tắc trách không bị coi là một tội hình sự theo quy định của luật pháp quốc gia hay quốc tế vào thời điểm đó. Cũng như không cho phép áp dụng hình thức xử phạt đối với một tội hình sự nặng hơn so với quy định của luật pháp lúc bấy giờ cho mức độ phạm tội cụ thể như vậy.',\n 'Không ai bị can thiệp một cách độc đoán đối với cuộc sống riêng tư, gia đình, nơi ở hay thư tín của cá nhân người đó cũng như không bị xâm phạm tới danh dự và uy tín. Mọi người đều được pháp luật bảo vệ chống lại những hành vi can thiệp hoặc xâm phạm như vậy.',\n '1. Mọi người đều có quyền tự do đi lại và cư trú trong phạm vi lãnh thổ của mỗi quốc gia.\\n\\n2. Mọi người đều có quyền rời khỏi bất cứ nước nào, kể cả nước mình, cũng như có quyền trở về nước mình.',\n '1. Mọi người đều có quyền tìm kiếm và được lánh nạn ở những nước khác khi bị ngược đãi.\\n\\n2. Quyền này không được áp dụng trong trường hợp đương sự bị truy tố vì những tội không mang tính chất chính trị hay vì những hành vi đi ngược lại mục tiêu và nguyên tắc của Liên Hợp Quốc.',\n '1. Mọi người đều có quyền nhập quốc tịch của một nước nào đó.\\n\\n2. Không ai bị tước đoạt quốc tịch của mình hay bị khước từ quyền được thay đổi quốc tịch một cách độc đoán.',\n '1. Nam hay nữ đến tuổi thành niên đều có quyền kết hôn và xây dựng gia đình mà không có bất cứ một hạn chế nào về chủng tộc, quốc tịch hay tôn giáo. Họ có quyền bình đẳng trong việc kết hôn, trong cuộc sống vợ chồng và lúc ly hôn.\\n\\n2. Việc kết hôn chỉ được tiến hành khi có sự đồng ý hoàn toàn và tự nguyện của cả hai bên.\\n\\n3. Gia đình là một đơn vị tự nhiên và cơ bản của xã hội và được xã hội và nhà nước bảo vệ.',\n '1. Mọi người đều có quyền sở hữu tài sản của riêng mình hay chung với những người khác.\\n\\n2. Không ai bị tước đoạt tài sản của mình một cách độc đoán.',\n 'Mọi người đều có quyền tự do suy nghĩ, ý thức và tôn giáo, kể cả tự do thay đổi tôn giáo hay tín ngưỡng, và tự do thể hiện tôn giáo hoặc tín ngưỡng dưới hình thức truyền bá, thực hành, thờ phụng hoặc lễ tiết, với tư cách cá nhân hay tập thể, công khai hay riêng tư.',\n 'Mọi người đều có quyền tự do ngôn luận và bầy tỏ quan điểm; kể cả tự do bảo lưu ý kiến không phụ thuộc vào bất cứ sự can thiệp nào, cũng như tự do tìm kiếm, thu nhận, tryền bá thông tin và ý kiến bằng bất cứ phương tiện thông tin đại chúng nào và không giới hạn về biên giới.',\n '1. Mọi người đều có quyền tự do họp hành và tham gia hiệp hội một cách hoà bình.\\n\\n2. Không ai bị bắt buộc phải tham gia một hiệp hội nào.',\n '1. Mọi người đều có quyền tham gia vào chính quyền của nước mình, một cách trực tiếp hay thông qua những đại diện được tự do lựa chọn.\\n\\n2. Mọi người đều có quyền được hưởng các dịch vụ công cộng của đất nước mình một cách bình đẳng.\\n\\n3. Ý chí của nhân dân là cơ sở tạo nên quyền lực của chính quyền; ý chí này được thể hiện qua các cuộc bầu cử định kỳ và thực sự, theo nguyên tắc bỏ phiếu phổ thông và bình đẳng và được thực hiện qua bỏ phiếu kín hoặc qua các thủ tục bỏ phiếu tự do tương tự.',\n 'Với tư cách là thành viên của xã hội, mọi người đều có quyền được hưởng bảo hiểm xã hội cũng như được thực hiện các quyền về kinh tế, xã hội và văn hoá không thể thiếu đối với nhân phẩm và tự do phát triển nhân cách của mình, thông qua nỗ lực quốc gia, hợp tác quốc tế và phù hợp với hệ thống tổ chức và nguồn lực của mỗi quốc gia.',\n '1. Mọi người đều có quyền làm việc, tự do lựa chọn công việc, được hưởng điều kiện làm việc công bằng và thuận lợi và được bảo vệ chống lại tình trạng thất nghiệp.\\n\\n2. Mọi người đều có quyền được trả công ngang nhau cho công việc như nhau, không có bất cứ sự phân biệt đối xử nào.\\n\\n3. Mọi người lao động đều có quyền được hưởng chế độ thù lao công bằng và thuận lợi đảm bảo cho sự tồn tại của bản thân và gia đình xứng đáng với nhân phẩm và được hỗ trợ thêm từ các hình thức bảo trợ xã hội khác, nếu cần thiết.\\n\\n4. Mọi người đều có quyền thành lập và tham gia các tổ chức công đoàn để bảo vệ quyền lợi của mình.',\n 'Mọi người đều có quyền nghỉ ngơi và giải trí, kể cả quyền được hạn chế hợp lý về số giờ làm việc và hưởng những ngày nghỉ định kỳ được trả lương.',\n '1. Mọi người đều có quyền được hưởng mức sống đủ để đảm bảo sức khoẻ và phúc lợi của bản thân và gia đình, về các mặt ăn, mặc, ở, y tế và các dịch vụ xã hội cần thiết khác, cũng như có quyền được bảo hiểm trong trường hợp thất nghiệp, ốm đau, tàn tật, goá bụa, già nua hoặc thiếu phương tiện sinh sống do những hoàn cảnh khách quan vượt quá khả năng kiểm soát của mình.\\n\\n2. Các bà mẹ và trẻ em cần được chăm sóc và giúp đỡ đặc biệt. Tất cả trẻ em, sinh ra trong hoặc ngoài giá thú, đều được hưởng mức độ bảo trợ xã hội như nhau.',\n '1. Mọi người đều có quyền được học hành. Phải áp dụng chế độ giáo dục miễn phí, ít nhất là ở bậc tiểu học và giáo dục cơ sở. Giáo dục tiểu học là bắt buộc. Giáo dục kỹ thuật và ngành nghề phải mang tính phổ thông, và giáo dục cao học phải theo nguyên tắc công bằng cho bất cứ ai có đủ khả năng.\\n\\n2. Giáo dục phải hướng tới mục tiêu giúp con người phát triển đầy đủ nhân cách và thúc đẩy sự tôn trọng đối với các quyền và tự do cơ bản của con người. Giáo dục phải tăng cường sự hiểu biết, lòng vị tha và tình bằng hữu giữa tất cả các dân tộc, các nhóm tôn giáo và chủng tộc, cũng như phải đẩy mạnh các hoạt động của Liên Hợp Quốc vì mục đích gìn giữ hoà bình.\\n\\n3. Cha, mẹ có quyền ưu tiên lựa chọn loại hình giáo dục cho con cái.',\n '1. Mọi người đều có quyền tự do tham gia vào đời sống văn hoá của cộng đồng, được thưởng thức nghệ thuật và chia xẻ những thành tựu và lợi ích của tiến bộ khoa học.\\n\\n2. Mọi người đều có quyền được bảo hộ đối với những quyền lợi về vật chất và tinh thần xuất phát từ công trình khoa học, văn học và nhgệ thuật mà người đó là tác giả.',\n 'Mọi người đều có quyền được hưởng trật tự xã hội và trật tự quốc tế trong đó các quyền và tự do nêu trong Bản tuyên ngôn này có thể được thực hiện đầy đủ.',\n '1. Mọi người đều có nghĩa vụ đối với cộng đồng là nơi duy nhất người đó có thể phát triển nhân cách của mình một cách tự do và đầy đủ.\\n\\n2. Khi thực hiện các quyền và tự do của mình, mọi người chỉ chịu những hạn chế do luật định, nhằm mục đích duy nhất là đảm bảo sự công nhận và tôn trọng thích đáng đối với các quyền và tự do của người khác cũng như đáp ứng những yêu cầu chính đáng về đạo đức, trật tự xã hội và phúc lợi chung trong một xã hội dân chủ.\\n\\n3. Trong bất cứ trường hợp nào, việc thực hiện những quyền và tự do này cũng knông được đi ngược lại với những mục tiêu và nguyên tắc của Liên Hợp Quốc.',\n 'Không được phép diễn giải bất kỳ điều khoản nào trong Bản tuyên ngôn này theo hướng ngầm ý cho phép bất kỳ quốc gia, nhóm người hay cá nhân nào được quyền tham gia vào bất kỳ hoạt động nào hay thực hiện bất kỳ hành vi nào nhằm phá hoại bất kỳ quyền và tự do nào nêu trong Bản tuyên ngôn này.']"
     },
     "execution_count": 59,
     "metadata": {},
     "output_type": "execute_result"
    }
   ],
   "source": [
    "vi_arts"
   ],
   "metadata": {
    "collapsed": false,
    "pycharm": {
     "name": "#%%\n"
    }
   }
  },
  {
   "cell_type": "code",
   "execution_count": 60,
   "outputs": [],
   "source": [
    "vi_df = pd.DataFrame({'de': de_arts, 'vi': vi_arts})"
   ],
   "metadata": {
    "collapsed": false,
    "pycharm": {
     "name": "#%%\n"
    }
   }
  },
  {
   "cell_type": "code",
   "execution_count": 61,
   "outputs": [
    {
     "data": {
      "text/plain": "                                                   de  \\\n0   Alle Menschen sind frei und gleich an Würde un...   \n1   Jeder hat Anspruch auf die in dieser Erklärung...   \n2   Jeder hat das Recht auf Leben, Freiheit und Si...   \n3   Niemand darf in Sklaverei oder Leibeigenschaft...   \n4   Niemand darf der Folter oder grausamer, unmens...   \n5   Jeder hat das Recht, überall als rechtsfähig a...   \n6   Alle Menschen sind vor dem Gesetz gleich und h...   \n7   Jeder hat Anspruch auf einen wirksamen Rechtsb...   \n8   Niemand darf willkürlich festgenommen, in Haft...   \n9   Jeder hat bei der Feststellung seiner Rechte u...   \n10  Jeder, der wegen einer strafbaren Handlung bes...   \n11  Niemand darf willkürlichen Eingriffen in sein ...   \n12  Jeder hat das Recht, sich innerhalb eines Staa...   \n13  Jeder hat das Recht, in anderen Ländern vor Ve...   \n14  Jeder hat das Recht auf eine Staatsangehörigke...   \n15  Heiratsfähige Frauen und Männer haben ohne Bes...   \n16  Jeder hat das Recht, sowohl allein als auch in...   \n17  Jeder hat das Recht auf Gedanken-, Gewissens- ...   \n18  Jeder hat das Recht auf Meinungsfreiheit und f...   \n19  Alle Menschen haben das Recht, sich friedlich ...   \n20  Jeder hat das Recht, an der Gestaltung der öff...   \n21  Jeder hat als Mitglied der Gesellschaft das Re...   \n22  Jeder hat das Recht auf Arbeit, auf freie Beru...   \n23  Jeder hat das Recht auf Erholung und Freizeit ...   \n24  Jeder hat das Recht auf einen Lebensstandard, ...   \n25  Jeder hat das Recht auf Bildung. Die Bildung i...   \n26  Jeder hat das Recht, am kulturellen Leben der ...   \n27  Jeder hat Anspruch auf eine soziale und intern...   \n28  Jeder hat Pflichten gegenüber der Gemeinschaft...   \n29  Keine Bestimmung dieser Erklärung darf dahin a...   \n\n                                                   vi  \n0   Tất cả mọi người sinh ra đều được tự do...  \n1   Mọi người đều được hưởng tất cả những ...  \n2   Mọi người đều có quyền sống, tự do và ...  \n3   Không ai phải làm nô lệ hay bị cưỡng bức...  \n4   Không ai bị tra tấn hay bị đối xử, xử ph...  \n5   Mọi người đều có quyền được thừa nhận ...  \n6   Tất cả mọi người đều bình đẳng trước p...  \n7   Mọi người đều có quyền được các toà á...  \n8   Không ai bị bắt, giam giữ hay đày đi nơi k...  \n9   Mọi người, với tư cách bình đẳng về mọ...  \n10  1. Mọi người, nếu bị quy tội hình sự, đ...  \n11  Không ai bị can thiệp một cách độc đoán ...  \n12  1. Mọi người đều có quyền tự do đi lại ...  \n13  1. Mọi người đều có quyền tìm kiếm và ...  \n14  1. Mọi người đều có quyền nhập quốc tị...  \n15  1. Nam hay nữ đến tuổi thành niên đều có...  \n16  1. Mọi người đều có quyền sở hữu tài s...  \n17  Mọi người đều có quyền tự do suy nghĩ, ...  \n18  Mọi người đều có quyền tự do ngôn luận ...  \n19  1. Mọi người đều có quyền tự do họp hà...  \n20  1. Mọi người đều có quyền tham gia vào c...  \n21  Với tư cách là thành viên của xã hội, m...  \n22  1. Mọi người đều có quyền làm việc, tự...  \n23  Mọi người đều có quyền nghỉ ngơi và gia...  \n24  1. Mọi người đều có quyền được hưởng mư...  \n25  1. Mọi người đều có quyền được học hàn...  \n26  1. Mọi người đều có quyền tự do tham gia...  \n27  Mọi người đều có quyền được hưởng trật...  \n28  1. Mọi người đều có nghĩa vụ đối với c...  \n29  Không được phép diễn giải bất kỳ điều k...  ",
      "text/html": "<div>\n<style scoped>\n    .dataframe tbody tr th:only-of-type {\n        vertical-align: middle;\n    }\n\n    .dataframe tbody tr th {\n        vertical-align: top;\n    }\n\n    .dataframe thead th {\n        text-align: right;\n    }\n</style>\n<table border=\"1\" class=\"dataframe\">\n  <thead>\n    <tr style=\"text-align: right;\">\n      <th></th>\n      <th>de</th>\n      <th>vi</th>\n    </tr>\n  </thead>\n  <tbody>\n    <tr>\n      <th>0</th>\n      <td>Alle Menschen sind frei und gleich an Würde un...</td>\n      <td>Tất cả mọi người sinh ra đều được tự do...</td>\n    </tr>\n    <tr>\n      <th>1</th>\n      <td>Jeder hat Anspruch auf die in dieser Erklärung...</td>\n      <td>Mọi người đều được hưởng tất cả những ...</td>\n    </tr>\n    <tr>\n      <th>2</th>\n      <td>Jeder hat das Recht auf Leben, Freiheit und Si...</td>\n      <td>Mọi người đều có quyền sống, tự do và ...</td>\n    </tr>\n    <tr>\n      <th>3</th>\n      <td>Niemand darf in Sklaverei oder Leibeigenschaft...</td>\n      <td>Không ai phải làm nô lệ hay bị cưỡng bức...</td>\n    </tr>\n    <tr>\n      <th>4</th>\n      <td>Niemand darf der Folter oder grausamer, unmens...</td>\n      <td>Không ai bị tra tấn hay bị đối xử, xử ph...</td>\n    </tr>\n    <tr>\n      <th>5</th>\n      <td>Jeder hat das Recht, überall als rechtsfähig a...</td>\n      <td>Mọi người đều có quyền được thừa nhận ...</td>\n    </tr>\n    <tr>\n      <th>6</th>\n      <td>Alle Menschen sind vor dem Gesetz gleich und h...</td>\n      <td>Tất cả mọi người đều bình đẳng trước p...</td>\n    </tr>\n    <tr>\n      <th>7</th>\n      <td>Jeder hat Anspruch auf einen wirksamen Rechtsb...</td>\n      <td>Mọi người đều có quyền được các toà á...</td>\n    </tr>\n    <tr>\n      <th>8</th>\n      <td>Niemand darf willkürlich festgenommen, in Haft...</td>\n      <td>Không ai bị bắt, giam giữ hay đày đi nơi k...</td>\n    </tr>\n    <tr>\n      <th>9</th>\n      <td>Jeder hat bei der Feststellung seiner Rechte u...</td>\n      <td>Mọi người, với tư cách bình đẳng về mọ...</td>\n    </tr>\n    <tr>\n      <th>10</th>\n      <td>Jeder, der wegen einer strafbaren Handlung bes...</td>\n      <td>1. Mọi người, nếu bị quy tội hình sự, đ...</td>\n    </tr>\n    <tr>\n      <th>11</th>\n      <td>Niemand darf willkürlichen Eingriffen in sein ...</td>\n      <td>Không ai bị can thiệp một cách độc đoán ...</td>\n    </tr>\n    <tr>\n      <th>12</th>\n      <td>Jeder hat das Recht, sich innerhalb eines Staa...</td>\n      <td>1. Mọi người đều có quyền tự do đi lại ...</td>\n    </tr>\n    <tr>\n      <th>13</th>\n      <td>Jeder hat das Recht, in anderen Ländern vor Ve...</td>\n      <td>1. Mọi người đều có quyền tìm kiếm và ...</td>\n    </tr>\n    <tr>\n      <th>14</th>\n      <td>Jeder hat das Recht auf eine Staatsangehörigke...</td>\n      <td>1. Mọi người đều có quyền nhập quốc tị...</td>\n    </tr>\n    <tr>\n      <th>15</th>\n      <td>Heiratsfähige Frauen und Männer haben ohne Bes...</td>\n      <td>1. Nam hay nữ đến tuổi thành niên đều có...</td>\n    </tr>\n    <tr>\n      <th>16</th>\n      <td>Jeder hat das Recht, sowohl allein als auch in...</td>\n      <td>1. Mọi người đều có quyền sở hữu tài s...</td>\n    </tr>\n    <tr>\n      <th>17</th>\n      <td>Jeder hat das Recht auf Gedanken-, Gewissens- ...</td>\n      <td>Mọi người đều có quyền tự do suy nghĩ, ...</td>\n    </tr>\n    <tr>\n      <th>18</th>\n      <td>Jeder hat das Recht auf Meinungsfreiheit und f...</td>\n      <td>Mọi người đều có quyền tự do ngôn luận ...</td>\n    </tr>\n    <tr>\n      <th>19</th>\n      <td>Alle Menschen haben das Recht, sich friedlich ...</td>\n      <td>1. Mọi người đều có quyền tự do họp hà...</td>\n    </tr>\n    <tr>\n      <th>20</th>\n      <td>Jeder hat das Recht, an der Gestaltung der öff...</td>\n      <td>1. Mọi người đều có quyền tham gia vào c...</td>\n    </tr>\n    <tr>\n      <th>21</th>\n      <td>Jeder hat als Mitglied der Gesellschaft das Re...</td>\n      <td>Với tư cách là thành viên của xã hội, m...</td>\n    </tr>\n    <tr>\n      <th>22</th>\n      <td>Jeder hat das Recht auf Arbeit, auf freie Beru...</td>\n      <td>1. Mọi người đều có quyền làm việc, tự...</td>\n    </tr>\n    <tr>\n      <th>23</th>\n      <td>Jeder hat das Recht auf Erholung und Freizeit ...</td>\n      <td>Mọi người đều có quyền nghỉ ngơi và gia...</td>\n    </tr>\n    <tr>\n      <th>24</th>\n      <td>Jeder hat das Recht auf einen Lebensstandard, ...</td>\n      <td>1. Mọi người đều có quyền được hưởng mư...</td>\n    </tr>\n    <tr>\n      <th>25</th>\n      <td>Jeder hat das Recht auf Bildung. Die Bildung i...</td>\n      <td>1. Mọi người đều có quyền được học hàn...</td>\n    </tr>\n    <tr>\n      <th>26</th>\n      <td>Jeder hat das Recht, am kulturellen Leben der ...</td>\n      <td>1. Mọi người đều có quyền tự do tham gia...</td>\n    </tr>\n    <tr>\n      <th>27</th>\n      <td>Jeder hat Anspruch auf eine soziale und intern...</td>\n      <td>Mọi người đều có quyền được hưởng trật...</td>\n    </tr>\n    <tr>\n      <th>28</th>\n      <td>Jeder hat Pflichten gegenüber der Gemeinschaft...</td>\n      <td>1. Mọi người đều có nghĩa vụ đối với c...</td>\n    </tr>\n    <tr>\n      <th>29</th>\n      <td>Keine Bestimmung dieser Erklärung darf dahin a...</td>\n      <td>Không được phép diễn giải bất kỳ điều k...</td>\n    </tr>\n  </tbody>\n</table>\n</div>"
     },
     "execution_count": 61,
     "metadata": {},
     "output_type": "execute_result"
    }
   ],
   "source": [
    "vi_df"
   ],
   "metadata": {
    "collapsed": false,
    "pycharm": {
     "name": "#%%\n"
    }
   }
  },
  {
   "cell_type": "code",
   "execution_count": 62,
   "outputs": [],
   "source": [
    "vi_fpath = os.path.join(alignment_path, \"de.vi.csv\")"
   ],
   "metadata": {
    "collapsed": false,
    "pycharm": {
     "name": "#%%\n"
    }
   }
  },
  {
   "cell_type": "code",
   "execution_count": 63,
   "outputs": [],
   "source": [
    "vi_df.to_csv(vi_fpath, encoding='utf8', index=False)"
   ],
   "metadata": {
    "collapsed": false,
    "pycharm": {
     "name": "#%%\n"
    }
   }
  },
  {
   "cell_type": "markdown",
   "source": [
    "### German - Greek"
   ],
   "metadata": {
    "collapsed": false,
    "pycharm": {
     "name": "#%% md\n"
    }
   }
  },
  {
   "cell_type": "code",
   "execution_count": 64,
   "outputs": [],
   "source": [
    "el_reg = re.compile(r'ΑΡΘΡΟ [0-9]+\\n')"
   ],
   "metadata": {
    "collapsed": false,
    "pycharm": {
     "name": "#%%\n"
    }
   }
  },
  {
   "cell_type": "code",
   "execution_count": 65,
   "outputs": [],
   "source": [
    "el_parts = el_reg.split(lang_map['el'])"
   ],
   "metadata": {
    "collapsed": false,
    "pycharm": {
     "name": "#%%\n"
    }
   }
  },
  {
   "cell_type": "code",
   "execution_count": 66,
   "outputs": [
    {
     "data": {
      "text/plain": "31"
     },
     "execution_count": 66,
     "metadata": {},
     "output_type": "execute_result"
    }
   ],
   "source": [
    "len(el_parts)"
   ],
   "metadata": {
    "collapsed": false,
    "pycharm": {
     "name": "#%%\n"
    }
   }
  },
  {
   "cell_type": "code",
   "execution_count": 67,
   "outputs": [],
   "source": [
    "el_arts = [p.strip() for p in el_parts[1:]]"
   ],
   "metadata": {
    "collapsed": false,
    "pycharm": {
     "name": "#%%\n"
    }
   }
  },
  {
   "cell_type": "code",
   "execution_count": 68,
   "outputs": [
    {
     "data": {
      "text/plain": "['Όλοι οι άνθρωποι γεννιούνται ελεύθεροι και ίσοι στην αξιοπρέπεια και τα δικαιώματα. Είναι προικισμένοι με λογική και συνείδηση, και οφείλουν να συμπεριφέρονται μεταξύ τους με πνεύμα αδελφοσύνης.',\n 'Κάθε άνθρωπος δικαιούται να επικαλείται όλα τα δικαιώματα και όλες τις ελευθερίες που προκηρύσσει η παρούσα Διακήρυξη, χωρίς καμία απολύτως διάκριση, ειδικότερα ως προς τη φυλή, το χρώμα, το φύλο, τη γλώσσα, τις θρησκείες, τις πολιτικές ή οποιεσδήποτε άλλες πεποιθήσεις, την εθνική ή κοινωνική καταγωγή, την περιουσία, τη γέννηση ή οποιαδήποτε άλλη κατάσταση.\\n\\nΔεν θα μπορεί ακόμα να γίνεται καμία διάκριση εξαιτίας του πολιτικού, νομικού ή διεθνούς καθεστώτος της χώρας από την οποία προέρχεται κανείς, είτε πρόκειται για χώρα ή εδαφική περιοχή ανεξάρτητη, υπό κηδεμονία ή υπεξουσία, ή που βρίσκεται υπό οποιονδήποτε άλλον περιορισμό κυριαρχίας.',\n 'Κάθε άτομο έχει δικαίωμα στη ζωή, την ελευθερία και την προσωπική του ασφάλεια.',\n 'Κανείς δεν επιτρέπεται να ζει υπό καθεστώς δουλείας, ολικής ή μερικής. Η δουλεία και το δουλεμπόριο υπό οποιαδήποτε μορφή απαγορεύονται.',\n 'Κανείς δεν επιτρέπεται να υποβάλλεται σε βασανιστήρια ούτε σε ποινή ή μεταχείριση σκληρή, απάνθρωπη ή ταπεινωτική.',\n 'Καθένας, όπου και αν βρίσκεται, έχει δικαίωμα στην αναγνώριση της νομικής του προσωπικότητας.',\n 'Όλοι είναι ίσοι απέναντι στον νόμο και έχουν δικαίωμα σε ίση προστασία του νόμου, χωρίς καμία απολύτως διάκριση. Όλοι έχουν δικαίωμα σε ίση προστασία από κάθε διάκριση που θα παραβίαζε την παρούσα Διακήρυξη και από κάθε πρόκληση για μια τέτοια δυσμενή διάκριση.',\n 'Καθένας έχει δικαίωμα να ασκεί αποτελεσματικά ένδικα μέσα στα αρμόδια εθνικά δικαστήρια κατά των πράξεων που παραβιάζουν τα θεμελιακά δικαιώματα τα οποία του αναγνωρίζουν το Σύνταγμα και ο νόμος.',\n 'Κανείς δεν μπορεί να συλλαμβάνεται, να κρατείται ή να εξορίζεται αυθαίρετα.',\n 'Καθένας έχει δικαίωμα, με πλήρη ισότητα, να εκδικάζεται η υπόθεσή του δίκαια και δημόσια, από δικαστήριο ανεξάρτητο και αμερόληπτο, που θα αποφασίσει είτε για τα δικαιώματα και τις υποχρεώσεις του είτε, σε περίπτωση ποινικής διαδικασίας, για το βάσιμο της κατηγορίας που στρέφεται εναντίον του.',\n '1. Κάθε κατηγορούμενος για ποινικό αδίκημα πρέπει να θεωρείται αθώος, ωσότου διαπιστωθεί η ενοχή του σύμφωνα με τον νόμο, σε ποινική δίκη, κατά την οποία θα του έχουν εξασφαλιστεί όλες οι απαραίτητες για την υπεράσπισή του εγγυήσεις.\\n\\n2. Κανείς δεν θα καταδικάζεται για πράξεις ή παραλείψεις που, κατά τον χρόνο που τελέστηκαν, δεν συνιστούσαν αξιόποινο αδίκημα κατά το εσωτερικό ή το διεθνές δίκαιο. Επίσης, δεν επιβάλλεται ποινή βαρύτερη από εκείνη που ίσχυε κατά τον χρόνο που τελέστηκε η αξιόποινη πράξη.',\n 'Κανείς δεν επιτρέπεται να υποστεί αυθαίρετες επεμβάσεις στην ιδιωτική του ζωή, την οικογένεια, την κατοικία ή την αλληλογραφία του, ούτε προσβολές της τιμής και της υπόληψης του. Καθένας έχει το δικαίωμα να τον προστατεύουν οι νόμοι από επεμβάσεις και προσβολές αυτού του είδους.',\n '1. Καθένας έχει το δικαίωμα να κυκλοφορεί ελεύθερα και να εκλέγει τον τόπο της διαμονής του στο εσωτερικό ενός κράτους.\\n\\n2. Καθένας έχει το δικαίωμα να εγκαταλείπει οποιαδήποτε χώρα, ακόμα και τη δική του, και να επιστρέφει σε αυτήν.',\n '1. Κάθε άτομο που καταδιώκεται έχει το δικαίωμα να ζητά άσυλο και του παρέχεται άσυλο σε άλλες χώρες.\\n\\n2. Το δικαίωμα αυτό δεν μπορεί κανείς να το επικαλεστεί, σε περίπτωση δίωξης για πραγματικό αδίκημα του κοινού ποινικού δικαίου ή για ενέργειες αντίθετες προς τους σκοπούς και τις αρχές του ΟΗΕ.',\n '1. Καθένας έχει το δικαίωμα μιας ιθαγένειας.\\n\\n2. Κανείς δεν μπορεί να στερηθεί αυθαίρετα την ιθαγένειά του ούτε το δικαίωμα να αλλάξει ιθαγένεια.',\n '1. Από τη στιγμή που θα φθάσουν σε ηλικία γάμου, ο άνδρας και η γυναίκα, χωρίς κανένα περιορισμό εξαιτίας της φυλής, της εθνικότητας ή της θρησκείας, έχουν το δικαίωμα να παντρεύονται και να ιδρύουν οικογένεια. Και οι δύο έχουν ίσα δικαιώματα ως προς τον γάμο, κατά τη διάρκεια του γάμου και κατά τη διάλυσή του.\\n\\n2. Γάμος δεν μπορεί να συναφθεί παρά μόνο με ελεύθερη και πλήρη συναίνεση των μελλονύμφων.\\n\\n3. Η οικογένεια είναι το φυσικό και το βασικό στοιχείο της κοινωνίας και έχει το δικαίωμα προστασίας από την κοινωνία και το κράτος.',\n '1. Κάθε άτομο, μόνο του ή με άλλους μαζί, έχει το δικαίωμα της ιδιοκτησίας.\\n\\n2. Κανείς δεν μπορεί να στερηθεί αυθαίρετα την ιδιοκτησία του.',\n 'Κάθε άτομο έχει το δικαίωμα της ελευθερίας της σκέψης, της συνείδησης και της θρησκείας. Στο δικαίωμα αυτό περιλαμβάνεται η ελευθερία για την αλλαγή της θρησκείας ή πεποιθήσεων, όπως και η ελευθερία να εκδηλώνει κανείς τη θρησκεία του ή τις θρησκευτικές του πεποιθήσεις, μόνος ή μαζί με άλλους, δημόσια ή ιδιωτικά, με τη διδασκαλία, την άσκηση, τη λατρεία και με την τέλεση θρησκευτικών τελετών.',\n 'Καθένας έχει το δικαίωμα της ελευθερίας της γνώμης και της έκφρασης, που σημαίνει το δικαίωμα να μην υφίσταται δυσμενείς συνέπειες για τις γνώμες του, και το δικαίωμα να αναζητεί, να παίρνει και να διαδίδει πληροφορίες και ιδέες, με οποιοδήποτε μέσο έκφρασης, και από όλο τον κόσμο.',\n '1. Καθένας έχει το δικαίωμα να συνέρχεται και να συνεταιρίζεται ελεύθερα και για ειρηνικούς σκοπούς.\\n\\n2. Κανείς δεν μπορεί να υποχρεωθεί να συμμετέχει σε ορισμένο σωματείο.',\n '1. Καθένας έχει το δικαίωμα να συμμετέχει στη διακυβέρνηση της χώρας του, άμεσα ή έμμεσα, με αντιπροσώπους ελεύθερα εκλεγμένους.\\n\\n2. Καθένας έχει το δικαίωμα να γίνεται δεκτός, υπό ίσους όρους, στις δημόσιες υπηρεσίες της χώρας του.\\n\\n3. Η λαϊκή θέληση είναι το θεμέλιο της κρατικής εξουσίας. Η θέληση αυτή πρέπει να εκφράζεται με τίμιες εκλογές, οι οποίες πρέπει να διεξάγονται περιοδικά, με καθολική, ίση και μυστική ψηφοφορία, ή με αντίστοιχη διαδικασία που να εξασφαλίζει την ελευθερία της εκλογής.',\n 'Κάθε άτομο, ως μέλος του κοινωνικού συνόλου, έχει δικαίωμα κοινωνικής προστασίας. Η κοινωνία, με την εθνική πρωτοβουλία και τη διεθνή συνεργασία, ανάλογα πάντα με την οργάνωση και τις οικονομικές δυνατότητες κάθε κράτους, έχει χρέος να του εξασφαλίσει την ικανοποίηση των οικονομικών, κοινωνικών και πολιτιστικών δικαιωμάτων που είναι απαραίτητα για την αξιοπρέπεια και την ελεύθερη ανάπτυξη της προσωπικότητάς του.',\n '1. Καθένας έχει το δικαίωμα να εργάζεται και να επιλέγει ελεύθερα το επάγγελμά του, να έχει δίκαιες και ικανοποιητικές συνθήκες δουλειάς και να προστατεύεται από την ανεργία.\\n\\n2. Όλοι, χωρίς καμία διάκριση, έχουν το δικαίωμα ίσης αμοιβής για ίση εργασία.\\n\\n3. Κάθε εργαζόμενος έχει δικαίωμα δίκαιης και ικανοποιητικής αμοιβής, που να εξασφαλίζει σε αυτόν και την οικογένειά του συνθήκες ζωής άξιες στην ανθρώπινη αξιοπρέπεια. Η αμοιβή της εργασίας, αν υπάρχει, πρέπει να συμπληρώνεται με άλλα μέσα κοινωνικής προστασίας.\\n\\n4. Καθένας έχει το δικαίωμα να ιδρύει μαζί με άλλους συνδικάτα και να συμμετέχει σε συνδικάτα για την προάσπιση των συμφερόντων του.',\n 'Καθένας έχει το δικαίωμα στην ανάπαυση, σε ελεύθερο χρόνο, και ιδιαίτερα, σε λογικό περιορισμό του χρόνου εργασίας και σε περιοδικές άδειες με πλήρεις αποδοχές.',\n '1. Καθένας έχει δικαίωμα σε ένα βιοτικό επίπεδο ικανό να εξασφαλίσει στον ίδιο και στην οικογένεια του υγεία και ευημερία, και ειδικότερα τροφή, ρουχισμό, κατοικία, ιατρική περίθαλψη όπως και τις απαραίτητες κοινωνικές υπηρεσίες. Ἐχει ακόμα δικαίωμα σε ασφάλιση για την ανεργία, την αρρώστια, την αναπηρία, τη χηρεία, τη γεροντική ηλικία, όπως και για όλες τις άλλες περιπτώσεις που στερείται τα μέσα της συντήρησής του, εξαιτίας περιστάσεων ανεξαρτήτων της θέλησης του.\\n\\n2. Η μητρότητα και η παιδική ηλικία έχουν δικαίωμα ειδικής μέριμνας και περίθαλψης. Όλα τα παιδιά, ανεξάρτητα αν είναι νόμιμα ή εξώγαμα, απολαμβάνουν την ίδια κοινωνική προστασία.',\n '1. Καθένας έχει δικαίωμα στην εκπαίδευση. Η εκπαίδευση πρέπει να παρέχεται δωρεάν, τουλάχιστον στη στοιχειώδη και βασική βαθμίδα της. Η στοιχειώδης εκπαίδευση είναι υποχρεωτική. Η τεχνική και επαγγελματική εκπαίδευση πρέπει να εξασφαλίζεται για όλους. Η πρόσβαση στην ανώτατη παιδεία πρέπει να είναι ανοικτή σε όλους, υπό ίσους όρους, ανάλογα με τις ικανότητες τους.\\n\\n2. Η εκπαίδευση πρέπει να αποβλέπει στην πλήρη ανάπτυξη της ανθρώπινης προσωπικότητας και στην ενίσχυση του σεβασμού των ανθρωπίνων δικαιωμάτων και των θεμελιακών ελευθεριών. Πρέπει να προάγει την κατανόηση, την ανεκτικότητα και τη φιλία ανάμεσα σε όλα τα έθνη και σε όλες τις φυλές και τις θρησκευτικές ομάδες, και να ευνοεί την ανάπτυξη των δραστηριοτήτων των Ηνωμένων Εθνών για τη διατήρηση της ειρήνης.\\n\\n3. Οι γονείς έχουν, κατά προτεραιότητα, το δικαίωμα να επιλέγουν το είδος της παιδείας που θα δοθεί στα παιδιά τους.',\n '1. Καθένας έχει το δικαίωμα να συμμετέχει ελεύθερα στην πνευματική ζωή της κοινότητας, να χαίρεται τις καλές τέχνες και να μετέχει στην επιστημονική πρόοδο και στα αγαθά της.\\n\\n2. Καθένας έχει το δικαίωμα να προστατεύονται τα ηθικά και υλικά συμφέροντά του που απορρέουν από κάθε είδους επιστημονική, λογοτεχνική ή καλλιτεχνική παραγωγή του.',\n 'Καθένας έχει το δικαίωμα να επικρατεί μια κοινωνική και διεθνής τάξη, μέσα στην οποία τα δικαιώματα και οι ελευθερίες που προκηρύσσει η παρούσα Διακήρυξη να μπορούν να πραγματώνονται σε όλη τους την έκταση.',\n '1. Το άτομο έχει καθήκοντα απέναντι στην κοινότητα, μέσα στα πλαίσια της οποίας και μόνο είναι δυνατή η ελεύθερη και ολοκληρωμένη ανάπτυξη της προσωπικότητάς του.\\n\\n2. Στην άσκηση των δικαιωμάτων του και στην απόλαυση των ελευθεριών του κανείς δεν υπόκειται παρά μόνο στους περιορισμούς που ορίζονται από τους νόμους, με αποκλειστικό σκοπό να εξασφαλίζεται η αναγνώριση και ο σεβασμός των δικαιωμάτων και των ελευθεριών των άλλων, και να ικανοποιούνται οι δίκαιες απαιτήσεις της ηθικής, της δημόσιας τάξης και του γενικού καλού, σε μια δημοκρατική κοινωνία.\\n\\n3. Τα δικαιώματα αυτά και οι ελευθερίες δεν μπορούν, σε καμία περίπτωση, να ασκούνται αντίθετα προς τους σκοπούς και τις αρχές των Ηνωμένων Εθνών.',\n 'Καμιά διάταξη της παρούσας Διακήρυξης δεν μπορεί να ερμηνευθεί ότι παρέχει σε ένα κράτος, σε μια ομάδα ή σε ένα άτομο οποιοδήποτε δικαίωμα να επιδίδεται σε ενέργειες ή να εκτελεί πράξεις που αποβλέπουν στην άρνηση των δικαιωμάτων και των ελευθεριών που εξαγγέλλονται σε αυτήν.']"
     },
     "execution_count": 68,
     "metadata": {},
     "output_type": "execute_result"
    }
   ],
   "source": [
    "el_arts"
   ],
   "metadata": {
    "collapsed": false,
    "pycharm": {
     "name": "#%%\n"
    }
   }
  },
  {
   "cell_type": "code",
   "execution_count": 69,
   "outputs": [],
   "source": [
    "el_df = pd.DataFrame({'de': de_arts, 'el': el_arts})"
   ],
   "metadata": {
    "collapsed": false,
    "pycharm": {
     "name": "#%%\n"
    }
   }
  },
  {
   "cell_type": "code",
   "execution_count": 70,
   "outputs": [],
   "source": [
    "el_fpath = os.path.join(alignment_path, \"de.el.csv\")"
   ],
   "metadata": {
    "collapsed": false,
    "pycharm": {
     "name": "#%%\n"
    }
   }
  },
  {
   "cell_type": "code",
   "execution_count": 71,
   "outputs": [],
   "source": [
    "el_df.to_csv(el_fpath, encoding='utf8', index=False)"
   ],
   "metadata": {
    "collapsed": false,
    "pycharm": {
     "name": "#%%\n"
    }
   }
  },
  {
   "cell_type": "markdown",
   "source": [
    "### German - Italian"
   ],
   "metadata": {
    "collapsed": false,
    "pycharm": {
     "name": "#%% md\n"
    }
   }
  },
  {
   "cell_type": "code",
   "execution_count": 71,
   "outputs": [],
   "source": [],
   "metadata": {
    "collapsed": false,
    "pycharm": {
     "name": "#%%\n"
    }
   }
  },
  {
   "cell_type": "markdown",
   "source": [
    "### German - Kazakh"
   ],
   "metadata": {
    "collapsed": false,
    "pycharm": {
     "name": "#%% md\n"
    }
   }
  },
  {
   "cell_type": "code",
   "execution_count": 90,
   "outputs": [],
   "source": [
    "kk_reg = re.compile(r'[0-9]+ бап\\n')"
   ],
   "metadata": {
    "collapsed": false,
    "pycharm": {
     "name": "#%%\n"
    }
   }
  },
  {
   "cell_type": "code",
   "execution_count": 91,
   "outputs": [],
   "source": [
    "kk_parts = kk_reg.split(lang_map['kk'])"
   ],
   "metadata": {
    "collapsed": false,
    "pycharm": {
     "name": "#%%\n"
    }
   }
  },
  {
   "cell_type": "code",
   "execution_count": 92,
   "outputs": [
    {
     "data": {
      "text/plain": "31"
     },
     "execution_count": 92,
     "metadata": {},
     "output_type": "execute_result"
    }
   ],
   "source": [
    "len(kk_parts)"
   ],
   "metadata": {
    "collapsed": false,
    "pycharm": {
     "name": "#%%\n"
    }
   }
  },
  {
   "cell_type": "code",
   "execution_count": 95,
   "outputs": [],
   "source": [
    "kk_arts = [p.strip() for p in kk_parts[1:]]"
   ],
   "metadata": {
    "collapsed": false,
    "pycharm": {
     "name": "#%%\n"
    }
   }
  },
  {
   "cell_type": "code",
   "execution_count": 96,
   "outputs": [
    {
     "data": {
      "text/plain": "'Әр адам, нәсіліне, түр‐түсіне, жынысына. тіліне, дініне, саяси немесе басқа да наным‐сенімдеріне, ұлттық, немесе әлеуметтік тегіне, мүліктік. тектік‐топтық, немесе басқа да жағдаяттарға қарамастан осы Декларацияда жарияланған барлық құқықтар мен бостандықтарға алаланбай, бірдей тең ие болуы тиіс.\\n\\nСонымен қатар, ешкім де өзі тұратын елінің, не болмаса территорияның саяси, құқықтық, немесе халықаралық мәртебесінің негізі бойынша, және де ол территория тәуелсіз, әлде біреудің қарамағында, әлде өзін‐өзі басқарушы емес, немесе оның егемендігі әртүрлі нысанда шектеулі болған күннің өзінде де, алаланбауы тиіс.'"
     },
     "execution_count": 96,
     "metadata": {},
     "output_type": "execute_result"
    }
   ],
   "source": [
    "kk_arts[1]"
   ],
   "metadata": {
    "collapsed": false,
    "pycharm": {
     "name": "#%%\n"
    }
   }
  },
  {
   "cell_type": "code",
   "execution_count": 97,
   "outputs": [],
   "source": [
    "kk_df = pd.DataFrame({'de': de_arts, 'kk': kk_arts})"
   ],
   "metadata": {
    "collapsed": false,
    "pycharm": {
     "name": "#%%\n"
    }
   }
  },
  {
   "cell_type": "code",
   "execution_count": 98,
   "outputs": [],
   "source": [
    "kk_fpath = os.path.join(alignment_path, \"de.kk.csv\")"
   ],
   "metadata": {
    "collapsed": false,
    "pycharm": {
     "name": "#%%\n"
    }
   }
  },
  {
   "cell_type": "code",
   "execution_count": 99,
   "outputs": [],
   "source": [
    "kk_df.to_csv(kk_fpath, encoding='utf8', index=False)"
   ],
   "metadata": {
    "collapsed": false,
    "pycharm": {
     "name": "#%%\n"
    }
   }
  },
  {
   "cell_type": "code",
   "execution_count": null,
   "outputs": [],
   "source": [],
   "metadata": {
    "collapsed": false,
    "pycharm": {
     "name": "#%%\n"
    }
   }
  }
 ],
 "metadata": {
  "kernelspec": {
   "display_name": "Python 3",
   "language": "python",
   "name": "python3"
  },
  "language_info": {
   "codemirror_mode": {
    "name": "ipython",
    "version": 2
   },
   "file_extension": ".py",
   "mimetype": "text/x-python",
   "name": "python",
   "nbconvert_exporter": "python",
   "pygments_lexer": "ipython2",
   "version": "2.7.6"
  }
 },
 "nbformat": 4,
 "nbformat_minor": 0
}