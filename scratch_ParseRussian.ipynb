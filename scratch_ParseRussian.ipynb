{
 "cells": [
  {
   "cell_type": "code",
   "execution_count": 73,
   "metadata": {
    "collapsed": true
   },
   "outputs": [],
   "source": [
    "import glob\n",
    "import os\n",
    "import re\n",
    "\n",
    "#html_reg = re.compile(r'<[a-zA-Z !=\"\\-,/\\\\.\\' 0-9;_#:%\\\\n\\u0430-\\u044f]+>', re.MULTILINE + re.UNICODE)\n",
    "# Thanks https://pythex.org/\n",
    "html_reg = re.compile(r'<[a-zA-Z0-9А-Яа-я !=\"\\-,/\\.\\';_#:%\\(\\)\\n]+>', re.MULTILINE + re.UNICODE)\n",
    "zh_fn_reg = re.compile(r'【[0-9]+】')\n",
    "fn_reg = re.compile(r'\\[[0-9]+\\]')\n",
    "\n",
    "# For knowing the code for the encodings for with open():\n",
    "# https://docs.python.org/3.7/library/codecs.html#standard-encodings"
   ]
  },
  {
   "cell_type": "code",
   "execution_count": 121,
   "outputs": [],
   "source": [
    "# Custom cleaning\n",
    "header_strs = [\"MIA главная страница\", \"Глав. стр. Иноязычной секции\", \"Глав. стр. Русской секции\",\n",
    "               \"Маркс Энгельс архив\", \"|\", \"Оригинал находится на странице\",\n",
    "               \"http://www.esperanto.mv.ru/Marksismo/Kapital1/index.html\",\n",
    "               \"Последнее обновление Февраль 2012 г.\", \"Последнее обновление Декабрь 2011г.\",\n",
    "               \"Карл Маркс\"]"
   ],
   "metadata": {
    "collapsed": false,
    "pycharm": {
     "name": "#%%\n"
    }
   }
  },
  {
   "cell_type": "code",
   "execution_count": 533,
   "outputs": [],
   "source": [
    "# See e.g. https://www.ou.edu/research/electron/internet/special.shtml\n",
    "html_code_map = {\n",
    "    \"&laquo;\": \"«\", \"&#171;\": \"«\",\n",
    "    \"&raquo;\": \"»\", \"&#187;\": \"»\",\n",
    "    \"&mdash;\": \"-\", \"&ndash;\": \"-\",\n",
    "    \"&nbsp;\": \" \", \"&hellip;\": \"...\",\n",
    "    \"&deg;\": \"°\",\n",
    "    \"&times;\": \"×\", \"&frac12;\": \"½\", \"&frac14;\": \"¼\", \"&frac34;\": \"¾\", \"&#x2153;\": \"⅓\",\n",
    "    \"&acirc;\": \"â\", \"&agrave;\": \"à\", \"&auml;\": \"ä\",\n",
    "    \"&Eacute;\": \"É\", \"&eacute;\": \"é\", \"&euml;\": \"ë\", \"&egrave;\": \"è\", \"&ecirc;\": \"ê\",\n",
    "    \"&ucirc;\": \"û\", \"&uuml;\": \"ü\",\n",
    "    \"&szlig;\": \"ß\",\n",
    "    # Greek\n",
    "    \"&#x3ac;\": \"ά\", # alpha with tonos https://www.compart.com/en/unicode/U+03AC\n",
    "    \"&alpha;\": \"α\", \"&beta;\": \"β\", \"&gamma;\": \"γ\", \"&Delta;\": \"Δ\", \"&delta;\": \"δ\",\n",
    "    \"&epsilon;\": \"ε\", \"&eta;\": \"η\",\n",
    "    \"&iota;\": \"ι\", \"&kappa;\": \"κ\",\n",
    "    \"&lambda;\": \"λ\", \"&mu;\": \"μ\",\n",
    "    \"&nu;\": \"ν\", \"&omicron;\": \"ο\",\n",
    "    \"&pi;\": \"π\", \"&rho;\": \"ρ\",\n",
    "    \"&sigma;\": \"σ\", \"&tau;\": \"τ\", \"&upsilon;\": \"υ\",\n",
    "    \"&chi;\": \"χ\",\n",
    "    \"&#x3cd;\": \"ύ\", # https://www.compart.com/en/unicode/U+03cd\n",
    "    \"&#x3cb;\": \"ϋ\", # upsilon with dialytika https://www.compart.com/en/unicode/U+03CB\n",
    "    \"&#x3cc;\": \"ό\", # Omicron with tonos\n",
    "    \"&#x3af;\": \"ί\", # iota with tonos https://www.compart.com/en/unicode/U+03AF\n",
    "    \"&sigmaf;\": \"ς\",\n",
    "    \"&#x384;\": \"΄\", # Greek tonos https://www.compart.com/en/unicode/U+0384\n",
    "    \"&#x301;\": \"◌́\", # https://www.compart.com/en/unicode/U+0301\n",
    "    \"&#x3ad;\": \"έ\", # https://www.compart.com/en/unicode/U+03ad\n",
    "    \"&#x3ae;\": \"ή\", # eta with tonos https://www.compart.com/en/unicode/U+03ae\n",
    "}"
   ],
   "metadata": {
    "collapsed": false,
    "pycharm": {
     "name": "#%%\n"
    }
   }
  },
  {
   "cell_type": "code",
   "execution_count": 534,
   "outputs": [
    {
     "data": {
      "text/plain": "['../../Translation_Documents/Raw_Capital/html/RU_marxists.org\\\\01.htm',\n '../../Translation_Documents/Raw_Capital/html/RU_marxists.org\\\\02.htm',\n '../../Translation_Documents/Raw_Capital/html/RU_marxists.org\\\\03.htm',\n '../../Translation_Documents/Raw_Capital/html/RU_marxists.org\\\\04.htm',\n '../../Translation_Documents/Raw_Capital/html/RU_marxists.org\\\\05.htm',\n '../../Translation_Documents/Raw_Capital/html/RU_marxists.org\\\\06.htm',\n '../../Translation_Documents/Raw_Capital/html/RU_marxists.org\\\\07.htm',\n '../../Translation_Documents/Raw_Capital/html/RU_marxists.org\\\\08.htm',\n '../../Translation_Documents/Raw_Capital/html/RU_marxists.org\\\\09.htm',\n '../../Translation_Documents/Raw_Capital/html/RU_marxists.org\\\\10.htm',\n '../../Translation_Documents/Raw_Capital/html/RU_marxists.org\\\\11.htm',\n '../../Translation_Documents/Raw_Capital/html/RU_marxists.org\\\\12.htm',\n '../../Translation_Documents/Raw_Capital/html/RU_marxists.org\\\\13.htm',\n '../../Translation_Documents/Raw_Capital/html/RU_marxists.org\\\\14.htm',\n '../../Translation_Documents/Raw_Capital/html/RU_marxists.org\\\\15.htm',\n '../../Translation_Documents/Raw_Capital/html/RU_marxists.org\\\\16.htm',\n '../../Translation_Documents/Raw_Capital/html/RU_marxists.org\\\\17.htm',\n '../../Translation_Documents/Raw_Capital/html/RU_marxists.org\\\\18.htm',\n '../../Translation_Documents/Raw_Capital/html/RU_marxists.org\\\\19.htm',\n '../../Translation_Documents/Raw_Capital/html/RU_marxists.org\\\\20.htm',\n '../../Translation_Documents/Raw_Capital/html/RU_marxists.org\\\\21.htm',\n '../../Translation_Documents/Raw_Capital/html/RU_marxists.org\\\\22.htm',\n '../../Translation_Documents/Raw_Capital/html/RU_marxists.org\\\\23.htm',\n '../../Translation_Documents/Raw_Capital/html/RU_marxists.org\\\\24.htm',\n '../../Translation_Documents/Raw_Capital/html/RU_marxists.org\\\\25.htm',\n '../../Translation_Documents/Raw_Capital/html/RU_marxists.org\\\\26.htm',\n '../../Translation_Documents/Raw_Capital/html/RU_marxists.org\\\\27.htm',\n '../../Translation_Documents/Raw_Capital/html/RU_marxists.org\\\\28.htm',\n '../../Translation_Documents/Raw_Capital/html/RU_marxists.org\\\\29.htm',\n '../../Translation_Documents/Raw_Capital/html/RU_marxists.org\\\\30.htm',\n '../../Translation_Documents/Raw_Capital/html/RU_marxists.org\\\\31.htm',\n '../../Translation_Documents/Raw_Capital/html/RU_marxists.org\\\\32.htm',\n '../../Translation_Documents/Raw_Capital/html/RU_marxists.org\\\\33.htm',\n '../../Translation_Documents/Raw_Capital/html/RU_marxists.org\\\\34.htm',\n '../../Translation_Documents/Raw_Capital/html/RU_marxists.org\\\\35.htm',\n '../../Translation_Documents/Raw_Capital/html/RU_marxists.org\\\\36.htm',\n '../../Translation_Documents/Raw_Capital/html/RU_marxists.org\\\\37.htm',\n '../../Translation_Documents/Raw_Capital/html/RU_marxists.org\\\\38.htm',\n '../../Translation_Documents/Raw_Capital/html/RU_marxists.org\\\\39.htm',\n '../../Translation_Documents/Raw_Capital/html/RU_marxists.org\\\\40.htm',\n '../../Translation_Documents/Raw_Capital/html/RU_marxists.org\\\\41.htm',\n '../../Translation_Documents/Raw_Capital/html/RU_marxists.org\\\\42.htm',\n '../../Translation_Documents/Raw_Capital/html/RU_marxists.org\\\\43.htm',\n '../../Translation_Documents/Raw_Capital/html/RU_marxists.org\\\\44.htm',\n '../../Translation_Documents/Raw_Capital/html/RU_marxists.org\\\\45.htm',\n '../../Translation_Documents/Raw_Capital/html/RU_marxists.org\\\\46.htm',\n '../../Translation_Documents/Raw_Capital/html/RU_marxists.org\\\\47.htm',\n '../../Translation_Documents/Raw_Capital/html/RU_marxists.org\\\\48.htm',\n '../../Translation_Documents/Raw_Capital/html/RU_marxists.org\\\\49.htm',\n '../../Translation_Documents/Raw_Capital/html/RU_marxists.org\\\\50.htm',\n '../../Translation_Documents/Raw_Capital/html/RU_marxists.org\\\\51.htm',\n '../../Translation_Documents/Raw_Capital/html/RU_marxists.org\\\\52.htm',\n '../../Translation_Documents/Raw_Capital/html/RU_marxists.org\\\\53.htm',\n '../../Translation_Documents/Raw_Capital/html/RU_marxists.org\\\\54.htm',\n '../../Translation_Documents/Raw_Capital/html/RU_marxists.org\\\\55.htm',\n '../../Translation_Documents/Raw_Capital/html/RU_marxists.org\\\\56.htm',\n '../../Translation_Documents/Raw_Capital/html/RU_marxists.org\\\\57.htm',\n '../../Translation_Documents/Raw_Capital/html/RU_marxists.org\\\\58.htm',\n '../../Translation_Documents/Raw_Capital/html/RU_marxists.org\\\\59.htm',\n '../../Translation_Documents/Raw_Capital/html/RU_marxists.org\\\\60.htm',\n '../../Translation_Documents/Raw_Capital/html/RU_marxists.org\\\\61.htm',\n '../../Translation_Documents/Raw_Capital/html/RU_marxists.org\\\\62.htm',\n '../../Translation_Documents/Raw_Capital/html/RU_marxists.org\\\\63.htm',\n '../../Translation_Documents/Raw_Capital/html/RU_marxists.org\\\\64.htm',\n '../../Translation_Documents/Raw_Capital/html/RU_marxists.org\\\\65.htm',\n '../../Translation_Documents/Raw_Capital/html/RU_marxists.org\\\\66.htm']"
     },
     "execution_count": 534,
     "metadata": {},
     "output_type": "execute_result"
    }
   ],
   "source": [
    "ru_path = \"../../Translation_Documents/Raw_Capital/html/RU_marxists.org\"\n",
    "ru_glob_str = os.path.join(ru_path, \"*.htm\")\n",
    "ru_fpaths = glob.glob(ru_glob_str)\n",
    "ru_fpaths"
   ],
   "metadata": {
    "collapsed": false,
    "pycharm": {
     "name": "#%%\n"
    }
   }
  },
  {
   "cell_type": "code",
   "execution_count": 535,
   "outputs": [],
   "source": [
    "output_path = \"../../Translation_Documents/Raw_Capital/txt/RU_clean\"\n",
    "if not os.path.isdir(output_path):\n",
    "    os.mkdir(output_path)"
   ],
   "metadata": {
    "collapsed": false,
    "pycharm": {
     "name": "#%%\n"
    }
   }
  },
  {
   "cell_type": "code",
   "execution_count": 536,
   "outputs": [],
   "source": [
    "tnum_start = 1\n",
    "tnum_end = 66"
   ],
   "metadata": {
    "collapsed": false,
    "pycharm": {
     "name": "#%%\n"
    }
   }
  },
  {
   "cell_type": "code",
   "execution_count": 545,
   "outputs": [],
   "source": [
    "clean_texts = []\n",
    "for cur_tnum in range(tnum_start, tnum_end+1):\n",
    "    tnum_str = str(cur_tnum).zfill(2)\n",
    "    cur_fpath = os.path.join(ru_path, f\"{tnum_str}.htm\")\n",
    "    with open(cur_fpath, 'r', encoding='iso8859_5', errors='replace') as infile:\n",
    "        text = infile.read()\n",
    "    # Just get rid of all the newlines for now\n",
    "    clean_text = text.replace(\"\\n\",\" \")\n",
    "    # And replace html codes with ascii\n",
    "    for cur_key, cur_val in html_code_map.items():\n",
    "        clean_text = clean_text.replace(cur_key, cur_val)\n",
    "    # Remove page header strings\n",
    "    for cur_header_str in header_strs:\n",
    "        clean_text = clean_text.replace(cur_header_str, \"\")\n",
    "    clean_text = html_reg.sub(\"\", clean_text)\n",
    "    clean_text = zh_fn_reg.sub(\"\", clean_text)\n",
    "    clean_text = fn_reg.sub(\"\", clean_text)\n",
    "    clean_text = clean_text.replace(\"\\u3000\",\"\")\n",
    "    clean_text = clean_text.replace(\"&gt;\",\">\")\n",
    "    # Save individually\n",
    "    cur_output_fpath = os.path.join(output_path, f\"{tnum_str}_morg.txt\")\n",
    "    with open(cur_output_fpath, 'w', encoding='utf-8') as outfile:\n",
    "        outfile.write(clean_text)\n",
    "    clean_texts.append(clean_text)"
   ],
   "metadata": {
    "collapsed": false,
    "pycharm": {
     "name": "#%%\n"
    }
   }
  },
  {
   "cell_type": "code",
   "execution_count": 546,
   "outputs": [],
   "source": [
    "full_text = \"\\n\\n\\n\".join(clean_texts)"
   ],
   "metadata": {
    "collapsed": false,
    "pycharm": {
     "name": "#%%\n"
    }
   }
  },
  {
   "cell_type": "code",
   "execution_count": 547,
   "outputs": [],
   "source": [
    "full_output_fpath = os.path.join(output_path, \"..\", \"RU_clean.txt\")"
   ],
   "metadata": {
    "collapsed": false,
    "pycharm": {
     "name": "#%%\n"
    }
   }
  },
  {
   "cell_type": "code",
   "execution_count": 548,
   "outputs": [],
   "source": [
    "with open(full_output_fpath, 'w', encoding='utf-8') as outfile:\n",
    "    outfile.write(full_text)"
   ],
   "metadata": {
    "collapsed": false,
    "pycharm": {
     "name": "#%%\n"
    }
   }
  },
  {
   "cell_type": "code",
   "execution_count": 548,
   "outputs": [],
   "source": [],
   "metadata": {
    "collapsed": false,
    "pycharm": {
     "name": "#%%\n"
    }
   }
  },
  {
   "cell_type": "code",
   "execution_count": 364,
   "outputs": [],
   "source": [],
   "metadata": {
    "collapsed": false,
    "pycharm": {
     "name": "#%%\n"
    }
   }
  },
  {
   "cell_type": "code",
   "execution_count": null,
   "outputs": [],
   "source": [],
   "metadata": {
    "collapsed": false,
    "pycharm": {
     "name": "#%%\n"
    }
   }
  }
 ],
 "metadata": {
  "kernelspec": {
   "display_name": "Python 3",
   "language": "python",
   "name": "python3"
  },
  "language_info": {
   "codemirror_mode": {
    "name": "ipython",
    "version": 2
   },
   "file_extension": ".py",
   "mimetype": "text/x-python",
   "name": "python",
   "nbconvert_exporter": "python",
   "pygments_lexer": "ipython2",
   "version": "2.7.6"
  }
 },
 "nbformat": 4,
 "nbformat_minor": 0
}