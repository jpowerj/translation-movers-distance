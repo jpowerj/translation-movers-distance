{
 "cells": [
  {
   "cell_type": "code",
   "execution_count": 4,
   "metadata": {
    "collapsed": true
   },
   "outputs": [],
   "source": [
    "import spacy"
   ]
  },
  {
   "cell_type": "code",
   "execution_count": 6,
   "outputs": [],
   "source": [
    "nlp_zh = spacy.load('zh_core_web_sm')"
   ],
   "metadata": {
    "collapsed": false,
    "pycharm": {
     "name": "#%%\n"
    }
   }
  },
  {
   "cell_type": "code",
   "execution_count": 7,
   "outputs": [],
   "source": [
    "test_sent = \"这里的问题也不在于物怎样来满足人的需要，是作为生活资料即消费品来直接满足，还是作为生产资料来间接满足。 每一种有用物，如铁、纸等等，都可以从质和量两个角度来考察。 每一种这样的物都是许多属性的总和，因此可以在不同的方面有用。 发现这些不同的方面，从而发现物的多种使用方式，是历史的事情。 为有用物的量找到社会尺度，也是这样。  商品尺度之所以不同，部分是由于被计量的物的性质不同，部分是由于约定俗成。 物的有用性使物成为使用价值。 但这种有用性不是悬在空中的。\""
   ],
   "metadata": {
    "collapsed": false,
    "pycharm": {
     "name": "#%%\n"
    }
   }
  },
  {
   "cell_type": "code",
   "execution_count": 8,
   "outputs": [],
   "source": [
    "result = nlp_zh(test_sent)"
   ],
   "metadata": {
    "collapsed": false,
    "pycharm": {
     "name": "#%%\n"
    }
   }
  },
  {
   "cell_type": "code",
   "execution_count": 11,
   "outputs": [
    {
     "name": "stdout",
     "output_type": "stream",
     "text": [
      "这里的问题也不在于物怎样来满足人的需要，是作为生活资料即消费品来直接满足，还是作为生产资料来间接满足。\n",
      "\n",
      "每一种有用物，如铁、纸等等，都可以从质和量两个角度来考察。\n",
      "\n",
      "每一种这样的物都是许多属性的总和，因此可以在不同的方面有用。\n",
      "\n",
      "发现这些不同的方面，从而发现物的多种使用方式，是历史的事情。\n",
      "\n",
      "为有用物的量找到社会尺度，也是这样。\n",
      "\n",
      " 商品尺度之所以不同，部分是由于被计量的物的性质不同，部分是由于约定俗成。\n",
      "\n",
      "物的有用性使物成为使用价值。\n",
      "\n",
      "但这种有用性不是悬在空中的。\n",
      "\n"
     ]
    }
   ],
   "source": [
    "for elt in result.sents:\n",
    "    print(elt)\n",
    "    print()"
   ],
   "metadata": {
    "collapsed": false,
    "pycharm": {
     "name": "#%%\n"
    }
   }
  },
  {
   "cell_type": "markdown",
   "source": [
    "### Now word tokenization"
   ],
   "metadata": {
    "collapsed": false,
    "pycharm": {
     "name": "#%% md\n"
    }
   }
  },
  {
   "cell_type": "code",
   "execution_count": 13,
   "outputs": [],
   "source": [
    "test_sent = \"这里的问题也不在于物怎样来满足人的需要，是作为生活资料即消费品来直接满足，还是作为生产资料来间接满足。\""
   ],
   "metadata": {
    "collapsed": false,
    "pycharm": {
     "name": "#%%\n"
    }
   }
  },
  {
   "cell_type": "code",
   "execution_count": 15,
   "outputs": [],
   "source": [
    "result = nlp_zh(test_sent)"
   ],
   "metadata": {
    "collapsed": false,
    "pycharm": {
     "name": "#%%\n"
    }
   }
  },
  {
   "cell_type": "code",
   "execution_count": 17,
   "outputs": [
    {
     "name": "stdout",
     "output_type": "stream",
     "text": [
      "这里\n",
      "的\n",
      "问题\n",
      "也\n",
      "不\n",
      "在于\n",
      "物\n",
      "怎样\n",
      "来\n",
      "满足人\n",
      "的\n",
      "需要\n",
      "，\n",
      "是\n",
      "作为\n",
      "生活\n",
      "资料\n",
      "即\n",
      "消费品\n",
      "来\n",
      "直接\n",
      "满足\n",
      "，\n",
      "还是\n",
      "作为\n",
      "生产\n",
      "资料\n",
      "来\n",
      "间接\n",
      "满足\n",
      "。\n"
     ]
    }
   ],
   "source": [
    "for cur_token in result:\n",
    "    print(cur_token)"
   ],
   "metadata": {
    "collapsed": false,
    "pycharm": {
     "name": "#%%\n"
    }
   }
  },
  {
   "cell_type": "code",
   "execution_count": null,
   "outputs": [],
   "source": [],
   "metadata": {
    "collapsed": false,
    "pycharm": {
     "name": "#%%\n"
    }
   }
  }
 ],
 "metadata": {
  "kernelspec": {
   "display_name": "Python 3",
   "language": "python",
   "name": "python3"
  },
  "language_info": {
   "codemirror_mode": {
    "name": "ipython",
    "version": 2
   },
   "file_extension": ".py",
   "mimetype": "text/x-python",
   "name": "python",
   "nbconvert_exporter": "python",
   "pygments_lexer": "ipython2",
   "version": "2.7.6"
  }
 },
 "nbformat": 4,
 "nbformat_minor": 0
}