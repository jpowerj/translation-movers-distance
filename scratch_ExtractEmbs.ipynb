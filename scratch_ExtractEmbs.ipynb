{
 "cells": [
  {
   "cell_type": "code",
   "execution_count": 1,
   "metadata": {
    "collapsed": true
   },
   "outputs": [],
   "source": [
    "%load_ext autoreload\n",
    "%autoreload 2"
   ]
  },
  {
   "cell_type": "code",
   "execution_count": 2,
   "outputs": [],
   "source": [
    "import gzip\n",
    "\n",
    "import numpy as np\n",
    "import gensim.models.keyedvectors"
   ],
   "metadata": {
    "collapsed": false,
    "pycharm": {
     "name": "#%%\n"
    }
   }
  },
  {
   "cell_type": "code",
   "execution_count": 3,
   "outputs": [],
   "source": [
    "def read_gz_lines(gz_fpath, start=0, end=None, keyvec_format=True, verbose=False):\n",
    "    vprint = print if verbose else lambda x: None\n",
    "    if keyvec_format:\n",
    "        keys = []\n",
    "        vecs = []\n",
    "    else:\n",
    "        lines = []\n",
    "    with gzip.open(gz_fpath, 'rb') as infile:\n",
    "        for line_num, line in enumerate(infile):\n",
    "            # If we're not at start yet, just read and continue\n",
    "            if line_num < start:\n",
    "                continue\n",
    "            if end and line_num > end:\n",
    "                break\n",
    "            if line_num % 100000 == 0:\n",
    "                vprint(f\"On line {line_num}\")\n",
    "            # If we're here, we're at start, so start saving the lines\n",
    "            cur_line = infile.readline().decode().strip()\n",
    "            if len(cur_line) == 0:\n",
    "                # Empty line, just continue\n",
    "                continue\n",
    "            if keyvec_format:\n",
    "                line_elts = cur_line.split()\n",
    "                key = line_elts[0]\n",
    "                keys.append(key)\n",
    "                vec = np.array([float(x) for x in line_elts[1:]])\n",
    "                vecs.append(vec)\n",
    "            else:\n",
    "                lines.append(cur_line)\n",
    "    if keyvec_format:\n",
    "        return keys, vecs\n",
    "    return lines"
   ],
   "metadata": {
    "collapsed": false,
    "pycharm": {
     "name": "#%%\n"
    }
   }
  },
  {
   "cell_type": "code",
   "execution_count": 4,
   "outputs": [],
   "source": [
    "#start = 180000\n",
    "#num_to_load = 100\n",
    "#end = start + num_to_load\n",
    "#lines = read_gz_lines(gz_fpath, start=start, end=end)"
   ],
   "metadata": {
    "collapsed": false,
    "pycharm": {
     "name": "#%%\n"
    }
   }
  },
  {
   "cell_type": "code",
   "execution_count": 5,
   "outputs": [],
   "source": [
    "langs_to_keep = [\"am\",\"de\",\"en\",\"ru\",\"vi\",\"zh\"] # though, it doesn't have am :/"
   ],
   "metadata": {
    "collapsed": false,
    "pycharm": {
     "name": "#%%\n"
    }
   }
  },
  {
   "cell_type": "code",
   "execution_count": 6,
   "outputs": [],
   "source": [
    "gz_fpath = \"../Embeddings/numberbatch-19.08.txt.gz\""
   ],
   "metadata": {
    "collapsed": false,
    "pycharm": {
     "name": "#%%\n"
    }
   }
  },
  {
   "cell_type": "code",
   "execution_count": 7,
   "outputs": [
    {
     "name": "stdout",
     "output_type": "stream",
     "text": [
      "On line 0\n",
      "On line 1000000\n",
      "On line 2000000\n",
      "On line 3000000\n",
      "On line 4000000\n",
      "On line 5000000\n",
      "On line 6000000\n",
      "On line 7000000\n",
      "On line 8000000\n",
      "On line 9000000\n"
     ]
    }
   ],
   "source": [
    "# We want to load just the /en and /zh lines\n",
    "all_langs = []\n",
    "all_lines = []\n",
    "counter = 0\n",
    "with gzip.open(gz_fpath, 'rb') as infile:\n",
    "    for line in infile:\n",
    "        if counter % 1000000 == 0:\n",
    "            print(f\"On line {counter}\")\n",
    "        # The first line of the whole file is just {total_num_embeddings} {dimension}\n",
    "        if counter == 0:\n",
    "            counter = counter + 1\n",
    "            continue\n",
    "        line_str = line.decode()\n",
    "        # First we get the lang code\n",
    "        line_elts = line_str.split()\n",
    "        emb_str = line_elts[0]\n",
    "        emb_elts = emb_str.split(\"/\")\n",
    "        # First elt is blank, second is \"c\", third is the lang, and 4th is the word\n",
    "        lang_str = emb_elts[2]\n",
    "        # If we've never encountered this lang before, add it to all_langs\n",
    "        if lang_str not in all_langs:\n",
    "            all_langs.append(lang_str)\n",
    "        if lang_str in langs_to_keep:\n",
    "            all_lines.append(line_str)\n",
    "        counter = counter + 1"
   ],
   "metadata": {
    "collapsed": false,
    "pycharm": {
     "name": "#%%\n"
    }
   }
  },
  {
   "cell_type": "code",
   "execution_count": 8,
   "outputs": [
    {
     "name": "stdout",
     "output_type": "stream",
     "text": [
      "{'lt', 'en', 'gd', 'ms', 'ang', 'sa', 'no', 'grc', 'cy', 'it', 'he', 'gv', 'sk', 'sw', 'ro', 'ko', 'kk', 'bg', 'fi', 'xcl', 'eu', 'uk', 'fa', 'el', 'tr', 'is', 'mul', 'ka', 'cs', 'pt', 'nl', 'ur', 'fr', 'hi', 'sv', 'io', 'lv', 'ku', 'ja', 'vo', 'hy', 'ru', 'ast', 'sh', 'ar', 'es', 'th', 'fo', 'mg', 'fro', 'nrf', 'la', 'be', 'ga', 'zh', 'mk', 'da', 'nv', 'pl', 'se', 'hu', 'vi', 'af', 'fil', 'az', 'et', 'ta', 'de', 'rup', 'non', 'sl', 'gl', 'hsb', 'oc', 'te', 'sq', 'ca', 'eo'}"
     ]
    }
   ],
   "source": [
    "print(set(all_langs), end=\"\")"
   ],
   "metadata": {
    "collapsed": false,
    "pycharm": {
     "name": "#%%\n"
    }
   }
  },
  {
   "cell_type": "code",
   "execution_count": 11,
   "outputs": [],
   "source": [
    "gz_output_fpath = \"../Embeddings/numberbatch_custom.txt\""
   ],
   "metadata": {
    "collapsed": false,
    "pycharm": {
     "name": "#%%\n"
    }
   }
  },
  {
   "cell_type": "code",
   "execution_count": 10,
   "outputs": [],
   "source": [
    "# Old: external gzip\n",
    "with open(gz_output_fpath, 'w', encoding='utf-8') as outfile:\n",
    "    outfile.writelines(all_lines)\n",
    "# And then go gzip it via cygwin"
   ],
   "metadata": {
    "collapsed": false,
    "pycharm": {
     "name": "#%%\n"
    }
   }
  },
  {
   "cell_type": "code",
   "execution_count": null,
   "outputs": [],
   "source": [
    "# New: gzip on the fly\n",
    "#with open(gz_output_fpath, 'wt', encoding='utf-8') as gz_outfile:\n",
    "#    gz_outfile.writelines(all_lines)"
   ],
   "metadata": {
    "collapsed": false,
    "pycharm": {
     "name": "#%%\n"
    }
   }
  },
  {
   "cell_type": "markdown",
   "source": [
    "### Trying for even more efficient: serialize the KeyedVectors object\n",
    "\n",
    "(*After* running gzip)"
   ],
   "metadata": {
    "collapsed": false,
    "pycharm": {
     "name": "#%% md\n"
    }
   }
  },
  {
   "cell_type": "code",
   "execution_count": 1,
   "outputs": [],
   "source": [
    "%load_ext autoreload\n",
    "%autoreload 2"
   ],
   "metadata": {
    "collapsed": false,
    "pycharm": {
     "name": "#%%\n"
    }
   }
  },
  {
   "cell_type": "code",
   "execution_count": 2,
   "outputs": [],
   "source": [
    "import gzip\n",
    "\n",
    "import numpy as np\n",
    "import gensim.models.keyedvectors\n",
    "from tqdm import tqdm"
   ],
   "metadata": {
    "collapsed": false,
    "pycharm": {
     "name": "#%%\n"
    }
   }
  },
  {
   "cell_type": "code",
   "execution_count": 3,
   "outputs": [],
   "source": [
    "xlang_model = gensim.models.keyedvectors.KeyedVectors(300)"
   ],
   "metadata": {
    "collapsed": false,
    "pycharm": {
     "name": "#%%\n"
    }
   }
  },
  {
   "cell_type": "code",
   "execution_count": 4,
   "outputs": [],
   "source": [
    "# Load the embs from the now-gzipped file\n",
    "#gz_fpath = \"../Embeddings/numberbatch_custom.txt.gz\"\n",
    "gz_fpath = \"../Embeddings/numberbatch-19.08.txt.gz\""
   ],
   "metadata": {
    "collapsed": false,
    "pycharm": {
     "name": "#%%\n"
    }
   }
  },
  {
   "cell_type": "code",
   "execution_count": 5,
   "outputs": [
    {
     "name": "stderr",
     "output_type": "stream",
     "text": [
      "9161913it [01:18, 117339.40it/s]\n"
     ]
    }
   ],
   "source": [
    "gz_lines = []\n",
    "with gzip.open(gz_fpath, 'rb') as infile:\n",
    "    for line in tqdm(infile):\n",
    "        gz_lines.append(line)"
   ],
   "metadata": {
    "collapsed": false,
    "pycharm": {
     "name": "#%%\n"
    }
   }
  },
  {
   "cell_type": "code",
   "execution_count": 6,
   "outputs": [
    {
     "data": {
      "text/plain": "9161913"
     },
     "execution_count": 6,
     "metadata": {},
     "output_type": "execute_result"
    }
   ],
   "source": [
    "len(gz_lines)"
   ],
   "metadata": {
    "collapsed": false,
    "pycharm": {
     "name": "#%%\n"
    }
   }
  },
  {
   "cell_type": "code",
   "execution_count": null,
   "outputs": [
    {
     "name": "stderr",
     "output_type": "stream",
     "text": [
      "  2%|▏         | 188853/9161913 [00:03<02:59, 49958.90it/s]"
     ]
    }
   ],
   "source": [
    "get_key = lambda x: x.split()[0]\n",
    "keys = [get_key(line.decode()) for line in tqdm(gz_lines)]"
   ],
   "metadata": {
    "collapsed": false,
    "pycharm": {
     "name": "#%%\n",
     "is_executing": true
    }
   }
  },
  {
   "cell_type": "code",
   "execution_count": 19,
   "outputs": [],
   "source": [
    "line_to_np = lambda gz_line: np.array([float(x) for x in gz_line.decode().split()[1:]])"
   ],
   "metadata": {
    "collapsed": false,
    "pycharm": {
     "name": "#%%\n"
    }
   }
  },
  {
   "cell_type": "code",
   "execution_count": 20,
   "outputs": [
    {
     "name": "stderr",
     "output_type": "stream",
     "text": [
      "100%|██████████| 1913806/1913806 [02:12<00:00, 14408.39it/s]\n"
     ]
    }
   ],
   "source": [
    "gz_np = [line_to_np(l) for l in tqdm(gz_lines)]"
   ],
   "metadata": {
    "collapsed": false,
    "pycharm": {
     "name": "#%%\n"
    }
   }
  },
  {
   "cell_type": "code",
   "execution_count": 20,
   "outputs": [],
   "source": [],
   "metadata": {
    "collapsed": false,
    "pycharm": {
     "name": "#%%\n"
    }
   }
  },
  {
   "cell_type": "code",
   "execution_count": 20,
   "outputs": [],
   "source": [],
   "metadata": {
    "collapsed": false,
    "pycharm": {
     "name": "#%%\n"
    }
   }
  },
  {
   "cell_type": "code",
   "execution_count": 21,
   "outputs": [],
   "source": [
    "xlang_model.add_vectors(keys, gz_np)"
   ],
   "metadata": {
    "collapsed": false,
    "pycharm": {
     "name": "#%%\n"
    }
   }
  },
  {
   "cell_type": "code",
   "execution_count": 22,
   "outputs": [],
   "source": [
    "xlang_model.save(\"xlang_model.kv\")"
   ],
   "metadata": {
    "collapsed": false,
    "pycharm": {
     "name": "#%%\n"
    }
   }
  },
  {
   "cell_type": "code",
   "execution_count": 23,
   "outputs": [
    {
     "data": {
      "text/plain": "1913806"
     },
     "execution_count": 23,
     "metadata": {},
     "output_type": "execute_result"
    }
   ],
   "source": [
    "len(xlang_model.key_to_index)"
   ],
   "metadata": {
    "collapsed": false,
    "pycharm": {
     "name": "#%%\n"
    }
   }
  },
  {
   "cell_type": "code",
   "execution_count": 24,
   "outputs": [
    {
     "data": {
      "text/plain": "True"
     },
     "execution_count": 24,
     "metadata": {},
     "output_type": "execute_result"
    }
   ],
   "source": [
    "\"/c/en/yes\" in xlang_model.key_to_index"
   ],
   "metadata": {
    "collapsed": false,
    "pycharm": {
     "name": "#%%\n"
    }
   }
  },
  {
   "cell_type": "code",
   "execution_count": 25,
   "outputs": [
    {
     "data": {
      "text/plain": "['/c/de/warenumschlages',\n '/c/de/warenumschlags',\n '/c/de/warenumschlagskredit',\n '/c/de/warenumschläge',\n '/c/de/warenumschlägen',\n '/c/de/warenuntersuchung',\n '/c/de/warenursprung',\n '/c/de/warenverfügbarkeits_garantie',\n '/c/de/warenverkauf',\n '/c/de/warenverkaufe']"
     },
     "execution_count": 25,
     "metadata": {},
     "output_type": "execute_result"
    }
   ],
   "source": [
    "start = 553620\n",
    "list(xlang_model.key_to_index.keys())[start:start+10]"
   ],
   "metadata": {
    "collapsed": false,
    "pycharm": {
     "name": "#%%\n"
    }
   }
  },
  {
   "cell_type": "code",
   "execution_count": 26,
   "outputs": [
    {
     "data": {
      "text/plain": "True"
     },
     "execution_count": 26,
     "metadata": {},
     "output_type": "execute_result"
    }
   ],
   "source": [
    "'/c/en/weird' in xlang_model.key_to_index"
   ],
   "metadata": {
    "collapsed": false,
    "pycharm": {
     "name": "#%%\n"
    }
   }
  },
  {
   "cell_type": "code",
   "execution_count": 27,
   "outputs": [
    {
     "data": {
      "text/plain": "True"
     },
     "execution_count": 27,
     "metadata": {},
     "output_type": "execute_result"
    }
   ],
   "source": [
    "'/c/en/yes_no' in xlang_model"
   ],
   "metadata": {
    "collapsed": false,
    "pycharm": {
     "name": "#%%\n"
    }
   }
  },
  {
   "cell_type": "markdown",
   "source": [
    "### New version, with the language-separated files\n",
    "\n",
    "From https://zenodo.org/record/4911598"
   ],
   "metadata": {
    "collapsed": false,
    "pycharm": {
     "name": "#%% md\n"
    }
   }
  },
  {
   "cell_type": "code",
   "execution_count": 1,
   "outputs": [],
   "source": [
    "import zipfile"
   ],
   "metadata": {
    "collapsed": false,
    "pycharm": {
     "name": "#%%\n"
    }
   }
  },
  {
   "cell_type": "code",
   "execution_count": 4,
   "outputs": [],
   "source": [
    "def extract_zip(zip_fpath):\n",
    "    input_zip = zipfile.ZipFile(zip_fpath)\n",
    "    return {name: input_zip.read(name) for name in input_zip.namelist()}"
   ],
   "metadata": {
    "collapsed": false,
    "pycharm": {
     "name": "#%%\n"
    }
   }
  },
  {
   "cell_type": "code",
   "execution_count": 36,
   "outputs": [],
   "source": [
    "vi_fpath = \"../Embeddings/numberbatch-19.08-vi.zip\"\n",
    "vi_extracted_fpath = \"../Embeddings/numberbatch-19.08-vi/numberbatch-19.08-vi.bin\""
   ],
   "metadata": {
    "collapsed": false,
    "pycharm": {
     "name": "#%%\n"
    }
   }
  },
  {
   "cell_type": "code",
   "execution_count": 32,
   "outputs": [],
   "source": [
    "#with zipfile.ZipFile(de_fpath) as myzip:\n",
    "#    with myzip.open('numberbatch-19.08-vi.bin', 'r') as myfile:\n",
    "#        result = myfile.read()"
   ],
   "metadata": {
    "collapsed": false,
    "pycharm": {
     "name": "#%%\n"
    }
   }
  },
  {
   "cell_type": "code",
   "execution_count": 74,
   "outputs": [],
   "source": [
    "import os\n",
    "\n",
    "import gensim"
   ],
   "metadata": {
    "collapsed": false,
    "pycharm": {
     "name": "#%%\n"
    }
   }
  },
  {
   "cell_type": "code",
   "execution_count": 75,
   "outputs": [],
   "source": [
    "lang = \"it\"\n",
    "zip_fpath = f\"../Embeddings/numberbatch-19.08-{lang}.zip\""
   ],
   "metadata": {
    "collapsed": false,
    "pycharm": {
     "name": "#%%\n"
    }
   }
  },
  {
   "cell_type": "code",
   "execution_count": 76,
   "outputs": [],
   "source": [
    "with zipfile.ZipFile(zip_fpath) as myzip:\n",
    "    bin_fname = f\"numberbatch-19.08-{lang}.bin\"\n",
    "    extracted_fpath = myzip.extract(bin_fname)"
   ],
   "metadata": {
    "collapsed": false,
    "pycharm": {
     "name": "#%%\n"
    }
   }
  },
  {
   "cell_type": "code",
   "execution_count": 77,
   "outputs": [],
   "source": [
    "lang_model = gensim.models.KeyedVectors.load_word2vec_format(extracted_fpath, binary=True)"
   ],
   "metadata": {
    "collapsed": false,
    "pycharm": {
     "name": "#%%\n"
    }
   }
  },
  {
   "cell_type": "code",
   "execution_count": 78,
   "outputs": [],
   "source": [
    "lang_model.save(f\"./nb_models/nb_{lang}.kv\")"
   ],
   "metadata": {
    "collapsed": false,
    "pycharm": {
     "name": "#%%\n"
    }
   }
  },
  {
   "cell_type": "code",
   "execution_count": 79,
   "outputs": [],
   "source": [
    "# And now we can delete the extracted .bin file\n",
    "os.remove(extracted_fpath)"
   ],
   "metadata": {
    "collapsed": false,
    "pycharm": {
     "name": "#%%\n"
    }
   }
  },
  {
   "cell_type": "code",
   "execution_count": null,
   "outputs": [],
   "source": [],
   "metadata": {
    "collapsed": false,
    "pycharm": {
     "name": "#%%\n"
    }
   }
  },
  {
   "cell_type": "code",
   "execution_count": null,
   "outputs": [],
   "source": [],
   "metadata": {
    "collapsed": false,
    "pycharm": {
     "name": "#%%\n"
    }
   }
  }
 ],
 "metadata": {
  "kernelspec": {
   "display_name": "Python 3",
   "language": "python",
   "name": "python3"
  },
  "language_info": {
   "codemirror_mode": {
    "name": "ipython",
    "version": 2
   },
   "file_extension": ".py",
   "mimetype": "text/x-python",
   "name": "python",
   "nbconvert_exporter": "python",
   "pygments_lexer": "ipython2",
   "version": "2.7.6"
  }
 },
 "nbformat": 4,
 "nbformat_minor": 0
}