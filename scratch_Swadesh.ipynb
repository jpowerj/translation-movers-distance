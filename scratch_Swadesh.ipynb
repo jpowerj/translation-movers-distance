{
 "cells": [
  {
   "cell_type": "markdown",
   "metadata": {
    "collapsed": true,
    "pycharm": {
     "name": "#%% md\n"
    }
   },
   "source": [
    "## Compute the mean distances between Swadesh words for each lang\n",
    "\n",
    "(So that we can normalize the distances that the Numberbatch embeddings encode)"
   ]
  },
  {
   "cell_type": "code",
   "execution_count": 13,
   "metadata": {
    "pycharm": {
     "name": "#%%\n"
    }
   },
   "outputs": [],
   "source": [
    "%load_ext autoreload\n",
    "%autoreload 2"
   ]
  },
  {
   "cell_type": "code",
   "execution_count": 14,
   "metadata": {
    "pycharm": {
     "name": "#%%\n"
    }
   },
   "outputs": [],
   "source": [
    "import os\n",
    "\n",
    "import joblib\n",
    "import pandas as pd\n",
    "\n",
    "import trglobals"
   ]
  },
  {
   "cell_type": "code",
   "execution_count": 15,
   "outputs": [],
   "source": [
    "# The main path where most of the Swadesh lists are saved in .csv format\n",
    "swadesh_path = \"../data01_Raw/Swadesh_Lists_wiki\""
   ],
   "metadata": {
    "collapsed": false,
    "pycharm": {
     "name": "#%%\n"
    }
   }
  },
  {
   "cell_type": "code",
   "execution_count": 16,
   "outputs": [],
   "source": [
    "# The filename and column name for each language\n",
    "lang_data = {\n",
    "    \"de\": {'fname': \"deu_Latn.csv\", 'colname': \"deu_Latn\"},\n",
    "    \"el\": {'fname': \"ell_Grek.csv\", 'colname': \"ell\"},\n",
    "    \"en\": {'fname': \"eng_Latn.csv\", 'colname': \"eng\"},\n",
    "    \"it\": {'fname': \"ita_Latn.csv\", 'colname': \"ita\"},\n",
    "    \"ru\": {'fname': \"rus_Cyrl.csv\", 'colname': \"rus_Cyrl\"},\n",
    "    \"vi\": {'fname': \"vie_Latn.csv\", 'colname': \"vie\"},\n",
    "    \"zh\": {'fname': \"cmn_Hans.csv\", 'colname': \"cmn\"},\n",
    "}"
   ],
   "metadata": {
    "collapsed": false,
    "pycharm": {
     "name": "#%%\n"
    }
   }
  },
  {
   "cell_type": "code",
   "execution_count": 17,
   "outputs": [],
   "source": [
    "# This will map lang to the pd.Series for that lang\n",
    "swadesh_cols = {}"
   ],
   "metadata": {
    "collapsed": false,
    "pycharm": {
     "name": "#%%\n"
    }
   }
  },
  {
   "cell_type": "code",
   "execution_count": 18,
   "outputs": [],
   "source": [
    "for cur_lang_code, cur_data in lang_data.items():\n",
    "    lang_fpath = os.path.join(swadesh_path, cur_data['fname'])\n",
    "    lang_df = pd.read_csv(lang_fpath)\n",
    "    lang_col = lang_df[cur_data['colname']]\n",
    "    swadesh_cols[cur_lang_code] = lang_col"
   ],
   "metadata": {
    "collapsed": false,
    "pycharm": {
     "name": "#%%\n"
    }
   }
  },
  {
   "cell_type": "code",
   "execution_count": 19,
   "outputs": [
    {
     "data": {
      "text/plain": "dict_keys(['de', 'el', 'en', 'it', 'ru', 'vi', 'zh'])"
     },
     "execution_count": 19,
     "metadata": {},
     "output_type": "execute_result"
    }
   ],
   "source": [
    "swadesh_cols.keys()"
   ],
   "metadata": {
    "collapsed": false,
    "pycharm": {
     "name": "#%%\n"
    }
   }
  },
  {
   "cell_type": "markdown",
   "source": [
    "### And combine them into one final df"
   ],
   "metadata": {
    "collapsed": false,
    "pycharm": {
     "name": "#%% md\n"
    }
   }
  },
  {
   "cell_type": "code",
   "execution_count": 20,
   "outputs": [],
   "source": [
    "final_df = pd.concat(swadesh_cols, axis=1)"
   ],
   "metadata": {
    "collapsed": false,
    "pycharm": {
     "name": "#%%\n"
    }
   }
  },
  {
   "cell_type": "code",
   "execution_count": 21,
   "outputs": [],
   "source": [
    "col_to_langcode = {data['colname']: langcode for langcode, data in lang_data.items()}"
   ],
   "metadata": {
    "collapsed": false,
    "pycharm": {
     "name": "#%%\n"
    }
   }
  },
  {
   "cell_type": "code",
   "execution_count": 22,
   "outputs": [],
   "source": [
    "final_df.rename(columns=col_to_langcode, inplace=True)"
   ],
   "metadata": {
    "collapsed": false,
    "pycharm": {
     "name": "#%%\n"
    }
   }
  },
  {
   "cell_type": "code",
   "execution_count": 23,
   "outputs": [
    {
     "data": {
      "text/plain": "       de       el       en      it           ru        vi  zh\n0     ich     εγώ         I      io           я        tôi   我\n1      du     εσύ       you      tu          ты        tôi   你\n2      er   αυτός        he     lui          он     anh ấy   他\n3     wir   εμείς        we     noi          мы   chúng ta  我们\n4     ihr   εσείς       you     voi          вы    các bạn  你们\n..    ...      ...      ...     ...          ...       ...  ..\n202   mit      με      with     con           с        với   和\n203   und     και       and       e           и         và   和\n204  wenn     εάν        if      se        если        nếu  如果\n205  weil  επειδή   because  perché  потому что         vì  因为\n206  Name   όνομα      name    nome         имя        tên  名字\n\n[207 rows x 7 columns]",
      "text/html": "<div>\n<style scoped>\n    .dataframe tbody tr th:only-of-type {\n        vertical-align: middle;\n    }\n\n    .dataframe tbody tr th {\n        vertical-align: top;\n    }\n\n    .dataframe thead th {\n        text-align: right;\n    }\n</style>\n<table border=\"1\" class=\"dataframe\">\n  <thead>\n    <tr style=\"text-align: right;\">\n      <th></th>\n      <th>de</th>\n      <th>el</th>\n      <th>en</th>\n      <th>it</th>\n      <th>ru</th>\n      <th>vi</th>\n      <th>zh</th>\n    </tr>\n  </thead>\n  <tbody>\n    <tr>\n      <th>0</th>\n      <td>ich</td>\n      <td>εγώ</td>\n      <td>I</td>\n      <td>io</td>\n      <td>я</td>\n      <td>tôi</td>\n      <td>我</td>\n    </tr>\n    <tr>\n      <th>1</th>\n      <td>du</td>\n      <td>εσύ</td>\n      <td>you</td>\n      <td>tu</td>\n      <td>ты</td>\n      <td>tôi</td>\n      <td>你</td>\n    </tr>\n    <tr>\n      <th>2</th>\n      <td>er</td>\n      <td>αυτός</td>\n      <td>he</td>\n      <td>lui</td>\n      <td>он</td>\n      <td>anh ấy</td>\n      <td>他</td>\n    </tr>\n    <tr>\n      <th>3</th>\n      <td>wir</td>\n      <td>εμείς</td>\n      <td>we</td>\n      <td>noi</td>\n      <td>мы</td>\n      <td>chúng ta</td>\n      <td>我们</td>\n    </tr>\n    <tr>\n      <th>4</th>\n      <td>ihr</td>\n      <td>εσείς</td>\n      <td>you</td>\n      <td>voi</td>\n      <td>вы</td>\n      <td>các bạn</td>\n      <td>你们</td>\n    </tr>\n    <tr>\n      <th>...</th>\n      <td>...</td>\n      <td>...</td>\n      <td>...</td>\n      <td>...</td>\n      <td>...</td>\n      <td>...</td>\n      <td>...</td>\n    </tr>\n    <tr>\n      <th>202</th>\n      <td>mit</td>\n      <td>με</td>\n      <td>with</td>\n      <td>con</td>\n      <td>с</td>\n      <td>với</td>\n      <td>和</td>\n    </tr>\n    <tr>\n      <th>203</th>\n      <td>und</td>\n      <td>και</td>\n      <td>and</td>\n      <td>e</td>\n      <td>и</td>\n      <td>và</td>\n      <td>和</td>\n    </tr>\n    <tr>\n      <th>204</th>\n      <td>wenn</td>\n      <td>εάν</td>\n      <td>if</td>\n      <td>se</td>\n      <td>если</td>\n      <td>nếu</td>\n      <td>如果</td>\n    </tr>\n    <tr>\n      <th>205</th>\n      <td>weil</td>\n      <td>επειδή</td>\n      <td>because</td>\n      <td>perché</td>\n      <td>потому что</td>\n      <td>vì</td>\n      <td>因为</td>\n    </tr>\n    <tr>\n      <th>206</th>\n      <td>Name</td>\n      <td>όνομα</td>\n      <td>name</td>\n      <td>nome</td>\n      <td>имя</td>\n      <td>tên</td>\n      <td>名字</td>\n    </tr>\n  </tbody>\n</table>\n<p>207 rows × 7 columns</p>\n</div>"
     },
     "execution_count": 23,
     "metadata": {},
     "output_type": "execute_result"
    }
   ],
   "source": [
    "final_df"
   ],
   "metadata": {
    "collapsed": false,
    "pycharm": {
     "name": "#%%\n"
    }
   }
  },
  {
   "cell_type": "code",
   "source": [
    "final_fpath = \"./lang_stats/swadesh_full.csv\"\n",
    "final_df.to_csv(final_fpath, index=False)\n",
    "final_df.to_pickle(final_fpath.replace(\".csv\",\".pkl\"))\n",
    "print(f\"Saved to {final_fpath}\")"
   ],
   "metadata": {
    "collapsed": false,
    "pycharm": {
     "name": "#%%\n"
    }
   },
   "execution_count": 24,
   "outputs": [
    {
     "name": "stdout",
     "output_type": "stream",
     "text": [
      "Saved to ./lang_stats/swadesh_full.csv\n"
     ]
    }
   ]
  },
  {
   "cell_type": "code",
   "execution_count": 25,
   "outputs": [],
   "source": [
    "def gen_pair_map(final_df, lang1, lang2):\n",
    "    # Hmm... I guess it's most efficient to use dicts\n",
    "    pair_recs = final_df[[lang1,lang2]].to_dict(orient='records')\n",
    "    pair_dict = {rec[lang1].strip(): rec[lang2].strip() for rec in pair_recs}\n",
    "    pkl_fpath = f\"./lang_stats/swadesh_{lang1}_{lang2}.pkl\"\n",
    "    joblib.dump(pair_dict, pkl_fpath)\n",
    "    return pkl_fpath"
   ],
   "metadata": {
    "collapsed": false,
    "pycharm": {
     "name": "#%%\n"
    }
   }
  },
  {
   "cell_type": "code",
   "source": [
    "gen_pair_map(final_df, \"de\", \"en\")"
   ],
   "metadata": {
    "collapsed": false,
    "pycharm": {
     "name": "#%%\n"
    }
   },
   "execution_count": 74,
   "outputs": [
    {
     "data": {
      "text/plain": "'./lang_stats/swadesh_de_en.pkl'"
     },
     "execution_count": 74,
     "metadata": {},
     "output_type": "execute_result"
    }
   ]
  },
  {
   "cell_type": "code",
   "execution_count": 75,
   "outputs": [
    {
     "data": {
      "text/plain": "'./lang_stats/swadesh_de_zh.pkl'"
     },
     "execution_count": 75,
     "metadata": {},
     "output_type": "execute_result"
    }
   ],
   "source": [
    "gen_pair_map(final_df, \"de\", \"zh\")"
   ],
   "metadata": {
    "collapsed": false,
    "pycharm": {
     "name": "#%%\n"
    }
   }
  },
  {
   "cell_type": "code",
   "execution_count": 76,
   "outputs": [
    {
     "data": {
      "text/plain": "'./lang_stats/swadesh_de_en.pkl'"
     },
     "execution_count": 76,
     "metadata": {},
     "output_type": "execute_result"
    }
   ],
   "source": [
    "gen_pair_map(final_df, \"de\", \"en\")"
   ],
   "metadata": {
    "collapsed": false,
    "pycharm": {
     "name": "#%%\n"
    }
   }
  },
  {
   "cell_type": "code",
   "execution_count": 77,
   "outputs": [
    {
     "data": {
      "text/plain": "'./lang_stats/swadesh_de_vi.pkl'"
     },
     "execution_count": 77,
     "metadata": {},
     "output_type": "execute_result"
    }
   ],
   "source": [
    "gen_pair_map(final_df, \"de\", \"vi\")"
   ],
   "metadata": {
    "collapsed": false,
    "pycharm": {
     "name": "#%%\n"
    }
   }
  },
  {
   "cell_type": "code",
   "execution_count": 78,
   "outputs": [
    {
     "data": {
      "text/plain": "'./lang_stats/swadesh_de_el.pkl'"
     },
     "execution_count": 78,
     "metadata": {},
     "output_type": "execute_result"
    }
   ],
   "source": [
    "gen_pair_map(final_df, \"de\", \"el\")"
   ],
   "metadata": {
    "collapsed": false,
    "pycharm": {
     "name": "#%%\n"
    }
   }
  },
  {
   "cell_type": "markdown",
   "source": [
    "Testing the trglobals implementation"
   ],
   "metadata": {
    "collapsed": false,
    "pycharm": {
     "name": "#%% md\n"
    }
   }
  },
  {
   "cell_type": "code",
   "execution_count": 24,
   "outputs": [],
   "source": [
    "result = trglobals.get_swadesh_map(\"de_ru\")"
   ],
   "metadata": {
    "collapsed": false,
    "pycharm": {
     "name": "#%%\n"
    }
   }
  },
  {
   "cell_type": "code",
   "execution_count": null,
   "outputs": [],
   "source": [
    "en_mean = final_df['de_en_dist'].mean()"
   ],
   "metadata": {
    "collapsed": false,
    "pycharm": {
     "name": "#%%\n"
    }
   }
  },
  {
   "cell_type": "code",
   "execution_count": null,
   "outputs": [],
   "source": [
    "en_zh_ratio = en_mean / zh_mean\n",
    "en_zh_ratio"
   ],
   "metadata": {
    "collapsed": false,
    "pycharm": {
     "name": "#%%\n"
    }
   }
  },
  {
   "cell_type": "code",
   "execution_count": null,
   "outputs": [],
   "source": [
    "en_zh_ratio * zh_mean"
   ],
   "metadata": {
    "collapsed": false,
    "pycharm": {
     "name": "#%%\n"
    }
   }
  },
  {
   "cell_type": "code",
   "execution_count": null,
   "outputs": [],
   "source": [
    "# Save for use in other files\n",
    "stat_path = os.path.join(\".\",\"lang_stats\")\n",
    "if not os.path.isdir(stat_path):\n",
    "    os.mkdir(stat_path)"
   ],
   "metadata": {
    "collapsed": false,
    "pycharm": {
     "name": "#%%\n"
    }
   }
  },
  {
   "cell_type": "code",
   "execution_count": null,
   "outputs": [],
   "source": [
    "ratio_fpath = os.path.join(stat_path, \"en_zh_ratio.pkl\")\n",
    "joblib.dump(en_zh_ratio, ratio_fpath)"
   ],
   "metadata": {
    "collapsed": false,
    "pycharm": {
     "name": "#%%\n"
    }
   }
  },
  {
   "cell_type": "code",
   "execution_count": null,
   "outputs": [],
   "source": [
    "final_df"
   ],
   "metadata": {
    "collapsed": false,
    "pycharm": {
     "name": "#%%\n"
    }
   }
  },
  {
   "cell_type": "markdown",
   "source": [
    "### Scratchwork, for tricky langs like Kazakh:"
   ],
   "metadata": {
    "collapsed": false,
    "pycharm": {
     "name": "#%% md\n"
    }
   }
  },
  {
   "cell_type": "code",
   "execution_count": 6,
   "outputs": [],
   "source": [
    "kk_fpath = \"../data01_raw/swadesh_lists_other/Kazakh_github.tsv\""
   ],
   "metadata": {
    "collapsed": false,
    "pycharm": {
     "name": "#%%\n"
    }
   }
  },
  {
   "cell_type": "code",
   "execution_count": 7,
   "outputs": [],
   "source": [
    "import pandas as pd"
   ],
   "metadata": {
    "collapsed": false,
    "pycharm": {
     "name": "#%%\n"
    }
   }
  },
  {
   "cell_type": "code",
   "execution_count": 8,
   "outputs": [],
   "source": [
    "kk_df = pd.read_csv(kk_fpath, delimiter=\"\\t\")"
   ],
   "metadata": {
    "collapsed": false,
    "pycharm": {
     "name": "#%%\n"
    }
   }
  },
  {
   "cell_type": "code",
   "execution_count": 11,
   "outputs": [],
   "source": [
    "kk_col = kk_df['kk_final']"
   ],
   "metadata": {
    "collapsed": false,
    "pycharm": {
     "name": "#%%\n"
    }
   }
  },
  {
   "cell_type": "code",
   "execution_count": 12,
   "outputs": [
    {
     "data": {
      "text/plain": "0      False\n1      False\n2      False\n3      False\n4      False\n       ...  \n202    False\n203    False\n204    False\n205    False\n206    False\nName: kk_final, Length: 207, dtype: bool"
     },
     "execution_count": 12,
     "metadata": {},
     "output_type": "execute_result"
    }
   ],
   "source": [
    "kk_col.str.contains(\",\")"
   ],
   "metadata": {
    "collapsed": false,
    "pycharm": {
     "name": "#%%\n"
    }
   }
  },
  {
   "cell_type": "code",
   "execution_count": 27,
   "outputs": [],
   "source": [
    "final_df['kk'] = kk_col"
   ],
   "metadata": {
    "collapsed": false,
    "pycharm": {
     "name": "#%%\n"
    }
   }
  },
  {
   "cell_type": "code",
   "execution_count": 28,
   "outputs": [
    {
     "data": {
      "text/plain": "       de       el       en      it           ru        vi  zh        kk\n0     ich     εγώ         I      io           я        tôi   我      мен \n1      du     εσύ       you      tu          ты        tôi   你       сен\n2      er   αυτός        he     lui          он     anh ấy   他       ол \n3     wir   εμείς        we     noi          мы   chúng ta  我们      бiз \n4     ihr   εσείς       you     voi          вы    các bạn  你们    сендер\n..    ...      ...      ...     ...          ...       ...  ..       ...\n202   mit      με      with     con           с        với   和       мен\n203   und     και       and       e           и         và   和      және\n204  wenn     εάν        if      se        если        nếu  如果      егер\n205  weil  επειδή   because  perché  потому что         vì  因为  өйткенi \n206  Name   όνομα      name    nome         имя        tên  名字        ат\n\n[207 rows x 8 columns]",
      "text/html": "<div>\n<style scoped>\n    .dataframe tbody tr th:only-of-type {\n        vertical-align: middle;\n    }\n\n    .dataframe tbody tr th {\n        vertical-align: top;\n    }\n\n    .dataframe thead th {\n        text-align: right;\n    }\n</style>\n<table border=\"1\" class=\"dataframe\">\n  <thead>\n    <tr style=\"text-align: right;\">\n      <th></th>\n      <th>de</th>\n      <th>el</th>\n      <th>en</th>\n      <th>it</th>\n      <th>ru</th>\n      <th>vi</th>\n      <th>zh</th>\n      <th>kk</th>\n    </tr>\n  </thead>\n  <tbody>\n    <tr>\n      <th>0</th>\n      <td>ich</td>\n      <td>εγώ</td>\n      <td>I</td>\n      <td>io</td>\n      <td>я</td>\n      <td>tôi</td>\n      <td>我</td>\n      <td>мен</td>\n    </tr>\n    <tr>\n      <th>1</th>\n      <td>du</td>\n      <td>εσύ</td>\n      <td>you</td>\n      <td>tu</td>\n      <td>ты</td>\n      <td>tôi</td>\n      <td>你</td>\n      <td>сен</td>\n    </tr>\n    <tr>\n      <th>2</th>\n      <td>er</td>\n      <td>αυτός</td>\n      <td>he</td>\n      <td>lui</td>\n      <td>он</td>\n      <td>anh ấy</td>\n      <td>他</td>\n      <td>ол</td>\n    </tr>\n    <tr>\n      <th>3</th>\n      <td>wir</td>\n      <td>εμείς</td>\n      <td>we</td>\n      <td>noi</td>\n      <td>мы</td>\n      <td>chúng ta</td>\n      <td>我们</td>\n      <td>бiз</td>\n    </tr>\n    <tr>\n      <th>4</th>\n      <td>ihr</td>\n      <td>εσείς</td>\n      <td>you</td>\n      <td>voi</td>\n      <td>вы</td>\n      <td>các bạn</td>\n      <td>你们</td>\n      <td>сендер</td>\n    </tr>\n    <tr>\n      <th>...</th>\n      <td>...</td>\n      <td>...</td>\n      <td>...</td>\n      <td>...</td>\n      <td>...</td>\n      <td>...</td>\n      <td>...</td>\n      <td>...</td>\n    </tr>\n    <tr>\n      <th>202</th>\n      <td>mit</td>\n      <td>με</td>\n      <td>with</td>\n      <td>con</td>\n      <td>с</td>\n      <td>với</td>\n      <td>和</td>\n      <td>мен</td>\n    </tr>\n    <tr>\n      <th>203</th>\n      <td>und</td>\n      <td>και</td>\n      <td>and</td>\n      <td>e</td>\n      <td>и</td>\n      <td>và</td>\n      <td>和</td>\n      <td>және</td>\n    </tr>\n    <tr>\n      <th>204</th>\n      <td>wenn</td>\n      <td>εάν</td>\n      <td>if</td>\n      <td>se</td>\n      <td>если</td>\n      <td>nếu</td>\n      <td>如果</td>\n      <td>егер</td>\n    </tr>\n    <tr>\n      <th>205</th>\n      <td>weil</td>\n      <td>επειδή</td>\n      <td>because</td>\n      <td>perché</td>\n      <td>потому что</td>\n      <td>vì</td>\n      <td>因为</td>\n      <td>өйткенi</td>\n    </tr>\n    <tr>\n      <th>206</th>\n      <td>Name</td>\n      <td>όνομα</td>\n      <td>name</td>\n      <td>nome</td>\n      <td>имя</td>\n      <td>tên</td>\n      <td>名字</td>\n      <td>ат</td>\n    </tr>\n  </tbody>\n</table>\n<p>207 rows × 8 columns</p>\n</div>"
     },
     "execution_count": 28,
     "metadata": {},
     "output_type": "execute_result"
    }
   ],
   "source": [
    "final_df"
   ],
   "metadata": {
    "collapsed": false,
    "pycharm": {
     "name": "#%%\n"
    }
   }
  },
  {
   "cell_type": "code",
   "execution_count": 29,
   "outputs": [
    {
     "data": {
      "text/plain": "'./lang_stats/swadesh_de_kk.pkl'"
     },
     "execution_count": 29,
     "metadata": {},
     "output_type": "execute_result"
    }
   ],
   "source": [
    "gen_pair_map(final_df, 'de', 'kk')"
   ],
   "metadata": {
    "collapsed": false,
    "pycharm": {
     "name": "#%%\n"
    }
   }
  },
  {
   "cell_type": "code",
   "execution_count": null,
   "outputs": [],
   "source": [],
   "metadata": {
    "collapsed": false,
    "pycharm": {
     "name": "#%%\n"
    }
   }
  }
 ],
 "metadata": {
  "kernelspec": {
   "display_name": "Python 3 (ipykernel)",
   "language": "python",
   "name": "python3"
  },
  "language_info": {
   "codemirror_mode": {
    "name": "ipython",
    "version": 3
   },
   "file_extension": ".py",
   "mimetype": "text/x-python",
   "name": "python",
   "nbconvert_exporter": "python",
   "pygments_lexer": "ipython3",
   "version": "3.10.4"
  }
 },
 "nbformat": 4,
 "nbformat_minor": 1
}