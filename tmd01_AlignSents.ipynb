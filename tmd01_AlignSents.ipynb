{
 "cells": [
  {
   "cell_type": "markdown",
   "source": [
    "## Use LFAlign to align the two texts"
   ],
   "metadata": {
    "collapsed": false,
    "pycharm": {
     "name": "#%% md\n"
    }
   }
  },
  {
   "cell_type": "markdown",
   "source": [
    "Important note here: LFAlign checks for nonbreaking prefixes for the desired langs within the folder:\n",
    "\n",
    "`SentenceAligner\\scripts\\sentence_splitter\\nonbreaking_prefixes\\`\n",
    "\n",
    "Currently they have: bg, ca, cs, de, el, en, es, et, fr, hu, is, it, nl, pl, pt, ro, ru, sk, sl, sv"
   ],
   "metadata": {
    "collapsed": false,
    "pycharm": {
     "name": "#%% md\n"
    }
   }
  },
  {
   "cell_type": "code",
   "execution_count": 49,
   "outputs": [
    {
     "name": "stdout",
     "output_type": "stream",
     "text": [
      "The autoreload extension is already loaded. To reload it, use:\n",
      "  %reload_ext autoreload\n"
     ]
    }
   ],
   "source": [
    "%load_ext autoreload\n",
    "%autoreload 2"
   ],
   "metadata": {
    "collapsed": false,
    "pycharm": {
     "name": "#%%\n"
    }
   }
  },
  {
   "cell_type": "code",
   "execution_count": 50,
   "outputs": [],
   "source": [
    "#!pip install git+https://github.com/rsennrich/Bleualign.git"
   ],
   "metadata": {
    "collapsed": false,
    "pycharm": {
     "name": "#%%\n"
    }
   }
  },
  {
   "cell_type": "code",
   "execution_count": 51,
   "outputs": [],
   "source": [
    "import bleualign"
   ],
   "metadata": {
    "collapsed": false,
    "pycharm": {
     "name": "#%%\n"
    }
   }
  },
  {
   "cell_type": "code",
   "execution_count": 52,
   "outputs": [],
   "source": [
    "import glob\n",
    "import itertools\n",
    "import os\n",
    "import pathlib\n",
    "import shutil\n",
    "import subprocess\n",
    "\n",
    "from tqdm import tqdm\n",
    "\n",
    "import tmdglobals"
   ],
   "metadata": {
    "collapsed": false,
    "pycharm": {
     "name": "#%%\n"
    }
   }
  },
  {
   "cell_type": "code",
   "execution_count": 53,
   "outputs": [],
   "source": [
    "def output_logs(align_logs, output_fname):\n",
    "    log_path = \"./logs\"\n",
    "    if not os.path.isdir(log_path):\n",
    "        os.mkdir(log_path)\n",
    "    log_fpath = os.path.join(log_path, output_fname.replace(\".txt\",\"_log.txt\"))\n",
    "    with open(log_fpath, \"w\", encoding=\"utf-8\") as outfile:\n",
    "        for log_num, cur_log in enumerate(align_logs):\n",
    "            # (log_num starts at 0, whereas chapter numbers start at 1)\n",
    "            ch_num = log_num + 1\n",
    "            outfile.write(\"Chapter #\" + str(ch_num))\n",
    "            outfile.write(\"------------\")\n",
    "            outfile.write(cur_log.decode())\n",
    "    return log_fpath"
   ],
   "metadata": {
    "collapsed": false,
    "pycharm": {
     "name": "#%%\n"
    }
   }
  },
  {
   "cell_type": "code",
   "execution_count": 54,
   "outputs": [],
   "source": [
    "verbose = False\n",
    "vprint = print if verbose else lambda x: None"
   ],
   "metadata": {
    "collapsed": false,
    "pycharm": {
     "name": "#%%\n"
    }
   }
  },
  {
   "cell_type": "code",
   "execution_count": 55,
   "outputs": [],
   "source": [
    "doc1 = \"de_tge\"\n",
    "lang1 = tmdglobals.get_lang_code(doc1)\n",
    "doc2 = \"en_reitter\"\n",
    "lang2 = tmdglobals.get_lang_code(doc2)\n",
    "# This will be e.g. \"en_fowkes.de_tge\"\n",
    "alignment_code = tmdglobals.get_alignment_code(doc1, doc2)"
   ],
   "metadata": {
    "collapsed": false,
    "pycharm": {
     "name": "#%%\n"
    }
   }
  },
  {
   "cell_type": "code",
   "execution_count": 56,
   "outputs": [
    {
     "data": {
      "text/plain": "[('a', '1'), ('b', '2'), ('c', '3')]"
     },
     "execution_count": 56,
     "metadata": {},
     "output_type": "execute_result"
    }
   ],
   "source": [
    "x = ['a','b','c']\n",
    "y = ['1','2','3']\n",
    "list(zip(x,y))"
   ],
   "metadata": {
    "collapsed": false,
    "pycharm": {
     "name": "#%%\n"
    }
   }
  },
  {
   "cell_type": "code",
   "execution_count": 57,
   "outputs": [
    {
     "name": "stdout",
     "output_type": "stream",
     "text": [
      "[('..\\\\Texts\\\\ThirdGermanEdition\\\\cleaned\\\\ch01_clean.de_tge.txt', '..\\\\Texts\\\\Reitter\\\\cleaned\\\\ch01_clean.en_reitter.txt'), ('..\\\\Texts\\\\ThirdGermanEdition\\\\cleaned\\\\ch02_clean.de_tge.txt', '..\\\\Texts\\\\Reitter\\\\cleaned\\\\ch02_clean.en_reitter.txt'), ('..\\\\Texts\\\\ThirdGermanEdition\\\\cleaned\\\\ch03_clean.de_tge.txt', '..\\\\Texts\\\\Reitter\\\\cleaned\\\\ch03_clean.en_reitter.txt'), ('..\\\\Texts\\\\ThirdGermanEdition\\\\cleaned\\\\ch04_clean.de_tge.txt', '..\\\\Texts\\\\Reitter\\\\cleaned\\\\ch04_clean.en_reitter.txt'), ('..\\\\Texts\\\\ThirdGermanEdition\\\\cleaned\\\\ch05_clean.de_tge.txt', '..\\\\Texts\\\\Reitter\\\\cleaned\\\\ch05_clean.en_reitter.txt'), ('..\\\\Texts\\\\ThirdGermanEdition\\\\cleaned\\\\ch06_clean.de_tge.txt', '..\\\\Texts\\\\Reitter\\\\cleaned\\\\ch06_clean.en_reitter.txt'), ('..\\\\Texts\\\\ThirdGermanEdition\\\\cleaned\\\\ch07_clean.de_tge.txt', '..\\\\Texts\\\\Reitter\\\\cleaned\\\\ch07_clean.en_reitter.txt'), ('..\\\\Texts\\\\ThirdGermanEdition\\\\cleaned\\\\ch08_clean.de_tge.txt', '..\\\\Texts\\\\Reitter\\\\cleaned\\\\ch08_clean.en_reitter.txt'), ('..\\\\Texts\\\\ThirdGermanEdition\\\\cleaned\\\\ch09_clean.de_tge.txt', '..\\\\Texts\\\\Reitter\\\\cleaned\\\\ch09_clean.en_reitter.txt'), ('..\\\\Texts\\\\ThirdGermanEdition\\\\cleaned\\\\ch10_clean.de_tge.txt', '..\\\\Texts\\\\Reitter\\\\cleaned\\\\ch10_clean.en_reitter.txt'), ('..\\\\Texts\\\\ThirdGermanEdition\\\\cleaned\\\\ch11_clean.de_tge.txt', '..\\\\Texts\\\\Reitter\\\\cleaned\\\\ch11_clean.en_reitter.txt'), ('..\\\\Texts\\\\ThirdGermanEdition\\\\cleaned\\\\ch12_clean.de_tge.txt', '..\\\\Texts\\\\Reitter\\\\cleaned\\\\ch12_clean.en_reitter.txt'), ('..\\\\Texts\\\\ThirdGermanEdition\\\\cleaned\\\\ch13_clean.de_tge.txt', '..\\\\Texts\\\\Reitter\\\\cleaned\\\\ch13_clean.en_reitter.txt'), ('..\\\\Texts\\\\ThirdGermanEdition\\\\cleaned\\\\ch14_clean.de_tge.txt', '..\\\\Texts\\\\Reitter\\\\cleaned\\\\ch14_clean.en_reitter.txt'), ('..\\\\Texts\\\\ThirdGermanEdition\\\\cleaned\\\\ch15a_clean.de_tge.txt', '..\\\\Texts\\\\Reitter\\\\cleaned\\\\ch15a_clean.en_reitter.txt'), ('..\\\\Texts\\\\ThirdGermanEdition\\\\cleaned\\\\ch15b_clean.de_tge.txt', '..\\\\Texts\\\\Reitter\\\\cleaned\\\\ch15b_clean.en_reitter.txt'), ('..\\\\Texts\\\\ThirdGermanEdition\\\\cleaned\\\\ch16_clean.de_tge.txt', '..\\\\Texts\\\\Reitter\\\\cleaned\\\\ch16_clean.en_reitter.txt'), ('..\\\\Texts\\\\ThirdGermanEdition\\\\cleaned\\\\ch17_clean.de_tge.txt', '..\\\\Texts\\\\Reitter\\\\cleaned\\\\ch17_clean.en_reitter.txt'), ('..\\\\Texts\\\\ThirdGermanEdition\\\\cleaned\\\\ch18_clean.de_tge.txt', '..\\\\Texts\\\\Reitter\\\\cleaned\\\\ch18_clean.en_reitter.txt'), ('..\\\\Texts\\\\ThirdGermanEdition\\\\cleaned\\\\ch19_clean.de_tge.txt', '..\\\\Texts\\\\Reitter\\\\cleaned\\\\ch19_clean.en_reitter.txt'), ('..\\\\Texts\\\\ThirdGermanEdition\\\\cleaned\\\\ch20_clean.de_tge.txt', '..\\\\Texts\\\\Reitter\\\\cleaned\\\\ch20_clean.en_reitter.txt'), ('..\\\\Texts\\\\ThirdGermanEdition\\\\cleaned\\\\ch21_clean.de_tge.txt', '..\\\\Texts\\\\Reitter\\\\cleaned\\\\ch21_clean.en_reitter.txt'), ('..\\\\Texts\\\\ThirdGermanEdition\\\\cleaned\\\\ch22_clean.de_tge.txt', '..\\\\Texts\\\\Reitter\\\\cleaned\\\\ch22_clean.en_reitter.txt'), ('..\\\\Texts\\\\ThirdGermanEdition\\\\cleaned\\\\ch23_clean.de_tge.txt', '..\\\\Texts\\\\Reitter\\\\cleaned\\\\ch23_clean.en_reitter.txt'), ('..\\\\Texts\\\\ThirdGermanEdition\\\\cleaned\\\\ch24_clean.de_tge.txt', '..\\\\Texts\\\\Reitter\\\\cleaned\\\\ch24_clean.en_reitter.txt'), ('..\\\\Texts\\\\ThirdGermanEdition\\\\cleaned\\\\ch25_clean.de_tge.txt', '..\\\\Texts\\\\Reitter\\\\cleaned\\\\ch25_clean.en_reitter.txt'), ('..\\\\Texts\\\\ThirdGermanEdition\\\\cleaned\\\\ch26_clean.de_tge.txt', '..\\\\Texts\\\\Reitter\\\\cleaned\\\\ch26_clean.en_reitter.txt'), ('..\\\\Texts\\\\ThirdGermanEdition\\\\cleaned\\\\ch27_clean.de_tge.txt', '..\\\\Texts\\\\Reitter\\\\cleaned\\\\ch27_clean.en_reitter.txt'), ('..\\\\Texts\\\\ThirdGermanEdition\\\\cleaned\\\\ch28_clean.de_tge.txt', '..\\\\Texts\\\\Reitter\\\\cleaned\\\\ch28_clean.en_reitter.txt'), ('..\\\\Texts\\\\ThirdGermanEdition\\\\cleaned\\\\ch29_clean.de_tge.txt', '..\\\\Texts\\\\Reitter\\\\cleaned\\\\ch29_clean.en_reitter.txt'), ('..\\\\Texts\\\\ThirdGermanEdition\\\\cleaned\\\\ch30_clean.de_tge.txt', '..\\\\Texts\\\\Reitter\\\\cleaned\\\\ch30_clean.en_reitter.txt'), ('..\\\\Texts\\\\ThirdGermanEdition\\\\cleaned\\\\ch31_clean.de_tge.txt', '..\\\\Texts\\\\Reitter\\\\cleaned\\\\ch31_clean.en_reitter.txt'), ('..\\\\Texts\\\\ThirdGermanEdition\\\\cleaned\\\\ch32_clean.de_tge.txt', '..\\\\Texts\\\\Reitter\\\\cleaned\\\\ch32_clean.en_reitter.txt'), ('..\\\\Texts\\\\ThirdGermanEdition\\\\cleaned\\\\ch33_clean.de_tge.txt', '..\\\\Texts\\\\Reitter\\\\cleaned\\\\ch33_clean.en_reitter.txt')]\n"
     ]
    }
   ],
   "source": [
    "align_logs = []\n",
    "# First we have to construct the command-line argument we're going to pass\n",
    "# into LF Align\n",
    "d1_path = tmdglobals.get_cleaned_path(doc1)\n",
    "d1_fpaths = glob.glob(os.path.join(d1_path,\"*.txt\"))\n",
    "d2_path = tmdglobals.get_cleaned_path(doc2)\n",
    "d2_fpaths = glob.glob(os.path.join(d2_path, \"*.txt\"))\n",
    "print(list(zip(d1_fpaths, d2_fpaths)))"
   ],
   "metadata": {
    "collapsed": false,
    "pycharm": {
     "name": "#%%\n"
    }
   }
  },
  {
   "cell_type": "code",
   "execution_count": 59,
   "outputs": [],
   "source": [
    "def align_files(d1_fpath, d2_fpath, skip_if_exists=False):\n",
    "    d1_fname, d1_fname_prefix, d1_tr_code, d1_ch_name = tmdglobals.get_file_info(cur_d1_fpath)\n",
    "    d2_fname, d2_fname_prefix, d2_tr_code, d2_ch_name = tmdglobals.get_file_info(cur_d2_fpath)\n",
    "    #print(f\"Processing chapter {d1_ch_name}\")\n",
    "    # Make the blank text file that LF_align will write into\n",
    "    output_fname = f\"ch{d1_ch_name}.align.txt\"\n",
    "    output_fpath = os.path.join(alignment_path, output_fname)\n",
    "    # Check if it already exists, delete if so\n",
    "    if os.path.isfile(output_fpath):\n",
    "        os.remove(output_fpath)\n",
    "    # And create new blank file\n",
    "    pathlib.Path(output_fpath).touch()\n",
    "    ## format the command\n",
    "    ## OLD: trying to format into subproc.Popen() format...\n",
    "    #infiles = quotes(cur_en_path) + \",\" + quotes(cur_de_path)\n",
    "    #languages = quotes(\"en\") + \",\" + quotes(\"de\")\n",
    "    #subproc_list = ['LF_aligner_4.1.exe','--filetype',quotes(\"t\"),'--infiles',infiles,\n",
    "    #                '--outfiles',quotes(output_path),'--languages',languages,\n",
    "    #                '--segment',quotes(\"y\"),'--review',quotes(\"n\"),'--tmx',quotes(\"n\")]\n",
    "    #print(subproc_list)\n",
    "    ## New: just use subprocess.call()\n",
    "    cur_cmd = tmdglobals.get_lf_cmd(lang1=lang1, lang2=lang2,\n",
    "                                    d1_fpath=cur_d1_fpath, d2_fpath=cur_d2_fpath,\n",
    "                                    out_fpath=output_fpath)\n",
    "    vprint(f\"Running {cur_cmd}\")\n",
    "    # Temporarily change into the directory of LF_aligner, run the command,\n",
    "    # then change back\n",
    "    orig_dir = os.getcwd()\n",
    "    os.chdir(tmdglobals.lf_path)\n",
    "    vprint(f\"Running command from {os.getcwd()}\")\n",
    "    result = subprocess.check_output(cur_cmd, shell=True)\n",
    "    align_logs.append(result)\n",
    "    os.chdir(orig_dir)"
   ],
   "metadata": {
    "collapsed": false,
    "pycharm": {
     "name": "#%%\n"
    }
   }
  },
  {
   "cell_type": "code",
   "execution_count": 60,
   "outputs": [
    {
     "name": "stdout",
     "output_type": "stream",
     "text": [
      "Performing alignment: de_tge.en_reitter\n"
     ]
    },
    {
     "name": "stderr",
     "output_type": "stream",
     "text": [
      "ch33_clean.de_tge.txt: 100%|██████████| 34/34 [00:31<00:00,  1.10it/s] "
     ]
    },
    {
     "name": "stdout",
     "output_type": "stream",
     "text": [
      "Logs saved to ./logs\\ch33.align_log.txt\n"
     ]
    },
    {
     "name": "stderr",
     "output_type": "stream",
     "text": [
      "\n"
     ]
    }
   ],
   "source": [
    "# Now make sure a subfolder for this specific language pair exists\n",
    "alignment_path = tmdglobals.get_alignment_path(alignment_code)\n",
    "if not os.path.isdir(alignment_path):\n",
    "    os.mkdir(alignment_path)\n",
    "# And loop over the fpath pairs\n",
    "print(f\"Performing alignment: {alignment_code}\")\n",
    "num_docs = len(d1_fpaths)\n",
    "tqdm_iter = tqdm(zip(d1_fpaths, d2_fpaths), total=num_docs)\n",
    "for cur_d1_fpath, cur_d2_fpath in tqdm_iter:\n",
    "    d1_fname = os.path.basename(cur_d1_fpath)\n",
    "    tqdm_iter.set_description(d1_fname)\n",
    "    align_files(cur_d1_fpath, cur_d2_fpath)\n",
    "# Done with for loop - just output the alignment logs to a file\n",
    "log_fpath = output_logs(align_logs, output_fname)\n",
    "print(f\"Logs saved to {log_fpath}\")\n",
    "# Last thing: delete the stupid align_<date> folder that it creates,\n",
    "# that we don't need (because we set the output file)\n",
    "align_folders = glob.glob(os.path.join(alignment_path, \"align_*\"))\n",
    "for cur_folder in align_folders:\n",
    "    shutil.rmtree(cur_folder)"
   ],
   "metadata": {
    "collapsed": false,
    "pycharm": {
     "name": "#%%\n"
    }
   }
  },
  {
   "cell_type": "code",
   "execution_count": null,
   "metadata": {
    "collapsed": true,
    "pycharm": {
     "name": "#%%\n"
    }
   },
   "outputs": [],
   "source": [
    "\n",
    "# Uses the LF Align command-line interface to do the batch alignment of each\n",
    "# chapter [and thus has to be run on Windows :(] [also you have to DISABLE\n",
    "# DROPBOX!!!]\n"
   ]
  },
  {
   "cell_type": "code",
   "execution_count": null,
   "outputs": [],
   "source": [],
   "metadata": {
    "collapsed": false,
    "pycharm": {
     "name": "#%%\n"
    }
   }
  },
  {
   "cell_type": "code",
   "execution_count": null,
   "outputs": [],
   "source": [],
   "metadata": {
    "collapsed": false,
    "pycharm": {
     "name": "#%%\n"
    }
   }
  },
  {
   "cell_type": "code",
   "execution_count": null,
   "outputs": [],
   "source": [],
   "metadata": {
    "collapsed": false,
    "pycharm": {
     "name": "#%%\n"
    }
   }
  }
 ],
 "metadata": {
  "kernelspec": {
   "display_name": "Python 3",
   "language": "python",
   "name": "python3"
  },
  "language_info": {
   "codemirror_mode": {
    "name": "ipython",
    "version": 2
   },
   "file_extension": ".py",
   "mimetype": "text/x-python",
   "name": "python",
   "nbconvert_exporter": "python",
   "pygments_lexer": "ipython2",
   "version": "2.7.6"
  }
 },
 "nbformat": 4,
 "nbformat_minor": 0
}