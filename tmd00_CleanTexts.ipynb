{
 "cells": [
  {
   "cell_type": "code",
   "execution_count": 100,
   "outputs": [
    {
     "name": "stdout",
     "output_type": "stream",
     "text": [
      "The autoreload extension is already loaded. To reload it, use:\n",
      "  %reload_ext autoreload\n"
     ]
    }
   ],
   "source": [
    "%load_ext autoreload\n",
    "%autoreload 2"
   ],
   "metadata": {
    "collapsed": false,
    "pycharm": {
     "name": "#%%\n"
    }
   }
  },
  {
   "cell_type": "code",
   "execution_count": 101,
   "outputs": [],
   "source": [
    "#!pip install gensim"
   ],
   "metadata": {
    "collapsed": false,
    "pycharm": {
     "name": "#%%\n"
    }
   }
  },
  {
   "cell_type": "code",
   "execution_count": 102,
   "outputs": [],
   "source": [
    "#!pip install underthesea"
   ],
   "metadata": {
    "collapsed": false,
    "pycharm": {
     "name": "#%%\n"
    }
   }
  },
  {
   "cell_type": "code",
   "execution_count": 103,
   "outputs": [],
   "source": [
    "import glob\n",
    "import os\n",
    "import re\n",
    "\n",
    "import unidecode\n",
    "\n",
    "import tmdglobals"
   ],
   "metadata": {
    "collapsed": false,
    "pycharm": {
     "name": "#%%\n"
    }
   }
  },
  {
   "cell_type": "code",
   "execution_count": 104,
   "outputs": [
    {
     "data": {
      "text/plain": "dict_keys(['am_iish', 'el_mod', 'en_aveling', 'en_fowkes', 'en_reitter', 'de_tge', 'kk_prog', 'ru_morg', 'vi_cw', 'zh_morg'])"
     },
     "execution_count": 104,
     "metadata": {},
     "output_type": "execute_result"
    }
   ],
   "source": [
    "tmdglobals.text_paths.keys()"
   ],
   "metadata": {
    "collapsed": false,
    "pycharm": {
     "name": "#%%\n"
    }
   }
  },
  {
   "cell_type": "code",
   "execution_count": 105,
   "outputs": [
    {
     "name": "stdout",
     "output_type": "stream",
     "text": [
      "de\n",
      "en\n"
     ]
    }
   ],
   "source": [
    "doc1 = 'de_tge'\n",
    "lang1 = tmdglobals.get_lang_code(doc1)\n",
    "print(lang1)\n",
    "doc2 = 'en_reitter'\n",
    "lang2 = tmdglobals.get_lang_code(doc2)\n",
    "print(lang2)"
   ],
   "metadata": {
    "collapsed": false,
    "pycharm": {
     "name": "#%%\n"
    }
   }
  },
  {
   "cell_type": "code",
   "execution_count": 106,
   "outputs": [],
   "source": [
    "def clean_chapters(input_path, verbose=False):\n",
    "    vprint = print if verbose else lambda x: None\n",
    "    # The path where the cleaned versions of each chapter will be saved\n",
    "    cleaned_path = os.path.join(input_path, \"cleaned\")\n",
    "    if not os.path.isdir(cleaned_path):\n",
    "        os.mkdir(cleaned_path)\n",
    "    ## Get all the files in that dir\n",
    "    all_fpaths = glob.glob(os.path.join(input_path, \"*.txt\"))\n",
    "    # print(all_paths)\n",
    "    ## Or just a single file, for debugging\n",
    "    # all_paths = [input_dir + \"\\\\ch02.de.txt\"]\n",
    "    for fpath_num, cur_fpath in enumerate(all_fpaths):\n",
    "        # This gets the info from the filename\n",
    "        cur_fname, fname_prefix, tr_code, ch_name = tmdglobals.get_file_info(cur_fpath)\n",
    "        print(f\"Processing file #{fpath_num}: {cur_fname}\")\n",
    "        ## Load chapter\n",
    "        ch_text = load_chapter(cur_fpath, verbose=verbose)\n",
    "        ## Tokenize sentences\n",
    "        # Get the lang code from the full tr_code\n",
    "        lang_code = tmdglobals.get_lang_code(tr_code)\n",
    "        print(f\"Extracted lang_code: {lang_code}\")\n",
    "        tokens = tokenize_chapter(ch_text, lang_code, verbose=verbose)\n",
    "        print(\"Num sentences: \" + str(len(tokens)))\n",
    "        ## Output cleaned versions\n",
    "        cleaned_fname = f\"{fname_prefix}_clean.{tr_code}.txt\"\n",
    "        cleaned_fpath = os.path.join(cleaned_path, cleaned_fname)\n",
    "        print(f\"Outputting to {cleaned_fpath}\")\n",
    "        output_cleaned_tokens(tokens, cleaned_fpath)"
   ],
   "metadata": {
    "collapsed": false,
    "pycharm": {
     "name": "#%%\n"
    }
   }
  },
  {
   "cell_type": "code",
   "execution_count": 107,
   "outputs": [],
   "source": [
    "def load_chapter(chapter_fpath, verbose=False):\n",
    "    with open(chapter_fpath, \"r\", encoding=\"utf-8\") as infile:\n",
    "        file_text = infile.read().replace('\\n', ' ')\n",
    "        file_text = file_text.replace('\\r', ' ')\n",
    "    return file_text"
   ],
   "metadata": {
    "collapsed": false,
    "pycharm": {
     "name": "#%%\n"
    }
   }
  },
  {
   "cell_type": "code",
   "execution_count": 108,
   "outputs": [],
   "source": [
    "def output_cleaned_tokens(tokens, output_filename):\n",
    "    with open(output_filename, \"w\", encoding=\"utf-8\") as outfile:\n",
    "        outfile.write(\" \".join(tokens))"
   ],
   "metadata": {
    "collapsed": false,
    "pycharm": {
     "name": "#%%\n"
    }
   }
  },
  {
   "cell_type": "code",
   "execution_count": 109,
   "outputs": [],
   "source": [
    "def tokenize_chapter(fulltext, lang, verbose=False):\n",
    "    vprint = print if verbose else lambda x: None\n",
    "    vprint(f\"tokenize_chapter(): lang = {lang}\")\n",
    "    # First we clean footnotes\n",
    "    clean_text = tmdglobals.remove_footnotes(fulltext, lang)\n",
    "    # Then, if german, we do cleaning of e.g. unicode chars\n",
    "    if lang in [\"de\"]:\n",
    "        clean_text = unidecode.unidecode(clean_text)\n",
    "    # Use the right tokenizer for the language\n",
    "    tokenized = tmdglobals.sent_tokenize(clean_text, lang)\n",
    "    # There's one issue where it thinks some footnotes and section numbers are\n",
    "    # sentences, in german version. So remove these.\n",
    "    if lang == \"de\":\n",
    "        nonsent_reg = tmdglobals.nonsent_reg_de\n",
    "        tokenized = [sent for sent in tokenized if not re.match(nonsent_reg, sent)]\n",
    "    return tokenized"
   ],
   "metadata": {
    "collapsed": false,
    "pycharm": {
     "name": "#%%\n"
    }
   }
  },
  {
   "cell_type": "code",
   "execution_count": 110,
   "metadata": {
    "collapsed": true,
    "pycharm": {
     "name": "#%%\n"
    }
   },
   "outputs": [
    {
     "name": "stdout",
     "output_type": "stream",
     "text": [
      "Processing file #0: ch01.de_tge.txt\n",
      "Extracted lang_code: de\n",
      "tokenize_chapter(): lang = de\n",
      "Num sentences: 686\n",
      "Outputting to ..\\Texts\\ThirdGermanEdition\\cleaned\\ch01_clean.de_tge.txt\n",
      "Processing file #1: ch02.de_tge.txt\n",
      "Extracted lang_code: de\n",
      "tokenize_chapter(): lang = de\n",
      "Num sentences: 122\n",
      "Outputting to ..\\Texts\\ThirdGermanEdition\\cleaned\\ch02_clean.de_tge.txt\n",
      "Processing file #2: ch03.de_tge.txt\n",
      "Extracted lang_code: de\n",
      "tokenize_chapter(): lang = de\n",
      "Num sentences: 681\n",
      "Outputting to ..\\Texts\\ThirdGermanEdition\\cleaned\\ch03_clean.de_tge.txt\n",
      "Processing file #3: ch04.de_tge.txt\n",
      "Extracted lang_code: de\n",
      "tokenize_chapter(): lang = de\n",
      "Num sentences: 465\n",
      "Outputting to ..\\Texts\\ThirdGermanEdition\\cleaned\\ch04_clean.de_tge.txt\n",
      "Processing file #4: ch05.de_tge.txt\n",
      "Extracted lang_code: de\n",
      "tokenize_chapter(): lang = de\n",
      "Num sentences: 167\n",
      "Outputting to ..\\Texts\\ThirdGermanEdition\\cleaned\\ch05_clean.de_tge.txt\n",
      "Processing file #5: ch06.de_tge.txt\n",
      "Extracted lang_code: de\n",
      "tokenize_chapter(): lang = de\n",
      "Num sentences: 129\n",
      "Outputting to ..\\Texts\\ThirdGermanEdition\\cleaned\\ch06_clean.de_tge.txt\n",
      "Processing file #6: ch07.de_tge.txt\n",
      "Extracted lang_code: de\n",
      "tokenize_chapter(): lang = de\n",
      "Num sentences: 360\n",
      "Outputting to ..\\Texts\\ThirdGermanEdition\\cleaned\\ch07_clean.de_tge.txt\n",
      "Processing file #7: ch08.de_tge.txt\n",
      "Extracted lang_code: de\n",
      "tokenize_chapter(): lang = de\n",
      "Num sentences: 163\n",
      "Outputting to ..\\Texts\\ThirdGermanEdition\\cleaned\\ch08_clean.de_tge.txt\n",
      "Processing file #8: ch09.de_tge.txt\n",
      "Extracted lang_code: de\n",
      "tokenize_chapter(): lang = de\n",
      "Num sentences: 337\n",
      "Outputting to ..\\Texts\\ThirdGermanEdition\\cleaned\\ch09_clean.de_tge.txt\n",
      "Processing file #9: ch10.de_tge.txt\n",
      "Extracted lang_code: de\n",
      "tokenize_chapter(): lang = de\n",
      "Num sentences: 861\n",
      "Outputting to ..\\Texts\\ThirdGermanEdition\\cleaned\\ch10_clean.de_tge.txt\n",
      "Processing file #10: ch11.de_tge.txt\n",
      "Extracted lang_code: de\n",
      "tokenize_chapter(): lang = de\n",
      "Num sentences: 106\n",
      "Outputting to ..\\Texts\\ThirdGermanEdition\\cleaned\\ch11_clean.de_tge.txt\n",
      "Processing file #11: ch12.de_tge.txt\n",
      "Extracted lang_code: de\n",
      "tokenize_chapter(): lang = de\n",
      "Num sentences: 128\n",
      "Outputting to ..\\Texts\\ThirdGermanEdition\\cleaned\\ch12_clean.de_tge.txt\n",
      "Processing file #12: ch13.de_tge.txt\n",
      "Extracted lang_code: de\n",
      "tokenize_chapter(): lang = de\n",
      "Num sentences: 147\n",
      "Outputting to ..\\Texts\\ThirdGermanEdition\\cleaned\\ch13_clean.de_tge.txt\n",
      "Processing file #13: ch14.de_tge.txt\n",
      "Extracted lang_code: de\n",
      "tokenize_chapter(): lang = de\n",
      "Num sentences: 320\n",
      "Outputting to ..\\Texts\\ThirdGermanEdition\\cleaned\\ch14_clean.de_tge.txt\n",
      "Processing file #14: ch15a.de_tge.txt\n",
      "Extracted lang_code: de\n",
      "tokenize_chapter(): lang = de\n",
      "Num sentences: 775\n",
      "Outputting to ..\\Texts\\ThirdGermanEdition\\cleaned\\ch15a_clean.de_tge.txt\n",
      "Processing file #15: ch15b.de_tge.txt\n",
      "Extracted lang_code: de\n",
      "tokenize_chapter(): lang = de\n",
      "Num sentences: 969\n",
      "Outputting to ..\\Texts\\ThirdGermanEdition\\cleaned\\ch15b_clean.de_tge.txt\n",
      "Processing file #16: ch16.de_tge.txt\n",
      "Extracted lang_code: de\n",
      "tokenize_chapter(): lang = de\n",
      "Num sentences: 145\n",
      "Outputting to ..\\Texts\\ThirdGermanEdition\\cleaned\\ch16_clean.de_tge.txt\n",
      "Processing file #17: ch17.de_tge.txt\n",
      "Extracted lang_code: de\n",
      "tokenize_chapter(): lang = de\n",
      "Num sentences: 174\n",
      "Outputting to ..\\Texts\\ThirdGermanEdition\\cleaned\\ch17_clean.de_tge.txt\n",
      "Processing file #18: ch18.de_tge.txt\n",
      "Extracted lang_code: de\n",
      "tokenize_chapter(): lang = de\n",
      "Num sentences: 49\n",
      "Outputting to ..\\Texts\\ThirdGermanEdition\\cleaned\\ch18_clean.de_tge.txt\n",
      "Processing file #19: ch19.de_tge.txt\n",
      "Extracted lang_code: de\n",
      "tokenize_chapter(): lang = de\n",
      "Num sentences: 109\n",
      "Outputting to ..\\Texts\\ThirdGermanEdition\\cleaned\\ch19_clean.de_tge.txt\n",
      "Processing file #20: ch20.de_tge.txt\n",
      "Extracted lang_code: de\n",
      "tokenize_chapter(): lang = de\n",
      "Num sentences: 91\n",
      "Outputting to ..\\Texts\\ThirdGermanEdition\\cleaned\\ch20_clean.de_tge.txt\n",
      "Processing file #21: ch21.de_tge.txt\n",
      "Extracted lang_code: de\n",
      "tokenize_chapter(): lang = de\n",
      "Num sentences: 92\n",
      "Outputting to ..\\Texts\\ThirdGermanEdition\\cleaned\\ch21_clean.de_tge.txt\n",
      "Processing file #22: ch22.de_tge.txt\n",
      "Extracted lang_code: de\n",
      "tokenize_chapter(): lang = de\n",
      "Num sentences: 53\n",
      "Outputting to ..\\Texts\\ThirdGermanEdition\\cleaned\\ch22_clean.de_tge.txt\n",
      "Processing file #23: ch23.de_tge.txt\n",
      "Extracted lang_code: de\n",
      "tokenize_chapter(): lang = de\n",
      "Num sentences: 168\n",
      "Outputting to ..\\Texts\\ThirdGermanEdition\\cleaned\\ch23_clean.de_tge.txt\n",
      "Processing file #24: ch24.de_tge.txt\n",
      "Extracted lang_code: de\n",
      "tokenize_chapter(): lang = de\n",
      "Num sentences: 420\n",
      "Outputting to ..\\Texts\\ThirdGermanEdition\\cleaned\\ch24_clean.de_tge.txt\n",
      "Processing file #25: ch25.de_tge.txt\n",
      "Extracted lang_code: de\n",
      "tokenize_chapter(): lang = de\n",
      "Num sentences: 1288\n",
      "Outputting to ..\\Texts\\ThirdGermanEdition\\cleaned\\ch25_clean.de_tge.txt\n",
      "Processing file #26: ch26.de_tge.txt\n",
      "Extracted lang_code: de\n",
      "tokenize_chapter(): lang = de\n",
      "Num sentences: 49\n",
      "Outputting to ..\\Texts\\ThirdGermanEdition\\cleaned\\ch26_clean.de_tge.txt\n",
      "Processing file #27: ch27.de_tge.txt\n",
      "Extracted lang_code: de\n",
      "tokenize_chapter(): lang = de\n",
      "Num sentences: 175\n",
      "Outputting to ..\\Texts\\ThirdGermanEdition\\cleaned\\ch27_clean.de_tge.txt\n",
      "Processing file #28: ch28.de_tge.txt\n",
      "Extracted lang_code: de\n",
      "tokenize_chapter(): lang = de\n",
      "Num sentences: 123\n",
      "Outputting to ..\\Texts\\ThirdGermanEdition\\cleaned\\ch28_clean.de_tge.txt\n",
      "Processing file #29: ch29.de_tge.txt\n",
      "Extracted lang_code: de\n",
      "tokenize_chapter(): lang = de\n",
      "Num sentences: 24\n",
      "Outputting to ..\\Texts\\ThirdGermanEdition\\cleaned\\ch29_clean.de_tge.txt\n",
      "Processing file #30: ch30.de_tge.txt\n",
      "Extracted lang_code: de\n",
      "tokenize_chapter(): lang = de\n",
      "Num sentences: 51\n",
      "Outputting to ..\\Texts\\ThirdGermanEdition\\cleaned\\ch30_clean.de_tge.txt\n",
      "Processing file #31: ch31.de_tge.txt\n",
      "Extracted lang_code: de\n",
      "tokenize_chapter(): lang = de\n",
      "Num sentences: 164\n",
      "Outputting to ..\\Texts\\ThirdGermanEdition\\cleaned\\ch31_clean.de_tge.txt\n",
      "Processing file #32: ch32.de_tge.txt\n",
      "Extracted lang_code: de\n",
      "tokenize_chapter(): lang = de\n",
      "Num sentences: 36\n",
      "Outputting to ..\\Texts\\ThirdGermanEdition\\cleaned\\ch32_clean.de_tge.txt\n",
      "Processing file #33: ch33.de_tge.txt\n",
      "Extracted lang_code: de\n",
      "tokenize_chapter(): lang = de\n",
      "Num sentences: 127\n",
      "Outputting to ..\\Texts\\ThirdGermanEdition\\cleaned\\ch33_clean.de_tge.txt\n",
      "Processing file #0: ch01.en_reitter.txt\n",
      "Extracted lang_code: en\n",
      "tokenize_chapter(): lang = en\n",
      "Num sentences: 640\n",
      "Outputting to ..\\Texts\\Reitter\\cleaned\\ch01_clean.en_reitter.txt\n",
      "Processing file #1: ch02.en_reitter.txt\n",
      "Extracted lang_code: en\n",
      "tokenize_chapter(): lang = en\n",
      "Num sentences: 112\n",
      "Outputting to ..\\Texts\\Reitter\\cleaned\\ch02_clean.en_reitter.txt\n",
      "Processing file #2: ch03.en_reitter.txt\n",
      "Extracted lang_code: en\n",
      "tokenize_chapter(): lang = en\n",
      "Num sentences: 600\n",
      "Outputting to ..\\Texts\\Reitter\\cleaned\\ch03_clean.en_reitter.txt\n",
      "Processing file #3: ch04.en_reitter.txt\n",
      "Extracted lang_code: en\n",
      "tokenize_chapter(): lang = en\n",
      "Num sentences: 140\n",
      "Outputting to ..\\Texts\\Reitter\\cleaned\\ch04_clean.en_reitter.txt\n",
      "Processing file #4: ch05.en_reitter.txt\n",
      "Extracted lang_code: en\n",
      "tokenize_chapter(): lang = en\n",
      "Num sentences: 150\n",
      "Outputting to ..\\Texts\\Reitter\\cleaned\\ch05_clean.en_reitter.txt\n",
      "Processing file #5: ch06.en_reitter.txt\n",
      "Extracted lang_code: en\n",
      "tokenize_chapter(): lang = en\n",
      "Num sentences: 133\n",
      "Outputting to ..\\Texts\\Reitter\\cleaned\\ch06_clean.en_reitter.txt\n",
      "Processing file #6: ch07.en_reitter.txt\n",
      "Extracted lang_code: en\n",
      "tokenize_chapter(): lang = en\n",
      "Num sentences: 318\n",
      "Outputting to ..\\Texts\\Reitter\\cleaned\\ch07_clean.en_reitter.txt\n",
      "Processing file #7: ch08.en_reitter.txt\n",
      "Extracted lang_code: en\n",
      "tokenize_chapter(): lang = en\n",
      "Num sentences: 167\n",
      "Outputting to ..\\Texts\\Reitter\\cleaned\\ch08_clean.en_reitter.txt\n",
      "Processing file #8: ch09.en_reitter.txt\n",
      "Extracted lang_code: en\n",
      "tokenize_chapter(): lang = en\n",
      "Num sentences: 251\n",
      "Outputting to ..\\Texts\\Reitter\\cleaned\\ch09_clean.en_reitter.txt\n",
      "Processing file #9: ch10.en_reitter.txt\n",
      "Extracted lang_code: en\n",
      "tokenize_chapter(): lang = en\n",
      "Num sentences: 735\n",
      "Outputting to ..\\Texts\\Reitter\\cleaned\\ch10_clean.en_reitter.txt\n",
      "Processing file #10: ch11.en_reitter.txt\n",
      "Extracted lang_code: en\n",
      "tokenize_chapter(): lang = en\n",
      "Num sentences: 95\n",
      "Outputting to ..\\Texts\\Reitter\\cleaned\\ch11_clean.en_reitter.txt\n",
      "Processing file #11: ch12.en_reitter.txt\n",
      "Extracted lang_code: en\n",
      "tokenize_chapter(): lang = en\n",
      "Num sentences: 135\n",
      "Outputting to ..\\Texts\\Reitter\\cleaned\\ch12_clean.en_reitter.txt\n",
      "Processing file #12: ch13.en_reitter.txt\n",
      "Extracted lang_code: en\n",
      "tokenize_chapter(): lang = en\n",
      "Num sentences: 136\n",
      "Outputting to ..\\Texts\\Reitter\\cleaned\\ch13_clean.en_reitter.txt\n",
      "Processing file #13: ch14.en_reitter.txt\n",
      "Extracted lang_code: en\n",
      "tokenize_chapter(): lang = en\n",
      "Num sentences: 327\n",
      "Outputting to ..\\Texts\\Reitter\\cleaned\\ch14_clean.en_reitter.txt\n",
      "Processing file #14: ch15a.en_reitter.txt\n",
      "Extracted lang_code: en\n",
      "tokenize_chapter(): lang = en\n",
      "Num sentences: 676\n",
      "Outputting to ..\\Texts\\Reitter\\cleaned\\ch15a_clean.en_reitter.txt\n",
      "Processing file #15: ch15b.en_reitter.txt\n",
      "Extracted lang_code: en\n",
      "tokenize_chapter(): lang = en\n",
      "Num sentences: 504\n",
      "Outputting to ..\\Texts\\Reitter\\cleaned\\ch15b_clean.en_reitter.txt\n",
      "Processing file #16: ch16.en_reitter.txt\n",
      "Extracted lang_code: en\n",
      "tokenize_chapter(): lang = en\n",
      "Num sentences: 100\n",
      "Outputting to ..\\Texts\\Reitter\\cleaned\\ch16_clean.en_reitter.txt\n",
      "Processing file #17: ch17.en_reitter.txt\n",
      "Extracted lang_code: en\n",
      "tokenize_chapter(): lang = en\n",
      "Num sentences: 140\n",
      "Outputting to ..\\Texts\\Reitter\\cleaned\\ch17_clean.en_reitter.txt\n",
      "Processing file #18: ch18.en_reitter.txt\n",
      "Extracted lang_code: en\n",
      "tokenize_chapter(): lang = en\n",
      "Num sentences: 36\n",
      "Outputting to ..\\Texts\\Reitter\\cleaned\\ch18_clean.en_reitter.txt\n",
      "Processing file #19: ch19.en_reitter.txt\n",
      "Extracted lang_code: en\n",
      "tokenize_chapter(): lang = en\n",
      "Num sentences: 95\n",
      "Outputting to ..\\Texts\\Reitter\\cleaned\\ch19_clean.en_reitter.txt\n",
      "Processing file #20: ch20.en_reitter.txt\n",
      "Extracted lang_code: en\n",
      "tokenize_chapter(): lang = en\n",
      "Num sentences: 92\n",
      "Outputting to ..\\Texts\\Reitter\\cleaned\\ch20_clean.en_reitter.txt\n",
      "Processing file #21: ch21.en_reitter.txt\n",
      "Extracted lang_code: en\n",
      "tokenize_chapter(): lang = en\n",
      "Num sentences: 71\n",
      "Outputting to ..\\Texts\\Reitter\\cleaned\\ch21_clean.en_reitter.txt\n",
      "Processing file #22: ch22.en_reitter.txt\n",
      "Extracted lang_code: en\n",
      "tokenize_chapter(): lang = en\n",
      "Num sentences: 43\n",
      "Outputting to ..\\Texts\\Reitter\\cleaned\\ch22_clean.en_reitter.txt\n",
      "Processing file #23: ch23.en_reitter.txt\n",
      "Extracted lang_code: en\n",
      "tokenize_chapter(): lang = en\n",
      "Num sentences: 155\n",
      "Outputting to ..\\Texts\\Reitter\\cleaned\\ch23_clean.en_reitter.txt\n",
      "Processing file #24: ch24.en_reitter.txt\n",
      "Extracted lang_code: en\n",
      "tokenize_chapter(): lang = en\n",
      "Num sentences: 335\n",
      "Outputting to ..\\Texts\\Reitter\\cleaned\\ch24_clean.en_reitter.txt\n",
      "Processing file #25: ch25.en_reitter.txt\n",
      "Extracted lang_code: en\n",
      "tokenize_chapter(): lang = en\n",
      "Num sentences: 1239\n",
      "Outputting to ..\\Texts\\Reitter\\cleaned\\ch25_clean.en_reitter.txt\n",
      "Processing file #26: ch26.en_reitter.txt\n",
      "Extracted lang_code: en\n",
      "tokenize_chapter(): lang = en\n",
      "Num sentences: 43\n",
      "Outputting to ..\\Texts\\Reitter\\cleaned\\ch26_clean.en_reitter.txt\n",
      "Processing file #27: ch27.en_reitter.txt\n",
      "Extracted lang_code: en\n",
      "tokenize_chapter(): lang = en\n",
      "Num sentences: 149\n",
      "Outputting to ..\\Texts\\Reitter\\cleaned\\ch27_clean.en_reitter.txt\n",
      "Processing file #28: ch28.en_reitter.txt\n",
      "Extracted lang_code: en\n",
      "tokenize_chapter(): lang = en\n",
      "Num sentences: 107\n",
      "Outputting to ..\\Texts\\Reitter\\cleaned\\ch28_clean.en_reitter.txt\n",
      "Processing file #29: ch29.en_reitter.txt\n",
      "Extracted lang_code: en\n",
      "tokenize_chapter(): lang = en\n",
      "Num sentences: 26\n",
      "Outputting to ..\\Texts\\Reitter\\cleaned\\ch29_clean.en_reitter.txt\n",
      "Processing file #30: ch30.en_reitter.txt\n",
      "Extracted lang_code: en\n",
      "tokenize_chapter(): lang = en\n",
      "Num sentences: 48\n",
      "Outputting to ..\\Texts\\Reitter\\cleaned\\ch30_clean.en_reitter.txt\n",
      "Processing file #31: ch31.en_reitter.txt\n",
      "Extracted lang_code: en\n",
      "tokenize_chapter(): lang = en\n",
      "Num sentences: 105\n",
      "Outputting to ..\\Texts\\Reitter\\cleaned\\ch31_clean.en_reitter.txt\n",
      "Processing file #32: ch32.en_reitter.txt\n",
      "Extracted lang_code: en\n",
      "tokenize_chapter(): lang = en\n",
      "Num sentences: 36\n",
      "Outputting to ..\\Texts\\Reitter\\cleaned\\ch32_clean.en_reitter.txt\n",
      "Processing file #33: ch33.en_reitter.txt\n",
      "Extracted lang_code: en\n",
      "tokenize_chapter(): lang = en\n",
      "Num sentences: 109\n",
      "Outputting to ..\\Texts\\Reitter\\cleaned\\ch33_clean.en_reitter.txt\n"
     ]
    }
   ],
   "source": [
    "# en_dir = os.path.join(\"..\",\"Texts\",\"FirstEnglishEdition\")\n",
    "clean_chapters(tmdglobals.text_paths[doc1], verbose=True)\n",
    "clean_chapters(tmdglobals.text_paths[doc2], verbose=True)"
   ]
  },
  {
   "cell_type": "code",
   "execution_count": 111,
   "outputs": [],
   "source": [
    "# Check to make sure they're cleaned"
   ],
   "metadata": {
    "collapsed": false,
    "pycharm": {
     "name": "#%%\n"
    }
   }
  },
  {
   "cell_type": "code",
   "execution_count": 112,
   "outputs": [],
   "source": [
    "doc_id = doc2\n",
    "doc_path = tmdglobals.text_paths[doc_id]\n",
    "doc_fpath = os.path.join(doc_path, \"cleaned\", f\"ch14_clean.{doc_id}.txt\")\n",
    "with open(doc_fpath, 'r', encoding='utf-8') as infile:\n",
    "    text = infile.read()"
   ],
   "metadata": {
    "collapsed": false,
    "pycharm": {
     "name": "#%%\n"
    }
   }
  },
  {
   "cell_type": "code",
   "execution_count": 113,
   "outputs": [
    {
     "data": {
      "text/plain": "' Chapter 12  The Division of Labor and the Manufacturing System  1. The Double Origin of the Manufacturing System  Cooperation based on the division of labor found its classic form in the manufacturing system. As the characteristic form of the capitalist production process, such cooperation predominated during the era of manufacturing proper, which lasted from around 1550 to the last third of the eighteenth century. The manufacturing system arose in two ways. 1. A single capitalist assembles under his command different types of independent craftsmen in one workshop, where a product has to pass through the hands of each type of worker in order to reach the point of completion. For example, a carriage was once the product of many different craftsmen working on their own: wheelwrights, harness-makers, tailors, locksmiths, upholsterers, turners, fringe-makers, glaziers, painters, polishers, gilders, and so on. But when carriages are made in the manufacturing workshop, these craftsmen are brought together in one building, where they all work on the product at the same time. It is true that a carriage can’t be gilded until it is otherwise a finished product; however, when multiple carriages are being made at the same time, some can be gilded while others are at earlier stages of the production process. At this point, we haven’t yet left the realm of simple cooperation, which relies on ready-made materials in the form of people and things. But very soon an essential change occurs. Soon all the tailor, the locksmith, and the other craftsmen do is produce carriages. As they grow unaccustomed to performing the full range of operations their crafts involve, they gradually lose the skills those operations require. Their newly specialized labor now takes on the form best suited for its more limited sphere of activity. When carriages were first produced in the manufacturing workshop, this presented itself as the work of an assembly of various independent trades. But the work is gradually divided into the different specialized tasks of carriage production, each of which crystallizes into the exclusive function of a single worker. The totality of functions comes to be carried out by a group of specialized workers. Likewise, cloth manufacturing arose when different craftsmen were brought together under the command of a single capitalist. The same holds for a whole array of other manufacturing workshops.dxv  2. But the manufacturing system of production can also take shape in the opposite way. A single mass of capital employs artisans of the same type in one workshop, where they simultaneously perform the same labor, or much the same labor, such as making paper, type, or needles. This is cooperation in its simplest form. Each craftsman, perhaps assisted by one or two apprentices, makes a finished commodity, carrying out the series of different operations that producing it entails. Each craftsman continues to work in his customary artisanal manner. Then, however, external circumstances cause a change, and the concentration of workers in the same space and the simultaneity of their labor are made use of differently. Perhaps a larger quantity of the commodity the workers have been producing has to be completed within a given timeframe. As a result, the labor is divided up. A single craftsman no longer carries out all the necessary tasks in succession; instead the tasks are disconnected from one another, isolated, and carried out side by side. Each is assigned to a different craftsman, and the cooperating workers perform the different tasks at the same time. After this accidental division of labor has been employed repeatedly and has displayed its special advantages, it ossifies into a systematic division of labor. The commodity is transformed. No longer the individual product of an independent craftsman who does many different things, it is now the social product of a group of workers, and each worker continuously performs his own specialized operation. The same operations that blended into one another when a single German papermaker and guild member carried them out in succession gain a new independence in Holland’s paper manufacturing workshops, becoming specialized operations performed side by side by multiple cooperating workers. The needle-maker belonging to a guild in Nuremburg constituted the basic element in England’s needle manufacturing workshops, but whereas that one needle-maker in Nuremburg might have worked his way through 20 different operations, one after the other, in England it didn’t take long before 20 needle-makers were carrying out 20 different operations side by side. Further experience taught the manufacturer to divide each of those 20 operations, and each newly independent operation became the separate, exclusive function of an individual worker. Thus the manufacturing system originated—or arose out of artisanal labor—in two ways. On the one hand, it emerged where different independent occupations were concentrated in a single workshop and specialized to the point of losing their independence. Now they merely complemented one another as narrow operations in a single commodity’s production process. On the other hand, the system also proceeded from the cooperation of artisans who shared the same trade. A single job was broken down into different individual operations, which were isolated and made independent to the point where each became the exclusive function of a particular worker. So the manufacturing workshop introduced the division of labor into the production process or advanced its role there, and it combined craft occupations that had been separate. But if manufacturing workshops had different starting points, their final shape was always the same: a mechanism of production whose organs were human beings. To properly understand the division of labor in the manufacturing workshop, we must keep the following points in mind. First of all, the particular stages into which the production process was divided correspond exactly to the different specialized operations into which a craft trade was being decomposed. Whether those operations were complex or simple, they were carried out using artisanal labor, which works on the power, skill, speed, and care that the individual worker applies when he handles his tools. In other words, production was still based on artisanal labor. Given this narrow technological foundation, it had to still be possible to use specialized artisanal labor to carry out each of the specialized processes the product passed through, which means that the production process couldn’t yet be divided in a truly scientific way. And precisely because craftsmanship remained the foundation of the production process, each worker was made to perform only a specialized function, with the result that his labor-power became that function’s lifelong organ. Finally, this division of labor is a particular kind of cooperation, but some of its advantages stem from cooperation’s general nature, and thus aren’t peculiar to this form of it. 2. The Specialized Worker and his Tools. When we take a closer look, we see right away that a worker who spends his life performing one simple operation over and over again turns his whole body into an automatic, specialized organ of that operation, which he will carry out faster than a worker who performs a whole series of other tasks as well. The combined total worker, who constitutes the living mechanism of the manufacturing system, is made up of just such specialized workers. Thus compared to independent craft labor, more is produced in less time under this system—in other words, productivity increases.dxvi Once a form of specialized labor becomes a particular person’s sole function, and he constantly focuses on and repeats the same narrow action, he perfects his method, learning from experience how to achieve an intended useful effect with the least amount of exertion. Moreover, since multiple generations of workers are always alive at the same time and also work together in the same manufacturing workshops, the tricks of the trade soon accumulate and are handed down, becoming established practices.dxvii We might even say that the manufacturing workshop produces the skill of the specialized worker, reproducing the spontaneously arising division of occupations it finds ready-made in society while systematically radicalizing it. Then again, the transformation of a specialized activity into a person’s lifelong occupation resembles the older practice of making occupations hereditary. Trades calcified into castes, or, where historical conditions caused individuals to vary in ways that weren’t compatible with the caste system, into guilds. Castes and guilds result from the same natural law that regulates the division of plants and animals into species and subspecies, although once a certain stage of development has been reached, people enshrine as social laws the tenets that caste status is inherited and guilds are exclusive.dxviii “The muslins of Dacca in fineness, the calicoes and other piece goods of Coromandel in brilliant and durable colours, have never been surpassed. Yet they are produced without capital, machinery, division of labour, or any of those means which give such facilities to the manufacturing interest of Europe. The weaver is merely a detached individual, working a web when ordered of a customer, and with a loom of the rudest construction, consisting sometimes of a few branches or bars of wood, put together roughly. There is even no expedient for rolling up the warp; the loom must therefore be kept stretched to its full length, and becomes so inconveniently large that it cannot be contained within the hut of the manufacturer, who is therefore compelled to ply his trade in the open air, where it is interrupted by every vicissitude of the weather.”dxix Hindus and spiders alike come by this kind of virtuosity only by the transmission of a particular skill from one generation to the next (or from fathers to sons). And yet Indian weavers perform labor that is extremely complex compared with that of most workers in the manufacturing system. When an artisan carries out the series of individual processes required to produce a given article, he can’t simply work in the same place with the same tools—he has to move and change equipment all the time. This interrupts the flow of his labor. To some extent, it creates holes in his workday, which close when he starts to spend the whole day focusing on a single operation—or, that is, they disappear in proportion to the reduction of his movement from task to task. Productivity increases, either because a greater quantity of labor-power is expended in a given period of time, i.e., labor becomes more intense, or because less labor-power is consumed unproductively. When a worker expends energy restarting his labor, he has to make up for that by working longer at the normal speed he has to get back to again and again. On the other hand, when he performs the same labor continuously, his animal spirits, which are restored and excited precisely by changes of activity, slacken and lose their force. The productive power of labor depends not only on how competent workers are, but also on the quality of their tools. Tools of the same kind, such as knives, drills, and hammers, are used in different labor processes, and a single tool can be used for different tasks in a single process. But the moment that different operations in a single labor process are separated from one another and take on their most efficient (and therefore distinctive) form in the hands of specialized workers, tools that once served multiple purposes have to be modified. What determines how people alter the form of a tool is the particular difficulty a worker encounters when he wields it in its unaltered form. The differentiation of tools, whereby particular forms of a given tool are established, each suited to a particular useful application, and the specialization of tools, as a result of which their useful effects can be fully realized only in the hands of specialized workers, are characteristic aspects of the manufacturing system. In Birmingham alone, around 300 different types of hammers are made. Each kind is fashioned to serve in one single production process, and many kinds are used only for specific operations within a single process. During the manufacturing period, people simplified, improved, and multiplied the instruments of labor, adapting them to the exclusive functions of specialized workers.dxx When this happened, one of the material preconditions of modern machinery took shape. For such machinery is made up of a combination of simple instruments. The specialized worker and his tools represent the simple elements of the manufacturing system. Let us now turn to the system as a whole. 3. The Two Basic Forms of the Manufacturing System—Heterogeneous and Organic   The manufacturing system has two basic forms of organization, which may sometimes overlap but are essentially different and play very different roles in the system’s eventual transformation into machine-driven production on a large scale. This double character arises from the nature of the product itself, which is produced in two different ways: either through a mechanical process that involves assembling various components made independently of one another, or the product’s completed form is brought about by a series of interconnected processes and manipulations. More than 5, individual parts make up a locomotive, yet its production isn’t an example of the first form of organization, because locomotives are built by large-scale industry. What definitely is an example of this form of the manufacturing system is the watch, which William Petty used to illustrate the division of labor in the manufacturing workshop. Watches were once the individual product of a Nuremburg craftsman. They became the social products of countless specialized workers: mainspring makers, dial makers, spiral-spring makers, jeweled hole makers, ruby lever makers, hand makers, case makers, screw makers, gilders, and so on. There are also numerous subcategories: wheel makers (further divided into those who work with brass and those who work with steel), pin makers, movement makers, acheveurs de pignon (who attach the wheels to the axles and polish the facets), finisseurs de barillet (who cut teeth in the wheels, make holes of the right size, etc. ), escapement makers, cylinder makers for cylinder escapements, escapement wheel makers, balance-wheel makers, makers of the raquette (the apparatus for regulating the watch), planteurs d’échappement (escapement makers proper), as well as repasseurs de barillet (who make the box for the spring), steel polishers, wheel polishers, screw polishers, figure painters, dial enamellers (who melt the enamel on the copper), frabricants de pendants (who make the ring by which the case is hung), finisseurs de charnière (who install the brass hinges in the cover), graveurs, ciseleurs, polisseurs de boîte, etc., etc. and, lastly, the repasseurs, who assemble the watch and deliver it as a functioning unit. Only a few parts of the watch pass through multiple sets of hands, and all of these membra disjecta converge for first time in the hands of the person who finally assembles them into a mechanical whole.dxxi In such cases, where the finished product has an external relation to its diverse elements, it is matter of chance whether the different specialized workers are actually sitting in the same workshop. They can pursue their specialized labor as independent craftwork, as they do in the cantons of Vaud and Neuchâtel. Geneva, in contrast, has large watch manufacturing workshops—in other words, the specialized workers cooperate with one another under the direct control of a single mass of capital. But even then, the dial, springs, and housing are seldom made in that workshop. Here, the combined manufacturing workshop is profitable only under exceptional circumstances, because competition is at its greatest among those workers who want to work at home, and the means of labor can’t readily be shared when production is split up into a series of heterogeneous processes. When production is scattered, moreover, the capitalist doesn’t have to pay for the buildings in which the work is done and so on.dxxii The position of specialized workers who work at home but for a capitalist (manufacturer, établisseur) is of course quite different from that of independent craftsmen working for their own customers.dxxiii   In the second, mature organization of the manufacturing system, goods go through connected phases of development—processes that build on one another as a series of steps. For example, in the production of needles, the wire passes through the hands of 72 and sometimes even 92 different specialized workers. Insofar as this version of the manufacturing system combines types of craft labor that were originally scattered, it reduces the spatial separation between an article’s different stages of production, and so it takes less time for the article to go from one stage to another, along with less work to transport it.dxxiv The productive power of the manufacturing system thus exceeds that of independent artisanal labor, an advantage arising precisely from the system’s general cooperative character. At the same time, however, its characteristic principle of division requires that the different stages of production be isolated and made independent of one another. In order for the connections between the isolated functions to be established and maintained, the product of these specialized forms of craft labor has to keep moving from one hand to another—one process to another. From the perspective of large-scale industry, this stands out as a characteristic, costly limitedness that is inherent in the very principle of the manufacturing system.dxxv  When we consider some specific quantity of raw material as it enters the manufacturing workshop, say of rags for making paper or wire for making needles, we see that it will successively pass through a series of production stages, moving from one specialized worker’s hands to another’s as it takes shape as the finished product. But when we consider the workshop as a single unified mechanism, we see the same kind of raw material being worked on in all the stages of its production simultaneously. Made up of a combination of many specialized workers, the collective worker is armed with many tools in his multiple pairs of hands: he uses one set to pull the wire, another to straighten it, another to cut it, and so on. Stages of production that took place sequentially have been transformed into ones occurring at the same time, side by side, and thus more commodities are produced in the same amount of time.dxxvi This simultaneity results from the general cooperative form of the total process; but the manufacturing system not only finds the conditions for cooperation ready-made, it also helps to create them by subdividing craft trades. On the other hand, the system brings about the social organization of the labor process only by permanently fastening a particular worker to a single specialized activity. Since the specialized product of each specialized worker represents just one stage in the production of a single larger article, we can also say that one worker, or group of workers, prepares the raw material for other workers. The result of one worker’s labor represents the starting point of another’s labor. One worker directly puts another to work. The amount of labor-time it takes to achieve the intended useful effect in each specialized sub-process is established by experience, and the total mechanism of the manufacturing workshop is based on the presupposition that a given result will be produced when a given amount of labor-time is consumed. Only when this is presupposed can the different complementary labor processes operate without interruption, simultaneously, and side by side. Clearly, the direct interdependence of the different processes—and thus workers—forces each worker to spend no more than the necessary amount of labor-time in performing his particular function, which, overall, leads to continuity, uniformity, regularity, order,dxxvii and especially intensity very different from what we find among independent artisans and even in simple cooperation. In commodity production in general, only the socially necessary amount of labor-time is used to produce a commodity, and this circumstance presents itself as the effect of the external pressure of competition—or, put too simply, as stemming from the fact that every single producer has to sell his commodity at its market price. In the manufacturing workshop, in contrast, producing a given amount of product in a given amount of labor-time is a technological law of the production process itself.dxxviii   But different operations require different amounts of time and therefore yield different quantities of a specialized product in the same amount of time. So if a worker performs the same specific operation day after day, workers will be needed in different ratios in different operations. Let’s consider, for example, the production of type. Four founders and two breakers are needed for every rubber (the founder casts 2, type per hour, the breaker breaks up 4,000, and the rubber polishes 8,000). The principle of cooperation returns here in its simplest form—many workers of the same kind are employed at the same time, only now it is the expression of an organic ratio. Thus in the manufacturing system, the division of labor not only simplifies and multiplies the qualitatively different organs of the social collective worker, it also provides the quantitative dimensions of those organs with a fixed mathematical ratio—or, in other words, the relative number of workers, or relative size of the groups of workers, in each specialized function. As the division of labor organizes the social labor process qualitatively, it also establishes a quantitative rule and proportionality for that process. Once experience has established for a given scale of production how big the different groups of specialized workers should be relative to one another, the only way to expand the scale is to use a multiple of each group.dxxix In addition, there are certain tasks an individual worker can carry out on a larger scale just as effectively as on a smaller one—e.g., supervising, transporting parts of the product from one stage of production to another, etc. It is therefore advantageous to make such functions independent, or to assign them to a particular worker, only when the number of workers employed increases; but the increase must affect all the groups of workers proportionally, and it must do so from the start. The individual group, consisting of workers who perform the same specialized function, is made up of homogeneous elements and represents a particular organ of the total mechanism. But in some types of manufacturing workshops, a group is itself an organism of labor with its own divisions, and the total mechanism is formed by replicating—i.e., multiplying—this productive elementary organism. Take the production of glass bottles. It breaks down into three essentially different stages. First, there is the preparatory stage, which involves treating the components of glass, or combining the sand and lime, then melting them into a quantity of liquid glass.dxxx Various specialized workers are employed in this first stage, as is also the case in the final stage, where workers remove the bottles from the furnaces, sort them, pack them, and so on. The actual glassmaking occurs between these two stages: this is where the liquid glass is worked on. A group that the English call a “hole” works at one of the mouths of the furnace; this group comprises a bottle maker, a finisher, a blower, a gatherer, a putter up or whetter off, and a taker in. These five specialized workers represent the individual organs of a working organism that can function only as a unit—that is, only when all the workers are directly cooperating with one another. When one member is missing, the whole body is paralyzed. Glass furnaces have multiple openings; in England, for example, they have four to six. Each opening holds an earthenware melting pot containing liquid glass and puts to work its own group of five workers. The organization of each individual group is directly based on the division of labor, whereas what ties the different groups of the same kind together is simple cooperation, as a result of which one of the means of production (the furnace) is consumed collectively and therefore more economically. With its four to six groups, one such furnace constitutes a glass house, and a manufacturing workshop that produces glass is made up of many glass houses, along with the workers and equipment needed for both the preliminary and final phases of production. Finally, the emergence of the manufacturing workshop is due in part to the combining of different kinds of craft labor, and in the same way, as the manufacturing workshop develops, different workshops are sometimes combined. The largest English glass workshops make their own earthenware melting pots because the success of the production process depends on the quality those pots. Here connected production processes yield both a means of production and the product it helps make. On the other hand, the workshop where an article is produced can be united with workshops where that article serves as raw material, or with workshops making products the article is part of. Thus we find the production of flint glass combined with glass cutting and brass founding—brass is needed for the settings of various glass goods. Whether they are right next to one another or somewhat apart, the different manufacturing workshops combined in this way function as individual departments in a total enterprise, yet are at the same time independent production processes, each with its own division of labor. In spite of the various advantages this offers, the combined manufacturing workshop never achieves full technological unity on such a basis. Such unity doesn’t occur until the manufacturing system is transformed into machine-driven production. The principle of reducing the labor-time needed to make commodities was consciously formulated soon after the start of the manufacturing period,dxxxi which, moreover, saw the sporadic use of machines develop, particularly in certain basic processes that could take place only on a massive scale and required great outlays of force. In the production of paper, paper mills were soon used to tear up the rags, while in metal works the so-called stamping mills were employed to pound the ores.dxxxii The Roman Empire gifted posterity with the original form of all machinery: the water wheel.dxxxiii The period of craft labor bequeathed more major inventions: the compass, gunpowder, movable type, and the automatic clock. But on the whole, machinery played the supporting role that Adam Smith assigned it below the division of labor.dxxxiv The sporadic use of machinery became crucially important in the seventeenth century: it gave the great mathematicians of the era the practical orientation they needed to create modern mechanics and also provided them with an incentive to do so. The signature machinery of the manufacturing period remains the combined collective worker, who is made up of all the specialized workers in the workshop. The different operations required by turns to produce a commodity, and that interlock in the totality of a labor process, demand various things of its producer. He has to use more strength in one, more skill in another, greater concentration in a third, and so on. A single individual doesn’t have all these capacities in equal measure. And so after the different operations are separated, made independent, and isolated, workers themselves are divided, classified, and grouped together according to their outstanding abilities. The workers’ natural gifts constitute the foundation that supports the division of labor, but once the manufacturing system is in place, that system cultivates the bearers of labor-power in such a way that it is their nature to be of use only in narrow specialized functions. All the collective worker’s productive qualities are now developed to the same high degree of virtuosity. He applies them, moreover, in the most economical way, using each of his organs, i.e., different workers or groups of workers, only for its specific functions.dxxxv The specialized worker’s one-sidedness and even the shortcomings that go along with it make him the perfect component of a collective worker.dxxxvi As the specialized worker grows accustomed to his specialized activity, he is transformed into an organ of that activity that functions with the sureness of nature, while his connection to the total mechanism forces him to work with the regularity of a cog in a machine.dxxxvii Since the collective worker’s various functions can be simple or complex, lower or higher, his organs, the individual bearers of labor-power, require very different levels of training, and the value of their labor-power varies widely. The manufacturing system thus creates a hierarchy of bearers of labor-power and a corresponding wage scale. But to the same extent that individual workers are enlisted into and tethered for life to a specialized function, the different operations carried out by the just-mentioned hierarchy are adapted to workers’ natural and acquired capacities.dxxxviii Of course, every production process also involves doing certain simple things that require no special skill or talent. This labor, too, no longer flows into more substantial activities, but instead petrifies as a series of exclusive functions. Hence whenever the manufacturing system takes over a form of craft labor, it creates a class of so-called unskilled workers, whom craft industries had strictly excluded. If the workers in the manufacturing workshop perfect a narrow specialty at the cost of their other capacities, it’s also the case that the manufacturing system begins to make the lack of any training into a specialty. As the hierarchical ordering of workers takes shape, so, too, does a simple distinction: skilled versus unskilled. With the latter group, training costs don’t apply. For the former, they are lower than they are for craftsmen because the labor performed in the manufacturing workshop is less diverse. Either way, labor-power’s value fallsdxxxix—except where the decomposition of the labor process produces expansive new functions that didn’t exist in craft trades or existed there on a smaller scale. The relative devaluation of labor-power that results when training costs disappear (or shrink) directly implies a greater valorization of capital, for everything that shortens the time it takes to reproduce labor-power enlarges the domain of surplus value. 4. The Division of Labor in the Manufacturing System and the Division of Labor in Society  First we examined the origins of the manufacturing system, then we turned to its simple elements: the specialized worker and his tools. Finally, we considered the total mechanism. We will now touch briefly on the relation between the division of labor in the manufacturing system and the social division of labor, which is the foundation of all commodity production. If we focus on labor alone, we can describe the breakdown of social production into major categories—agriculture, industry, and so on—as the division of labor in general and the breaking down of those large categories into types and subtypes as the division of labor in particular. We can describe the division of labor in the manufacturing workshop as the detailed division of labor.dxl  That individuals are limited to particular occupations goes with the social division of labor, which, like the division of labor in the manufacturing system, proceeds from two diametrically opposed starting points. Within families and, eventually, tribes, differences in gender and age lead spontaneously to a division of labor that rests on a purely physiological foundation. The human material divided this way is enlarged as the community expands its territory, its population increases, and different tribes battle and subjugate one another. But as I remarked earlier, the exchange of products begins to occur where different families, tribes, and communities come into contact, for in the earliest stages of culture, families and tribes, rather than private individuals, encounter one another as independent agents. Different communities find different means of production and subsistence ready-made in their natural surroundings. Their modes of production, ways of living, and products are therefore different, too. This spontaneously arising variety leads communities to exchange their products when they meet, with the result that their products gradually become commodities. Exchange doesn’t create the differences between the spheres of production; instead it connects the different spheres, transforming them into more or less mutually dependent branches in a total system of social production. In this case, exchange between spheres of production that were originally distinct and also independent creates the social division of labor. But in the other case, where the division of labor is originally based on physiological differences, the individual organs of an interconnected whole are separated. They are decomposed in a process that is largely set in motion when commodities are exchanged with foreign communities, and they become independent to the point where the connection between different forms of labor is mediated by the exchange of their products as commodities. So in one scenario, what was independent is no longer independent; in the other, what wasn’t independent becomes independent. Wherever the division of labor has developed to an advanced state and is mediated by commodity exchange, it is based on the separation of town and country.dxli One might say that the entire economic history of society can be summed up as the movement of this opposition, which, however, we won’t discuss any further here. The material precondition for the division of labor in the manufacturing workshop is, as we know, that a certain number of workers are put to work at the same time; the size and density of the population plays the same role for society’s division of labor—that of an agglomeration of workers in a single workershop.dxlii Yet “density” is something relative here. A country with a relatively sparse population and an advanced system of communication actually has higher population density than a more heavily populated country where the means of communication aren’t advanced. In this sense, the northern states of the American Union are more thickly populated than India.dxliii  Since the production and circulation of commodities is the general precondition for the capitalist mode of production, the division of labor in the manufacturing system presupposes that the division of labor within society has already reached a certain level of development. But the inverse is also true: through a rebound effect, the manufacturing system’s division of labor further develops and enlarges the social division of labor. As the instruments of labor become more differentiated, so do the occupations responsible for making those tools.dxliv When the manufacturing system takes over a trade that one producer formerly practiced together with other trades in some way, whether as his main trade or an auxiliary one, these trades are immediately separated and made independent of one another. And when the manufacturing system takes over of a particular stage of a commodity’s production, the other stages are transformed into independent trades. Earlier, we observed that wherever the finished product is a whole assembled from component parts, the different kinds of labor that go into the parts can reestablish themselves as independent artisanal trades. As a way of making the division of labor in the manufacturing system more complete, single branches of production are split up into different, sometimes novel forms of the manufacturing workshop, according to how diverse their raw materials or the different forms of the same raw material are. Thus as early as in the first half of the eighteenth century, more than a hundred kinds of silk stuffs were woven in France alone, and in Avignon the law required that “every apprentice should devote himself to only one sort of fabrication, and should not learn the preparation of several kinds of material at once.” The territorial division of labor consigned particular branches of production to specific regions of a country, and it was fostered anew by the manufacturing system of production, which exploited all local and other peculiarities.dxlv The world market had to expand and the colonial system had to emerge before the manufacturing period could begin, and these developments also provided that period with rich material for advancing the division of labor within society. But this isn’t the right place to show how the division of labor came to predominate not only in the economic sphere, but also in all parts of society, ubiquitously laying the foundation for the disciplinary boundaries, specialization, and parceling up of human beings that prompted Andrew Ferguson, Adam Smith’s teacher, to exclaim, “We make a nation of Helots, and have no free citizens.”dxlvi   The division of labor within society and the division of labor in the manufacturing workshop may be analogous and linked in many ways, but they differ not only in degree but also in kind. Without question, they appear to be most strikingly analogous wherever an internal bond connects different branches of commerce. The cattle breeder produces hides; the tanner turns the hides into leather; the shoemaker turns the leather into boots. Each person produces the product of just one stage, and the finished form that emerges in the end is the combined product of each person’s specialized labor. Also involved are the diverse branches of labor that provide the cattle breeder, tanner, and shoemaker with their respective means of production. We might think, as Adam Smith did, that this social division of labor differs from the division of labor in the manufacturing system only subjectively—in other words, only for the observer, who can see right away that the manufacturing workshop brings together various forms of specialized labor, whereas in society, the different forms of labor are scattered over large expanses of space, and many workers are employed in them, making it hard to tell how they’re linked.dxlvii But what is it that connects the cattle breeder’s independent labor, the tanner’s, and the shoemaker’s? Their respective products exist as commodities. And what is it that characterizes the division of labor in the manufacturing system? The specialized worker doesn’t produce an actual commodity.dxlviii Only the collective final product turns into one.dxlix When the products of different branches of labor are bought and sold, this mediates the division of labor in society. In contrast, when a single capitalist buys labor-power from different types of workers, and then activates it as combined labor-power, he mediates the connection among the specialized forms of labor in a workshop. The division of labor in the manufacturing workshop presupposes that the means of production are concentrated in the hands of a single capitalist; the social division of labor presupposes that the means of production are divided among many independent commodity producers. In the manufacturing workshop, the iron law of ratio or proportionality determines how many workers are subsumed under each particular function. Chance and happenstance reign when it comes to the distribution of independent producers (and their means of production) among the different branches of labor in society. It is of course true that the different spheres of production always gravitate toward a state of equilibrium. For on the one hand, every commodity producer has to produce a use-value: he has to satisfy a particular social want or need, although the extent of these wants and needs varies, and an inner bond links the different amounts, thereby bringing about a spontaneously arising system. And on the other hand, the value-law of commodities determines how much of its total disposable labor-time a society can devote to the production of each kind of commodity. But there is a constant movement toward equilibrium on the part of the different spheres of production only because their equilibrium is always being unsettled. The a priori system according to which the division of labor is regulated in the manufacturing workshop functions differently in the division of labor within society, namely, as an a posteriori natural necessity that overcomes the lawless whims of individual commodity producers and that can be perceived in the silent barometric movement of fluctuating market prices. The division of labor in the manufacturing workshop presupposes the capitalist’s unconditional authority over human beings, who are merely parts of a total mechanism that belongs to him. The division of labor within society places opposite one another independent commodity producers who recognize no authority except that of competition, i.e., the coercive force exerted by the pressure of their competing interests, just as in the animal kingdom the bellum omnium contra omnes preserves every species’ conditions of existence to a greater or lesser degree.dl Thus the same bourgeois consciousness that eagerly lauds the division of labor in the manufacturing workshop, where the worker is permanently annexed to a specialized area and unconditionally subordinated to capital, that celebrates this as a form of organization that increases labor’s productive power, is just as quick to criticize all conscious attempts by society to monitor and regulate the social production process, decrying them as attacks on the “inviolable” property rights, freedom, and even the self-determining “genius” of the individual capitalist. Tellingly, the harshest thing enthusiastic apologists of the factory system have to say about the prospect of generally organizing social labor is this: it would transform all of society into a factory. In a society under the capitalist mode of production, the anarchy of the social division of labor and the despotism of the manufacturing system’s division of labor condition each other. In contrast, the earlier forms of society where the separation of trades emerged spontaneously, then crystallized, and was at last codified in the law, gave us on the one hand an image of the systematic and authoritative organization of social labor, while on the other hand, they either completely excluded the division of labor in the workshop or developed it on a miniature scale sporadically and arbitrarily.dli  Take certain very old communities of limited size in India, some of which still exist today and are based on communal ownership of the land, i.e., a direct connection between agriculture and craft labor, and also on a rigid division of labor that functions as a fixed plan and model whenever new communities are created. The communities are self-sufficient wholes of production whose production zones range from a hundred acres up to several thousand. Most goods are produced to satisfy the community’s own wants and needs, not as commodities. Production thus operates independently of the general division of labor in Indian society, which is mediated by commodity exchange. Only the surplus products are turned into commodities, and in some cases, this happens in the hands of the state, which long ago began to receive a certain quantity of products as rent in kind. There are different forms of communal living in different parts of India. In the simplest form, people farm land in common and divide up the products. Every family spins, weaves, and so on as domestic side occupations. In addition to the great mass of people who thus carry out the same tasks, there is the “chief member”—a judge, policeman, and tax collector combined in a single person. There is also the bookkeeper, who tracks agricultural production and everything to do with it. A third official prosecutes criminals and protects foreign travellers, accompanying them to the next village. The border guard defends the border against members of neighboring communities. There is the water supervisor, who distributes water for farming from communal tanks. There is the Brahmin, who performs religious functions, the schoolteacher, who draws in the sand to show children how to read and write, and the calendar Brahmin, who acts as the astrologer for planting and harvesting and who prophesies good or bad days for every kind of agricultural labor. There are the smith and the carpenter, who make and repair all the tools needed for farming. There is the pot maker, who produces pottery for the whole community, as well as the barber, the person who washes clothes, and the silversmith. And in a few places, there is a poet, who also serves as the silversmith in some communities and as the schoolteacher in others. The whole community supports these twelve or so people—i.e., gives them their means of subsistence. If the population grows, a new community is started on unfarmed land and built up according to the model of the community whose offshoot it is. The community mechanism here features a systematic division of labor, but a division such as we find in the manufacturing workshop is impossible, because the market for smiths, carpenters, and so on remains constant, and a community has, depending on its size, at most two or three pot makers and smiths rather than just one.dlii The law that regulates the division of labor in the community operates with the unquestioned authority of a natural law, while each individual craftsman—smith, carpenter, etc.—carries out all the different tasks of his trade in the traditional way, but also independently and without recognizing any authority in his workshop other than himself. These self-sufficient communities continuously reproduce themselves in the same form, and they rebuild themselvesdliii in the same place under the same name whenever they are accidentally destroyed. It is their simple productive organism that provides the answer to the mystery of why Asiatic societies have been so immutable, whereas, in dramatic contrast, Asiatic states are forever dissolving and being reconstituted, their dynasties changing ceaselessly. The bad weather from political storm clouds doesn’t touch the structure of society’s foundational economic elements. Guild laws, as we observed earlier, prevented the individual guild master from turning into a capitalist. In addition to strictly limiting the number of apprentices he was allowed to employ, they permitted him to employ only apprentices who would pursue the trade in which he was a master. The guild jealously guarded its status, defending it against every encroachment by merchant capital, the lone form of independent capital it had to deal with. A merchant could buy any sort of commodity; he just couldn’t buy labor as a commodity. He was tolerated only as the distributor of craft labor’s products. If external circumstances caused the division of labor to ripen further, existing guilds would split into subtypes, or new guilds were started alongside older ones. But the new guilds didn’t bring together different kinds of craft labor in a single workshop. Thus however much certain features of the guild organization—namely, the separation, isolation, and specialization of trades—count among the manufacturing period’s material conditions of existence, the guild system precluded the sort of division of labor we find in the manufacturing system. Generally speaking, a guild worker was affixed to his means of production like a snail to its shell. The primary prerequisite for the manufacturing system—functioning as capital, the means of production have become independent of the worker—was missing. Whether or not the division of labor in society as a whole is mediated by commodity exchange, it can figure in the most diverse economic formations of society. But the manufacturing system’s division of labor is very much the creation of the capitalist mode of production. 5. The Capitalist Character of the Manufacturing System  Cooperation in general and the manufacturing system in particular proceed from the same spontaneously arising starting point: an increased number of workers operating under the command of a single capitalist. But it is the manufacturing system’s division of labor that makes this increase into a technological necessity. The preexisting division of labor determines the minimum number of workers that the individual capitalist must employ. At the same time, it is advantageous to further divide labor only if the capitalist employs additional workers, which means adding them in multiples. When the variable capital is enlarged, the constant capital has to be enlarged as well—not only the shared conditions of production, such as buildings and furnaces, but, above all, the raw material, since the demand for that grows much faster than the number of workers. The amount of raw material consumed in a given time by a given amount of labor increases in the same proportion as the productive power of that labor does when the labor is divided. So, the minimum amount of capital in the hands of a single capitalist has to keep increasing—in other words, the amount of the social means of subsistence and means of production that are turned into capital has to keep growing. This is a law that arises from the particular technological character of the manufacturing system.dliv  In the manufacturing workshop, as in simple cooperation, the collective working organism represents a form in which capital exists. The social mechanism of production, made up of many individual specialized workers, belongs to the capitalist. Hence the productive power created when different forms of labor are combined presents itself as capital’s productive power. The manufacturing workshop not only subjects formerly independent workers to capital’s command and discipline, it also brings about hierarchical divisions among those workers. Whereas simple cooperation does little to change the way an individual worker works, the manufacturing system revolutionizes his mode of labor from the bottom up, seizing the individual bearer of labor-power by the roots. It stunts the worker, turning him into a freak. For it acts as a hothouse for developing a particular skill by forcing him to suppress a whole world of drives and proclivities, just as in the states of La Plata whole animals are slaughtered merely for their hides or their fat.dlv Not only are the particular forms of specialized labor divided up among different individuals, the individual himself is divided: he is transformed into the automatic engine of a specialized form of labor.dlvi Here the absurd fable of Menenius Agrippa, which depicts a person as a fragment of his own body, becomes real.dlvii If workers originally sold their labor-power to capital because they lacked the material means to produce a commodity, their own labor-power now can’t perform its service when it isn’t sold to capital. It functions only in a context that doesn’t exist until it has been sold: the capitalist’s workshop. The worker who operates in the manufacturing system loses the capacity to produce anything on his own; his natural constitution is altered in a way that renders him unable to do that. And so he cultivates his productive activity merely as something that belongs to the capitalist’s workshop. Just as it was written on the faces of the chosen people that they were Jehovah’s property, workers in the manufacturing system are branded as capital’s property by the division of labor. It is now only the workshop as a whole that requires the knowledge, discernment, and willpower that used to be exercised by the independent peasant or artisan, albeit on a small scale, much as the savage turned the entire art of war into the exercise of his personal cunning. The intellectual power used in production can increase in one area because it disappears in many others, and what specialized workers lose is concentrated on the other side of the capital relation, in capital. The division of labor in the manufacturing system creates a situation in which workers encounter the intellectual powers at work in the material production process as foreign property and as a force ruling over them. This process of separation begins in simple cooperation, where the capitalist represents the unity and will of labor’s social organism in his relation with his individual workers. It is developed further by the manufacturing system, which mutilates the worker by making him into a specialized worker. And it is completed in large-scale industry, which separates systematic knowledge from labor, turning the former into an independent productive force while pressing it into the service of capital. In the manufacturing system, the collective worker, or capital, becomes richer in social productive power only because the actual worker is made poorer in individual productive power. “Ignorance is the mother of industry as well as of superstition. Reflection and fancy are subject to err; but a habit of moving the hand or the foot is independent of either. Manufactures, accordingly, prosper most where the mind is least consulted, and where the workshop may be considered as an engine, the parts of which are men.”dlviii In the mid-eighteenth century, in fact, some capitalists preferred to have half-idiots perform certain operations that, while simple, were also trade secrets. dlix  “The understandings of the greater part of men,” wrote Adam Smith, “are necessarily formed by their ordinary employments. The man whose whole life is spent in performing a few simple operations . . . has no occasion to exert his understanding . . . He generally becomes as stupid and ignorant as it is possible for a human creature to become.” Having described the specialized worker’s stupidity, Smith continues, “The uniformity of his stationary life naturally corrupts the courage of his mind . . . It corrupts even the activity of his body and renders him incapable of exerting his strength with vigour and perseverance in any other employments than that to which he has been bred. His dexterity at his own particular trade seems in this manner to be acquired at the expense of his intellectual, social, and martial virtues. But in every improved and civilized society, this is the state into which the laboring poor, that is, the great body of people, must necessarily fall.”dlx How could society prevent the division of labor from deforming the majority of its members? Smith recommended people’s schools paid for by the state, although only in cautious, homeopathic doses. His French translator and commentator Germain Garnier, who, naturally, became a senator during the First Empire, was simply being consistent when he opposed that idea and inveighed against such schools. They would violate the first laws of the division of labor, according to Garnier. If they were established, “our whole social system would be proscribed.” “Like all other divisions of labor,” he wrote, “that between hand labour and head labourdlxi is more pronounced and decided in proportion as society [he is right to use this word to denote capital, landed property, and the state that belongs to them] becomes richer. The division of labour, like every other, is an effect of past, and a cause of future progress . . . ought the government then to work in opposition to this division of labour, and to hinder its natural course? Ought it to expend a part of the public money in the attempt to confound and blend together two classes of labour which are striving after division and separation?”dlxii  Some degree of intellectual and physical deformation will inevitably result from the division of labor in society as a whole. But in the manufacturing period, this social fragmentation of the different branches of labor was pushed much further, and with its unique division of labor, the manufacturing system was the first to seize the individual by the very roots of his being. Thus, in another first, it also provided the material and impetus for the industrial pathology.dlxiii   “To subdivide a man is to execute him, if he deserves the sentence, to assassinate him if he does not. The subdivision of labour is the assassination of a people.”dlxiv  Cooperation based on the division of labor, i.e., cooperation in the form of the manufacturing system, emerged spontaneously. But once it had achieved a certain consistency and existed widely enough, it became the conscious, methodical, and systematic form of the capitalist mode of production. The history of the manufacturing system proper shows how that system’s distinctive division of labor attained its most suitable forms through experience first, that is, behind the backs of the actors in this process, then it did what guild trades had once done: it tried to retain its form through tradition, succeeding for centuries in some cases. When its form did change in significant ways, the cause was invariably that the instruments of labor were revolutionized. The modern manufacturing workshop—I am not speaking here of large-scale industry, where production is driven by machines—either gets its disjecta membra poetae ready-made and waiting to be assembled, as in the production of clothes in large towns, or it has an easy time applying the principle of division, simply assigning individual workers to a single operation in craft production (as in book-binding, for example). In such cases, it can take less than a week to figure out the ratios of hands needed in the various functions.dlxv  The division of labor in the manufacturing system splits up the different activities of craft labor: in so doing it multiplies the artisan’s tools, forms specialized workers, groups and combines them to make up a total mechanism, and creates qualitative differentiation and quantitative proportionality in social processes of production, organizing social labor in such a way that it advances the new social productive power it gives to labor. As a specifically capitalist form of the social production process (and with its ready-made foundations, it couldn’t have developed in any other kind of form), the manufacturing system’s division of labor is simply a particular method for producing relative surplus value or increasing capital’s self-valorization—i.e., what is called social wealth, the “Wealth of Nations,” and so on—at the worker’s expense. Not only does it develop labor’s social productive power for the sake of the capitalist rather than the worker, but it develops that power by deforming individual workers. It remakes the conditions under which capital dominates labor. So even as this division of labor presents itself as an instance of historical progress and a necessary stage in society’s economic development, it also presents itself as a means of civilized and sophisticated exploitation. Political economy, which emerged as a branch of scholarship during the manufacturing period, is able to view the social division of labor only from the standpoint of the manufacturing system’s division of labor,dlxvi in other words, only as a means for producing a greater quantity of commodities with a given amount of labor in order to make commodities cheaper and accelerate the accumulation of capital. Hence political economists stress the importance of quantity and exchange-value. The writers of classical antiquity do just the opposite, focusing exclusively on quality and use-value.dlxvii They hold that when the branches of social labor are separated, commodities are improved, since people choose occupations based on their individual drives and talents,dlxviii and something of significance can be accomplished only where limits are imposed.dlxix The idea is thus that the division of labor makes for better products and better producers, too. Where growth in production is mentioned, what is at issue is always enlarging the supply of use-values. Not even a word is devoted to exchange-value and producing commodities less expensively. This standpoint, the standpoint of use-value,dlxx governed Plato’s outlook, and he treated the division of labor as the foundation of the division of society into orders. It governed Xenophon’s as well,dlxxi though with his characteristic bourgeois instincts, he came closer to the division of labor in the workshop. Plato’s Republic, insofar as it sees the division of labor as the shaping principle of the state, merely idealizes in Athenian fashion the Egyptian caste system. Other contemporaries, too, (e.g., Isocratesdlxxii) regarded Egypt as the model industrial nation, and it retained that status among the Greeks even during the Roman Empire.dlxxiii  During the manufacturing period proper, i.e., the period when the manufacturing system reigned as the dominant form of the capitalist mode of production, that system’s distinctive tendencies ran up against obstacles on all sides, which prevented them from being expressed more fully. We have seen that when workers were organized hierarchically in the manufacturing workshop, they were also divided into the groups “skilled” and “unskilled.” But due to the outsize influence of the first group, the number of workers in the second group remained very limited. Although the manufacturing system made its particular operations match the degree of experience, strength, and training of its living organs of labor, and thus sought to exploit women and children, the latter tendency failed on the whole to overcome the resistance and habits of adult male workers. While the cost of training craft labor, and thus also the worker’s value, was lowered when labor was further divided, a long period of training was still required for the more difficult specialized occupations, and even where such training wasn’t actually needed, workers ardently insisted on it. In England, for example, the laws of apprenticeship and the seven-year probationary period remained in full effect even at the end of the manufacturing period: it wasn’t until the era of large-scale industry that they were finally abolished. Because artisanal skill remained the foundational element in the manufacturing system, and the total mechanism functioning here had no objective framework independent of the workers, capital constantly had to push back against the workers’ insubordination. “By the infirmity of human nature,” explained our friend Ure, “it happens that the more skillful the workman, the more self-willed and intractable he is apt to become, and of course the less fit a component of a mechanical system in which  . . . he may do great damage to the whole.”dlxxiv  Thus the complaint that workers lacked discipline resounded through the whole manufacturing period.dlxxv Even if we didn’t have the testimony of contemporary writers, we would have a couple of simple facts that speak volumes: first, from the sixteenth century until the epoch of large-scale industry began, capital tried but failed to seize control of all the disposable labor-time of the workers in the manufacturing system, and, secondly, manufacturing enterprises were short lived. Capitalists often had to abandon a workshop in one country and rebuild it in another because workers had immigrated or emigrated. “Order must in one way or another be established,” declared the much-cited author of the “Essay on Trade and Commerce.” “Order,” echoed Dr. Andrew Ure sixty-six years later, was sorely missing in the system of manufacturing, which was based on “the scholastic dogma of the division of labor,” and “Arkwright created order.”  At the same time, the manufacturing system managed neither to encompass social production in its entirety nor to revolutionize it to its core. Relying on the broad foundation of urban craft labor and rural domestic industries, the manufacturing system rose up as a kind of economic work of art, but once it evolved to a certain point, a contradiction developed. The very production needs that it created became incompatible with its narrow technological foundation. One of its most advanced creations was the workshop where the instruments of labor were produced, especially the complex mechanical apparatuses that were already being used at the time. “A machine-factory,” says Ure, “displayed the division of labor in manifold gradations—the file, the drill, the lathe, having each its different workmen in the order of skill.” This product of the manufacturing system’s division of labor produced, for its part . . . machines. And they would supplant craft activity as the governing principle of social production, thereby sweeping aside the technological reason for permanently conscripting a worker into a specialized function, while also collapsing the barriers that the principle of craft labor had put in the way capital’s domination.'"
     },
     "execution_count": 113,
     "metadata": {},
     "output_type": "execute_result"
    }
   ],
   "source": [
    "text"
   ],
   "metadata": {
    "collapsed": false,
    "pycharm": {
     "name": "#%%\n"
    }
   }
  },
  {
   "cell_type": "code",
   "execution_count": 113,
   "outputs": [],
   "source": [],
   "metadata": {
    "collapsed": false,
    "pycharm": {
     "name": "#%%\n"
    }
   }
  },
  {
   "cell_type": "code",
   "execution_count": 65,
   "outputs": [],
   "source": [],
   "metadata": {
    "collapsed": false,
    "pycharm": {
     "name": "#%%\n"
    }
   }
  },
  {
   "cell_type": "code",
   "execution_count": null,
   "outputs": [],
   "source": [],
   "metadata": {
    "collapsed": false,
    "pycharm": {
     "name": "#%%\n"
    }
   }
  }
 ],
 "metadata": {
  "kernelspec": {
   "display_name": "Python 3",
   "language": "python",
   "name": "python3"
  },
  "language_info": {
   "codemirror_mode": {
    "name": "ipython",
    "version": 2
   },
   "file_extension": ".py",
   "mimetype": "text/x-python",
   "name": "python",
   "nbconvert_exporter": "python",
   "pygments_lexer": "ipython2",
   "version": "2.7.6"
  }
 },
 "nbformat": 4,
 "nbformat_minor": 0
}