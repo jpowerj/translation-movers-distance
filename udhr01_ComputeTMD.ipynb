{
 "cells": [
  {
   "cell_type": "code",
   "execution_count": 2,
   "metadata": {
    "collapsed": true
   },
   "outputs": [],
   "source": [
    "%load_ext autoreload\n",
    "%autoreload 2"
   ]
  },
  {
   "cell_type": "code",
   "execution_count": 3,
   "outputs": [],
   "source": [
    "import os\n",
    "\n",
    "import pandas as pd\n",
    "from tqdm import tqdm\n",
    "tqdm.pandas()\n",
    "\n",
    "import trglobals"
   ],
   "metadata": {
    "collapsed": false,
    "pycharm": {
     "name": "#%%\n"
    }
   }
  },
  {
   "cell_type": "markdown",
   "source": [
    "### Initialize the alignment model and load the texts"
   ],
   "metadata": {
    "collapsed": false,
    "pycharm": {
     "name": "#%% md\n"
    }
   }
  },
  {
   "cell_type": "code",
   "execution_count": 4,
   "outputs": [],
   "source": [
    "alignment_path = \"../Texts_Aligned/UDHR/\"\n",
    "output_path = \"../Texts_Output/UDHR/\"\n",
    "if not os.path.isdir(output_path):\n",
    "    os.mkdir(output_path)"
   ],
   "metadata": {
    "collapsed": false,
    "pycharm": {
     "name": "#%%\n"
    }
   }
  },
  {
   "cell_type": "code",
   "execution_count": 5,
   "outputs": [
    {
     "name": "stdout",
     "output_type": "stream",
     "text": [
      "No model available for am\n",
      "de model initialized\n",
      "el model initialized\n",
      "en model initialized\n",
      "it model initialized\n",
      "No model available for kk\n",
      "ru model initialized\n",
      "vi model initialized\n",
      "zh model initialized\n"
     ]
    }
   ],
   "source": [
    "trglobals.init_embedding_model()"
   ],
   "metadata": {
    "collapsed": false,
    "pycharm": {
     "name": "#%%\n"
    }
   }
  },
  {
   "cell_type": "code",
   "execution_count": 6,
   "outputs": [
    {
     "data": {
      "text/plain": "EmbeddingModel with 7 langs: de, el, en, it, ru, vi, zh"
     },
     "execution_count": 6,
     "metadata": {},
     "output_type": "execute_result"
    }
   ],
   "source": [
    "trglobals.xlang_model"
   ],
   "metadata": {
    "collapsed": false,
    "pycharm": {
     "name": "#%%\n"
    }
   }
  },
  {
   "cell_type": "markdown",
   "source": [
    "### German - English"
   ],
   "metadata": {
    "collapsed": false,
    "pycharm": {
     "name": "#%% md\n"
    }
   }
  },
  {
   "cell_type": "code",
   "execution_count": 7,
   "outputs": [
    {
     "data": {
      "text/plain": "                                                   de  \\\n0   Alle Menschen sind frei und gleich an Würde un...   \n1   Jeder hat Anspruch auf die in dieser Erklärung...   \n2   Jeder hat das Recht auf Leben, Freiheit und Si...   \n3   Niemand darf in Sklaverei oder Leibeigenschaft...   \n4   Niemand darf der Folter oder grausamer, unmens...   \n5   Jeder hat das Recht, überall als rechtsfähig a...   \n6   Alle Menschen sind vor dem Gesetz gleich und h...   \n7   Jeder hat Anspruch auf einen wirksamen Rechtsb...   \n8   Niemand darf willkürlich festgenommen, in Haft...   \n9   Jeder hat bei der Feststellung seiner Rechte u...   \n10  Jeder, der wegen einer strafbaren Handlung bes...   \n11  Niemand darf willkürlichen Eingriffen in sein ...   \n12  Jeder hat das Recht, sich innerhalb eines Staa...   \n13  Jeder hat das Recht, in anderen Ländern vor Ve...   \n14  Jeder hat das Recht auf eine Staatsangehörigke...   \n15  Heiratsfähige Frauen und Männer haben ohne Bes...   \n16  Jeder hat das Recht, sowohl allein als auch in...   \n17  Jeder hat das Recht auf Gedanken-, Gewissens- ...   \n18  Jeder hat das Recht auf Meinungsfreiheit und f...   \n19  Alle Menschen haben das Recht, sich friedlich ...   \n20  Jeder hat das Recht, an der Gestaltung der öff...   \n21  Jeder hat als Mitglied der Gesellschaft das Re...   \n22  Jeder hat das Recht auf Arbeit, auf freie Beru...   \n23  Jeder hat das Recht auf Erholung und Freizeit ...   \n24  Jeder hat das Recht auf einen Lebensstandard, ...   \n25  Jeder hat das Recht auf Bildung. Die Bildung i...   \n26  Jeder hat das Recht, am kulturellen Leben der ...   \n27  Jeder hat Anspruch auf eine soziale und intern...   \n28  Jeder hat Pflichten gegenüber der Gemeinschaft...   \n29  Keine Bestimmung dieser Erklärung darf dahin a...   \n\n                                                   en  \n0   All human beings are born free and equal in di...  \n1   Everyone is entitled to all the rights and fre...  \n2   Everyone has the right to life, liberty and th...  \n3   No one shall be held in slavery or servitude; ...  \n4   No one shall be subjected to torture or to cru...  \n5   Everyone has the right to recognition everywhe...  \n6   All are equal before the law and are entitled ...  \n7   Everyone has the right to an effective remedy ...  \n8   No one shall be subjected to arbitrary arrest,...  \n9   Everyone is entitled in full equality to a fai...  \n10  Everyone charged with a penal offence has the ...  \n11  No one shall be subjected to arbitrary interfe...  \n12  Everyone has the right to freedom of movement ...  \n13  Everyone has the right to seek and to enjoy in...  \n14  Everyone has the right to a nationality.    No...  \n15  Men and women of full age, without any limitat...  \n16  Everyone has the right to own property alone a...  \n17  Everyone has the right to freedom of thought, ...  \n18  Everyone has the right to freedom of opinion a...  \n19  Everyone has the right to freedom of peaceful ...  \n20  Everyone has the right to take part in the gov...  \n21  Everyone, as a member of society, has the righ...  \n22  Everyone has the right to work, to free choice...  \n23  Everyone has the right to rest and leisure, in...  \n24  Everyone has the right to a standard of living...  \n25  Everyone has the right to education. Education...  \n26  Everyone has the right freely to participate i...  \n27  Everyone is entitled to a social and internati...  \n28  Everyone has duties to the community in which ...  \n29  Nothing in this Declaration may be interpreted...  ",
      "text/html": "<div>\n<style scoped>\n    .dataframe tbody tr th:only-of-type {\n        vertical-align: middle;\n    }\n\n    .dataframe tbody tr th {\n        vertical-align: top;\n    }\n\n    .dataframe thead th {\n        text-align: right;\n    }\n</style>\n<table border=\"1\" class=\"dataframe\">\n  <thead>\n    <tr style=\"text-align: right;\">\n      <th></th>\n      <th>de</th>\n      <th>en</th>\n    </tr>\n  </thead>\n  <tbody>\n    <tr>\n      <th>0</th>\n      <td>Alle Menschen sind frei und gleich an Würde un...</td>\n      <td>All human beings are born free and equal in di...</td>\n    </tr>\n    <tr>\n      <th>1</th>\n      <td>Jeder hat Anspruch auf die in dieser Erklärung...</td>\n      <td>Everyone is entitled to all the rights and fre...</td>\n    </tr>\n    <tr>\n      <th>2</th>\n      <td>Jeder hat das Recht auf Leben, Freiheit und Si...</td>\n      <td>Everyone has the right to life, liberty and th...</td>\n    </tr>\n    <tr>\n      <th>3</th>\n      <td>Niemand darf in Sklaverei oder Leibeigenschaft...</td>\n      <td>No one shall be held in slavery or servitude; ...</td>\n    </tr>\n    <tr>\n      <th>4</th>\n      <td>Niemand darf der Folter oder grausamer, unmens...</td>\n      <td>No one shall be subjected to torture or to cru...</td>\n    </tr>\n    <tr>\n      <th>5</th>\n      <td>Jeder hat das Recht, überall als rechtsfähig a...</td>\n      <td>Everyone has the right to recognition everywhe...</td>\n    </tr>\n    <tr>\n      <th>6</th>\n      <td>Alle Menschen sind vor dem Gesetz gleich und h...</td>\n      <td>All are equal before the law and are entitled ...</td>\n    </tr>\n    <tr>\n      <th>7</th>\n      <td>Jeder hat Anspruch auf einen wirksamen Rechtsb...</td>\n      <td>Everyone has the right to an effective remedy ...</td>\n    </tr>\n    <tr>\n      <th>8</th>\n      <td>Niemand darf willkürlich festgenommen, in Haft...</td>\n      <td>No one shall be subjected to arbitrary arrest,...</td>\n    </tr>\n    <tr>\n      <th>9</th>\n      <td>Jeder hat bei der Feststellung seiner Rechte u...</td>\n      <td>Everyone is entitled in full equality to a fai...</td>\n    </tr>\n    <tr>\n      <th>10</th>\n      <td>Jeder, der wegen einer strafbaren Handlung bes...</td>\n      <td>Everyone charged with a penal offence has the ...</td>\n    </tr>\n    <tr>\n      <th>11</th>\n      <td>Niemand darf willkürlichen Eingriffen in sein ...</td>\n      <td>No one shall be subjected to arbitrary interfe...</td>\n    </tr>\n    <tr>\n      <th>12</th>\n      <td>Jeder hat das Recht, sich innerhalb eines Staa...</td>\n      <td>Everyone has the right to freedom of movement ...</td>\n    </tr>\n    <tr>\n      <th>13</th>\n      <td>Jeder hat das Recht, in anderen Ländern vor Ve...</td>\n      <td>Everyone has the right to seek and to enjoy in...</td>\n    </tr>\n    <tr>\n      <th>14</th>\n      <td>Jeder hat das Recht auf eine Staatsangehörigke...</td>\n      <td>Everyone has the right to a nationality.    No...</td>\n    </tr>\n    <tr>\n      <th>15</th>\n      <td>Heiratsfähige Frauen und Männer haben ohne Bes...</td>\n      <td>Men and women of full age, without any limitat...</td>\n    </tr>\n    <tr>\n      <th>16</th>\n      <td>Jeder hat das Recht, sowohl allein als auch in...</td>\n      <td>Everyone has the right to own property alone a...</td>\n    </tr>\n    <tr>\n      <th>17</th>\n      <td>Jeder hat das Recht auf Gedanken-, Gewissens- ...</td>\n      <td>Everyone has the right to freedom of thought, ...</td>\n    </tr>\n    <tr>\n      <th>18</th>\n      <td>Jeder hat das Recht auf Meinungsfreiheit und f...</td>\n      <td>Everyone has the right to freedom of opinion a...</td>\n    </tr>\n    <tr>\n      <th>19</th>\n      <td>Alle Menschen haben das Recht, sich friedlich ...</td>\n      <td>Everyone has the right to freedom of peaceful ...</td>\n    </tr>\n    <tr>\n      <th>20</th>\n      <td>Jeder hat das Recht, an der Gestaltung der öff...</td>\n      <td>Everyone has the right to take part in the gov...</td>\n    </tr>\n    <tr>\n      <th>21</th>\n      <td>Jeder hat als Mitglied der Gesellschaft das Re...</td>\n      <td>Everyone, as a member of society, has the righ...</td>\n    </tr>\n    <tr>\n      <th>22</th>\n      <td>Jeder hat das Recht auf Arbeit, auf freie Beru...</td>\n      <td>Everyone has the right to work, to free choice...</td>\n    </tr>\n    <tr>\n      <th>23</th>\n      <td>Jeder hat das Recht auf Erholung und Freizeit ...</td>\n      <td>Everyone has the right to rest and leisure, in...</td>\n    </tr>\n    <tr>\n      <th>24</th>\n      <td>Jeder hat das Recht auf einen Lebensstandard, ...</td>\n      <td>Everyone has the right to a standard of living...</td>\n    </tr>\n    <tr>\n      <th>25</th>\n      <td>Jeder hat das Recht auf Bildung. Die Bildung i...</td>\n      <td>Everyone has the right to education. Education...</td>\n    </tr>\n    <tr>\n      <th>26</th>\n      <td>Jeder hat das Recht, am kulturellen Leben der ...</td>\n      <td>Everyone has the right freely to participate i...</td>\n    </tr>\n    <tr>\n      <th>27</th>\n      <td>Jeder hat Anspruch auf eine soziale und intern...</td>\n      <td>Everyone is entitled to a social and internati...</td>\n    </tr>\n    <tr>\n      <th>28</th>\n      <td>Jeder hat Pflichten gegenüber der Gemeinschaft...</td>\n      <td>Everyone has duties to the community in which ...</td>\n    </tr>\n    <tr>\n      <th>29</th>\n      <td>Keine Bestimmung dieser Erklärung darf dahin a...</td>\n      <td>Nothing in this Declaration may be interpreted...</td>\n    </tr>\n  </tbody>\n</table>\n</div>"
     },
     "execution_count": 7,
     "metadata": {},
     "output_type": "execute_result"
    }
   ],
   "source": [
    "en_df = pd.read_csv(os.path.join(alignment_path, 'de.en.csv'))\n",
    "en_df"
   ],
   "metadata": {
    "collapsed": false,
    "pycharm": {
     "name": "#%%\n"
    }
   }
  },
  {
   "cell_type": "code",
   "execution_count": 8,
   "outputs": [
    {
     "name": "stderr",
     "output_type": "stream",
     "text": [
      "100%|██████████| 30/30 [00:00<00:00, 34.98it/s]\n"
     ]
    },
    {
     "data": {
      "text/plain": "                                                   de  \\\n0   Alle Menschen sind frei und gleich an Würde un...   \n1   Jeder hat Anspruch auf die in dieser Erklärung...   \n2   Jeder hat das Recht auf Leben, Freiheit und Si...   \n3   Niemand darf in Sklaverei oder Leibeigenschaft...   \n4   Niemand darf der Folter oder grausamer, unmens...   \n5   Jeder hat das Recht, überall als rechtsfähig a...   \n6   Alle Menschen sind vor dem Gesetz gleich und h...   \n7   Jeder hat Anspruch auf einen wirksamen Rechtsb...   \n8   Niemand darf willkürlich festgenommen, in Haft...   \n9   Jeder hat bei der Feststellung seiner Rechte u...   \n10  Jeder, der wegen einer strafbaren Handlung bes...   \n11  Niemand darf willkürlichen Eingriffen in sein ...   \n12  Jeder hat das Recht, sich innerhalb eines Staa...   \n13  Jeder hat das Recht, in anderen Ländern vor Ve...   \n14  Jeder hat das Recht auf eine Staatsangehörigke...   \n15  Heiratsfähige Frauen und Männer haben ohne Bes...   \n16  Jeder hat das Recht, sowohl allein als auch in...   \n17  Jeder hat das Recht auf Gedanken-, Gewissens- ...   \n18  Jeder hat das Recht auf Meinungsfreiheit und f...   \n19  Alle Menschen haben das Recht, sich friedlich ...   \n20  Jeder hat das Recht, an der Gestaltung der öff...   \n21  Jeder hat als Mitglied der Gesellschaft das Re...   \n22  Jeder hat das Recht auf Arbeit, auf freie Beru...   \n23  Jeder hat das Recht auf Erholung und Freizeit ...   \n24  Jeder hat das Recht auf einen Lebensstandard, ...   \n25  Jeder hat das Recht auf Bildung. Die Bildung i...   \n26  Jeder hat das Recht, am kulturellen Leben der ...   \n27  Jeder hat Anspruch auf eine soziale und intern...   \n28  Jeder hat Pflichten gegenüber der Gemeinschaft...   \n29  Keine Bestimmung dieser Erklärung darf dahin a...   \n\n                                                   en       tmd  \n0   All human beings are born free and equal in di...  0.678249  \n1   Everyone is entitled to all the rights and fre...  0.799062  \n2   Everyone has the right to life, liberty and th...  0.746018  \n3   No one shall be held in slavery or servitude; ...  0.712372  \n4   No one shall be subjected to torture or to cru...  0.737463  \n5   Everyone has the right to recognition everywhe...  0.939490  \n6   All are equal before the law and are entitled ...  0.742359  \n7   Everyone has the right to an effective remedy ...  0.908767  \n8   No one shall be subjected to arbitrary arrest,...  0.913836  \n9   Everyone is entitled in full equality to a fai...  0.736548  \n10  Everyone charged with a penal offence has the ...  0.843351  \n11  No one shall be subjected to arbitrary interfe...  0.878679  \n12  Everyone has the right to freedom of movement ...  0.845322  \n13  Everyone has the right to seek and to enjoy in...  0.824202  \n14  Everyone has the right to a nationality.    No...  0.889761  \n15  Men and women of full age, without any limitat...  0.760592  \n16  Everyone has the right to own property alone a...  0.836264  \n17  Everyone has the right to freedom of thought, ...  0.706123  \n18  Everyone has the right to freedom of opinion a...  0.781018  \n19  Everyone has the right to freedom of peaceful ...  0.879998  \n20  Everyone has the right to take part in the gov...  0.878942  \n21  Everyone, as a member of society, has the righ...  0.717690  \n22  Everyone has the right to work, to free choice...  0.832327  \n23  Everyone has the right to rest and leisure, in...  0.786756  \n24  Everyone has the right to a standard of living...  0.816758  \n25  Everyone has the right to education. Education...  0.832836  \n26  Everyone has the right freely to participate i...  0.837397  \n27  Everyone is entitled to a social and internati...  0.725144  \n28  Everyone has duties to the community in which ...  0.741987  \n29  Nothing in this Declaration may be interpreted...  0.865996  ",
      "text/html": "<div>\n<style scoped>\n    .dataframe tbody tr th:only-of-type {\n        vertical-align: middle;\n    }\n\n    .dataframe tbody tr th {\n        vertical-align: top;\n    }\n\n    .dataframe thead th {\n        text-align: right;\n    }\n</style>\n<table border=\"1\" class=\"dataframe\">\n  <thead>\n    <tr style=\"text-align: right;\">\n      <th></th>\n      <th>de</th>\n      <th>en</th>\n      <th>tmd</th>\n    </tr>\n  </thead>\n  <tbody>\n    <tr>\n      <th>0</th>\n      <td>Alle Menschen sind frei und gleich an Würde un...</td>\n      <td>All human beings are born free and equal in di...</td>\n      <td>0.678249</td>\n    </tr>\n    <tr>\n      <th>1</th>\n      <td>Jeder hat Anspruch auf die in dieser Erklärung...</td>\n      <td>Everyone is entitled to all the rights and fre...</td>\n      <td>0.799062</td>\n    </tr>\n    <tr>\n      <th>2</th>\n      <td>Jeder hat das Recht auf Leben, Freiheit und Si...</td>\n      <td>Everyone has the right to life, liberty and th...</td>\n      <td>0.746018</td>\n    </tr>\n    <tr>\n      <th>3</th>\n      <td>Niemand darf in Sklaverei oder Leibeigenschaft...</td>\n      <td>No one shall be held in slavery or servitude; ...</td>\n      <td>0.712372</td>\n    </tr>\n    <tr>\n      <th>4</th>\n      <td>Niemand darf der Folter oder grausamer, unmens...</td>\n      <td>No one shall be subjected to torture or to cru...</td>\n      <td>0.737463</td>\n    </tr>\n    <tr>\n      <th>5</th>\n      <td>Jeder hat das Recht, überall als rechtsfähig a...</td>\n      <td>Everyone has the right to recognition everywhe...</td>\n      <td>0.939490</td>\n    </tr>\n    <tr>\n      <th>6</th>\n      <td>Alle Menschen sind vor dem Gesetz gleich und h...</td>\n      <td>All are equal before the law and are entitled ...</td>\n      <td>0.742359</td>\n    </tr>\n    <tr>\n      <th>7</th>\n      <td>Jeder hat Anspruch auf einen wirksamen Rechtsb...</td>\n      <td>Everyone has the right to an effective remedy ...</td>\n      <td>0.908767</td>\n    </tr>\n    <tr>\n      <th>8</th>\n      <td>Niemand darf willkürlich festgenommen, in Haft...</td>\n      <td>No one shall be subjected to arbitrary arrest,...</td>\n      <td>0.913836</td>\n    </tr>\n    <tr>\n      <th>9</th>\n      <td>Jeder hat bei der Feststellung seiner Rechte u...</td>\n      <td>Everyone is entitled in full equality to a fai...</td>\n      <td>0.736548</td>\n    </tr>\n    <tr>\n      <th>10</th>\n      <td>Jeder, der wegen einer strafbaren Handlung bes...</td>\n      <td>Everyone charged with a penal offence has the ...</td>\n      <td>0.843351</td>\n    </tr>\n    <tr>\n      <th>11</th>\n      <td>Niemand darf willkürlichen Eingriffen in sein ...</td>\n      <td>No one shall be subjected to arbitrary interfe...</td>\n      <td>0.878679</td>\n    </tr>\n    <tr>\n      <th>12</th>\n      <td>Jeder hat das Recht, sich innerhalb eines Staa...</td>\n      <td>Everyone has the right to freedom of movement ...</td>\n      <td>0.845322</td>\n    </tr>\n    <tr>\n      <th>13</th>\n      <td>Jeder hat das Recht, in anderen Ländern vor Ve...</td>\n      <td>Everyone has the right to seek and to enjoy in...</td>\n      <td>0.824202</td>\n    </tr>\n    <tr>\n      <th>14</th>\n      <td>Jeder hat das Recht auf eine Staatsangehörigke...</td>\n      <td>Everyone has the right to a nationality.    No...</td>\n      <td>0.889761</td>\n    </tr>\n    <tr>\n      <th>15</th>\n      <td>Heiratsfähige Frauen und Männer haben ohne Bes...</td>\n      <td>Men and women of full age, without any limitat...</td>\n      <td>0.760592</td>\n    </tr>\n    <tr>\n      <th>16</th>\n      <td>Jeder hat das Recht, sowohl allein als auch in...</td>\n      <td>Everyone has the right to own property alone a...</td>\n      <td>0.836264</td>\n    </tr>\n    <tr>\n      <th>17</th>\n      <td>Jeder hat das Recht auf Gedanken-, Gewissens- ...</td>\n      <td>Everyone has the right to freedom of thought, ...</td>\n      <td>0.706123</td>\n    </tr>\n    <tr>\n      <th>18</th>\n      <td>Jeder hat das Recht auf Meinungsfreiheit und f...</td>\n      <td>Everyone has the right to freedom of opinion a...</td>\n      <td>0.781018</td>\n    </tr>\n    <tr>\n      <th>19</th>\n      <td>Alle Menschen haben das Recht, sich friedlich ...</td>\n      <td>Everyone has the right to freedom of peaceful ...</td>\n      <td>0.879998</td>\n    </tr>\n    <tr>\n      <th>20</th>\n      <td>Jeder hat das Recht, an der Gestaltung der öff...</td>\n      <td>Everyone has the right to take part in the gov...</td>\n      <td>0.878942</td>\n    </tr>\n    <tr>\n      <th>21</th>\n      <td>Jeder hat als Mitglied der Gesellschaft das Re...</td>\n      <td>Everyone, as a member of society, has the righ...</td>\n      <td>0.717690</td>\n    </tr>\n    <tr>\n      <th>22</th>\n      <td>Jeder hat das Recht auf Arbeit, auf freie Beru...</td>\n      <td>Everyone has the right to work, to free choice...</td>\n      <td>0.832327</td>\n    </tr>\n    <tr>\n      <th>23</th>\n      <td>Jeder hat das Recht auf Erholung und Freizeit ...</td>\n      <td>Everyone has the right to rest and leisure, in...</td>\n      <td>0.786756</td>\n    </tr>\n    <tr>\n      <th>24</th>\n      <td>Jeder hat das Recht auf einen Lebensstandard, ...</td>\n      <td>Everyone has the right to a standard of living...</td>\n      <td>0.816758</td>\n    </tr>\n    <tr>\n      <th>25</th>\n      <td>Jeder hat das Recht auf Bildung. Die Bildung i...</td>\n      <td>Everyone has the right to education. Education...</td>\n      <td>0.832836</td>\n    </tr>\n    <tr>\n      <th>26</th>\n      <td>Jeder hat das Recht, am kulturellen Leben der ...</td>\n      <td>Everyone has the right freely to participate i...</td>\n      <td>0.837397</td>\n    </tr>\n    <tr>\n      <th>27</th>\n      <td>Jeder hat Anspruch auf eine soziale und intern...</td>\n      <td>Everyone is entitled to a social and internati...</td>\n      <td>0.725144</td>\n    </tr>\n    <tr>\n      <th>28</th>\n      <td>Jeder hat Pflichten gegenüber der Gemeinschaft...</td>\n      <td>Everyone has duties to the community in which ...</td>\n      <td>0.741987</td>\n    </tr>\n    <tr>\n      <th>29</th>\n      <td>Keine Bestimmung dieser Erklärung darf dahin a...</td>\n      <td>Nothing in this Declaration may be interpreted...</td>\n      <td>0.865996</td>\n    </tr>\n  </tbody>\n</table>\n</div>"
     },
     "execution_count": 8,
     "metadata": {},
     "output_type": "execute_result"
    }
   ],
   "source": [
    "compute_tmd_partial = lambda cur_row: trglobals.compute_tmd(cur_row, 'de', 'en')\n",
    "en_df['tmd'] = en_df.progress_apply(compute_tmd_partial, axis=1)\n",
    "en_df"
   ],
   "metadata": {
    "collapsed": false,
    "pycharm": {
     "name": "#%%\n"
    }
   }
  },
  {
   "cell_type": "code",
   "execution_count": 9,
   "outputs": [
    {
     "data": {
      "text/plain": "0.8065102403435918"
     },
     "execution_count": 9,
     "metadata": {},
     "output_type": "execute_result"
    }
   ],
   "source": [
    "en_df['tmd'].mean()"
   ],
   "metadata": {
    "collapsed": false,
    "pycharm": {
     "name": "#%%\n"
    }
   }
  },
  {
   "cell_type": "code",
   "execution_count": 10,
   "outputs": [],
   "source": [
    "en_fpath = os.path.join(output_path, f\"tmd_de_en.csv\")\n",
    "en_df.to_csv(en_fpath, encoding='utf8', index=False)"
   ],
   "metadata": {
    "collapsed": false,
    "pycharm": {
     "name": "#%%\n"
    }
   }
  },
  {
   "cell_type": "markdown",
   "source": [
    "### German - Russian"
   ],
   "metadata": {
    "collapsed": false,
    "pycharm": {
     "name": "#%% md\n"
    }
   }
  },
  {
   "cell_type": "code",
   "execution_count": 11,
   "outputs": [
    {
     "data": {
      "text/plain": "                                                   de  \\\n0   Alle Menschen sind frei und gleich an Würde un...   \n1   Jeder hat Anspruch auf die in dieser Erklärung...   \n2   Jeder hat das Recht auf Leben, Freiheit und Si...   \n3   Niemand darf in Sklaverei oder Leibeigenschaft...   \n4   Niemand darf der Folter oder grausamer, unmens...   \n5   Jeder hat das Recht, überall als rechtsfähig a...   \n6   Alle Menschen sind vor dem Gesetz gleich und h...   \n7   Jeder hat Anspruch auf einen wirksamen Rechtsb...   \n8   Niemand darf willkürlich festgenommen, in Haft...   \n9   Jeder hat bei der Feststellung seiner Rechte u...   \n10  Jeder, der wegen einer strafbaren Handlung bes...   \n11  Niemand darf willkürlichen Eingriffen in sein ...   \n12  Jeder hat das Recht, sich innerhalb eines Staa...   \n13  Jeder hat das Recht, in anderen Ländern vor Ve...   \n14  Jeder hat das Recht auf eine Staatsangehörigke...   \n15  Heiratsfähige Frauen und Männer haben ohne Bes...   \n16  Jeder hat das Recht, sowohl allein als auch in...   \n17  Jeder hat das Recht auf Gedanken-, Gewissens- ...   \n18  Jeder hat das Recht auf Meinungsfreiheit und f...   \n19  Alle Menschen haben das Recht, sich friedlich ...   \n20  Jeder hat das Recht, an der Gestaltung der öff...   \n21  Jeder hat als Mitglied der Gesellschaft das Re...   \n22  Jeder hat das Recht auf Arbeit, auf freie Beru...   \n23  Jeder hat das Recht auf Erholung und Freizeit ...   \n24  Jeder hat das Recht auf einen Lebensstandard, ...   \n25  Jeder hat das Recht auf Bildung. Die Bildung i...   \n26  Jeder hat das Recht, am kulturellen Leben der ...   \n27  Jeder hat Anspruch auf eine soziale und intern...   \n28  Jeder hat Pflichten gegenüber der Gemeinschaft...   \n29  Keine Bestimmung dieser Erklärung darf dahin a...   \n\n                                                   ru  \n0   Все люди рождаются свободными и равными в свое...  \n1   Каждый человек должен обладать всеми правами и...  \n2   Каждый человек имеет право на жизнь, на свобод...  \n3   Никто не должен содержаться в рабстве или в по...  \n4   Никто не должен подвергаться пыткам или жесток...  \n5   Каждый человек, где бы он ни находился, имеет ...  \n6   Все люди равны перед законом и имеют право, бе...  \n7   Каждый человек имеет право на эффективное восс...  \n8   Никто не может быть подвергнут произвольному а...  \n9   Каждый человек, для определения его прав и обя...  \n10  Каждый человек, обвиняемый в совершении престу...  \n11  Никто не может подвергаться произвольному вмеш...  \n12  Каждый человек имеет право свободно передвигат...  \n13  Каждый человек имеет право искать убежища от п...  \n14  Каждый человек имеет право на гражданство.    ...  \n15  Мужчины и женщины, достигшие совершеннолетия, ...  \n16  Каждый человек имеет право владеть имуществом ...  \n17  Каждый человек имеет право на свободу мысли, с...  \n18  Каждый человек имеет право на свободу убеждени...  \n19  Каждый человек имеет право на свободу мирных с...  \n20  Каждый человек имеет право принимать участие в...  \n21  Каждый человек, как член общества, имеет право...  \n22  Каждый человек имеет право на труд, на свободн...  \n23  Каждый человек имеет право на отдых и досуг, в...  \n24  Каждый человек имеет право на такой жизненный ...  \n25  Каждый человек имеет право на образование. Обр...  \n26  Каждый человек имеет право свободно участвоват...  \n27  Каждый человек имеет право на социальный и меж...  \n28  Каждый человек имеет обязанности перед обществ...  \n29  Ничто в настоящей Декларации не может быть ист...  ",
      "text/html": "<div>\n<style scoped>\n    .dataframe tbody tr th:only-of-type {\n        vertical-align: middle;\n    }\n\n    .dataframe tbody tr th {\n        vertical-align: top;\n    }\n\n    .dataframe thead th {\n        text-align: right;\n    }\n</style>\n<table border=\"1\" class=\"dataframe\">\n  <thead>\n    <tr style=\"text-align: right;\">\n      <th></th>\n      <th>de</th>\n      <th>ru</th>\n    </tr>\n  </thead>\n  <tbody>\n    <tr>\n      <th>0</th>\n      <td>Alle Menschen sind frei und gleich an Würde un...</td>\n      <td>Все люди рождаются свободными и равными в свое...</td>\n    </tr>\n    <tr>\n      <th>1</th>\n      <td>Jeder hat Anspruch auf die in dieser Erklärung...</td>\n      <td>Каждый человек должен обладать всеми правами и...</td>\n    </tr>\n    <tr>\n      <th>2</th>\n      <td>Jeder hat das Recht auf Leben, Freiheit und Si...</td>\n      <td>Каждый человек имеет право на жизнь, на свобод...</td>\n    </tr>\n    <tr>\n      <th>3</th>\n      <td>Niemand darf in Sklaverei oder Leibeigenschaft...</td>\n      <td>Никто не должен содержаться в рабстве или в по...</td>\n    </tr>\n    <tr>\n      <th>4</th>\n      <td>Niemand darf der Folter oder grausamer, unmens...</td>\n      <td>Никто не должен подвергаться пыткам или жесток...</td>\n    </tr>\n    <tr>\n      <th>5</th>\n      <td>Jeder hat das Recht, überall als rechtsfähig a...</td>\n      <td>Каждый человек, где бы он ни находился, имеет ...</td>\n    </tr>\n    <tr>\n      <th>6</th>\n      <td>Alle Menschen sind vor dem Gesetz gleich und h...</td>\n      <td>Все люди равны перед законом и имеют право, бе...</td>\n    </tr>\n    <tr>\n      <th>7</th>\n      <td>Jeder hat Anspruch auf einen wirksamen Rechtsb...</td>\n      <td>Каждый человек имеет право на эффективное восс...</td>\n    </tr>\n    <tr>\n      <th>8</th>\n      <td>Niemand darf willkürlich festgenommen, in Haft...</td>\n      <td>Никто не может быть подвергнут произвольному а...</td>\n    </tr>\n    <tr>\n      <th>9</th>\n      <td>Jeder hat bei der Feststellung seiner Rechte u...</td>\n      <td>Каждый человек, для определения его прав и обя...</td>\n    </tr>\n    <tr>\n      <th>10</th>\n      <td>Jeder, der wegen einer strafbaren Handlung bes...</td>\n      <td>Каждый человек, обвиняемый в совершении престу...</td>\n    </tr>\n    <tr>\n      <th>11</th>\n      <td>Niemand darf willkürlichen Eingriffen in sein ...</td>\n      <td>Никто не может подвергаться произвольному вмеш...</td>\n    </tr>\n    <tr>\n      <th>12</th>\n      <td>Jeder hat das Recht, sich innerhalb eines Staa...</td>\n      <td>Каждый человек имеет право свободно передвигат...</td>\n    </tr>\n    <tr>\n      <th>13</th>\n      <td>Jeder hat das Recht, in anderen Ländern vor Ve...</td>\n      <td>Каждый человек имеет право искать убежища от п...</td>\n    </tr>\n    <tr>\n      <th>14</th>\n      <td>Jeder hat das Recht auf eine Staatsangehörigke...</td>\n      <td>Каждый человек имеет право на гражданство.    ...</td>\n    </tr>\n    <tr>\n      <th>15</th>\n      <td>Heiratsfähige Frauen und Männer haben ohne Bes...</td>\n      <td>Мужчины и женщины, достигшие совершеннолетия, ...</td>\n    </tr>\n    <tr>\n      <th>16</th>\n      <td>Jeder hat das Recht, sowohl allein als auch in...</td>\n      <td>Каждый человек имеет право владеть имуществом ...</td>\n    </tr>\n    <tr>\n      <th>17</th>\n      <td>Jeder hat das Recht auf Gedanken-, Gewissens- ...</td>\n      <td>Каждый человек имеет право на свободу мысли, с...</td>\n    </tr>\n    <tr>\n      <th>18</th>\n      <td>Jeder hat das Recht auf Meinungsfreiheit und f...</td>\n      <td>Каждый человек имеет право на свободу убеждени...</td>\n    </tr>\n    <tr>\n      <th>19</th>\n      <td>Alle Menschen haben das Recht, sich friedlich ...</td>\n      <td>Каждый человек имеет право на свободу мирных с...</td>\n    </tr>\n    <tr>\n      <th>20</th>\n      <td>Jeder hat das Recht, an der Gestaltung der öff...</td>\n      <td>Каждый человек имеет право принимать участие в...</td>\n    </tr>\n    <tr>\n      <th>21</th>\n      <td>Jeder hat als Mitglied der Gesellschaft das Re...</td>\n      <td>Каждый человек, как член общества, имеет право...</td>\n    </tr>\n    <tr>\n      <th>22</th>\n      <td>Jeder hat das Recht auf Arbeit, auf freie Beru...</td>\n      <td>Каждый человек имеет право на труд, на свободн...</td>\n    </tr>\n    <tr>\n      <th>23</th>\n      <td>Jeder hat das Recht auf Erholung und Freizeit ...</td>\n      <td>Каждый человек имеет право на отдых и досуг, в...</td>\n    </tr>\n    <tr>\n      <th>24</th>\n      <td>Jeder hat das Recht auf einen Lebensstandard, ...</td>\n      <td>Каждый человек имеет право на такой жизненный ...</td>\n    </tr>\n    <tr>\n      <th>25</th>\n      <td>Jeder hat das Recht auf Bildung. Die Bildung i...</td>\n      <td>Каждый человек имеет право на образование. Обр...</td>\n    </tr>\n    <tr>\n      <th>26</th>\n      <td>Jeder hat das Recht, am kulturellen Leben der ...</td>\n      <td>Каждый человек имеет право свободно участвоват...</td>\n    </tr>\n    <tr>\n      <th>27</th>\n      <td>Jeder hat Anspruch auf eine soziale und intern...</td>\n      <td>Каждый человек имеет право на социальный и меж...</td>\n    </tr>\n    <tr>\n      <th>28</th>\n      <td>Jeder hat Pflichten gegenüber der Gemeinschaft...</td>\n      <td>Каждый человек имеет обязанности перед обществ...</td>\n    </tr>\n    <tr>\n      <th>29</th>\n      <td>Keine Bestimmung dieser Erklärung darf dahin a...</td>\n      <td>Ничто в настоящей Декларации не может быть ист...</td>\n    </tr>\n  </tbody>\n</table>\n</div>"
     },
     "execution_count": 11,
     "metadata": {},
     "output_type": "execute_result"
    }
   ],
   "source": [
    "ru_df = pd.read_csv(os.path.join(alignment_path, \"de.ru.csv\"))\n",
    "ru_df"
   ],
   "metadata": {
    "collapsed": false,
    "pycharm": {
     "name": "#%%\n"
    }
   }
  },
  {
   "cell_type": "code",
   "execution_count": 12,
   "outputs": [
    {
     "name": "stderr",
     "output_type": "stream",
     "text": [
      "100%|██████████| 30/30 [00:00<00:00, 62.03it/s]\n"
     ]
    },
    {
     "data": {
      "text/plain": "                                                   de  \\\n0   Alle Menschen sind frei und gleich an Würde un...   \n1   Jeder hat Anspruch auf die in dieser Erklärung...   \n2   Jeder hat das Recht auf Leben, Freiheit und Si...   \n3   Niemand darf in Sklaverei oder Leibeigenschaft...   \n4   Niemand darf der Folter oder grausamer, unmens...   \n5   Jeder hat das Recht, überall als rechtsfähig a...   \n6   Alle Menschen sind vor dem Gesetz gleich und h...   \n7   Jeder hat Anspruch auf einen wirksamen Rechtsb...   \n8   Niemand darf willkürlich festgenommen, in Haft...   \n9   Jeder hat bei der Feststellung seiner Rechte u...   \n10  Jeder, der wegen einer strafbaren Handlung bes...   \n11  Niemand darf willkürlichen Eingriffen in sein ...   \n12  Jeder hat das Recht, sich innerhalb eines Staa...   \n13  Jeder hat das Recht, in anderen Ländern vor Ve...   \n14  Jeder hat das Recht auf eine Staatsangehörigke...   \n15  Heiratsfähige Frauen und Männer haben ohne Bes...   \n16  Jeder hat das Recht, sowohl allein als auch in...   \n17  Jeder hat das Recht auf Gedanken-, Gewissens- ...   \n18  Jeder hat das Recht auf Meinungsfreiheit und f...   \n19  Alle Menschen haben das Recht, sich friedlich ...   \n20  Jeder hat das Recht, an der Gestaltung der öff...   \n21  Jeder hat als Mitglied der Gesellschaft das Re...   \n22  Jeder hat das Recht auf Arbeit, auf freie Beru...   \n23  Jeder hat das Recht auf Erholung und Freizeit ...   \n24  Jeder hat das Recht auf einen Lebensstandard, ...   \n25  Jeder hat das Recht auf Bildung. Die Bildung i...   \n26  Jeder hat das Recht, am kulturellen Leben der ...   \n27  Jeder hat Anspruch auf eine soziale und intern...   \n28  Jeder hat Pflichten gegenüber der Gemeinschaft...   \n29  Keine Bestimmung dieser Erklärung darf dahin a...   \n\n                                                   ru       tmd  \n0   Все люди рождаются свободными и равными в свое...  0.758783  \n1   Каждый человек должен обладать всеми правами и...  0.881891  \n2   Каждый человек имеет право на жизнь, на свобод...  0.725877  \n3   Никто не должен содержаться в рабстве или в по...  0.672518  \n4   Никто не должен подвергаться пыткам или жесток...  0.852552  \n5   Каждый человек, где бы он ни находился, имеет ...  0.946989  \n6   Все люди равны перед законом и имеют право, бе...  0.780482  \n7   Каждый человек имеет право на эффективное восс...  0.998070  \n8   Никто не может быть подвергнут произвольному а...  1.005709  \n9   Каждый человек, для определения его прав и обя...  0.842522  \n10  Каждый человек, обвиняемый в совершении престу...  0.854270  \n11  Никто не может подвергаться произвольному вмеш...  0.834600  \n12  Каждый человек имеет право свободно передвигат...  0.805326  \n13  Каждый человек имеет право искать убежища от п...  0.838366  \n14  Каждый человек имеет право на гражданство.    ...  0.871067  \n15  Мужчины и женщины, достигшие совершеннолетия, ...  0.837270  \n16  Каждый человек имеет право владеть имуществом ...  0.809909  \n17  Каждый человек имеет право на свободу мысли, с...  0.749953  \n18  Каждый человек имеет право на свободу убеждени...  0.806822  \n19  Каждый человек имеет право на свободу мирных с...  0.865706  \n20  Каждый человек имеет право принимать участие в...  0.916080  \n21  Каждый человек, как член общества, имеет право...  0.842275  \n22  Каждый человек имеет право на труд, на свободн...  0.823795  \n23  Каждый человек имеет право на отдых и досуг, в...  0.778425  \n24  Каждый человек имеет право на такой жизненный ...  0.812448  \n25  Каждый человек имеет право на образование. Обр...  0.887131  \n26  Каждый человек имеет право свободно участвоват...  0.874857  \n27  Каждый человек имеет право на социальный и меж...  0.790535  \n28  Каждый человек имеет обязанности перед обществ...  0.773063  \n29  Ничто в настоящей Декларации не может быть ист...  0.951456  ",
      "text/html": "<div>\n<style scoped>\n    .dataframe tbody tr th:only-of-type {\n        vertical-align: middle;\n    }\n\n    .dataframe tbody tr th {\n        vertical-align: top;\n    }\n\n    .dataframe thead th {\n        text-align: right;\n    }\n</style>\n<table border=\"1\" class=\"dataframe\">\n  <thead>\n    <tr style=\"text-align: right;\">\n      <th></th>\n      <th>de</th>\n      <th>ru</th>\n      <th>tmd</th>\n    </tr>\n  </thead>\n  <tbody>\n    <tr>\n      <th>0</th>\n      <td>Alle Menschen sind frei und gleich an Würde un...</td>\n      <td>Все люди рождаются свободными и равными в свое...</td>\n      <td>0.758783</td>\n    </tr>\n    <tr>\n      <th>1</th>\n      <td>Jeder hat Anspruch auf die in dieser Erklärung...</td>\n      <td>Каждый человек должен обладать всеми правами и...</td>\n      <td>0.881891</td>\n    </tr>\n    <tr>\n      <th>2</th>\n      <td>Jeder hat das Recht auf Leben, Freiheit und Si...</td>\n      <td>Каждый человек имеет право на жизнь, на свобод...</td>\n      <td>0.725877</td>\n    </tr>\n    <tr>\n      <th>3</th>\n      <td>Niemand darf in Sklaverei oder Leibeigenschaft...</td>\n      <td>Никто не должен содержаться в рабстве или в по...</td>\n      <td>0.672518</td>\n    </tr>\n    <tr>\n      <th>4</th>\n      <td>Niemand darf der Folter oder grausamer, unmens...</td>\n      <td>Никто не должен подвергаться пыткам или жесток...</td>\n      <td>0.852552</td>\n    </tr>\n    <tr>\n      <th>5</th>\n      <td>Jeder hat das Recht, überall als rechtsfähig a...</td>\n      <td>Каждый человек, где бы он ни находился, имеет ...</td>\n      <td>0.946989</td>\n    </tr>\n    <tr>\n      <th>6</th>\n      <td>Alle Menschen sind vor dem Gesetz gleich und h...</td>\n      <td>Все люди равны перед законом и имеют право, бе...</td>\n      <td>0.780482</td>\n    </tr>\n    <tr>\n      <th>7</th>\n      <td>Jeder hat Anspruch auf einen wirksamen Rechtsb...</td>\n      <td>Каждый человек имеет право на эффективное восс...</td>\n      <td>0.998070</td>\n    </tr>\n    <tr>\n      <th>8</th>\n      <td>Niemand darf willkürlich festgenommen, in Haft...</td>\n      <td>Никто не может быть подвергнут произвольному а...</td>\n      <td>1.005709</td>\n    </tr>\n    <tr>\n      <th>9</th>\n      <td>Jeder hat bei der Feststellung seiner Rechte u...</td>\n      <td>Каждый человек, для определения его прав и обя...</td>\n      <td>0.842522</td>\n    </tr>\n    <tr>\n      <th>10</th>\n      <td>Jeder, der wegen einer strafbaren Handlung bes...</td>\n      <td>Каждый человек, обвиняемый в совершении престу...</td>\n      <td>0.854270</td>\n    </tr>\n    <tr>\n      <th>11</th>\n      <td>Niemand darf willkürlichen Eingriffen in sein ...</td>\n      <td>Никто не может подвергаться произвольному вмеш...</td>\n      <td>0.834600</td>\n    </tr>\n    <tr>\n      <th>12</th>\n      <td>Jeder hat das Recht, sich innerhalb eines Staa...</td>\n      <td>Каждый человек имеет право свободно передвигат...</td>\n      <td>0.805326</td>\n    </tr>\n    <tr>\n      <th>13</th>\n      <td>Jeder hat das Recht, in anderen Ländern vor Ve...</td>\n      <td>Каждый человек имеет право искать убежища от п...</td>\n      <td>0.838366</td>\n    </tr>\n    <tr>\n      <th>14</th>\n      <td>Jeder hat das Recht auf eine Staatsangehörigke...</td>\n      <td>Каждый человек имеет право на гражданство.    ...</td>\n      <td>0.871067</td>\n    </tr>\n    <tr>\n      <th>15</th>\n      <td>Heiratsfähige Frauen und Männer haben ohne Bes...</td>\n      <td>Мужчины и женщины, достигшие совершеннолетия, ...</td>\n      <td>0.837270</td>\n    </tr>\n    <tr>\n      <th>16</th>\n      <td>Jeder hat das Recht, sowohl allein als auch in...</td>\n      <td>Каждый человек имеет право владеть имуществом ...</td>\n      <td>0.809909</td>\n    </tr>\n    <tr>\n      <th>17</th>\n      <td>Jeder hat das Recht auf Gedanken-, Gewissens- ...</td>\n      <td>Каждый человек имеет право на свободу мысли, с...</td>\n      <td>0.749953</td>\n    </tr>\n    <tr>\n      <th>18</th>\n      <td>Jeder hat das Recht auf Meinungsfreiheit und f...</td>\n      <td>Каждый человек имеет право на свободу убеждени...</td>\n      <td>0.806822</td>\n    </tr>\n    <tr>\n      <th>19</th>\n      <td>Alle Menschen haben das Recht, sich friedlich ...</td>\n      <td>Каждый человек имеет право на свободу мирных с...</td>\n      <td>0.865706</td>\n    </tr>\n    <tr>\n      <th>20</th>\n      <td>Jeder hat das Recht, an der Gestaltung der öff...</td>\n      <td>Каждый человек имеет право принимать участие в...</td>\n      <td>0.916080</td>\n    </tr>\n    <tr>\n      <th>21</th>\n      <td>Jeder hat als Mitglied der Gesellschaft das Re...</td>\n      <td>Каждый человек, как член общества, имеет право...</td>\n      <td>0.842275</td>\n    </tr>\n    <tr>\n      <th>22</th>\n      <td>Jeder hat das Recht auf Arbeit, auf freie Beru...</td>\n      <td>Каждый человек имеет право на труд, на свободн...</td>\n      <td>0.823795</td>\n    </tr>\n    <tr>\n      <th>23</th>\n      <td>Jeder hat das Recht auf Erholung und Freizeit ...</td>\n      <td>Каждый человек имеет право на отдых и досуг, в...</td>\n      <td>0.778425</td>\n    </tr>\n    <tr>\n      <th>24</th>\n      <td>Jeder hat das Recht auf einen Lebensstandard, ...</td>\n      <td>Каждый человек имеет право на такой жизненный ...</td>\n      <td>0.812448</td>\n    </tr>\n    <tr>\n      <th>25</th>\n      <td>Jeder hat das Recht auf Bildung. Die Bildung i...</td>\n      <td>Каждый человек имеет право на образование. Обр...</td>\n      <td>0.887131</td>\n    </tr>\n    <tr>\n      <th>26</th>\n      <td>Jeder hat das Recht, am kulturellen Leben der ...</td>\n      <td>Каждый человек имеет право свободно участвоват...</td>\n      <td>0.874857</td>\n    </tr>\n    <tr>\n      <th>27</th>\n      <td>Jeder hat Anspruch auf eine soziale und intern...</td>\n      <td>Каждый человек имеет право на социальный и меж...</td>\n      <td>0.790535</td>\n    </tr>\n    <tr>\n      <th>28</th>\n      <td>Jeder hat Pflichten gegenüber der Gemeinschaft...</td>\n      <td>Каждый человек имеет обязанности перед обществ...</td>\n      <td>0.773063</td>\n    </tr>\n    <tr>\n      <th>29</th>\n      <td>Keine Bestimmung dieser Erklärung darf dahin a...</td>\n      <td>Ничто в настоящей Декларации не может быть ист...</td>\n      <td>0.951456</td>\n    </tr>\n  </tbody>\n</table>\n</div>"
     },
     "execution_count": 12,
     "metadata": {},
     "output_type": "execute_result"
    }
   ],
   "source": [
    "ru_df['tmd'] = trglobals.compute_tmd_df(ru_df)\n",
    "ru_df"
   ],
   "metadata": {
    "collapsed": false,
    "pycharm": {
     "name": "#%%\n"
    }
   }
  },
  {
   "cell_type": "code",
   "execution_count": 13,
   "outputs": [
    {
     "data": {
      "text/plain": "0.8396248295714802"
     },
     "execution_count": 13,
     "metadata": {},
     "output_type": "execute_result"
    }
   ],
   "source": [
    "ru_df['tmd'].mean()"
   ],
   "metadata": {
    "collapsed": false,
    "pycharm": {
     "name": "#%%\n"
    }
   }
  },
  {
   "cell_type": "code",
   "execution_count": 14,
   "outputs": [],
   "source": [
    "ru_df.to_csv(os.path.join(output_path, \"de.ru.csv\"), index=False, encoding='utf8')"
   ],
   "metadata": {
    "collapsed": false,
    "pycharm": {
     "name": "#%%\n"
    }
   }
  },
  {
   "cell_type": "markdown",
   "source": [
    "### German - Chinese"
   ],
   "metadata": {
    "collapsed": false,
    "pycharm": {
     "name": "#%% md\n"
    }
   }
  },
  {
   "cell_type": "code",
   "execution_count": 15,
   "outputs": [
    {
     "data": {
      "text/plain": "                                                   de  \\\n0   Alle Menschen sind frei und gleich an Würde un...   \n1   Jeder hat Anspruch auf die in dieser Erklärung...   \n2   Jeder hat das Recht auf Leben, Freiheit und Si...   \n3   Niemand darf in Sklaverei oder Leibeigenschaft...   \n4   Niemand darf der Folter oder grausamer, unmens...   \n5   Jeder hat das Recht, überall als rechtsfähig a...   \n6   Alle Menschen sind vor dem Gesetz gleich und h...   \n7   Jeder hat Anspruch auf einen wirksamen Rechtsb...   \n8   Niemand darf willkürlich festgenommen, in Haft...   \n9   Jeder hat bei der Feststellung seiner Rechte u...   \n10  Jeder, der wegen einer strafbaren Handlung bes...   \n11  Niemand darf willkürlichen Eingriffen in sein ...   \n12  Jeder hat das Recht, sich innerhalb eines Staa...   \n13  Jeder hat das Recht, in anderen Ländern vor Ve...   \n14  Jeder hat das Recht auf eine Staatsangehörigke...   \n15  Heiratsfähige Frauen und Männer haben ohne Bes...   \n16  Jeder hat das Recht, sowohl allein als auch in...   \n17  Jeder hat das Recht auf Gedanken-, Gewissens- ...   \n18  Jeder hat das Recht auf Meinungsfreiheit und f...   \n19  Alle Menschen haben das Recht, sich friedlich ...   \n20  Jeder hat das Recht, an der Gestaltung der öff...   \n21  Jeder hat als Mitglied der Gesellschaft das Re...   \n22  Jeder hat das Recht auf Arbeit, auf freie Beru...   \n23  Jeder hat das Recht auf Erholung und Freizeit ...   \n24  Jeder hat das Recht auf einen Lebensstandard, ...   \n25  Jeder hat das Recht auf Bildung. Die Bildung i...   \n26  Jeder hat das Recht, am kulturellen Leben der ...   \n27  Jeder hat Anspruch auf eine soziale und intern...   \n28  Jeder hat Pflichten gegenüber der Gemeinschaft...   \n29  Keine Bestimmung dieser Erklärung darf dahin a...   \n\n                                                   zh  \n0       人人生而自由,在尊严和权利上一律平等。他们赋有理性和良心,并应以兄弟关系的精神相对待。第二  \n1   人人有资格享有本宣言所载的一切权利和自由,不分种族、肤色、性别、语言、宗教、政治或其他见解、...  \n2                                 人人有权享有生命、自由和人身安全。第四  \n3               任何人不得使为奴隶或奴役;一切形式的奴隶制度和奴隶买卖,均应予以禁止。第五  \n4                  任何人不得加以酷刑,或施以残忍的、不人道的或侮辱性的待遇或刑罚。第六  \n5                              人人在任何地方有权被承认在法律前的人格。第七  \n6   法律之前人人平等,并有权享受法律的平等保护,不受任何歧视。人人有权享受平等保护,以免受违反本...  \n7   任何人当宪法或法律所赋予他的基本权利遭受侵害时,有权由合格的国家法庭对这种侵害行为作有效的补...  \n8                                任何人不得加以任意逮捕、拘禁或放逐。第十  \n9   人人完全平等地有权由一个独立而无偏倚的法庭进行公正的和公开的审讯,以确定他的权利和义务并判定...  \n10  ㈠凡受刑事控告者,在未经获得辩护上所需的一切保证的公开审判而依法证实有罪以前,有权被视为无罪...  \n11  任何人的私生活、家庭、住宅和通信不得任意干涉,他的荣誉和名誉不得加以攻击。人人有权享受法律保...  \n12  ㈠人人在各国境内有权自由迁徙和居住。    ㈡人人有权离开任何国家,包括其本国在内,并有权返...  \n13  ㈠人人有权在其他国家寻求和享受庇护以避免迫害。    ㈡在真正由于非政治性的罪行或违背联合国...  \n14      ㈠人人有权享有国籍。    ㈡任何人的国籍不得任意剥夺,亦不得否认其改变国籍的权利。第十六  \n15  ㈠成年男女,不受种族、国籍或宗教的任何限制有权婚嫁和成立家庭。他们在婚姻方面,在结婚期间和在...  \n16     ㈠人人得有单独的财产所有权以及同他人合有的所有权。    ㈡任何人的财产不得任意剥夺。第十八  \n17  人人有思想、良心和宗教自由的权利;此项权利包括改变他的宗教或信仰的自由,以及单独或集体、公开...  \n18  人人有权享有主张和发表意见的自由;此项权利包括持有主张而不受干涉的自由,和通过任何媒介和不论...  \n19         ㈠人人有权享有和平集会和结社的自由。    ㈡任何人不得迫使隶属于某一团体。第二十一  \n20  ㈠人人有直接或通过自由选择的代表参与治理本国的权利。    ㈡人人有平等机会参加本国公务的权...  \n21  每个人,作为社会的一员,有权享受社会保障,并有权享受他的个人尊严和人格的自由发展所必需的经济...  \n22  ㈠人人有权工作、自由选择职业、享受公正和合适的工作条件并享受免于失业的保障。    ㈡人人有...  \n23           人人有享有休息和闲暇的权利,包括工作时间有合理限制和定期给薪休假的权利。第二十五  \n24  ㈠人人有权享受为维持他本人和家属的健康和福利所需的生活水准,包括食物、衣着、住房、医疗和必要...  \n25  ㈠人人都有受教育的权利,教育应当免费,至少在初级和基本阶段应如此。初级教育应属义务性质。技术...  \n26  ㈠人人有权自由参加社会的文化生活,享受艺术,并分享科学进步及其产生的福利。    ㈡人人对由...  \n27   人人有权要求一种社会的和国际的秩序,在这种秩序中,本宣言所载的权利和自由能获得充分实现。第二十九  \n28  ㈠人人对社会负有义务,因为只有在社会中他的个性才可能得到自由和充分的发展。    ㈡人人在行...  \n29  本宣言的任何条文,不得解释为默许任何国家、集团或个人有权进行任何旨在破坏本宣言所载的任何权利...  ",
      "text/html": "<div>\n<style scoped>\n    .dataframe tbody tr th:only-of-type {\n        vertical-align: middle;\n    }\n\n    .dataframe tbody tr th {\n        vertical-align: top;\n    }\n\n    .dataframe thead th {\n        text-align: right;\n    }\n</style>\n<table border=\"1\" class=\"dataframe\">\n  <thead>\n    <tr style=\"text-align: right;\">\n      <th></th>\n      <th>de</th>\n      <th>zh</th>\n    </tr>\n  </thead>\n  <tbody>\n    <tr>\n      <th>0</th>\n      <td>Alle Menschen sind frei und gleich an Würde un...</td>\n      <td>人人生而自由,在尊严和权利上一律平等。他们赋有理性和良心,并应以兄弟关系的精神相对待。第二</td>\n    </tr>\n    <tr>\n      <th>1</th>\n      <td>Jeder hat Anspruch auf die in dieser Erklärung...</td>\n      <td>人人有资格享有本宣言所载的一切权利和自由,不分种族、肤色、性别、语言、宗教、政治或其他见解、...</td>\n    </tr>\n    <tr>\n      <th>2</th>\n      <td>Jeder hat das Recht auf Leben, Freiheit und Si...</td>\n      <td>人人有权享有生命、自由和人身安全。第四</td>\n    </tr>\n    <tr>\n      <th>3</th>\n      <td>Niemand darf in Sklaverei oder Leibeigenschaft...</td>\n      <td>任何人不得使为奴隶或奴役;一切形式的奴隶制度和奴隶买卖,均应予以禁止。第五</td>\n    </tr>\n    <tr>\n      <th>4</th>\n      <td>Niemand darf der Folter oder grausamer, unmens...</td>\n      <td>任何人不得加以酷刑,或施以残忍的、不人道的或侮辱性的待遇或刑罚。第六</td>\n    </tr>\n    <tr>\n      <th>5</th>\n      <td>Jeder hat das Recht, überall als rechtsfähig a...</td>\n      <td>人人在任何地方有权被承认在法律前的人格。第七</td>\n    </tr>\n    <tr>\n      <th>6</th>\n      <td>Alle Menschen sind vor dem Gesetz gleich und h...</td>\n      <td>法律之前人人平等,并有权享受法律的平等保护,不受任何歧视。人人有权享受平等保护,以免受违反本...</td>\n    </tr>\n    <tr>\n      <th>7</th>\n      <td>Jeder hat Anspruch auf einen wirksamen Rechtsb...</td>\n      <td>任何人当宪法或法律所赋予他的基本权利遭受侵害时,有权由合格的国家法庭对这种侵害行为作有效的补...</td>\n    </tr>\n    <tr>\n      <th>8</th>\n      <td>Niemand darf willkürlich festgenommen, in Haft...</td>\n      <td>任何人不得加以任意逮捕、拘禁或放逐。第十</td>\n    </tr>\n    <tr>\n      <th>9</th>\n      <td>Jeder hat bei der Feststellung seiner Rechte u...</td>\n      <td>人人完全平等地有权由一个独立而无偏倚的法庭进行公正的和公开的审讯,以确定他的权利和义务并判定...</td>\n    </tr>\n    <tr>\n      <th>10</th>\n      <td>Jeder, der wegen einer strafbaren Handlung bes...</td>\n      <td>㈠凡受刑事控告者,在未经获得辩护上所需的一切保证的公开审判而依法证实有罪以前,有权被视为无罪...</td>\n    </tr>\n    <tr>\n      <th>11</th>\n      <td>Niemand darf willkürlichen Eingriffen in sein ...</td>\n      <td>任何人的私生活、家庭、住宅和通信不得任意干涉,他的荣誉和名誉不得加以攻击。人人有权享受法律保...</td>\n    </tr>\n    <tr>\n      <th>12</th>\n      <td>Jeder hat das Recht, sich innerhalb eines Staa...</td>\n      <td>㈠人人在各国境内有权自由迁徙和居住。    ㈡人人有权离开任何国家,包括其本国在内,并有权返...</td>\n    </tr>\n    <tr>\n      <th>13</th>\n      <td>Jeder hat das Recht, in anderen Ländern vor Ve...</td>\n      <td>㈠人人有权在其他国家寻求和享受庇护以避免迫害。    ㈡在真正由于非政治性的罪行或违背联合国...</td>\n    </tr>\n    <tr>\n      <th>14</th>\n      <td>Jeder hat das Recht auf eine Staatsangehörigke...</td>\n      <td>㈠人人有权享有国籍。    ㈡任何人的国籍不得任意剥夺,亦不得否认其改变国籍的权利。第十六</td>\n    </tr>\n    <tr>\n      <th>15</th>\n      <td>Heiratsfähige Frauen und Männer haben ohne Bes...</td>\n      <td>㈠成年男女,不受种族、国籍或宗教的任何限制有权婚嫁和成立家庭。他们在婚姻方面,在结婚期间和在...</td>\n    </tr>\n    <tr>\n      <th>16</th>\n      <td>Jeder hat das Recht, sowohl allein als auch in...</td>\n      <td>㈠人人得有单独的财产所有权以及同他人合有的所有权。    ㈡任何人的财产不得任意剥夺。第十八</td>\n    </tr>\n    <tr>\n      <th>17</th>\n      <td>Jeder hat das Recht auf Gedanken-, Gewissens- ...</td>\n      <td>人人有思想、良心和宗教自由的权利;此项权利包括改变他的宗教或信仰的自由,以及单独或集体、公开...</td>\n    </tr>\n    <tr>\n      <th>18</th>\n      <td>Jeder hat das Recht auf Meinungsfreiheit und f...</td>\n      <td>人人有权享有主张和发表意见的自由;此项权利包括持有主张而不受干涉的自由,和通过任何媒介和不论...</td>\n    </tr>\n    <tr>\n      <th>19</th>\n      <td>Alle Menschen haben das Recht, sich friedlich ...</td>\n      <td>㈠人人有权享有和平集会和结社的自由。    ㈡任何人不得迫使隶属于某一团体。第二十一</td>\n    </tr>\n    <tr>\n      <th>20</th>\n      <td>Jeder hat das Recht, an der Gestaltung der öff...</td>\n      <td>㈠人人有直接或通过自由选择的代表参与治理本国的权利。    ㈡人人有平等机会参加本国公务的权...</td>\n    </tr>\n    <tr>\n      <th>21</th>\n      <td>Jeder hat als Mitglied der Gesellschaft das Re...</td>\n      <td>每个人,作为社会的一员,有权享受社会保障,并有权享受他的个人尊严和人格的自由发展所必需的经济...</td>\n    </tr>\n    <tr>\n      <th>22</th>\n      <td>Jeder hat das Recht auf Arbeit, auf freie Beru...</td>\n      <td>㈠人人有权工作、自由选择职业、享受公正和合适的工作条件并享受免于失业的保障。    ㈡人人有...</td>\n    </tr>\n    <tr>\n      <th>23</th>\n      <td>Jeder hat das Recht auf Erholung und Freizeit ...</td>\n      <td>人人有享有休息和闲暇的权利,包括工作时间有合理限制和定期给薪休假的权利。第二十五</td>\n    </tr>\n    <tr>\n      <th>24</th>\n      <td>Jeder hat das Recht auf einen Lebensstandard, ...</td>\n      <td>㈠人人有权享受为维持他本人和家属的健康和福利所需的生活水准,包括食物、衣着、住房、医疗和必要...</td>\n    </tr>\n    <tr>\n      <th>25</th>\n      <td>Jeder hat das Recht auf Bildung. Die Bildung i...</td>\n      <td>㈠人人都有受教育的权利,教育应当免费,至少在初级和基本阶段应如此。初级教育应属义务性质。技术...</td>\n    </tr>\n    <tr>\n      <th>26</th>\n      <td>Jeder hat das Recht, am kulturellen Leben der ...</td>\n      <td>㈠人人有权自由参加社会的文化生活,享受艺术,并分享科学进步及其产生的福利。    ㈡人人对由...</td>\n    </tr>\n    <tr>\n      <th>27</th>\n      <td>Jeder hat Anspruch auf eine soziale und intern...</td>\n      <td>人人有权要求一种社会的和国际的秩序,在这种秩序中,本宣言所载的权利和自由能获得充分实现。第二十九</td>\n    </tr>\n    <tr>\n      <th>28</th>\n      <td>Jeder hat Pflichten gegenüber der Gemeinschaft...</td>\n      <td>㈠人人对社会负有义务,因为只有在社会中他的个性才可能得到自由和充分的发展。    ㈡人人在行...</td>\n    </tr>\n    <tr>\n      <th>29</th>\n      <td>Keine Bestimmung dieser Erklärung darf dahin a...</td>\n      <td>本宣言的任何条文,不得解释为默许任何国家、集团或个人有权进行任何旨在破坏本宣言所载的任何权利...</td>\n    </tr>\n  </tbody>\n</table>\n</div>"
     },
     "execution_count": 15,
     "metadata": {},
     "output_type": "execute_result"
    }
   ],
   "source": [
    "zh_df = pd.read_csv(os.path.join(alignment_path, \"de.zh.csv\"))\n",
    "zh_df"
   ],
   "metadata": {
    "collapsed": false,
    "pycharm": {
     "name": "#%%\n"
    }
   }
  },
  {
   "cell_type": "code",
   "execution_count": 16,
   "outputs": [
    {
     "name": "stderr",
     "output_type": "stream",
     "text": [
      "100%|██████████| 30/30 [00:02<00:00, 13.65it/s]\n"
     ]
    },
    {
     "data": {
      "text/plain": "                                                   de  \\\n0   Alle Menschen sind frei und gleich an Würde un...   \n1   Jeder hat Anspruch auf die in dieser Erklärung...   \n2   Jeder hat das Recht auf Leben, Freiheit und Si...   \n3   Niemand darf in Sklaverei oder Leibeigenschaft...   \n4   Niemand darf der Folter oder grausamer, unmens...   \n5   Jeder hat das Recht, überall als rechtsfähig a...   \n6   Alle Menschen sind vor dem Gesetz gleich und h...   \n7   Jeder hat Anspruch auf einen wirksamen Rechtsb...   \n8   Niemand darf willkürlich festgenommen, in Haft...   \n9   Jeder hat bei der Feststellung seiner Rechte u...   \n10  Jeder, der wegen einer strafbaren Handlung bes...   \n11  Niemand darf willkürlichen Eingriffen in sein ...   \n12  Jeder hat das Recht, sich innerhalb eines Staa...   \n13  Jeder hat das Recht, in anderen Ländern vor Ve...   \n14  Jeder hat das Recht auf eine Staatsangehörigke...   \n15  Heiratsfähige Frauen und Männer haben ohne Bes...   \n16  Jeder hat das Recht, sowohl allein als auch in...   \n17  Jeder hat das Recht auf Gedanken-, Gewissens- ...   \n18  Jeder hat das Recht auf Meinungsfreiheit und f...   \n19  Alle Menschen haben das Recht, sich friedlich ...   \n20  Jeder hat das Recht, an der Gestaltung der öff...   \n21  Jeder hat als Mitglied der Gesellschaft das Re...   \n22  Jeder hat das Recht auf Arbeit, auf freie Beru...   \n23  Jeder hat das Recht auf Erholung und Freizeit ...   \n24  Jeder hat das Recht auf einen Lebensstandard, ...   \n25  Jeder hat das Recht auf Bildung. Die Bildung i...   \n26  Jeder hat das Recht, am kulturellen Leben der ...   \n27  Jeder hat Anspruch auf eine soziale und intern...   \n28  Jeder hat Pflichten gegenüber der Gemeinschaft...   \n29  Keine Bestimmung dieser Erklärung darf dahin a...   \n\n                                                   zh       tmd  \n0       人人生而自由,在尊严和权利上一律平等。他们赋有理性和良心,并应以兄弟关系的精神相对待。第二  0.877033  \n1   人人有资格享有本宣言所载的一切权利和自由,不分种族、肤色、性别、语言、宗教、政治或其他见解、...  0.937562  \n2                                 人人有权享有生命、自由和人身安全。第四  0.939626  \n3               任何人不得使为奴隶或奴役;一切形式的奴隶制度和奴隶买卖,均应予以禁止。第五  0.942018  \n4                  任何人不得加以酷刑,或施以残忍的、不人道的或侮辱性的待遇或刑罚。第六  0.920645  \n5                              人人在任何地方有权被承认在法律前的人格。第七  1.113750  \n6   法律之前人人平等,并有权享受法律的平等保护,不受任何歧视。人人有权享受平等保护,以免受违反本...  0.997979  \n7   任何人当宪法或法律所赋予他的基本权利遭受侵害时,有权由合格的国家法庭对这种侵害行为作有效的补...  1.071808  \n8                                任何人不得加以任意逮捕、拘禁或放逐。第十  1.007175  \n9   人人完全平等地有权由一个独立而无偏倚的法庭进行公正的和公开的审讯,以确定他的权利和义务并判定...  0.902618  \n10  ㈠凡受刑事控告者,在未经获得辩护上所需的一切保证的公开审判而依法证实有罪以前,有权被视为无罪...  0.952453  \n11  任何人的私生活、家庭、住宅和通信不得任意干涉,他的荣誉和名誉不得加以攻击。人人有权享受法律保...  0.928371  \n12  ㈠人人在各国境内有权自由迁徙和居住。    ㈡人人有权离开任何国家,包括其本国在内,并有权返...  0.985099  \n13  ㈠人人有权在其他国家寻求和享受庇护以避免迫害。    ㈡在真正由于非政治性的罪行或违背联合国...  0.969964  \n14      ㈠人人有权享有国籍。    ㈡任何人的国籍不得任意剥夺,亦不得否认其改变国籍的权利。第十六  0.959606  \n15  ㈠成年男女,不受种族、国籍或宗教的任何限制有权婚嫁和成立家庭。他们在婚姻方面,在结婚期间和在...  0.832749  \n16     ㈠人人得有单独的财产所有权以及同他人合有的所有权。    ㈡任何人的财产不得任意剥夺。第十八  0.964385  \n17  人人有思想、良心和宗教自由的权利;此项权利包括改变他的宗教或信仰的自由,以及单独或集体、公开...  0.908504  \n18  人人有权享有主张和发表意见的自由;此项权利包括持有主张而不受干涉的自由,和通过任何媒介和不论...  0.931232  \n19         ㈠人人有权享有和平集会和结社的自由。    ㈡任何人不得迫使隶属于某一团体。第二十一  0.985412  \n20  ㈠人人有直接或通过自由选择的代表参与治理本国的权利。    ㈡人人有平等机会参加本国公务的权...  1.001616  \n21  每个人,作为社会的一员,有权享受社会保障,并有权享受他的个人尊严和人格的自由发展所必需的经济...  0.926379  \n22  ㈠人人有权工作、自由选择职业、享受公正和合适的工作条件并享受免于失业的保障。    ㈡人人有...  0.944535  \n23           人人有享有休息和闲暇的权利,包括工作时间有合理限制和定期给薪休假的权利。第二十五  0.910625  \n24  ㈠人人有权享受为维持他本人和家属的健康和福利所需的生活水准,包括食物、衣着、住房、医疗和必要...  0.906858  \n25  ㈠人人都有受教育的权利,教育应当免费,至少在初级和基本阶段应如此。初级教育应属义务性质。技术...  0.977625  \n26  ㈠人人有权自由参加社会的文化生活,享受艺术,并分享科学进步及其产生的福利。    ㈡人人对由...  0.936631  \n27   人人有权要求一种社会的和国际的秩序,在这种秩序中,本宣言所载的权利和自由能获得充分实现。第二十九  0.919305  \n28  ㈠人人对社会负有义务,因为只有在社会中他的个性才可能得到自由和充分的发展。    ㈡人人在行...  0.890731  \n29  本宣言的任何条文,不得解释为默许任何国家、集团或个人有权进行任何旨在破坏本宣言所载的任何权利...  1.007647  ",
      "text/html": "<div>\n<style scoped>\n    .dataframe tbody tr th:only-of-type {\n        vertical-align: middle;\n    }\n\n    .dataframe tbody tr th {\n        vertical-align: top;\n    }\n\n    .dataframe thead th {\n        text-align: right;\n    }\n</style>\n<table border=\"1\" class=\"dataframe\">\n  <thead>\n    <tr style=\"text-align: right;\">\n      <th></th>\n      <th>de</th>\n      <th>zh</th>\n      <th>tmd</th>\n    </tr>\n  </thead>\n  <tbody>\n    <tr>\n      <th>0</th>\n      <td>Alle Menschen sind frei und gleich an Würde un...</td>\n      <td>人人生而自由,在尊严和权利上一律平等。他们赋有理性和良心,并应以兄弟关系的精神相对待。第二</td>\n      <td>0.877033</td>\n    </tr>\n    <tr>\n      <th>1</th>\n      <td>Jeder hat Anspruch auf die in dieser Erklärung...</td>\n      <td>人人有资格享有本宣言所载的一切权利和自由,不分种族、肤色、性别、语言、宗教、政治或其他见解、...</td>\n      <td>0.937562</td>\n    </tr>\n    <tr>\n      <th>2</th>\n      <td>Jeder hat das Recht auf Leben, Freiheit und Si...</td>\n      <td>人人有权享有生命、自由和人身安全。第四</td>\n      <td>0.939626</td>\n    </tr>\n    <tr>\n      <th>3</th>\n      <td>Niemand darf in Sklaverei oder Leibeigenschaft...</td>\n      <td>任何人不得使为奴隶或奴役;一切形式的奴隶制度和奴隶买卖,均应予以禁止。第五</td>\n      <td>0.942018</td>\n    </tr>\n    <tr>\n      <th>4</th>\n      <td>Niemand darf der Folter oder grausamer, unmens...</td>\n      <td>任何人不得加以酷刑,或施以残忍的、不人道的或侮辱性的待遇或刑罚。第六</td>\n      <td>0.920645</td>\n    </tr>\n    <tr>\n      <th>5</th>\n      <td>Jeder hat das Recht, überall als rechtsfähig a...</td>\n      <td>人人在任何地方有权被承认在法律前的人格。第七</td>\n      <td>1.113750</td>\n    </tr>\n    <tr>\n      <th>6</th>\n      <td>Alle Menschen sind vor dem Gesetz gleich und h...</td>\n      <td>法律之前人人平等,并有权享受法律的平等保护,不受任何歧视。人人有权享受平等保护,以免受违反本...</td>\n      <td>0.997979</td>\n    </tr>\n    <tr>\n      <th>7</th>\n      <td>Jeder hat Anspruch auf einen wirksamen Rechtsb...</td>\n      <td>任何人当宪法或法律所赋予他的基本权利遭受侵害时,有权由合格的国家法庭对这种侵害行为作有效的补...</td>\n      <td>1.071808</td>\n    </tr>\n    <tr>\n      <th>8</th>\n      <td>Niemand darf willkürlich festgenommen, in Haft...</td>\n      <td>任何人不得加以任意逮捕、拘禁或放逐。第十</td>\n      <td>1.007175</td>\n    </tr>\n    <tr>\n      <th>9</th>\n      <td>Jeder hat bei der Feststellung seiner Rechte u...</td>\n      <td>人人完全平等地有权由一个独立而无偏倚的法庭进行公正的和公开的审讯,以确定他的权利和义务并判定...</td>\n      <td>0.902618</td>\n    </tr>\n    <tr>\n      <th>10</th>\n      <td>Jeder, der wegen einer strafbaren Handlung bes...</td>\n      <td>㈠凡受刑事控告者,在未经获得辩护上所需的一切保证的公开审判而依法证实有罪以前,有权被视为无罪...</td>\n      <td>0.952453</td>\n    </tr>\n    <tr>\n      <th>11</th>\n      <td>Niemand darf willkürlichen Eingriffen in sein ...</td>\n      <td>任何人的私生活、家庭、住宅和通信不得任意干涉,他的荣誉和名誉不得加以攻击。人人有权享受法律保...</td>\n      <td>0.928371</td>\n    </tr>\n    <tr>\n      <th>12</th>\n      <td>Jeder hat das Recht, sich innerhalb eines Staa...</td>\n      <td>㈠人人在各国境内有权自由迁徙和居住。    ㈡人人有权离开任何国家,包括其本国在内,并有权返...</td>\n      <td>0.985099</td>\n    </tr>\n    <tr>\n      <th>13</th>\n      <td>Jeder hat das Recht, in anderen Ländern vor Ve...</td>\n      <td>㈠人人有权在其他国家寻求和享受庇护以避免迫害。    ㈡在真正由于非政治性的罪行或违背联合国...</td>\n      <td>0.969964</td>\n    </tr>\n    <tr>\n      <th>14</th>\n      <td>Jeder hat das Recht auf eine Staatsangehörigke...</td>\n      <td>㈠人人有权享有国籍。    ㈡任何人的国籍不得任意剥夺,亦不得否认其改变国籍的权利。第十六</td>\n      <td>0.959606</td>\n    </tr>\n    <tr>\n      <th>15</th>\n      <td>Heiratsfähige Frauen und Männer haben ohne Bes...</td>\n      <td>㈠成年男女,不受种族、国籍或宗教的任何限制有权婚嫁和成立家庭。他们在婚姻方面,在结婚期间和在...</td>\n      <td>0.832749</td>\n    </tr>\n    <tr>\n      <th>16</th>\n      <td>Jeder hat das Recht, sowohl allein als auch in...</td>\n      <td>㈠人人得有单独的财产所有权以及同他人合有的所有权。    ㈡任何人的财产不得任意剥夺。第十八</td>\n      <td>0.964385</td>\n    </tr>\n    <tr>\n      <th>17</th>\n      <td>Jeder hat das Recht auf Gedanken-, Gewissens- ...</td>\n      <td>人人有思想、良心和宗教自由的权利;此项权利包括改变他的宗教或信仰的自由,以及单独或集体、公开...</td>\n      <td>0.908504</td>\n    </tr>\n    <tr>\n      <th>18</th>\n      <td>Jeder hat das Recht auf Meinungsfreiheit und f...</td>\n      <td>人人有权享有主张和发表意见的自由;此项权利包括持有主张而不受干涉的自由,和通过任何媒介和不论...</td>\n      <td>0.931232</td>\n    </tr>\n    <tr>\n      <th>19</th>\n      <td>Alle Menschen haben das Recht, sich friedlich ...</td>\n      <td>㈠人人有权享有和平集会和结社的自由。    ㈡任何人不得迫使隶属于某一团体。第二十一</td>\n      <td>0.985412</td>\n    </tr>\n    <tr>\n      <th>20</th>\n      <td>Jeder hat das Recht, an der Gestaltung der öff...</td>\n      <td>㈠人人有直接或通过自由选择的代表参与治理本国的权利。    ㈡人人有平等机会参加本国公务的权...</td>\n      <td>1.001616</td>\n    </tr>\n    <tr>\n      <th>21</th>\n      <td>Jeder hat als Mitglied der Gesellschaft das Re...</td>\n      <td>每个人,作为社会的一员,有权享受社会保障,并有权享受他的个人尊严和人格的自由发展所必需的经济...</td>\n      <td>0.926379</td>\n    </tr>\n    <tr>\n      <th>22</th>\n      <td>Jeder hat das Recht auf Arbeit, auf freie Beru...</td>\n      <td>㈠人人有权工作、自由选择职业、享受公正和合适的工作条件并享受免于失业的保障。    ㈡人人有...</td>\n      <td>0.944535</td>\n    </tr>\n    <tr>\n      <th>23</th>\n      <td>Jeder hat das Recht auf Erholung und Freizeit ...</td>\n      <td>人人有享有休息和闲暇的权利,包括工作时间有合理限制和定期给薪休假的权利。第二十五</td>\n      <td>0.910625</td>\n    </tr>\n    <tr>\n      <th>24</th>\n      <td>Jeder hat das Recht auf einen Lebensstandard, ...</td>\n      <td>㈠人人有权享受为维持他本人和家属的健康和福利所需的生活水准,包括食物、衣着、住房、医疗和必要...</td>\n      <td>0.906858</td>\n    </tr>\n    <tr>\n      <th>25</th>\n      <td>Jeder hat das Recht auf Bildung. Die Bildung i...</td>\n      <td>㈠人人都有受教育的权利,教育应当免费,至少在初级和基本阶段应如此。初级教育应属义务性质。技术...</td>\n      <td>0.977625</td>\n    </tr>\n    <tr>\n      <th>26</th>\n      <td>Jeder hat das Recht, am kulturellen Leben der ...</td>\n      <td>㈠人人有权自由参加社会的文化生活,享受艺术,并分享科学进步及其产生的福利。    ㈡人人对由...</td>\n      <td>0.936631</td>\n    </tr>\n    <tr>\n      <th>27</th>\n      <td>Jeder hat Anspruch auf eine soziale und intern...</td>\n      <td>人人有权要求一种社会的和国际的秩序,在这种秩序中,本宣言所载的权利和自由能获得充分实现。第二十九</td>\n      <td>0.919305</td>\n    </tr>\n    <tr>\n      <th>28</th>\n      <td>Jeder hat Pflichten gegenüber der Gemeinschaft...</td>\n      <td>㈠人人对社会负有义务,因为只有在社会中他的个性才可能得到自由和充分的发展。    ㈡人人在行...</td>\n      <td>0.890731</td>\n    </tr>\n    <tr>\n      <th>29</th>\n      <td>Keine Bestimmung dieser Erklärung darf dahin a...</td>\n      <td>本宣言的任何条文,不得解释为默许任何国家、集团或个人有权进行任何旨在破坏本宣言所载的任何权利...</td>\n      <td>1.007647</td>\n    </tr>\n  </tbody>\n</table>\n</div>"
     },
     "execution_count": 16,
     "metadata": {},
     "output_type": "execute_result"
    }
   ],
   "source": [
    "zh_df['tmd'] = trglobals.compute_tmd_df(zh_df)\n",
    "zh_df"
   ],
   "metadata": {
    "collapsed": false,
    "pycharm": {
     "name": "#%%\n"
    }
   }
  },
  {
   "cell_type": "code",
   "execution_count": 17,
   "outputs": [
    {
     "data": {
      "text/plain": "0.9516647601477576"
     },
     "execution_count": 17,
     "metadata": {},
     "output_type": "execute_result"
    }
   ],
   "source": [
    "zh_df['tmd'].mean()"
   ],
   "metadata": {
    "collapsed": false,
    "pycharm": {
     "name": "#%%\n"
    }
   }
  },
  {
   "cell_type": "code",
   "execution_count": 18,
   "outputs": [],
   "source": [
    "zh_df.to_csv(os.path.join(output_path, \"tmd_de_zh.csv\"), encoding='utf8', index=False)"
   ],
   "metadata": {
    "collapsed": false,
    "pycharm": {
     "name": "#%%\n"
    }
   }
  },
  {
   "cell_type": "markdown",
   "source": [
    "### German - Vietnamese"
   ],
   "metadata": {
    "collapsed": false,
    "pycharm": {
     "name": "#%% md\n"
    }
   }
  },
  {
   "cell_type": "code",
   "execution_count": 19,
   "outputs": [
    {
     "name": "stderr",
     "output_type": "stream",
     "text": [
      "100%|██████████| 30/30 [00:00<00:00, 58.87it/s]\n"
     ]
    },
    {
     "data": {
      "text/plain": "                                                   de  \\\n0   Alle Menschen sind frei und gleich an Würde un...   \n1   Jeder hat Anspruch auf die in dieser Erklärung...   \n2   Jeder hat das Recht auf Leben, Freiheit und Si...   \n3   Niemand darf in Sklaverei oder Leibeigenschaft...   \n4   Niemand darf der Folter oder grausamer, unmens...   \n5   Jeder hat das Recht, überall als rechtsfähig a...   \n6   Alle Menschen sind vor dem Gesetz gleich und h...   \n7   Jeder hat Anspruch auf einen wirksamen Rechtsb...   \n8   Niemand darf willkürlich festgenommen, in Haft...   \n9   Jeder hat bei der Feststellung seiner Rechte u...   \n10  Jeder, der wegen einer strafbaren Handlung bes...   \n11  Niemand darf willkürlichen Eingriffen in sein ...   \n12  Jeder hat das Recht, sich innerhalb eines Staa...   \n13  Jeder hat das Recht, in anderen Ländern vor Ve...   \n14  Jeder hat das Recht auf eine Staatsangehörigke...   \n15  Heiratsfähige Frauen und Männer haben ohne Bes...   \n16  Jeder hat das Recht, sowohl allein als auch in...   \n17  Jeder hat das Recht auf Gedanken-, Gewissens- ...   \n18  Jeder hat das Recht auf Meinungsfreiheit und f...   \n19  Alle Menschen haben das Recht, sich friedlich ...   \n20  Jeder hat das Recht, an der Gestaltung der öff...   \n21  Jeder hat als Mitglied der Gesellschaft das Re...   \n22  Jeder hat das Recht auf Arbeit, auf freie Beru...   \n23  Jeder hat das Recht auf Erholung und Freizeit ...   \n24  Jeder hat das Recht auf einen Lebensstandard, ...   \n25  Jeder hat das Recht auf Bildung. Die Bildung i...   \n26  Jeder hat das Recht, am kulturellen Leben der ...   \n27  Jeder hat Anspruch auf eine soziale und intern...   \n28  Jeder hat Pflichten gegenüber der Gemeinschaft...   \n29  Keine Bestimmung dieser Erklärung darf dahin a...   \n\n                                                   vi       tmd  \n0   Tất cả mọi người sinh ra đều được tự do...  0.910982  \n1   Mọi người đều được hưởng tất cả những ...  1.060845  \n2   Mọi người đều có quyền sống, tự do và ...  0.951958  \n3   Không ai phải làm nô lệ hay bị cưỡng bức...  1.104190  \n4   Không ai bị tra tấn hay bị đối xử, xử ph...  1.156166  \n5   Mọi người đều có quyền được thừa nhận ...  1.044049  \n6   Tất cả mọi người đều bình đẳng trước p...  1.027727  \n7   Mọi người đều có quyền được các toà á...  1.138398  \n8   Không ai bị bắt, giam giữ hay đày đi nơi k...  1.139145  \n9   Mọi người, với tư cách bình đẳng về mọ...  1.008035  \n10  1. Mọi người, nếu bị quy tội hình sự, đ...  1.026153  \n11  Không ai bị can thiệp một cách độc đoán ...  1.096271  \n12  1. Mọi người đều có quyền tự do đi lại ...  1.023765  \n13  1. Mọi người đều có quyền tìm kiếm và ...  1.020917  \n14  1. Mọi người đều có quyền nhập quốc tị...  1.080456  \n15  1. Nam hay nữ đến tuổi thành niên đều có...  1.006472  \n16  1. Mọi người đều có quyền sở hữu tài s...  1.042085  \n17  Mọi người đều có quyền tự do suy nghĩ, ...  1.085993  \n18  Mọi người đều có quyền tự do ngôn luận ...  1.024837  \n19  1. Mọi người đều có quyền tự do họp hà...  1.022761  \n20  1. Mọi người đều có quyền tham gia vào c...  1.103047  \n21  Với tư cách là thành viên của xã hội, m...  1.041711  \n22  1. Mọi người đều có quyền làm việc, tự...  1.051264  \n23  Mọi người đều có quyền nghỉ ngơi và gia...  1.002119  \n24  1. Mọi người đều có quyền được hưởng mư...  1.030545  \n25  1. Mọi người đều có quyền được học hàn...  1.039254  \n26  1. Mọi người đều có quyền tự do tham gia...  1.033598  \n27  Mọi người đều có quyền được hưởng trật...  0.932223  \n28  1. Mọi người đều có nghĩa vụ đối với c...  0.974016  \n29  Không được phép diễn giải bất kỳ điều k...  1.035195  ",
      "text/html": "<div>\n<style scoped>\n    .dataframe tbody tr th:only-of-type {\n        vertical-align: middle;\n    }\n\n    .dataframe tbody tr th {\n        vertical-align: top;\n    }\n\n    .dataframe thead th {\n        text-align: right;\n    }\n</style>\n<table border=\"1\" class=\"dataframe\">\n  <thead>\n    <tr style=\"text-align: right;\">\n      <th></th>\n      <th>de</th>\n      <th>vi</th>\n      <th>tmd</th>\n    </tr>\n  </thead>\n  <tbody>\n    <tr>\n      <th>0</th>\n      <td>Alle Menschen sind frei und gleich an Würde un...</td>\n      <td>Tất cả mọi người sinh ra đều được tự do...</td>\n      <td>0.910982</td>\n    </tr>\n    <tr>\n      <th>1</th>\n      <td>Jeder hat Anspruch auf die in dieser Erklärung...</td>\n      <td>Mọi người đều được hưởng tất cả những ...</td>\n      <td>1.060845</td>\n    </tr>\n    <tr>\n      <th>2</th>\n      <td>Jeder hat das Recht auf Leben, Freiheit und Si...</td>\n      <td>Mọi người đều có quyền sống, tự do và ...</td>\n      <td>0.951958</td>\n    </tr>\n    <tr>\n      <th>3</th>\n      <td>Niemand darf in Sklaverei oder Leibeigenschaft...</td>\n      <td>Không ai phải làm nô lệ hay bị cưỡng bức...</td>\n      <td>1.104190</td>\n    </tr>\n    <tr>\n      <th>4</th>\n      <td>Niemand darf der Folter oder grausamer, unmens...</td>\n      <td>Không ai bị tra tấn hay bị đối xử, xử ph...</td>\n      <td>1.156166</td>\n    </tr>\n    <tr>\n      <th>5</th>\n      <td>Jeder hat das Recht, überall als rechtsfähig a...</td>\n      <td>Mọi người đều có quyền được thừa nhận ...</td>\n      <td>1.044049</td>\n    </tr>\n    <tr>\n      <th>6</th>\n      <td>Alle Menschen sind vor dem Gesetz gleich und h...</td>\n      <td>Tất cả mọi người đều bình đẳng trước p...</td>\n      <td>1.027727</td>\n    </tr>\n    <tr>\n      <th>7</th>\n      <td>Jeder hat Anspruch auf einen wirksamen Rechtsb...</td>\n      <td>Mọi người đều có quyền được các toà á...</td>\n      <td>1.138398</td>\n    </tr>\n    <tr>\n      <th>8</th>\n      <td>Niemand darf willkürlich festgenommen, in Haft...</td>\n      <td>Không ai bị bắt, giam giữ hay đày đi nơi k...</td>\n      <td>1.139145</td>\n    </tr>\n    <tr>\n      <th>9</th>\n      <td>Jeder hat bei der Feststellung seiner Rechte u...</td>\n      <td>Mọi người, với tư cách bình đẳng về mọ...</td>\n      <td>1.008035</td>\n    </tr>\n    <tr>\n      <th>10</th>\n      <td>Jeder, der wegen einer strafbaren Handlung bes...</td>\n      <td>1. Mọi người, nếu bị quy tội hình sự, đ...</td>\n      <td>1.026153</td>\n    </tr>\n    <tr>\n      <th>11</th>\n      <td>Niemand darf willkürlichen Eingriffen in sein ...</td>\n      <td>Không ai bị can thiệp một cách độc đoán ...</td>\n      <td>1.096271</td>\n    </tr>\n    <tr>\n      <th>12</th>\n      <td>Jeder hat das Recht, sich innerhalb eines Staa...</td>\n      <td>1. Mọi người đều có quyền tự do đi lại ...</td>\n      <td>1.023765</td>\n    </tr>\n    <tr>\n      <th>13</th>\n      <td>Jeder hat das Recht, in anderen Ländern vor Ve...</td>\n      <td>1. Mọi người đều có quyền tìm kiếm và ...</td>\n      <td>1.020917</td>\n    </tr>\n    <tr>\n      <th>14</th>\n      <td>Jeder hat das Recht auf eine Staatsangehörigke...</td>\n      <td>1. Mọi người đều có quyền nhập quốc tị...</td>\n      <td>1.080456</td>\n    </tr>\n    <tr>\n      <th>15</th>\n      <td>Heiratsfähige Frauen und Männer haben ohne Bes...</td>\n      <td>1. Nam hay nữ đến tuổi thành niên đều có...</td>\n      <td>1.006472</td>\n    </tr>\n    <tr>\n      <th>16</th>\n      <td>Jeder hat das Recht, sowohl allein als auch in...</td>\n      <td>1. Mọi người đều có quyền sở hữu tài s...</td>\n      <td>1.042085</td>\n    </tr>\n    <tr>\n      <th>17</th>\n      <td>Jeder hat das Recht auf Gedanken-, Gewissens- ...</td>\n      <td>Mọi người đều có quyền tự do suy nghĩ, ...</td>\n      <td>1.085993</td>\n    </tr>\n    <tr>\n      <th>18</th>\n      <td>Jeder hat das Recht auf Meinungsfreiheit und f...</td>\n      <td>Mọi người đều có quyền tự do ngôn luận ...</td>\n      <td>1.024837</td>\n    </tr>\n    <tr>\n      <th>19</th>\n      <td>Alle Menschen haben das Recht, sich friedlich ...</td>\n      <td>1. Mọi người đều có quyền tự do họp hà...</td>\n      <td>1.022761</td>\n    </tr>\n    <tr>\n      <th>20</th>\n      <td>Jeder hat das Recht, an der Gestaltung der öff...</td>\n      <td>1. Mọi người đều có quyền tham gia vào c...</td>\n      <td>1.103047</td>\n    </tr>\n    <tr>\n      <th>21</th>\n      <td>Jeder hat als Mitglied der Gesellschaft das Re...</td>\n      <td>Với tư cách là thành viên của xã hội, m...</td>\n      <td>1.041711</td>\n    </tr>\n    <tr>\n      <th>22</th>\n      <td>Jeder hat das Recht auf Arbeit, auf freie Beru...</td>\n      <td>1. Mọi người đều có quyền làm việc, tự...</td>\n      <td>1.051264</td>\n    </tr>\n    <tr>\n      <th>23</th>\n      <td>Jeder hat das Recht auf Erholung und Freizeit ...</td>\n      <td>Mọi người đều có quyền nghỉ ngơi và gia...</td>\n      <td>1.002119</td>\n    </tr>\n    <tr>\n      <th>24</th>\n      <td>Jeder hat das Recht auf einen Lebensstandard, ...</td>\n      <td>1. Mọi người đều có quyền được hưởng mư...</td>\n      <td>1.030545</td>\n    </tr>\n    <tr>\n      <th>25</th>\n      <td>Jeder hat das Recht auf Bildung. Die Bildung i...</td>\n      <td>1. Mọi người đều có quyền được học hàn...</td>\n      <td>1.039254</td>\n    </tr>\n    <tr>\n      <th>26</th>\n      <td>Jeder hat das Recht, am kulturellen Leben der ...</td>\n      <td>1. Mọi người đều có quyền tự do tham gia...</td>\n      <td>1.033598</td>\n    </tr>\n    <tr>\n      <th>27</th>\n      <td>Jeder hat Anspruch auf eine soziale und intern...</td>\n      <td>Mọi người đều có quyền được hưởng trật...</td>\n      <td>0.932223</td>\n    </tr>\n    <tr>\n      <th>28</th>\n      <td>Jeder hat Pflichten gegenüber der Gemeinschaft...</td>\n      <td>1. Mọi người đều có nghĩa vụ đối với c...</td>\n      <td>0.974016</td>\n    </tr>\n    <tr>\n      <th>29</th>\n      <td>Keine Bestimmung dieser Erklärung darf dahin a...</td>\n      <td>Không được phép diễn giải bất kỳ điều k...</td>\n      <td>1.035195</td>\n    </tr>\n  </tbody>\n</table>\n</div>"
     },
     "execution_count": 19,
     "metadata": {},
     "output_type": "execute_result"
    }
   ],
   "source": [
    "vi_df = pd.read_csv(os.path.join(alignment_path, \"de.vi.csv\"))\n",
    "vi_df['tmd'] = trglobals.compute_tmd_df(vi_df)\n",
    "vi_df"
   ],
   "metadata": {
    "collapsed": false,
    "pycharm": {
     "name": "#%%\n"
    }
   }
  },
  {
   "cell_type": "code",
   "execution_count": 20,
   "outputs": [
    {
     "data": {
      "text/plain": "1.0404726515013059"
     },
     "execution_count": 20,
     "metadata": {},
     "output_type": "execute_result"
    }
   ],
   "source": [
    "vi_df['tmd'].mean()"
   ],
   "metadata": {
    "collapsed": false,
    "pycharm": {
     "name": "#%%\n"
    }
   }
  },
  {
   "cell_type": "code",
   "execution_count": 21,
   "outputs": [],
   "source": [
    "vi_df.to_csv(os.path.join(output_path, \"tmd_de_vi.csv\"), encoding='utf8', index=False)"
   ],
   "metadata": {
    "collapsed": false,
    "pycharm": {
     "name": "#%%\n"
    }
   }
  },
  {
   "cell_type": "markdown",
   "source": [
    "### German - Greek"
   ],
   "metadata": {
    "collapsed": false,
    "pycharm": {
     "name": "#%% md\n"
    }
   }
  },
  {
   "cell_type": "code",
   "execution_count": 22,
   "outputs": [
    {
     "name": "stderr",
     "output_type": "stream",
     "text": [
      "100%|██████████| 30/30 [00:00<00:00, 82.95it/s] \n"
     ]
    }
   ],
   "source": [
    "el_df = pd.read_csv(os.path.join(alignment_path, \"de.el.csv\"))\n",
    "el_df['tmd'] = trglobals.compute_tmd_df(el_df, verbose=False)"
   ],
   "metadata": {
    "collapsed": false,
    "pycharm": {
     "name": "#%%\n"
    }
   }
  },
  {
   "cell_type": "code",
   "execution_count": 23,
   "outputs": [
    {
     "data": {
      "text/plain": "                                                   de  \\\n0   Alle Menschen sind frei und gleich an Würde un...   \n1   Jeder hat Anspruch auf die in dieser Erklärung...   \n2   Jeder hat das Recht auf Leben, Freiheit und Si...   \n3   Niemand darf in Sklaverei oder Leibeigenschaft...   \n4   Niemand darf der Folter oder grausamer, unmens...   \n5   Jeder hat das Recht, überall als rechtsfähig a...   \n6   Alle Menschen sind vor dem Gesetz gleich und h...   \n7   Jeder hat Anspruch auf einen wirksamen Rechtsb...   \n8   Niemand darf willkürlich festgenommen, in Haft...   \n9   Jeder hat bei der Feststellung seiner Rechte u...   \n10  Jeder, der wegen einer strafbaren Handlung bes...   \n11  Niemand darf willkürlichen Eingriffen in sein ...   \n12  Jeder hat das Recht, sich innerhalb eines Staa...   \n13  Jeder hat das Recht, in anderen Ländern vor Ve...   \n14  Jeder hat das Recht auf eine Staatsangehörigke...   \n15  Heiratsfähige Frauen und Männer haben ohne Bes...   \n16  Jeder hat das Recht, sowohl allein als auch in...   \n17  Jeder hat das Recht auf Gedanken-, Gewissens- ...   \n18  Jeder hat das Recht auf Meinungsfreiheit und f...   \n19  Alle Menschen haben das Recht, sich friedlich ...   \n20  Jeder hat das Recht, an der Gestaltung der öff...   \n21  Jeder hat als Mitglied der Gesellschaft das Re...   \n22  Jeder hat das Recht auf Arbeit, auf freie Beru...   \n23  Jeder hat das Recht auf Erholung und Freizeit ...   \n24  Jeder hat das Recht auf einen Lebensstandard, ...   \n25  Jeder hat das Recht auf Bildung. Die Bildung i...   \n26  Jeder hat das Recht, am kulturellen Leben der ...   \n27  Jeder hat Anspruch auf eine soziale und intern...   \n28  Jeder hat Pflichten gegenüber der Gemeinschaft...   \n29  Keine Bestimmung dieser Erklärung darf dahin a...   \n\n                                                   el       tmd  \n0   Όλοι οι άνθρωποι γεννιούνται ελεύθεροι και ίσο...  0.876573  \n1   Κάθε άνθρωπος δικαιούται να επικαλείται όλα τα...  0.987443  \n2   Κάθε άτομο έχει δικαίωμα στη ζωή, την ελευθερί...  0.741566  \n3   Κανείς δεν επιτρέπεται να ζει υπό καθεστώς δου...  0.900964  \n4   Κανείς δεν επιτρέπεται να υποβάλλεται σε βασαν...  0.960802  \n5   Καθένας, όπου και αν βρίσκεται, έχει δικαίωμα ...  1.031562  \n6   Όλοι είναι ίσοι απέναντι στον νόμο και έχουν δ...  0.926673  \n7   Καθένας έχει δικαίωμα να ασκεί αποτελεσματικά ...  1.048221  \n8   Κανείς δεν μπορεί να συλλαμβάνεται, να κρατείτ...  1.153923  \n9   Καθένας έχει δικαίωμα, με πλήρη ισότητα, να εκ...  0.870563  \n10  1. Κάθε κατηγορούμενος για ποινικό αδίκημα πρέ...  0.986356  \n11  Κανείς δεν επιτρέπεται να υποστεί αυθαίρετες ε...  1.013966  \n12  1. Καθένας έχει το δικαίωμα να κυκλοφορεί ελεύ...  0.999064  \n13  1. Κάθε άτομο που καταδιώκεται έχει το δικαίωμ...  0.976547  \n14  1. Καθένας έχει το δικαίωμα μιας ιθαγένειας.\\n...  0.962657  \n15  1. Από τη στιγμή που θα φθάσουν σε ηλικία γάμο...  0.895851  \n16  1. Κάθε άτομο, μόνο του ή με άλλους μαζί, έχει...  0.941259  \n17  Κάθε άτομο έχει το δικαίωμα της ελευθερίας της...  0.848794  \n18  Καθένας έχει το δικαίωμα της ελευθερίας της γν...  0.968546  \n19  1. Καθένας έχει το δικαίωμα να συνέρχεται και ...  1.035411  \n20  1. Καθένας έχει το δικαίωμα να συμμετέχει στη ...  0.991145  \n21  Κάθε άτομο, ως μέλος του κοινωνικού συνόλου, έ...  0.911887  \n22  1. Καθένας έχει το δικαίωμα να εργάζεται και ν...  0.954242  \n23  Καθένας έχει το δικαίωμα στην ανάπαυση, σε ελε...  0.878878  \n24  1. Καθένας έχει δικαίωμα σε ένα βιοτικό επίπεδ...  0.890109  \n25  1. Καθένας έχει δικαίωμα στην εκπαίδευση. Η εκ...  0.930777  \n26  1. Καθένας έχει το δικαίωμα να συμμετέχει ελεύ...  0.969103  \n27  Καθένας έχει το δικαίωμα να επικρατεί μια κοιν...  0.916907  \n28  1. Το άτομο έχει καθήκοντα απέναντι στην κοινό...  0.915197  \n29  Καμιά διάταξη της παρούσας Διακήρυξης δεν μπορ...  0.971880  ",
      "text/html": "<div>\n<style scoped>\n    .dataframe tbody tr th:only-of-type {\n        vertical-align: middle;\n    }\n\n    .dataframe tbody tr th {\n        vertical-align: top;\n    }\n\n    .dataframe thead th {\n        text-align: right;\n    }\n</style>\n<table border=\"1\" class=\"dataframe\">\n  <thead>\n    <tr style=\"text-align: right;\">\n      <th></th>\n      <th>de</th>\n      <th>el</th>\n      <th>tmd</th>\n    </tr>\n  </thead>\n  <tbody>\n    <tr>\n      <th>0</th>\n      <td>Alle Menschen sind frei und gleich an Würde un...</td>\n      <td>Όλοι οι άνθρωποι γεννιούνται ελεύθεροι και ίσο...</td>\n      <td>0.876573</td>\n    </tr>\n    <tr>\n      <th>1</th>\n      <td>Jeder hat Anspruch auf die in dieser Erklärung...</td>\n      <td>Κάθε άνθρωπος δικαιούται να επικαλείται όλα τα...</td>\n      <td>0.987443</td>\n    </tr>\n    <tr>\n      <th>2</th>\n      <td>Jeder hat das Recht auf Leben, Freiheit und Si...</td>\n      <td>Κάθε άτομο έχει δικαίωμα στη ζωή, την ελευθερί...</td>\n      <td>0.741566</td>\n    </tr>\n    <tr>\n      <th>3</th>\n      <td>Niemand darf in Sklaverei oder Leibeigenschaft...</td>\n      <td>Κανείς δεν επιτρέπεται να ζει υπό καθεστώς δου...</td>\n      <td>0.900964</td>\n    </tr>\n    <tr>\n      <th>4</th>\n      <td>Niemand darf der Folter oder grausamer, unmens...</td>\n      <td>Κανείς δεν επιτρέπεται να υποβάλλεται σε βασαν...</td>\n      <td>0.960802</td>\n    </tr>\n    <tr>\n      <th>5</th>\n      <td>Jeder hat das Recht, überall als rechtsfähig a...</td>\n      <td>Καθένας, όπου και αν βρίσκεται, έχει δικαίωμα ...</td>\n      <td>1.031562</td>\n    </tr>\n    <tr>\n      <th>6</th>\n      <td>Alle Menschen sind vor dem Gesetz gleich und h...</td>\n      <td>Όλοι είναι ίσοι απέναντι στον νόμο και έχουν δ...</td>\n      <td>0.926673</td>\n    </tr>\n    <tr>\n      <th>7</th>\n      <td>Jeder hat Anspruch auf einen wirksamen Rechtsb...</td>\n      <td>Καθένας έχει δικαίωμα να ασκεί αποτελεσματικά ...</td>\n      <td>1.048221</td>\n    </tr>\n    <tr>\n      <th>8</th>\n      <td>Niemand darf willkürlich festgenommen, in Haft...</td>\n      <td>Κανείς δεν μπορεί να συλλαμβάνεται, να κρατείτ...</td>\n      <td>1.153923</td>\n    </tr>\n    <tr>\n      <th>9</th>\n      <td>Jeder hat bei der Feststellung seiner Rechte u...</td>\n      <td>Καθένας έχει δικαίωμα, με πλήρη ισότητα, να εκ...</td>\n      <td>0.870563</td>\n    </tr>\n    <tr>\n      <th>10</th>\n      <td>Jeder, der wegen einer strafbaren Handlung bes...</td>\n      <td>1. Κάθε κατηγορούμενος για ποινικό αδίκημα πρέ...</td>\n      <td>0.986356</td>\n    </tr>\n    <tr>\n      <th>11</th>\n      <td>Niemand darf willkürlichen Eingriffen in sein ...</td>\n      <td>Κανείς δεν επιτρέπεται να υποστεί αυθαίρετες ε...</td>\n      <td>1.013966</td>\n    </tr>\n    <tr>\n      <th>12</th>\n      <td>Jeder hat das Recht, sich innerhalb eines Staa...</td>\n      <td>1. Καθένας έχει το δικαίωμα να κυκλοφορεί ελεύ...</td>\n      <td>0.999064</td>\n    </tr>\n    <tr>\n      <th>13</th>\n      <td>Jeder hat das Recht, in anderen Ländern vor Ve...</td>\n      <td>1. Κάθε άτομο που καταδιώκεται έχει το δικαίωμ...</td>\n      <td>0.976547</td>\n    </tr>\n    <tr>\n      <th>14</th>\n      <td>Jeder hat das Recht auf eine Staatsangehörigke...</td>\n      <td>1. Καθένας έχει το δικαίωμα μιας ιθαγένειας.\\n...</td>\n      <td>0.962657</td>\n    </tr>\n    <tr>\n      <th>15</th>\n      <td>Heiratsfähige Frauen und Männer haben ohne Bes...</td>\n      <td>1. Από τη στιγμή που θα φθάσουν σε ηλικία γάμο...</td>\n      <td>0.895851</td>\n    </tr>\n    <tr>\n      <th>16</th>\n      <td>Jeder hat das Recht, sowohl allein als auch in...</td>\n      <td>1. Κάθε άτομο, μόνο του ή με άλλους μαζί, έχει...</td>\n      <td>0.941259</td>\n    </tr>\n    <tr>\n      <th>17</th>\n      <td>Jeder hat das Recht auf Gedanken-, Gewissens- ...</td>\n      <td>Κάθε άτομο έχει το δικαίωμα της ελευθερίας της...</td>\n      <td>0.848794</td>\n    </tr>\n    <tr>\n      <th>18</th>\n      <td>Jeder hat das Recht auf Meinungsfreiheit und f...</td>\n      <td>Καθένας έχει το δικαίωμα της ελευθερίας της γν...</td>\n      <td>0.968546</td>\n    </tr>\n    <tr>\n      <th>19</th>\n      <td>Alle Menschen haben das Recht, sich friedlich ...</td>\n      <td>1. Καθένας έχει το δικαίωμα να συνέρχεται και ...</td>\n      <td>1.035411</td>\n    </tr>\n    <tr>\n      <th>20</th>\n      <td>Jeder hat das Recht, an der Gestaltung der öff...</td>\n      <td>1. Καθένας έχει το δικαίωμα να συμμετέχει στη ...</td>\n      <td>0.991145</td>\n    </tr>\n    <tr>\n      <th>21</th>\n      <td>Jeder hat als Mitglied der Gesellschaft das Re...</td>\n      <td>Κάθε άτομο, ως μέλος του κοινωνικού συνόλου, έ...</td>\n      <td>0.911887</td>\n    </tr>\n    <tr>\n      <th>22</th>\n      <td>Jeder hat das Recht auf Arbeit, auf freie Beru...</td>\n      <td>1. Καθένας έχει το δικαίωμα να εργάζεται και ν...</td>\n      <td>0.954242</td>\n    </tr>\n    <tr>\n      <th>23</th>\n      <td>Jeder hat das Recht auf Erholung und Freizeit ...</td>\n      <td>Καθένας έχει το δικαίωμα στην ανάπαυση, σε ελε...</td>\n      <td>0.878878</td>\n    </tr>\n    <tr>\n      <th>24</th>\n      <td>Jeder hat das Recht auf einen Lebensstandard, ...</td>\n      <td>1. Καθένας έχει δικαίωμα σε ένα βιοτικό επίπεδ...</td>\n      <td>0.890109</td>\n    </tr>\n    <tr>\n      <th>25</th>\n      <td>Jeder hat das Recht auf Bildung. Die Bildung i...</td>\n      <td>1. Καθένας έχει δικαίωμα στην εκπαίδευση. Η εκ...</td>\n      <td>0.930777</td>\n    </tr>\n    <tr>\n      <th>26</th>\n      <td>Jeder hat das Recht, am kulturellen Leben der ...</td>\n      <td>1. Καθένας έχει το δικαίωμα να συμμετέχει ελεύ...</td>\n      <td>0.969103</td>\n    </tr>\n    <tr>\n      <th>27</th>\n      <td>Jeder hat Anspruch auf eine soziale und intern...</td>\n      <td>Καθένας έχει το δικαίωμα να επικρατεί μια κοιν...</td>\n      <td>0.916907</td>\n    </tr>\n    <tr>\n      <th>28</th>\n      <td>Jeder hat Pflichten gegenüber der Gemeinschaft...</td>\n      <td>1. Το άτομο έχει καθήκοντα απέναντι στην κοινό...</td>\n      <td>0.915197</td>\n    </tr>\n    <tr>\n      <th>29</th>\n      <td>Keine Bestimmung dieser Erklärung darf dahin a...</td>\n      <td>Καμιά διάταξη της παρούσας Διακήρυξης δεν μπορ...</td>\n      <td>0.971880</td>\n    </tr>\n  </tbody>\n</table>\n</div>"
     },
     "execution_count": 23,
     "metadata": {},
     "output_type": "execute_result"
    }
   ],
   "source": [
    "el_df"
   ],
   "metadata": {
    "collapsed": false,
    "pycharm": {
     "name": "#%%\n"
    }
   }
  },
  {
   "cell_type": "code",
   "execution_count": 24,
   "outputs": [
    {
     "data": {
      "text/plain": "0.9485621776205716"
     },
     "execution_count": 24,
     "metadata": {},
     "output_type": "execute_result"
    }
   ],
   "source": [
    "el_df['tmd'].mean()"
   ],
   "metadata": {
    "collapsed": false,
    "pycharm": {
     "name": "#%%\n"
    }
   }
  },
  {
   "cell_type": "code",
   "execution_count": 25,
   "outputs": [],
   "source": [
    "el_fpath = os.path.join(output_path, \"tmd_de_el.csv\")\n",
    "el_df.to_csv(el_fpath, encoding='utf8', index=False)"
   ],
   "metadata": {
    "collapsed": false,
    "pycharm": {
     "name": "#%%\n"
    }
   }
  },
  {
   "cell_type": "code",
   "execution_count": 26,
   "outputs": [
    {
     "data": {
      "text/plain": "'../Texts_Output/UDHR/tmd_de_el.csv'"
     },
     "execution_count": 26,
     "metadata": {},
     "output_type": "execute_result"
    }
   ],
   "source": [
    "el_fpath"
   ],
   "metadata": {
    "collapsed": false,
    "pycharm": {
     "name": "#%%\n"
    }
   }
  },
  {
   "cell_type": "markdown",
   "source": [
    "### German - Kazakh"
   ],
   "metadata": {
    "collapsed": false,
    "pycharm": {
     "name": "#%% md\n"
    }
   }
  },
  {
   "cell_type": "code",
   "execution_count": 7,
   "outputs": [
    {
     "data": {
      "text/plain": "                                                   de  \\\n0   Alle Menschen sind frei und gleich an Würde un...   \n1   Jeder hat Anspruch auf die in dieser Erklärung...   \n2   Jeder hat das Recht auf Leben, Freiheit und Si...   \n3   Niemand darf in Sklaverei oder Leibeigenschaft...   \n4   Niemand darf der Folter oder grausamer, unmens...   \n5   Jeder hat das Recht, überall als rechtsfähig a...   \n6   Alle Menschen sind vor dem Gesetz gleich und h...   \n7   Jeder hat Anspruch auf einen wirksamen Rechtsb...   \n8   Niemand darf willkürlich festgenommen, in Haft...   \n9   Jeder hat bei der Feststellung seiner Rechte u...   \n10  Jeder, der wegen einer strafbaren Handlung bes...   \n11  Niemand darf willkürlichen Eingriffen in sein ...   \n12  Jeder hat das Recht, sich innerhalb eines Staa...   \n13  Jeder hat das Recht, in anderen Ländern vor Ve...   \n14  Jeder hat das Recht auf eine Staatsangehörigke...   \n15  Heiratsfähige Frauen und Männer haben ohne Bes...   \n16  Jeder hat das Recht, sowohl allein als auch in...   \n17  Jeder hat das Recht auf Gedanken-, Gewissens- ...   \n18  Jeder hat das Recht auf Meinungsfreiheit und f...   \n19  Alle Menschen haben das Recht, sich friedlich ...   \n20  Jeder hat das Recht, an der Gestaltung der öff...   \n21  Jeder hat als Mitglied der Gesellschaft das Re...   \n22  Jeder hat das Recht auf Arbeit, auf freie Beru...   \n23  Jeder hat das Recht auf Erholung und Freizeit ...   \n24  Jeder hat das Recht auf einen Lebensstandard, ...   \n25  Jeder hat das Recht auf Bildung. Die Bildung i...   \n26  Jeder hat das Recht, am kulturellen Leben der ...   \n27  Jeder hat Anspruch auf eine soziale und intern...   \n28  Jeder hat Pflichten gegenüber der Gemeinschaft...   \n29  Keine Bestimmung dieser Erklärung darf dahin a...   \n\n                                                   kk  \n0   Барлық адамдар тумысынан азат және қадір‐қасие...  \n1   Әр адам, нәсіліне, түр‐түсіне, жынысына. тілін...  \n2   Әр адам өмір сүруге, бостандықта болуға және о...  \n3   Ешкім де құлдықта немесе кіріптарлықта ұсталуы...  \n4   Ешкім де азапталуға немесе қадір‐қасиетін қорл...  \n5   Әр адам қай жерде жүрсе де, құқықтық субъектіс...  \n6   Заң алдында жұрттың бәрі тең және де заң арқыл...  \n7   Әр адам, конституциямен, немесе заңмен берілге...  \n8   Ешкім де негізсіз тұтқындалуға, қамауда ұсталу...  \n9   Әр адам, өзінің құқықтары мен міндеттерін анық...  \n10  1. Қылмыс жасады деп айыпталған әр адам, қорға...  \n11  Әр адам жеке және отбасылық өміріне өзгелердің...  \n12  1. Әр адамның әр мемлекеттің ішінде жүріп‐тұру...  \n13  1. Әр адамның қуғынға ұшыраған жағдайда, басқа...  \n14  1. Әр адамның азаматтыққа құқығы бар.\\n\\n2. Еш...  \n15  1. Кәмелеттік жасқа толған ерлер мен әйелдер ө...  \n16  1. Әр адамның дүние мүлікті жеке өзі, немесе б...  \n17  Әр адам ой‐пікір, ар‐ождан және дін бостандығы...  \n18  Әр адам наным‐сенім бостандығына және өз көзқа...  \n19  1. Әр адамның бейбіт жиналыстар және ассоциаци...  \n20  1. Әр адамның, өз елін басқару ісіне тікелей ө...  \n21  Әр адам, қоғам мүшесі ретінде, әлеуметтік жағы...  \n22  1. Әр адамның еңбек етуге, жұмыс түрін еркін т...  \n23  Әр адам тынығуға және мәдени демалуға, оның іш...  \n24  1. Әр адам өзінің және отбасы мүшелерінің ден‐...  \n25  1. Әр адамның білім алуға кұқығы бар. Білім бе...  \n26  1. Әр адам қоғамның мәдени өміріне еркін қатыс...  \n27  Әр адам осы декларацияда баянды етілген кұқықт...  \n28  1. Әр адамның, адам баласының еркін және толық...  \n29  Осы Декларациядағы ешбір қағида қасыбір мемлек...  ",
      "text/html": "<div>\n<style scoped>\n    .dataframe tbody tr th:only-of-type {\n        vertical-align: middle;\n    }\n\n    .dataframe tbody tr th {\n        vertical-align: top;\n    }\n\n    .dataframe thead th {\n        text-align: right;\n    }\n</style>\n<table border=\"1\" class=\"dataframe\">\n  <thead>\n    <tr style=\"text-align: right;\">\n      <th></th>\n      <th>de</th>\n      <th>kk</th>\n    </tr>\n  </thead>\n  <tbody>\n    <tr>\n      <th>0</th>\n      <td>Alle Menschen sind frei und gleich an Würde un...</td>\n      <td>Барлық адамдар тумысынан азат және қадір‐қасие...</td>\n    </tr>\n    <tr>\n      <th>1</th>\n      <td>Jeder hat Anspruch auf die in dieser Erklärung...</td>\n      <td>Әр адам, нәсіліне, түр‐түсіне, жынысына. тілін...</td>\n    </tr>\n    <tr>\n      <th>2</th>\n      <td>Jeder hat das Recht auf Leben, Freiheit und Si...</td>\n      <td>Әр адам өмір сүруге, бостандықта болуға және о...</td>\n    </tr>\n    <tr>\n      <th>3</th>\n      <td>Niemand darf in Sklaverei oder Leibeigenschaft...</td>\n      <td>Ешкім де құлдықта немесе кіріптарлықта ұсталуы...</td>\n    </tr>\n    <tr>\n      <th>4</th>\n      <td>Niemand darf der Folter oder grausamer, unmens...</td>\n      <td>Ешкім де азапталуға немесе қадір‐қасиетін қорл...</td>\n    </tr>\n    <tr>\n      <th>5</th>\n      <td>Jeder hat das Recht, überall als rechtsfähig a...</td>\n      <td>Әр адам қай жерде жүрсе де, құқықтық субъектіс...</td>\n    </tr>\n    <tr>\n      <th>6</th>\n      <td>Alle Menschen sind vor dem Gesetz gleich und h...</td>\n      <td>Заң алдында жұрттың бәрі тең және де заң арқыл...</td>\n    </tr>\n    <tr>\n      <th>7</th>\n      <td>Jeder hat Anspruch auf einen wirksamen Rechtsb...</td>\n      <td>Әр адам, конституциямен, немесе заңмен берілге...</td>\n    </tr>\n    <tr>\n      <th>8</th>\n      <td>Niemand darf willkürlich festgenommen, in Haft...</td>\n      <td>Ешкім де негізсіз тұтқындалуға, қамауда ұсталу...</td>\n    </tr>\n    <tr>\n      <th>9</th>\n      <td>Jeder hat bei der Feststellung seiner Rechte u...</td>\n      <td>Әр адам, өзінің құқықтары мен міндеттерін анық...</td>\n    </tr>\n    <tr>\n      <th>10</th>\n      <td>Jeder, der wegen einer strafbaren Handlung bes...</td>\n      <td>1. Қылмыс жасады деп айыпталған әр адам, қорға...</td>\n    </tr>\n    <tr>\n      <th>11</th>\n      <td>Niemand darf willkürlichen Eingriffen in sein ...</td>\n      <td>Әр адам жеке және отбасылық өміріне өзгелердің...</td>\n    </tr>\n    <tr>\n      <th>12</th>\n      <td>Jeder hat das Recht, sich innerhalb eines Staa...</td>\n      <td>1. Әр адамның әр мемлекеттің ішінде жүріп‐тұру...</td>\n    </tr>\n    <tr>\n      <th>13</th>\n      <td>Jeder hat das Recht, in anderen Ländern vor Ve...</td>\n      <td>1. Әр адамның қуғынға ұшыраған жағдайда, басқа...</td>\n    </tr>\n    <tr>\n      <th>14</th>\n      <td>Jeder hat das Recht auf eine Staatsangehörigke...</td>\n      <td>1. Әр адамның азаматтыққа құқығы бар.\\n\\n2. Еш...</td>\n    </tr>\n    <tr>\n      <th>15</th>\n      <td>Heiratsfähige Frauen und Männer haben ohne Bes...</td>\n      <td>1. Кәмелеттік жасқа толған ерлер мен әйелдер ө...</td>\n    </tr>\n    <tr>\n      <th>16</th>\n      <td>Jeder hat das Recht, sowohl allein als auch in...</td>\n      <td>1. Әр адамның дүние мүлікті жеке өзі, немесе б...</td>\n    </tr>\n    <tr>\n      <th>17</th>\n      <td>Jeder hat das Recht auf Gedanken-, Gewissens- ...</td>\n      <td>Әр адам ой‐пікір, ар‐ождан және дін бостандығы...</td>\n    </tr>\n    <tr>\n      <th>18</th>\n      <td>Jeder hat das Recht auf Meinungsfreiheit und f...</td>\n      <td>Әр адам наным‐сенім бостандығына және өз көзқа...</td>\n    </tr>\n    <tr>\n      <th>19</th>\n      <td>Alle Menschen haben das Recht, sich friedlich ...</td>\n      <td>1. Әр адамның бейбіт жиналыстар және ассоциаци...</td>\n    </tr>\n    <tr>\n      <th>20</th>\n      <td>Jeder hat das Recht, an der Gestaltung der öff...</td>\n      <td>1. Әр адамның, өз елін басқару ісіне тікелей ө...</td>\n    </tr>\n    <tr>\n      <th>21</th>\n      <td>Jeder hat als Mitglied der Gesellschaft das Re...</td>\n      <td>Әр адам, қоғам мүшесі ретінде, әлеуметтік жағы...</td>\n    </tr>\n    <tr>\n      <th>22</th>\n      <td>Jeder hat das Recht auf Arbeit, auf freie Beru...</td>\n      <td>1. Әр адамның еңбек етуге, жұмыс түрін еркін т...</td>\n    </tr>\n    <tr>\n      <th>23</th>\n      <td>Jeder hat das Recht auf Erholung und Freizeit ...</td>\n      <td>Әр адам тынығуға және мәдени демалуға, оның іш...</td>\n    </tr>\n    <tr>\n      <th>24</th>\n      <td>Jeder hat das Recht auf einen Lebensstandard, ...</td>\n      <td>1. Әр адам өзінің және отбасы мүшелерінің ден‐...</td>\n    </tr>\n    <tr>\n      <th>25</th>\n      <td>Jeder hat das Recht auf Bildung. Die Bildung i...</td>\n      <td>1. Әр адамның білім алуға кұқығы бар. Білім бе...</td>\n    </tr>\n    <tr>\n      <th>26</th>\n      <td>Jeder hat das Recht, am kulturellen Leben der ...</td>\n      <td>1. Әр адам қоғамның мәдени өміріне еркін қатыс...</td>\n    </tr>\n    <tr>\n      <th>27</th>\n      <td>Jeder hat Anspruch auf eine soziale und intern...</td>\n      <td>Әр адам осы декларацияда баянды етілген кұқықт...</td>\n    </tr>\n    <tr>\n      <th>28</th>\n      <td>Jeder hat Pflichten gegenüber der Gemeinschaft...</td>\n      <td>1. Әр адамның, адам баласының еркін және толық...</td>\n    </tr>\n    <tr>\n      <th>29</th>\n      <td>Keine Bestimmung dieser Erklärung darf dahin a...</td>\n      <td>Осы Декларациядағы ешбір қағида қасыбір мемлек...</td>\n    </tr>\n  </tbody>\n</table>\n</div>"
     },
     "execution_count": 7,
     "metadata": {},
     "output_type": "execute_result"
    }
   ],
   "source": [
    "kk_df = pd.read_csv(os.path.join(alignment_path, 'de.kk.csv'))\n",
    "kk_df"
   ],
   "metadata": {
    "collapsed": false,
    "pycharm": {
     "name": "#%%\n"
    }
   }
  },
  {
   "cell_type": "code",
   "execution_count": 8,
   "outputs": [],
   "source": [
    "# Special case: need to compute via Russian\n",
    "kk_df.columns = ['de','ru']"
   ],
   "metadata": {
    "collapsed": false,
    "pycharm": {
     "name": "#%%\n"
    }
   }
  },
  {
   "cell_type": "code",
   "execution_count": 9,
   "outputs": [
    {
     "name": "stderr",
     "output_type": "stream",
     "text": [
      "100%|██████████| 30/30 [00:00<00:00, 185.40it/s]\n"
     ]
    }
   ],
   "source": [
    "kk_df['tmd'] = trglobals.compute_tmd_df(kk_df)"
   ],
   "metadata": {
    "collapsed": false,
    "pycharm": {
     "name": "#%%\n"
    }
   }
  },
  {
   "cell_type": "code",
   "execution_count": 10,
   "outputs": [
    {
     "data": {
      "text/plain": "                                                   de  \\\n0   Alle Menschen sind frei und gleich an Würde un...   \n1   Jeder hat Anspruch auf die in dieser Erklärung...   \n2   Jeder hat das Recht auf Leben, Freiheit und Si...   \n3   Niemand darf in Sklaverei oder Leibeigenschaft...   \n4   Niemand darf der Folter oder grausamer, unmens...   \n5   Jeder hat das Recht, überall als rechtsfähig a...   \n6   Alle Menschen sind vor dem Gesetz gleich und h...   \n7   Jeder hat Anspruch auf einen wirksamen Rechtsb...   \n8   Niemand darf willkürlich festgenommen, in Haft...   \n9   Jeder hat bei der Feststellung seiner Rechte u...   \n10  Jeder, der wegen einer strafbaren Handlung bes...   \n11  Niemand darf willkürlichen Eingriffen in sein ...   \n12  Jeder hat das Recht, sich innerhalb eines Staa...   \n13  Jeder hat das Recht, in anderen Ländern vor Ve...   \n14  Jeder hat das Recht auf eine Staatsangehörigke...   \n15  Heiratsfähige Frauen und Männer haben ohne Bes...   \n16  Jeder hat das Recht, sowohl allein als auch in...   \n17  Jeder hat das Recht auf Gedanken-, Gewissens- ...   \n18  Jeder hat das Recht auf Meinungsfreiheit und f...   \n19  Alle Menschen haben das Recht, sich friedlich ...   \n20  Jeder hat das Recht, an der Gestaltung der öff...   \n21  Jeder hat als Mitglied der Gesellschaft das Re...   \n22  Jeder hat das Recht auf Arbeit, auf freie Beru...   \n23  Jeder hat das Recht auf Erholung und Freizeit ...   \n24  Jeder hat das Recht auf einen Lebensstandard, ...   \n25  Jeder hat das Recht auf Bildung. Die Bildung i...   \n26  Jeder hat das Recht, am kulturellen Leben der ...   \n27  Jeder hat Anspruch auf eine soziale und intern...   \n28  Jeder hat Pflichten gegenüber der Gemeinschaft...   \n29  Keine Bestimmung dieser Erklärung darf dahin a...   \n\n                                                   ru       tmd  \n0   Барлық адамдар тумысынан азат және қадір‐қасие...  1.331678  \n1   Әр адам, нәсіліне, түр‐түсіне, жынысына. тілін...  1.267198  \n2   Әр адам өмір сүруге, бостандықта болуға және о...  1.395805  \n3   Ешкім де құлдықта немесе кіріптарлықта ұсталуы...  1.326324  \n4   Ешкім де азапталуға немесе қадір‐қасиетін қорл...  1.392727  \n5   Әр адам қай жерде жүрсе де, құқықтық субъектіс...  1.364050  \n6   Заң алдында жұрттың бәрі тең және де заң арқыл...  1.381500  \n7   Әр адам, конституциямен, немесе заңмен берілге...  1.409725  \n8   Ешкім де негізсіз тұтқындалуға, қамауда ұсталу...  1.378004  \n9   Әр адам, өзінің құқықтары мен міндеттерін анық...  1.385344  \n10  1. Қылмыс жасады деп айыпталған әр адам, қорға...  1.373348  \n11  Әр адам жеке және отбасылық өміріне өзгелердің...  1.341202  \n12  1. Әр адамның әр мемлекеттің ішінде жүріп‐тұру...  1.396116  \n13  1. Әр адамның қуғынға ұшыраған жағдайда, басқа...  1.400581  \n14  1. Әр адамның азаматтыққа құқығы бар.\\n\\n2. Еш...  1.370167  \n15  1. Кәмелеттік жасқа толған ерлер мен әйелдер ө...  1.417231  \n16  1. Әр адамның дүние мүлікті жеке өзі, немесе б...  1.364243  \n17  Әр адам ой‐пікір, ар‐ождан және дін бостандығы...  1.312088  \n18  Әр адам наным‐сенім бостандығына және өз көзқа...  1.312581  \n19  1. Әр адамның бейбіт жиналыстар және ассоциаци...  1.370550  \n20  1. Әр адамның, өз елін басқару ісіне тікелей ө...  1.321168  \n21  Әр адам, қоғам мүшесі ретінде, әлеуметтік жағы...  1.389681  \n22  1. Әр адамның еңбек етуге, жұмыс түрін еркін т...  1.399808  \n23  Әр адам тынығуға және мәдени демалуға, оның іш...  1.417557  \n24  1. Әр адам өзінің және отбасы мүшелерінің ден‐...  1.321643  \n25  1. Әр адамның білім алуға кұқығы бар. Білім бе...  1.322873  \n26  1. Әр адам қоғамның мәдени өміріне еркін қатыс...  1.356121  \n27  Әр адам осы декларацияда баянды етілген кұқықт...  1.403149  \n28  1. Әр адамның, адам баласының еркін және толық...  1.389455  \n29  Осы Декларациядағы ешбір қағида қасыбір мемлек...  1.399839  ",
      "text/html": "<div>\n<style scoped>\n    .dataframe tbody tr th:only-of-type {\n        vertical-align: middle;\n    }\n\n    .dataframe tbody tr th {\n        vertical-align: top;\n    }\n\n    .dataframe thead th {\n        text-align: right;\n    }\n</style>\n<table border=\"1\" class=\"dataframe\">\n  <thead>\n    <tr style=\"text-align: right;\">\n      <th></th>\n      <th>de</th>\n      <th>ru</th>\n      <th>tmd</th>\n    </tr>\n  </thead>\n  <tbody>\n    <tr>\n      <th>0</th>\n      <td>Alle Menschen sind frei und gleich an Würde un...</td>\n      <td>Барлық адамдар тумысынан азат және қадір‐қасие...</td>\n      <td>1.331678</td>\n    </tr>\n    <tr>\n      <th>1</th>\n      <td>Jeder hat Anspruch auf die in dieser Erklärung...</td>\n      <td>Әр адам, нәсіліне, түр‐түсіне, жынысына. тілін...</td>\n      <td>1.267198</td>\n    </tr>\n    <tr>\n      <th>2</th>\n      <td>Jeder hat das Recht auf Leben, Freiheit und Si...</td>\n      <td>Әр адам өмір сүруге, бостандықта болуға және о...</td>\n      <td>1.395805</td>\n    </tr>\n    <tr>\n      <th>3</th>\n      <td>Niemand darf in Sklaverei oder Leibeigenschaft...</td>\n      <td>Ешкім де құлдықта немесе кіріптарлықта ұсталуы...</td>\n      <td>1.326324</td>\n    </tr>\n    <tr>\n      <th>4</th>\n      <td>Niemand darf der Folter oder grausamer, unmens...</td>\n      <td>Ешкім де азапталуға немесе қадір‐қасиетін қорл...</td>\n      <td>1.392727</td>\n    </tr>\n    <tr>\n      <th>5</th>\n      <td>Jeder hat das Recht, überall als rechtsfähig a...</td>\n      <td>Әр адам қай жерде жүрсе де, құқықтық субъектіс...</td>\n      <td>1.364050</td>\n    </tr>\n    <tr>\n      <th>6</th>\n      <td>Alle Menschen sind vor dem Gesetz gleich und h...</td>\n      <td>Заң алдында жұрттың бәрі тең және де заң арқыл...</td>\n      <td>1.381500</td>\n    </tr>\n    <tr>\n      <th>7</th>\n      <td>Jeder hat Anspruch auf einen wirksamen Rechtsb...</td>\n      <td>Әр адам, конституциямен, немесе заңмен берілге...</td>\n      <td>1.409725</td>\n    </tr>\n    <tr>\n      <th>8</th>\n      <td>Niemand darf willkürlich festgenommen, in Haft...</td>\n      <td>Ешкім де негізсіз тұтқындалуға, қамауда ұсталу...</td>\n      <td>1.378004</td>\n    </tr>\n    <tr>\n      <th>9</th>\n      <td>Jeder hat bei der Feststellung seiner Rechte u...</td>\n      <td>Әр адам, өзінің құқықтары мен міндеттерін анық...</td>\n      <td>1.385344</td>\n    </tr>\n    <tr>\n      <th>10</th>\n      <td>Jeder, der wegen einer strafbaren Handlung bes...</td>\n      <td>1. Қылмыс жасады деп айыпталған әр адам, қорға...</td>\n      <td>1.373348</td>\n    </tr>\n    <tr>\n      <th>11</th>\n      <td>Niemand darf willkürlichen Eingriffen in sein ...</td>\n      <td>Әр адам жеке және отбасылық өміріне өзгелердің...</td>\n      <td>1.341202</td>\n    </tr>\n    <tr>\n      <th>12</th>\n      <td>Jeder hat das Recht, sich innerhalb eines Staa...</td>\n      <td>1. Әр адамның әр мемлекеттің ішінде жүріп‐тұру...</td>\n      <td>1.396116</td>\n    </tr>\n    <tr>\n      <th>13</th>\n      <td>Jeder hat das Recht, in anderen Ländern vor Ve...</td>\n      <td>1. Әр адамның қуғынға ұшыраған жағдайда, басқа...</td>\n      <td>1.400581</td>\n    </tr>\n    <tr>\n      <th>14</th>\n      <td>Jeder hat das Recht auf eine Staatsangehörigke...</td>\n      <td>1. Әр адамның азаматтыққа құқығы бар.\\n\\n2. Еш...</td>\n      <td>1.370167</td>\n    </tr>\n    <tr>\n      <th>15</th>\n      <td>Heiratsfähige Frauen und Männer haben ohne Bes...</td>\n      <td>1. Кәмелеттік жасқа толған ерлер мен әйелдер ө...</td>\n      <td>1.417231</td>\n    </tr>\n    <tr>\n      <th>16</th>\n      <td>Jeder hat das Recht, sowohl allein als auch in...</td>\n      <td>1. Әр адамның дүние мүлікті жеке өзі, немесе б...</td>\n      <td>1.364243</td>\n    </tr>\n    <tr>\n      <th>17</th>\n      <td>Jeder hat das Recht auf Gedanken-, Gewissens- ...</td>\n      <td>Әр адам ой‐пікір, ар‐ождан және дін бостандығы...</td>\n      <td>1.312088</td>\n    </tr>\n    <tr>\n      <th>18</th>\n      <td>Jeder hat das Recht auf Meinungsfreiheit und f...</td>\n      <td>Әр адам наным‐сенім бостандығына және өз көзқа...</td>\n      <td>1.312581</td>\n    </tr>\n    <tr>\n      <th>19</th>\n      <td>Alle Menschen haben das Recht, sich friedlich ...</td>\n      <td>1. Әр адамның бейбіт жиналыстар және ассоциаци...</td>\n      <td>1.370550</td>\n    </tr>\n    <tr>\n      <th>20</th>\n      <td>Jeder hat das Recht, an der Gestaltung der öff...</td>\n      <td>1. Әр адамның, өз елін басқару ісіне тікелей ө...</td>\n      <td>1.321168</td>\n    </tr>\n    <tr>\n      <th>21</th>\n      <td>Jeder hat als Mitglied der Gesellschaft das Re...</td>\n      <td>Әр адам, қоғам мүшесі ретінде, әлеуметтік жағы...</td>\n      <td>1.389681</td>\n    </tr>\n    <tr>\n      <th>22</th>\n      <td>Jeder hat das Recht auf Arbeit, auf freie Beru...</td>\n      <td>1. Әр адамның еңбек етуге, жұмыс түрін еркін т...</td>\n      <td>1.399808</td>\n    </tr>\n    <tr>\n      <th>23</th>\n      <td>Jeder hat das Recht auf Erholung und Freizeit ...</td>\n      <td>Әр адам тынығуға және мәдени демалуға, оның іш...</td>\n      <td>1.417557</td>\n    </tr>\n    <tr>\n      <th>24</th>\n      <td>Jeder hat das Recht auf einen Lebensstandard, ...</td>\n      <td>1. Әр адам өзінің және отбасы мүшелерінің ден‐...</td>\n      <td>1.321643</td>\n    </tr>\n    <tr>\n      <th>25</th>\n      <td>Jeder hat das Recht auf Bildung. Die Bildung i...</td>\n      <td>1. Әр адамның білім алуға кұқығы бар. Білім бе...</td>\n      <td>1.322873</td>\n    </tr>\n    <tr>\n      <th>26</th>\n      <td>Jeder hat das Recht, am kulturellen Leben der ...</td>\n      <td>1. Әр адам қоғамның мәдени өміріне еркін қатыс...</td>\n      <td>1.356121</td>\n    </tr>\n    <tr>\n      <th>27</th>\n      <td>Jeder hat Anspruch auf eine soziale und intern...</td>\n      <td>Әр адам осы декларацияда баянды етілген кұқықт...</td>\n      <td>1.403149</td>\n    </tr>\n    <tr>\n      <th>28</th>\n      <td>Jeder hat Pflichten gegenüber der Gemeinschaft...</td>\n      <td>1. Әр адамның, адам баласының еркін және толық...</td>\n      <td>1.389455</td>\n    </tr>\n    <tr>\n      <th>29</th>\n      <td>Keine Bestimmung dieser Erklärung darf dahin a...</td>\n      <td>Осы Декларациядағы ешбір қағида қасыбір мемлек...</td>\n      <td>1.399839</td>\n    </tr>\n  </tbody>\n</table>\n</div>"
     },
     "execution_count": 10,
     "metadata": {},
     "output_type": "execute_result"
    }
   ],
   "source": [
    "kk_df"
   ],
   "metadata": {
    "collapsed": false,
    "pycharm": {
     "name": "#%%\n"
    }
   }
  },
  {
   "cell_type": "code",
   "execution_count": 11,
   "outputs": [],
   "source": [
    "kk_df.to_csv(os.path.join(output_path, \"tmd_de_kk.csv\"), encoding='utf8', index=False)"
   ],
   "metadata": {
    "collapsed": false,
    "pycharm": {
     "name": "#%%\n"
    }
   }
  },
  {
   "cell_type": "code",
   "execution_count": null,
   "outputs": [],
   "source": [],
   "metadata": {
    "collapsed": false,
    "pycharm": {
     "name": "#%%\n"
    }
   }
  }
 ],
 "metadata": {
  "kernelspec": {
   "display_name": "Python 3",
   "language": "python",
   "name": "python3"
  },
  "language_info": {
   "codemirror_mode": {
    "name": "ipython",
    "version": 2
   },
   "file_extension": ".py",
   "mimetype": "text/x-python",
   "name": "python",
   "nbconvert_exporter": "python",
   "pygments_lexer": "ipython2",
   "version": "2.7.6"
  }
 },
 "nbformat": 4,
 "nbformat_minor": 0
}