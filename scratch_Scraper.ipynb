{
 "cells": [
  {
   "cell_type": "markdown",
   "metadata": {
    "collapsed": true,
    "pycharm": {
     "name": "#%% md\n"
    }
   },
   "source": [
    "### Scraping Vietnamese V1\n",
    "\n",
    "[https://repository.vnu.edu.vn/handle/VNU_123/54130](https://repository.vnu.edu.vn/handle/VNU_123/54130)"
   ]
  },
  {
   "cell_type": "code",
   "execution_count": 20,
   "outputs": [
    {
     "name": "stdout",
     "output_type": "stream",
     "text": [
      "The autoreload extension is already loaded. To reload it, use:\n",
      "  %reload_ext autoreload\n"
     ]
    }
   ],
   "source": [
    "%load_ext autoreload\n",
    "%autoreload 2"
   ],
   "metadata": {
    "collapsed": false,
    "pycharm": {
     "name": "#%%\n"
    }
   }
  },
  {
   "cell_type": "code",
   "execution_count": 76,
   "outputs": [],
   "source": [
    "import os\n",
    "import random\n",
    "import time\n",
    "import urllib.request\n",
    "\n",
    "import pyperclip"
   ],
   "metadata": {
    "collapsed": false,
    "pycharm": {
     "name": "#%%\n"
    }
   }
  },
  {
   "cell_type": "code",
   "execution_count": 165,
   "outputs": [],
   "source": [
    "doc_ids = {\n",
    "    1: \"134177207739917473327464404913044455065\", # Done\n",
    "    2: \"122520938548365388358327631328618003568\",\n",
    "    3: \"143653898333492141476733199666378696999\",\n",
    "    4: \"74728875771911472167964719280428259754\",\n",
    "}\n",
    "subfolders = {\n",
    "    1: \"13/41/77/\",\n",
    "    2: \"12/25/20/\",\n",
    "    3: \"14/36/53/\",\n",
    "    4: \"74/72/88/\",\n",
    "}\n",
    "page_ranges = {\n",
    "    # (inclusive)\n",
    "    1: {'start': 1, 'end': 254},\n",
    "    2: {'start': 1, 'end': 140},\n",
    "    3: {'start': 1, 'end': 73},\n",
    "    4: {'start': 1, 'end': 195},\n",
    "}\n",
    "# For posterity... the url for vol 2 is\n",
    "# https://repository.vnu.edu.vn/flowpaper/simple_document.php?subfolder=12/22/01/&doc=122201382154699959196011543400878866218&bitsid=73eb8fc9-3ec9-4c3a-94c7-6fa37c0d4658&uid="
   ],
   "metadata": {
    "collapsed": false,
    "pycharm": {
     "name": "#%%\n"
    }
   }
  },
  {
   "cell_type": "code",
   "execution_count": 111,
   "outputs": [],
   "source": [
    "url_template = \"https://repository.vnu.edu.vn/flowpaper/services/view.php?doc=!docid!&format=jpg&page={pnum}&subfolder=!subfolder!\""
   ],
   "metadata": {
    "collapsed": false,
    "pycharm": {
     "name": "#%%\n"
    }
   }
  },
  {
   "cell_type": "code",
   "execution_count": 112,
   "outputs": [],
   "source": [
    "def get_part_template(part_num):\n",
    "    cur_doc_id = doc_ids[part_num]\n",
    "    cur_subfolder = subfolders[part_num]\n",
    "    return url_template.replace(\"!docid!\",cur_doc_id).replace(\"!subfolder!\",cur_subfolder)"
   ],
   "metadata": {
    "collapsed": false,
    "pycharm": {
     "name": "#%%\n"
    }
   }
  },
  {
   "cell_type": "code",
   "execution_count": 113,
   "outputs": [
    {
     "data": {
      "text/plain": "'https://repository.vnu.edu.vn/flowpaper/services/view.php?doc=134177207739917473327464404913044455065&format=jpg&page={pnum}&subfolder=13/41/77/'"
     },
     "execution_count": 113,
     "metadata": {},
     "output_type": "execute_result"
    }
   ],
   "source": [
    "test_template = get_part_template(1)\n",
    "test_template"
   ],
   "metadata": {
    "collapsed": false,
    "pycharm": {
     "name": "#%%\n"
    }
   }
  },
  {
   "cell_type": "code",
   "execution_count": 114,
   "outputs": [],
   "source": [
    "pyperclip.copy(test_template)"
   ],
   "metadata": {
    "collapsed": false,
    "pycharm": {
     "name": "#%%\n"
    }
   }
  },
  {
   "cell_type": "code",
   "execution_count": 159,
   "outputs": [],
   "source": [
    "# Select Part\n",
    "cur_part_num = 3\n",
    "# Select Pages\n",
    "start_pnum = 1\n",
    "end_pnum = page_ranges[cur_part_num]['end']\n",
    "# Create the output path\n",
    "output_path = f\"./viet_cap1p{cur_part_num}/\"\n",
    "if not os.path.isdir(output_path):\n",
    "    os.mkdir(output_path)"
   ],
   "metadata": {
    "collapsed": false,
    "pycharm": {
     "name": "#%%\n"
    }
   }
  },
  {
   "cell_type": "code",
   "execution_count": 160,
   "outputs": [],
   "source": [
    "total_retries = 5"
   ],
   "metadata": {
    "collapsed": false,
    "pycharm": {
     "name": "#%%\n"
    }
   }
  },
  {
   "cell_type": "markdown",
   "source": [
    "Trying to simulate browser headers"
   ],
   "metadata": {
    "collapsed": false,
    "pycharm": {
     "name": "#%% md\n"
    }
   }
  },
  {
   "cell_type": "code",
   "execution_count": 161,
   "outputs": [],
   "source": [
    "ua = \"Mozilla/5.0 (Windows NT 10.0; Win64; x64) AppleWebKit/537.36 (KHTML, like Gecko) Chrome/101.0.4951.54 Safari/537.36\""
   ],
   "metadata": {
    "collapsed": false,
    "pycharm": {
     "name": "#%%\n"
    }
   }
  },
  {
   "cell_type": "code",
   "execution_count": 162,
   "outputs": [],
   "source": [
    "opener = urllib.request.build_opener()\n",
    "opener.addheaders = [('User-agent', ua)]\n",
    "urllib.request.install_opener(opener)"
   ],
   "metadata": {
    "collapsed": false,
    "pycharm": {
     "name": "#%%\n"
    }
   }
  },
  {
   "cell_type": "code",
   "execution_count": 163,
   "outputs": [],
   "source": [
    "def download_image(part, pnum):\n",
    "    cur_template = get_part_template(part)\n",
    "    cur_url = cur_template.format(pnum=pnum)\n",
    "    print(cur_url)\n",
    "    pnum_str = str(pnum).zfill(3)\n",
    "    output_fpath = os.path.join(output_path, f\"{pnum_str}.png\")\n",
    "    attempt_counter = 1\n",
    "    while attempt_counter < total_retries:\n",
    "        try:\n",
    "            print(f\"Attempt #{attempt_counter}\")\n",
    "            urllib.request.urlretrieve(cur_url, output_fpath)\n",
    "            # If success, jump to end of counter\n",
    "            break\n",
    "        except Exception as e:\n",
    "            # Try one more time\n",
    "            attempt_counter = attempt_counter + 1\n",
    "    # If we got to 10 attempts... just give up lol\n",
    "    if attempt_counter == total_retries:\n",
    "        raise Exception(\"Too many failed attempts\")\n"
   ],
   "metadata": {
    "collapsed": false,
    "pycharm": {
     "name": "#%%\n"
    }
   }
  },
  {
   "cell_type": "code",
   "execution_count": 164,
   "outputs": [
    {
     "name": "stdout",
     "output_type": "stream",
     "text": [
      "Downloading page 1 / 73\n",
      "https://repository.vnu.edu.vn/flowpaper/services/view.php?doc=143653898333492141476733199666378696999&format=jpg&page=1&subfolder=14/36/53/\n",
      "Attempt #1\n",
      "Downloading page 2 / 73\n",
      "https://repository.vnu.edu.vn/flowpaper/services/view.php?doc=143653898333492141476733199666378696999&format=jpg&page=2&subfolder=14/36/53/\n",
      "Attempt #1\n",
      "Downloading page 3 / 73\n",
      "https://repository.vnu.edu.vn/flowpaper/services/view.php?doc=143653898333492141476733199666378696999&format=jpg&page=3&subfolder=14/36/53/\n",
      "Attempt #1\n",
      "Downloading page 4 / 73\n",
      "https://repository.vnu.edu.vn/flowpaper/services/view.php?doc=143653898333492141476733199666378696999&format=jpg&page=4&subfolder=14/36/53/\n",
      "Attempt #1\n",
      "Downloading page 5 / 73\n",
      "https://repository.vnu.edu.vn/flowpaper/services/view.php?doc=143653898333492141476733199666378696999&format=jpg&page=5&subfolder=14/36/53/\n",
      "Attempt #1\n",
      "Downloading page 6 / 73\n",
      "https://repository.vnu.edu.vn/flowpaper/services/view.php?doc=143653898333492141476733199666378696999&format=jpg&page=6&subfolder=14/36/53/\n",
      "Attempt #1\n",
      "Downloading page 7 / 73\n",
      "https://repository.vnu.edu.vn/flowpaper/services/view.php?doc=143653898333492141476733199666378696999&format=jpg&page=7&subfolder=14/36/53/\n",
      "Attempt #1\n",
      "Downloading page 8 / 73\n",
      "https://repository.vnu.edu.vn/flowpaper/services/view.php?doc=143653898333492141476733199666378696999&format=jpg&page=8&subfolder=14/36/53/\n",
      "Attempt #1\n",
      "Downloading page 9 / 73\n",
      "https://repository.vnu.edu.vn/flowpaper/services/view.php?doc=143653898333492141476733199666378696999&format=jpg&page=9&subfolder=14/36/53/\n",
      "Attempt #1\n",
      "Downloading page 10 / 73\n",
      "https://repository.vnu.edu.vn/flowpaper/services/view.php?doc=143653898333492141476733199666378696999&format=jpg&page=10&subfolder=14/36/53/\n",
      "Attempt #1\n",
      "Downloading page 11 / 73\n",
      "https://repository.vnu.edu.vn/flowpaper/services/view.php?doc=143653898333492141476733199666378696999&format=jpg&page=11&subfolder=14/36/53/\n",
      "Attempt #1\n",
      "Downloading page 12 / 73\n",
      "https://repository.vnu.edu.vn/flowpaper/services/view.php?doc=143653898333492141476733199666378696999&format=jpg&page=12&subfolder=14/36/53/\n",
      "Attempt #1\n",
      "Downloading page 13 / 73\n",
      "https://repository.vnu.edu.vn/flowpaper/services/view.php?doc=143653898333492141476733199666378696999&format=jpg&page=13&subfolder=14/36/53/\n",
      "Attempt #1\n",
      "Downloading page 14 / 73\n",
      "https://repository.vnu.edu.vn/flowpaper/services/view.php?doc=143653898333492141476733199666378696999&format=jpg&page=14&subfolder=14/36/53/\n",
      "Attempt #1\n",
      "Downloading page 15 / 73\n",
      "https://repository.vnu.edu.vn/flowpaper/services/view.php?doc=143653898333492141476733199666378696999&format=jpg&page=15&subfolder=14/36/53/\n",
      "Attempt #1\n",
      "Downloading page 16 / 73\n",
      "https://repository.vnu.edu.vn/flowpaper/services/view.php?doc=143653898333492141476733199666378696999&format=jpg&page=16&subfolder=14/36/53/\n",
      "Attempt #1\n",
      "Downloading page 17 / 73\n",
      "https://repository.vnu.edu.vn/flowpaper/services/view.php?doc=143653898333492141476733199666378696999&format=jpg&page=17&subfolder=14/36/53/\n",
      "Attempt #1\n",
      "Downloading page 18 / 73\n",
      "https://repository.vnu.edu.vn/flowpaper/services/view.php?doc=143653898333492141476733199666378696999&format=jpg&page=18&subfolder=14/36/53/\n",
      "Attempt #1\n",
      "Downloading page 19 / 73\n",
      "https://repository.vnu.edu.vn/flowpaper/services/view.php?doc=143653898333492141476733199666378696999&format=jpg&page=19&subfolder=14/36/53/\n",
      "Attempt #1\n",
      "Downloading page 20 / 73\n",
      "https://repository.vnu.edu.vn/flowpaper/services/view.php?doc=143653898333492141476733199666378696999&format=jpg&page=20&subfolder=14/36/53/\n",
      "Attempt #1\n",
      "Downloading page 21 / 73\n",
      "https://repository.vnu.edu.vn/flowpaper/services/view.php?doc=143653898333492141476733199666378696999&format=jpg&page=21&subfolder=14/36/53/\n",
      "Attempt #1\n",
      "Downloading page 22 / 73\n",
      "https://repository.vnu.edu.vn/flowpaper/services/view.php?doc=143653898333492141476733199666378696999&format=jpg&page=22&subfolder=14/36/53/\n",
      "Attempt #1\n",
      "Downloading page 23 / 73\n",
      "https://repository.vnu.edu.vn/flowpaper/services/view.php?doc=143653898333492141476733199666378696999&format=jpg&page=23&subfolder=14/36/53/\n",
      "Attempt #1\n",
      "Downloading page 24 / 73\n",
      "https://repository.vnu.edu.vn/flowpaper/services/view.php?doc=143653898333492141476733199666378696999&format=jpg&page=24&subfolder=14/36/53/\n",
      "Attempt #1\n",
      "Downloading page 25 / 73\n",
      "https://repository.vnu.edu.vn/flowpaper/services/view.php?doc=143653898333492141476733199666378696999&format=jpg&page=25&subfolder=14/36/53/\n",
      "Attempt #1\n",
      "Downloading page 26 / 73\n",
      "https://repository.vnu.edu.vn/flowpaper/services/view.php?doc=143653898333492141476733199666378696999&format=jpg&page=26&subfolder=14/36/53/\n",
      "Attempt #1\n",
      "Downloading page 27 / 73\n",
      "https://repository.vnu.edu.vn/flowpaper/services/view.php?doc=143653898333492141476733199666378696999&format=jpg&page=27&subfolder=14/36/53/\n",
      "Attempt #1\n",
      "Downloading page 28 / 73\n",
      "https://repository.vnu.edu.vn/flowpaper/services/view.php?doc=143653898333492141476733199666378696999&format=jpg&page=28&subfolder=14/36/53/\n",
      "Attempt #1\n",
      "Downloading page 29 / 73\n",
      "https://repository.vnu.edu.vn/flowpaper/services/view.php?doc=143653898333492141476733199666378696999&format=jpg&page=29&subfolder=14/36/53/\n",
      "Attempt #1\n",
      "Downloading page 30 / 73\n",
      "https://repository.vnu.edu.vn/flowpaper/services/view.php?doc=143653898333492141476733199666378696999&format=jpg&page=30&subfolder=14/36/53/\n",
      "Attempt #1\n",
      "Downloading page 31 / 73\n",
      "https://repository.vnu.edu.vn/flowpaper/services/view.php?doc=143653898333492141476733199666378696999&format=jpg&page=31&subfolder=14/36/53/\n",
      "Attempt #1\n",
      "Downloading page 32 / 73\n",
      "https://repository.vnu.edu.vn/flowpaper/services/view.php?doc=143653898333492141476733199666378696999&format=jpg&page=32&subfolder=14/36/53/\n",
      "Attempt #1\n",
      "Downloading page 33 / 73\n",
      "https://repository.vnu.edu.vn/flowpaper/services/view.php?doc=143653898333492141476733199666378696999&format=jpg&page=33&subfolder=14/36/53/\n",
      "Attempt #1\n",
      "Downloading page 34 / 73\n",
      "https://repository.vnu.edu.vn/flowpaper/services/view.php?doc=143653898333492141476733199666378696999&format=jpg&page=34&subfolder=14/36/53/\n",
      "Attempt #1\n",
      "Downloading page 35 / 73\n",
      "https://repository.vnu.edu.vn/flowpaper/services/view.php?doc=143653898333492141476733199666378696999&format=jpg&page=35&subfolder=14/36/53/\n",
      "Attempt #1\n",
      "Downloading page 36 / 73\n",
      "https://repository.vnu.edu.vn/flowpaper/services/view.php?doc=143653898333492141476733199666378696999&format=jpg&page=36&subfolder=14/36/53/\n",
      "Attempt #1\n",
      "Downloading page 37 / 73\n",
      "https://repository.vnu.edu.vn/flowpaper/services/view.php?doc=143653898333492141476733199666378696999&format=jpg&page=37&subfolder=14/36/53/\n",
      "Attempt #1\n",
      "Downloading page 38 / 73\n",
      "https://repository.vnu.edu.vn/flowpaper/services/view.php?doc=143653898333492141476733199666378696999&format=jpg&page=38&subfolder=14/36/53/\n",
      "Attempt #1\n",
      "Downloading page 39 / 73\n",
      "https://repository.vnu.edu.vn/flowpaper/services/view.php?doc=143653898333492141476733199666378696999&format=jpg&page=39&subfolder=14/36/53/\n",
      "Attempt #1\n",
      "Downloading page 40 / 73\n",
      "https://repository.vnu.edu.vn/flowpaper/services/view.php?doc=143653898333492141476733199666378696999&format=jpg&page=40&subfolder=14/36/53/\n",
      "Attempt #1\n",
      "Downloading page 41 / 73\n",
      "https://repository.vnu.edu.vn/flowpaper/services/view.php?doc=143653898333492141476733199666378696999&format=jpg&page=41&subfolder=14/36/53/\n",
      "Attempt #1\n",
      "Downloading page 42 / 73\n",
      "https://repository.vnu.edu.vn/flowpaper/services/view.php?doc=143653898333492141476733199666378696999&format=jpg&page=42&subfolder=14/36/53/\n",
      "Attempt #1\n",
      "Downloading page 43 / 73\n",
      "https://repository.vnu.edu.vn/flowpaper/services/view.php?doc=143653898333492141476733199666378696999&format=jpg&page=43&subfolder=14/36/53/\n",
      "Attempt #1\n",
      "Downloading page 44 / 73\n",
      "https://repository.vnu.edu.vn/flowpaper/services/view.php?doc=143653898333492141476733199666378696999&format=jpg&page=44&subfolder=14/36/53/\n",
      "Attempt #1\n",
      "Downloading page 45 / 73\n",
      "https://repository.vnu.edu.vn/flowpaper/services/view.php?doc=143653898333492141476733199666378696999&format=jpg&page=45&subfolder=14/36/53/\n",
      "Attempt #1\n",
      "Downloading page 46 / 73\n",
      "https://repository.vnu.edu.vn/flowpaper/services/view.php?doc=143653898333492141476733199666378696999&format=jpg&page=46&subfolder=14/36/53/\n",
      "Attempt #1\n",
      "Downloading page 47 / 73\n",
      "https://repository.vnu.edu.vn/flowpaper/services/view.php?doc=143653898333492141476733199666378696999&format=jpg&page=47&subfolder=14/36/53/\n",
      "Attempt #1\n",
      "Downloading page 48 / 73\n",
      "https://repository.vnu.edu.vn/flowpaper/services/view.php?doc=143653898333492141476733199666378696999&format=jpg&page=48&subfolder=14/36/53/\n",
      "Attempt #1\n",
      "Downloading page 49 / 73\n",
      "https://repository.vnu.edu.vn/flowpaper/services/view.php?doc=143653898333492141476733199666378696999&format=jpg&page=49&subfolder=14/36/53/\n",
      "Attempt #1\n",
      "Downloading page 50 / 73\n",
      "https://repository.vnu.edu.vn/flowpaper/services/view.php?doc=143653898333492141476733199666378696999&format=jpg&page=50&subfolder=14/36/53/\n",
      "Attempt #1\n",
      "Downloading page 51 / 73\n",
      "https://repository.vnu.edu.vn/flowpaper/services/view.php?doc=143653898333492141476733199666378696999&format=jpg&page=51&subfolder=14/36/53/\n",
      "Attempt #1\n",
      "Downloading page 52 / 73\n",
      "https://repository.vnu.edu.vn/flowpaper/services/view.php?doc=143653898333492141476733199666378696999&format=jpg&page=52&subfolder=14/36/53/\n",
      "Attempt #1\n",
      "Downloading page 53 / 73\n",
      "https://repository.vnu.edu.vn/flowpaper/services/view.php?doc=143653898333492141476733199666378696999&format=jpg&page=53&subfolder=14/36/53/\n",
      "Attempt #1\n",
      "Downloading page 54 / 73\n",
      "https://repository.vnu.edu.vn/flowpaper/services/view.php?doc=143653898333492141476733199666378696999&format=jpg&page=54&subfolder=14/36/53/\n",
      "Attempt #1\n",
      "Downloading page 55 / 73\n",
      "https://repository.vnu.edu.vn/flowpaper/services/view.php?doc=143653898333492141476733199666378696999&format=jpg&page=55&subfolder=14/36/53/\n",
      "Attempt #1\n",
      "Downloading page 56 / 73\n",
      "https://repository.vnu.edu.vn/flowpaper/services/view.php?doc=143653898333492141476733199666378696999&format=jpg&page=56&subfolder=14/36/53/\n",
      "Attempt #1\n",
      "Downloading page 57 / 73\n",
      "https://repository.vnu.edu.vn/flowpaper/services/view.php?doc=143653898333492141476733199666378696999&format=jpg&page=57&subfolder=14/36/53/\n",
      "Attempt #1\n",
      "Downloading page 58 / 73\n",
      "https://repository.vnu.edu.vn/flowpaper/services/view.php?doc=143653898333492141476733199666378696999&format=jpg&page=58&subfolder=14/36/53/\n",
      "Attempt #1\n",
      "Downloading page 59 / 73\n",
      "https://repository.vnu.edu.vn/flowpaper/services/view.php?doc=143653898333492141476733199666378696999&format=jpg&page=59&subfolder=14/36/53/\n",
      "Attempt #1\n",
      "Downloading page 60 / 73\n",
      "https://repository.vnu.edu.vn/flowpaper/services/view.php?doc=143653898333492141476733199666378696999&format=jpg&page=60&subfolder=14/36/53/\n",
      "Attempt #1\n",
      "Downloading page 61 / 73\n",
      "https://repository.vnu.edu.vn/flowpaper/services/view.php?doc=143653898333492141476733199666378696999&format=jpg&page=61&subfolder=14/36/53/\n",
      "Attempt #1\n",
      "Downloading page 62 / 73\n",
      "https://repository.vnu.edu.vn/flowpaper/services/view.php?doc=143653898333492141476733199666378696999&format=jpg&page=62&subfolder=14/36/53/\n",
      "Attempt #1\n",
      "Downloading page 63 / 73\n",
      "https://repository.vnu.edu.vn/flowpaper/services/view.php?doc=143653898333492141476733199666378696999&format=jpg&page=63&subfolder=14/36/53/\n",
      "Attempt #1\n",
      "Downloading page 64 / 73\n",
      "https://repository.vnu.edu.vn/flowpaper/services/view.php?doc=143653898333492141476733199666378696999&format=jpg&page=64&subfolder=14/36/53/\n",
      "Attempt #1\n",
      "Downloading page 65 / 73\n",
      "https://repository.vnu.edu.vn/flowpaper/services/view.php?doc=143653898333492141476733199666378696999&format=jpg&page=65&subfolder=14/36/53/\n",
      "Attempt #1\n",
      "Downloading page 66 / 73\n",
      "https://repository.vnu.edu.vn/flowpaper/services/view.php?doc=143653898333492141476733199666378696999&format=jpg&page=66&subfolder=14/36/53/\n",
      "Attempt #1\n",
      "Downloading page 67 / 73\n",
      "https://repository.vnu.edu.vn/flowpaper/services/view.php?doc=143653898333492141476733199666378696999&format=jpg&page=67&subfolder=14/36/53/\n",
      "Attempt #1\n",
      "Downloading page 68 / 73\n",
      "https://repository.vnu.edu.vn/flowpaper/services/view.php?doc=143653898333492141476733199666378696999&format=jpg&page=68&subfolder=14/36/53/\n",
      "Attempt #1\n",
      "Downloading page 69 / 73\n",
      "https://repository.vnu.edu.vn/flowpaper/services/view.php?doc=143653898333492141476733199666378696999&format=jpg&page=69&subfolder=14/36/53/\n",
      "Attempt #1\n",
      "Downloading page 70 / 73\n",
      "https://repository.vnu.edu.vn/flowpaper/services/view.php?doc=143653898333492141476733199666378696999&format=jpg&page=70&subfolder=14/36/53/\n",
      "Attempt #1\n",
      "Downloading page 71 / 73\n",
      "https://repository.vnu.edu.vn/flowpaper/services/view.php?doc=143653898333492141476733199666378696999&format=jpg&page=71&subfolder=14/36/53/\n",
      "Attempt #1\n",
      "Downloading page 72 / 73\n",
      "https://repository.vnu.edu.vn/flowpaper/services/view.php?doc=143653898333492141476733199666378696999&format=jpg&page=72&subfolder=14/36/53/\n",
      "Attempt #1\n",
      "Downloading page 73 / 73\n",
      "https://repository.vnu.edu.vn/flowpaper/services/view.php?doc=143653898333492141476733199666378696999&format=jpg&page=73&subfolder=14/36/53/\n",
      "Attempt #1\n"
     ]
    }
   ],
   "source": [
    "for i in range(start_pnum, end_pnum+1):\n",
    "    print(f\"Downloading page {i} / {end_pnum}\")\n",
    "    download_image(cur_part_num, i)\n",
    "    time.sleep(random.uniform(0.2,0.35))"
   ],
   "metadata": {
    "collapsed": false,
    "pycharm": {
     "name": "#%%\n"
    }
   }
  },
  {
   "cell_type": "code",
   "execution_count": null,
   "outputs": [],
   "source": [],
   "metadata": {
    "collapsed": false,
    "pycharm": {
     "name": "#%%\n"
    }
   }
  },
  {
   "cell_type": "code",
   "execution_count": null,
   "outputs": [],
   "source": [],
   "metadata": {
    "collapsed": false,
    "pycharm": {
     "name": "#%%\n"
    }
   }
  }
 ],
 "metadata": {
  "kernelspec": {
   "display_name": "Python 3",
   "language": "python",
   "name": "python3"
  },
  "language_info": {
   "codemirror_mode": {
    "name": "ipython",
    "version": 2
   },
   "file_extension": ".py",
   "mimetype": "text/x-python",
   "name": "python",
   "nbconvert_exporter": "python",
   "pygments_lexer": "ipython2",
   "version": "2.7.6"
  }
 },
 "nbformat": 4,
 "nbformat_minor": 0
}