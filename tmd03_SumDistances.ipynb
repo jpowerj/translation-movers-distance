{
 "cells": [
  {
   "cell_type": "code",
   "execution_count": 1,
   "outputs": [],
   "source": [
    "%load_ext autoreload\n",
    "%autoreload 2"
   ],
   "metadata": {
    "collapsed": false,
    "pycharm": {
     "name": "#%%\n"
    }
   }
  },
  {
   "cell_type": "code",
   "execution_count": 2,
   "outputs": [],
   "source": [
    "# This file takes the sentence-level distances produced by 03-compute_wmd.py\n",
    "# and sums them to the chapter and document level (giving chapter- and\n",
    "# document-level Translation Mover's Distance scores)\n",
    "import os\n",
    "\n",
    "import joblib\n",
    "import pandas as pd\n",
    "import numpy as np\n",
    "\n",
    "import trglobals"
   ],
   "metadata": {
    "collapsed": false,
    "pycharm": {
     "name": "#%%\n"
    }
   }
  },
  {
   "cell_type": "code",
   "execution_count": 3,
   "outputs": [],
   "source": [
    "doc1 = \"de_tge\"\n",
    "lang1 = trglobals.get_lang_code(doc1)\n",
    "doc2 = \"el_mod\"\n",
    "lang2 = trglobals.get_lang_code(doc2)\n",
    "alignment_code = trglobals.get_alignment_code(doc1, doc2)"
   ],
   "metadata": {
    "collapsed": false,
    "pycharm": {
     "name": "#%%\n"
    }
   }
  },
  {
   "cell_type": "code",
   "execution_count": 4,
   "outputs": [],
   "source": [
    "# Load the TMDs\n",
    "ch_scores = []\n",
    "ch_data_path = trglobals.get_data_path(alignment_code)\n",
    "pkl_fpath = os.path.join(ch_data_path, \"full.pkl\")\n",
    "score_df = joblib.load(pkl_fpath)"
   ],
   "metadata": {
    "collapsed": false,
    "pycharm": {
     "name": "#%%\n"
    }
   }
  },
  {
   "cell_type": "code",
   "execution_count": 5,
   "outputs": [
    {
     "data": {
      "text/plain": "                                                    de  \\\n0                                                  NaN   \n1    ERSTES KAPITEL Die Ware 1. Die zwei Faktoren d...   \n2    Unsere Untersuchung beginnt daher mit der Anal...   \n3    Die Ware ist zunachst ein ausserer Gegenstand,...   \n4    Die Natur dieser Bedurfnisse, ob sie z.B. dem ...   \n..                                                 ...   \n110  Die grosse Republik hat also aufgehort, das ge...   \n111  Die kapitalistische Produktion geht dort mit R...   \n112  Die von Wakefield selbst so laut denunzierte, ...   \n113  Jedoch beschaftigt uns hier nicht der Zustand ...   \n114  Was uns allein interessiert, ist das in der ne...   \n\n                                                    el  \\\n0                                      ΤΟ ΕΜΠΟΡΕΥΜΑ 1.   \n1    ΟΙ ΔΥΟ ΠΑΡΑΓΟΝΤΕΣ ΤΟΥ ΕΜΠΟΡΕΥΜΑΤΟΣ: ΑΞΙΑ ΧΡΗΣΗ...   \n2    Γιαυτό, ή Ερευνά μας αρχίζει μέ την άνάλυση το...   \n3    Τό έμπόρευμα είναι πριν άπ’ όλα ένα εξωτερικό ...   \n4    Ή φύση αυτών τών αναγκών, άν λχ. προέρχονται ά...   \n..                                                 ...   \n110  “Ετσι ή μεγάλη δημοκρατία έπαψε νά είναι ή γή ...   \n111  Ή κεφαλαιοκρατική παραγωγή προχωρεί έκεΐ μέ γι...   \n112  Τό έπαίσχυντο ξεπούλημα σέ έξευτελιστικές τιμέ...   \n113  Ωστόσο τό θέμα πού μάς άπασχολεΐ έδώ δέν είναι...   \n114  Τό μόνο πού μάς ένδιαφέρει έδώ είναι τό μυστικ...   \n\n                            alignment_id chapter       tmd  \n0    ch01_clean.de_tge-ch01_clean.el_mod    ch15       inf  \n1    ch01_clean.de_tge-ch01_clean.el_mod    ch15  0.963290  \n2    ch01_clean.de_tge-ch01_clean.el_mod    ch15  1.214450  \n3    ch01_clean.de_tge-ch01_clean.el_mod    ch15  1.084576  \n4    ch01_clean.de_tge-ch01_clean.el_mod    ch15  0.960944  \n..                                   ...     ...       ...  \n110  ch33_clean.de_tge-ch33_clean.el_mod    ch15  1.134638  \n111  ch33_clean.de_tge-ch33_clean.el_mod    ch15  1.125233  \n112  ch33_clean.de_tge-ch33_clean.el_mod    ch15  1.096947  \n113  ch33_clean.de_tge-ch33_clean.el_mod    ch15  1.027426  \n114  ch33_clean.de_tge-ch33_clean.el_mod    ch15  1.114969  \n\n[10608 rows x 5 columns]",
      "text/html": "<div>\n<style scoped>\n    .dataframe tbody tr th:only-of-type {\n        vertical-align: middle;\n    }\n\n    .dataframe tbody tr th {\n        vertical-align: top;\n    }\n\n    .dataframe thead th {\n        text-align: right;\n    }\n</style>\n<table border=\"1\" class=\"dataframe\">\n  <thead>\n    <tr style=\"text-align: right;\">\n      <th></th>\n      <th>de</th>\n      <th>el</th>\n      <th>alignment_id</th>\n      <th>chapter</th>\n      <th>tmd</th>\n    </tr>\n  </thead>\n  <tbody>\n    <tr>\n      <th>0</th>\n      <td>NaN</td>\n      <td>ΤΟ ΕΜΠΟΡΕΥΜΑ 1.</td>\n      <td>ch01_clean.de_tge-ch01_clean.el_mod</td>\n      <td>ch15</td>\n      <td>inf</td>\n    </tr>\n    <tr>\n      <th>1</th>\n      <td>ERSTES KAPITEL Die Ware 1. Die zwei Faktoren d...</td>\n      <td>ΟΙ ΔΥΟ ΠΑΡΑΓΟΝΤΕΣ ΤΟΥ ΕΜΠΟΡΕΥΜΑΤΟΣ: ΑΞΙΑ ΧΡΗΣΗ...</td>\n      <td>ch01_clean.de_tge-ch01_clean.el_mod</td>\n      <td>ch15</td>\n      <td>0.963290</td>\n    </tr>\n    <tr>\n      <th>2</th>\n      <td>Unsere Untersuchung beginnt daher mit der Anal...</td>\n      <td>Γιαυτό, ή Ερευνά μας αρχίζει μέ την άνάλυση το...</td>\n      <td>ch01_clean.de_tge-ch01_clean.el_mod</td>\n      <td>ch15</td>\n      <td>1.214450</td>\n    </tr>\n    <tr>\n      <th>3</th>\n      <td>Die Ware ist zunachst ein ausserer Gegenstand,...</td>\n      <td>Τό έμπόρευμα είναι πριν άπ’ όλα ένα εξωτερικό ...</td>\n      <td>ch01_clean.de_tge-ch01_clean.el_mod</td>\n      <td>ch15</td>\n      <td>1.084576</td>\n    </tr>\n    <tr>\n      <th>4</th>\n      <td>Die Natur dieser Bedurfnisse, ob sie z.B. dem ...</td>\n      <td>Ή φύση αυτών τών αναγκών, άν λχ. προέρχονται ά...</td>\n      <td>ch01_clean.de_tge-ch01_clean.el_mod</td>\n      <td>ch15</td>\n      <td>0.960944</td>\n    </tr>\n    <tr>\n      <th>...</th>\n      <td>...</td>\n      <td>...</td>\n      <td>...</td>\n      <td>...</td>\n      <td>...</td>\n    </tr>\n    <tr>\n      <th>110</th>\n      <td>Die grosse Republik hat also aufgehort, das ge...</td>\n      <td>“Ετσι ή μεγάλη δημοκρατία έπαψε νά είναι ή γή ...</td>\n      <td>ch33_clean.de_tge-ch33_clean.el_mod</td>\n      <td>ch15</td>\n      <td>1.134638</td>\n    </tr>\n    <tr>\n      <th>111</th>\n      <td>Die kapitalistische Produktion geht dort mit R...</td>\n      <td>Ή κεφαλαιοκρατική παραγωγή προχωρεί έκεΐ μέ γι...</td>\n      <td>ch33_clean.de_tge-ch33_clean.el_mod</td>\n      <td>ch15</td>\n      <td>1.125233</td>\n    </tr>\n    <tr>\n      <th>112</th>\n      <td>Die von Wakefield selbst so laut denunzierte, ...</td>\n      <td>Τό έπαίσχυντο ξεπούλημα σέ έξευτελιστικές τιμέ...</td>\n      <td>ch33_clean.de_tge-ch33_clean.el_mod</td>\n      <td>ch15</td>\n      <td>1.096947</td>\n    </tr>\n    <tr>\n      <th>113</th>\n      <td>Jedoch beschaftigt uns hier nicht der Zustand ...</td>\n      <td>Ωστόσο τό θέμα πού μάς άπασχολεΐ έδώ δέν είναι...</td>\n      <td>ch33_clean.de_tge-ch33_clean.el_mod</td>\n      <td>ch15</td>\n      <td>1.027426</td>\n    </tr>\n    <tr>\n      <th>114</th>\n      <td>Was uns allein interessiert, ist das in der ne...</td>\n      <td>Τό μόνο πού μάς ένδιαφέρει έδώ είναι τό μυστικ...</td>\n      <td>ch33_clean.de_tge-ch33_clean.el_mod</td>\n      <td>ch15</td>\n      <td>1.114969</td>\n    </tr>\n  </tbody>\n</table>\n<p>10608 rows × 5 columns</p>\n</div>"
     },
     "execution_count": 5,
     "metadata": {},
     "output_type": "execute_result"
    }
   ],
   "source": [
    "score_df"
   ],
   "metadata": {
    "collapsed": false,
    "pycharm": {
     "name": "#%%\n"
    }
   }
  },
  {
   "cell_type": "code",
   "execution_count": 9,
   "outputs": [
    {
     "data": {
      "text/plain": "                                                    de  \\\n0                                                  NaN   \n8                                                  NaN   \n9                                                  NaN   \n11   So die Findung gesellschaftlicher Masse fur di...   \n12                                                 NaN   \n..                                                 ...   \n73                            Man begreife den Greuel!   \n83   Wakefield erzahlt eine ausserst schmerzensreic...   \n86                                                 NaN   \n99                                                 NaN   \n103                                                NaN   \n\n                                                    el  \\\n0                                      ΤΟ ΕΜΠΟΡΕΥΜΑ 1.   \n8    Είναι έργο τής ιστορίας ν’ ανακαλύψει αυτές τί...   \n9    Τό ίδιο ισχύει καί γιά τήν άνακάλυψη τών κοινω...   \n11   Βετίίη 1859, 5.3 (Κάρλ Μάρξ: \\\\\\\\\\\"Κριτική τής...   \n12                                 Βερολίνο 1859, σελ.   \n..                                                 ...   \n73                         Γιά φανταστείτε, τί φρίκη !   \n83                         Στίς αποικιακές χώρες δμως!   \n86   «Τό κεφάλαιό μας—λέει αναστενάζοντας ένα άπό τ...   \n99   «Σύμφωνα μ’ αύτό τό σχέδιο—αναφωνεί ό Ούέκφηλν...   \n103  Αύτή ή «έπαρκής τιμή τής γής» δέν εΐναι παρά ε...   \n\n                            alignment_id chapter  tmd  \n0    ch01_clean.de_tge-ch01_clean.el_mod    ch15  inf  \n8    ch01_clean.de_tge-ch01_clean.el_mod    ch15  inf  \n9    ch01_clean.de_tge-ch01_clean.el_mod    ch15  inf  \n11   ch01_clean.de_tge-ch01_clean.el_mod    ch15  inf  \n12   ch01_clean.de_tge-ch01_clean.el_mod    ch15  inf  \n..                                   ...     ...  ...  \n73   ch33_clean.de_tge-ch33_clean.el_mod    ch15  inf  \n83   ch33_clean.de_tge-ch33_clean.el_mod    ch15  inf  \n86   ch33_clean.de_tge-ch33_clean.el_mod    ch15  inf  \n99   ch33_clean.de_tge-ch33_clean.el_mod    ch15  inf  \n103  ch33_clean.de_tge-ch33_clean.el_mod    ch15  inf  \n\n[3198 rows x 5 columns]",
      "text/html": "<div>\n<style scoped>\n    .dataframe tbody tr th:only-of-type {\n        vertical-align: middle;\n    }\n\n    .dataframe tbody tr th {\n        vertical-align: top;\n    }\n\n    .dataframe thead th {\n        text-align: right;\n    }\n</style>\n<table border=\"1\" class=\"dataframe\">\n  <thead>\n    <tr style=\"text-align: right;\">\n      <th></th>\n      <th>de</th>\n      <th>el</th>\n      <th>alignment_id</th>\n      <th>chapter</th>\n      <th>tmd</th>\n    </tr>\n  </thead>\n  <tbody>\n    <tr>\n      <th>0</th>\n      <td>NaN</td>\n      <td>ΤΟ ΕΜΠΟΡΕΥΜΑ 1.</td>\n      <td>ch01_clean.de_tge-ch01_clean.el_mod</td>\n      <td>ch15</td>\n      <td>inf</td>\n    </tr>\n    <tr>\n      <th>8</th>\n      <td>NaN</td>\n      <td>Είναι έργο τής ιστορίας ν’ ανακαλύψει αυτές τί...</td>\n      <td>ch01_clean.de_tge-ch01_clean.el_mod</td>\n      <td>ch15</td>\n      <td>inf</td>\n    </tr>\n    <tr>\n      <th>9</th>\n      <td>NaN</td>\n      <td>Τό ίδιο ισχύει καί γιά τήν άνακάλυψη τών κοινω...</td>\n      <td>ch01_clean.de_tge-ch01_clean.el_mod</td>\n      <td>ch15</td>\n      <td>inf</td>\n    </tr>\n    <tr>\n      <th>11</th>\n      <td>So die Findung gesellschaftlicher Masse fur di...</td>\n      <td>Βετίίη 1859, 5.3 (Κάρλ Μάρξ: \\\\\\\\\\\"Κριτική τής...</td>\n      <td>ch01_clean.de_tge-ch01_clean.el_mod</td>\n      <td>ch15</td>\n      <td>inf</td>\n    </tr>\n    <tr>\n      <th>12</th>\n      <td>NaN</td>\n      <td>Βερολίνο 1859, σελ.</td>\n      <td>ch01_clean.de_tge-ch01_clean.el_mod</td>\n      <td>ch15</td>\n      <td>inf</td>\n    </tr>\n    <tr>\n      <th>...</th>\n      <td>...</td>\n      <td>...</td>\n      <td>...</td>\n      <td>...</td>\n      <td>...</td>\n    </tr>\n    <tr>\n      <th>73</th>\n      <td>Man begreife den Greuel!</td>\n      <td>Γιά φανταστείτε, τί φρίκη !</td>\n      <td>ch33_clean.de_tge-ch33_clean.el_mod</td>\n      <td>ch15</td>\n      <td>inf</td>\n    </tr>\n    <tr>\n      <th>83</th>\n      <td>Wakefield erzahlt eine ausserst schmerzensreic...</td>\n      <td>Στίς αποικιακές χώρες δμως!</td>\n      <td>ch33_clean.de_tge-ch33_clean.el_mod</td>\n      <td>ch15</td>\n      <td>inf</td>\n    </tr>\n    <tr>\n      <th>86</th>\n      <td>NaN</td>\n      <td>«Τό κεφάλαιό μας—λέει αναστενάζοντας ένα άπό τ...</td>\n      <td>ch33_clean.de_tge-ch33_clean.el_mod</td>\n      <td>ch15</td>\n      <td>inf</td>\n    </tr>\n    <tr>\n      <th>99</th>\n      <td>NaN</td>\n      <td>«Σύμφωνα μ’ αύτό τό σχέδιο—αναφωνεί ό Ούέκφηλν...</td>\n      <td>ch33_clean.de_tge-ch33_clean.el_mod</td>\n      <td>ch15</td>\n      <td>inf</td>\n    </tr>\n    <tr>\n      <th>103</th>\n      <td>NaN</td>\n      <td>Αύτή ή «έπαρκής τιμή τής γής» δέν εΐναι παρά ε...</td>\n      <td>ch33_clean.de_tge-ch33_clean.el_mod</td>\n      <td>ch15</td>\n      <td>inf</td>\n    </tr>\n  </tbody>\n</table>\n<p>3198 rows × 5 columns</p>\n</div>"
     },
     "execution_count": 9,
     "metadata": {},
     "output_type": "execute_result"
    }
   ],
   "source": [
    "score_df[score_df['tmd'] == np.inf]"
   ],
   "metadata": {
    "collapsed": false,
    "pycharm": {
     "name": "#%%\n"
    }
   }
  },
  {
   "cell_type": "code",
   "execution_count": 11,
   "outputs": [],
   "source": [
    "# First, we get the (non-inf) mean for each chapter\n",
    "ch_means = score_df[score_df['tmd'] != np.inf].groupby(\"chapter\").mean()\n",
    "mean_map = ch_means.to_dict()['tmd']"
   ],
   "metadata": {
    "collapsed": false,
    "pycharm": {
     "name": "#%%\n"
    }
   }
  },
  {
   "cell_type": "code",
   "execution_count": 12,
   "outputs": [
    {
     "data": {
      "text/plain": "              tmd\nchapter          \nch15     1.166985",
      "text/html": "<div>\n<style scoped>\n    .dataframe tbody tr th:only-of-type {\n        vertical-align: middle;\n    }\n\n    .dataframe tbody tr th {\n        vertical-align: top;\n    }\n\n    .dataframe thead th {\n        text-align: right;\n    }\n</style>\n<table border=\"1\" class=\"dataframe\">\n  <thead>\n    <tr style=\"text-align: right;\">\n      <th></th>\n      <th>tmd</th>\n    </tr>\n    <tr>\n      <th>chapter</th>\n      <th></th>\n    </tr>\n  </thead>\n  <tbody>\n    <tr>\n      <th>ch15</th>\n      <td>1.166985</td>\n    </tr>\n  </tbody>\n</table>\n</div>"
     },
     "execution_count": 12,
     "metadata": {},
     "output_type": "execute_result"
    }
   ],
   "source": [
    "ch_means"
   ],
   "metadata": {
    "collapsed": false,
    "pycharm": {
     "name": "#%%\n"
    }
   }
  },
  {
   "cell_type": "code",
   "execution_count": 13,
   "outputs": [
    {
     "data": {
      "text/plain": "{'ch15': 1.1669852750570169}"
     },
     "execution_count": 13,
     "metadata": {},
     "output_type": "execute_result"
    }
   ],
   "source": [
    "mean_map"
   ],
   "metadata": {
    "collapsed": false,
    "pycharm": {
     "name": "#%%\n"
    }
   }
  },
  {
   "cell_type": "code",
   "execution_count": 14,
   "outputs": [],
   "source": [
    "def replace_infs(row):\n",
    "    ch_name = row['chapter']\n",
    "    ch_tmd = row['tmd']\n",
    "    if ch_tmd == np.inf:\n",
    "        return mean_map[ch_name]\n",
    "    else:\n",
    "        return ch_tmd"
   ],
   "metadata": {
    "collapsed": false,
    "pycharm": {
     "name": "#%%\n"
    }
   }
  },
  {
   "cell_type": "code",
   "execution_count": 16,
   "outputs": [],
   "source": [
    "score_df['tmd'] = score_df.apply(replace_infs, axis=1)"
   ],
   "metadata": {
    "collapsed": false,
    "pycharm": {
     "name": "#%%\n"
    }
   }
  },
  {
   "cell_type": "code",
   "execution_count": 17,
   "outputs": [
    {
     "data": {
      "text/plain": "Empty DataFrame\nColumns: [de, el, alignment_id, chapter, tmd, wmd]\nIndex: []",
      "text/html": "<div>\n<style scoped>\n    .dataframe tbody tr th:only-of-type {\n        vertical-align: middle;\n    }\n\n    .dataframe tbody tr th {\n        vertical-align: top;\n    }\n\n    .dataframe thead th {\n        text-align: right;\n    }\n</style>\n<table border=\"1\" class=\"dataframe\">\n  <thead>\n    <tr style=\"text-align: right;\">\n      <th></th>\n      <th>de</th>\n      <th>el</th>\n      <th>alignment_id</th>\n      <th>chapter</th>\n      <th>tmd</th>\n      <th>wmd</th>\n    </tr>\n  </thead>\n  <tbody>\n  </tbody>\n</table>\n</div>"
     },
     "execution_count": 17,
     "metadata": {},
     "output_type": "execute_result"
    }
   ],
   "source": [
    "score_df[score_df['tmd'] == np.inf]"
   ],
   "metadata": {
    "collapsed": false,
    "pycharm": {
     "name": "#%%\n"
    }
   }
  },
  {
   "cell_type": "code",
   "execution_count": 18,
   "outputs": [],
   "source": [
    "# Cool, no infs. Now we can compute means by chapter"
   ],
   "metadata": {
    "collapsed": false,
    "pycharm": {
     "name": "#%%\n"
    }
   }
  },
  {
   "cell_type": "code",
   "execution_count": 19,
   "outputs": [],
   "source": [
    "score_df['sent_count'] = 1"
   ],
   "metadata": {
    "collapsed": false,
    "pycharm": {
     "name": "#%%\n"
    }
   }
  },
  {
   "cell_type": "code",
   "execution_count": 20,
   "outputs": [],
   "source": [
    "ch_sums = score_df.groupby('chapter').sum()"
   ],
   "metadata": {
    "collapsed": false,
    "pycharm": {
     "name": "#%%\n"
    }
   }
  },
  {
   "cell_type": "code",
   "execution_count": 21,
   "outputs": [
    {
     "data": {
      "text/plain": "                  tmd           wmd  sent_count\nchapter                                        \nch15     12379.379798  12379.379798       10608",
      "text/html": "<div>\n<style scoped>\n    .dataframe tbody tr th:only-of-type {\n        vertical-align: middle;\n    }\n\n    .dataframe tbody tr th {\n        vertical-align: top;\n    }\n\n    .dataframe thead th {\n        text-align: right;\n    }\n</style>\n<table border=\"1\" class=\"dataframe\">\n  <thead>\n    <tr style=\"text-align: right;\">\n      <th></th>\n      <th>tmd</th>\n      <th>wmd</th>\n      <th>sent_count</th>\n    </tr>\n    <tr>\n      <th>chapter</th>\n      <th></th>\n      <th></th>\n      <th></th>\n    </tr>\n  </thead>\n  <tbody>\n    <tr>\n      <th>ch15</th>\n      <td>12379.379798</td>\n      <td>12379.379798</td>\n      <td>10608</td>\n    </tr>\n  </tbody>\n</table>\n</div>"
     },
     "execution_count": 21,
     "metadata": {},
     "output_type": "execute_result"
    }
   ],
   "source": [
    "ch_sums"
   ],
   "metadata": {
    "collapsed": false,
    "pycharm": {
     "name": "#%%\n"
    }
   }
  },
  {
   "cell_type": "code",
   "execution_count": 22,
   "outputs": [],
   "source": [
    "ch_sums['mean'] = ch_sums['tmd'] / ch_sums['sent_count']"
   ],
   "metadata": {
    "collapsed": false,
    "pycharm": {
     "name": "#%%\n"
    }
   }
  },
  {
   "cell_type": "code",
   "execution_count": 23,
   "outputs": [
    {
     "data": {
      "text/plain": "                  tmd           wmd  sent_count      mean\nchapter                                                  \nch15     12379.379798  12379.379798       10608  1.166985",
      "text/html": "<div>\n<style scoped>\n    .dataframe tbody tr th:only-of-type {\n        vertical-align: middle;\n    }\n\n    .dataframe tbody tr th {\n        vertical-align: top;\n    }\n\n    .dataframe thead th {\n        text-align: right;\n    }\n</style>\n<table border=\"1\" class=\"dataframe\">\n  <thead>\n    <tr style=\"text-align: right;\">\n      <th></th>\n      <th>tmd</th>\n      <th>wmd</th>\n      <th>sent_count</th>\n      <th>mean</th>\n    </tr>\n    <tr>\n      <th>chapter</th>\n      <th></th>\n      <th></th>\n      <th></th>\n      <th></th>\n    </tr>\n  </thead>\n  <tbody>\n    <tr>\n      <th>ch15</th>\n      <td>12379.379798</td>\n      <td>12379.379798</td>\n      <td>10608</td>\n      <td>1.166985</td>\n    </tr>\n  </tbody>\n</table>\n</div>"
     },
     "execution_count": 23,
     "metadata": {},
     "output_type": "execute_result"
    }
   ],
   "source": [
    "ch_sums"
   ],
   "metadata": {
    "collapsed": false,
    "pycharm": {
     "name": "#%%\n"
    }
   }
  },
  {
   "cell_type": "code",
   "execution_count": 24,
   "outputs": [
    {
     "name": "stdout",
     "output_type": "stream",
     "text": [
      "Saved to ..\\Texts_Output\\de_tge.el_mod.csv\n"
     ]
    }
   ],
   "source": [
    "sums_fpath = os.path.join(trglobals.output_path, f\"{alignment_code}.pkl\")\n",
    "ch_sums.to_pickle(sums_fpath)\n",
    "# And in .csv format\n",
    "csv_fpath = sums_fpath.replace(\".pkl\",\".csv\")\n",
    "ch_sums.to_csv(csv_fpath)\n",
    "print(f\"Saved to {csv_fpath}\")"
   ],
   "metadata": {
    "collapsed": false,
    "pycharm": {
     "name": "#%%\n"
    }
   }
  },
  {
   "cell_type": "code",
   "execution_count": 8,
   "outputs": [],
   "source": [],
   "metadata": {
    "collapsed": false,
    "pycharm": {
     "name": "#%%\n"
    }
   }
  },
  {
   "cell_type": "code",
   "execution_count": 54,
   "outputs": [],
   "source": [],
   "metadata": {
    "collapsed": false,
    "pycharm": {
     "name": "#%%\n"
    }
   }
  },
  {
   "cell_type": "code",
   "execution_count": 54,
   "outputs": [],
   "source": [],
   "metadata": {
    "collapsed": false,
    "pycharm": {
     "name": "#%%\n"
    }
   }
  },
  {
   "cell_type": "code",
   "execution_count": null,
   "outputs": [],
   "source": [],
   "metadata": {
    "collapsed": false,
    "pycharm": {
     "name": "#%%\n"
    }
   }
  }
 ],
 "metadata": {
  "kernelspec": {
   "display_name": "Python 3",
   "language": "python",
   "name": "python3"
  },
  "language_info": {
   "codemirror_mode": {
    "name": "ipython",
    "version": 2
   },
   "file_extension": ".py",
   "mimetype": "text/x-python",
   "name": "python",
   "nbconvert_exporter": "python",
   "pygments_lexer": "ipython2",
   "version": "2.7.6"
  }
 },
 "nbformat": 4,
 "nbformat_minor": 0
}